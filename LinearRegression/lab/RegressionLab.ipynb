{
 "cells": [
  {
   "cell_type": "markdown",
   "metadata": {},
   "source": [
    "## Lab for Linear Regression"
   ]
  },
  {
   "cell_type": "markdown",
   "metadata": {},
   "source": [
    "### Linear Algebra in Python/Numpy\n",
    "\n",
    "In this lab we will use:\n",
    "- the `numpy` linear algebra package for computations\n",
    "- the `bokeh` plotting package for graphics\n",
    "\n",
    "The next cell loads these libraries."
   ]
  },
  {
   "cell_type": "code",
   "execution_count": null,
   "metadata": {},
   "outputs": [],
   "source": [
    "import numpy as np\n",
    "from bokeh.plotting import figure\n",
    "from bokeh.io import show, output_notebook\n",
    "output_notebook()"
   ]
  },
  {
   "cell_type": "markdown",
   "metadata": {},
   "source": [
    "### Distance to a moving object (simulated data)"
   ]
  },
  {
   "cell_type": "markdown",
   "metadata": {},
   "source": [
    "We will begin by looking at Figures 1 and 2 in the [Linear Regression](../notes/main.pdf) notes.\n",
    "\n",
    "In Figure 1 we began with simulated data that represents the distance from an observer to a a moving object. \n",
    "We will generate that data.  The observations occur at times $0, 1, 2, \\ldots, 9$.  "
   ]
  },
  {
   "cell_type": "code",
   "execution_count": null,
   "metadata": {},
   "outputs": [],
   "source": [
    "# Create a 1-d numpy array containing 0,1,...,9 \n",
    "x = np.array(range(10))"
   ]
  },
  {
   "cell_type": "markdown",
   "metadata": {},
   "source": [
    "Let's suppose that the true velocity of the object is $15$ m/s and the initial distance to the object is $150$ m.  Then\n",
    "the object's position is given by $d=150-15x$ where $x$ is time.  However, when we measure the distance, there is a random error\n",
    "of between $-10$ and $10$ meters. The function `np.random.uniform` returns uniformly distributed random numbers within a given range."
   ]
  },
  {
   "cell_type": "code",
   "execution_count": null,
   "metadata": {},
   "outputs": [],
   "source": [
    "y = 150-15*x+np.random.uniform(-10,10,size=x.shape[0])"
   ]
  },
  {
   "cell_type": "markdown",
   "metadata": {},
   "source": [
    "We will plot the data points $(x,y)$."
   ]
  },
  {
   "cell_type": "code",
   "execution_count": null,
   "metadata": {},
   "outputs": [],
   "source": [
    "f=figure(width=400,height=400,title='Measured Distance to Moving Object')\n",
    "f.scatter(x=x,y=y)\n",
    "f.xaxis.axis_label='time'\n",
    "f.yaxis.axis_label='distance (m)'\n",
    "show(f)"
   ]
  },
  {
   "cell_type": "markdown",
   "metadata": {},
   "source": [
    "The points are roughly on a line, but not exactly, due to the error.  The\n",
    "data matrix $X$ for this problem consists of two columns, one of which is $0,1,2,\\ldots, 9$ and the other\n",
    "is $1,1,1,1,\\ldots$. (See section 1.3 in the notes).\n",
    "\n",
    "We make this by:\n",
    "- converting x to a column vector\n",
    "- creating a column vector of 1's\n",
    "- concatenating these"
   ]
  },
  {
   "cell_type": "code",
   "execution_count": null,
   "metadata": {},
   "outputs": [],
   "source": [
    "X=np.concatenate([x.reshape(-1,1),np.ones(shape=(x.shape[0],1))],axis=1)"
   ]
  },
  {
   "cell_type": "code",
   "execution_count": null,
   "metadata": {},
   "outputs": [],
   "source": [
    "X"
   ]
  },
  {
   "cell_type": "markdown",
   "metadata": {},
   "source": [
    "The Y vector is our vector of measurements, except we need to make it a column vector."
   ]
  },
  {
   "cell_type": "code",
   "execution_count": null,
   "metadata": {},
   "outputs": [],
   "source": [
    "Y = y.reshape(-1,1)"
   ]
  },
  {
   "cell_type": "code",
   "execution_count": null,
   "metadata": {},
   "outputs": [],
   "source": [
    "Y"
   ]
  },
  {
   "cell_type": "markdown",
   "metadata": {},
   "source": [
    "Now we will use the formulae in equations (7) and (8) from the notes t compute the least squares line.\n"
   ]
  },
  {
   "cell_type": "code",
   "execution_count": null,
   "metadata": {},
   "outputs": [],
   "source": [
    "D = np.dot(X.transpose(),X)"
   ]
  },
  {
   "cell_type": "markdown",
   "metadata": {},
   "source": [
    "The matrix $M$ contains the slope and intercept of our least squares line."
   ]
  },
  {
   "cell_type": "code",
   "execution_count": null,
   "metadata": {},
   "outputs": [],
   "source": [
    "M = np.dot(np.linalg.inv(D),np.dot(X.transpose(), Y))\n",
    "print('Slope is {}, Intercept is {}'.format(M[0,0],M[1,0]))"
   ]
  },
  {
   "cell_type": "markdown",
   "metadata": {},
   "source": [
    "The predicted values of $Y$ are given by equation (8)."
   ]
  },
  {
   "cell_type": "code",
   "execution_count": null,
   "metadata": {},
   "outputs": [],
   "source": [
    "Yhat = np.dot(np.dot(np.dot(X,np.linalg.inv(D)),X.transpose()),Y)"
   ]
  },
  {
   "cell_type": "markdown",
   "metadata": {},
   "source": [
    "Let's add these predicted values to our plot for comparison.  Notice that the green\n",
    "dots lie along the regression line."
   ]
  },
  {
   "cell_type": "code",
   "execution_count": null,
   "metadata": {},
   "outputs": [],
   "source": [
    "f.scatter(x=x,y=Yhat[:,0],color='green')\n",
    "show(f)"
   ]
  },
  {
   "cell_type": "markdown",
   "metadata": {},
   "source": [
    "We can connect the dots to see the line of best fit."
   ]
  },
  {
   "cell_type": "code",
   "execution_count": null,
   "metadata": {},
   "outputs": [],
   "source": [
    "f.line(x=x,y=Yhat[:,0],color='green')\n",
    "show(f)"
   ]
  },
  {
   "cell_type": "markdown",
   "metadata": {},
   "source": [
    "### The MPG Data"
   ]
  },
  {
   "cell_type": "markdown",
   "metadata": {},
   "source": [
    "Figure 2 in the notes shows data relating engine size to mileage for a group of cars.  Your task is to reproduce the graph\n",
    "show in the figure."
   ]
  },
  {
   "cell_type": "markdown",
   "metadata": {},
   "source": [
    "#### Step 1.  Load the data\n",
    "\n",
    "The mileage data is in a comma separated file (csv) called `../data/auto-mpg/auto-mpg.csv`  The command `np.genfromtxt`\n",
    "can be used to read in an array like this.  You can examine the file by using the jupyter file browser and double clicking on the file name.  You will see that:\n",
    "- the first row is a header\n",
    "- the last column is the type of car, which is a string; numpy can't handle that so it will set them to nan meaning 'not a number'\n",
    "- mpg is column zero\n",
    "- displacement is column 2"
   ]
  },
  {
   "cell_type": "code",
   "execution_count": null,
   "metadata": {},
   "outputs": [],
   "source": [
    "data = np.genfromtxt('../data/auto-mpg/auto-mpg.csv',delimiter=',',skip_header=1)\n",
    "data"
   ]
  },
  {
   "cell_type": "markdown",
   "metadata": {},
   "source": [
    "Now your job is to complete the code below, following the work we did above, so that you:\n",
    "- Create  variable $x$ that is just column 2 (displacement) of the data matrix \n",
    "- create variable $Y$ that is just column 0 (mpg) of the data matrix \n",
    "- Plot $x$ and $Y$ as a scatter plot.\n",
    "- Create a matrix whose first column is $x$ and whose second column is all $1$.\n",
    "- Compute the matrix $D=X^{\\intercal}X$\n",
    "- Find $M=D^{-1}X^{\\intercal}Y$\n",
    "- Find $Yhat= XD^{-1}X^{\\intercal}Y$\n",
    "- Plot $Yhat$ and the predicted line."
   ]
  },
  {
   "cell_type": "code",
   "execution_count": null,
   "metadata": {},
   "outputs": [],
   "source": [
    "#x=data[]\n",
    "#Y=data[]\n",
    "#f = figure()\n",
    "#f.scatter()\n",
    "#show(f)\n"
   ]
  },
  {
   "cell_type": "code",
   "execution_count": null,
   "metadata": {},
   "outputs": [],
   "source": [
    "\n",
    "#X = np.concatenate([],axis=1)\n",
    "#D = np.dot(...)\n",
    "#M = np.dot(...)\n",
    "#Yhat = ...\n",
    "#f.scatter(...,color='green')\n",
    "#f.line(...,color='green')\n",
    "#show(f)"
   ]
  },
  {
   "cell_type": "code",
   "execution_count": null,
   "metadata": {},
   "outputs": [],
   "source": []
  }
 ],
 "metadata": {
  "kernelspec": {
   "display_name": "Python 3",
   "language": "python",
   "name": "python3"
  },
  "language_info": {
   "codemirror_mode": {
    "name": "ipython",
    "version": 3
   },
   "file_extension": ".py",
   "mimetype": "text/x-python",
   "name": "python",
   "nbconvert_exporter": "python",
   "pygments_lexer": "ipython3",
   "version": "3.7.6"
  }
 },
 "nbformat": 4,
 "nbformat_minor": 4
}
