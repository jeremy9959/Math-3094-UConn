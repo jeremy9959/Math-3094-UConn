{
 "cells": [
  {
   "cell_type": "markdown",
   "metadata": {},
   "source": [
    "## Lab for Linear Regression"
   ]
  },
  {
   "cell_type": "markdown",
   "metadata": {},
   "source": [
    "### Linear Algebra in Python/Numpy\n",
    "\n",
    "In this lab we will use:\n",
    "- the `numpy` linear algebra package for computations\n",
    "- the `bokeh` plotting package for graphics\n",
    "\n",
    "The next cell loads these libraries."
   ]
  },
  {
   "cell_type": "code",
   "execution_count": 2,
   "metadata": {},
   "outputs": [
    {
     "data": {
      "text/html": [
       "\n",
       "    <div class=\"bk-root\">\n",
       "        <a href=\"https://bokeh.pydata.org\" target=\"_blank\" class=\"bk-logo bk-logo-small bk-logo-notebook\"></a>\n",
       "        <span id=\"1001\">Loading BokehJS ...</span>\n",
       "    </div>"
      ]
     },
     "metadata": {},
     "output_type": "display_data"
    },
    {
     "data": {
      "application/javascript": [
       "\n",
       "(function(root) {\n",
       "  function now() {\n",
       "    return new Date();\n",
       "  }\n",
       "\n",
       "  var force = true;\n",
       "\n",
       "  if (typeof root._bokeh_onload_callbacks === \"undefined\" || force === true) {\n",
       "    root._bokeh_onload_callbacks = [];\n",
       "    root._bokeh_is_loading = undefined;\n",
       "  }\n",
       "\n",
       "  var JS_MIME_TYPE = 'application/javascript';\n",
       "  var HTML_MIME_TYPE = 'text/html';\n",
       "  var EXEC_MIME_TYPE = 'application/vnd.bokehjs_exec.v0+json';\n",
       "  var CLASS_NAME = 'output_bokeh rendered_html';\n",
       "\n",
       "  /**\n",
       "   * Render data to the DOM node\n",
       "   */\n",
       "  function render(props, node) {\n",
       "    var script = document.createElement(\"script\");\n",
       "    node.appendChild(script);\n",
       "  }\n",
       "\n",
       "  /**\n",
       "   * Handle when an output is cleared or removed\n",
       "   */\n",
       "  function handleClearOutput(event, handle) {\n",
       "    var cell = handle.cell;\n",
       "\n",
       "    var id = cell.output_area._bokeh_element_id;\n",
       "    var server_id = cell.output_area._bokeh_server_id;\n",
       "    // Clean up Bokeh references\n",
       "    if (id != null && id in Bokeh.index) {\n",
       "      Bokeh.index[id].model.document.clear();\n",
       "      delete Bokeh.index[id];\n",
       "    }\n",
       "\n",
       "    if (server_id !== undefined) {\n",
       "      // Clean up Bokeh references\n",
       "      var cmd = \"from bokeh.io.state import curstate; print(curstate().uuid_to_server['\" + server_id + \"'].get_sessions()[0].document.roots[0]._id)\";\n",
       "      cell.notebook.kernel.execute(cmd, {\n",
       "        iopub: {\n",
       "          output: function(msg) {\n",
       "            var id = msg.content.text.trim();\n",
       "            if (id in Bokeh.index) {\n",
       "              Bokeh.index[id].model.document.clear();\n",
       "              delete Bokeh.index[id];\n",
       "            }\n",
       "          }\n",
       "        }\n",
       "      });\n",
       "      // Destroy server and session\n",
       "      var cmd = \"import bokeh.io.notebook as ion; ion.destroy_server('\" + server_id + \"')\";\n",
       "      cell.notebook.kernel.execute(cmd);\n",
       "    }\n",
       "  }\n",
       "\n",
       "  /**\n",
       "   * Handle when a new output is added\n",
       "   */\n",
       "  function handleAddOutput(event, handle) {\n",
       "    var output_area = handle.output_area;\n",
       "    var output = handle.output;\n",
       "\n",
       "    // limit handleAddOutput to display_data with EXEC_MIME_TYPE content only\n",
       "    if ((output.output_type != \"display_data\") || (!output.data.hasOwnProperty(EXEC_MIME_TYPE))) {\n",
       "      return\n",
       "    }\n",
       "\n",
       "    var toinsert = output_area.element.find(\".\" + CLASS_NAME.split(' ')[0]);\n",
       "\n",
       "    if (output.metadata[EXEC_MIME_TYPE][\"id\"] !== undefined) {\n",
       "      toinsert[toinsert.length - 1].firstChild.textContent = output.data[JS_MIME_TYPE];\n",
       "      // store reference to embed id on output_area\n",
       "      output_area._bokeh_element_id = output.metadata[EXEC_MIME_TYPE][\"id\"];\n",
       "    }\n",
       "    if (output.metadata[EXEC_MIME_TYPE][\"server_id\"] !== undefined) {\n",
       "      var bk_div = document.createElement(\"div\");\n",
       "      bk_div.innerHTML = output.data[HTML_MIME_TYPE];\n",
       "      var script_attrs = bk_div.children[0].attributes;\n",
       "      for (var i = 0; i < script_attrs.length; i++) {\n",
       "        toinsert[toinsert.length - 1].firstChild.setAttribute(script_attrs[i].name, script_attrs[i].value);\n",
       "      }\n",
       "      // store reference to server id on output_area\n",
       "      output_area._bokeh_server_id = output.metadata[EXEC_MIME_TYPE][\"server_id\"];\n",
       "    }\n",
       "  }\n",
       "\n",
       "  function register_renderer(events, OutputArea) {\n",
       "\n",
       "    function append_mime(data, metadata, element) {\n",
       "      // create a DOM node to render to\n",
       "      var toinsert = this.create_output_subarea(\n",
       "        metadata,\n",
       "        CLASS_NAME,\n",
       "        EXEC_MIME_TYPE\n",
       "      );\n",
       "      this.keyboard_manager.register_events(toinsert);\n",
       "      // Render to node\n",
       "      var props = {data: data, metadata: metadata[EXEC_MIME_TYPE]};\n",
       "      render(props, toinsert[toinsert.length - 1]);\n",
       "      element.append(toinsert);\n",
       "      return toinsert\n",
       "    }\n",
       "\n",
       "    /* Handle when an output is cleared or removed */\n",
       "    events.on('clear_output.CodeCell', handleClearOutput);\n",
       "    events.on('delete.Cell', handleClearOutput);\n",
       "\n",
       "    /* Handle when a new output is added */\n",
       "    events.on('output_added.OutputArea', handleAddOutput);\n",
       "\n",
       "    /**\n",
       "     * Register the mime type and append_mime function with output_area\n",
       "     */\n",
       "    OutputArea.prototype.register_mime_type(EXEC_MIME_TYPE, append_mime, {\n",
       "      /* Is output safe? */\n",
       "      safe: true,\n",
       "      /* Index of renderer in `output_area.display_order` */\n",
       "      index: 0\n",
       "    });\n",
       "  }\n",
       "\n",
       "  // register the mime type if in Jupyter Notebook environment and previously unregistered\n",
       "  if (root.Jupyter !== undefined) {\n",
       "    var events = require('base/js/events');\n",
       "    var OutputArea = require('notebook/js/outputarea').OutputArea;\n",
       "\n",
       "    if (OutputArea.prototype.mime_types().indexOf(EXEC_MIME_TYPE) == -1) {\n",
       "      register_renderer(events, OutputArea);\n",
       "    }\n",
       "  }\n",
       "\n",
       "  \n",
       "  if (typeof (root._bokeh_timeout) === \"undefined\" || force === true) {\n",
       "    root._bokeh_timeout = Date.now() + 5000;\n",
       "    root._bokeh_failed_load = false;\n",
       "  }\n",
       "\n",
       "  var NB_LOAD_WARNING = {'data': {'text/html':\n",
       "     \"<div style='background-color: #fdd'>\\n\"+\n",
       "     \"<p>\\n\"+\n",
       "     \"BokehJS does not appear to have successfully loaded. If loading BokehJS from CDN, this \\n\"+\n",
       "     \"may be due to a slow or bad network connection. Possible fixes:\\n\"+\n",
       "     \"</p>\\n\"+\n",
       "     \"<ul>\\n\"+\n",
       "     \"<li>re-rerun `output_notebook()` to attempt to load from CDN again, or</li>\\n\"+\n",
       "     \"<li>use INLINE resources instead, as so:</li>\\n\"+\n",
       "     \"</ul>\\n\"+\n",
       "     \"<code>\\n\"+\n",
       "     \"from bokeh.resources import INLINE\\n\"+\n",
       "     \"output_notebook(resources=INLINE)\\n\"+\n",
       "     \"</code>\\n\"+\n",
       "     \"</div>\"}};\n",
       "\n",
       "  function display_loaded() {\n",
       "    var el = document.getElementById(\"1001\");\n",
       "    if (el != null) {\n",
       "      el.textContent = \"BokehJS is loading...\";\n",
       "    }\n",
       "    if (root.Bokeh !== undefined) {\n",
       "      if (el != null) {\n",
       "        el.textContent = \"BokehJS \" + root.Bokeh.version + \" successfully loaded.\";\n",
       "      }\n",
       "    } else if (Date.now() < root._bokeh_timeout) {\n",
       "      setTimeout(display_loaded, 100)\n",
       "    }\n",
       "  }\n",
       "\n",
       "\n",
       "  function run_callbacks() {\n",
       "    try {\n",
       "      root._bokeh_onload_callbacks.forEach(function(callback) {\n",
       "        if (callback != null)\n",
       "          callback();\n",
       "      });\n",
       "    } finally {\n",
       "      delete root._bokeh_onload_callbacks\n",
       "    }\n",
       "    console.debug(\"Bokeh: all callbacks have finished\");\n",
       "  }\n",
       "\n",
       "  function load_libs(css_urls, js_urls, callback) {\n",
       "    if (css_urls == null) css_urls = [];\n",
       "    if (js_urls == null) js_urls = [];\n",
       "\n",
       "    root._bokeh_onload_callbacks.push(callback);\n",
       "    if (root._bokeh_is_loading > 0) {\n",
       "      console.debug(\"Bokeh: BokehJS is being loaded, scheduling callback at\", now());\n",
       "      return null;\n",
       "    }\n",
       "    if (js_urls == null || js_urls.length === 0) {\n",
       "      run_callbacks();\n",
       "      return null;\n",
       "    }\n",
       "    console.debug(\"Bokeh: BokehJS not loaded, scheduling load and callback at\", now());\n",
       "    root._bokeh_is_loading = css_urls.length + js_urls.length;\n",
       "\n",
       "    function on_load() {\n",
       "      root._bokeh_is_loading--;\n",
       "      if (root._bokeh_is_loading === 0) {\n",
       "        console.debug(\"Bokeh: all BokehJS libraries/stylesheets loaded\");\n",
       "        run_callbacks()\n",
       "      }\n",
       "    }\n",
       "\n",
       "    function on_error() {\n",
       "      console.error(\"failed to load \" + url);\n",
       "    }\n",
       "\n",
       "    for (var i = 0; i < css_urls.length; i++) {\n",
       "      var url = css_urls[i];\n",
       "      const element = document.createElement(\"link\");\n",
       "      element.onload = on_load;\n",
       "      element.onerror = on_error;\n",
       "      element.rel = \"stylesheet\";\n",
       "      element.type = \"text/css\";\n",
       "      element.href = url;\n",
       "      console.debug(\"Bokeh: injecting link tag for BokehJS stylesheet: \", url);\n",
       "      document.body.appendChild(element);\n",
       "    }\n",
       "\n",
       "    for (var i = 0; i < js_urls.length; i++) {\n",
       "      var url = js_urls[i];\n",
       "      var element = document.createElement('script');\n",
       "      element.onload = on_load;\n",
       "      element.onerror = on_error;\n",
       "      element.async = false;\n",
       "      element.src = url;\n",
       "      console.debug(\"Bokeh: injecting script tag for BokehJS library: \", url);\n",
       "      document.head.appendChild(element);\n",
       "    }\n",
       "  };var element = document.getElementById(\"1001\");\n",
       "  if (element == null) {\n",
       "    console.error(\"Bokeh: ERROR: autoload.js configured with elementid '1001' but no matching script tag was found. \")\n",
       "    return false;\n",
       "  }\n",
       "\n",
       "  function inject_raw_css(css) {\n",
       "    const element = document.createElement(\"style\");\n",
       "    element.appendChild(document.createTextNode(css));\n",
       "    document.body.appendChild(element);\n",
       "  }\n",
       "\n",
       "  var js_urls = [\"https://cdn.pydata.org/bokeh/release/bokeh-1.3.4.min.js\", \"https://cdn.pydata.org/bokeh/release/bokeh-widgets-1.3.4.min.js\", \"https://cdn.pydata.org/bokeh/release/bokeh-tables-1.3.4.min.js\", \"https://cdn.pydata.org/bokeh/release/bokeh-gl-1.3.4.min.js\"];\n",
       "  var css_urls = [];\n",
       "\n",
       "  var inline_js = [\n",
       "    function(Bokeh) {\n",
       "      Bokeh.set_log_level(\"info\");\n",
       "    },\n",
       "    \n",
       "    function(Bokeh) {\n",
       "      \n",
       "    },\n",
       "    function(Bokeh) {} // ensure no trailing comma for IE\n",
       "  ];\n",
       "\n",
       "  function run_inline_js() {\n",
       "    \n",
       "    if ((root.Bokeh !== undefined) || (force === true)) {\n",
       "      for (var i = 0; i < inline_js.length; i++) {\n",
       "        inline_js[i].call(root, root.Bokeh);\n",
       "      }if (force === true) {\n",
       "        display_loaded();\n",
       "      }} else if (Date.now() < root._bokeh_timeout) {\n",
       "      setTimeout(run_inline_js, 100);\n",
       "    } else if (!root._bokeh_failed_load) {\n",
       "      console.log(\"Bokeh: BokehJS failed to load within specified timeout.\");\n",
       "      root._bokeh_failed_load = true;\n",
       "    } else if (force !== true) {\n",
       "      var cell = $(document.getElementById(\"1001\")).parents('.cell').data().cell;\n",
       "      cell.output_area.append_execute_result(NB_LOAD_WARNING)\n",
       "    }\n",
       "\n",
       "  }\n",
       "\n",
       "  if (root._bokeh_is_loading === 0) {\n",
       "    console.debug(\"Bokeh: BokehJS loaded, going straight to plotting\");\n",
       "    run_inline_js();\n",
       "  } else {\n",
       "    load_libs(css_urls, js_urls, function() {\n",
       "      console.debug(\"Bokeh: BokehJS plotting callback run at\", now());\n",
       "      run_inline_js();\n",
       "    });\n",
       "  }\n",
       "}(window));"
      ],
      "application/vnd.bokehjs_load.v0+json": "\n(function(root) {\n  function now() {\n    return new Date();\n  }\n\n  var force = true;\n\n  if (typeof root._bokeh_onload_callbacks === \"undefined\" || force === true) {\n    root._bokeh_onload_callbacks = [];\n    root._bokeh_is_loading = undefined;\n  }\n\n  \n\n  \n  if (typeof (root._bokeh_timeout) === \"undefined\" || force === true) {\n    root._bokeh_timeout = Date.now() + 5000;\n    root._bokeh_failed_load = false;\n  }\n\n  var NB_LOAD_WARNING = {'data': {'text/html':\n     \"<div style='background-color: #fdd'>\\n\"+\n     \"<p>\\n\"+\n     \"BokehJS does not appear to have successfully loaded. If loading BokehJS from CDN, this \\n\"+\n     \"may be due to a slow or bad network connection. Possible fixes:\\n\"+\n     \"</p>\\n\"+\n     \"<ul>\\n\"+\n     \"<li>re-rerun `output_notebook()` to attempt to load from CDN again, or</li>\\n\"+\n     \"<li>use INLINE resources instead, as so:</li>\\n\"+\n     \"</ul>\\n\"+\n     \"<code>\\n\"+\n     \"from bokeh.resources import INLINE\\n\"+\n     \"output_notebook(resources=INLINE)\\n\"+\n     \"</code>\\n\"+\n     \"</div>\"}};\n\n  function display_loaded() {\n    var el = document.getElementById(\"1001\");\n    if (el != null) {\n      el.textContent = \"BokehJS is loading...\";\n    }\n    if (root.Bokeh !== undefined) {\n      if (el != null) {\n        el.textContent = \"BokehJS \" + root.Bokeh.version + \" successfully loaded.\";\n      }\n    } else if (Date.now() < root._bokeh_timeout) {\n      setTimeout(display_loaded, 100)\n    }\n  }\n\n\n  function run_callbacks() {\n    try {\n      root._bokeh_onload_callbacks.forEach(function(callback) {\n        if (callback != null)\n          callback();\n      });\n    } finally {\n      delete root._bokeh_onload_callbacks\n    }\n    console.debug(\"Bokeh: all callbacks have finished\");\n  }\n\n  function load_libs(css_urls, js_urls, callback) {\n    if (css_urls == null) css_urls = [];\n    if (js_urls == null) js_urls = [];\n\n    root._bokeh_onload_callbacks.push(callback);\n    if (root._bokeh_is_loading > 0) {\n      console.debug(\"Bokeh: BokehJS is being loaded, scheduling callback at\", now());\n      return null;\n    }\n    if (js_urls == null || js_urls.length === 0) {\n      run_callbacks();\n      return null;\n    }\n    console.debug(\"Bokeh: BokehJS not loaded, scheduling load and callback at\", now());\n    root._bokeh_is_loading = css_urls.length + js_urls.length;\n\n    function on_load() {\n      root._bokeh_is_loading--;\n      if (root._bokeh_is_loading === 0) {\n        console.debug(\"Bokeh: all BokehJS libraries/stylesheets loaded\");\n        run_callbacks()\n      }\n    }\n\n    function on_error() {\n      console.error(\"failed to load \" + url);\n    }\n\n    for (var i = 0; i < css_urls.length; i++) {\n      var url = css_urls[i];\n      const element = document.createElement(\"link\");\n      element.onload = on_load;\n      element.onerror = on_error;\n      element.rel = \"stylesheet\";\n      element.type = \"text/css\";\n      element.href = url;\n      console.debug(\"Bokeh: injecting link tag for BokehJS stylesheet: \", url);\n      document.body.appendChild(element);\n    }\n\n    for (var i = 0; i < js_urls.length; i++) {\n      var url = js_urls[i];\n      var element = document.createElement('script');\n      element.onload = on_load;\n      element.onerror = on_error;\n      element.async = false;\n      element.src = url;\n      console.debug(\"Bokeh: injecting script tag for BokehJS library: \", url);\n      document.head.appendChild(element);\n    }\n  };var element = document.getElementById(\"1001\");\n  if (element == null) {\n    console.error(\"Bokeh: ERROR: autoload.js configured with elementid '1001' but no matching script tag was found. \")\n    return false;\n  }\n\n  function inject_raw_css(css) {\n    const element = document.createElement(\"style\");\n    element.appendChild(document.createTextNode(css));\n    document.body.appendChild(element);\n  }\n\n  var js_urls = [\"https://cdn.pydata.org/bokeh/release/bokeh-1.3.4.min.js\", \"https://cdn.pydata.org/bokeh/release/bokeh-widgets-1.3.4.min.js\", \"https://cdn.pydata.org/bokeh/release/bokeh-tables-1.3.4.min.js\", \"https://cdn.pydata.org/bokeh/release/bokeh-gl-1.3.4.min.js\"];\n  var css_urls = [];\n\n  var inline_js = [\n    function(Bokeh) {\n      Bokeh.set_log_level(\"info\");\n    },\n    \n    function(Bokeh) {\n      \n    },\n    function(Bokeh) {} // ensure no trailing comma for IE\n  ];\n\n  function run_inline_js() {\n    \n    if ((root.Bokeh !== undefined) || (force === true)) {\n      for (var i = 0; i < inline_js.length; i++) {\n        inline_js[i].call(root, root.Bokeh);\n      }if (force === true) {\n        display_loaded();\n      }} else if (Date.now() < root._bokeh_timeout) {\n      setTimeout(run_inline_js, 100);\n    } else if (!root._bokeh_failed_load) {\n      console.log(\"Bokeh: BokehJS failed to load within specified timeout.\");\n      root._bokeh_failed_load = true;\n    } else if (force !== true) {\n      var cell = $(document.getElementById(\"1001\")).parents('.cell').data().cell;\n      cell.output_area.append_execute_result(NB_LOAD_WARNING)\n    }\n\n  }\n\n  if (root._bokeh_is_loading === 0) {\n    console.debug(\"Bokeh: BokehJS loaded, going straight to plotting\");\n    run_inline_js();\n  } else {\n    load_libs(css_urls, js_urls, function() {\n      console.debug(\"Bokeh: BokehJS plotting callback run at\", now());\n      run_inline_js();\n    });\n  }\n}(window));"
     },
     "metadata": {},
     "output_type": "display_data"
    }
   ],
   "source": [
    "import numpy as np\n",
    "from bokeh.plotting import figure\n",
    "from bokeh.io import show, output_notebook\n",
    "from bokeh.layouts import gridplot\n",
    "output_notebook()"
   ]
  },
  {
   "cell_type": "markdown",
   "metadata": {},
   "source": [
    "This routine will save typing later."
   ]
  },
  {
   "cell_type": "code",
   "execution_count": 378,
   "metadata": {},
   "outputs": [],
   "source": [
    "def comparison_plot(Y, Yhat):\n",
    "    '''Plots Predicted vs True values for analysis of regression'''\n",
    "    comparison_plot = figure(width=300,height=300)\n",
    "    comparison_plot.xaxis.axis_label='Y'\n",
    "    comparison_plot.yaxis.axis_label='Yhat'\n",
    "    comparison_plot.scatter(x=Y,y=Yhat)\n",
    "    comparison_plot.line(x=[Y.min(),Y.max()],y=[Y.min(),Y.max()])\n",
    "    return comparison_plot\n"
   ]
  },
  {
   "cell_type": "markdown",
   "metadata": {},
   "source": [
    "### Distance to a moving object (simulated data)"
   ]
  },
  {
   "cell_type": "markdown",
   "metadata": {},
   "source": [
    "We will begin by looking at Figures 1 and 2 in the [Linear Regression](../notes/main.pdf) notes.\n",
    "\n",
    "In Figure 1 we began with simulated data that represents the distance from an observer to a a moving object. \n",
    "We will generate that data.  The observations occur at times $0, 1, 2, \\ldots, 9$.  "
   ]
  },
  {
   "cell_type": "code",
   "execution_count": 266,
   "metadata": {},
   "outputs": [],
   "source": [
    "# Create a 1-d numpy array containing 0,1,...,9 \n",
    "x = np.array(range(10))"
   ]
  },
  {
   "cell_type": "markdown",
   "metadata": {},
   "source": [
    "Let's suppose that the true velocity of the object is $15$ m/s and the initial distance to the object is $150$ m.  Then\n",
    "the object's position is given by $d=150-15x$ where $x$ is time.  However, when we measure the distance, there is a random error\n",
    "of between $-10$ and $10$ meters. The function `np.random.uniform` returns uniformly distributed random numbers within a given range."
   ]
  },
  {
   "cell_type": "code",
   "execution_count": 267,
   "metadata": {},
   "outputs": [],
   "source": [
    "y = 150-15*x+np.random.uniform(-10,10,size=x.shape[0])"
   ]
  },
  {
   "cell_type": "markdown",
   "metadata": {},
   "source": [
    "We will plot the data points $(x,y)$."
   ]
  },
  {
   "cell_type": "code",
   "execution_count": 268,
   "metadata": {},
   "outputs": [
    {
     "data": {
      "text/html": [
       "\n",
       "\n",
       "\n",
       "\n",
       "\n",
       "\n",
       "  <div class=\"bk-root\" id=\"feeb3bde-7033-404c-abe3-7d3ab8a42928\" data-root-id=\"39521\"></div>\n"
      ]
     },
     "metadata": {},
     "output_type": "display_data"
    },
    {
     "data": {
      "application/javascript": [
       "(function(root) {\n",
       "  function embed_document(root) {\n",
       "    \n",
       "  var docs_json = {\"bc3f56cd-6cd4-484b-8610-6a74dd3ba857\":{\"roots\":{\"references\":[{\"attributes\":{\"below\":[{\"id\":\"39532\",\"type\":\"LinearAxis\"}],\"center\":[{\"id\":\"39536\",\"type\":\"Grid\"},{\"id\":\"39541\",\"type\":\"Grid\"}],\"left\":[{\"id\":\"39537\",\"type\":\"LinearAxis\"}],\"plot_height\":400,\"plot_width\":400,\"renderers\":[{\"id\":\"39558\",\"type\":\"GlyphRenderer\"}],\"title\":{\"id\":\"39522\",\"type\":\"Title\"},\"toolbar\":{\"id\":\"39548\",\"type\":\"Toolbar\"},\"x_range\":{\"id\":\"39524\",\"type\":\"DataRange1d\"},\"x_scale\":{\"id\":\"39528\",\"type\":\"LinearScale\"},\"y_range\":{\"id\":\"39526\",\"type\":\"DataRange1d\"},\"y_scale\":{\"id\":\"39530\",\"type\":\"LinearScale\"}},\"id\":\"39521\",\"subtype\":\"Figure\",\"type\":\"Plot\"},{\"attributes\":{},\"id\":\"39538\",\"type\":\"BasicTicker\"},{\"attributes\":{\"source\":{\"id\":\"39555\",\"type\":\"ColumnDataSource\"}},\"id\":\"39559\",\"type\":\"CDSView\"},{\"attributes\":{\"ticker\":{\"id\":\"39533\",\"type\":\"BasicTicker\"}},\"id\":\"39536\",\"type\":\"Grid\"},{\"attributes\":{\"dimension\":1,\"ticker\":{\"id\":\"39538\",\"type\":\"BasicTicker\"}},\"id\":\"39541\",\"type\":\"Grid\"},{\"attributes\":{\"axis_label\":\"distance (m)\",\"formatter\":{\"id\":\"40443\",\"type\":\"BasicTickFormatter\"},\"ticker\":{\"id\":\"39538\",\"type\":\"BasicTicker\"}},\"id\":\"39537\",\"type\":\"LinearAxis\"},{\"attributes\":{},\"id\":\"40449\",\"type\":\"Selection\"},{\"attributes\":{},\"id\":\"40445\",\"type\":\"BasicTickFormatter\"},{\"attributes\":{},\"id\":\"40443\",\"type\":\"BasicTickFormatter\"},{\"attributes\":{\"fill_color\":{\"value\":\"#1f77b4\"},\"line_color\":{\"value\":\"#1f77b4\"},\"x\":{\"field\":\"x\"},\"y\":{\"field\":\"y\"}},\"id\":\"39556\",\"type\":\"Scatter\"},{\"attributes\":{\"fill_alpha\":{\"value\":0.1},\"fill_color\":{\"value\":\"#1f77b4\"},\"line_alpha\":{\"value\":0.1},\"line_color\":{\"value\":\"#1f77b4\"},\"x\":{\"field\":\"x\"},\"y\":{\"field\":\"y\"}},\"id\":\"39557\",\"type\":\"Scatter\"},{\"attributes\":{\"bottom_units\":\"screen\",\"fill_alpha\":{\"value\":0.5},\"fill_color\":{\"value\":\"lightgrey\"},\"left_units\":\"screen\",\"level\":\"overlay\",\"line_alpha\":{\"value\":1.0},\"line_color\":{\"value\":\"black\"},\"line_dash\":[4,4],\"line_width\":{\"value\":2},\"render_mode\":\"css\",\"right_units\":\"screen\",\"top_units\":\"screen\"},\"id\":\"40447\",\"type\":\"BoxAnnotation\"},{\"attributes\":{\"active_drag\":\"auto\",\"active_inspect\":\"auto\",\"active_multi\":null,\"active_scroll\":\"auto\",\"active_tap\":\"auto\",\"tools\":[{\"id\":\"39542\",\"type\":\"PanTool\"},{\"id\":\"39543\",\"type\":\"WheelZoomTool\"},{\"id\":\"39544\",\"type\":\"BoxZoomTool\"},{\"id\":\"39545\",\"type\":\"SaveTool\"},{\"id\":\"39546\",\"type\":\"ResetTool\"},{\"id\":\"39547\",\"type\":\"HelpTool\"}]},\"id\":\"39548\",\"type\":\"Toolbar\"},{\"attributes\":{\"text\":\"Measured Distance to Moving Object\"},\"id\":\"39522\",\"type\":\"Title\"},{\"attributes\":{\"data_source\":{\"id\":\"39555\",\"type\":\"ColumnDataSource\"},\"glyph\":{\"id\":\"39556\",\"type\":\"Scatter\"},\"hover_glyph\":null,\"muted_glyph\":null,\"nonselection_glyph\":{\"id\":\"39557\",\"type\":\"Scatter\"},\"selection_glyph\":null,\"view\":{\"id\":\"39559\",\"type\":\"CDSView\"}},\"id\":\"39558\",\"type\":\"GlyphRenderer\"},{\"attributes\":{},\"id\":\"39542\",\"type\":\"PanTool\"},{\"attributes\":{\"callback\":null,\"data\":{\"x\":[0,1,2,3,4,5,6,7,8,9],\"y\":{\"__ndarray__\":\"md4bKuycYkCQ0DLrU/9gQMXC5Hjhzl9AIBEtILbqWUCsEx4dllJYQJrxwee0FFJAJtmgAh3bTUBIwje7TI1FQP+3QBqNLzlASJg5c6aGM0A=\",\"dtype\":\"float64\",\"shape\":[10]}},\"selected\":{\"id\":\"40449\",\"type\":\"Selection\"},\"selection_policy\":{\"id\":\"40448\",\"type\":\"UnionRenderers\"}},\"id\":\"39555\",\"type\":\"ColumnDataSource\"},{\"attributes\":{},\"id\":\"39543\",\"type\":\"WheelZoomTool\"},{\"attributes\":{\"callback\":null},\"id\":\"39524\",\"type\":\"DataRange1d\"},{\"attributes\":{\"overlay\":{\"id\":\"40447\",\"type\":\"BoxAnnotation\"}},\"id\":\"39544\",\"type\":\"BoxZoomTool\"},{\"attributes\":{},\"id\":\"39545\",\"type\":\"SaveTool\"},{\"attributes\":{},\"id\":\"40448\",\"type\":\"UnionRenderers\"},{\"attributes\":{\"callback\":null},\"id\":\"39526\",\"type\":\"DataRange1d\"},{\"attributes\":{},\"id\":\"39546\",\"type\":\"ResetTool\"},{\"attributes\":{},\"id\":\"39528\",\"type\":\"LinearScale\"},{\"attributes\":{},\"id\":\"39547\",\"type\":\"HelpTool\"},{\"attributes\":{},\"id\":\"39530\",\"type\":\"LinearScale\"},{\"attributes\":{},\"id\":\"39533\",\"type\":\"BasicTicker\"},{\"attributes\":{\"axis_label\":\"time\",\"formatter\":{\"id\":\"40445\",\"type\":\"BasicTickFormatter\"},\"ticker\":{\"id\":\"39533\",\"type\":\"BasicTicker\"}},\"id\":\"39532\",\"type\":\"LinearAxis\"}],\"root_ids\":[\"39521\"]},\"title\":\"Bokeh Application\",\"version\":\"1.4.0\"}};\n",
       "  var render_items = [{\"docid\":\"bc3f56cd-6cd4-484b-8610-6a74dd3ba857\",\"roots\":{\"39521\":\"feeb3bde-7033-404c-abe3-7d3ab8a42928\"}}];\n",
       "  root.Bokeh.embed.embed_items_notebook(docs_json, render_items);\n",
       "\n",
       "  }\n",
       "  if (root.Bokeh !== undefined) {\n",
       "    embed_document(root);\n",
       "  } else {\n",
       "    var attempts = 0;\n",
       "    var timer = setInterval(function(root) {\n",
       "      if (root.Bokeh !== undefined) {\n",
       "        clearInterval(timer);\n",
       "        embed_document(root);\n",
       "      } else {\n",
       "        attempts++;\n",
       "        if (attempts > 100) {\n",
       "          clearInterval(timer);\n",
       "          console.log(\"Bokeh: ERROR: Unable to run BokehJS code because BokehJS library is missing\");\n",
       "        }\n",
       "      }\n",
       "    }, 10, root)\n",
       "  }\n",
       "})(window);"
      ],
      "application/vnd.bokehjs_exec.v0+json": ""
     },
     "metadata": {
      "application/vnd.bokehjs_exec.v0+json": {
       "id": "39521"
      }
     },
     "output_type": "display_data"
    }
   ],
   "source": [
    "f=figure(width=400,height=400,title='Measured Distance to Moving Object')\n",
    "f.scatter(x=x,y=y)\n",
    "f.xaxis.axis_label='time'\n",
    "f.yaxis.axis_label='distance (m)'\n",
    "show(f)"
   ]
  },
  {
   "cell_type": "markdown",
   "metadata": {},
   "source": [
    "The points are roughly on a line, but not exactly, due to the error.  The\n",
    "data matrix $X$ for this problem consists of two columns, one of which is $0,1,2,\\ldots, 9$ and the other\n",
    "is $1,1,1,1,\\ldots$. (See section 1.3 in the notes).\n",
    "\n",
    "We make this by:\n",
    "- converting x to a column vector\n",
    "- creating a column vector of 1's\n",
    "- concatenating these"
   ]
  },
  {
   "cell_type": "code",
   "execution_count": 269,
   "metadata": {},
   "outputs": [],
   "source": [
    "X=np.concatenate([x.reshape(-1,1),np.ones(shape=(x.shape[0],1))],axis=1)"
   ]
  },
  {
   "cell_type": "code",
   "execution_count": 270,
   "metadata": {},
   "outputs": [
    {
     "data": {
      "text/plain": [
       "array([[0., 1.],\n",
       "       [1., 1.],\n",
       "       [2., 1.],\n",
       "       [3., 1.],\n",
       "       [4., 1.],\n",
       "       [5., 1.],\n",
       "       [6., 1.],\n",
       "       [7., 1.],\n",
       "       [8., 1.],\n",
       "       [9., 1.]])"
      ]
     },
     "execution_count": 270,
     "metadata": {},
     "output_type": "execute_result"
    }
   ],
   "source": [
    "X"
   ]
  },
  {
   "cell_type": "markdown",
   "metadata": {},
   "source": [
    "The Y vector is our vector of measurements, except we need to make it a column vector."
   ]
  },
  {
   "cell_type": "code",
   "execution_count": 271,
   "metadata": {},
   "outputs": [],
   "source": [
    "Y = y.reshape(-1,1)"
   ]
  },
  {
   "cell_type": "code",
   "execution_count": 272,
   "metadata": {},
   "outputs": [
    {
     "data": {
      "text/plain": [
       "array([[148.90382867],\n",
       "       [135.97899399],\n",
       "       [127.23251173],\n",
       "       [103.66736607],\n",
       "       [ 97.29041222],\n",
       "       [ 72.32354158],\n",
       "       [ 59.71182282],\n",
       "       [ 43.10390415],\n",
       "       [ 25.1857468 ],\n",
       "       [ 19.52597733]])"
      ]
     },
     "execution_count": 272,
     "metadata": {},
     "output_type": "execute_result"
    }
   ],
   "source": [
    "Y"
   ]
  },
  {
   "cell_type": "markdown",
   "metadata": {},
   "source": [
    "Now we will use the formulae in equations (7) and (8) from the notes t compute the least squares line.\n"
   ]
  },
  {
   "cell_type": "code",
   "execution_count": 273,
   "metadata": {},
   "outputs": [],
   "source": [
    "D = np.dot(X.transpose(),X)"
   ]
  },
  {
   "cell_type": "markdown",
   "metadata": {},
   "source": [
    "The matrix $M$ contains the slope and intercept of our least squares line."
   ]
  },
  {
   "cell_type": "code",
   "execution_count": 274,
   "metadata": {},
   "outputs": [
    {
     "name": "stdout",
     "output_type": "stream",
     "text": [
      "Slope is -15.257151094940799, Intercept is 151.94959046428448\n"
     ]
    }
   ],
   "source": [
    "M = np.dot(np.linalg.inv(D),np.dot(X.transpose(), Y))\n",
    "print('Slope is {}, Intercept is {}'.format(M[0,0],M[1,0]))"
   ]
  },
  {
   "cell_type": "markdown",
   "metadata": {},
   "source": [
    "The predicted values of $Y$ are given by equation (8)."
   ]
  },
  {
   "cell_type": "code",
   "execution_count": 275,
   "metadata": {},
   "outputs": [],
   "source": [
    "Yhat = np.dot(np.dot(np.dot(X,np.linalg.inv(D)),X.transpose()),Y)"
   ]
  },
  {
   "cell_type": "markdown",
   "metadata": {},
   "source": [
    "Let's add these predicted values to our plot for comparison.  Notice that the green\n",
    "dots lie along the regression line."
   ]
  },
  {
   "cell_type": "code",
   "execution_count": 276,
   "metadata": {},
   "outputs": [
    {
     "data": {
      "text/html": [
       "\n",
       "\n",
       "\n",
       "\n",
       "\n",
       "\n",
       "  <div class=\"bk-root\" id=\"cf17aedd-c2c7-4b38-8a0c-32c5ba6d2829\" data-root-id=\"39521\"></div>\n"
      ]
     },
     "metadata": {},
     "output_type": "display_data"
    },
    {
     "data": {
      "application/javascript": [
       "(function(root) {\n",
       "  function embed_document(root) {\n",
       "    \n",
       "  var docs_json = {\"3df908bd-5dda-4033-8349-a92aee5201cb\":{\"roots\":{\"references\":[{\"attributes\":{\"below\":[{\"id\":\"39532\",\"type\":\"LinearAxis\"}],\"center\":[{\"id\":\"39536\",\"type\":\"Grid\"},{\"id\":\"39541\",\"type\":\"Grid\"}],\"left\":[{\"id\":\"39537\",\"type\":\"LinearAxis\"}],\"plot_height\":400,\"plot_width\":400,\"renderers\":[{\"id\":\"39558\",\"type\":\"GlyphRenderer\"},{\"id\":\"40501\",\"type\":\"GlyphRenderer\"}],\"title\":{\"id\":\"39522\",\"type\":\"Title\"},\"toolbar\":{\"id\":\"39548\",\"type\":\"Toolbar\"},\"x_range\":{\"id\":\"39524\",\"type\":\"DataRange1d\"},\"x_scale\":{\"id\":\"39528\",\"type\":\"LinearScale\"},\"y_range\":{\"id\":\"39526\",\"type\":\"DataRange1d\"},\"y_scale\":{\"id\":\"39530\",\"type\":\"LinearScale\"}},\"id\":\"39521\",\"subtype\":\"Figure\",\"type\":\"Plot\"},{\"attributes\":{},\"id\":\"39538\",\"type\":\"BasicTicker\"},{\"attributes\":{\"source\":{\"id\":\"39555\",\"type\":\"ColumnDataSource\"}},\"id\":\"39559\",\"type\":\"CDSView\"},{\"attributes\":{\"source\":{\"id\":\"40498\",\"type\":\"ColumnDataSource\"}},\"id\":\"40502\",\"type\":\"CDSView\"},{\"attributes\":{\"ticker\":{\"id\":\"39533\",\"type\":\"BasicTicker\"}},\"id\":\"39536\",\"type\":\"Grid\"},{\"attributes\":{\"fill_alpha\":{\"value\":0.1},\"fill_color\":{\"value\":\"#1f77b4\"},\"line_alpha\":{\"value\":0.1},\"line_color\":{\"value\":\"#1f77b4\"},\"x\":{\"field\":\"x\"},\"y\":{\"field\":\"y\"}},\"id\":\"40500\",\"type\":\"Scatter\"},{\"attributes\":{\"dimension\":1,\"ticker\":{\"id\":\"39538\",\"type\":\"BasicTicker\"}},\"id\":\"39541\",\"type\":\"Grid\"},{\"attributes\":{\"axis_label\":\"distance (m)\",\"formatter\":{\"id\":\"40443\",\"type\":\"BasicTickFormatter\"},\"ticker\":{\"id\":\"39538\",\"type\":\"BasicTicker\"}},\"id\":\"39537\",\"type\":\"LinearAxis\"},{\"attributes\":{},\"id\":\"40449\",\"type\":\"Selection\"},{\"attributes\":{\"data_source\":{\"id\":\"40498\",\"type\":\"ColumnDataSource\"},\"glyph\":{\"id\":\"40499\",\"type\":\"Scatter\"},\"hover_glyph\":null,\"muted_glyph\":null,\"nonselection_glyph\":{\"id\":\"40500\",\"type\":\"Scatter\"},\"selection_glyph\":null,\"view\":{\"id\":\"40502\",\"type\":\"CDSView\"}},\"id\":\"40501\",\"type\":\"GlyphRenderer\"},{\"attributes\":{},\"id\":\"40445\",\"type\":\"BasicTickFormatter\"},{\"attributes\":{\"callback\":null,\"data\":{\"x\":[0,1,2,3,4,5,6,7,8,9],\"y\":{\"__ndarray__\":\"QJaKC2P+YkBquZt2KBZhQCK5WcPbW15AdP97mWaLWkDERZ5v8bpWQBSMwEV86lJAzqTFNw40TkByMQrkI5NGQCB8nSBz5D1AtipN8jxFLUA=\",\"dtype\":\"float64\",\"shape\":[10]}},\"selected\":{\"id\":\"41394\",\"type\":\"Selection\"},\"selection_policy\":{\"id\":\"41393\",\"type\":\"UnionRenderers\"}},\"id\":\"40498\",\"type\":\"ColumnDataSource\"},{\"attributes\":{},\"id\":\"40443\",\"type\":\"BasicTickFormatter\"},{\"attributes\":{},\"id\":\"41394\",\"type\":\"Selection\"},{\"attributes\":{\"fill_color\":{\"value\":\"#1f77b4\"},\"line_color\":{\"value\":\"#1f77b4\"},\"x\":{\"field\":\"x\"},\"y\":{\"field\":\"y\"}},\"id\":\"39556\",\"type\":\"Scatter\"},{\"attributes\":{\"fill_alpha\":{\"value\":0.1},\"fill_color\":{\"value\":\"#1f77b4\"},\"line_alpha\":{\"value\":0.1},\"line_color\":{\"value\":\"#1f77b4\"},\"x\":{\"field\":\"x\"},\"y\":{\"field\":\"y\"}},\"id\":\"39557\",\"type\":\"Scatter\"},{\"attributes\":{\"bottom_units\":\"screen\",\"fill_alpha\":{\"value\":0.5},\"fill_color\":{\"value\":\"lightgrey\"},\"left_units\":\"screen\",\"level\":\"overlay\",\"line_alpha\":{\"value\":1.0},\"line_color\":{\"value\":\"black\"},\"line_dash\":[4,4],\"line_width\":{\"value\":2},\"render_mode\":\"css\",\"right_units\":\"screen\",\"top_units\":\"screen\"},\"id\":\"40447\",\"type\":\"BoxAnnotation\"},{\"attributes\":{\"active_drag\":\"auto\",\"active_inspect\":\"auto\",\"active_multi\":null,\"active_scroll\":\"auto\",\"active_tap\":\"auto\",\"tools\":[{\"id\":\"39542\",\"type\":\"PanTool\"},{\"id\":\"39543\",\"type\":\"WheelZoomTool\"},{\"id\":\"39544\",\"type\":\"BoxZoomTool\"},{\"id\":\"39545\",\"type\":\"SaveTool\"},{\"id\":\"39546\",\"type\":\"ResetTool\"},{\"id\":\"39547\",\"type\":\"HelpTool\"}]},\"id\":\"39548\",\"type\":\"Toolbar\"},{\"attributes\":{\"text\":\"Measured Distance to Moving Object\"},\"id\":\"39522\",\"type\":\"Title\"},{\"attributes\":{\"data_source\":{\"id\":\"39555\",\"type\":\"ColumnDataSource\"},\"glyph\":{\"id\":\"39556\",\"type\":\"Scatter\"},\"hover_glyph\":null,\"muted_glyph\":null,\"nonselection_glyph\":{\"id\":\"39557\",\"type\":\"Scatter\"},\"selection_glyph\":null,\"view\":{\"id\":\"39559\",\"type\":\"CDSView\"}},\"id\":\"39558\",\"type\":\"GlyphRenderer\"},{\"attributes\":{},\"id\":\"39542\",\"type\":\"PanTool\"},{\"attributes\":{\"callback\":null,\"data\":{\"x\":[0,1,2,3,4,5,6,7,8,9],\"y\":{\"__ndarray__\":\"md4bKuycYkCQ0DLrU/9gQMXC5Hjhzl9AIBEtILbqWUCsEx4dllJYQJrxwee0FFJAJtmgAh3bTUBIwje7TI1FQP+3QBqNLzlASJg5c6aGM0A=\",\"dtype\":\"float64\",\"shape\":[10]}},\"selected\":{\"id\":\"40449\",\"type\":\"Selection\"},\"selection_policy\":{\"id\":\"40448\",\"type\":\"UnionRenderers\"}},\"id\":\"39555\",\"type\":\"ColumnDataSource\"},{\"attributes\":{\"fill_color\":{\"value\":\"green\"},\"line_color\":{\"value\":\"green\"},\"x\":{\"field\":\"x\"},\"y\":{\"field\":\"y\"}},\"id\":\"40499\",\"type\":\"Scatter\"},{\"attributes\":{},\"id\":\"39543\",\"type\":\"WheelZoomTool\"},{\"attributes\":{\"callback\":null},\"id\":\"39524\",\"type\":\"DataRange1d\"},{\"attributes\":{\"overlay\":{\"id\":\"40447\",\"type\":\"BoxAnnotation\"}},\"id\":\"39544\",\"type\":\"BoxZoomTool\"},{\"attributes\":{},\"id\":\"39545\",\"type\":\"SaveTool\"},{\"attributes\":{},\"id\":\"41393\",\"type\":\"UnionRenderers\"},{\"attributes\":{},\"id\":\"40448\",\"type\":\"UnionRenderers\"},{\"attributes\":{\"callback\":null},\"id\":\"39526\",\"type\":\"DataRange1d\"},{\"attributes\":{},\"id\":\"39546\",\"type\":\"ResetTool\"},{\"attributes\":{},\"id\":\"39528\",\"type\":\"LinearScale\"},{\"attributes\":{},\"id\":\"39547\",\"type\":\"HelpTool\"},{\"attributes\":{},\"id\":\"39530\",\"type\":\"LinearScale\"},{\"attributes\":{},\"id\":\"39533\",\"type\":\"BasicTicker\"},{\"attributes\":{\"axis_label\":\"time\",\"formatter\":{\"id\":\"40445\",\"type\":\"BasicTickFormatter\"},\"ticker\":{\"id\":\"39533\",\"type\":\"BasicTicker\"}},\"id\":\"39532\",\"type\":\"LinearAxis\"}],\"root_ids\":[\"39521\"]},\"title\":\"Bokeh Application\",\"version\":\"1.4.0\"}};\n",
       "  var render_items = [{\"docid\":\"3df908bd-5dda-4033-8349-a92aee5201cb\",\"roots\":{\"39521\":\"cf17aedd-c2c7-4b38-8a0c-32c5ba6d2829\"}}];\n",
       "  root.Bokeh.embed.embed_items_notebook(docs_json, render_items);\n",
       "\n",
       "  }\n",
       "  if (root.Bokeh !== undefined) {\n",
       "    embed_document(root);\n",
       "  } else {\n",
       "    var attempts = 0;\n",
       "    var timer = setInterval(function(root) {\n",
       "      if (root.Bokeh !== undefined) {\n",
       "        clearInterval(timer);\n",
       "        embed_document(root);\n",
       "      } else {\n",
       "        attempts++;\n",
       "        if (attempts > 100) {\n",
       "          clearInterval(timer);\n",
       "          console.log(\"Bokeh: ERROR: Unable to run BokehJS code because BokehJS library is missing\");\n",
       "        }\n",
       "      }\n",
       "    }, 10, root)\n",
       "  }\n",
       "})(window);"
      ],
      "application/vnd.bokehjs_exec.v0+json": ""
     },
     "metadata": {
      "application/vnd.bokehjs_exec.v0+json": {
       "id": "39521"
      }
     },
     "output_type": "display_data"
    }
   ],
   "source": [
    "f.scatter(x=x,y=Yhat[:,0],color='green')\n",
    "show(f)"
   ]
  },
  {
   "cell_type": "markdown",
   "metadata": {},
   "source": [
    "We can connect the dots to see the line of best fit."
   ]
  },
  {
   "cell_type": "code",
   "execution_count": 277,
   "metadata": {},
   "outputs": [
    {
     "data": {
      "text/html": [
       "\n",
       "\n",
       "\n",
       "\n",
       "\n",
       "\n",
       "  <div class=\"bk-root\" id=\"ddf98e7f-bbf9-4576-afa4-c0d6a76c0b36\" data-root-id=\"39521\"></div>\n"
      ]
     },
     "metadata": {},
     "output_type": "display_data"
    },
    {
     "data": {
      "application/javascript": [
       "(function(root) {\n",
       "  function embed_document(root) {\n",
       "    \n",
       "  var docs_json = {\"a847cb78-e95a-498f-9bd0-2807a05d4cb3\":{\"roots\":{\"references\":[{\"attributes\":{\"below\":[{\"id\":\"39532\",\"type\":\"LinearAxis\"}],\"center\":[{\"id\":\"39536\",\"type\":\"Grid\"},{\"id\":\"39541\",\"type\":\"Grid\"}],\"left\":[{\"id\":\"39537\",\"type\":\"LinearAxis\"}],\"plot_height\":400,\"plot_width\":400,\"renderers\":[{\"id\":\"39558\",\"type\":\"GlyphRenderer\"},{\"id\":\"40501\",\"type\":\"GlyphRenderer\"},{\"id\":\"41458\",\"type\":\"GlyphRenderer\"}],\"title\":{\"id\":\"39522\",\"type\":\"Title\"},\"toolbar\":{\"id\":\"39548\",\"type\":\"Toolbar\"},\"x_range\":{\"id\":\"39524\",\"type\":\"DataRange1d\"},\"x_scale\":{\"id\":\"39528\",\"type\":\"LinearScale\"},\"y_range\":{\"id\":\"39526\",\"type\":\"DataRange1d\"},\"y_scale\":{\"id\":\"39530\",\"type\":\"LinearScale\"}},\"id\":\"39521\",\"subtype\":\"Figure\",\"type\":\"Plot\"},{\"attributes\":{},\"id\":\"39538\",\"type\":\"BasicTicker\"},{\"attributes\":{\"source\":{\"id\":\"39555\",\"type\":\"ColumnDataSource\"}},\"id\":\"39559\",\"type\":\"CDSView\"},{\"attributes\":{\"source\":{\"id\":\"40498\",\"type\":\"ColumnDataSource\"}},\"id\":\"40502\",\"type\":\"CDSView\"},{\"attributes\":{\"ticker\":{\"id\":\"39533\",\"type\":\"BasicTicker\"}},\"id\":\"39536\",\"type\":\"Grid\"},{\"attributes\":{\"fill_alpha\":{\"value\":0.1},\"fill_color\":{\"value\":\"#1f77b4\"},\"line_alpha\":{\"value\":0.1},\"line_color\":{\"value\":\"#1f77b4\"},\"x\":{\"field\":\"x\"},\"y\":{\"field\":\"y\"}},\"id\":\"40500\",\"type\":\"Scatter\"},{\"attributes\":{\"dimension\":1,\"ticker\":{\"id\":\"39538\",\"type\":\"BasicTicker\"}},\"id\":\"39541\",\"type\":\"Grid\"},{\"attributes\":{\"axis_label\":\"distance (m)\",\"formatter\":{\"id\":\"40443\",\"type\":\"BasicTickFormatter\"},\"ticker\":{\"id\":\"39538\",\"type\":\"BasicTicker\"}},\"id\":\"39537\",\"type\":\"LinearAxis\"},{\"attributes\":{},\"id\":\"40449\",\"type\":\"Selection\"},{\"attributes\":{\"data_source\":{\"id\":\"40498\",\"type\":\"ColumnDataSource\"},\"glyph\":{\"id\":\"40499\",\"type\":\"Scatter\"},\"hover_glyph\":null,\"muted_glyph\":null,\"nonselection_glyph\":{\"id\":\"40500\",\"type\":\"Scatter\"},\"selection_glyph\":null,\"view\":{\"id\":\"40502\",\"type\":\"CDSView\"}},\"id\":\"40501\",\"type\":\"GlyphRenderer\"},{\"attributes\":{},\"id\":\"40445\",\"type\":\"BasicTickFormatter\"},{\"attributes\":{\"callback\":null,\"data\":{\"x\":[0,1,2,3,4,5,6,7,8,9],\"y\":{\"__ndarray__\":\"QJaKC2P+YkBquZt2KBZhQCK5WcPbW15AdP97mWaLWkDERZ5v8bpWQBSMwEV86lJAzqTFNw40TkByMQrkI5NGQCB8nSBz5D1AtipN8jxFLUA=\",\"dtype\":\"float64\",\"shape\":[10]}},\"selected\":{\"id\":\"41394\",\"type\":\"Selection\"},\"selection_policy\":{\"id\":\"41393\",\"type\":\"UnionRenderers\"}},\"id\":\"40498\",\"type\":\"ColumnDataSource\"},{\"attributes\":{},\"id\":\"42353\",\"type\":\"Selection\"},{\"attributes\":{\"line_alpha\":0.1,\"line_color\":\"#1f77b4\",\"x\":{\"field\":\"x\"},\"y\":{\"field\":\"y\"}},\"id\":\"41457\",\"type\":\"Line\"},{\"attributes\":{},\"id\":\"40443\",\"type\":\"BasicTickFormatter\"},{\"attributes\":{\"callback\":null,\"data\":{\"x\":[0,1,2,3,4,5,6,7,8,9],\"y\":{\"__ndarray__\":\"QJaKC2P+YkBquZt2KBZhQCK5WcPbW15AdP97mWaLWkDERZ5v8bpWQBSMwEV86lJAzqTFNw40TkByMQrkI5NGQCB8nSBz5D1AtipN8jxFLUA=\",\"dtype\":\"float64\",\"shape\":[10]}},\"selected\":{\"id\":\"42353\",\"type\":\"Selection\"},\"selection_policy\":{\"id\":\"42352\",\"type\":\"UnionRenderers\"}},\"id\":\"41455\",\"type\":\"ColumnDataSource\"},{\"attributes\":{},\"id\":\"41394\",\"type\":\"Selection\"},{\"attributes\":{\"fill_color\":{\"value\":\"#1f77b4\"},\"line_color\":{\"value\":\"#1f77b4\"},\"x\":{\"field\":\"x\"},\"y\":{\"field\":\"y\"}},\"id\":\"39556\",\"type\":\"Scatter\"},{\"attributes\":{\"fill_alpha\":{\"value\":0.1},\"fill_color\":{\"value\":\"#1f77b4\"},\"line_alpha\":{\"value\":0.1},\"line_color\":{\"value\":\"#1f77b4\"},\"x\":{\"field\":\"x\"},\"y\":{\"field\":\"y\"}},\"id\":\"39557\",\"type\":\"Scatter\"},{\"attributes\":{\"bottom_units\":\"screen\",\"fill_alpha\":{\"value\":0.5},\"fill_color\":{\"value\":\"lightgrey\"},\"left_units\":\"screen\",\"level\":\"overlay\",\"line_alpha\":{\"value\":1.0},\"line_color\":{\"value\":\"black\"},\"line_dash\":[4,4],\"line_width\":{\"value\":2},\"render_mode\":\"css\",\"right_units\":\"screen\",\"top_units\":\"screen\"},\"id\":\"40447\",\"type\":\"BoxAnnotation\"},{\"attributes\":{\"active_drag\":\"auto\",\"active_inspect\":\"auto\",\"active_multi\":null,\"active_scroll\":\"auto\",\"active_tap\":\"auto\",\"tools\":[{\"id\":\"39542\",\"type\":\"PanTool\"},{\"id\":\"39543\",\"type\":\"WheelZoomTool\"},{\"id\":\"39544\",\"type\":\"BoxZoomTool\"},{\"id\":\"39545\",\"type\":\"SaveTool\"},{\"id\":\"39546\",\"type\":\"ResetTool\"},{\"id\":\"39547\",\"type\":\"HelpTool\"}]},\"id\":\"39548\",\"type\":\"Toolbar\"},{\"attributes\":{\"source\":{\"id\":\"41455\",\"type\":\"ColumnDataSource\"}},\"id\":\"41459\",\"type\":\"CDSView\"},{\"attributes\":{},\"id\":\"42352\",\"type\":\"UnionRenderers\"},{\"attributes\":{\"text\":\"Measured Distance to Moving Object\"},\"id\":\"39522\",\"type\":\"Title\"},{\"attributes\":{\"data_source\":{\"id\":\"39555\",\"type\":\"ColumnDataSource\"},\"glyph\":{\"id\":\"39556\",\"type\":\"Scatter\"},\"hover_glyph\":null,\"muted_glyph\":null,\"nonselection_glyph\":{\"id\":\"39557\",\"type\":\"Scatter\"},\"selection_glyph\":null,\"view\":{\"id\":\"39559\",\"type\":\"CDSView\"}},\"id\":\"39558\",\"type\":\"GlyphRenderer\"},{\"attributes\":{},\"id\":\"39542\",\"type\":\"PanTool\"},{\"attributes\":{\"callback\":null,\"data\":{\"x\":[0,1,2,3,4,5,6,7,8,9],\"y\":{\"__ndarray__\":\"md4bKuycYkCQ0DLrU/9gQMXC5Hjhzl9AIBEtILbqWUCsEx4dllJYQJrxwee0FFJAJtmgAh3bTUBIwje7TI1FQP+3QBqNLzlASJg5c6aGM0A=\",\"dtype\":\"float64\",\"shape\":[10]}},\"selected\":{\"id\":\"40449\",\"type\":\"Selection\"},\"selection_policy\":{\"id\":\"40448\",\"type\":\"UnionRenderers\"}},\"id\":\"39555\",\"type\":\"ColumnDataSource\"},{\"attributes\":{\"fill_color\":{\"value\":\"green\"},\"line_color\":{\"value\":\"green\"},\"x\":{\"field\":\"x\"},\"y\":{\"field\":\"y\"}},\"id\":\"40499\",\"type\":\"Scatter\"},{\"attributes\":{},\"id\":\"39543\",\"type\":\"WheelZoomTool\"},{\"attributes\":{\"callback\":null},\"id\":\"39524\",\"type\":\"DataRange1d\"},{\"attributes\":{\"line_color\":\"green\",\"x\":{\"field\":\"x\"},\"y\":{\"field\":\"y\"}},\"id\":\"41456\",\"type\":\"Line\"},{\"attributes\":{\"overlay\":{\"id\":\"40447\",\"type\":\"BoxAnnotation\"}},\"id\":\"39544\",\"type\":\"BoxZoomTool\"},{\"attributes\":{},\"id\":\"39545\",\"type\":\"SaveTool\"},{\"attributes\":{},\"id\":\"41393\",\"type\":\"UnionRenderers\"},{\"attributes\":{\"data_source\":{\"id\":\"41455\",\"type\":\"ColumnDataSource\"},\"glyph\":{\"id\":\"41456\",\"type\":\"Line\"},\"hover_glyph\":null,\"muted_glyph\":null,\"nonselection_glyph\":{\"id\":\"41457\",\"type\":\"Line\"},\"selection_glyph\":null,\"view\":{\"id\":\"41459\",\"type\":\"CDSView\"}},\"id\":\"41458\",\"type\":\"GlyphRenderer\"},{\"attributes\":{},\"id\":\"40448\",\"type\":\"UnionRenderers\"},{\"attributes\":{\"callback\":null},\"id\":\"39526\",\"type\":\"DataRange1d\"},{\"attributes\":{},\"id\":\"39546\",\"type\":\"ResetTool\"},{\"attributes\":{},\"id\":\"39528\",\"type\":\"LinearScale\"},{\"attributes\":{},\"id\":\"39547\",\"type\":\"HelpTool\"},{\"attributes\":{},\"id\":\"39530\",\"type\":\"LinearScale\"},{\"attributes\":{},\"id\":\"39533\",\"type\":\"BasicTicker\"},{\"attributes\":{\"axis_label\":\"time\",\"formatter\":{\"id\":\"40445\",\"type\":\"BasicTickFormatter\"},\"ticker\":{\"id\":\"39533\",\"type\":\"BasicTicker\"}},\"id\":\"39532\",\"type\":\"LinearAxis\"}],\"root_ids\":[\"39521\"]},\"title\":\"Bokeh Application\",\"version\":\"1.4.0\"}};\n",
       "  var render_items = [{\"docid\":\"a847cb78-e95a-498f-9bd0-2807a05d4cb3\",\"roots\":{\"39521\":\"ddf98e7f-bbf9-4576-afa4-c0d6a76c0b36\"}}];\n",
       "  root.Bokeh.embed.embed_items_notebook(docs_json, render_items);\n",
       "\n",
       "  }\n",
       "  if (root.Bokeh !== undefined) {\n",
       "    embed_document(root);\n",
       "  } else {\n",
       "    var attempts = 0;\n",
       "    var timer = setInterval(function(root) {\n",
       "      if (root.Bokeh !== undefined) {\n",
       "        clearInterval(timer);\n",
       "        embed_document(root);\n",
       "      } else {\n",
       "        attempts++;\n",
       "        if (attempts > 100) {\n",
       "          clearInterval(timer);\n",
       "          console.log(\"Bokeh: ERROR: Unable to run BokehJS code because BokehJS library is missing\");\n",
       "        }\n",
       "      }\n",
       "    }, 10, root)\n",
       "  }\n",
       "})(window);"
      ],
      "application/vnd.bokehjs_exec.v0+json": ""
     },
     "metadata": {
      "application/vnd.bokehjs_exec.v0+json": {
       "id": "39521"
      }
     },
     "output_type": "display_data"
    }
   ],
   "source": [
    "f.line(x=x,y=Yhat[:,0],color='green')\n",
    "show(f)"
   ]
  },
  {
   "cell_type": "code",
   "execution_count": 280,
   "metadata": {},
   "outputs": [
    {
     "data": {
      "text/plain": [
       "(10, 1)"
      ]
     },
     "execution_count": 280,
     "metadata": {},
     "output_type": "execute_result"
    }
   ],
   "source": [
    "Y.shape\n",
    "Yhat.shape"
   ]
  },
  {
   "cell_type": "code",
   "execution_count": 281,
   "metadata": {},
   "outputs": [
    {
     "data": {
      "text/html": [
       "\n",
       "\n",
       "\n",
       "\n",
       "\n",
       "\n",
       "  <div class=\"bk-root\" id=\"97da1e44-750f-4868-99de-d16e163d1ff2\" data-root-id=\"42459\"></div>\n"
      ]
     },
     "metadata": {},
     "output_type": "display_data"
    },
    {
     "data": {
      "application/javascript": [
       "(function(root) {\n",
       "  function embed_document(root) {\n",
       "    \n",
       "  var docs_json = {\"3b742c11-b510-4ba4-a41a-520c80ea7bd9\":{\"roots\":{\"references\":[{\"attributes\":{\"below\":[{\"id\":\"42468\",\"type\":\"LinearAxis\"}],\"center\":[{\"id\":\"42472\",\"type\":\"Grid\"},{\"id\":\"42477\",\"type\":\"Grid\"}],\"left\":[{\"id\":\"42473\",\"type\":\"LinearAxis\"}],\"plot_height\":300,\"plot_width\":300,\"renderers\":[{\"id\":\"42494\",\"type\":\"GlyphRenderer\"},{\"id\":\"42499\",\"type\":\"GlyphRenderer\"}],\"title\":{\"id\":\"43395\",\"type\":\"Title\"},\"toolbar\":{\"id\":\"42484\",\"type\":\"Toolbar\"},\"x_range\":{\"id\":\"42460\",\"type\":\"DataRange1d\"},\"x_scale\":{\"id\":\"42464\",\"type\":\"LinearScale\"},\"y_range\":{\"id\":\"42462\",\"type\":\"DataRange1d\"},\"y_scale\":{\"id\":\"42466\",\"type\":\"LinearScale\"}},\"id\":\"42459\",\"subtype\":\"Figure\",\"type\":\"Plot\"},{\"attributes\":{\"overlay\":{\"id\":\"43401\",\"type\":\"BoxAnnotation\"}},\"id\":\"42480\",\"type\":\"BoxZoomTool\"},{\"attributes\":{\"callback\":null},\"id\":\"42460\",\"type\":\"DataRange1d\"},{\"attributes\":{\"callback\":null},\"id\":\"42462\",\"type\":\"DataRange1d\"},{\"attributes\":{\"active_drag\":\"auto\",\"active_inspect\":\"auto\",\"active_multi\":null,\"active_scroll\":\"auto\",\"active_tap\":\"auto\",\"tools\":[{\"id\":\"42478\",\"type\":\"PanTool\"},{\"id\":\"42479\",\"type\":\"WheelZoomTool\"},{\"id\":\"42480\",\"type\":\"BoxZoomTool\"},{\"id\":\"42481\",\"type\":\"SaveTool\"},{\"id\":\"42482\",\"type\":\"ResetTool\"},{\"id\":\"42483\",\"type\":\"HelpTool\"}]},\"id\":\"42484\",\"type\":\"Toolbar\"},{\"attributes\":{},\"id\":\"42464\",\"type\":\"LinearScale\"},{\"attributes\":{},\"id\":\"42466\",\"type\":\"LinearScale\"},{\"attributes\":{\"source\":{\"id\":\"42496\",\"type\":\"ColumnDataSource\"}},\"id\":\"42500\",\"type\":\"CDSView\"},{\"attributes\":{\"data_source\":{\"id\":\"42491\",\"type\":\"ColumnDataSource\"},\"glyph\":{\"id\":\"42492\",\"type\":\"Scatter\"},\"hover_glyph\":null,\"muted_glyph\":null,\"nonselection_glyph\":{\"id\":\"42493\",\"type\":\"Scatter\"},\"selection_glyph\":null,\"view\":{\"id\":\"42495\",\"type\":\"CDSView\"}},\"id\":\"42494\",\"type\":\"GlyphRenderer\"},{\"attributes\":{\"bottom_units\":\"screen\",\"fill_alpha\":{\"value\":0.5},\"fill_color\":{\"value\":\"lightgrey\"},\"left_units\":\"screen\",\"level\":\"overlay\",\"line_alpha\":{\"value\":1.0},\"line_color\":{\"value\":\"black\"},\"line_dash\":[4,4],\"line_width\":{\"value\":2},\"render_mode\":\"css\",\"right_units\":\"screen\",\"top_units\":\"screen\"},\"id\":\"43401\",\"type\":\"BoxAnnotation\"},{\"attributes\":{\"axis_label\":\"Y\",\"formatter\":{\"id\":\"43399\",\"type\":\"BasicTickFormatter\"},\"ticker\":{\"id\":\"42469\",\"type\":\"BasicTicker\"}},\"id\":\"42468\",\"type\":\"LinearAxis\"},{\"attributes\":{},\"id\":\"42474\",\"type\":\"BasicTicker\"},{\"attributes\":{},\"id\":\"43403\",\"type\":\"Selection\"},{\"attributes\":{},\"id\":\"42469\",\"type\":\"BasicTicker\"},{\"attributes\":{\"text\":\"\"},\"id\":\"43395\",\"type\":\"Title\"},{\"attributes\":{},\"id\":\"42481\",\"type\":\"SaveTool\"},{\"attributes\":{\"ticker\":{\"id\":\"42469\",\"type\":\"BasicTicker\"}},\"id\":\"42472\",\"type\":\"Grid\"},{\"attributes\":{\"fill_alpha\":{\"value\":0.1},\"fill_color\":{\"value\":\"#1f77b4\"},\"line_alpha\":{\"value\":0.1},\"line_color\":{\"value\":\"#1f77b4\"},\"x\":{\"field\":\"x\"},\"y\":{\"field\":\"y\"}},\"id\":\"42493\",\"type\":\"Scatter\"},{\"attributes\":{\"dimension\":1,\"ticker\":{\"id\":\"42474\",\"type\":\"BasicTicker\"}},\"id\":\"42477\",\"type\":\"Grid\"},{\"attributes\":{},\"id\":\"42483\",\"type\":\"HelpTool\"},{\"attributes\":{\"axis_label\":\"Yhat\",\"formatter\":{\"id\":\"43397\",\"type\":\"BasicTickFormatter\"},\"ticker\":{\"id\":\"42474\",\"type\":\"BasicTicker\"}},\"id\":\"42473\",\"type\":\"LinearAxis\"},{\"attributes\":{},\"id\":\"43402\",\"type\":\"UnionRenderers\"},{\"attributes\":{\"fill_color\":{\"value\":\"#1f77b4\"},\"line_color\":{\"value\":\"#1f77b4\"},\"x\":{\"field\":\"x\"},\"y\":{\"field\":\"y\"}},\"id\":\"42492\",\"type\":\"Scatter\"},{\"attributes\":{\"source\":{\"id\":\"42491\",\"type\":\"ColumnDataSource\"}},\"id\":\"42495\",\"type\":\"CDSView\"},{\"attributes\":{},\"id\":\"43405\",\"type\":\"Selection\"},{\"attributes\":{},\"id\":\"43399\",\"type\":\"BasicTickFormatter\"},{\"attributes\":{},\"id\":\"43397\",\"type\":\"BasicTickFormatter\"},{\"attributes\":{\"data_source\":{\"id\":\"42496\",\"type\":\"ColumnDataSource\"},\"glyph\":{\"id\":\"42497\",\"type\":\"Line\"},\"hover_glyph\":null,\"muted_glyph\":null,\"nonselection_glyph\":{\"id\":\"42498\",\"type\":\"Line\"},\"selection_glyph\":null,\"view\":{\"id\":\"42500\",\"type\":\"CDSView\"}},\"id\":\"42499\",\"type\":\"GlyphRenderer\"},{\"attributes\":{},\"id\":\"42482\",\"type\":\"ResetTool\"},{\"attributes\":{\"line_color\":\"#1f77b4\",\"x\":{\"field\":\"x\"},\"y\":{\"field\":\"y\"}},\"id\":\"42497\",\"type\":\"Line\"},{\"attributes\":{},\"id\":\"43404\",\"type\":\"UnionRenderers\"},{\"attributes\":{\"callback\":null,\"data\":{\"x\":{\"__ndarray__\":\"md4bKuycYkCQ0DLrU/9gQMXC5Hjhzl9AIBEtILbqWUCsEx4dllJYQJrxwee0FFJAJtmgAh3bTUBIwje7TI1FQP+3QBqNLzlASJg5c6aGM0A=\",\"dtype\":\"float64\",\"shape\":[10]},\"y\":{\"__ndarray__\":\"QJaKC2P+YkBquZt2KBZhQCK5WcPbW15AdP97mWaLWkDERZ5v8bpWQBSMwEV86lJAzqTFNw40TkByMQrkI5NGQCB8nSBz5D1AtipN8jxFLUA=\",\"dtype\":\"float64\",\"shape\":[10]}},\"selected\":{\"id\":\"43403\",\"type\":\"Selection\"},\"selection_policy\":{\"id\":\"43402\",\"type\":\"UnionRenderers\"}},\"id\":\"42491\",\"type\":\"ColumnDataSource\"},{\"attributes\":{\"callback\":null,\"data\":{\"x\":[19.52597732692837,148.90382867282167],\"y\":[19.52597732692837,148.90382867282167]},\"selected\":{\"id\":\"43405\",\"type\":\"Selection\"},\"selection_policy\":{\"id\":\"43404\",\"type\":\"UnionRenderers\"}},\"id\":\"42496\",\"type\":\"ColumnDataSource\"},{\"attributes\":{\"line_alpha\":0.1,\"line_color\":\"#1f77b4\",\"x\":{\"field\":\"x\"},\"y\":{\"field\":\"y\"}},\"id\":\"42498\",\"type\":\"Line\"},{\"attributes\":{},\"id\":\"42478\",\"type\":\"PanTool\"},{\"attributes\":{},\"id\":\"42479\",\"type\":\"WheelZoomTool\"}],\"root_ids\":[\"42459\"]},\"title\":\"Bokeh Application\",\"version\":\"1.4.0\"}};\n",
       "  var render_items = [{\"docid\":\"3b742c11-b510-4ba4-a41a-520c80ea7bd9\",\"roots\":{\"42459\":\"97da1e44-750f-4868-99de-d16e163d1ff2\"}}];\n",
       "  root.Bokeh.embed.embed_items_notebook(docs_json, render_items);\n",
       "\n",
       "  }\n",
       "  if (root.Bokeh !== undefined) {\n",
       "    embed_document(root);\n",
       "  } else {\n",
       "    var attempts = 0;\n",
       "    var timer = setInterval(function(root) {\n",
       "      if (root.Bokeh !== undefined) {\n",
       "        clearInterval(timer);\n",
       "        embed_document(root);\n",
       "      } else {\n",
       "        attempts++;\n",
       "        if (attempts > 100) {\n",
       "          clearInterval(timer);\n",
       "          console.log(\"Bokeh: ERROR: Unable to run BokehJS code because BokehJS library is missing\");\n",
       "        }\n",
       "      }\n",
       "    }, 10, root)\n",
       "  }\n",
       "})(window);"
      ],
      "application/vnd.bokehjs_exec.v0+json": ""
     },
     "metadata": {
      "application/vnd.bokehjs_exec.v0+json": {
       "id": "42459"
      }
     },
     "output_type": "display_data"
    }
   ],
   "source": [
    "show(comparison_plot(Y[:,0], Yhat[:,0]))"
   ]
  },
  {
   "cell_type": "markdown",
   "metadata": {},
   "source": [
    "### The MPG Data"
   ]
  },
  {
   "cell_type": "markdown",
   "metadata": {},
   "source": [
    "Figure 2 in the notes shows data relating engine size to mileage for a group of cars.  Your task is to reproduce the graph\n",
    "show in the figure."
   ]
  },
  {
   "cell_type": "markdown",
   "metadata": {},
   "source": [
    "#### Step 1.  Load the data\n",
    "\n",
    "The mileage data is in a comma separated file (csv) called `../data/auto-mpg/auto-mpg.csv`  The command `np.genfromtxt`\n",
    "can be used to read in an array like this.  You can examine the file by using the jupyter file browser and double clicking on the file name.  You will see that:\n",
    "- the first row is a header\n",
    "- the last column is the type of car, which is a string; numpy can't handle that so it will set them to nan meaning 'not a number'\n",
    "- mpg is column zero\n",
    "- displacement is column 2"
   ]
  },
  {
   "cell_type": "code",
   "execution_count": 282,
   "metadata": {},
   "outputs": [
    {
     "data": {
      "text/plain": [
       "array([[ 18.,   8., 307., ...,  70.,   1.,  nan],\n",
       "       [ 15.,   8., 350., ...,  70.,   1.,  nan],\n",
       "       [ 18.,   8., 318., ...,  70.,   1.,  nan],\n",
       "       ...,\n",
       "       [ 32.,   4., 135., ...,  82.,   1.,  nan],\n",
       "       [ 28.,   4., 120., ...,  82.,   1.,  nan],\n",
       "       [ 31.,   4., 119., ...,  82.,   1.,  nan]])"
      ]
     },
     "execution_count": 282,
     "metadata": {},
     "output_type": "execute_result"
    }
   ],
   "source": [
    "data = np.genfromtxt('../data/auto-mpg/auto-mpg.csv',delimiter=',',skip_header=1)\n",
    "data"
   ]
  },
  {
   "cell_type": "markdown",
   "metadata": {},
   "source": [
    "Now your job is to complete the code below, following the work we did above, so that you:\n",
    "- Create  variable $x$ that is just column 2 (displacement) of the data matrix \n",
    "- create variable $Y$ that is just column 0 (mpg) of the data matrix \n",
    "- Plot $x$ and $Y$ as a scatter plot.\n",
    "- Create a matrix whose first column is $x$ and whose second column is all $1$.\n",
    "- Compute the matrix $D=X^{\\intercal}X$\n",
    "- Find $M=D^{-1}X^{\\intercal}Y$\n",
    "- Find $Yhat= XD^{-1}X^{\\intercal}Y$\n",
    "- Plot $Yhat$ and the predicted line."
   ]
  },
  {
   "cell_type": "code",
   "execution_count": 283,
   "metadata": {},
   "outputs": [],
   "source": [
    "#x=data[]\n",
    "#Y=data[]\n",
    "#f = figure()\n",
    "#f.scatter()\n",
    "#show(f)\n"
   ]
  },
  {
   "cell_type": "code",
   "execution_count": 285,
   "metadata": {},
   "outputs": [],
   "source": [
    "\n",
    "#X = np.concatenate([],axis=1)\n",
    "#D = np.dot(...)\n",
    "#M = np.dot(...)\n",
    "#Yhat = ...\n",
    "#f.scatter(...,color='green')\n",
    "#f.line(...,color='green')"
   ]
  },
  {
   "cell_type": "markdown",
   "metadata": {},
   "source": [
    "### Residuals\n",
    "\n",
    "One way to evaluate the fit of the line to the data is to compare Y and Yhat.  Let's make a scatter plot of Y vs Yhat to see\n",
    "how they compare.  If the fit is good, the points should cluster around the diagonal line y=x.\n",
    "\n"
   ]
  },
  {
   "cell_type": "code",
   "execution_count": 287,
   "metadata": {},
   "outputs": [
    {
     "data": {
      "text/html": [
       "\n",
       "\n",
       "\n",
       "\n",
       "\n",
       "\n",
       "  <div class=\"bk-root\" id=\"295b7ea5-cae6-44c0-96ed-b309ae94a85e\" data-root-id=\"46399\"></div>\n"
      ]
     },
     "metadata": {},
     "output_type": "display_data"
    },
    {
     "data": {
      "application/javascript": [
       "(function(root) {\n",
       "  function embed_document(root) {\n",
       "    \n",
       "  var docs_json = {\"aa8c7119-3b32-4afd-bdd2-22f58dfeeb7b\":{\"roots\":{\"references\":[{\"attributes\":{\"below\":[{\"id\":\"46408\",\"type\":\"LinearAxis\"}],\"center\":[{\"id\":\"46412\",\"type\":\"Grid\"},{\"id\":\"46417\",\"type\":\"Grid\"}],\"left\":[{\"id\":\"46413\",\"type\":\"LinearAxis\"}],\"plot_height\":300,\"plot_width\":300,\"renderers\":[{\"id\":\"46434\",\"type\":\"GlyphRenderer\"},{\"id\":\"46439\",\"type\":\"GlyphRenderer\"}],\"title\":{\"id\":\"47359\",\"type\":\"Title\"},\"toolbar\":{\"id\":\"46424\",\"type\":\"Toolbar\"},\"x_range\":{\"id\":\"46400\",\"type\":\"DataRange1d\"},\"x_scale\":{\"id\":\"46404\",\"type\":\"LinearScale\"},\"y_range\":{\"id\":\"46402\",\"type\":\"DataRange1d\"},\"y_scale\":{\"id\":\"46406\",\"type\":\"LinearScale\"}},\"id\":\"46399\",\"subtype\":\"Figure\",\"type\":\"Plot\"},{\"attributes\":{\"data_source\":{\"id\":\"46436\",\"type\":\"ColumnDataSource\"},\"glyph\":{\"id\":\"46437\",\"type\":\"Line\"},\"hover_glyph\":null,\"muted_glyph\":null,\"nonselection_glyph\":{\"id\":\"46438\",\"type\":\"Line\"},\"selection_glyph\":null,\"view\":{\"id\":\"46440\",\"type\":\"CDSView\"}},\"id\":\"46439\",\"type\":\"GlyphRenderer\"},{\"attributes\":{},\"id\":\"47367\",\"type\":\"Selection\"},{\"attributes\":{},\"id\":\"46421\",\"type\":\"SaveTool\"},{\"attributes\":{\"fill_color\":{\"value\":\"#1f77b4\"},\"line_color\":{\"value\":\"#1f77b4\"},\"x\":{\"field\":\"x\"},\"y\":{\"field\":\"y\"}},\"id\":\"46432\",\"type\":\"Scatter\"},{\"attributes\":{\"line_color\":\"#1f77b4\",\"x\":{\"field\":\"x\"},\"y\":{\"field\":\"y\"}},\"id\":\"46437\",\"type\":\"Line\"},{\"attributes\":{},\"id\":\"47363\",\"type\":\"BasicTickFormatter\"},{\"attributes\":{},\"id\":\"46422\",\"type\":\"ResetTool\"},{\"attributes\":{},\"id\":\"46423\",\"type\":\"HelpTool\"},{\"attributes\":{},\"id\":\"47366\",\"type\":\"UnionRenderers\"},{\"attributes\":{},\"id\":\"46406\",\"type\":\"LinearScale\"},{\"attributes\":{\"callback\":null,\"data\":{\"x\":[9.0,46.6],\"y\":[9.0,46.6]},\"selected\":{\"id\":\"47369\",\"type\":\"Selection\"},\"selection_policy\":{\"id\":\"47368\",\"type\":\"UnionRenderers\"}},\"id\":\"46436\",\"type\":\"ColumnDataSource\"},{\"attributes\":{\"source\":{\"id\":\"46431\",\"type\":\"ColumnDataSource\"}},\"id\":\"46435\",\"type\":\"CDSView\"},{\"attributes\":{},\"id\":\"46414\",\"type\":\"BasicTicker\"},{\"attributes\":{\"line_alpha\":0.1,\"line_color\":\"#1f77b4\",\"x\":{\"field\":\"x\"},\"y\":{\"field\":\"y\"}},\"id\":\"46438\",\"type\":\"Line\"},{\"attributes\":{},\"id\":\"46409\",\"type\":\"BasicTicker\"},{\"attributes\":{\"callback\":null},\"id\":\"46400\",\"type\":\"DataRange1d\"},{\"attributes\":{\"bottom_units\":\"screen\",\"fill_alpha\":{\"value\":0.5},\"fill_color\":{\"value\":\"lightgrey\"},\"left_units\":\"screen\",\"level\":\"overlay\",\"line_alpha\":{\"value\":1.0},\"line_color\":{\"value\":\"black\"},\"line_dash\":[4,4],\"line_width\":{\"value\":2},\"render_mode\":\"css\",\"right_units\":\"screen\",\"top_units\":\"screen\"},\"id\":\"47365\",\"type\":\"BoxAnnotation\"},{\"attributes\":{\"overlay\":{\"id\":\"47365\",\"type\":\"BoxAnnotation\"}},\"id\":\"46420\",\"type\":\"BoxZoomTool\"},{\"attributes\":{\"fill_alpha\":{\"value\":0.1},\"fill_color\":{\"value\":\"#1f77b4\"},\"line_alpha\":{\"value\":0.1},\"line_color\":{\"value\":\"#1f77b4\"},\"x\":{\"field\":\"x\"},\"y\":{\"field\":\"y\"}},\"id\":\"46433\",\"type\":\"Scatter\"},{\"attributes\":{\"axis_label\":\"Y\",\"formatter\":{\"id\":\"47363\",\"type\":\"BasicTickFormatter\"},\"ticker\":{\"id\":\"46409\",\"type\":\"BasicTicker\"}},\"id\":\"46408\",\"type\":\"LinearAxis\"},{\"attributes\":{},\"id\":\"46419\",\"type\":\"WheelZoomTool\"},{\"attributes\":{\"text\":\"\"},\"id\":\"47359\",\"type\":\"Title\"},{\"attributes\":{\"source\":{\"id\":\"46436\",\"type\":\"ColumnDataSource\"}},\"id\":\"46440\",\"type\":\"CDSView\"},{\"attributes\":{\"axis_label\":\"Yhat\",\"formatter\":{\"id\":\"47361\",\"type\":\"BasicTickFormatter\"},\"ticker\":{\"id\":\"46414\",\"type\":\"BasicTicker\"}},\"id\":\"46413\",\"type\":\"LinearAxis\"},{\"attributes\":{},\"id\":\"46418\",\"type\":\"PanTool\"},{\"attributes\":{\"callback\":null,\"data\":{\"x\":{\"__ndarray__\":\"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\",\"dtype\":\"float64\",\"shape\":[398]},\"y\":{\"__ndarray__\":\"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\",\"dtype\":\"float64\",\"shape\":[398]}},\"selected\":{\"id\":\"47367\",\"type\":\"Selection\"},\"selection_policy\":{\"id\":\"47366\",\"type\":\"UnionRenderers\"}},\"id\":\"46431\",\"type\":\"ColumnDataSource\"},{\"attributes\":{},\"id\":\"47369\",\"type\":\"Selection\"},{\"attributes\":{},\"id\":\"46404\",\"type\":\"LinearScale\"},{\"attributes\":{},\"id\":\"47361\",\"type\":\"BasicTickFormatter\"},{\"attributes\":{\"dimension\":1,\"ticker\":{\"id\":\"46414\",\"type\":\"BasicTicker\"}},\"id\":\"46417\",\"type\":\"Grid\"},{\"attributes\":{\"callback\":null},\"id\":\"46402\",\"type\":\"DataRange1d\"},{\"attributes\":{\"ticker\":{\"id\":\"46409\",\"type\":\"BasicTicker\"}},\"id\":\"46412\",\"type\":\"Grid\"},{\"attributes\":{},\"id\":\"47368\",\"type\":\"UnionRenderers\"},{\"attributes\":{\"data_source\":{\"id\":\"46431\",\"type\":\"ColumnDataSource\"},\"glyph\":{\"id\":\"46432\",\"type\":\"Scatter\"},\"hover_glyph\":null,\"muted_glyph\":null,\"nonselection_glyph\":{\"id\":\"46433\",\"type\":\"Scatter\"},\"selection_glyph\":null,\"view\":{\"id\":\"46435\",\"type\":\"CDSView\"}},\"id\":\"46434\",\"type\":\"GlyphRenderer\"},{\"attributes\":{\"active_drag\":\"auto\",\"active_inspect\":\"auto\",\"active_multi\":null,\"active_scroll\":\"auto\",\"active_tap\":\"auto\",\"tools\":[{\"id\":\"46418\",\"type\":\"PanTool\"},{\"id\":\"46419\",\"type\":\"WheelZoomTool\"},{\"id\":\"46420\",\"type\":\"BoxZoomTool\"},{\"id\":\"46421\",\"type\":\"SaveTool\"},{\"id\":\"46422\",\"type\":\"ResetTool\"},{\"id\":\"46423\",\"type\":\"HelpTool\"}]},\"id\":\"46424\",\"type\":\"Toolbar\"}],\"root_ids\":[\"46399\"]},\"title\":\"Bokeh Application\",\"version\":\"1.4.0\"}};\n",
       "  var render_items = [{\"docid\":\"aa8c7119-3b32-4afd-bdd2-22f58dfeeb7b\",\"roots\":{\"46399\":\"295b7ea5-cae6-44c0-96ed-b309ae94a85e\"}}];\n",
       "  root.Bokeh.embed.embed_items_notebook(docs_json, render_items);\n",
       "\n",
       "  }\n",
       "  if (root.Bokeh !== undefined) {\n",
       "    embed_document(root);\n",
       "  } else {\n",
       "    var attempts = 0;\n",
       "    var timer = setInterval(function(root) {\n",
       "      if (root.Bokeh !== undefined) {\n",
       "        clearInterval(timer);\n",
       "        embed_document(root);\n",
       "      } else {\n",
       "        attempts++;\n",
       "        if (attempts > 100) {\n",
       "          clearInterval(timer);\n",
       "          console.log(\"Bokeh: ERROR: Unable to run BokehJS code because BokehJS library is missing\");\n",
       "        }\n",
       "      }\n",
       "    }, 10, root)\n",
       "  }\n",
       "})(window);"
      ],
      "application/vnd.bokehjs_exec.v0+json": ""
     },
     "metadata": {
      "application/vnd.bokehjs_exec.v0+json": {
       "id": "46399"
      }
     },
     "output_type": "display_data"
    }
   ],
   "source": [
    "\n",
    "show(comparison_plot(Y,Yhat))"
   ]
  },
  {
   "cell_type": "code",
   "execution_count": 288,
   "metadata": {},
   "outputs": [
    {
     "name": "stdout",
     "output_type": "stream",
     "text": [
      "MSE=21.5261604508619\n"
     ]
    }
   ],
   "source": [
    "E = np.sum(np.square(Y-Yhat))\n",
    "print('MSE={}'.format(E/Y.shape[0]))"
   ]
  },
  {
   "cell_type": "markdown",
   "metadata": {},
   "source": [
    "Our MSE is 21.56.\n",
    "\n",
    "Notice that there are a lot of cars with Yhat=30 mpg but whose true mpg (Y) are between 15 and almot 50 mpg.  This means that, while engine displacement may be a good predictor of mileage for cars with relatively low mileage, among cars with higher mileage, something else must be going on."
   ]
  },
  {
   "cell_type": "markdown",
   "metadata": {},
   "source": [
    "### Multivariate Data\n",
    "\n",
    "For our first experiments with multivariate data, we will start with simulated data.\n",
    "\n",
    "\n"
   ]
  },
  {
   "cell_type": "code",
   "execution_count": 1,
   "metadata": {},
   "outputs": [
    {
     "ename": "NameError",
     "evalue": "name 'np' is not defined",
     "output_type": "error",
     "traceback": [
      "\u001b[0;31m---------------------------------------------------------------------------\u001b[0m",
      "\u001b[0;31mNameError\u001b[0m                                 Traceback (most recent call last)",
      "\u001b[0;32m<ipython-input-1-167f19089dcd>\u001b[0m in \u001b[0;36m<module>\u001b[0;34m\u001b[0m\n\u001b[0;32m----> 1\u001b[0;31m \u001b[0mdata\u001b[0m \u001b[0;34m=\u001b[0m \u001b[0mnp\u001b[0m\u001b[0;34m.\u001b[0m\u001b[0mgenfromtxt\u001b[0m\u001b[0;34m(\u001b[0m\u001b[0;34m'../data/multivar_simulated/data.csv'\u001b[0m\u001b[0;34m,\u001b[0m\u001b[0mskip_header\u001b[0m\u001b[0;34m=\u001b[0m\u001b[0;36m1\u001b[0m\u001b[0;34m,\u001b[0m\u001b[0mdelimiter\u001b[0m\u001b[0;34m=\u001b[0m\u001b[0;34m','\u001b[0m\u001b[0;34m)\u001b[0m\u001b[0;34m\u001b[0m\u001b[0;34m\u001b[0m\u001b[0m\n\u001b[0m",
      "\u001b[0;31mNameError\u001b[0m: name 'np' is not defined"
     ]
    }
   ],
   "source": [
    "data = np.genfromtxt('../data/multivar_simulated/data.csv',skip_header=1,delimiter=',')"
   ]
  },
  {
   "cell_type": "markdown",
   "metadata": {},
   "source": [
    "Let's look at the data, just the first few rows."
   ]
  },
  {
   "cell_type": "code",
   "execution_count": 346,
   "metadata": {},
   "outputs": [
    {
     "data": {
      "text/plain": [
       "array([[ 0.        ,  9.22345149,  1.62488669, -0.33204394],\n",
       "       [ 1.        , -6.51121434,  0.25676938,  4.16345627],\n",
       "       [ 2.        , -3.83393779,  1.78444569,  3.73164655]])"
      ]
     },
     "execution_count": 346,
     "metadata": {},
     "output_type": "execute_result"
    }
   ],
   "source": [
    "data[:3,:]"
   ]
  },
  {
   "cell_type": "markdown",
   "metadata": {},
   "source": [
    "As the README file says, the first column (column 0) is just the row number. Column 1 is the response variable Y,\n",
    "and columns 2 and 3 are the features"
   ]
  },
  {
   "cell_type": "code",
   "execution_count": 347,
   "metadata": {},
   "outputs": [],
   "source": [
    "Y = data[:,1]\n",
    "X = data[:,2:]"
   ]
  },
  {
   "cell_type": "markdown",
   "metadata": {},
   "source": [
    "We append a column of ones to the data matrix."
   ]
  },
  {
   "cell_type": "markdown",
   "metadata": {},
   "source": [
    "Let's look at the relationship between the three columns.  First, how does the response Y depend on\n",
    "the two columns of data? Plot Y vs X0 and X1 and show the result."
   ]
  },
  {
   "cell_type": "code",
   "execution_count": 348,
   "metadata": {},
   "outputs": [],
   "source": [
    "#f0 = figure()\n",
    "#f0.xaxis.axis_label=\n",
    "#f0.yaxis.axis_label = \n",
    "#f0.scatter()\n",
    "#f1 = figure()\n",
    "#f1.xaxis.axis_label = \n",
    "#f1.yaxis.axis_label = \n",
    "#f1.scatter()\n",
    "#show(gridplot())"
   ]
  },
  {
   "cell_type": "markdown",
   "metadata": {},
   "source": [
    "It appears that increasing X0 increases Y, while increasing X1 decreases Y.  What about the relationship\n",
    "between X0 and X1? Plot this as well"
   ]
  },
  {
   "cell_type": "code",
   "execution_count": 350,
   "metadata": {},
   "outputs": [],
   "source": [
    "#f2 = figure()\n",
    "#f2.xaxis.axis_label = \n",
    "#f2.yaxis.axis_label = \n",
    "#f2.scatter()\n",
    "#show(f2)"
   ]
  },
  {
   "cell_type": "markdown",
   "metadata": {},
   "source": [
    "The X0 and X1 variables seem independent of each other."
   ]
  },
  {
   "cell_type": "markdown",
   "metadata": {},
   "source": [
    "Now we can do the regression.  First we add a column of 1's to our data matrix."
   ]
  },
  {
   "cell_type": "code",
   "execution_count": 352,
   "metadata": {},
   "outputs": [],
   "source": [
    "# create a column of ones\n",
    "# append it to X\n",
    "# check that X has shape 75 x 3"
   ]
  },
  {
   "cell_type": "markdown",
   "metadata": {},
   "source": [
    "Now we compute the various matrices need for the computation."
   ]
  },
  {
   "cell_type": "code",
   "execution_count": 354,
   "metadata": {},
   "outputs": [],
   "source": [
    "#Compute the regression matrices D, Dinv, M, and Yhat"
   ]
  },
  {
   "cell_type": "markdown",
   "metadata": {},
   "source": [
    "Notice that the coefficients of D are large (and those of Dinv) are small:"
   ]
  },
  {
   "cell_type": "code",
   "execution_count": 356,
   "metadata": {},
   "outputs": [],
   "source": [
    "# look at D and Dinv"
   ]
  },
  {
   "cell_type": "markdown",
   "metadata": {},
   "source": [
    "This can be a problem with accuracy, but we'll come back to it.  The components of the model that we compute are:\n"
   ]
  },
  {
   "cell_type": "code",
   "execution_count": 358,
   "metadata": {},
   "outputs": [],
   "source": [
    "# look at the M matrix"
   ]
  },
  {
   "cell_type": "markdown",
   "metadata": {},
   "source": [
    "You should have gotten a result that says that  Y is estimated as $\\hat{y}=1.78 x_0 -3.47 x_1 + 6.06$  One way to visualize this is to\n",
    "plot the values of Yhat vs Y to see how close they are."
   ]
  },
  {
   "cell_type": "code",
   "execution_count": 360,
   "metadata": {},
   "outputs": [],
   "source": [
    "# plot the residuals using comparison_plot to compare Yhat and Y"
   ]
  },
  {
   "cell_type": "markdown",
   "metadata": {},
   "source": [
    "As the plot shows, the points (y,yhat) cluster around the diagonal.  "
   ]
  },
  {
   "cell_type": "markdown",
   "metadata": {},
   "source": [
    "### Covariance Matrix"
   ]
  },
  {
   "cell_type": "markdown",
   "metadata": {},
   "source": [
    "Let's go back to look at the covariance matrix of the variables X0 and X1.  This computed using centered coordinates."
   ]
  },
  {
   "cell_type": "code",
   "execution_count": 362,
   "metadata": {},
   "outputs": [],
   "source": [
    "# Center the data\n",
    "#X0 = (X[] - X[].mean())\n",
    "# then compute D0 and Cov = D0/X0.shape[0]"
   ]
  },
  {
   "cell_type": "markdown",
   "metadata": {},
   "source": [
    "Notice that the off diagonal elements, which are the covariances of X0 and X1, are small in comparison to the diagonal elements.\n",
    "This reflects the fact that X0 and X1 are relatively (linearly) independent of each other.  "
   ]
  },
  {
   "cell_type": "markdown",
   "metadata": {},
   "source": [
    "### The correlation coefficient\n",
    "\n",
    "Pearson's $R^2$ is a quantitative measure of the strength of the linear relationship between two variables $X$ and $Y$. It is computed\n",
    "as\n",
    "$$\n",
    "R^{2} = \\frac{\\sigma_{XY}^2}{\\sigma_{X}^2\\sigma_{Y}^2}\n",
    "$$\n",
    "From our matrix this is the offdiagonal element divided by the product of the diagonal elements.  It it's close to $1$, there is a strong relationship, if close to zero, there is not. In this case, the $R^2$ is essentially zero."
   ]
  },
  {
   "cell_type": "code",
   "execution_count": null,
   "metadata": {},
   "outputs": [],
   "source": [
    "# compute the correlation coefficient.  Is it close to 1?  Why or why not?"
   ]
  },
  {
   "cell_type": "markdown",
   "metadata": {},
   "source": [
    "### Multivariate MPG data\n",
    "\n",
    "Now let's refine our look at the MPG data by considering displacement, miles per gallon, and vehicle weight.  \n",
    "- column 0 is mpg\n",
    "- column 2 is displacement\n",
    "- column4 is vehicle weight"
   ]
  },
  {
   "cell_type": "code",
   "execution_count": 365,
   "metadata": {},
   "outputs": [],
   "source": [
    "\n",
    "from itertools import combinations"
   ]
  },
  {
   "cell_type": "code",
   "execution_count": 366,
   "metadata": {},
   "outputs": [],
   "source": [
    "data = np.genfromtxt('../data/auto-mpg/auto-mpg.csv',delimiter=',',skip_header=1)"
   ]
  },
  {
   "cell_type": "code",
   "execution_count": 367,
   "metadata": {},
   "outputs": [
    {
     "data": {
      "text/html": [
       "\n",
       "\n",
       "\n",
       "\n",
       "\n",
       "\n",
       "  <div class=\"bk-root\" id=\"1ef2ec79-6fa6-458d-8f6a-cc8c3d769e36\" data-root-id=\"64434\"></div>\n"
      ]
     },
     "metadata": {},
     "output_type": "display_data"
    },
    {
     "data": {
      "application/javascript": [
       "(function(root) {\n",
       "  function embed_document(root) {\n",
       "    \n",
       "  var docs_json = {\"a9ddfb39-f594-492e-ad7c-057b9bd7e086\":{\"roots\":{\"references\":[{\"attributes\":{\"children\":[{\"id\":\"64433\",\"type\":\"ToolbarBox\"},{\"id\":\"64431\",\"type\":\"GridBox\"}]},\"id\":\"64434\",\"type\":\"Column\"},{\"attributes\":{},\"id\":\"64351\",\"type\":\"HelpTool\"},{\"attributes\":{\"axis_label\":\"weight\",\"formatter\":{\"id\":\"64425\",\"type\":\"BasicTickFormatter\"},\"ticker\":{\"id\":\"64374\",\"type\":\"BasicTicker\"}},\"id\":\"64373\",\"type\":\"LinearAxis\"},{\"attributes\":{\"fill_color\":{\"value\":\"#1f77b4\"},\"line_color\":{\"value\":\"#1f77b4\"},\"x\":{\"field\":\"x\"},\"y\":{\"field\":\"y\"}},\"id\":\"64360\",\"type\":\"Scatter\"},{\"attributes\":{\"callback\":null},\"id\":\"64365\",\"type\":\"DataRange1d\"},{\"attributes\":{},\"id\":\"64342\",\"type\":\"BasicTicker\"},{\"attributes\":{\"axis_label\":\"mpg\",\"formatter\":{\"id\":\"64423\",\"type\":\"BasicTickFormatter\"},\"ticker\":{\"id\":\"64379\",\"type\":\"BasicTicker\"}},\"id\":\"64378\",\"type\":\"LinearAxis\"},{\"attributes\":{},\"id\":\"64428\",\"type\":\"UnionRenderers\"},{\"attributes\":{\"callback\":null,\"data\":{\"x\":{\"__ndarray__\":\"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\",\"dtype\":\"float64\",\"shape\":[398]},\"y\":{\"__ndarray__\":\"AAAAAAAAMkAAAAAAAAAuQAAAAAAAADJAAAAAAAAAMEAAAAAAAAAxQAAAAAAAAC5AAAAAAAAALEAAAAAAAAAsQAAAAAAAACxAAAAAAAAALkAAAAAAAAAuQAAAAAAAACxAAAAAAAAALkAAAAAAAAAsQAAAAAAAADhAAAAAAAAANkAAAAAAAAAyQAAAAAAAADVAAAAAAAAAO0AAAAAAAAA6QAAAAAAAADlAAAAAAAAAOEAAAAAAAAA5QAAAAAAAADpAAAAAAAAANUAAAAAAAAAkQAAAAAAAACRAAAAAAAAAJkAAAAAAAAAiQAAAAAAAADtAAAAAAAAAPEAAAAAAAAA5QAAAAAAAADlAAAAAAAAAM0AAAAAAAAAwQAAAAAAAADFAAAAAAAAAM0AAAAAAAAAyQAAAAAAAACxAAAAAAAAALEAAAAAAAAAsQAAAAAAAACxAAAAAAAAAKEAAAAAAAAAqQAAAAAAAACpAAAAAAAAAMkAAAAAAAAA2QAAAAAAAADNAAAAAAAAAMkAAAAAAAAA3QAAAAAAAADxAAAAAAAAAPkAAAAAAAAA+QAAAAAAAAD9AAAAAAACAQUAAAAAAAAA7QAAAAAAAADpAAAAAAAAAOEAAAAAAAAA5QAAAAAAAADdAAAAAAAAANEAAAAAAAAA1QAAAAAAAACpAAAAAAAAALEAAAAAAAAAuQAAAAAAAACxAAAAAAAAAMUAAAAAAAAAmQAAAAAAAACpAAAAAAAAAKEAAAAAAAAAqQAAAAAAAADNAAAAAAAAALkAAAAAAAAAqQAAAAAAAACpAAAAAAAAALEAAAAAAAAAyQAAAAAAAADZAAAAAAAAANUAAAAAAAAA6QAAAAAAAADZAAAAAAAAAPEAAAAAAAAA3QAAAAAAAADxAAAAAAAAAO0AAAAAAAAAqQAAAAAAAACxAAAAAAAAAKkAAAAAAAAAsQAAAAAAAAC5AAAAAAAAAKEAAAAAAAAAqQAAAAAAAACpAAAAAAAAALEAAAAAAAAAqQAAAAAAAAChAAAAAAAAAKkAAAAAAAAAyQAAAAAAAADBAAAAAAAAAMkAAAAAAAAAyQAAAAAAAADdAAAAAAAAAOkAAAAAAAAAmQAAAAAAAAChAAAAAAAAAKkAAAAAAAAAoQAAAAAAAADJAAAAAAAAANEAAAAAAAAA1QAAAAAAAADZAAAAAAAAAMkAAAAAAAAAzQAAAAAAAADVAAAAAAAAAOkAAAAAAAAAuQAAAAAAAADBAAAAAAAAAPUAAAAAAAAA4QAAAAAAAADRAAAAAAAAAM0AAAAAAAAAuQAAAAAAAADhAAAAAAAAANEAAAAAAAAAmQAAAAAAAADRAAAAAAAAANUAAAAAAAAAzQAAAAAAAAC5AAAAAAAAAP0AAAAAAAAA6QAAAAAAAAEBAAAAAAAAAOUAAAAAAAAAwQAAAAAAAADBAAAAAAAAAMkAAAAAAAAAwQAAAAAAAACpAAAAAAAAALEAAAAAAAAAsQAAAAAAAACxAAAAAAAAAPUAAAAAAAAA6QAAAAAAAADpAAAAAAAAAP0AAAAAAAABAQAAAAAAAADxAAAAAAAAAOEAAAAAAAAA6QAAAAAAAADhAAAAAAAAAOkAAAAAAAAA/QAAAAAAAADNAAAAAAAAAMkAAAAAAAAAuQAAAAAAAAC5AAAAAAAAAMEAAAAAAAAAuQAAAAAAAADBAAAAAAAAALEAAAAAAAAAxQAAAAAAAADBAAAAAAAAALkAAAAAAAAAyQAAAAAAAADVAAAAAAAAANEAAAAAAAAAqQAAAAAAAAD1AAAAAAAAAN0AAAAAAAAA0QAAAAAAAADdAAAAAAAAAOEAAAAAAAAA5QAAAAAAAADhAAAAAAAAAMkAAAAAAAAA9QAAAAAAAADNAAAAAAAAAN0AAAAAAAAA3QAAAAAAAADZAAAAAAAAAOUAAAAAAAIBAQAAAAAAAADxAAAAAAAAAOUAAAAAAAAA5QAAAAAAAADpAAAAAAAAAO0AAAAAAAIAxQAAAAAAAADBAAAAAAAAAL0AAAAAAAAAtQAAAAAAAADZAAAAAAAAANkAAAAAAAAA4QAAAAAAAgDZAAAAAAAAAPUAAAAAAAIA4QAAAAAAAAD1AAAAAAACAQEAAAAAAAAA0QAAAAAAAADJAAAAAAACAMkAAAAAAAIAxQAAAAAAAgD1AAAAAAAAAQEAAAAAAAAA8QAAAAAAAgDpAAAAAAAAANEAAAAAAAAAqQAAAAAAAADNAAAAAAAAAM0AAAAAAAIAwQAAAAAAAgDBAAAAAAAAAKkAAAAAAAAAqQAAAAAAAACpAAAAAAACAP0AAAAAAAAA+QAAAAAAAAEJAAAAAAACAOUAAAAAAAMBAQAAAAAAAgDFAAAAAAAAAMUAAAAAAAAAvQAAAAAAAAC5AAAAAAACAMUAAAAAAAIA0QAAAAAAAADNAAAAAAACAMkAAAAAAAAAwQAAAAAAAAC9AAAAAAAAAL0AAAAAAAAAwQAAAAAAAAD1AAAAAAACAOEAAAAAAAAA6QAAAAAAAgDlAAAAAAACAPkAAAAAAAMBAQAAAAAAAAD5AAAAAAACAPkAAAAAAAAA2QAAAAAAAgDVAAAAAAACANUDNzMzMzIxFQM3MzMzMDEJAZmZmZmZmQEAzMzMzM7NDQM3MzMzMDEJAZmZmZmbmM0BmZmZmZmYzQDMzMzMzMzRAMzMzMzMzM0AAAAAAAIA0QDMzMzMzMzRAmpmZmZkZOUAAAAAAAIA0QGZmZmZmZjNAmpmZmZmZNEDNzMzMzMw0QJqZmZmZmTJAmpmZmZkZMkAzMzMzMzMzQDMzMzMzszFAmpmZmZkZMkAAAAAAAIAxQAAAAAAAAD5AAAAAAACAO0AzMzMzMzM7QGZmZmZm5j5AmpmZmZkZNUAzMzMzMzM3QM3MzMzMzDdAZmZmZmbmN0DNzMzMzEw0QAAAAAAAADFAmpmZmZmZNUAzMzMzMzMwQAAAAAAAgD9AAAAAAACAPUAAAAAAAIA1QM3MzMzMzDNAzczMzMxMNkAzMzMzMzM0QJqZmZmZmTRAAAAAAAAAMUCamZmZmZkxQAAAAAAAgDBAMzMzMzMzMkBmZmZmZuYwQAAAAAAAAC9AMzMzMzMzM0AAAAAAAIAyQGZmZmZm5j9AzczMzMwMQUCamZmZmdlBQGZmZmZmZjtAZmZmZmZmOUAAAAAAAAA3QDMzMzMzMztAZmZmZmbmN0CamZmZmRlBQAAAAAAAQEFAzczMzMzMP0BmZmZmZqZCQGZmZmZmZjxAzczMzMzMPEDNzMzMzMw6QAAAAAAAwEBAAAAAAADAREDNzMzMzAxDQM3MzMzMDEBAmpmZmZmZQkAAAAAAAAA8QGZmZmZmZjpAzczMzMxMOECamZmZmRkzQGZmZmZmJkFAzczMzMzMPUDNzMzMzEw/QAAAAAAAgEJAmpmZmZkZQEDNzMzMzExHQGZmZmZm5jtAZmZmZmZmREBmZmZmZiZGQDMzMzMzs0VAMzMzMzMzQkAAAAAAAAA+QM3MzMzMTEZAMzMzMzNzREBmZmZmZuZAQM3MzMzMzD1AmpmZmZlZQEAzMzMzM7M3QAAAAAAAgEFAmpmZmZmZN0AzMzMzMzNAQDMzMzMzMztAmpmZmZmZOkDNzMzMzMw5QAAAAAAAgDdAAAAAAAAAPkDNzMzMzIxDQAAAAAAAgENAzczMzMyMQUBmZmZmZiZAQAAAAAAAgEJAmpmZmZnZQkDNzMzMzAxBQJqZmZmZWUFAMzMzMzMzQUBmZmZmZuY9QAAAAAAAgEBAAAAAAABAQUCamZmZmdlAQDMzMzMzM0BAMzMzMzNzQECamZmZmZk/QJqZmZmZGTxAMzMzMzOzPkBmZmZmZmY5QDMzMzMzMzhAZmZmZmZmNkCamZmZmZk6QDMzMzMzMzRAmpmZmZmZMUAAAAAAAAA8QAAAAAAAADtAAAAAAAAAQUAAAAAAAAA/QAAAAAAAAD1AAAAAAAAAO0AAAAAAAAA4QAAAAAAAADdAAAAAAAAAQkAAAAAAAIBCQAAAAAAAAD9AAAAAAAAAQ0AAAAAAAABCQAAAAAAAAEJAAAAAAAAAQkAAAAAAAABBQAAAAAAAAENAAAAAAAAAQEAAAAAAAABDQAAAAAAAADlAAAAAAAAAQ0AAAAAAAAA6QAAAAAAAADZAAAAAAAAAQEAAAAAAAABCQAAAAAAAADtAAAAAAAAAO0AAAAAAAABGQAAAAAAAAEBAAAAAAAAAPEAAAAAAAAA/QA==\",\"dtype\":\"float64\",\"shape\":[398]}},\"selected\":{\"id\":\"64419\",\"type\":\"Selection\"},\"selection_policy\":{\"id\":\"64418\",\"type\":\"UnionRenderers\"}},\"id\":\"64359\",\"type\":\"ColumnDataSource\"},{\"attributes\":{\"fill_color\":{\"value\":\"#1f77b4\"},\"line_color\":{\"value\":\"#1f77b4\"},\"x\":{\"field\":\"x\"},\"y\":{\"field\":\"y\"}},\"id\":\"64397\",\"type\":\"Scatter\"},{\"attributes\":{\"axis_label\":\"displacement\",\"formatter\":{\"id\":\"64415\",\"type\":\"BasicTickFormatter\"},\"ticker\":{\"id\":\"64337\",\"type\":\"BasicTicker\"}},\"id\":\"64336\",\"type\":\"LinearAxis\"},{\"attributes\":{},\"id\":\"64371\",\"type\":\"LinearScale\"},{\"attributes\":{},\"id\":\"64337\",\"type\":\"BasicTicker\"},{\"attributes\":{\"callback\":null},\"id\":\"64330\",\"type\":\"DataRange1d\"},{\"attributes\":{\"ticker\":{\"id\":\"64337\",\"type\":\"BasicTicker\"}},\"id\":\"64340\",\"type\":\"Grid\"},{\"attributes\":{\"callback\":null},\"id\":\"64367\",\"type\":\"DataRange1d\"},{\"attributes\":{},\"id\":\"64374\",\"type\":\"BasicTicker\"},{\"attributes\":{\"fill_alpha\":{\"value\":0.1},\"fill_color\":{\"value\":\"#1f77b4\"},\"line_alpha\":{\"value\":0.1},\"line_color\":{\"value\":\"#1f77b4\"},\"x\":{\"field\":\"x\"},\"y\":{\"field\":\"y\"}},\"id\":\"64361\",\"type\":\"Scatter\"},{\"attributes\":{},\"id\":\"64369\",\"type\":\"LinearScale\"},{\"attributes\":{\"axis_label\":\"mpg\",\"formatter\":{\"id\":\"64413\",\"type\":\"BasicTickFormatter\"},\"ticker\":{\"id\":\"64342\",\"type\":\"BasicTicker\"}},\"id\":\"64341\",\"type\":\"LinearAxis\"},{\"attributes\":{},\"id\":\"64379\",\"type\":\"BasicTicker\"},{\"attributes\":{\"below\":[{\"id\":\"64373\",\"type\":\"LinearAxis\"}],\"center\":[{\"id\":\"64377\",\"type\":\"Grid\"},{\"id\":\"64382\",\"type\":\"Grid\"}],\"left\":[{\"id\":\"64378\",\"type\":\"LinearAxis\"}],\"plot_height\":250,\"plot_width\":250,\"renderers\":[{\"id\":\"64399\",\"type\":\"GlyphRenderer\"}],\"title\":{\"id\":\"64421\",\"type\":\"Title\"},\"toolbar\":{\"id\":\"64389\",\"type\":\"Toolbar\"},\"toolbar_location\":null,\"x_range\":{\"id\":\"64365\",\"type\":\"DataRange1d\"},\"x_scale\":{\"id\":\"64369\",\"type\":\"LinearScale\"},\"y_range\":{\"id\":\"64367\",\"type\":\"DataRange1d\"},\"y_scale\":{\"id\":\"64371\",\"type\":\"LinearScale\"}},\"id\":\"64364\",\"subtype\":\"Figure\",\"type\":\"Plot\"},{\"attributes\":{\"dimension\":1,\"ticker\":{\"id\":\"64342\",\"type\":\"BasicTicker\"}},\"id\":\"64345\",\"type\":\"Grid\"},{\"attributes\":{\"ticker\":{\"id\":\"64374\",\"type\":\"BasicTicker\"}},\"id\":\"64377\",\"type\":\"Grid\"},{\"attributes\":{\"fill_alpha\":{\"value\":0.1},\"fill_color\":{\"value\":\"#1f77b4\"},\"line_alpha\":{\"value\":0.1},\"line_color\":{\"value\":\"#1f77b4\"},\"x\":{\"field\":\"x\"},\"y\":{\"field\":\"y\"}},\"id\":\"64398\",\"type\":\"Scatter\"},{\"attributes\":{},\"id\":\"64429\",\"type\":\"Selection\"},{\"attributes\":{},\"id\":\"64297\",\"type\":\"LinearScale\"},{\"attributes\":{},\"id\":\"64384\",\"type\":\"WheelZoomTool\"},{\"attributes\":{\"axis_label\":\"displacement\",\"formatter\":{\"id\":\"64405\",\"type\":\"BasicTickFormatter\"},\"ticker\":{\"id\":\"64300\",\"type\":\"BasicTicker\"}},\"id\":\"64299\",\"type\":\"LinearAxis\"},{\"attributes\":{},\"id\":\"64387\",\"type\":\"ResetTool\"},{\"attributes\":{},\"id\":\"64305\",\"type\":\"BasicTicker\"},{\"attributes\":{},\"id\":\"64300\",\"type\":\"BasicTicker\"},{\"attributes\":{\"ticker\":{\"id\":\"64300\",\"type\":\"BasicTicker\"}},\"id\":\"64303\",\"type\":\"Grid\"},{\"attributes\":{},\"id\":\"64386\",\"type\":\"SaveTool\"},{\"attributes\":{\"dimension\":1,\"ticker\":{\"id\":\"64305\",\"type\":\"BasicTicker\"}},\"id\":\"64308\",\"type\":\"Grid\"},{\"attributes\":{\"axis_label\":\"weight\",\"formatter\":{\"id\":\"64403\",\"type\":\"BasicTickFormatter\"},\"ticker\":{\"id\":\"64305\",\"type\":\"BasicTicker\"}},\"id\":\"64304\",\"type\":\"LinearAxis\"},{\"attributes\":{\"data_source\":{\"id\":\"64322\",\"type\":\"ColumnDataSource\"},\"glyph\":{\"id\":\"64323\",\"type\":\"Scatter\"},\"hover_glyph\":null,\"muted_glyph\":null,\"nonselection_glyph\":{\"id\":\"64324\",\"type\":\"Scatter\"},\"selection_glyph\":null,\"view\":{\"id\":\"64326\",\"type\":\"CDSView\"}},\"id\":\"64325\",\"type\":\"GlyphRenderer\"},{\"attributes\":{\"source\":{\"id\":\"64396\",\"type\":\"ColumnDataSource\"}},\"id\":\"64400\",\"type\":\"CDSView\"},{\"attributes\":{\"overlay\":{\"id\":\"64417\",\"type\":\"BoxAnnotation\"}},\"id\":\"64348\",\"type\":\"BoxZoomTool\"},{\"attributes\":{\"source\":{\"id\":\"64322\",\"type\":\"ColumnDataSource\"}},\"id\":\"64326\",\"type\":\"CDSView\"},{\"attributes\":{\"active_drag\":\"auto\",\"active_inspect\":\"auto\",\"active_multi\":null,\"active_scroll\":\"auto\",\"active_tap\":\"auto\",\"tools\":[{\"id\":\"64309\",\"type\":\"PanTool\"},{\"id\":\"64310\",\"type\":\"WheelZoomTool\"},{\"id\":\"64311\",\"type\":\"BoxZoomTool\"},{\"id\":\"64312\",\"type\":\"SaveTool\"},{\"id\":\"64313\",\"type\":\"ResetTool\"},{\"id\":\"64314\",\"type\":\"HelpTool\"}]},\"id\":\"64315\",\"type\":\"Toolbar\"},{\"attributes\":{\"callback\":null,\"data\":{\"x\":{\"__ndarray__\":\"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\",\"dtype\":\"float64\",\"shape\":[398]},\"y\":{\"__ndarray__\":\"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\",\"dtype\":\"float64\",\"shape\":[398]}},\"selected\":{\"id\":\"64409\",\"type\":\"Selection\"},\"selection_policy\":{\"id\":\"64408\",\"type\":\"UnionRenderers\"}},\"id\":\"64322\",\"type\":\"ColumnDataSource\"},{\"attributes\":{},\"id\":\"64309\",\"type\":\"PanTool\"},{\"attributes\":{\"active_drag\":\"auto\",\"active_inspect\":\"auto\",\"active_multi\":null,\"active_scroll\":\"auto\",\"active_tap\":\"auto\",\"tools\":[{\"id\":\"64383\",\"type\":\"PanTool\"},{\"id\":\"64384\",\"type\":\"WheelZoomTool\"},{\"id\":\"64385\",\"type\":\"BoxZoomTool\"},{\"id\":\"64386\",\"type\":\"SaveTool\"},{\"id\":\"64387\",\"type\":\"ResetTool\"},{\"id\":\"64388\",\"type\":\"HelpTool\"}]},\"id\":\"64389\",\"type\":\"Toolbar\"},{\"attributes\":{},\"id\":\"64388\",\"type\":\"HelpTool\"},{\"attributes\":{},\"id\":\"64310\",\"type\":\"WheelZoomTool\"},{\"attributes\":{},\"id\":\"64383\",\"type\":\"PanTool\"},{\"attributes\":{\"data_source\":{\"id\":\"64396\",\"type\":\"ColumnDataSource\"},\"glyph\":{\"id\":\"64397\",\"type\":\"Scatter\"},\"hover_glyph\":null,\"muted_glyph\":null,\"nonselection_glyph\":{\"id\":\"64398\",\"type\":\"Scatter\"},\"selection_glyph\":null,\"view\":{\"id\":\"64400\",\"type\":\"CDSView\"}},\"id\":\"64399\",\"type\":\"GlyphRenderer\"},{\"attributes\":{\"overlay\":{\"id\":\"64407\",\"type\":\"BoxAnnotation\"}},\"id\":\"64311\",\"type\":\"BoxZoomTool\"},{\"attributes\":{\"dimension\":1,\"ticker\":{\"id\":\"64379\",\"type\":\"BasicTicker\"}},\"id\":\"64382\",\"type\":\"Grid\"},{\"attributes\":{\"callback\":null,\"data\":{\"x\":{\"__ndarray__\":\"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\",\"dtype\":\"float64\",\"shape\":[398]},\"y\":{\"__ndarray__\":\"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\",\"dtype\":\"float64\",\"shape\":[398]}},\"selected\":{\"id\":\"64429\",\"type\":\"Selection\"},\"selection_policy\":{\"id\":\"64428\",\"type\":\"UnionRenderers\"}},\"id\":\"64396\",\"type\":\"ColumnDataSource\"},{\"attributes\":{},\"id\":\"64312\",\"type\":\"SaveTool\"},{\"attributes\":{},\"id\":\"64408\",\"type\":\"UnionRenderers\"},{\"attributes\":{},\"id\":\"64313\",\"type\":\"ResetTool\"},{\"attributes\":{\"overlay\":{\"id\":\"64427\",\"type\":\"BoxAnnotation\"}},\"id\":\"64385\",\"type\":\"BoxZoomTool\"},{\"attributes\":{},\"id\":\"64314\",\"type\":\"HelpTool\"},{\"attributes\":{},\"id\":\"64334\",\"type\":\"LinearScale\"},{\"attributes\":{\"fill_alpha\":{\"value\":0.1},\"fill_color\":{\"value\":\"#1f77b4\"},\"line_alpha\":{\"value\":0.1},\"line_color\":{\"value\":\"#1f77b4\"},\"x\":{\"field\":\"x\"},\"y\":{\"field\":\"y\"}},\"id\":\"64324\",\"type\":\"Scatter\"},{\"attributes\":{},\"id\":\"64332\",\"type\":\"LinearScale\"},{\"attributes\":{\"below\":[{\"id\":\"64336\",\"type\":\"LinearAxis\"}],\"center\":[{\"id\":\"64340\",\"type\":\"Grid\"},{\"id\":\"64345\",\"type\":\"Grid\"}],\"left\":[{\"id\":\"64341\",\"type\":\"LinearAxis\"}],\"plot_height\":250,\"plot_width\":250,\"renderers\":[{\"id\":\"64362\",\"type\":\"GlyphRenderer\"}],\"title\":{\"id\":\"64411\",\"type\":\"Title\"},\"toolbar\":{\"id\":\"64352\",\"type\":\"Toolbar\"},\"toolbar_location\":null,\"x_range\":{\"id\":\"64328\",\"type\":\"DataRange1d\"},\"x_scale\":{\"id\":\"64332\",\"type\":\"LinearScale\"},\"y_range\":{\"id\":\"64330\",\"type\":\"DataRange1d\"},\"y_scale\":{\"id\":\"64334\",\"type\":\"LinearScale\"}},\"id\":\"64327\",\"subtype\":\"Figure\",\"type\":\"Plot\"},{\"attributes\":{},\"id\":\"64403\",\"type\":\"BasicTickFormatter\"},{\"attributes\":{},\"id\":\"64415\",\"type\":\"BasicTickFormatter\"},{\"attributes\":{},\"id\":\"64409\",\"type\":\"Selection\"},{\"attributes\":{\"bottom_units\":\"screen\",\"fill_alpha\":{\"value\":0.5},\"fill_color\":{\"value\":\"lightgrey\"},\"left_units\":\"screen\",\"level\":\"overlay\",\"line_alpha\":{\"value\":1.0},\"line_color\":{\"value\":\"black\"},\"line_dash\":[4,4],\"line_width\":{\"value\":2},\"render_mode\":\"css\",\"right_units\":\"screen\",\"top_units\":\"screen\"},\"id\":\"64417\",\"type\":\"BoxAnnotation\"},{\"attributes\":{\"bottom_units\":\"screen\",\"fill_alpha\":{\"value\":0.5},\"fill_color\":{\"value\":\"lightgrey\"},\"left_units\":\"screen\",\"level\":\"overlay\",\"line_alpha\":{\"value\":1.0},\"line_color\":{\"value\":\"black\"},\"line_dash\":[4,4],\"line_width\":{\"value\":2},\"render_mode\":\"css\",\"right_units\":\"screen\",\"top_units\":\"screen\"},\"id\":\"64407\",\"type\":\"BoxAnnotation\"},{\"attributes\":{\"source\":{\"id\":\"64359\",\"type\":\"ColumnDataSource\"}},\"id\":\"64363\",\"type\":\"CDSView\"},{\"attributes\":{\"text\":\"\"},\"id\":\"64411\",\"type\":\"Title\"},{\"attributes\":{},\"id\":\"64350\",\"type\":\"ResetTool\"},{\"attributes\":{},\"id\":\"64413\",\"type\":\"BasicTickFormatter\"},{\"attributes\":{},\"id\":\"64347\",\"type\":\"WheelZoomTool\"},{\"attributes\":{\"callback\":null},\"id\":\"64328\",\"type\":\"DataRange1d\"},{\"attributes\":{\"active_drag\":\"auto\",\"active_inspect\":\"auto\",\"active_multi\":null,\"active_scroll\":\"auto\",\"active_tap\":\"auto\",\"tools\":[{\"id\":\"64346\",\"type\":\"PanTool\"},{\"id\":\"64347\",\"type\":\"WheelZoomTool\"},{\"id\":\"64348\",\"type\":\"BoxZoomTool\"},{\"id\":\"64349\",\"type\":\"SaveTool\"},{\"id\":\"64350\",\"type\":\"ResetTool\"},{\"id\":\"64351\",\"type\":\"HelpTool\"}]},\"id\":\"64352\",\"type\":\"Toolbar\"},{\"attributes\":{},\"id\":\"64349\",\"type\":\"SaveTool\"},{\"attributes\":{},\"id\":\"64418\",\"type\":\"UnionRenderers\"},{\"attributes\":{},\"id\":\"64419\",\"type\":\"Selection\"},{\"attributes\":{\"children\":[[{\"id\":\"64290\",\"subtype\":\"Figure\",\"type\":\"Plot\"},0,0],[{\"id\":\"64327\",\"subtype\":\"Figure\",\"type\":\"Plot\"},0,1],[{\"id\":\"64364\",\"subtype\":\"Figure\",\"type\":\"Plot\"},1,0]]},\"id\":\"64431\",\"type\":\"GridBox\"},{\"attributes\":{\"text\":\"\"},\"id\":\"64401\",\"type\":\"Title\"},{\"attributes\":{\"below\":[{\"id\":\"64299\",\"type\":\"LinearAxis\"}],\"center\":[{\"id\":\"64303\",\"type\":\"Grid\"},{\"id\":\"64308\",\"type\":\"Grid\"}],\"left\":[{\"id\":\"64304\",\"type\":\"LinearAxis\"}],\"plot_height\":250,\"plot_width\":250,\"renderers\":[{\"id\":\"64325\",\"type\":\"GlyphRenderer\"}],\"title\":{\"id\":\"64401\",\"type\":\"Title\"},\"toolbar\":{\"id\":\"64315\",\"type\":\"Toolbar\"},\"toolbar_location\":null,\"x_range\":{\"id\":\"64291\",\"type\":\"DataRange1d\"},\"x_scale\":{\"id\":\"64295\",\"type\":\"LinearScale\"},\"y_range\":{\"id\":\"64293\",\"type\":\"DataRange1d\"},\"y_scale\":{\"id\":\"64297\",\"type\":\"LinearScale\"}},\"id\":\"64290\",\"subtype\":\"Figure\",\"type\":\"Plot\"},{\"attributes\":{},\"id\":\"64425\",\"type\":\"BasicTickFormatter\"},{\"attributes\":{\"toolbar\":{\"id\":\"64432\",\"type\":\"ProxyToolbar\"},\"toolbar_location\":\"above\"},\"id\":\"64433\",\"type\":\"ToolbarBox\"},{\"attributes\":{\"bottom_units\":\"screen\",\"fill_alpha\":{\"value\":0.5},\"fill_color\":{\"value\":\"lightgrey\"},\"left_units\":\"screen\",\"level\":\"overlay\",\"line_alpha\":{\"value\":1.0},\"line_color\":{\"value\":\"black\"},\"line_dash\":[4,4],\"line_width\":{\"value\":2},\"render_mode\":\"css\",\"right_units\":\"screen\",\"top_units\":\"screen\"},\"id\":\"64427\",\"type\":\"BoxAnnotation\"},{\"attributes\":{\"fill_color\":{\"value\":\"#1f77b4\"},\"line_color\":{\"value\":\"#1f77b4\"},\"x\":{\"field\":\"x\"},\"y\":{\"field\":\"y\"}},\"id\":\"64323\",\"type\":\"Scatter\"},{\"attributes\":{},\"id\":\"64405\",\"type\":\"BasicTickFormatter\"},{\"attributes\":{\"callback\":null},\"id\":\"64291\",\"type\":\"DataRange1d\"},{\"attributes\":{\"text\":\"\"},\"id\":\"64421\",\"type\":\"Title\"},{\"attributes\":{\"tools\":[{\"id\":\"64309\",\"type\":\"PanTool\"},{\"id\":\"64310\",\"type\":\"WheelZoomTool\"},{\"id\":\"64311\",\"type\":\"BoxZoomTool\"},{\"id\":\"64312\",\"type\":\"SaveTool\"},{\"id\":\"64313\",\"type\":\"ResetTool\"},{\"id\":\"64314\",\"type\":\"HelpTool\"},{\"id\":\"64346\",\"type\":\"PanTool\"},{\"id\":\"64347\",\"type\":\"WheelZoomTool\"},{\"id\":\"64348\",\"type\":\"BoxZoomTool\"},{\"id\":\"64349\",\"type\":\"SaveTool\"},{\"id\":\"64350\",\"type\":\"ResetTool\"},{\"id\":\"64351\",\"type\":\"HelpTool\"},{\"id\":\"64383\",\"type\":\"PanTool\"},{\"id\":\"64384\",\"type\":\"WheelZoomTool\"},{\"id\":\"64385\",\"type\":\"BoxZoomTool\"},{\"id\":\"64386\",\"type\":\"SaveTool\"},{\"id\":\"64387\",\"type\":\"ResetTool\"},{\"id\":\"64388\",\"type\":\"HelpTool\"}]},\"id\":\"64432\",\"type\":\"ProxyToolbar\"},{\"attributes\":{\"callback\":null},\"id\":\"64293\",\"type\":\"DataRange1d\"},{\"attributes\":{\"data_source\":{\"id\":\"64359\",\"type\":\"ColumnDataSource\"},\"glyph\":{\"id\":\"64360\",\"type\":\"Scatter\"},\"hover_glyph\":null,\"muted_glyph\":null,\"nonselection_glyph\":{\"id\":\"64361\",\"type\":\"Scatter\"},\"selection_glyph\":null,\"view\":{\"id\":\"64363\",\"type\":\"CDSView\"}},\"id\":\"64362\",\"type\":\"GlyphRenderer\"},{\"attributes\":{},\"id\":\"64423\",\"type\":\"BasicTickFormatter\"},{\"attributes\":{},\"id\":\"64295\",\"type\":\"LinearScale\"},{\"attributes\":{},\"id\":\"64346\",\"type\":\"PanTool\"}],\"root_ids\":[\"64434\"]},\"title\":\"Bokeh Application\",\"version\":\"1.4.0\"}};\n",
       "  var render_items = [{\"docid\":\"a9ddfb39-f594-492e-ad7c-057b9bd7e086\",\"roots\":{\"64434\":\"1ef2ec79-6fa6-458d-8f6a-cc8c3d769e36\"}}];\n",
       "  root.Bokeh.embed.embed_items_notebook(docs_json, render_items);\n",
       "\n",
       "  }\n",
       "  if (root.Bokeh !== undefined) {\n",
       "    embed_document(root);\n",
       "  } else {\n",
       "    var attempts = 0;\n",
       "    var timer = setInterval(function(root) {\n",
       "      if (root.Bokeh !== undefined) {\n",
       "        clearInterval(timer);\n",
       "        embed_document(root);\n",
       "      } else {\n",
       "        attempts++;\n",
       "        if (attempts > 100) {\n",
       "          clearInterval(timer);\n",
       "          console.log(\"Bokeh: ERROR: Unable to run BokehJS code because BokehJS library is missing\");\n",
       "        }\n",
       "      }\n",
       "    }, 10, root)\n",
       "  }\n",
       "})(window);"
      ],
      "application/vnd.bokehjs_exec.v0+json": ""
     },
     "metadata": {
      "application/vnd.bokehjs_exec.v0+json": {
       "id": "64434"
      }
     },
     "output_type": "display_data"
    }
   ],
   "source": [
    "# this code produces a grid of plots for you to study\n",
    "d={}\n",
    "d['mpg'] = data[:,0]\n",
    "d['displacement'] = data[:,2]\n",
    "d['weight'] = data[:,4]\n",
    "d['horsepower'] = data[:,3]\n",
    "figs = []\n",
    "for x,y in combinations(['displacement','weight','mpg'],2):\n",
    "    f = figure()\n",
    "    f.xaxis.axis_label = x\n",
    "    f.yaxis.axis_label = y\n",
    "    f.scatter(x=d[x],y=d[y])\n",
    "    figs.append(f)\n",
    "g = gridplot([figs[0:2],[figs[2]]],plot_height=250,plot_width=250)\n",
    "show(g)"
   ]
  },
  {
   "cell_type": "markdown",
   "metadata": {},
   "source": [
    "The picture above is quite different from the simulated data because all three of the combinations show a relationship (remember,\n",
    "in the simulated data, the predictor variables didn't seem to be related to one another).   \n",
    "\n",
    "Another thing to observe is that the different data are on different size scales -- vehicle weight is in the 1000's, displacmeent is in the 100's,\n",
    "and mpg is in the 10's.  \n",
    "\n"
   ]
  },
  {
   "cell_type": "code",
   "execution_count": 368,
   "metadata": {},
   "outputs": [],
   "source": [
    "# build the data matrix out of the corresponding columns and the variable Y from the mpg column"
   ]
  },
  {
   "cell_type": "code",
   "execution_count": 370,
   "metadata": {},
   "outputs": [],
   "source": [
    "# compute D, Dinv, M and Yhat"
   ]
  },
  {
   "cell_type": "code",
   "execution_count": 372,
   "metadata": {},
   "outputs": [],
   "source": [
    "# Look at the D matrix and its inverse and note the size of the coefficients"
   ]
  },
  {
   "cell_type": "code",
   "execution_count": 374,
   "metadata": {},
   "outputs": [],
   "source": [
    "# plot the residuals of Y and Yhat using comparison_plot.  What do you see?"
   ]
  },
  {
   "cell_type": "code",
   "execution_count": 375,
   "metadata": {},
   "outputs": [
    {
     "data": {
      "text/html": [
       "\n",
       "\n",
       "\n",
       "\n",
       "\n",
       "\n",
       "  <div class=\"bk-root\" id=\"12e4473b-7a33-4efd-8c9e-d3963f5af41c\" data-root-id=\"65761\"></div>\n"
      ]
     },
     "metadata": {},
     "output_type": "display_data"
    },
    {
     "data": {
      "application/javascript": [
       "(function(root) {\n",
       "  function embed_document(root) {\n",
       "    \n",
       "  var docs_json = {\"810f9dd2-e89f-45fb-93f9-ca46139c12d9\":{\"roots\":{\"references\":[{\"attributes\":{\"below\":[{\"id\":\"65770\",\"type\":\"LinearAxis\"}],\"center\":[{\"id\":\"65774\",\"type\":\"Grid\"},{\"id\":\"65779\",\"type\":\"Grid\"}],\"left\":[{\"id\":\"65775\",\"type\":\"LinearAxis\"}],\"plot_height\":300,\"plot_width\":300,\"renderers\":[{\"id\":\"65796\",\"type\":\"GlyphRenderer\"},{\"id\":\"65801\",\"type\":\"GlyphRenderer\"}],\"title\":{\"id\":\"66967\",\"type\":\"Title\"},\"toolbar\":{\"id\":\"65786\",\"type\":\"Toolbar\"},\"x_range\":{\"id\":\"65762\",\"type\":\"DataRange1d\"},\"x_scale\":{\"id\":\"65766\",\"type\":\"LinearScale\"},\"y_range\":{\"id\":\"65764\",\"type\":\"DataRange1d\"},\"y_scale\":{\"id\":\"65768\",\"type\":\"LinearScale\"}},\"id\":\"65761\",\"subtype\":\"Figure\",\"type\":\"Plot\"},{\"attributes\":{},\"id\":\"66977\",\"type\":\"Selection\"},{\"attributes\":{\"axis_label\":\"Y\",\"formatter\":{\"id\":\"66971\",\"type\":\"BasicTickFormatter\"},\"ticker\":{\"id\":\"65771\",\"type\":\"BasicTicker\"}},\"id\":\"65770\",\"type\":\"LinearAxis\"},{\"attributes\":{},\"id\":\"65781\",\"type\":\"WheelZoomTool\"},{\"attributes\":{},\"id\":\"66975\",\"type\":\"Selection\"},{\"attributes\":{\"overlay\":{\"id\":\"66973\",\"type\":\"BoxAnnotation\"}},\"id\":\"65782\",\"type\":\"BoxZoomTool\"},{\"attributes\":{},\"id\":\"65766\",\"type\":\"LinearScale\"},{\"attributes\":{\"source\":{\"id\":\"65793\",\"type\":\"ColumnDataSource\"}},\"id\":\"65797\",\"type\":\"CDSView\"},{\"attributes\":{},\"id\":\"66976\",\"type\":\"UnionRenderers\"},{\"attributes\":{\"data_source\":{\"id\":\"65793\",\"type\":\"ColumnDataSource\"},\"glyph\":{\"id\":\"65794\",\"type\":\"Scatter\"},\"hover_glyph\":null,\"muted_glyph\":null,\"nonselection_glyph\":{\"id\":\"65795\",\"type\":\"Scatter\"},\"selection_glyph\":null,\"view\":{\"id\":\"65797\",\"type\":\"CDSView\"}},\"id\":\"65796\",\"type\":\"GlyphRenderer\"},{\"attributes\":{},\"id\":\"65783\",\"type\":\"SaveTool\"},{\"attributes\":{},\"id\":\"65784\",\"type\":\"ResetTool\"},{\"attributes\":{},\"id\":\"65768\",\"type\":\"LinearScale\"},{\"attributes\":{},\"id\":\"65785\",\"type\":\"HelpTool\"},{\"attributes\":{\"axis_label\":\"Yhat\",\"formatter\":{\"id\":\"66969\",\"type\":\"BasicTickFormatter\"},\"ticker\":{\"id\":\"65776\",\"type\":\"BasicTicker\"}},\"id\":\"65775\",\"type\":\"LinearAxis\"},{\"attributes\":{\"active_drag\":\"auto\",\"active_inspect\":\"auto\",\"active_multi\":null,\"active_scroll\":\"auto\",\"active_tap\":\"auto\",\"tools\":[{\"id\":\"65780\",\"type\":\"PanTool\"},{\"id\":\"65781\",\"type\":\"WheelZoomTool\"},{\"id\":\"65782\",\"type\":\"BoxZoomTool\"},{\"id\":\"65783\",\"type\":\"SaveTool\"},{\"id\":\"65784\",\"type\":\"ResetTool\"},{\"id\":\"65785\",\"type\":\"HelpTool\"}]},\"id\":\"65786\",\"type\":\"Toolbar\"},{\"attributes\":{\"dimension\":1,\"ticker\":{\"id\":\"65776\",\"type\":\"BasicTicker\"}},\"id\":\"65779\",\"type\":\"Grid\"},{\"attributes\":{\"fill_color\":{\"value\":\"#1f77b4\"},\"line_color\":{\"value\":\"#1f77b4\"},\"x\":{\"field\":\"x\"},\"y\":{\"field\":\"y\"}},\"id\":\"65794\",\"type\":\"Scatter\"},{\"attributes\":{\"callback\":null,\"data\":{\"x\":[9.0,46.6],\"y\":[9.0,46.6]},\"selected\":{\"id\":\"66977\",\"type\":\"Selection\"},\"selection_policy\":{\"id\":\"66976\",\"type\":\"UnionRenderers\"}},\"id\":\"65798\",\"type\":\"ColumnDataSource\"},{\"attributes\":{\"source\":{\"id\":\"65798\",\"type\":\"ColumnDataSource\"}},\"id\":\"65802\",\"type\":\"CDSView\"},{\"attributes\":{\"callback\":null,\"data\":{\"x\":{\"__ndarray__\":\"AAAAAAAAMkAAAAAAAAAuQAAAAAAAADJAAAAAAAAAMEAAAAAAAAAxQAAAAAAAAC5AAAAAAAAALEAAAAAAAAAsQAAAAAAAACxAAAAAAAAALkAAAAAAAAAuQAAAAAAAACxAAAAAAAAALkAAAAAAAAAsQAAAAAAAADhAAAAAAAAANkAAAAAAAAAyQAAAAAAAADVAAAAAAAAAO0AAAAAAAAA6QAAAAAAAADlAAAAAAAAAOEAAAAAAAAA5QAAAAAAAADpAAAAAAAAANUAAAAAAAAAkQAAAAAAAACRAAAAAAAAAJkAAAAAAAAAiQAAAAAAAADtAAAAAAAAAPEAAAAAAAAA5QAAAAAAAADlAAAAAAAAAM0AAAAAAAAAwQAAAAAAAADFAAAAAAAAAM0AAAAAAAAAyQAAAAAAAACxAAAAAAAAALEAAAAAAAAAsQAAAAAAAACxAAAAAAAAAKEAAAAAAAAAqQAAAAAAAACpAAAAAAAAAMkAAAAAAAAA2QAAAAAAAADNAAAAAAAAAMkAAAAAAAAA3QAAAAAAAADxAAAAAAAAAPkAAAAAAAAA+QAAAAAAAAD9AAAAAAACAQUAAAAAAAAA7QAAAAAAAADpAAAAAAAAAOEAAAAAAAAA5QAAAAAAAADdAAAAAAAAANEAAAAAAAAA1QAAAAAAAACpAAAAAAAAALEAAAAAAAAAuQAAAAAAAACxAAAAAAAAAMUAAAAAAAAAmQAAAAAAAACpAAAAAAAAAKEAAAAAAAAAqQAAAAAAAADNAAAAAAAAALkAAAAAAAAAqQAAAAAAAACpAAAAAAAAALEAAAAAAAAAyQAAAAAAAADZAAAAAAAAANUAAAAAAAAA6QAAAAAAAADZAAAAAAAAAPEAAAAAAAAA3QAAAAAAAADxAAAAAAAAAO0AAAAAAAAAqQAAAAAAAACxAAAAAAAAAKkAAAAAAAAAsQAAAAAAAAC5AAAAAAAAAKEAAAAAAAAAqQAAAAAAAACpAAAAAAAAALEAAAAAAAAAqQAAAAAAAAChAAAAAAAAAKkAAAAAAAAAyQAAAAAAAADBAAAAAAAAAMkAAAAAAAAAyQAAAAAAAADdAAAAAAAAAOkAAAAAAAAAmQAAAAAAAAChAAAAAAAAAKkAAAAAAAAAoQAAAAAAAADJAAAAAAAAANEAAAAAAAAA1QAAAAAAAADZAAAAAAAAAMkAAAAAAAAAzQAAAAAAAADVAAAAAAAAAOkAAAAAAAAAuQAAAAAAAADBAAAAAAAAAPUAAAAAAAAA4QAAAAAAAADRAAAAAAAAAM0AAAAAAAAAuQAAAAAAAADhAAAAAAAAANEAAAAAAAAAmQAAAAAAAADRAAAAAAAAANUAAAAAAAAAzQAAAAAAAAC5AAAAAAAAAP0AAAAAAAAA6QAAAAAAAAEBAAAAAAAAAOUAAAAAAAAAwQAAAAAAAADBAAAAAAAAAMkAAAAAAAAAwQAAAAAAAACpAAAAAAAAALEAAAAAAAAAsQAAAAAAAACxAAAAAAAAAPUAAAAAAAAA6QAAAAAAAADpAAAAAAAAAP0AAAAAAAABAQAAAAAAAADxAAAAAAAAAOEAAAAAAAAA6QAAAAAAAADhAAAAAAAAAOkAAAAAAAAA/QAAAAAAAADNAAAAAAAAAMkAAAAAAAAAuQAAAAAAAAC5AAAAAAAAAMEAAAAAAAAAuQAAAAAAAADBAAAAAAAAALEAAAAAAAAAxQAAAAAAAADBAAAAAAAAALkAAAAAAAAAyQAAAAAAAADVAAAAAAAAANEAAAAAAAAAqQAAAAAAAAD1AAAAAAAAAN0AAAAAAAAA0QAAAAAAAADdAAAAAAAAAOEAAAAAAAAA5QAAAAAAAADhAAAAAAAAAMkAAAAAAAAA9QAAAAAAAADNAAAAAAAAAN0AAAAAAAAA3QAAAAAAAADZAAAAAAAAAOUAAAAAAAIBAQAAAAAAAADxAAAAAAAAAOUAAAAAAAAA5QAAAAAAAADpAAAAAAAAAO0AAAAAAAIAxQAAAAAAAADBAAAAAAAAAL0AAAAAAAAAtQAAAAAAAADZAAAAAAAAANkAAAAAAAAA4QAAAAAAAgDZAAAAAAAAAPUAAAAAAAIA4QAAAAAAAAD1AAAAAAACAQEAAAAAAAAA0QAAAAAAAADJAAAAAAACAMkAAAAAAAIAxQAAAAAAAgD1AAAAAAAAAQEAAAAAAAAA8QAAAAAAAgDpAAAAAAAAANEAAAAAAAAAqQAAAAAAAADNAAAAAAAAAM0AAAAAAAIAwQAAAAAAAgDBAAAAAAAAAKkAAAAAAAAAqQAAAAAAAACpAAAAAAACAP0AAAAAAAAA+QAAAAAAAAEJAAAAAAACAOUAAAAAAAMBAQAAAAAAAgDFAAAAAAAAAMUAAAAAAAAAvQAAAAAAAAC5AAAAAAACAMUAAAAAAAIA0QAAAAAAAADNAAAAAAACAMkAAAAAAAAAwQAAAAAAAAC9AAAAAAAAAL0AAAAAAAAAwQAAAAAAAAD1AAAAAAACAOEAAAAAAAAA6QAAAAAAAgDlAAAAAAACAPkAAAAAAAMBAQAAAAAAAAD5AAAAAAACAPkAAAAAAAAA2QAAAAAAAgDVAAAAAAACANUDNzMzMzIxFQM3MzMzMDEJAZmZmZmZmQEAzMzMzM7NDQM3MzMzMDEJAZmZmZmbmM0BmZmZmZmYzQDMzMzMzMzRAMzMzMzMzM0AAAAAAAIA0QDMzMzMzMzRAmpmZmZkZOUAAAAAAAIA0QGZmZmZmZjNAmpmZmZmZNEDNzMzMzMw0QJqZmZmZmTJAmpmZmZkZMkAzMzMzMzMzQDMzMzMzszFAmpmZmZkZMkAAAAAAAIAxQAAAAAAAAD5AAAAAAACAO0AzMzMzMzM7QGZmZmZm5j5AmpmZmZkZNUAzMzMzMzM3QM3MzMzMzDdAZmZmZmbmN0DNzMzMzEw0QAAAAAAAADFAmpmZmZmZNUAzMzMzMzMwQAAAAAAAgD9AAAAAAACAPUAAAAAAAIA1QM3MzMzMzDNAzczMzMxMNkAzMzMzMzM0QJqZmZmZmTRAAAAAAAAAMUCamZmZmZkxQAAAAAAAgDBAMzMzMzMzMkBmZmZmZuYwQAAAAAAAAC9AMzMzMzMzM0AAAAAAAIAyQGZmZmZm5j9AzczMzMwMQUCamZmZmdlBQGZmZmZmZjtAZmZmZmZmOUAAAAAAAAA3QDMzMzMzMztAZmZmZmbmN0CamZmZmRlBQAAAAAAAQEFAzczMzMzMP0BmZmZmZqZCQGZmZmZmZjxAzczMzMzMPEDNzMzMzMw6QAAAAAAAwEBAAAAAAADAREDNzMzMzAxDQM3MzMzMDEBAmpmZmZmZQkAAAAAAAAA8QGZmZmZmZjpAzczMzMxMOECamZmZmRkzQGZmZmZmJkFAzczMzMzMPUDNzMzMzEw/QAAAAAAAgEJAmpmZmZkZQEDNzMzMzExHQGZmZmZm5jtAZmZmZmZmREBmZmZmZiZGQDMzMzMzs0VAMzMzMzMzQkAAAAAAAAA+QM3MzMzMTEZAMzMzMzNzREBmZmZmZuZAQM3MzMzMzD1AmpmZmZlZQEAzMzMzM7M3QAAAAAAAgEFAmpmZmZmZN0AzMzMzMzNAQDMzMzMzMztAmpmZmZmZOkDNzMzMzMw5QAAAAAAAgDdAAAAAAAAAPkDNzMzMzIxDQAAAAAAAgENAzczMzMyMQUBmZmZmZiZAQAAAAAAAgEJAmpmZmZnZQkDNzMzMzAxBQJqZmZmZWUFAMzMzMzMzQUBmZmZmZuY9QAAAAAAAgEBAAAAAAABAQUCamZmZmdlAQDMzMzMzM0BAMzMzMzNzQECamZmZmZk/QJqZmZmZGTxAMzMzMzOzPkBmZmZmZmY5QDMzMzMzMzhAZmZmZmZmNkCamZmZmZk6QDMzMzMzMzRAmpmZmZmZMUAAAAAAAAA8QAAAAAAAADtAAAAAAAAAQUAAAAAAAAA/QAAAAAAAAD1AAAAAAAAAO0AAAAAAAAA4QAAAAAAAADdAAAAAAAAAQkAAAAAAAIBCQAAAAAAAAD9AAAAAAAAAQ0AAAAAAAABCQAAAAAAAAEJAAAAAAAAAQkAAAAAAAABBQAAAAAAAAENAAAAAAAAAQEAAAAAAAABDQAAAAAAAADlAAAAAAAAAQ0AAAAAAAAA6QAAAAAAAADZAAAAAAAAAQEAAAAAAAABCQAAAAAAAADtAAAAAAAAAO0AAAAAAAABGQAAAAAAAAEBAAAAAAAAAPEAAAAAAAAA/QA==\",\"dtype\":\"float64\",\"shape\":[398]},\"y\":{\"__ndarray__\":\"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\",\"dtype\":\"float64\",\"shape\":[398]}},\"selected\":{\"id\":\"66975\",\"type\":\"Selection\"},\"selection_policy\":{\"id\":\"66974\",\"type\":\"UnionRenderers\"}},\"id\":\"65793\",\"type\":\"ColumnDataSource\"},{\"attributes\":{},\"id\":\"65780\",\"type\":\"PanTool\"},{\"attributes\":{},\"id\":\"66974\",\"type\":\"UnionRenderers\"},{\"attributes\":{},\"id\":\"65771\",\"type\":\"BasicTicker\"},{\"attributes\":{},\"id\":\"66971\",\"type\":\"BasicTickFormatter\"},{\"attributes\":{\"line_color\":\"#1f77b4\",\"x\":{\"field\":\"x\"},\"y\":{\"field\":\"y\"}},\"id\":\"65799\",\"type\":\"Line\"},{\"attributes\":{\"callback\":null},\"id\":\"65762\",\"type\":\"DataRange1d\"},{\"attributes\":{\"line_alpha\":0.1,\"line_color\":\"#1f77b4\",\"x\":{\"field\":\"x\"},\"y\":{\"field\":\"y\"}},\"id\":\"65800\",\"type\":\"Line\"},{\"attributes\":{\"callback\":null},\"id\":\"65764\",\"type\":\"DataRange1d\"},{\"attributes\":{\"data_source\":{\"id\":\"65798\",\"type\":\"ColumnDataSource\"},\"glyph\":{\"id\":\"65799\",\"type\":\"Line\"},\"hover_glyph\":null,\"muted_glyph\":null,\"nonselection_glyph\":{\"id\":\"65800\",\"type\":\"Line\"},\"selection_glyph\":null,\"view\":{\"id\":\"65802\",\"type\":\"CDSView\"}},\"id\":\"65801\",\"type\":\"GlyphRenderer\"},{\"attributes\":{\"text\":\"\"},\"id\":\"66967\",\"type\":\"Title\"},{\"attributes\":{\"fill_alpha\":{\"value\":0.1},\"fill_color\":{\"value\":\"#1f77b4\"},\"line_alpha\":{\"value\":0.1},\"line_color\":{\"value\":\"#1f77b4\"},\"x\":{\"field\":\"x\"},\"y\":{\"field\":\"y\"}},\"id\":\"65795\",\"type\":\"Scatter\"},{\"attributes\":{},\"id\":\"65776\",\"type\":\"BasicTicker\"},{\"attributes\":{\"ticker\":{\"id\":\"65771\",\"type\":\"BasicTicker\"}},\"id\":\"65774\",\"type\":\"Grid\"},{\"attributes\":{\"bottom_units\":\"screen\",\"fill_alpha\":{\"value\":0.5},\"fill_color\":{\"value\":\"lightgrey\"},\"left_units\":\"screen\",\"level\":\"overlay\",\"line_alpha\":{\"value\":1.0},\"line_color\":{\"value\":\"black\"},\"line_dash\":[4,4],\"line_width\":{\"value\":2},\"render_mode\":\"css\",\"right_units\":\"screen\",\"top_units\":\"screen\"},\"id\":\"66973\",\"type\":\"BoxAnnotation\"},{\"attributes\":{},\"id\":\"66969\",\"type\":\"BasicTickFormatter\"}],\"root_ids\":[\"65761\"]},\"title\":\"Bokeh Application\",\"version\":\"1.4.0\"}};\n",
       "  var render_items = [{\"docid\":\"810f9dd2-e89f-45fb-93f9-ca46139c12d9\",\"roots\":{\"65761\":\"12e4473b-7a33-4efd-8c9e-d3963f5af41c\"}}];\n",
       "  root.Bokeh.embed.embed_items_notebook(docs_json, render_items);\n",
       "\n",
       "  }\n",
       "  if (root.Bokeh !== undefined) {\n",
       "    embed_document(root);\n",
       "  } else {\n",
       "    var attempts = 0;\n",
       "    var timer = setInterval(function(root) {\n",
       "      if (root.Bokeh !== undefined) {\n",
       "        clearInterval(timer);\n",
       "        embed_document(root);\n",
       "      } else {\n",
       "        attempts++;\n",
       "        if (attempts > 100) {\n",
       "          clearInterval(timer);\n",
       "          console.log(\"Bokeh: ERROR: Unable to run BokehJS code because BokehJS library is missing\");\n",
       "        }\n",
       "      }\n",
       "    }, 10, root)\n",
       "  }\n",
       "})(window);"
      ],
      "application/vnd.bokehjs_exec.v0+json": ""
     },
     "metadata": {
      "application/vnd.bokehjs_exec.v0+json": {
       "id": "65761"
      }
     },
     "output_type": "display_data"
    }
   ],
   "source": [
    "# here we compare the predicted and known values \n",
    "show(comparison_plot(Y,Yhat))"
   ]
  },
  {
   "cell_type": "markdown",
   "metadata": {},
   "source": [
    "The regression coefficients are:"
   ]
  },
  {
   "cell_type": "code",
   "execution_count": 376,
   "metadata": {},
   "outputs": [
    {
     "data": {
      "text/plain": [
       "array([-1.63583529e-02, -5.79774419e-03,  4.39004638e+01])"
      ]
     },
     "execution_count": 376,
     "metadata": {},
     "output_type": "execute_result"
    }
   ],
   "source": [
    "M"
   ]
  },
  {
   "cell_type": "code",
   "execution_count": 379,
   "metadata": {},
   "outputs": [],
   "source": [
    "# compute the MSE and compare the result to the one variable computation done earlier.  Is this better?"
   ]
  },
  {
   "cell_type": "markdown",
   "metadata": {},
   "source": [
    "Our MSE is a bit better in this multivariate case (18.4 vs 21 in the one-variable case).\n",
    "\n",
    "Each unit increase in displacement reduces mileage by .016 and each unit increase in weight decreases mileage by -.0058.  However,\n",
    "as the comparison plot shows, this  relationship continues to breakdown for cars with high mileage -- among cars that are predicted to \n",
    "have mileage around 30, the true mileage goes a lot higher, so some other factor must be at work."
   ]
  },
  {
   "cell_type": "markdown",
   "metadata": {},
   "source": [
    "### The covariance matrix and correlation\n",
    "\n",
    "To get a closer look at the relationship between weight and displacement let's compute the covariance matrix.  To do that\n",
    "we need to center the variables."
   ]
  },
  {
   "cell_type": "code",
   "execution_count": 381,
   "metadata": {},
   "outputs": [],
   "source": [
    "# compute the covariance matrix from centered coordinates and then the correlation coefficient between weight and displacement.\n",
    "# Note that they are highly correlated (R^2 is relatively close to 1).  How does this help explain why adding weight to our\n",
    "# regression doesn't add much to our ability to predict mpg."
   ]
  },
  {
   "cell_type": "code",
   "execution_count": null,
   "metadata": {},
   "outputs": [],
   "source": []
  }
 ],
 "metadata": {
  "kernelspec": {
   "display_name": "Python 3",
   "language": "python",
   "name": "python3"
  },
  "language_info": {
   "codemirror_mode": {
    "name": "ipython",
    "version": 3
   },
   "file_extension": ".py",
   "mimetype": "text/x-python",
   "name": "python",
   "nbconvert_exporter": "python",
   "pygments_lexer": "ipython3",
   "version": "3.7.4"
  }
 },
 "nbformat": 4,
 "nbformat_minor": 4
}
