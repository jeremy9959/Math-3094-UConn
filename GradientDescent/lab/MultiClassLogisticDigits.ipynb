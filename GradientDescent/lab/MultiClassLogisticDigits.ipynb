{
 "cells": [
  {
   "cell_type": "markdown",
   "metadata": {},
   "source": [
    "\n",
    "## Multiclass Logistic Regression\n",
    "\n",
    "    "
   ]
  },
  {
   "cell_type": "code",
   "execution_count": 1,
   "metadata": {},
   "outputs": [
    {
     "data": {
      "text/html": [
       "<div class=\"bk-root\">\n",
       "        <a href=\"https://bokeh.org\" target=\"_blank\" class=\"bk-logo bk-logo-small bk-logo-notebook\"></a>\n",
       "        <span id=\"1002\">Loading BokehJS ...</span>\n",
       "    </div>\n"
      ]
     },
     "metadata": {},
     "output_type": "display_data"
    },
    {
     "data": {
      "application/javascript": [
       "(function(root) {\n",
       "  function now() {\n",
       "    return new Date();\n",
       "  }\n",
       "\n",
       "  const force = true;\n",
       "\n",
       "  if (typeof root._bokeh_onload_callbacks === \"undefined\" || force === true) {\n",
       "    root._bokeh_onload_callbacks = [];\n",
       "    root._bokeh_is_loading = undefined;\n",
       "  }\n",
       "\n",
       "const JS_MIME_TYPE = 'application/javascript';\n",
       "  const HTML_MIME_TYPE = 'text/html';\n",
       "  const EXEC_MIME_TYPE = 'application/vnd.bokehjs_exec.v0+json';\n",
       "  const CLASS_NAME = 'output_bokeh rendered_html';\n",
       "\n",
       "  /**\n",
       "   * Render data to the DOM node\n",
       "   */\n",
       "  function render(props, node) {\n",
       "    const script = document.createElement(\"script\");\n",
       "    node.appendChild(script);\n",
       "  }\n",
       "\n",
       "  /**\n",
       "   * Handle when an output is cleared or removed\n",
       "   */\n",
       "  function handleClearOutput(event, handle) {\n",
       "    const cell = handle.cell;\n",
       "\n",
       "    const id = cell.output_area._bokeh_element_id;\n",
       "    const server_id = cell.output_area._bokeh_server_id;\n",
       "    // Clean up Bokeh references\n",
       "    if (id != null && id in Bokeh.index) {\n",
       "      Bokeh.index[id].model.document.clear();\n",
       "      delete Bokeh.index[id];\n",
       "    }\n",
       "\n",
       "    if (server_id !== undefined) {\n",
       "      // Clean up Bokeh references\n",
       "      const cmd_clean = \"from bokeh.io.state import curstate; print(curstate().uuid_to_server['\" + server_id + \"'].get_sessions()[0].document.roots[0]._id)\";\n",
       "      cell.notebook.kernel.execute(cmd_clean, {\n",
       "        iopub: {\n",
       "          output: function(msg) {\n",
       "            const id = msg.content.text.trim();\n",
       "            if (id in Bokeh.index) {\n",
       "              Bokeh.index[id].model.document.clear();\n",
       "              delete Bokeh.index[id];\n",
       "            }\n",
       "          }\n",
       "        }\n",
       "      });\n",
       "      // Destroy server and session\n",
       "      const cmd_destroy = \"import bokeh.io.notebook as ion; ion.destroy_server('\" + server_id + \"')\";\n",
       "      cell.notebook.kernel.execute(cmd_destroy);\n",
       "    }\n",
       "  }\n",
       "\n",
       "  /**\n",
       "   * Handle when a new output is added\n",
       "   */\n",
       "  function handleAddOutput(event, handle) {\n",
       "    const output_area = handle.output_area;\n",
       "    const output = handle.output;\n",
       "\n",
       "    // limit handleAddOutput to display_data with EXEC_MIME_TYPE content only\n",
       "    if ((output.output_type != \"display_data\") || (!Object.prototype.hasOwnProperty.call(output.data, EXEC_MIME_TYPE))) {\n",
       "      return\n",
       "    }\n",
       "\n",
       "    const toinsert = output_area.element.find(\".\" + CLASS_NAME.split(' ')[0]);\n",
       "\n",
       "    if (output.metadata[EXEC_MIME_TYPE][\"id\"] !== undefined) {\n",
       "      toinsert[toinsert.length - 1].firstChild.textContent = output.data[JS_MIME_TYPE];\n",
       "      // store reference to embed id on output_area\n",
       "      output_area._bokeh_element_id = output.metadata[EXEC_MIME_TYPE][\"id\"];\n",
       "    }\n",
       "    if (output.metadata[EXEC_MIME_TYPE][\"server_id\"] !== undefined) {\n",
       "      const bk_div = document.createElement(\"div\");\n",
       "      bk_div.innerHTML = output.data[HTML_MIME_TYPE];\n",
       "      const script_attrs = bk_div.children[0].attributes;\n",
       "      for (let i = 0; i < script_attrs.length; i++) {\n",
       "        toinsert[toinsert.length - 1].firstChild.setAttribute(script_attrs[i].name, script_attrs[i].value);\n",
       "        toinsert[toinsert.length - 1].firstChild.textContent = bk_div.children[0].textContent\n",
       "      }\n",
       "      // store reference to server id on output_area\n",
       "      output_area._bokeh_server_id = output.metadata[EXEC_MIME_TYPE][\"server_id\"];\n",
       "    }\n",
       "  }\n",
       "\n",
       "  function register_renderer(events, OutputArea) {\n",
       "\n",
       "    function append_mime(data, metadata, element) {\n",
       "      // create a DOM node to render to\n",
       "      const toinsert = this.create_output_subarea(\n",
       "        metadata,\n",
       "        CLASS_NAME,\n",
       "        EXEC_MIME_TYPE\n",
       "      );\n",
       "      this.keyboard_manager.register_events(toinsert);\n",
       "      // Render to node\n",
       "      const props = {data: data, metadata: metadata[EXEC_MIME_TYPE]};\n",
       "      render(props, toinsert[toinsert.length - 1]);\n",
       "      element.append(toinsert);\n",
       "      return toinsert\n",
       "    }\n",
       "\n",
       "    /* Handle when an output is cleared or removed */\n",
       "    events.on('clear_output.CodeCell', handleClearOutput);\n",
       "    events.on('delete.Cell', handleClearOutput);\n",
       "\n",
       "    /* Handle when a new output is added */\n",
       "    events.on('output_added.OutputArea', handleAddOutput);\n",
       "\n",
       "    /**\n",
       "     * Register the mime type and append_mime function with output_area\n",
       "     */\n",
       "    OutputArea.prototype.register_mime_type(EXEC_MIME_TYPE, append_mime, {\n",
       "      /* Is output safe? */\n",
       "      safe: true,\n",
       "      /* Index of renderer in `output_area.display_order` */\n",
       "      index: 0\n",
       "    });\n",
       "  }\n",
       "\n",
       "  // register the mime type if in Jupyter Notebook environment and previously unregistered\n",
       "  if (root.Jupyter !== undefined) {\n",
       "    const events = require('base/js/events');\n",
       "    const OutputArea = require('notebook/js/outputarea').OutputArea;\n",
       "\n",
       "    if (OutputArea.prototype.mime_types().indexOf(EXEC_MIME_TYPE) == -1) {\n",
       "      register_renderer(events, OutputArea);\n",
       "    }\n",
       "  }\n",
       "  if (typeof (root._bokeh_timeout) === \"undefined\" || force === true) {\n",
       "    root._bokeh_timeout = Date.now() + 5000;\n",
       "    root._bokeh_failed_load = false;\n",
       "  }\n",
       "\n",
       "  const NB_LOAD_WARNING = {'data': {'text/html':\n",
       "     \"<div style='background-color: #fdd'>\\n\"+\n",
       "     \"<p>\\n\"+\n",
       "     \"BokehJS does not appear to have successfully loaded. If loading BokehJS from CDN, this \\n\"+\n",
       "     \"may be due to a slow or bad network connection. Possible fixes:\\n\"+\n",
       "     \"</p>\\n\"+\n",
       "     \"<ul>\\n\"+\n",
       "     \"<li>re-rerun `output_notebook()` to attempt to load from CDN again, or</li>\\n\"+\n",
       "     \"<li>use INLINE resources instead, as so:</li>\\n\"+\n",
       "     \"</ul>\\n\"+\n",
       "     \"<code>\\n\"+\n",
       "     \"from bokeh.resources import INLINE\\n\"+\n",
       "     \"output_notebook(resources=INLINE)\\n\"+\n",
       "     \"</code>\\n\"+\n",
       "     \"</div>\"}};\n",
       "\n",
       "  function display_loaded() {\n",
       "    const el = document.getElementById(\"1002\");\n",
       "    if (el != null) {\n",
       "      el.textContent = \"BokehJS is loading...\";\n",
       "    }\n",
       "    if (root.Bokeh !== undefined) {\n",
       "      if (el != null) {\n",
       "        el.textContent = \"BokehJS \" + root.Bokeh.version + \" successfully loaded.\";\n",
       "      }\n",
       "    } else if (Date.now() < root._bokeh_timeout) {\n",
       "      setTimeout(display_loaded, 100)\n",
       "    }\n",
       "  }\n",
       "\n",
       "  function run_callbacks() {\n",
       "    try {\n",
       "      root._bokeh_onload_callbacks.forEach(function(callback) {\n",
       "        if (callback != null)\n",
       "          callback();\n",
       "      });\n",
       "    } finally {\n",
       "      delete root._bokeh_onload_callbacks\n",
       "    }\n",
       "    console.debug(\"Bokeh: all callbacks have finished\");\n",
       "  }\n",
       "\n",
       "  function load_libs(css_urls, js_urls, callback) {\n",
       "    if (css_urls == null) css_urls = [];\n",
       "    if (js_urls == null) js_urls = [];\n",
       "\n",
       "    root._bokeh_onload_callbacks.push(callback);\n",
       "    if (root._bokeh_is_loading > 0) {\n",
       "      console.debug(\"Bokeh: BokehJS is being loaded, scheduling callback at\", now());\n",
       "      return null;\n",
       "    }\n",
       "    if (js_urls == null || js_urls.length === 0) {\n",
       "      run_callbacks();\n",
       "      return null;\n",
       "    }\n",
       "    console.debug(\"Bokeh: BokehJS not loaded, scheduling load and callback at\", now());\n",
       "    root._bokeh_is_loading = css_urls.length + js_urls.length;\n",
       "\n",
       "    function on_load() {\n",
       "      root._bokeh_is_loading--;\n",
       "      if (root._bokeh_is_loading === 0) {\n",
       "        console.debug(\"Bokeh: all BokehJS libraries/stylesheets loaded\");\n",
       "        run_callbacks()\n",
       "      }\n",
       "    }\n",
       "\n",
       "    function on_error(url) {\n",
       "      console.error(\"failed to load \" + url);\n",
       "    }\n",
       "\n",
       "    for (let i = 0; i < css_urls.length; i++) {\n",
       "      const url = css_urls[i];\n",
       "      const element = document.createElement(\"link\");\n",
       "      element.onload = on_load;\n",
       "      element.onerror = on_error.bind(null, url);\n",
       "      element.rel = \"stylesheet\";\n",
       "      element.type = \"text/css\";\n",
       "      element.href = url;\n",
       "      console.debug(\"Bokeh: injecting link tag for BokehJS stylesheet: \", url);\n",
       "      document.body.appendChild(element);\n",
       "    }\n",
       "\n",
       "    for (let i = 0; i < js_urls.length; i++) {\n",
       "      const url = js_urls[i];\n",
       "      const element = document.createElement('script');\n",
       "      element.onload = on_load;\n",
       "      element.onerror = on_error.bind(null, url);\n",
       "      element.async = false;\n",
       "      element.src = url;\n",
       "      console.debug(\"Bokeh: injecting script tag for BokehJS library: \", url);\n",
       "      document.head.appendChild(element);\n",
       "    }\n",
       "  };\n",
       "\n",
       "  function inject_raw_css(css) {\n",
       "    const element = document.createElement(\"style\");\n",
       "    element.appendChild(document.createTextNode(css));\n",
       "    document.body.appendChild(element);\n",
       "  }\n",
       "\n",
       "  const js_urls = [\"https://cdn.bokeh.org/bokeh/release/bokeh-2.4.3.min.js\", \"https://cdn.bokeh.org/bokeh/release/bokeh-gl-2.4.3.min.js\", \"https://cdn.bokeh.org/bokeh/release/bokeh-widgets-2.4.3.min.js\", \"https://cdn.bokeh.org/bokeh/release/bokeh-tables-2.4.3.min.js\", \"https://cdn.bokeh.org/bokeh/release/bokeh-mathjax-2.4.3.min.js\"];\n",
       "  const css_urls = [];\n",
       "\n",
       "  const inline_js = [    function(Bokeh) {\n",
       "      Bokeh.set_log_level(\"info\");\n",
       "    },\n",
       "function(Bokeh) {\n",
       "    }\n",
       "  ];\n",
       "\n",
       "  function run_inline_js() {\n",
       "    if (root.Bokeh !== undefined || force === true) {\n",
       "          for (let i = 0; i < inline_js.length; i++) {\n",
       "      inline_js[i].call(root, root.Bokeh);\n",
       "    }\n",
       "if (force === true) {\n",
       "        display_loaded();\n",
       "      }} else if (Date.now() < root._bokeh_timeout) {\n",
       "      setTimeout(run_inline_js, 100);\n",
       "    } else if (!root._bokeh_failed_load) {\n",
       "      console.log(\"Bokeh: BokehJS failed to load within specified timeout.\");\n",
       "      root._bokeh_failed_load = true;\n",
       "    } else if (force !== true) {\n",
       "      const cell = $(document.getElementById(\"1002\")).parents('.cell').data().cell;\n",
       "      cell.output_area.append_execute_result(NB_LOAD_WARNING)\n",
       "    }\n",
       "  }\n",
       "\n",
       "  if (root._bokeh_is_loading === 0) {\n",
       "    console.debug(\"Bokeh: BokehJS loaded, going straight to plotting\");\n",
       "    run_inline_js();\n",
       "  } else {\n",
       "    load_libs(css_urls, js_urls, function() {\n",
       "      console.debug(\"Bokeh: BokehJS plotting callback run at\", now());\n",
       "      run_inline_js();\n",
       "    });\n",
       "  }\n",
       "}(window));"
      ],
      "application/vnd.bokehjs_load.v0+json": "(function(root) {\n  function now() {\n    return new Date();\n  }\n\n  const force = true;\n\n  if (typeof root._bokeh_onload_callbacks === \"undefined\" || force === true) {\n    root._bokeh_onload_callbacks = [];\n    root._bokeh_is_loading = undefined;\n  }\n\n\n  if (typeof (root._bokeh_timeout) === \"undefined\" || force === true) {\n    root._bokeh_timeout = Date.now() + 5000;\n    root._bokeh_failed_load = false;\n  }\n\n  const NB_LOAD_WARNING = {'data': {'text/html':\n     \"<div style='background-color: #fdd'>\\n\"+\n     \"<p>\\n\"+\n     \"BokehJS does not appear to have successfully loaded. If loading BokehJS from CDN, this \\n\"+\n     \"may be due to a slow or bad network connection. Possible fixes:\\n\"+\n     \"</p>\\n\"+\n     \"<ul>\\n\"+\n     \"<li>re-rerun `output_notebook()` to attempt to load from CDN again, or</li>\\n\"+\n     \"<li>use INLINE resources instead, as so:</li>\\n\"+\n     \"</ul>\\n\"+\n     \"<code>\\n\"+\n     \"from bokeh.resources import INLINE\\n\"+\n     \"output_notebook(resources=INLINE)\\n\"+\n     \"</code>\\n\"+\n     \"</div>\"}};\n\n  function display_loaded() {\n    const el = document.getElementById(\"1002\");\n    if (el != null) {\n      el.textContent = \"BokehJS is loading...\";\n    }\n    if (root.Bokeh !== undefined) {\n      if (el != null) {\n        el.textContent = \"BokehJS \" + root.Bokeh.version + \" successfully loaded.\";\n      }\n    } else if (Date.now() < root._bokeh_timeout) {\n      setTimeout(display_loaded, 100)\n    }\n  }\n\n  function run_callbacks() {\n    try {\n      root._bokeh_onload_callbacks.forEach(function(callback) {\n        if (callback != null)\n          callback();\n      });\n    } finally {\n      delete root._bokeh_onload_callbacks\n    }\n    console.debug(\"Bokeh: all callbacks have finished\");\n  }\n\n  function load_libs(css_urls, js_urls, callback) {\n    if (css_urls == null) css_urls = [];\n    if (js_urls == null) js_urls = [];\n\n    root._bokeh_onload_callbacks.push(callback);\n    if (root._bokeh_is_loading > 0) {\n      console.debug(\"Bokeh: BokehJS is being loaded, scheduling callback at\", now());\n      return null;\n    }\n    if (js_urls == null || js_urls.length === 0) {\n      run_callbacks();\n      return null;\n    }\n    console.debug(\"Bokeh: BokehJS not loaded, scheduling load and callback at\", now());\n    root._bokeh_is_loading = css_urls.length + js_urls.length;\n\n    function on_load() {\n      root._bokeh_is_loading--;\n      if (root._bokeh_is_loading === 0) {\n        console.debug(\"Bokeh: all BokehJS libraries/stylesheets loaded\");\n        run_callbacks()\n      }\n    }\n\n    function on_error(url) {\n      console.error(\"failed to load \" + url);\n    }\n\n    for (let i = 0; i < css_urls.length; i++) {\n      const url = css_urls[i];\n      const element = document.createElement(\"link\");\n      element.onload = on_load;\n      element.onerror = on_error.bind(null, url);\n      element.rel = \"stylesheet\";\n      element.type = \"text/css\";\n      element.href = url;\n      console.debug(\"Bokeh: injecting link tag for BokehJS stylesheet: \", url);\n      document.body.appendChild(element);\n    }\n\n    for (let i = 0; i < js_urls.length; i++) {\n      const url = js_urls[i];\n      const element = document.createElement('script');\n      element.onload = on_load;\n      element.onerror = on_error.bind(null, url);\n      element.async = false;\n      element.src = url;\n      console.debug(\"Bokeh: injecting script tag for BokehJS library: \", url);\n      document.head.appendChild(element);\n    }\n  };\n\n  function inject_raw_css(css) {\n    const element = document.createElement(\"style\");\n    element.appendChild(document.createTextNode(css));\n    document.body.appendChild(element);\n  }\n\n  const js_urls = [\"https://cdn.bokeh.org/bokeh/release/bokeh-2.4.3.min.js\", \"https://cdn.bokeh.org/bokeh/release/bokeh-gl-2.4.3.min.js\", \"https://cdn.bokeh.org/bokeh/release/bokeh-widgets-2.4.3.min.js\", \"https://cdn.bokeh.org/bokeh/release/bokeh-tables-2.4.3.min.js\", \"https://cdn.bokeh.org/bokeh/release/bokeh-mathjax-2.4.3.min.js\"];\n  const css_urls = [];\n\n  const inline_js = [    function(Bokeh) {\n      Bokeh.set_log_level(\"info\");\n    },\nfunction(Bokeh) {\n    }\n  ];\n\n  function run_inline_js() {\n    if (root.Bokeh !== undefined || force === true) {\n          for (let i = 0; i < inline_js.length; i++) {\n      inline_js[i].call(root, root.Bokeh);\n    }\nif (force === true) {\n        display_loaded();\n      }} else if (Date.now() < root._bokeh_timeout) {\n      setTimeout(run_inline_js, 100);\n    } else if (!root._bokeh_failed_load) {\n      console.log(\"Bokeh: BokehJS failed to load within specified timeout.\");\n      root._bokeh_failed_load = true;\n    } else if (force !== true) {\n      const cell = $(document.getElementById(\"1002\")).parents('.cell').data().cell;\n      cell.output_area.append_execute_result(NB_LOAD_WARNING)\n    }\n  }\n\n  if (root._bokeh_is_loading === 0) {\n    console.debug(\"Bokeh: BokehJS loaded, going straight to plotting\");\n    run_inline_js();\n  } else {\n    load_libs(css_urls, js_urls, function() {\n      console.debug(\"Bokeh: BokehJS plotting callback run at\", now());\n      run_inline_js();\n    });\n  }\n}(window));"
     },
     "metadata": {},
     "output_type": "display_data"
    }
   ],
   "source": [
    "## Main Libraries\n",
    "\n",
    "import numpy as np\n",
    "from numpy.random import default_rng\n",
    "\n",
    "from sklearn.preprocessing import OneHotEncoder\n",
    "from scipy.special import softmax\n",
    "from tqdm import tqdm\n",
    "\n",
    "from bokeh.plotting import figure, show, output_notebook\n",
    "from bokeh.layouts import row\n",
    "from bokeh.palettes import Spectral11\n",
    "\n",
    "output_notebook()\n",
    "rng = default_rng()"
   ]
  },
  {
   "cell_type": "markdown",
   "metadata": {},
   "source": [
    "### The digits dataset\n",
    "\n",
    "In this notebook we will use gradient descent and logistic regression to classify handwritten digits.\n",
    "\n",
    "The digits dataset provided by sklearn consist of just under 1800 samples, each of which is an 8x8 image\n",
    "with the pixels on a 0 to 10 scale. To recover the image, you must convert the 64 entry rows of the data matrix\n",
    "into an 8x8 array. First we load the data (with the labels) and illustrate a few of the entries.\n"
   ]
  },
  {
   "cell_type": "code",
   "execution_count": 2,
   "metadata": {},
   "outputs": [
    {
     "data": {
      "text/html": [
       "\n",
       "  <div class=\"bk-root\" id=\"a551dd82-795a-4c48-a3d2-a0c9b513e5e4\" data-root-id=\"1453\"></div>\n"
      ]
     },
     "metadata": {},
     "output_type": "display_data"
    },
    {
     "data": {
      "application/javascript": [
       "(function(root) {\n",
       "  function embed_document(root) {\n",
       "  const docs_json = {\"07a8b1a8-d5a0-40ce-bd0d-316e6518e91a\":{\"defs\":[],\"roots\":{\"references\":[{\"attributes\":{\"children\":[{\"id\":\"1003\"},{\"id\":\"1048\"},{\"id\":\"1093\"},{\"id\":\"1138\"},{\"id\":\"1183\"},{\"id\":\"1228\"},{\"id\":\"1273\"},{\"id\":\"1318\"},{\"id\":\"1363\"},{\"id\":\"1408\"}]},\"id\":\"1453\",\"type\":\"Row\"},{\"attributes\":{},\"id\":\"1533\",\"type\":\"UnionRenderers\"},{\"attributes\":{},\"id\":\"1534\",\"type\":\"Selection\"},{\"attributes\":{},\"id\":\"1465\",\"type\":\"BasicTickFormatter\"},{\"attributes\":{\"axis\":{\"id\":\"1018\"},\"coordinates\":null,\"dimension\":1,\"group\":null,\"ticker\":null,\"visible\":false},\"id\":\"1021\",\"type\":\"Grid\"},{\"attributes\":{},\"id\":\"1026\",\"type\":\"ResetTool\"},{\"attributes\":{},\"id\":\"1025\",\"type\":\"SaveTool\"},{\"attributes\":{},\"id\":\"1466\",\"type\":\"AllLabels\"},{\"attributes\":{},\"id\":\"1023\",\"type\":\"WheelZoomTool\"},{\"attributes\":{},\"id\":\"1022\",\"type\":\"PanTool\"},{\"attributes\":{},\"id\":\"1468\",\"type\":\"BasicTickFormatter\"},{\"attributes\":{\"overlay\":{\"id\":\"1028\"}},\"id\":\"1024\",\"type\":\"BoxZoomTool\"},{\"attributes\":{},\"id\":\"1469\",\"type\":\"AllLabels\"},{\"attributes\":{},\"id\":\"1536\",\"type\":\"UnionRenderers\"},{\"attributes\":{},\"id\":\"1537\",\"type\":\"Selection\"},{\"attributes\":{},\"id\":\"1471\",\"type\":\"BasicTickFormatter\"},{\"attributes\":{},\"id\":\"1472\",\"type\":\"AllLabels\"},{\"attributes\":{},\"id\":\"1545\",\"type\":\"UnionRenderers\"},{\"attributes\":{},\"id\":\"1474\",\"type\":\"BasicTickFormatter\"},{\"attributes\":{},\"id\":\"1546\",\"type\":\"Selection\"},{\"attributes\":{},\"id\":\"1475\",\"type\":\"AllLabels\"},{\"attributes\":{\"color_mapper\":{\"id\":\"1038\"},\"dh\":{\"value\":8},\"dw\":{\"value\":8},\"image\":{\"field\":\"image\"},\"x\":{\"value\":0},\"y\":{\"value\":0}},\"id\":\"1037\",\"type\":\"Image\"},{\"attributes\":{},\"id\":\"1019\",\"type\":\"BasicTicker\"},{\"attributes\":{},\"id\":\"1010\",\"type\":\"LinearScale\"},{\"attributes\":{},\"id\":\"1015\",\"type\":\"BasicTicker\"},{\"attributes\":{},\"id\":\"1012\",\"type\":\"LinearScale\"},{\"attributes\":{\"coordinates\":null,\"formatter\":{\"id\":\"1468\"},\"group\":null,\"major_label_policy\":{\"id\":\"1469\"},\"ticker\":{\"id\":\"1015\"},\"visible\":false},\"id\":\"1014\",\"type\":\"LinearAxis\"},{\"attributes\":{},\"id\":\"1539\",\"type\":\"UnionRenderers\"},{\"attributes\":{},\"id\":\"1006\",\"type\":\"DataRange1d\"},{\"attributes\":{\"coordinates\":null,\"group\":null,\"text\":\"Label: 1\"},\"id\":\"1004\",\"type\":\"Title\"},{\"attributes\":{},\"id\":\"1540\",\"type\":\"Selection\"},{\"attributes\":{\"axis\":{\"id\":\"1014\"},\"coordinates\":null,\"group\":null,\"ticker\":null,\"visible\":false},\"id\":\"1017\",\"type\":\"Grid\"},{\"attributes\":{},\"id\":\"1008\",\"type\":\"DataRange1d\"},{\"attributes\":{\"coordinates\":null,\"formatter\":{\"id\":\"1465\"},\"group\":null,\"major_label_policy\":{\"id\":\"1466\"},\"ticker\":{\"id\":\"1019\"},\"visible\":false},\"id\":\"1018\",\"type\":\"LinearAxis\"},{\"attributes\":{},\"id\":\"1489\",\"type\":\"BasicTickFormatter\"},{\"attributes\":{},\"id\":\"1490\",\"type\":\"AllLabels\"},{\"attributes\":{\"palette\":[\"#000000\",\"#252525\",\"#525252\",\"#737373\",\"#969696\",\"#bdbdbd\",\"#d9d9d9\",\"#f0f0f0\",\"#ffffff\"]},\"id\":\"1173\",\"type\":\"LinearColorMapper\"},{\"attributes\":{},\"id\":\"1492\",\"type\":\"BasicTickFormatter\"},{\"attributes\":{\"data\":{\"image\":[{\"__ndarray__\":\"AAAAAAAAAIAAAAAAAAAAgAAAAAAAAAjAAAAAAAAAJsAAAAAAAAAwwAAAAAAAACrAAAAAAAAAEMAAAAAAAAAAgAAAAAAAAACAAAAAAAAA8L8AAAAAAAAswAAAAAAAACrAAAAAAAAAAMAAAAAAAAAqwAAAAAAAACbAAAAAAAAAAIAAAAAAAAAAgAAAAAAAABDAAAAAAAAAMMAAAAAAAAAAwAAAAAAAACjAAAAAAAAALsAAAAAAAAAAwAAAAAAAAACAAAAAAAAAAIAAAAAAAAAYwAAAAAAAADDAAAAAAAAAAMAAAAAAAAAUwAAAAAAAAADAAAAAAAAAAIAAAAAAAAAAgAAAAAAAAACAAAAAAAAAFMAAAAAAAAAwwAAAAAAAAADAAAAAAAAAAIAAAAAAAAAAgAAAAAAAAACAAAAAAAAAAIAAAAAAAAAAgAAAAAAAAAjAAAAAAAAAMMAAAAAAAAAYwAAAAAAAAACAAAAAAAAAAIAAAAAAAAAAgAAAAAAAAACAAAAAAAAAAIAAAAAAAAAAgAAAAAAAACjAAAAAAAAAKMAAAAAAAAAAgAAAAAAAAACAAAAAAAAAAIAAAAAAAAAAgAAAAAAAAACAAAAAAAAAAIAAAAAAAAAIwAAAAAAAACzAAAAAAAAA8L8AAAAAAAAAgAAAAAAAAACAAAAAAAAAAIA=\",\"dtype\":\"float64\",\"order\":\"little\",\"shape\":[8,8]}]},\"selected\":{\"id\":\"1534\"},\"selection_policy\":{\"id\":\"1533\"}},\"id\":\"1171\",\"type\":\"ColumnDataSource\"},{\"attributes\":{},\"id\":\"1493\",\"type\":\"AllLabels\"},{\"attributes\":{\"color_mapper\":{\"id\":\"1218\"},\"dh\":{\"value\":8},\"dw\":{\"value\":8},\"image\":{\"field\":\"image\"},\"x\":{\"value\":0},\"y\":{\"value\":0}},\"id\":\"1217\",\"type\":\"Image\"},{\"attributes\":{\"below\":[{\"id\":\"1194\"}],\"center\":[{\"id\":\"1197\"},{\"id\":\"1201\"}],\"height\":80,\"left\":[{\"id\":\"1198\"}],\"match_aspect\":true,\"renderers\":[{\"id\":\"1226\"}],\"title\":{\"id\":\"1184\"},\"toolbar\":{\"id\":\"1209\"},\"toolbar_location\":null,\"width\":80,\"x_range\":{\"id\":\"1186\"},\"x_scale\":{\"id\":\"1190\"},\"y_range\":{\"id\":\"1188\"},\"y_scale\":{\"id\":\"1192\"}},\"id\":\"1183\",\"subtype\":\"Figure\",\"type\":\"Plot\"},{\"attributes\":{},\"id\":\"1188\",\"type\":\"DataRange1d\"},{\"attributes\":{\"data\":{\"image\":[{\"__ndarray__\":\"AAAAAAAAAIAAAAAAAAAAgAAAAAAAAACAAAAAAAAAIMAAAAAAAAAwwAAAAAAAACrAAAAAAAAAAMAAAAAAAAAAgAAAAAAAAACAAAAAAAAAAIAAAAAAAAAiwAAAAAAAAC7AAAAAAAAAIsAAAAAAAAAwwAAAAAAAABzAAAAAAAAAAIAAAAAAAAAAgAAAAAAAAADAAAAAAAAAMMAAAAAAAAAqwAAAAAAAAPC/AAAAAAAAMMAAAAAAAAAiwAAAAAAAAACAAAAAAAAAAIAAAAAAAAAIwAAAAAAAADDAAAAAAAAAMMAAAAAAAAAswAAAAAAAAC7AAAAAAAAAAMAAAAAAAAAAgAAAAAAAAACAAAAAAAAAAMAAAAAAAAAwwAAAAAAAACbAAAAAAAAAEMAAAAAAAADwvwAAAAAAAACAAAAAAAAAAIAAAAAAAAAAgAAAAAAAAPC/AAAAAAAALsAAAAAAAAAswAAAAAAAAPC/AAAAAAAAAIAAAAAAAAAAgAAAAAAAAACAAAAAAAAAAIAAAAAAAAAAgAAAAAAAACLAAAAAAAAAMMAAAAAAAAAqwAAAAAAAAAjAAAAAAAAAAIAAAAAAAAAAgAAAAAAAAACAAAAAAAAAAIAAAAAAAAAAgAAAAAAAACDAAAAAAAAAKsAAAAAAAAAAwAAAAAAAAACAAAAAAAAAAIA=\",\"dtype\":\"float64\",\"order\":\"little\",\"shape\":[8,8]}]},\"selected\":{\"id\":\"1537\"},\"selection_policy\":{\"id\":\"1536\"}},\"id\":\"1216\",\"type\":\"ColumnDataSource\"},{\"attributes\":{\"color_mapper\":{\"id\":\"1176\"},\"dh\":{\"value\":8},\"dw\":{\"value\":8},\"global_alpha\":{\"value\":0.1},\"image\":{\"field\":\"image\"},\"x\":{\"value\":0},\"y\":{\"value\":0}},\"id\":\"1175\",\"type\":\"Image\"},{\"attributes\":{\"palette\":[\"#000000\",\"#252525\",\"#525252\",\"#737373\",\"#969696\",\"#bdbdbd\",\"#d9d9d9\",\"#f0f0f0\",\"#ffffff\"]},\"id\":\"1176\",\"type\":\"LinearColorMapper\"},{\"attributes\":{\"color_mapper\":{\"id\":\"1179\"},\"dh\":{\"value\":8},\"dw\":{\"value\":8},\"global_alpha\":{\"value\":0.2},\"image\":{\"field\":\"image\"},\"x\":{\"value\":0},\"y\":{\"value\":0}},\"id\":\"1178\",\"type\":\"Image\"},{\"attributes\":{\"palette\":[\"#000000\",\"#252525\",\"#525252\",\"#737373\",\"#969696\",\"#bdbdbd\",\"#d9d9d9\",\"#f0f0f0\",\"#ffffff\"]},\"id\":\"1179\",\"type\":\"LinearColorMapper\"},{\"attributes\":{\"coordinates\":null,\"data_source\":{\"id\":\"1171\"},\"glyph\":{\"id\":\"1172\"},\"group\":null,\"hover_glyph\":null,\"muted_glyph\":{\"id\":\"1178\"},\"nonselection_glyph\":{\"id\":\"1175\"},\"view\":{\"id\":\"1182\"}},\"id\":\"1181\",\"type\":\"GlyphRenderer\"},{\"attributes\":{\"source\":{\"id\":\"1171\"}},\"id\":\"1182\",\"type\":\"CDSView\"},{\"attributes\":{},\"id\":\"1186\",\"type\":\"DataRange1d\"},{\"attributes\":{},\"id\":\"1190\",\"type\":\"LinearScale\"},{\"attributes\":{},\"id\":\"1207\",\"type\":\"HelpTool\"},{\"attributes\":{},\"id\":\"1195\",\"type\":\"BasicTicker\"},{\"attributes\":{\"coordinates\":null,\"formatter\":{\"id\":\"1492\"},\"group\":null,\"major_label_policy\":{\"id\":\"1493\"},\"ticker\":{\"id\":\"1195\"},\"visible\":false},\"id\":\"1194\",\"type\":\"LinearAxis\"},{\"attributes\":{\"coordinates\":null,\"group\":null,\"text\":\"Label: 6\"},\"id\":\"1184\",\"type\":\"Title\"},{\"attributes\":{\"palette\":[\"#000000\",\"#252525\",\"#525252\",\"#737373\",\"#969696\",\"#bdbdbd\",\"#d9d9d9\",\"#f0f0f0\",\"#ffffff\"]},\"id\":\"1218\",\"type\":\"LinearColorMapper\"},{\"attributes\":{},\"id\":\"1192\",\"type\":\"LinearScale\"},{\"attributes\":{},\"id\":\"1495\",\"type\":\"BasicTickFormatter\"},{\"attributes\":{\"axis\":{\"id\":\"1194\"},\"coordinates\":null,\"group\":null,\"ticker\":null,\"visible\":false},\"id\":\"1197\",\"type\":\"Grid\"},{\"attributes\":{\"axis\":{\"id\":\"1198\"},\"coordinates\":null,\"dimension\":1,\"group\":null,\"ticker\":null,\"visible\":false},\"id\":\"1201\",\"type\":\"Grid\"},{\"attributes\":{},\"id\":\"1496\",\"type\":\"AllLabels\"},{\"attributes\":{},\"id\":\"1199\",\"type\":\"BasicTicker\"},{\"attributes\":{\"coordinates\":null,\"formatter\":{\"id\":\"1489\"},\"group\":null,\"major_label_policy\":{\"id\":\"1490\"},\"ticker\":{\"id\":\"1199\"},\"visible\":false},\"id\":\"1198\",\"type\":\"LinearAxis\"},{\"attributes\":{},\"id\":\"1498\",\"type\":\"BasicTickFormatter\"},{\"attributes\":{},\"id\":\"1499\",\"type\":\"AllLabels\"},{\"attributes\":{\"palette\":[\"#000000\",\"#252525\",\"#525252\",\"#737373\",\"#969696\",\"#bdbdbd\",\"#d9d9d9\",\"#f0f0f0\",\"#ffffff\"]},\"id\":\"1224\",\"type\":\"LinearColorMapper\"},{\"attributes\":{\"tools\":[{\"id\":\"1202\"},{\"id\":\"1203\"},{\"id\":\"1204\"},{\"id\":\"1205\"},{\"id\":\"1206\"},{\"id\":\"1207\"}]},\"id\":\"1209\",\"type\":\"Toolbar\"},{\"attributes\":{\"coordinates\":null,\"data_source\":{\"id\":\"1216\"},\"glyph\":{\"id\":\"1217\"},\"group\":null,\"hover_glyph\":null,\"muted_glyph\":{\"id\":\"1223\"},\"nonselection_glyph\":{\"id\":\"1220\"},\"view\":{\"id\":\"1227\"}},\"id\":\"1226\",\"type\":\"GlyphRenderer\"},{\"attributes\":{\"color_mapper\":{\"id\":\"1221\"},\"dh\":{\"value\":8},\"dw\":{\"value\":8},\"global_alpha\":{\"value\":0.1},\"image\":{\"field\":\"image\"},\"x\":{\"value\":0},\"y\":{\"value\":0}},\"id\":\"1220\",\"type\":\"Image\"},{\"attributes\":{\"source\":{\"id\":\"1216\"}},\"id\":\"1227\",\"type\":\"CDSView\"},{\"attributes\":{\"bottom_units\":\"screen\",\"coordinates\":null,\"fill_alpha\":0.5,\"fill_color\":\"lightgrey\",\"group\":null,\"left_units\":\"screen\",\"level\":\"overlay\",\"line_alpha\":1.0,\"line_color\":\"black\",\"line_dash\":[4,4],\"line_width\":2,\"right_units\":\"screen\",\"syncable\":false,\"top_units\":\"screen\"},\"id\":\"1208\",\"type\":\"BoxAnnotation\"},{\"attributes\":{},\"id\":\"1206\",\"type\":\"ResetTool\"},{\"attributes\":{},\"id\":\"1205\",\"type\":\"SaveTool\"},{\"attributes\":{\"palette\":[\"#000000\",\"#252525\",\"#525252\",\"#737373\",\"#969696\",\"#bdbdbd\",\"#d9d9d9\",\"#f0f0f0\",\"#ffffff\"]},\"id\":\"1221\",\"type\":\"LinearColorMapper\"},{\"attributes\":{},\"id\":\"1202\",\"type\":\"PanTool\"},{\"attributes\":{\"overlay\":{\"id\":\"1208\"}},\"id\":\"1204\",\"type\":\"BoxZoomTool\"},{\"attributes\":{\"color_mapper\":{\"id\":\"1224\"},\"dh\":{\"value\":8},\"dw\":{\"value\":8},\"global_alpha\":{\"value\":0.2},\"image\":{\"field\":\"image\"},\"x\":{\"value\":0},\"y\":{\"value\":0}},\"id\":\"1223\",\"type\":\"Image\"},{\"attributes\":{},\"id\":\"1203\",\"type\":\"WheelZoomTool\"},{\"attributes\":{\"data\":{\"image\":[{\"__ndarray__\":\"AAAAAAAAAIAAAAAAAAAAgAAAAAAAAACAAAAAAAAAAMAAAAAAAAAqwAAAAAAAAC7AAAAAAAAAAMAAAAAAAAAAgAAAAAAAAACAAAAAAAAAAIAAAAAAAAAAgAAAAAAAACDAAAAAAAAAMMAAAAAAAAAYwAAAAAAAAACAAAAAAAAAAIAAAAAAAAAAgAAAAAAAAACAAAAAAAAAAIAAAAAAAAAkwAAAAAAAADDAAAAAAAAACMAAAAAAAAAAgAAAAAAAAACAAAAAAAAAAIAAAAAAAAAAgAAAAAAAAACAAAAAAAAAIMAAAAAAAAAwwAAAAAAAABzAAAAAAAAAAIAAAAAAAAAAgAAAAAAAAACAAAAAAAAAEMAAAAAAAAAuwAAAAAAAADDAAAAAAAAAMMAAAAAAAAAuwAAAAAAAAACAAAAAAAAAAIAAAAAAAAAAgAAAAAAAABTAAAAAAAAAJsAAAAAAAAAuwAAAAAAAADDAAAAAAAAAMMAAAAAAAAAAgAAAAAAAAACAAAAAAAAAAIAAAAAAAAAAgAAAAAAAAACAAAAAAAAA8L8AAAAAAAAwwAAAAAAAADDAAAAAAAAACMAAAAAAAAAAgAAAAAAAAACAAAAAAAAAAIAAAAAAAAAAgAAAAAAAAPC/AAAAAAAALMAAAAAAAAAqwAAAAAAAAPC/AAAAAAAAAIA=\",\"dtype\":\"float64\",\"order\":\"little\",\"shape\":[8,8]}]},\"selected\":{\"id\":\"1549\"},\"selection_policy\":{\"id\":\"1548\"}},\"id\":\"1396\",\"type\":\"ColumnDataSource\"},{\"attributes\":{\"data\":{\"image\":[{\"__ndarray__\":\"AAAAAAAAAIAAAAAAAAAAgAAAAAAAAPC/AAAAAAAALsAAAAAAAAAwwAAAAAAAACDAAAAAAAAAAIAAAAAAAAAAgAAAAAAAAACAAAAAAAAAAIAAAAAAAAAQwAAAAAAAADDAAAAAAAAAMMAAAAAAAAAYwAAAAAAAAACAAAAAAAAAAIAAAAAAAAAAgAAAAAAAAACAAAAAAAAAEMAAAAAAAAAwwAAAAAAAADDAAAAAAAAA8L8AAAAAAAAAgAAAAAAAAACAAAAAAAAAAIAAAAAAAAAAgAAAAAAAABjAAAAAAAAAMMAAAAAAAAAuwAAAAAAAAACAAAAAAAAAAIAAAAAAAAAAgAAAAAAAAACAAAAAAAAAAIAAAAAAAAAYwAAAAAAAADDAAAAAAAAALsAAAAAAAAAAgAAAAAAAAACAAAAAAAAAAIAAAAAAAAAAgAAAAAAAAACAAAAAAAAAHMAAAAAAAAAwwAAAAAAAAC7AAAAAAAAAAIAAAAAAAAAAgAAAAAAAAACAAAAAAAAAAIAAAAAAAAAAgAAAAAAAABjAAAAAAAAAMMAAAAAAAAAwwAAAAAAAAPC/AAAAAAAAAIAAAAAAAAAAgAAAAAAAAACAAAAAAAAAAIAAAAAAAADwvwAAAAAAACzAAAAAAAAAHMAAAAAAAAAAgAAAAAAAAACAAAAAAAAAAIA=\",\"dtype\":\"float64\",\"order\":\"little\",\"shape\":[8,8]}]},\"selected\":{\"id\":\"1525\"},\"selection_policy\":{\"id\":\"1524\"}},\"id\":\"1036\",\"type\":\"ColumnDataSource\"},{\"attributes\":{\"palette\":[\"#000000\",\"#252525\",\"#525252\",\"#737373\",\"#969696\",\"#bdbdbd\",\"#d9d9d9\",\"#f0f0f0\",\"#ffffff\"]},\"id\":\"1398\",\"type\":\"LinearColorMapper\"},{\"attributes\":{\"below\":[{\"id\":\"1419\"}],\"center\":[{\"id\":\"1422\"},{\"id\":\"1426\"}],\"height\":80,\"left\":[{\"id\":\"1423\"}],\"match_aspect\":true,\"renderers\":[{\"id\":\"1451\"}],\"title\":{\"id\":\"1409\"},\"toolbar\":{\"id\":\"1434\"},\"toolbar_location\":null,\"width\":80,\"x_range\":{\"id\":\"1411\"},\"x_scale\":{\"id\":\"1415\"},\"y_range\":{\"id\":\"1413\"},\"y_scale\":{\"id\":\"1417\"}},\"id\":\"1408\",\"subtype\":\"Figure\",\"type\":\"Plot\"},{\"attributes\":{\"palette\":[\"#000000\",\"#252525\",\"#525252\",\"#737373\",\"#969696\",\"#bdbdbd\",\"#d9d9d9\",\"#f0f0f0\",\"#ffffff\"]},\"id\":\"1128\",\"type\":\"LinearColorMapper\"},{\"attributes\":{},\"id\":\"1413\",\"type\":\"DataRange1d\"},{\"attributes\":{\"color_mapper\":{\"id\":\"1131\"},\"dh\":{\"value\":8},\"dw\":{\"value\":8},\"global_alpha\":{\"value\":0.1},\"image\":{\"field\":\"image\"},\"x\":{\"value\":0},\"y\":{\"value\":0}},\"id\":\"1130\",\"type\":\"Image\"},{\"attributes\":{\"color_mapper\":{\"id\":\"1128\"},\"dh\":{\"value\":8},\"dw\":{\"value\":8},\"image\":{\"field\":\"image\"},\"x\":{\"value\":0},\"y\":{\"value\":0}},\"id\":\"1127\",\"type\":\"Image\"},{\"attributes\":{\"data\":{\"image\":[{\"__ndarray__\":\"AAAAAAAAAIAAAAAAAAAAgAAAAAAAABDAAAAAAAAALMAAAAAAAAAqwAAAAAAAABTAAAAAAAAAAIAAAAAAAAAAgAAAAAAAAACAAAAAAAAAAIAAAAAAAAAowAAAAAAAACzAAAAAAAAAJMAAAAAAAAAwwAAAAAAAAAjAAAAAAAAAAIAAAAAAAAAAgAAAAAAAAACAAAAAAAAALsAAAAAAAAAAgAAAAAAAAACAAAAAAAAAIsAAAAAAAAAgwAAAAAAAAACAAAAAAAAAAIAAAAAAAAAQwAAAAAAAACDAAAAAAAAAAIAAAAAAAAAAgAAAAAAAABTAAAAAAAAAIMAAAAAAAAAAgAAAAAAAAACAAAAAAAAAIMAAAAAAAAAYwAAAAAAAAACAAAAAAAAAAIAAAAAAAAAkwAAAAAAAABDAAAAAAAAAAIAAAAAAAAAAgAAAAAAAABjAAAAAAAAAJMAAAAAAAAAAwAAAAAAAAAjAAAAAAAAALMAAAAAAAADwvwAAAAAAAACAAAAAAAAAAIAAAAAAAADwvwAAAAAAAC7AAAAAAAAAMMAAAAAAAAAwwAAAAAAAACTAAAAAAAAAAIAAAAAAAAAAgAAAAAAAAACAAAAAAAAAAIAAAAAAAAAIwAAAAAAAACTAAAAAAAAAMMAAAAAAAAAQwAAAAAAAAACAAAAAAAAAAIA=\",\"dtype\":\"float64\",\"order\":\"little\",\"shape\":[8,8]}]},\"selected\":{\"id\":\"1552\"},\"selection_policy\":{\"id\":\"1551\"}},\"id\":\"1441\",\"type\":\"ColumnDataSource\"},{\"attributes\":{\"color_mapper\":{\"id\":\"1401\"},\"dh\":{\"value\":8},\"dw\":{\"value\":8},\"global_alpha\":{\"value\":0.1},\"image\":{\"field\":\"image\"},\"x\":{\"value\":0},\"y\":{\"value\":0}},\"id\":\"1400\",\"type\":\"Image\"},{\"attributes\":{},\"id\":\"1527\",\"type\":\"UnionRenderers\"},{\"attributes\":{\"palette\":[\"#000000\",\"#252525\",\"#525252\",\"#737373\",\"#969696\",\"#bdbdbd\",\"#d9d9d9\",\"#f0f0f0\",\"#ffffff\"]},\"id\":\"1401\",\"type\":\"LinearColorMapper\"},{\"attributes\":{\"tools\":[{\"id\":\"1067\"},{\"id\":\"1068\"},{\"id\":\"1069\"},{\"id\":\"1070\"},{\"id\":\"1071\"},{\"id\":\"1072\"}]},\"id\":\"1074\",\"type\":\"Toolbar\"},{\"attributes\":{\"color_mapper\":{\"id\":\"1404\"},\"dh\":{\"value\":8},\"dw\":{\"value\":8},\"global_alpha\":{\"value\":0.2},\"image\":{\"field\":\"image\"},\"x\":{\"value\":0},\"y\":{\"value\":0}},\"id\":\"1403\",\"type\":\"Image\"},{\"attributes\":{},\"id\":\"1528\",\"type\":\"Selection\"},{\"attributes\":{\"palette\":[\"#000000\",\"#252525\",\"#525252\",\"#737373\",\"#969696\",\"#bdbdbd\",\"#d9d9d9\",\"#f0f0f0\",\"#ffffff\"]},\"id\":\"1404\",\"type\":\"LinearColorMapper\"},{\"attributes\":{\"coordinates\":null,\"data_source\":{\"id\":\"1396\"},\"glyph\":{\"id\":\"1397\"},\"group\":null,\"hover_glyph\":null,\"muted_glyph\":{\"id\":\"1403\"},\"nonselection_glyph\":{\"id\":\"1400\"},\"view\":{\"id\":\"1407\"}},\"id\":\"1406\",\"type\":\"GlyphRenderer\"},{\"attributes\":{\"source\":{\"id\":\"1396\"}},\"id\":\"1407\",\"type\":\"CDSView\"},{\"attributes\":{\"coordinates\":null,\"data_source\":{\"id\":\"1081\"},\"glyph\":{\"id\":\"1082\"},\"group\":null,\"hover_glyph\":null,\"muted_glyph\":{\"id\":\"1088\"},\"nonselection_glyph\":{\"id\":\"1085\"},\"view\":{\"id\":\"1092\"}},\"id\":\"1091\",\"type\":\"GlyphRenderer\"},{\"attributes\":{},\"id\":\"1411\",\"type\":\"DataRange1d\"},{\"attributes\":{},\"id\":\"1415\",\"type\":\"LinearScale\"},{\"attributes\":{\"source\":{\"id\":\"1081\"}},\"id\":\"1092\",\"type\":\"CDSView\"},{\"attributes\":{},\"id\":\"1432\",\"type\":\"HelpTool\"},{\"attributes\":{},\"id\":\"1420\",\"type\":\"BasicTicker\"},{\"attributes\":{\"coordinates\":null,\"formatter\":{\"id\":\"1522\"},\"group\":null,\"major_label_policy\":{\"id\":\"1523\"},\"ticker\":{\"id\":\"1420\"},\"visible\":false},\"id\":\"1419\",\"type\":\"LinearAxis\"},{\"attributes\":{\"coordinates\":null,\"group\":null,\"text\":\"Label: 0\"},\"id\":\"1409\",\"type\":\"Title\"},{\"attributes\":{\"color_mapper\":{\"id\":\"1086\"},\"dh\":{\"value\":8},\"dw\":{\"value\":8},\"global_alpha\":{\"value\":0.1},\"image\":{\"field\":\"image\"},\"x\":{\"value\":0},\"y\":{\"value\":0}},\"id\":\"1085\",\"type\":\"Image\"},{\"attributes\":{\"coordinates\":null,\"formatter\":{\"id\":\"1519\"},\"group\":null,\"major_label_policy\":{\"id\":\"1520\"},\"ticker\":{\"id\":\"1424\"},\"visible\":false},\"id\":\"1423\",\"type\":\"LinearAxis\"},{\"attributes\":{},\"id\":\"1417\",\"type\":\"LinearScale\"},{\"attributes\":{\"axis\":{\"id\":\"1419\"},\"coordinates\":null,\"group\":null,\"ticker\":null,\"visible\":false},\"id\":\"1422\",\"type\":\"Grid\"},{\"attributes\":{\"palette\":[\"#000000\",\"#252525\",\"#525252\",\"#737373\",\"#969696\",\"#bdbdbd\",\"#d9d9d9\",\"#f0f0f0\",\"#ffffff\"]},\"id\":\"1131\",\"type\":\"LinearColorMapper\"},{\"attributes\":{\"axis\":{\"id\":\"1423\"},\"coordinates\":null,\"dimension\":1,\"group\":null,\"ticker\":null,\"visible\":false},\"id\":\"1426\",\"type\":\"Grid\"},{\"attributes\":{},\"id\":\"1424\",\"type\":\"BasicTicker\"},{\"attributes\":{\"palette\":[\"#000000\",\"#252525\",\"#525252\",\"#737373\",\"#969696\",\"#bdbdbd\",\"#d9d9d9\",\"#f0f0f0\",\"#ffffff\"]},\"id\":\"1038\",\"type\":\"LinearColorMapper\"},{\"attributes\":{},\"id\":\"1428\",\"type\":\"WheelZoomTool\"},{\"attributes\":{},\"id\":\"1427\",\"type\":\"PanTool\"},{\"attributes\":{\"overlay\":{\"id\":\"1433\"}},\"id\":\"1429\",\"type\":\"BoxZoomTool\"},{\"attributes\":{\"color_mapper\":{\"id\":\"1134\"},\"dh\":{\"value\":8},\"dw\":{\"value\":8},\"global_alpha\":{\"value\":0.2},\"image\":{\"field\":\"image\"},\"x\":{\"value\":0},\"y\":{\"value\":0}},\"id\":\"1133\",\"type\":\"Image\"},{\"attributes\":{},\"id\":\"1430\",\"type\":\"SaveTool\"},{\"attributes\":{},\"id\":\"1431\",\"type\":\"ResetTool\"},{\"attributes\":{\"bottom_units\":\"screen\",\"coordinates\":null,\"fill_alpha\":0.5,\"fill_color\":\"lightgrey\",\"group\":null,\"left_units\":\"screen\",\"level\":\"overlay\",\"line_alpha\":1.0,\"line_color\":\"black\",\"line_dash\":[4,4],\"line_width\":2,\"right_units\":\"screen\",\"syncable\":false,\"top_units\":\"screen\"},\"id\":\"1433\",\"type\":\"BoxAnnotation\"},{\"attributes\":{\"color_mapper\":{\"id\":\"1443\"},\"dh\":{\"value\":8},\"dw\":{\"value\":8},\"image\":{\"field\":\"image\"},\"x\":{\"value\":0},\"y\":{\"value\":0}},\"id\":\"1442\",\"type\":\"Image\"},{\"attributes\":{\"palette\":[\"#000000\",\"#252525\",\"#525252\",\"#737373\",\"#969696\",\"#bdbdbd\",\"#d9d9d9\",\"#f0f0f0\",\"#ffffff\"]},\"id\":\"1089\",\"type\":\"LinearColorMapper\"},{\"attributes\":{\"color_mapper\":{\"id\":\"1083\"},\"dh\":{\"value\":8},\"dw\":{\"value\":8},\"image\":{\"field\":\"image\"},\"x\":{\"value\":0},\"y\":{\"value\":0}},\"id\":\"1082\",\"type\":\"Image\"},{\"attributes\":{\"coordinates\":null,\"data_source\":{\"id\":\"1441\"},\"glyph\":{\"id\":\"1442\"},\"group\":null,\"hover_glyph\":null,\"muted_glyph\":{\"id\":\"1448\"},\"nonselection_glyph\":{\"id\":\"1445\"},\"view\":{\"id\":\"1452\"}},\"id\":\"1451\",\"type\":\"GlyphRenderer\"},{\"attributes\":{\"palette\":[\"#000000\",\"#252525\",\"#525252\",\"#737373\",\"#969696\",\"#bdbdbd\",\"#d9d9d9\",\"#f0f0f0\",\"#ffffff\"]},\"id\":\"1086\",\"type\":\"LinearColorMapper\"},{\"attributes\":{\"color_mapper\":{\"id\":\"1446\"},\"dh\":{\"value\":8},\"dw\":{\"value\":8},\"global_alpha\":{\"value\":0.1},\"image\":{\"field\":\"image\"},\"x\":{\"value\":0},\"y\":{\"value\":0}},\"id\":\"1445\",\"type\":\"Image\"},{\"attributes\":{\"palette\":[\"#000000\",\"#252525\",\"#525252\",\"#737373\",\"#969696\",\"#bdbdbd\",\"#d9d9d9\",\"#f0f0f0\",\"#ffffff\"]},\"id\":\"1083\",\"type\":\"LinearColorMapper\"},{\"attributes\":{},\"id\":\"1530\",\"type\":\"UnionRenderers\"},{\"attributes\":{\"bottom_units\":\"screen\",\"coordinates\":null,\"fill_alpha\":0.5,\"fill_color\":\"lightgrey\",\"group\":null,\"left_units\":\"screen\",\"level\":\"overlay\",\"line_alpha\":1.0,\"line_color\":\"black\",\"line_dash\":[4,4],\"line_width\":2,\"right_units\":\"screen\",\"syncable\":false,\"top_units\":\"screen\"},\"id\":\"1073\",\"type\":\"BoxAnnotation\"},{\"attributes\":{},\"id\":\"1531\",\"type\":\"Selection\"},{\"attributes\":{},\"id\":\"1071\",\"type\":\"ResetTool\"},{\"attributes\":{},\"id\":\"1070\",\"type\":\"SaveTool\"},{\"attributes\":{\"overlay\":{\"id\":\"1073\"}},\"id\":\"1069\",\"type\":\"BoxZoomTool\"},{\"attributes\":{},\"id\":\"1067\",\"type\":\"PanTool\"},{\"attributes\":{\"source\":{\"id\":\"1441\"}},\"id\":\"1452\",\"type\":\"CDSView\"},{\"attributes\":{},\"id\":\"1068\",\"type\":\"WheelZoomTool\"},{\"attributes\":{\"color_mapper\":{\"id\":\"1089\"},\"dh\":{\"value\":8},\"dw\":{\"value\":8},\"global_alpha\":{\"value\":0.2},\"image\":{\"field\":\"image\"},\"x\":{\"value\":0},\"y\":{\"value\":0}},\"id\":\"1088\",\"type\":\"Image\"},{\"attributes\":{\"palette\":[\"#000000\",\"#252525\",\"#525252\",\"#737373\",\"#969696\",\"#bdbdbd\",\"#d9d9d9\",\"#f0f0f0\",\"#ffffff\"]},\"id\":\"1443\",\"type\":\"LinearColorMapper\"},{\"attributes\":{},\"id\":\"1064\",\"type\":\"BasicTicker\"},{\"attributes\":{\"axis\":{\"id\":\"1063\"},\"coordinates\":null,\"dimension\":1,\"group\":null,\"ticker\":null,\"visible\":false},\"id\":\"1066\",\"type\":\"Grid\"},{\"attributes\":{\"tools\":[{\"id\":\"1427\"},{\"id\":\"1428\"},{\"id\":\"1429\"},{\"id\":\"1430\"},{\"id\":\"1431\"},{\"id\":\"1432\"}]},\"id\":\"1434\",\"type\":\"Toolbar\"},{\"attributes\":{\"axis\":{\"id\":\"1059\"},\"coordinates\":null,\"group\":null,\"ticker\":null,\"visible\":false},\"id\":\"1062\",\"type\":\"Grid\"},{\"attributes\":{},\"id\":\"1057\",\"type\":\"LinearScale\"},{\"attributes\":{\"coordinates\":null,\"formatter\":{\"id\":\"1471\"},\"group\":null,\"major_label_policy\":{\"id\":\"1472\"},\"ticker\":{\"id\":\"1064\"},\"visible\":false},\"id\":\"1063\",\"type\":\"LinearAxis\"},{\"attributes\":{\"palette\":[\"#000000\",\"#252525\",\"#525252\",\"#737373\",\"#969696\",\"#bdbdbd\",\"#d9d9d9\",\"#f0f0f0\",\"#ffffff\"]},\"id\":\"1449\",\"type\":\"LinearColorMapper\"},{\"attributes\":{\"coordinates\":null,\"group\":null,\"text\":\"Label: 9\"},\"id\":\"1049\",\"type\":\"Title\"},{\"attributes\":{\"palette\":[\"#000000\",\"#252525\",\"#525252\",\"#737373\",\"#969696\",\"#bdbdbd\",\"#d9d9d9\",\"#f0f0f0\",\"#ffffff\"]},\"id\":\"1446\",\"type\":\"LinearColorMapper\"},{\"attributes\":{\"coordinates\":null,\"formatter\":{\"id\":\"1474\"},\"group\":null,\"major_label_policy\":{\"id\":\"1475\"},\"ticker\":{\"id\":\"1060\"},\"visible\":false},\"id\":\"1059\",\"type\":\"LinearAxis\"},{\"attributes\":{\"color_mapper\":{\"id\":\"1449\"},\"dh\":{\"value\":8},\"dw\":{\"value\":8},\"global_alpha\":{\"value\":0.2},\"image\":{\"field\":\"image\"},\"x\":{\"value\":0},\"y\":{\"value\":0}},\"id\":\"1448\",\"type\":\"Image\"},{\"attributes\":{},\"id\":\"1060\",\"type\":\"BasicTicker\"},{\"attributes\":{\"below\":[{\"id\":\"1014\"}],\"center\":[{\"id\":\"1017\"},{\"id\":\"1021\"}],\"height\":80,\"left\":[{\"id\":\"1018\"}],\"match_aspect\":true,\"renderers\":[{\"id\":\"1046\"}],\"title\":{\"id\":\"1004\"},\"toolbar\":{\"id\":\"1029\"},\"toolbar_location\":null,\"width\":80,\"x_range\":{\"id\":\"1006\"},\"x_scale\":{\"id\":\"1010\"},\"y_range\":{\"id\":\"1008\"},\"y_scale\":{\"id\":\"1012\"}},\"id\":\"1003\",\"subtype\":\"Figure\",\"type\":\"Plot\"},{\"attributes\":{},\"id\":\"1055\",\"type\":\"LinearScale\"},{\"attributes\":{},\"id\":\"1072\",\"type\":\"HelpTool\"},{\"attributes\":{\"color_mapper\":{\"id\":\"1041\"},\"dh\":{\"value\":8},\"dw\":{\"value\":8},\"global_alpha\":{\"value\":0.1},\"image\":{\"field\":\"image\"},\"x\":{\"value\":0},\"y\":{\"value\":0}},\"id\":\"1040\",\"type\":\"Image\"},{\"attributes\":{\"palette\":[\"#000000\",\"#252525\",\"#525252\",\"#737373\",\"#969696\",\"#bdbdbd\",\"#d9d9d9\",\"#f0f0f0\",\"#ffffff\"]},\"id\":\"1041\",\"type\":\"LinearColorMapper\"},{\"attributes\":{},\"id\":\"1051\",\"type\":\"DataRange1d\"},{\"attributes\":{\"data\":{\"image\":[{\"__ndarray__\":\"AAAAAAAAAIAAAAAAAADwvwAAAAAAABzAAAAAAAAALMAAAAAAAAAowAAAAAAAACLAAAAAAAAAAIAAAAAAAAAAgAAAAAAAAACAAAAAAAAAGMAAAAAAAAAuwAAAAAAAAADAAAAAAAAAAIAAAAAAAAAswAAAAAAAAPC/AAAAAAAAAIAAAAAAAAAAgAAAAAAAAACAAAAAAAAAAIAAAAAAAAAAgAAAAAAAAACAAAAAAAAAKMAAAAAAAAAQwAAAAAAAAACAAAAAAAAAAIAAAAAAAAAAgAAAAAAAAPC/AAAAAAAACMAAAAAAAAAAgAAAAAAAACjAAAAAAAAAFMAAAAAAAAAAgAAAAAAAAACAAAAAAAAAAMAAAAAAAAAuwAAAAAAAACLAAAAAAAAALMAAAAAAAAAswAAAAAAAACDAAAAAAAAAAIAAAAAAAAAAgAAAAAAAABTAAAAAAAAAKMAAAAAAAAAAgAAAAAAAAADAAAAAAAAALsAAAAAAAAAgwAAAAAAAAACAAAAAAAAAAIAAAAAAAAAIwAAAAAAAAC7AAAAAAAAACMAAAAAAAAAAgAAAAAAAACrAAAAAAAAAIMAAAAAAAAAAgAAAAAAAAACAAAAAAAAAAIAAAAAAAAAUwAAAAAAAACzAAAAAAAAALMAAAAAAAAAgwAAAAAAAAADAAAAAAAAAAIA=\",\"dtype\":\"float64\",\"order\":\"little\",\"shape\":[8,8]}]},\"selected\":{\"id\":\"1528\"},\"selection_policy\":{\"id\":\"1527\"}},\"id\":\"1081\",\"type\":\"ColumnDataSource\"},{\"attributes\":{},\"id\":\"1053\",\"type\":\"DataRange1d\"},{\"attributes\":{\"color_mapper\":{\"id\":\"1044\"},\"dh\":{\"value\":8},\"dw\":{\"value\":8},\"global_alpha\":{\"value\":0.2},\"image\":{\"field\":\"image\"},\"x\":{\"value\":0},\"y\":{\"value\":0}},\"id\":\"1043\",\"type\":\"Image\"},{\"attributes\":{\"palette\":[\"#000000\",\"#252525\",\"#525252\",\"#737373\",\"#969696\",\"#bdbdbd\",\"#d9d9d9\",\"#f0f0f0\",\"#ffffff\"]},\"id\":\"1044\",\"type\":\"LinearColorMapper\"},{\"attributes\":{},\"id\":\"1098\",\"type\":\"DataRange1d\"},{\"attributes\":{\"below\":[{\"id\":\"1104\"}],\"center\":[{\"id\":\"1107\"},{\"id\":\"1111\"}],\"height\":80,\"left\":[{\"id\":\"1108\"}],\"match_aspect\":true,\"renderers\":[{\"id\":\"1136\"}],\"title\":{\"id\":\"1094\"},\"toolbar\":{\"id\":\"1119\"},\"toolbar_location\":null,\"width\":80,\"x_range\":{\"id\":\"1096\"},\"x_scale\":{\"id\":\"1100\"},\"y_range\":{\"id\":\"1098\"},\"y_scale\":{\"id\":\"1102\"}},\"id\":\"1093\",\"subtype\":\"Figure\",\"type\":\"Plot\"},{\"attributes\":{},\"id\":\"1548\",\"type\":\"UnionRenderers\"},{\"attributes\":{},\"id\":\"1096\",\"type\":\"DataRange1d\"},{\"attributes\":{\"data\":{\"image\":[{\"__ndarray__\":\"AAAAAAAAAIAAAAAAAAAAgAAAAAAAABDAAAAAAAAALMAAAAAAAAAqwAAAAAAAABTAAAAAAAAAAIAAAAAAAAAAgAAAAAAAAACAAAAAAAAAAIAAAAAAAAAowAAAAAAAACzAAAAAAAAAJMAAAAAAAAAwwAAAAAAAAAjAAAAAAAAAAIAAAAAAAAAAgAAAAAAAAACAAAAAAAAALsAAAAAAAAAAgAAAAAAAAACAAAAAAAAAIsAAAAAAAAAgwAAAAAAAAACAAAAAAAAAAIAAAAAAAAAQwAAAAAAAACDAAAAAAAAAAIAAAAAAAAAAgAAAAAAAABTAAAAAAAAAIMAAAAAAAAAAgAAAAAAAAACAAAAAAAAAIMAAAAAAAAAYwAAAAAAAAACAAAAAAAAAAIAAAAAAAAAkwAAAAAAAABDAAAAAAAAAAIAAAAAAAAAAgAAAAAAAABjAAAAAAAAAJMAAAAAAAAAAwAAAAAAAAAjAAAAAAAAALMAAAAAAAADwvwAAAAAAAACAAAAAAAAAAIAAAAAAAADwvwAAAAAAAC7AAAAAAAAAMMAAAAAAAAAwwAAAAAAAACTAAAAAAAAAAIAAAAAAAAAAgAAAAAAAAACAAAAAAAAAAIAAAAAAAAAIwAAAAAAAACTAAAAAAAAAMMAAAAAAAAAQwAAAAAAAAACAAAAAAAAAAIA=\",\"dtype\":\"float64\",\"order\":\"little\",\"shape\":[8,8]}]},\"selected\":{\"id\":\"1531\"},\"selection_policy\":{\"id\":\"1530\"}},\"id\":\"1126\",\"type\":\"ColumnDataSource\"},{\"attributes\":{},\"id\":\"1100\",\"type\":\"LinearScale\"},{\"attributes\":{},\"id\":\"1549\",\"type\":\"Selection\"},{\"attributes\":{},\"id\":\"1105\",\"type\":\"BasicTicker\"},{\"attributes\":{\"coordinates\":null,\"formatter\":{\"id\":\"1480\"},\"group\":null,\"major_label_policy\":{\"id\":\"1481\"},\"ticker\":{\"id\":\"1105\"},\"visible\":false},\"id\":\"1104\",\"type\":\"LinearAxis\"},{\"attributes\":{\"coordinates\":null,\"group\":null,\"text\":\"Label: 0\"},\"id\":\"1094\",\"type\":\"Title\"},{\"attributes\":{\"coordinates\":null,\"formatter\":{\"id\":\"1477\"},\"group\":null,\"major_label_policy\":{\"id\":\"1478\"},\"ticker\":{\"id\":\"1109\"},\"visible\":false},\"id\":\"1108\",\"type\":\"LinearAxis\"},{\"attributes\":{},\"id\":\"1102\",\"type\":\"LinearScale\"},{\"attributes\":{\"axis\":{\"id\":\"1104\"},\"coordinates\":null,\"group\":null,\"ticker\":null,\"visible\":false},\"id\":\"1107\",\"type\":\"Grid\"},{\"attributes\":{\"axis\":{\"id\":\"1108\"},\"coordinates\":null,\"dimension\":1,\"group\":null,\"ticker\":null,\"visible\":false},\"id\":\"1111\",\"type\":\"Grid\"},{\"attributes\":{},\"id\":\"1109\",\"type\":\"BasicTicker\"},{\"attributes\":{},\"id\":\"1113\",\"type\":\"WheelZoomTool\"},{\"attributes\":{},\"id\":\"1112\",\"type\":\"PanTool\"},{\"attributes\":{},\"id\":\"1117\",\"type\":\"HelpTool\"},{\"attributes\":{\"overlay\":{\"id\":\"1118\"}},\"id\":\"1114\",\"type\":\"BoxZoomTool\"},{\"attributes\":{},\"id\":\"1115\",\"type\":\"SaveTool\"},{\"attributes\":{},\"id\":\"1116\",\"type\":\"ResetTool\"},{\"attributes\":{\"bottom_units\":\"screen\",\"coordinates\":null,\"fill_alpha\":0.5,\"fill_color\":\"lightgrey\",\"group\":null,\"left_units\":\"screen\",\"level\":\"overlay\",\"line_alpha\":1.0,\"line_color\":\"black\",\"line_dash\":[4,4],\"line_width\":2,\"right_units\":\"screen\",\"syncable\":false,\"top_units\":\"screen\"},\"id\":\"1118\",\"type\":\"BoxAnnotation\"},{\"attributes\":{\"tools\":[{\"id\":\"1157\"},{\"id\":\"1158\"},{\"id\":\"1159\"},{\"id\":\"1160\"},{\"id\":\"1161\"},{\"id\":\"1162\"}]},\"id\":\"1164\",\"type\":\"Toolbar\"},{\"attributes\":{\"below\":[{\"id\":\"1149\"}],\"center\":[{\"id\":\"1152\"},{\"id\":\"1156\"}],\"height\":80,\"left\":[{\"id\":\"1153\"}],\"match_aspect\":true,\"renderers\":[{\"id\":\"1181\"}],\"title\":{\"id\":\"1139\"},\"toolbar\":{\"id\":\"1164\"},\"toolbar_location\":null,\"width\":80,\"x_range\":{\"id\":\"1141\"},\"x_scale\":{\"id\":\"1145\"},\"y_range\":{\"id\":\"1143\"},\"y_scale\":{\"id\":\"1147\"}},\"id\":\"1138\",\"subtype\":\"Figure\",\"type\":\"Plot\"},{\"attributes\":{},\"id\":\"1154\",\"type\":\"BasicTicker\"},{\"attributes\":{},\"id\":\"1551\",\"type\":\"UnionRenderers\"},{\"attributes\":{\"axis\":{\"id\":\"1149\"},\"coordinates\":null,\"group\":null,\"ticker\":null,\"visible\":false},\"id\":\"1152\",\"type\":\"Grid\"},{\"attributes\":{\"bottom_units\":\"screen\",\"coordinates\":null,\"fill_alpha\":0.5,\"fill_color\":\"lightgrey\",\"group\":null,\"left_units\":\"screen\",\"level\":\"overlay\",\"line_alpha\":1.0,\"line_color\":\"black\",\"line_dash\":[4,4],\"line_width\":2,\"right_units\":\"screen\",\"syncable\":false,\"top_units\":\"screen\"},\"id\":\"1163\",\"type\":\"BoxAnnotation\"},{\"attributes\":{},\"id\":\"1552\",\"type\":\"Selection\"},{\"attributes\":{\"axis\":{\"id\":\"1153\"},\"coordinates\":null,\"dimension\":1,\"group\":null,\"ticker\":null,\"visible\":false},\"id\":\"1156\",\"type\":\"Grid\"},{\"attributes\":{},\"id\":\"1158\",\"type\":\"WheelZoomTool\"},{\"attributes\":{},\"id\":\"1157\",\"type\":\"PanTool\"},{\"attributes\":{\"overlay\":{\"id\":\"1163\"}},\"id\":\"1159\",\"type\":\"BoxZoomTool\"},{\"attributes\":{\"coordinates\":null,\"formatter\":{\"id\":\"1483\"},\"group\":null,\"major_label_policy\":{\"id\":\"1484\"},\"ticker\":{\"id\":\"1154\"},\"visible\":false},\"id\":\"1153\",\"type\":\"LinearAxis\"},{\"attributes\":{\"coordinates\":null,\"data_source\":{\"id\":\"1126\"},\"glyph\":{\"id\":\"1127\"},\"group\":null,\"hover_glyph\":null,\"muted_glyph\":{\"id\":\"1133\"},\"nonselection_glyph\":{\"id\":\"1130\"},\"view\":{\"id\":\"1137\"}},\"id\":\"1136\",\"type\":\"GlyphRenderer\"},{\"attributes\":{},\"id\":\"1147\",\"type\":\"LinearScale\"},{\"attributes\":{},\"id\":\"1141\",\"type\":\"DataRange1d\"},{\"attributes\":{\"source\":{\"id\":\"1126\"}},\"id\":\"1137\",\"type\":\"CDSView\"},{\"attributes\":{\"coordinates\":null,\"group\":null,\"text\":\"Label: 6\"},\"id\":\"1139\",\"type\":\"Title\"},{\"attributes\":{\"coordinates\":null,\"formatter\":{\"id\":\"1486\"},\"group\":null,\"major_label_policy\":{\"id\":\"1487\"},\"ticker\":{\"id\":\"1150\"},\"visible\":false},\"id\":\"1149\",\"type\":\"LinearAxis\"},{\"attributes\":{},\"id\":\"1150\",\"type\":\"BasicTicker\"},{\"attributes\":{},\"id\":\"1162\",\"type\":\"HelpTool\"},{\"attributes\":{},\"id\":\"1143\",\"type\":\"DataRange1d\"},{\"attributes\":{},\"id\":\"1160\",\"type\":\"SaveTool\"},{\"attributes\":{},\"id\":\"1161\",\"type\":\"ResetTool\"},{\"attributes\":{},\"id\":\"1145\",\"type\":\"LinearScale\"},{\"attributes\":{\"color_mapper\":{\"id\":\"1173\"},\"dh\":{\"value\":8},\"dw\":{\"value\":8},\"image\":{\"field\":\"image\"},\"x\":{\"value\":0},\"y\":{\"value\":0}},\"id\":\"1172\",\"type\":\"Image\"},{\"attributes\":{\"palette\":[\"#000000\",\"#252525\",\"#525252\",\"#737373\",\"#969696\",\"#bdbdbd\",\"#d9d9d9\",\"#f0f0f0\",\"#ffffff\"]},\"id\":\"1134\",\"type\":\"LinearColorMapper\"},{\"attributes\":{\"tools\":[{\"id\":\"1112\"},{\"id\":\"1113\"},{\"id\":\"1114\"},{\"id\":\"1115\"},{\"id\":\"1116\"},{\"id\":\"1117\"}]},\"id\":\"1119\",\"type\":\"Toolbar\"},{\"attributes\":{},\"id\":\"1477\",\"type\":\"BasicTickFormatter\"},{\"attributes\":{},\"id\":\"1478\",\"type\":\"AllLabels\"},{\"attributes\":{},\"id\":\"1480\",\"type\":\"BasicTickFormatter\"},{\"attributes\":{},\"id\":\"1481\",\"type\":\"AllLabels\"},{\"attributes\":{},\"id\":\"1483\",\"type\":\"BasicTickFormatter\"},{\"attributes\":{},\"id\":\"1484\",\"type\":\"AllLabels\"},{\"attributes\":{},\"id\":\"1486\",\"type\":\"BasicTickFormatter\"},{\"attributes\":{},\"id\":\"1487\",\"type\":\"AllLabels\"},{\"attributes\":{\"bottom_units\":\"screen\",\"coordinates\":null,\"fill_alpha\":0.5,\"fill_color\":\"lightgrey\",\"group\":null,\"left_units\":\"screen\",\"level\":\"overlay\",\"line_alpha\":1.0,\"line_color\":\"black\",\"line_dash\":[4,4],\"line_width\":2,\"right_units\":\"screen\",\"syncable\":false,\"top_units\":\"screen\"},\"id\":\"1028\",\"type\":\"BoxAnnotation\"},{\"attributes\":{\"tools\":[{\"id\":\"1022\"},{\"id\":\"1023\"},{\"id\":\"1024\"},{\"id\":\"1025\"},{\"id\":\"1026\"},{\"id\":\"1027\"}]},\"id\":\"1029\",\"type\":\"Toolbar\"},{\"attributes\":{\"palette\":[\"#000000\",\"#252525\",\"#525252\",\"#737373\",\"#969696\",\"#bdbdbd\",\"#d9d9d9\",\"#f0f0f0\",\"#ffffff\"]},\"id\":\"1353\",\"type\":\"LinearColorMapper\"},{\"attributes\":{},\"id\":\"1027\",\"type\":\"HelpTool\"},{\"attributes\":{\"data\":{\"image\":[{\"__ndarray__\":\"AAAAAAAAAIAAAAAAAAAAgAAAAAAAAACAAAAAAAAAKMAAAAAAAAAYwAAAAAAAAACAAAAAAAAAAIAAAAAAAAAAgAAAAAAAAACAAAAAAAAAAIAAAAAAAAAAgAAAAAAAAPC/AAAAAAAALsAAAAAAAAAcwAAAAAAAAACAAAAAAAAAAIAAAAAAAAAAgAAAAAAAAACAAAAAAAAAAIAAAAAAAAAAgAAAAAAAABzAAAAAAAAALsAAAAAAAAAAgAAAAAAAAACAAAAAAAAAAIAAAAAAAAAAgAAAAAAAAACAAAAAAAAAAIAAAAAAAAAAgAAAAAAAADDAAAAAAAAAJMAAAAAAAAAAgAAAAAAAAACAAAAAAAAAAIAAAAAAAAAQwAAAAAAAADDAAAAAAAAAMMAAAAAAAAAwwAAAAAAAACjAAAAAAAAAAIAAAAAAAAAAgAAAAAAAAACAAAAAAAAALMAAAAAAAAAwwAAAAAAAACrAAAAAAAAALMAAAAAAAAAowAAAAAAAAPC/AAAAAAAAAIAAAAAAAAAAgAAAAAAAACLAAAAAAAAAMMAAAAAAAAAkwAAAAAAAABDAAAAAAAAAMMAAAAAAAAAkwAAAAAAAAACAAAAAAAAAAIAAAAAAAAAAgAAAAAAAABzAAAAAAAAAKMAAAAAAAAAwwAAAAAAAADDAAAAAAAAALsA=\",\"dtype\":\"float64\",\"order\":\"little\",\"shape\":[8,8]}]},\"selected\":{\"id\":\"1546\"},\"selection_policy\":{\"id\":\"1545\"}},\"id\":\"1351\",\"type\":\"ColumnDataSource\"},{\"attributes\":{\"below\":[{\"id\":\"1374\"}],\"center\":[{\"id\":\"1377\"},{\"id\":\"1381\"}],\"height\":80,\"left\":[{\"id\":\"1378\"}],\"match_aspect\":true,\"renderers\":[{\"id\":\"1406\"}],\"title\":{\"id\":\"1364\"},\"toolbar\":{\"id\":\"1389\"},\"toolbar_location\":null,\"width\":80,\"x_range\":{\"id\":\"1366\"},\"x_scale\":{\"id\":\"1370\"},\"y_range\":{\"id\":\"1368\"},\"y_scale\":{\"id\":\"1372\"}},\"id\":\"1363\",\"subtype\":\"Figure\",\"type\":\"Plot\"},{\"attributes\":{},\"id\":\"1368\",\"type\":\"DataRange1d\"},{\"attributes\":{\"color_mapper\":{\"id\":\"1398\"},\"dh\":{\"value\":8},\"dw\":{\"value\":8},\"image\":{\"field\":\"image\"},\"x\":{\"value\":0},\"y\":{\"value\":0}},\"id\":\"1397\",\"type\":\"Image\"},{\"attributes\":{\"color_mapper\":{\"id\":\"1356\"},\"dh\":{\"value\":8},\"dw\":{\"value\":8},\"global_alpha\":{\"value\":0.1},\"image\":{\"field\":\"image\"},\"x\":{\"value\":0},\"y\":{\"value\":0}},\"id\":\"1355\",\"type\":\"Image\"},{\"attributes\":{\"palette\":[\"#000000\",\"#252525\",\"#525252\",\"#737373\",\"#969696\",\"#bdbdbd\",\"#d9d9d9\",\"#f0f0f0\",\"#ffffff\"]},\"id\":\"1356\",\"type\":\"LinearColorMapper\"},{\"attributes\":{\"color_mapper\":{\"id\":\"1359\"},\"dh\":{\"value\":8},\"dw\":{\"value\":8},\"global_alpha\":{\"value\":0.2},\"image\":{\"field\":\"image\"},\"x\":{\"value\":0},\"y\":{\"value\":0}},\"id\":\"1358\",\"type\":\"Image\"},{\"attributes\":{\"palette\":[\"#000000\",\"#252525\",\"#525252\",\"#737373\",\"#969696\",\"#bdbdbd\",\"#d9d9d9\",\"#f0f0f0\",\"#ffffff\"]},\"id\":\"1359\",\"type\":\"LinearColorMapper\"},{\"attributes\":{\"coordinates\":null,\"data_source\":{\"id\":\"1351\"},\"glyph\":{\"id\":\"1352\"},\"group\":null,\"hover_glyph\":null,\"muted_glyph\":{\"id\":\"1358\"},\"nonselection_glyph\":{\"id\":\"1355\"},\"view\":{\"id\":\"1362\"}},\"id\":\"1361\",\"type\":\"GlyphRenderer\"},{\"attributes\":{\"source\":{\"id\":\"1351\"}},\"id\":\"1362\",\"type\":\"CDSView\"},{\"attributes\":{},\"id\":\"1366\",\"type\":\"DataRange1d\"},{\"attributes\":{},\"id\":\"1370\",\"type\":\"LinearScale\"},{\"attributes\":{},\"id\":\"1387\",\"type\":\"HelpTool\"},{\"attributes\":{},\"id\":\"1375\",\"type\":\"BasicTicker\"},{\"attributes\":{\"coordinates\":null,\"formatter\":{\"id\":\"1516\"},\"group\":null,\"major_label_policy\":{\"id\":\"1517\"},\"ticker\":{\"id\":\"1375\"},\"visible\":false},\"id\":\"1374\",\"type\":\"LinearAxis\"},{\"attributes\":{\"coordinates\":null,\"group\":null,\"text\":\"Label: 1\"},\"id\":\"1364\",\"type\":\"Title\"},{\"attributes\":{\"coordinates\":null,\"formatter\":{\"id\":\"1513\"},\"group\":null,\"major_label_policy\":{\"id\":\"1514\"},\"ticker\":{\"id\":\"1379\"},\"visible\":false},\"id\":\"1378\",\"type\":\"LinearAxis\"},{\"attributes\":{\"axis\":{\"id\":\"1378\"},\"coordinates\":null,\"dimension\":1,\"group\":null,\"ticker\":null,\"visible\":false},\"id\":\"1381\",\"type\":\"Grid\"},{\"attributes\":{},\"id\":\"1379\",\"type\":\"BasicTicker\"},{\"attributes\":{},\"id\":\"1372\",\"type\":\"LinearScale\"},{\"attributes\":{\"axis\":{\"id\":\"1374\"},\"coordinates\":null,\"group\":null,\"ticker\":null,\"visible\":false},\"id\":\"1377\",\"type\":\"Grid\"},{\"attributes\":{},\"id\":\"1543\",\"type\":\"Selection\"},{\"attributes\":{},\"id\":\"1542\",\"type\":\"UnionRenderers\"},{\"attributes\":{\"tools\":[{\"id\":\"1382\"},{\"id\":\"1383\"},{\"id\":\"1384\"},{\"id\":\"1385\"},{\"id\":\"1386\"},{\"id\":\"1387\"}]},\"id\":\"1389\",\"type\":\"Toolbar\"},{\"attributes\":{\"bottom_units\":\"screen\",\"coordinates\":null,\"fill_alpha\":0.5,\"fill_color\":\"lightgrey\",\"group\":null,\"left_units\":\"screen\",\"level\":\"overlay\",\"line_alpha\":1.0,\"line_color\":\"black\",\"line_dash\":[4,4],\"line_width\":2,\"right_units\":\"screen\",\"syncable\":false,\"top_units\":\"screen\"},\"id\":\"1388\",\"type\":\"BoxAnnotation\"},{\"attributes\":{},\"id\":\"1383\",\"type\":\"WheelZoomTool\"},{\"attributes\":{},\"id\":\"1382\",\"type\":\"PanTool\"},{\"attributes\":{\"overlay\":{\"id\":\"1388\"}},\"id\":\"1384\",\"type\":\"BoxZoomTool\"},{\"attributes\":{},\"id\":\"1385\",\"type\":\"SaveTool\"},{\"attributes\":{},\"id\":\"1386\",\"type\":\"ResetTool\"},{\"attributes\":{},\"id\":\"1297\",\"type\":\"HelpTool\"},{\"attributes\":{},\"id\":\"1513\",\"type\":\"BasicTickFormatter\"},{\"attributes\":{},\"id\":\"1501\",\"type\":\"BasicTickFormatter\"},{\"attributes\":{},\"id\":\"1285\",\"type\":\"BasicTicker\"},{\"attributes\":{\"coordinates\":null,\"formatter\":{\"id\":\"1504\"},\"group\":null,\"major_label_policy\":{\"id\":\"1505\"},\"ticker\":{\"id\":\"1285\"},\"visible\":false},\"id\":\"1284\",\"type\":\"LinearAxis\"},{\"attributes\":{},\"id\":\"1514\",\"type\":\"AllLabels\"},{\"attributes\":{\"coordinates\":null,\"group\":null,\"text\":\"Label: 8\"},\"id\":\"1274\",\"type\":\"Title\"},{\"attributes\":{},\"id\":\"1502\",\"type\":\"AllLabels\"},{\"attributes\":{},\"id\":\"1516\",\"type\":\"BasicTickFormatter\"},{\"attributes\":{\"coordinates\":null,\"formatter\":{\"id\":\"1501\"},\"group\":null,\"major_label_policy\":{\"id\":\"1502\"},\"ticker\":{\"id\":\"1289\"},\"visible\":false},\"id\":\"1288\",\"type\":\"LinearAxis\"},{\"attributes\":{},\"id\":\"1282\",\"type\":\"LinearScale\"},{\"attributes\":{},\"id\":\"1504\",\"type\":\"BasicTickFormatter\"},{\"attributes\":{\"below\":[{\"id\":\"1239\"}],\"center\":[{\"id\":\"1242\"},{\"id\":\"1246\"}],\"height\":80,\"left\":[{\"id\":\"1243\"}],\"match_aspect\":true,\"renderers\":[{\"id\":\"1271\"}],\"title\":{\"id\":\"1229\"},\"toolbar\":{\"id\":\"1254\"},\"toolbar_location\":null,\"width\":80,\"x_range\":{\"id\":\"1231\"},\"x_scale\":{\"id\":\"1235\"},\"y_range\":{\"id\":\"1233\"},\"y_scale\":{\"id\":\"1237\"}},\"id\":\"1228\",\"subtype\":\"Figure\",\"type\":\"Plot\"},{\"attributes\":{\"axis\":{\"id\":\"1284\"},\"coordinates\":null,\"group\":null,\"ticker\":null,\"visible\":false},\"id\":\"1287\",\"type\":\"Grid\"},{\"attributes\":{},\"id\":\"1517\",\"type\":\"AllLabels\"},{\"attributes\":{},\"id\":\"1231\",\"type\":\"DataRange1d\"},{\"attributes\":{\"axis\":{\"id\":\"1288\"},\"coordinates\":null,\"dimension\":1,\"group\":null,\"ticker\":null,\"visible\":false},\"id\":\"1291\",\"type\":\"Grid\"},{\"attributes\":{},\"id\":\"1505\",\"type\":\"AllLabels\"},{\"attributes\":{},\"id\":\"1289\",\"type\":\"BasicTicker\"},{\"attributes\":{\"data\":{\"image\":[{\"__ndarray__\":\"AAAAAAAAAIAAAAAAAAAAgAAAAAAAABDAAAAAAAAAKMAAAAAAAAAqwAAAAAAAACDAAAAAAAAAAIAAAAAAAAAAgAAAAAAAAACAAAAAAAAAAIAAAAAAAAAAgAAAAAAAAACAAAAAAAAAEMAAAAAAAAAuwAAAAAAAABzAAAAAAAAAAIAAAAAAAAAAgAAAAAAAAACAAAAAAAAAAIAAAAAAAAAAgAAAAAAAAACAAAAAAAAALsAAAAAAAAAQwAAAAAAAAACAAAAAAAAAAIAAAAAAAAAQwAAAAAAAACzAAAAAAAAAKMAAAAAAAAAqwAAAAAAAACrAAAAAAAAA8L8AAAAAAAAAgAAAAAAAAACAAAAAAAAAIsAAAAAAAAAswAAAAAAAABDAAAAAAAAAGMAAAAAAAAAAgAAAAAAAAACAAAAAAAAAAIAAAAAAAAAAgAAAAAAAACDAAAAAAAAAKsAAAAAAAAAAgAAAAAAAAACAAAAAAAAAAIAAAAAAAAAAgAAAAAAAAACAAAAAAAAAAIAAAAAAAAAcwAAAAAAAADDAAAAAAAAAJMAAAAAAAAAIwAAAAAAAAACAAAAAAAAAAIAAAAAAAAAAgAAAAAAAAACAAAAAAAAAAIAAAAAAAAAUwAAAAAAAACjAAAAAAAAAMMAAAAAAAAAiwAAAAAAAAACAAAAAAAAAAIA=\",\"dtype\":\"float64\",\"order\":\"little\",\"shape\":[8,8]}]},\"selected\":{\"id\":\"1540\"},\"selection_policy\":{\"id\":\"1539\"}},\"id\":\"1261\",\"type\":\"ColumnDataSource\"},{\"attributes\":{},\"id\":\"1293\",\"type\":\"WheelZoomTool\"},{\"attributes\":{},\"id\":\"1233\",\"type\":\"DataRange1d\"},{\"attributes\":{},\"id\":\"1292\",\"type\":\"PanTool\"},{\"attributes\":{},\"id\":\"1235\",\"type\":\"LinearScale\"},{\"attributes\":{\"overlay\":{\"id\":\"1298\"}},\"id\":\"1294\",\"type\":\"BoxZoomTool\"},{\"attributes\":{},\"id\":\"1295\",\"type\":\"SaveTool\"},{\"attributes\":{},\"id\":\"1240\",\"type\":\"BasicTicker\"},{\"attributes\":{},\"id\":\"1296\",\"type\":\"ResetTool\"},{\"attributes\":{\"coordinates\":null,\"formatter\":{\"id\":\"1498\"},\"group\":null,\"major_label_policy\":{\"id\":\"1499\"},\"ticker\":{\"id\":\"1240\"},\"visible\":false},\"id\":\"1239\",\"type\":\"LinearAxis\"},{\"attributes\":{\"coordinates\":null,\"group\":null,\"text\":\"Label: 5\"},\"id\":\"1229\",\"type\":\"Title\"},{\"attributes\":{},\"id\":\"1237\",\"type\":\"LinearScale\"},{\"attributes\":{\"bottom_units\":\"screen\",\"coordinates\":null,\"fill_alpha\":0.5,\"fill_color\":\"lightgrey\",\"group\":null,\"left_units\":\"screen\",\"level\":\"overlay\",\"line_alpha\":1.0,\"line_color\":\"black\",\"line_dash\":[4,4],\"line_width\":2,\"right_units\":\"screen\",\"syncable\":false,\"top_units\":\"screen\"},\"id\":\"1298\",\"type\":\"BoxAnnotation\"},{\"attributes\":{},\"id\":\"1252\",\"type\":\"HelpTool\"},{\"attributes\":{\"axis\":{\"id\":\"1239\"},\"coordinates\":null,\"group\":null,\"ticker\":null,\"visible\":false},\"id\":\"1242\",\"type\":\"Grid\"},{\"attributes\":{\"coordinates\":null,\"formatter\":{\"id\":\"1495\"},\"group\":null,\"major_label_policy\":{\"id\":\"1496\"},\"ticker\":{\"id\":\"1244\"},\"visible\":false},\"id\":\"1243\",\"type\":\"LinearAxis\"},{\"attributes\":{\"tools\":[{\"id\":\"1337\"},{\"id\":\"1338\"},{\"id\":\"1339\"},{\"id\":\"1340\"},{\"id\":\"1341\"},{\"id\":\"1342\"}]},\"id\":\"1344\",\"type\":\"Toolbar\"},{\"attributes\":{\"palette\":[\"#000000\",\"#252525\",\"#525252\",\"#737373\",\"#969696\",\"#bdbdbd\",\"#d9d9d9\",\"#f0f0f0\",\"#ffffff\"]},\"id\":\"1308\",\"type\":\"LinearColorMapper\"},{\"attributes\":{\"below\":[{\"id\":\"1329\"}],\"center\":[{\"id\":\"1332\"},{\"id\":\"1336\"}],\"height\":80,\"left\":[{\"id\":\"1333\"}],\"match_aspect\":true,\"renderers\":[{\"id\":\"1361\"}],\"title\":{\"id\":\"1319\"},\"toolbar\":{\"id\":\"1344\"},\"toolbar_location\":null,\"width\":80,\"x_range\":{\"id\":\"1321\"},\"x_scale\":{\"id\":\"1325\"},\"y_range\":{\"id\":\"1323\"},\"y_scale\":{\"id\":\"1327\"}},\"id\":\"1318\",\"subtype\":\"Figure\",\"type\":\"Plot\"},{\"attributes\":{\"axis\":{\"id\":\"1243\"},\"coordinates\":null,\"dimension\":1,\"group\":null,\"ticker\":null,\"visible\":false},\"id\":\"1246\",\"type\":\"Grid\"},{\"attributes\":{},\"id\":\"1323\",\"type\":\"DataRange1d\"},{\"attributes\":{},\"id\":\"1244\",\"type\":\"BasicTicker\"},{\"attributes\":{},\"id\":\"1248\",\"type\":\"WheelZoomTool\"},{\"attributes\":{},\"id\":\"1334\",\"type\":\"BasicTicker\"},{\"attributes\":{\"axis\":{\"id\":\"1333\"},\"coordinates\":null,\"dimension\":1,\"group\":null,\"ticker\":null,\"visible\":false},\"id\":\"1336\",\"type\":\"Grid\"},{\"attributes\":{},\"id\":\"1247\",\"type\":\"PanTool\"},{\"attributes\":{\"overlay\":{\"id\":\"1253\"}},\"id\":\"1249\",\"type\":\"BoxZoomTool\"},{\"attributes\":{\"data\":{\"image\":[{\"__ndarray__\":\"AAAAAAAAAIAAAAAAAAAAgAAAAAAAABjAAAAAAAAAMMAAAAAAAAAmwAAAAAAAABDAAAAAAAAAAIAAAAAAAAAAgAAAAAAAAACAAAAAAAAAAIAAAAAAAAAuwAAAAAAAAAjAAAAAAAAAIMAAAAAAAAAuwAAAAAAAABjAAAAAAAAAAIAAAAAAAAAAgAAAAAAAAACAAAAAAAAALsAAAAAAAAAAwAAAAAAAAAjAAAAAAAAALsAAAAAAAAAYwAAAAAAAAACAAAAAAAAAAIAAAAAAAAAAgAAAAAAAACTAAAAAAAAAKsAAAAAAAAAuwAAAAAAAACDAAAAAAAAAAIAAAAAAAAAAgAAAAAAAAACAAAAAAAAA8L8AAAAAAAAqwAAAAAAAADDAAAAAAAAALMAAAAAAAADwvwAAAAAAAACAAAAAAAAAAIAAAAAAAAAAgAAAAAAAABjAAAAAAAAALsAAAAAAAAAAwAAAAAAAACTAAAAAAAAALMAAAAAAAADwvwAAAAAAAACAAAAAAAAAAIAAAAAAAAAUwAAAAAAAADDAAAAAAAAAFMAAAAAAAAAkwAAAAAAAADDAAAAAAAAAEMAAAAAAAAAAgAAAAAAAAACAAAAAAAAAAIAAAAAAAAAcwAAAAAAAAC7AAAAAAAAALMAAAAAAAAAYwAAAAAAAAACAAAAAAAAAAIA=\",\"dtype\":\"float64\",\"order\":\"little\",\"shape\":[8,8]}]},\"selected\":{\"id\":\"1543\"},\"selection_policy\":{\"id\":\"1542\"}},\"id\":\"1306\",\"type\":\"ColumnDataSource\"},{\"attributes\":{},\"id\":\"1250\",\"type\":\"SaveTool\"},{\"attributes\":{},\"id\":\"1251\",\"type\":\"ResetTool\"},{\"attributes\":{},\"id\":\"1338\",\"type\":\"WheelZoomTool\"},{\"attributes\":{\"bottom_units\":\"screen\",\"coordinates\":null,\"fill_alpha\":0.5,\"fill_color\":\"lightgrey\",\"group\":null,\"left_units\":\"screen\",\"level\":\"overlay\",\"line_alpha\":1.0,\"line_color\":\"black\",\"line_dash\":[4,4],\"line_width\":2,\"right_units\":\"screen\",\"syncable\":false,\"top_units\":\"screen\"},\"id\":\"1253\",\"type\":\"BoxAnnotation\"},{\"attributes\":{},\"id\":\"1519\",\"type\":\"BasicTickFormatter\"},{\"attributes\":{\"palette\":[\"#000000\",\"#252525\",\"#525252\",\"#737373\",\"#969696\",\"#bdbdbd\",\"#d9d9d9\",\"#f0f0f0\",\"#ffffff\"]},\"id\":\"1263\",\"type\":\"LinearColorMapper\"},{\"attributes\":{},\"id\":\"1337\",\"type\":\"PanTool\"},{\"attributes\":{},\"id\":\"1507\",\"type\":\"BasicTickFormatter\"},{\"attributes\":{},\"id\":\"1280\",\"type\":\"LinearScale\"},{\"attributes\":{},\"id\":\"1520\",\"type\":\"AllLabels\"},{\"attributes\":{\"palette\":[\"#000000\",\"#252525\",\"#525252\",\"#737373\",\"#969696\",\"#bdbdbd\",\"#d9d9d9\",\"#f0f0f0\",\"#ffffff\"]},\"id\":\"1269\",\"type\":\"LinearColorMapper\"},{\"attributes\":{},\"id\":\"1508\",\"type\":\"AllLabels\"},{\"attributes\":{},\"id\":\"1522\",\"type\":\"BasicTickFormatter\"},{\"attributes\":{\"overlay\":{\"id\":\"1343\"}},\"id\":\"1339\",\"type\":\"BoxZoomTool\"},{\"attributes\":{\"palette\":[\"#000000\",\"#252525\",\"#525252\",\"#737373\",\"#969696\",\"#bdbdbd\",\"#d9d9d9\",\"#f0f0f0\",\"#ffffff\"]},\"id\":\"1266\",\"type\":\"LinearColorMapper\"},{\"attributes\":{\"color_mapper\":{\"id\":\"1266\"},\"dh\":{\"value\":8},\"dw\":{\"value\":8},\"global_alpha\":{\"value\":0.1},\"image\":{\"field\":\"image\"},\"x\":{\"value\":0},\"y\":{\"value\":0}},\"id\":\"1265\",\"type\":\"Image\"},{\"attributes\":{},\"id\":\"1340\",\"type\":\"SaveTool\"},{\"attributes\":{},\"id\":\"1510\",\"type\":\"BasicTickFormatter\"},{\"attributes\":{},\"id\":\"1341\",\"type\":\"ResetTool\"},{\"attributes\":{},\"id\":\"1523\",\"type\":\"AllLabels\"},{\"attributes\":{\"color_mapper\":{\"id\":\"1308\"},\"dh\":{\"value\":8},\"dw\":{\"value\":8},\"image\":{\"field\":\"image\"},\"x\":{\"value\":0},\"y\":{\"value\":0}},\"id\":\"1307\",\"type\":\"Image\"},{\"attributes\":{\"axis\":{\"id\":\"1329\"},\"coordinates\":null,\"group\":null,\"ticker\":null,\"visible\":false},\"id\":\"1332\",\"type\":\"Grid\"},{\"attributes\":{},\"id\":\"1511\",\"type\":\"AllLabels\"},{\"attributes\":{},\"id\":\"1327\",\"type\":\"LinearScale\"},{\"attributes\":{\"color_mapper\":{\"id\":\"1269\"},\"dh\":{\"value\":8},\"dw\":{\"value\":8},\"global_alpha\":{\"value\":0.2},\"image\":{\"field\":\"image\"},\"x\":{\"value\":0},\"y\":{\"value\":0}},\"id\":\"1268\",\"type\":\"Image\"},{\"attributes\":{\"color_mapper\":{\"id\":\"1263\"},\"dh\":{\"value\":8},\"dw\":{\"value\":8},\"image\":{\"field\":\"image\"},\"x\":{\"value\":0},\"y\":{\"value\":0}},\"id\":\"1262\",\"type\":\"Image\"},{\"attributes\":{},\"id\":\"1278\",\"type\":\"DataRange1d\"},{\"attributes\":{},\"id\":\"1524\",\"type\":\"UnionRenderers\"},{\"attributes\":{\"tools\":[{\"id\":\"1247\"},{\"id\":\"1248\"},{\"id\":\"1249\"},{\"id\":\"1250\"},{\"id\":\"1251\"},{\"id\":\"1252\"}]},\"id\":\"1254\",\"type\":\"Toolbar\"},{\"attributes\":{\"coordinates\":null,\"formatter\":{\"id\":\"1507\"},\"group\":null,\"major_label_policy\":{\"id\":\"1508\"},\"ticker\":{\"id\":\"1334\"},\"visible\":false},\"id\":\"1333\",\"type\":\"LinearAxis\"},{\"attributes\":{},\"id\":\"1525\",\"type\":\"Selection\"},{\"attributes\":{},\"id\":\"1276\",\"type\":\"DataRange1d\"},{\"attributes\":{\"color_mapper\":{\"id\":\"1353\"},\"dh\":{\"value\":8},\"dw\":{\"value\":8},\"image\":{\"field\":\"image\"},\"x\":{\"value\":0},\"y\":{\"value\":0}},\"id\":\"1352\",\"type\":\"Image\"},{\"attributes\":{\"color_mapper\":{\"id\":\"1311\"},\"dh\":{\"value\":8},\"dw\":{\"value\":8},\"global_alpha\":{\"value\":0.1},\"image\":{\"field\":\"image\"},\"x\":{\"value\":0},\"y\":{\"value\":0}},\"id\":\"1310\",\"type\":\"Image\"},{\"attributes\":{\"coordinates\":null,\"data_source\":{\"id\":\"1261\"},\"glyph\":{\"id\":\"1262\"},\"group\":null,\"hover_glyph\":null,\"muted_glyph\":{\"id\":\"1268\"},\"nonselection_glyph\":{\"id\":\"1265\"},\"view\":{\"id\":\"1272\"}},\"id\":\"1271\",\"type\":\"GlyphRenderer\"},{\"attributes\":{\"palette\":[\"#000000\",\"#252525\",\"#525252\",\"#737373\",\"#969696\",\"#bdbdbd\",\"#d9d9d9\",\"#f0f0f0\",\"#ffffff\"]},\"id\":\"1311\",\"type\":\"LinearColorMapper\"},{\"attributes\":{\"source\":{\"id\":\"1261\"}},\"id\":\"1272\",\"type\":\"CDSView\"},{\"attributes\":{\"color_mapper\":{\"id\":\"1314\"},\"dh\":{\"value\":8},\"dw\":{\"value\":8},\"global_alpha\":{\"value\":0.2},\"image\":{\"field\":\"image\"},\"x\":{\"value\":0},\"y\":{\"value\":0}},\"id\":\"1313\",\"type\":\"Image\"},{\"attributes\":{\"palette\":[\"#000000\",\"#252525\",\"#525252\",\"#737373\",\"#969696\",\"#bdbdbd\",\"#d9d9d9\",\"#f0f0f0\",\"#ffffff\"]},\"id\":\"1314\",\"type\":\"LinearColorMapper\"},{\"attributes\":{\"coordinates\":null,\"group\":null,\"text\":\"Label: 9\"},\"id\":\"1319\",\"type\":\"Title\"},{\"attributes\":{\"coordinates\":null,\"formatter\":{\"id\":\"1510\"},\"group\":null,\"major_label_policy\":{\"id\":\"1511\"},\"ticker\":{\"id\":\"1330\"},\"visible\":false},\"id\":\"1329\",\"type\":\"LinearAxis\"},{\"attributes\":{},\"id\":\"1330\",\"type\":\"BasicTicker\"},{\"attributes\":{\"below\":[{\"id\":\"1059\"}],\"center\":[{\"id\":\"1062\"},{\"id\":\"1066\"}],\"height\":80,\"left\":[{\"id\":\"1063\"}],\"match_aspect\":true,\"renderers\":[{\"id\":\"1091\"}],\"title\":{\"id\":\"1049\"},\"toolbar\":{\"id\":\"1074\"},\"toolbar_location\":null,\"width\":80,\"x_range\":{\"id\":\"1051\"},\"x_scale\":{\"id\":\"1055\"},\"y_range\":{\"id\":\"1053\"},\"y_scale\":{\"id\":\"1057\"}},\"id\":\"1048\",\"subtype\":\"Figure\",\"type\":\"Plot\"},{\"attributes\":{\"tools\":[{\"id\":\"1292\"},{\"id\":\"1293\"},{\"id\":\"1294\"},{\"id\":\"1295\"},{\"id\":\"1296\"},{\"id\":\"1297\"}]},\"id\":\"1299\",\"type\":\"Toolbar\"},{\"attributes\":{\"bottom_units\":\"screen\",\"coordinates\":null,\"fill_alpha\":0.5,\"fill_color\":\"lightgrey\",\"group\":null,\"left_units\":\"screen\",\"level\":\"overlay\",\"line_alpha\":1.0,\"line_color\":\"black\",\"line_dash\":[4,4],\"line_width\":2,\"right_units\":\"screen\",\"syncable\":false,\"top_units\":\"screen\"},\"id\":\"1343\",\"type\":\"BoxAnnotation\"},{\"attributes\":{\"below\":[{\"id\":\"1284\"}],\"center\":[{\"id\":\"1287\"},{\"id\":\"1291\"}],\"height\":80,\"left\":[{\"id\":\"1288\"}],\"match_aspect\":true,\"renderers\":[{\"id\":\"1316\"}],\"title\":{\"id\":\"1274\"},\"toolbar\":{\"id\":\"1299\"},\"toolbar_location\":null,\"width\":80,\"x_range\":{\"id\":\"1276\"},\"x_scale\":{\"id\":\"1280\"},\"y_range\":{\"id\":\"1278\"},\"y_scale\":{\"id\":\"1282\"}},\"id\":\"1273\",\"subtype\":\"Figure\",\"type\":\"Plot\"},{\"attributes\":{},\"id\":\"1342\",\"type\":\"HelpTool\"},{\"attributes\":{\"coordinates\":null,\"data_source\":{\"id\":\"1306\"},\"glyph\":{\"id\":\"1307\"},\"group\":null,\"hover_glyph\":null,\"muted_glyph\":{\"id\":\"1313\"},\"nonselection_glyph\":{\"id\":\"1310\"},\"view\":{\"id\":\"1317\"}},\"id\":\"1316\",\"type\":\"GlyphRenderer\"},{\"attributes\":{\"coordinates\":null,\"data_source\":{\"id\":\"1036\"},\"glyph\":{\"id\":\"1037\"},\"group\":null,\"hover_glyph\":null,\"muted_glyph\":{\"id\":\"1043\"},\"nonselection_glyph\":{\"id\":\"1040\"},\"view\":{\"id\":\"1047\"}},\"id\":\"1046\",\"type\":\"GlyphRenderer\"},{\"attributes\":{},\"id\":\"1325\",\"type\":\"LinearScale\"},{\"attributes\":{},\"id\":\"1321\",\"type\":\"DataRange1d\"},{\"attributes\":{\"source\":{\"id\":\"1036\"}},\"id\":\"1047\",\"type\":\"CDSView\"},{\"attributes\":{\"source\":{\"id\":\"1306\"}},\"id\":\"1317\",\"type\":\"CDSView\"}],\"root_ids\":[\"1453\"]},\"title\":\"Bokeh Application\",\"version\":\"2.4.3\"}};\n",
       "  const render_items = [{\"docid\":\"07a8b1a8-d5a0-40ce-bd0d-316e6518e91a\",\"root_ids\":[\"1453\"],\"roots\":{\"1453\":\"a551dd82-795a-4c48-a3d2-a0c9b513e5e4\"}}];\n",
       "  root.Bokeh.embed.embed_items_notebook(docs_json, render_items);\n",
       "  }\n",
       "  if (root.Bokeh !== undefined) {\n",
       "    embed_document(root);\n",
       "  } else {\n",
       "    let attempts = 0;\n",
       "    const timer = setInterval(function(root) {\n",
       "      if (root.Bokeh !== undefined) {\n",
       "        clearInterval(timer);\n",
       "        embed_document(root);\n",
       "      } else {\n",
       "        attempts++;\n",
       "        if (attempts > 100) {\n",
       "          clearInterval(timer);\n",
       "          console.log(\"Bokeh: ERROR: Unable to run BokehJS code because BokehJS library is missing\");\n",
       "        }\n",
       "      }\n",
       "    }, 10, root)\n",
       "  }\n",
       "})(window);"
      ],
      "application/vnd.bokehjs_exec.v0+json": ""
     },
     "metadata": {
      "application/vnd.bokehjs_exec.v0+json": {
       "id": "1453"
      }
     },
     "output_type": "display_data"
    }
   ],
   "source": [
    "from sklearn import datasets\n",
    "\n",
    "data = datasets.load_digits()[\"data\"]\n",
    "labels = datasets.load_digits()[\"target\"]\n",
    "samples = rng.choice(list(range(data.shape[0])), size=10)\n",
    "\n",
    "\n",
    "def pic(samples):\n",
    "    \"\"\"Return renderings of data rows with indices from array samples\"\"\"\n",
    "    L = []\n",
    "    for i in samples:\n",
    "        p = figure(\n",
    "            height=80,\n",
    "            width=80,\n",
    "            match_aspect=True,\n",
    "            toolbar_location=None,\n",
    "            title=\"Label: {}\".format(labels[i]),\n",
    "        )\n",
    "        p.grid.visible = False\n",
    "        p.axis.visible = False\n",
    "        k0 = np.flip(-data[i, :].reshape(8, 8), axis=0)\n",
    "        p.image(image=[k0], x=0, y=0, dw=8, dh=8)\n",
    "        L.append(p)\n",
    "    x = row(L)\n",
    "    return x\n",
    "\n",
    "\n",
    "show(pic(samples))\n"
   ]
  },
  {
   "cell_type": "markdown",
   "metadata": {},
   "source": [
    "### The computation\n",
    "\n",
    "We add a column of ones to the data and we scale the data so it lies between 0 and 1 (the pixel values are between 0 and 10). This helps with numerical stability.\n",
    "\n",
    "We use a library routine `OneHotEncoder` to convert the labels into a one-hot array.\n"
   ]
  },
  {
   "cell_type": "code",
   "execution_count": 3,
   "metadata": {},
   "outputs": [],
   "source": [
    "data = np.concatenate([data, np.ones((data.shape[0], 1))], axis=1)\n",
    "# scale the data\n",
    "data = data / np.max(data)\n",
    "\n",
    "# Use sklearn to create a \"one-hot\" encoding of the labels\n",
    "\n",
    "E = OneHotEncoder()\n",
    "Y = E.fit_transform(labels.reshape(-1, 1)).toarray()\n"
   ]
  },
  {
   "cell_type": "code",
   "execution_count": 4,
   "metadata": {},
   "outputs": [],
   "source": [
    "## This is our main gradient descent routine. It also returns the sequence of computed likelihoods\n",
    "## that we can plot to observe how our algorithm is performing\n",
    "\n",
    "\n",
    "def descent(x, y, max_iter=1000, nu=0.001, M=None):\n",
    "    \"\"\"does gradient descent to maximum likelihood for data=x and labels (one-hot)=y\"\"\"\n",
    "    features = x.shape[1]\n",
    "    classes = y.shape[1]\n",
    "    likes = []\n",
    "    if M is None:\n",
    "        M = rng.normal(loc=0, scale=1, size=(features, classes))\n",
    "    for i in tqdm(range(max_iter)):\n",
    "        P = softmax(x @ M, axis=1)\n",
    "        grad = x.transpose() @ (P - y)\n",
    "        M = M - nu * grad\n",
    "        likes.append(-np.trace(y.transpose() @ np.log(P)))\n",
    "    return M, likes\n"
   ]
  },
  {
   "cell_type": "markdown",
   "metadata": {},
   "source": [
    "We call the descent algorithm with the data and the labels\n"
   ]
  },
  {
   "cell_type": "code",
   "execution_count": 5,
   "metadata": {},
   "outputs": [
    {
     "name": "stderr",
     "output_type": "stream",
     "text": [
      "100%|█████████████████████████████████████████████████████████████████████████████| 1000/1000 [00:00<00:00, 1408.64it/s]\n"
     ]
    }
   ],
   "source": [
    "M, L = descent(data, Y)\n"
   ]
  },
  {
   "cell_type": "markdown",
   "metadata": {},
   "source": [
    "To see how accurate we are, we compute the predicted labels by taking the column of the largest probability in\n",
    "each row of the matrix P=sigma(XM) and compare it to the true labels.\n"
   ]
  },
  {
   "cell_type": "code",
   "execution_count": 6,
   "metadata": {},
   "outputs": [
    {
     "name": "stdout",
     "output_type": "stream",
     "text": [
      "Percentage correct on training data = 98.55314412910407\n"
     ]
    }
   ],
   "source": [
    "predicted = np.argmax(softmax(data @ M, axis=1), axis=1)\n",
    "correct = (predicted == labels).sum()\n",
    "percentage = correct / len(labels)\n",
    "print(\"Percentage correct on training data = {}\".format(100 * percentage))\n"
   ]
  },
  {
   "cell_type": "code",
   "execution_count": 7,
   "metadata": {},
   "outputs": [
    {
     "data": {
      "text/html": [
       "\n",
       "  <div class=\"bk-root\" id=\"1ffb77b7-2a07-46eb-a02d-b803a3f6befa\" data-root-id=\"2054\"></div>\n"
      ]
     },
     "metadata": {},
     "output_type": "display_data"
    },
    {
     "data": {
      "application/javascript": [
       "(function(root) {\n",
       "  function embed_document(root) {\n",
       "  const docs_json = {\"ee0e7a0a-fd53-453b-bec6-2e9e1e017347\":{\"defs\":[],\"roots\":{\"references\":[{\"attributes\":{\"below\":[{\"id\":\"2065\"}],\"center\":[{\"id\":\"2068\"},{\"id\":\"2072\"}],\"left\":[{\"id\":\"2069\"}],\"renderers\":[{\"id\":\"2091\"}],\"title\":{\"id\":\"2055\"},\"toolbar\":{\"id\":\"2080\"},\"x_range\":{\"id\":\"2057\"},\"x_scale\":{\"id\":\"2061\"},\"y_range\":{\"id\":\"2059\"},\"y_scale\":{\"id\":\"2063\"}},\"id\":\"2054\",\"subtype\":\"Figure\",\"type\":\"Plot\"},{\"attributes\":{\"axis\":{\"id\":\"2069\"},\"coordinates\":null,\"dimension\":1,\"group\":null,\"ticker\":null},\"id\":\"2072\",\"type\":\"Grid\"},{\"attributes\":{\"line_color\":\"#1f77b4\",\"x\":{\"field\":\"x\"},\"y\":{\"field\":\"y\"}},\"id\":\"2088\",\"type\":\"Line\"},{\"attributes\":{},\"id\":\"2076\",\"type\":\"SaveTool\"},{\"attributes\":{\"line_alpha\":0.2,\"line_color\":\"#1f77b4\",\"x\":{\"field\":\"x\"},\"y\":{\"field\":\"y\"}},\"id\":\"2090\",\"type\":\"Line\"},{\"attributes\":{},\"id\":\"2057\",\"type\":\"DataRange1d\"},{\"attributes\":{\"data\":{\"x\":[0,1,2,3,4,5,6,7,8,9,10,11,12,13,14,15,16,17,18,19,20,21,22,23,24,25,26,27,28,29,30,31,32,33,34,35,36,37,38,39,40,41,42,43,44,45,46,47,48,49,50,51,52,53,54,55,56,57,58,59,60,61,62,63,64,65,66,67,68,69,70,71,72,73,74,75,76,77,78,79,80,81,82,83,84,85,86,87,88,89,90,91,92,93,94,95,96,97,98,99,100,101,102,103,104,105,106,107,108,109,110,111,112,113,114,115,116,117,118,119,120,121,122,123,124,125,126,127,128,129,130,131,132,133,134,135,136,137,138,139,140,141,142,143,144,145,146,147,148,149,150,151,152,153,154,155,156,157,158,159,160,161,162,163,164,165,166,167,168,169,170,171,172,173,174,175,176,177,178,179,180,181,182,183,184,185,186,187,188,189,190,191,192,193,194,195,196,197,198,199,200,201,202,203,204,205,206,207,208,209,210,211,212,213,214,215,216,217,218,219,220,221,222,223,224,225,226,227,228,229,230,231,232,233,234,235,236,237,238,239,240,241,242,243,244,245,246,247,248,249,250,251,252,253,254,255,256,257,258,259,260,261,262,263,264,265,266,267,268,269,270,271,272,273,274,275,276,277,278,279,280,281,282,283,284,285,286,287,288,289,290,291,292,293,294,295,296,297,298,299,300,301,302,303,304,305,306,307,308,309,310,311,312,313,314,315,316,317,318,319,320,321,322,323,324,325,326,327,328,329,330,331,332,333,334,335,336,337,338,339,340,341,342,343,344,345,346,347,348,349,350,351,352,353,354,355,356,357,358,359,360,361,362,363,364,365,366,367,368,369,370,371,372,373,374,375,376,377,378,379,380,381,382,383,384,385,386,387,388,389,390,391,392,393,394,395,396,397,398,399,400,401,402,403,404,405,406,407,408,409,410,411,412,413,414,415,416,417,418,419,420,421,422,423,424,425,426,427,428,429,430,431,432,433,434,435,436,437,438,439,440,441,442,443,444,445,446,447,448,449,450,451,452,453,454,455,456,457,458,459,460,461,462,463,464,465,466,467,468,469,470,471,472,473,474,475,476,477,478,479,480,481,482,483,484,485,486,487,488,489,490,491,492,493,494,495,496,497,498,499,500,501,502,503,504,505,506,507,508,509,510,511,512,513,514,515,516,517,518,519,520,521,522,523,524,525,526,527,528,529,530,531,532,533,534,535,536,537,538,539,540,541,542,543,544,545,546,547,548,549,550,551,552,553,554,555,556,557,558,559,560,561,562,563,564,565,566,567,568,569,570,571,572,573,574,575,576,577,578,579,580,581,582,583,584,585,586,587,588,589,590,591,592,593,594,595,596,597,598,599,600,601,602,603,604,605,606,607,608,609,610,611,612,613,614,615,616,617,618,619,620,621,622,623,624,625,626,627,628,629,630,631,632,633,634,635,636,637,638,639,640,641,642,643,644,645,646,647,648,649,650,651,652,653,654,655,656,657,658,659,660,661,662,663,664,665,666,667,668,669,670,671,672,673,674,675,676,677,678,679,680,681,682,683,684,685,686,687,688,689,690,691,692,693,694,695,696,697,698,699,700,701,702,703,704,705,706,707,708,709,710,711,712,713,714,715,716,717,718,719,720,721,722,723,724,725,726,727,728,729,730,731,732,733,734,735,736,737,738,739,740,741,742,743,744,745,746,747,748,749,750,751,752,753,754,755,756,757,758,759,760,761,762,763,764,765,766,767,768,769,770,771,772,773,774,775,776,777,778,779,780,781,782,783,784,785,786,787,788,789,790,791,792,793,794,795,796,797,798,799,800,801,802,803,804,805,806,807,808,809,810,811,812,813,814,815,816,817,818,819,820,821,822,823,824,825,826,827,828,829,830,831,832,833,834,835,836,837,838,839,840,841,842,843,844,845,846,847,848,849,850,851,852,853,854,855,856,857,858,859,860,861,862,863,864,865,866,867,868,869,870,871,872,873,874,875,876,877,878,879,880,881,882,883,884,885,886,887,888,889,890,891,892,893,894,895,896,897,898,899,900,901,902,903,904,905,906,907,908,909,910,911,912,913,914,915,916,917,918,919,920,921,922,923,924,925,926,927,928,929,930,931,932,933,934,935,936,937,938,939,940,941,942,943,944,945,946,947,948,949,950,951,952,953,954,955,956,957,958,959,960,961,962,963,964,965,966,967,968,969,970,971,972,973,974,975,976,977,978,979,980,981,982,983,984,985,986,987,988,989,990,991,992,993,994,995,996,997,998,999],\"y\":[11618.962689474789,8376.526588295052,6386.28054794537,5170.152824540326,4505.8427269942595,3996.8803662188457,3562.5333253937256,3187.2931714829083,2866.117672913113,2593.513816043618,2363.4394243106312,2169.1948411881012,2004.5613805618345,1864.1065621554899,1743.3828186207857,1638.804869070988,1547.5226763801938,1467.2677269171481,1396.2298643070599,1332.9550606032797,1276.267079701577,1225.2069352566637,1178.9867652222322,1136.954466843079,1098.5665044111201,1063.3668395419818,1030.9704843043755,1001.0505570288826,973.3280135202655,947.5634378116921,923.5504318104662,901.1102564410704,880.0874600988435,860.3462917536,841.7677419161237,824.2470891916898,807.6918563412908,792.0200998307831,777.1589723350553,763.0435097124408,749.6156034034688,736.8231266504075,724.6191888369463,712.961496954696,701.8118069761099,691.1354509516206,680.9009281061803,671.0795502063005,661.6451330962203,652.573727634029,643.8433843529552,635.4339470752598,627.3268714524417,619.5050650247999,611.9527459089908,604.6553176527823,597.5992581568394,590.7720208663078,584.1619466901589,577.7581853218237,571.5506248172348,565.5298284414489,559.6869779270454,554.0138224001776,548.5026323265662,543.1461579124165,537.9375914663298,532.8705332895253,527.9389607145824,523.1371999586871,518.4599004970545,513.9020116967072,509.4587614808167,505.1256368200311,500.8983658701216,496.77290159534175,492.74540673450593,488.8122399822597,484.9699432716476,481.21523005609413,477.5449744995361,473.95620149282934,470.44607742288974,467.01190162840413,463.6510984825245,460.3612100488007,457.13988926181867,453.98489358866726,450.8940791315076,447.865395135251,444.8968788676767,441.9866508423206,439.13291035715156,436.3339313244694,433.5880583696394,430.89370317823636,428.2493410729479,425.65350780318323,423.1047965317838,420.6018550045412,418.14338288941775,415.7281292734404,413.3548903062191,411.02250697993014,408.7298630364145,406.4758829927776,404.2595302775512,402.07980547008924,399.93574463642983,397.82641775537076,395.75092722896824,393.7084064721041,391.69801857615573,389.7189550421631,387.77043457922326,385.8517019641397,383.96202695863985,382.10070328072794,380.26704762697744,378.4603987427895,376.680116537839,374.925581244122,373.1961926141869,371.49136915729156,369.8105474113746,368.1531812488685,366.51874121450214,364.9067138933649,363.31660130760827,361.74792034025995,360.200202184727,358.67299181864166,357.1658475007922,355.67834028995395,354.2100535845031,352.7605826817685,351.3295343561293,349.9165264549298,348.5211875113338,347.1431563732904,345.78208184783,344.43762235995234,343.1094456254128,341.79722833674384,340.5006558618941,339.21942195489197,337.9532284779796,336.70178513468693,335.4648092133483,334.24202534058617,333.0331652443141,331.83796752583174,330.6561774406102,329.48754668738036,328.33183320516486,327.1888009779026,326.05821984634144,324.939865326884,323.8335184370897,322.73896552755195,321.65599811987863,320.58441275052246,319.52401082021635,318.4745984487805,317.4359863350818,316.40798962193253,315.3904277657292,314.38312441063755,313.38590726714267,312.3986079947883,311.42106208893836,310.4531087714029,309.4945908847752,308.5453547903345,307.6052502693764,306.67413042783863,305.7518516040928,304.8382732797838,303.933257993599,303.0366712578563,302.1483814778053,301.2682598735389,300.39618040441894,299.53201969592186,298.6756569688142,297.8269739705746,296.9858549089773,296.15218638775974,295.32585734430035,294.5067589892301,293.69478474791254,292.8898302037234,292.091793043066,291.3005730020616,290.5160718148555,289.7381931634824,288.96684262923617,288.2019276454929,287.44335745193587,286.6910430501348,285.9448971604331,285.2048341800983,284.4707701426938,283.74262267862827,283.0203109768467,282.3037557476214,281.59287918640894,280.88760493873656,280.18785806608355,279.4935650127268,278.80465357351625,278.12105286255314,277.4426932827388,276.7695064961681,276.10142539533894,275.438384075153,274.78031780568136,274.1271630056709,273.47885721676965,272.83533907844566,272.1965483035803,271.5624256547143,270.932912920924,270.30795289531267,269.687489353094,269.0714670302512,268.4598316027548,267.8525296663211,267.2495087166949,266.65071713044176,266.0561041462335,265.4656198466122,264.87921514021946,264.2968417444757,263.7184521686977,263.14399969763997,262.57343837544926,262.00672299001843,261.4438090577289,260.8846528085712,260.3292111716313,259.7774417609326,259.2293028616251,258.6847534165083,258.14375301288226,257.60626186971604,257.07224082512204,256.54165132413294,256.0144554067681,255.4906156963834,254.9700953882968,254.45285823868147,253.93886855371917,253.42809117900725,252.92049148921123,252.41603537795837,251.91468924796303,251.41642000138003,250.92119503037787,250.42898220792782,249.9397498788017,249.45346685077322,248.9701023860179,248.4896261927057,248.01200841678184,247.53721963393093,247.0652308417187,246.59601345190814,246.12953928294456,245.66578055260504,245.20470987080944,244.74630023258706,244.29052501119625,243.8373579513924,243.38677316284122,242.938745113673,242.49324862417438,242.05025886061492,241.60975132920413,241.17170187017615,240.73608665199973,240.30288216570804,239.872065219349,239.44361293254954,239.01750273119296,238.5937123422075,238.17221978846,237.753003383757,237.33604172794554,236.92131370211547,236.50879846389861,236.098475442863,235.69032433600006,235.28432510330214,234.88045796342902,234.4787033894606,234.07904210473419,233.68145507876375,233.28592352324065,232.89242888811205,232.50095285773656,232.11147734711574,231.72398449819732,231.33845667625206,230.95487646631904,230.5732266697205,230.19349030064313,229.8156505827852,229.43969094606692,229.06559502340417,228.69334664754308,228.3229298479537,227.95432884778387,227.58752806086784,227.2225120887933,226.85926571802116,226.4977739170598,226.13802183369143,225.7799947922497,225.4236782909472,225.06905799925227,224.71611975531317,224.36484956343017,224.01523359157272,223.66725816894143,223.32090978357496,222.9761750799994,222.63304085691914,222.29149406495063,221.951521804395,221.61311132305087,221.27625001406597,220.9409254138264,220.60712519988357,220.27483718891648,219.94404933473066,219.61474972629168,219.28692658579263,218.96056826675493,218.6356632521626,218.31220015262844,217.99016770459085,217.66955476854298,217.35035032729076,217.0325434842413,216.71612346172031,216.4010795993176,216.08740135226088,215.7750782898164,215.46410009371712,215.15445655661645,214.84613758056807,214.53913317553094,214.23343345789942,213.92902864905685,213.62590907395384,213.32406515970936,213.0234874342349,212.72416652488113,212.4260931571063,212.12925815316694,211.8336524308289,211.5392670020998,211.24609297198137,210.9541215372427,210.6633439852119,210.37375169258814,210.08533612427158,209.7980888322131,209.51200145428095,209.2270657131461,208.94327341518482,208.66061644939873,208.3790867863513,208.0986764771214,207.8193776522727,207.5411825208397,207.26408336932857,206.9880725607343,206.71314253357235,206.4392858009252,206.1664949495042,205.89476263872473,205.62408159979591,205.35444463482455,205.085844615932,204.81827448438426,204.55172724973625,204.28619598898754,204.0216738457517,203.7581540294379,203.49562981444396,203.23409453936281,202.97354160619918,202.71396447959887,202.45535668608954,202.19771181333107,201.94102350937936,201.6852854819586,201.43049149774595,201.17663538166522,200.92371101619176,200.671712340667,200.42063335062315,200.17046809711707,199.92121068607437,199.6728552776427,199.42539608555404,199.17882737649626,198.93314346949364,198.68833873529638,198.44440759577813,198.20134452334293,197.95914404033942,197.71780071848428,197.4773091782932,197.23766408851975,196.99886016560257,196.7608921731196,196.52375492125054,196.2874432662459,196.05195210990448,195.81727639905725,195.58341112505818,195.35035132328278,195.11809207263323,194.88662849504956,194.65595575502866,194.42606905914883,194.1969636556014,193.96863483372823,193.7410779235656,193.51428829539464,193.288261359297,193.06299256471692,192.83847740002952,192.6147113921139,192.3916901059326,192.1694091441168,191.94786414655601,191.72705078999456,191.50696478763197,191.28760188872988,191.06895787822305,190.85102857633612,190.6338098382052,190.41729755350394,190.20148764607563,189.9863760735683,189.77195882707622,189.55823193078504,189.34519144162186,189.13283344890942,188.92115407402525,188.71014947006498,188.4998158215094,188.2901493438968,188.0811462834984,187.87280291699875,187.66511555117935,187.45808052260713,187.25169419732606,187.04595297055312,186.84085326637805,186.63639153746615,186.4325642647663,186.2293679572208,186.0267991514799,185.82485441162004,185.62353032886452,185.42282352130877,185.22273063364815,185.02324833690955,184.8243733281862,184.6261023303754,184.42843209192011,184.23135938655278,184.0348810130432,183.83899379494878,183.64369458036802,183.44898024169726,183.25484767538956,183.06129380171774,182.86831556453845,182.67590993106134,182.4840738916188,182.29280445943994,182.10209867042641,181.91195358293137,181.72236627754074,181.53333385685733,181.34485344528733,181.15692218882918,180.96953725486523,180.7826958319556,180.59639512963463,180.4106323782093,180.22540482856084,180.04070975194756,179.85654443981065,179.67290620358236,179.48979237449558,179.30720030339663,179.1251273605593,178.94357093550187,178.76252843680524,178.5819972919342,178.40197494705995,178.2224588668846,178.04344653446873,177.86493545105924,177.68692313592086,177.50940712616799,177.33238497659988,177.15585425953626,176.97981256465607,176.8042574988372,176.62918668599826,176.4545977669421,176.28048839920115,176.1068562568843,175.93369903052562,175.7610144269348,175.58880016904902,175.41705399578666,175.24577366190252,175.07495693784458,174.90460160961248,174.73470547861754,174.56526636154402,174.39628209021214,174.22775051144265,174.05966948692293,173.89203689307382,173.7248506209189,173.5581085759547,173.3918086780221,173.22594886117946,173.06052707357702,172.8955412773325,172.73098944840817,172.56686957648947,172.40317966486384,172.2399177303029,172.07708180294333,171.91466992617114,171.75268015650602,171.59111056348723,171.42995922956086,171.2692242499676,171.10890373263265,170.94899579805616,170.7894985792049,170.630410221405,170.47172888223614,170.3134527314266,170.15557995074914,169.9981087339186,169.84103728648984,169.68436382575726,169.52808658065524,169.37220379165947,169.21671371068908,169.06161460101046,168.90690473714153,168.75258240475688,168.59864590059433,168.44509353236208,168.29192361864702,168.13913448882397,167.98672448296523,167.83469195175226,167.68303525638706,167.53175276850516,167.38084287008917,167.230303953383,167.08013442080758,166.93033268487713,166.78089716811584,166.6318263029757,166.48311853175554,166.33477230652028,166.186786089021,166.0391583506164,165.8918875721942,165.7449722440943,165.59841086603151,165.45220194702006,165.30634400529829,165.16083556825453,165.0156751723528,164.87086136306056,164.72639269477594,164.58226773075643,164.43848504304796,164.2950432124146,164.15194082826935,164.0091764886049,163.86674879992597,163.72465637718125,163.5828978436969,163.44147183111025,163.30037697930413,163.159611936342,163.01917535840352,162.87906590972088,162.73928226251556,162.59982309693595,162.4606871009954,162.32187297051058,162.1833794090412,162.04520512782923,161.90734884573985,161.76980928920187,161.63258519214955,161.49567529596445,161.35907834941798,161.22279310861478,161.08681833693578,160.95115280498308,160.81579529052394,160.68074457843656,160.54599946065522,160.41155873611686,160.27742121070787,160.14358569721063,160.01005101525203,159.87681599125094,159.7438794583672,159.61124025645057,159.47889723199035,159.3468492380654,159.21509513429464,159.08363378678763,158.95246406809684,158.82158485716826,158.69099503929462,158.56069350606748,158.43067915533072,158.30095089113405,158.17150762368644,158.04234826931116,157.91347175040025,157.78487699536944,157.6565629386145,157.5285285204662,157.40077268714748,157.27329439072986,157.14609258909059,157.01916624587017,156.8925143304305,156.7661358178128,156.6400296886964,156.51419492935784,156.38863053163,156.26333549286215,156.13830881587964,156.0135495089447,155.889056585717,155.76482906521468,155.6408659717762,155.51716633502167,155.39372918981542,155.2705535762278,155.1476385394989,155.02498313000072,154.90258640320144,154.78044741962825,154.65856524483235,154.53693894935253,154.4155676086804,154.29445030322515,154.1735861182785,154.0529741439811,153.9326134752874,153.81250321193266,153.6926424583989,153.5730303238818,153.4536659222577,153.334548372051,153.2156767964015,153.09705032303253,152.97866808421892,152.86052921675537,152.74263286192527,152.6249781654694,152.5075642775554,152.39039035274686,152.27345554997345,152.15675903250062,152.04029996789973,151.92407752801876,151.80809088895285,151.69233923101524,151.5768217387087,151.46153760069666,151.3464860097749,151.2316661628438,151.11707726088008,151.00271850890942,150.88858911597904,150.77468829513026,150.661015263372,150.54756924165363,150.43434945483884,150.32135513167884,150.20858550478687,150.09603981061196,149.98371728941348,149.87161718523552,149.75973874588175,149.6480812228904,149.5366438715095,149.4254259506721,149.31442672297212,149.2036454546397,149.09308141551764,148.9827338790373,148.87260212219496,148.76268542552856,148.65298307309416,148.5434943524431,148.43421855459903,148.32515497403537,148.21630290865235,148.10766165975522,147.99923053203167,147.89100883353007,147.78299587563765,147.67519097305876,147.5675934437935,147.46020260911624,147.35301779355495,147.24603832486972,147.13926353403232,147.03269275520537,146.92632532572205,146.82016058606567,146.71419787984962,146.60843655379742,146.5028759577226,146.39751544450957,146.2923543700936,146.18739209344164,146.08262797653333,145.97806138434157,145.87369168481388,145.7695182488535,145.6655404503008,145.56175766591497,145.45816927535537,145.3547746611636,145.2515732087455,145.14856430635288,145.04574734506633,144.943121718777,144.84068682416947,144.73844206070447,144.63638683060117,144.53452053882052,144.43284259304843,144.33135240367827,144.23004938379492,144.12893294915764,144.0280025181841,143.92725751193356,143.82669735409095,143.72632147095104,143.62612929140178,143.52612024690936,143.42629377150166,143.32664930175332,143.22718627676983,143.1279041381726,143.02880233008304,142.92988029910828,142.83113749432542,142.73257336726724,142.634187371907,142.53597896464376,142.43794760428824,142.3400927520478,142.24241387151264,142.14491042864103,142.04758189174564,141.95042773147915,141.85344742082074,141.7566404350618,141.66000625179242,141.56354435088798,141.46725421449543,141.3711353270196,141.27518717511063,141.17940924764994,141.08380103573762,140.98836203267942,140.8930917339733,140.79798963729732,140.70305524249642,140.60828805156982,140.5136875686588,140.41925330003394,140.32498475408244,140.2308814412968,140.13694287426173,140.04316856764228,139.94955803817223,139.85611080464165,139.76282638788538,139.6697043107711,139.57674409818785,139.48394527703402,139.39130737620673,139.29882992658935,139.20651246104092,139.1143545143846,139.02235562339666,138.93051532679513,138.8388331652289,138.74730868126724,138.655941419388,138.56473092596775,138.47367674927065,138.38277843943789,138.29203554847692,138.20144763025166,138.11101424047118,138.02073493668016,137.93060927824828,137.84063682635997,137.7508171440044,137.66114979596583,137.57163434881292,137.48227037088938,137.39305743230386,137.30399510492046,137.21508296234887,137.12632057993477,137.0377075347502,136.94924340558427,136.86092777293368,136.77276021899326,136.6847403276469,136.5968676844579,136.5091418766605,136.42156249315008,136.33412912447457,136.24684136282536,136.15969880202834,136.07270103753524,135.9858476664145,135.899138287343,135.81257250059693,135.72614990804362,135.63987011313273,135.5537327208878,135.46773733789794,135.38188357230928,135.2961710338168,135.21059933365615,135.12516808459512,135.03987690092592,134.95472539845673,134.869713194504,134.78483990788413,134.70010515890584,134.6155085693622,134.53104976252257,134.44672836312537,134.3625439973698,134.27849629290867,134.1945848788404,134.11080938570166,134.0271694454599,133.94366469150575,133.86029475864558,133.7770592830947,133.69395790246907,133.61099025577894,133.52815598342107,133.44545472717192,133.36288613018036,133.28044983696066,133.19814549338534,133.11597274667847,133.03393124540852,132.9520206394814,132.87024058013398,132.78859071992707,132.7070707127384,132.62568021375662,132.5444188794739,132.46328636767973,132.38228233745443,132.30140644916224,132.22065836444497,132.14003774621597,132.05954425865312,131.97917756719283,131.8989373385237,131.8188232405799,131.73883494253562,131.6589721147982,131.57923442900227,131.49962155800367,131.42013317587308,131.34076895789056,131.26152858053896,131.18241172149817,131.10341805963932,131.02454727501882,130.94579904887243,130.8671730636094,130.78866900280704,130.71028655120455,130.63202539469762,130.5538852203326,130.47586571630097,130.39796657193375,130.32018747769584,130.24252812518063,130.1649882071044,130.0875674173009,130.01026545071608,129.9330820034024,129.8560167725138,129.77906945630002,129.7022397541018,129.62552736634527,129.54893199453676,129.47245334125765,129.39609111015943,129.31984500595817,129.2437147344299,129.16770000240507,129.09180051776391,129.01601598943128,128.94034612737155,128.86479064258413,128.78934924709793,128.7140216539671,128.63880757726568,128.56370673208315,128.48871883451946,128.4138436016803,128.33908075167255,128.26443000359916,128.18989107755488,128.11546369462167,128.04114757686352,127.96694244732251,127.89284803001408,127.81886404992217,127.74499023299495,127.67122630614067,127.59757199722254,127.52402703505496,127.45059114939852,127.37726407095623,127.30404553136873,127.23093526321024,127.15793299998396,127.08503847611826,127.01225142696197,126.93957158878058,126.86699869875167,126.794532494961,126.72217271639832,126.6499191029532,126.57777139541096,126.50572933544876,126.43379266563107,126.36196112940638,126.29023447110242,126.21861243592289,126.14709476994304,126.07568122010592,126.00437153421856,125.93316546094785,125.86206274981684,125.79106315120094,125.72016641632389,125.64937229725444,125.57868054690195,125.50809091901299,125.43760316816778,125.3672170497761,125.29693232007384,125.22674873611923,125.15666605578943,125.08668403777645,125.01680244158416,124.94702102752413,124.87733955671236,124.80775779106575,124.73827549329859,124.66889242691889,124.599608356225,124.53042304630225,124.46133626301946]},\"selected\":{\"id\":\"2201\"},\"selection_policy\":{\"id\":\"2200\"}},\"id\":\"2087\",\"type\":\"ColumnDataSource\"},{\"attributes\":{},\"id\":\"2200\",\"type\":\"UnionRenderers\"},{\"attributes\":{},\"id\":\"2077\",\"type\":\"ResetTool\"},{\"attributes\":{\"tools\":[{\"id\":\"2073\"},{\"id\":\"2074\"},{\"id\":\"2075\"},{\"id\":\"2076\"},{\"id\":\"2077\"},{\"id\":\"2078\"}]},\"id\":\"2080\",\"type\":\"Toolbar\"},{\"attributes\":{},\"id\":\"2199\",\"type\":\"AllLabels\"},{\"attributes\":{\"coordinates\":null,\"data_source\":{\"id\":\"2087\"},\"glyph\":{\"id\":\"2088\"},\"group\":null,\"hover_glyph\":null,\"muted_glyph\":{\"id\":\"2090\"},\"nonselection_glyph\":{\"id\":\"2089\"},\"view\":{\"id\":\"2092\"}},\"id\":\"2091\",\"type\":\"GlyphRenderer\"},{\"attributes\":{},\"id\":\"2198\",\"type\":\"BasicTickFormatter\"},{\"attributes\":{\"coordinates\":null,\"group\":null,\"text\":\"Negative Log Likelihood over iterations\"},\"id\":\"2055\",\"type\":\"Title\"},{\"attributes\":{},\"id\":\"2201\",\"type\":\"Selection\"},{\"attributes\":{\"bottom_units\":\"screen\",\"coordinates\":null,\"fill_alpha\":0.5,\"fill_color\":\"lightgrey\",\"group\":null,\"left_units\":\"screen\",\"level\":\"overlay\",\"line_alpha\":1.0,\"line_color\":\"black\",\"line_dash\":[4,4],\"line_width\":2,\"right_units\":\"screen\",\"syncable\":false,\"top_units\":\"screen\"},\"id\":\"2079\",\"type\":\"BoxAnnotation\"},{\"attributes\":{},\"id\":\"2196\",\"type\":\"AllLabels\"},{\"attributes\":{},\"id\":\"2061\",\"type\":\"LinearScale\"},{\"attributes\":{},\"id\":\"2070\",\"type\":\"BasicTicker\"},{\"attributes\":{},\"id\":\"2074\",\"type\":\"WheelZoomTool\"},{\"attributes\":{\"coordinates\":null,\"formatter\":{\"id\":\"2198\"},\"group\":null,\"major_label_policy\":{\"id\":\"2199\"},\"ticker\":{\"id\":\"2066\"}},\"id\":\"2065\",\"type\":\"LinearAxis\"},{\"attributes\":{\"overlay\":{\"id\":\"2079\"}},\"id\":\"2075\",\"type\":\"BoxZoomTool\"},{\"attributes\":{},\"id\":\"2078\",\"type\":\"HelpTool\"},{\"attributes\":{},\"id\":\"2066\",\"type\":\"BasicTicker\"},{\"attributes\":{},\"id\":\"2059\",\"type\":\"DataRange1d\"},{\"attributes\":{},\"id\":\"2195\",\"type\":\"BasicTickFormatter\"},{\"attributes\":{\"axis\":{\"id\":\"2065\"},\"coordinates\":null,\"group\":null,\"ticker\":null},\"id\":\"2068\",\"type\":\"Grid\"},{\"attributes\":{\"source\":{\"id\":\"2087\"}},\"id\":\"2092\",\"type\":\"CDSView\"},{\"attributes\":{\"coordinates\":null,\"formatter\":{\"id\":\"2195\"},\"group\":null,\"major_label_policy\":{\"id\":\"2196\"},\"ticker\":{\"id\":\"2070\"}},\"id\":\"2069\",\"type\":\"LinearAxis\"},{\"attributes\":{\"line_alpha\":0.1,\"line_color\":\"#1f77b4\",\"x\":{\"field\":\"x\"},\"y\":{\"field\":\"y\"}},\"id\":\"2089\",\"type\":\"Line\"},{\"attributes\":{},\"id\":\"2063\",\"type\":\"LinearScale\"},{\"attributes\":{},\"id\":\"2073\",\"type\":\"PanTool\"}],\"root_ids\":[\"2054\"]},\"title\":\"Bokeh Application\",\"version\":\"2.4.3\"}};\n",
       "  const render_items = [{\"docid\":\"ee0e7a0a-fd53-453b-bec6-2e9e1e017347\",\"root_ids\":[\"2054\"],\"roots\":{\"2054\":\"1ffb77b7-2a07-46eb-a02d-b803a3f6befa\"}}];\n",
       "  root.Bokeh.embed.embed_items_notebook(docs_json, render_items);\n",
       "  }\n",
       "  if (root.Bokeh !== undefined) {\n",
       "    embed_document(root);\n",
       "  } else {\n",
       "    let attempts = 0;\n",
       "    const timer = setInterval(function(root) {\n",
       "      if (root.Bokeh !== undefined) {\n",
       "        clearInterval(timer);\n",
       "        embed_document(root);\n",
       "      } else {\n",
       "        attempts++;\n",
       "        if (attempts > 100) {\n",
       "          clearInterval(timer);\n",
       "          console.log(\"Bokeh: ERROR: Unable to run BokehJS code because BokehJS library is missing\");\n",
       "        }\n",
       "      }\n",
       "    }, 10, root)\n",
       "  }\n",
       "})(window);"
      ],
      "application/vnd.bokehjs_exec.v0+json": ""
     },
     "metadata": {
      "application/vnd.bokehjs_exec.v0+json": {
       "id": "2054"
      }
     },
     "output_type": "display_data"
    }
   ],
   "source": [
    "p = figure(title=\"Negative Log Likelihood over iterations\")\n",
    "p.line(x=list(range(len(L))), y=L)\n",
    "show(p)\n"
   ]
  },
  {
   "cell_type": "markdown",
   "metadata": {},
   "source": [
    "## Batch Descent\n",
    "\n",
    "To illustrate batch descent, we will break up our data matrix into 20 blocks of roughly 90 rows per block.\n",
    "To avoid bias we will randomly shuffle the rows before breaking it up.\n"
   ]
  },
  {
   "cell_type": "code",
   "execution_count": 8,
   "metadata": {},
   "outputs": [],
   "source": [
    "def block_descent(x, y, max_epochs=1000, block_size=50, nu=0.001, M=None):\n",
    "    \"\"\"does batch gradient descent to maximum likelihood for data=x and labels (one-hot)=y\"\"\"\n",
    "    features = x.shape[1]\n",
    "    classes = y.shape[1]\n",
    "    likes = []\n",
    "    blocks_per_epoch=x.shape[0]//block_size\n",
    "    if M is None:\n",
    "        M = rng.normal(loc=0, scale=1, size=(features, classes))\n",
    "    for i in tqdm(range(max_epochs)):\n",
    "        start=0\n",
    "        for j in range(blocks_per_epoch):\n",
    "            P = softmax(x[start:start+block_size,:] @ M, axis=1)\n",
    "            grad = x[start:start+block_size,:].transpose() @ (P - y[start:start+block_size,:])\n",
    "            M = M - nu * grad\n",
    "            start = start+block_size\n",
    "        P=softmax(x[start:,:] @ M, axis=1)\n",
    "        grad = x[start:,:].transpose() @ (P-y[start:start+block_size,:])\n",
    "        M = M-nu*grad\n",
    "        likes.append(-np.trace(y.transpose() @ np.log(softmax(x @ M, axis=1))))\n",
    "    return M, likes"
   ]
  },
  {
   "cell_type": "code",
   "execution_count": 9,
   "metadata": {},
   "outputs": [
    {
     "name": "stderr",
     "output_type": "stream",
     "text": [
      "100%|██████████████████████████████████████████████████████████████████████████████| 1000/1000 [00:02<00:00, 338.79it/s]\n"
     ]
    }
   ],
   "source": [
    "M,L=block_descent(data,Y)"
   ]
  },
  {
   "cell_type": "code",
   "execution_count": 10,
   "metadata": {},
   "outputs": [
    {
     "name": "stdout",
     "output_type": "stream",
     "text": [
      "Percentage correct on training data = 98.55314412910407\n"
     ]
    }
   ],
   "source": [
    "predicted = np.argmax(softmax(data @ M, axis=1), axis=1)\n",
    "correct = (predicted == labels).sum()\n",
    "percentage = correct / len(labels)\n",
    "print(\"Percentage correct on training data = {}\".format(100 * percentage))"
   ]
  },
  {
   "cell_type": "code",
   "execution_count": 11,
   "metadata": {},
   "outputs": [
    {
     "data": {
      "text/html": [
       "\n",
       "  <div class=\"bk-root\" id=\"fd91c532-c2c9-48b8-8150-25d2036c61a4\" data-root-id=\"2253\"></div>\n"
      ]
     },
     "metadata": {},
     "output_type": "display_data"
    },
    {
     "data": {
      "application/javascript": [
       "(function(root) {\n",
       "  function embed_document(root) {\n",
       "  const docs_json = {\"29a91da8-eca6-423c-a5a5-8f1ed17b29c8\":{\"defs\":[],\"roots\":{\"references\":[{\"attributes\":{\"below\":[{\"id\":\"2264\"}],\"center\":[{\"id\":\"2267\"},{\"id\":\"2271\"}],\"left\":[{\"id\":\"2268\"}],\"renderers\":[{\"id\":\"2290\"}],\"title\":{\"id\":\"2254\"},\"toolbar\":{\"id\":\"2279\"},\"x_range\":{\"id\":\"2256\"},\"x_scale\":{\"id\":\"2260\"},\"y_range\":{\"id\":\"2258\"},\"y_scale\":{\"id\":\"2262\"}},\"id\":\"2253\",\"subtype\":\"Figure\",\"type\":\"Plot\"},{\"attributes\":{\"line_alpha\":0.2,\"line_color\":\"#1f77b4\",\"x\":{\"field\":\"x\"},\"y\":{\"field\":\"y\"}},\"id\":\"2289\",\"type\":\"Line\"},{\"attributes\":{},\"id\":\"2265\",\"type\":\"BasicTicker\"},{\"attributes\":{},\"id\":\"2409\",\"type\":\"UnionRenderers\"},{\"attributes\":{},\"id\":\"2260\",\"type\":\"LinearScale\"},{\"attributes\":{},\"id\":\"2410\",\"type\":\"Selection\"},{\"attributes\":{\"coordinates\":null,\"formatter\":{\"id\":\"2404\"},\"group\":null,\"major_label_policy\":{\"id\":\"2405\"},\"ticker\":{\"id\":\"2269\"}},\"id\":\"2268\",\"type\":\"LinearAxis\"},{\"attributes\":{},\"id\":\"2277\",\"type\":\"HelpTool\"},{\"attributes\":{\"source\":{\"id\":\"2286\"}},\"id\":\"2291\",\"type\":\"CDSView\"},{\"attributes\":{\"axis\":{\"id\":\"2264\"},\"coordinates\":null,\"group\":null,\"ticker\":null},\"id\":\"2267\",\"type\":\"Grid\"},{\"attributes\":{\"line_alpha\":0.1,\"line_color\":\"#1f77b4\",\"x\":{\"field\":\"x\"},\"y\":{\"field\":\"y\"}},\"id\":\"2288\",\"type\":\"Line\"},{\"attributes\":{\"tools\":[{\"id\":\"2272\"},{\"id\":\"2273\"},{\"id\":\"2274\"},{\"id\":\"2275\"},{\"id\":\"2276\"},{\"id\":\"2277\"}]},\"id\":\"2279\",\"type\":\"Toolbar\"},{\"attributes\":{\"coordinates\":null,\"formatter\":{\"id\":\"2407\"},\"group\":null,\"major_label_policy\":{\"id\":\"2408\"},\"ticker\":{\"id\":\"2265\"}},\"id\":\"2264\",\"type\":\"LinearAxis\"},{\"attributes\":{\"data\":{\"x\":[0,1,2,3,4,5,6,7,8,9,10,11,12,13,14,15,16,17,18,19,20,21,22,23,24,25,26,27,28,29,30,31,32,33,34,35,36,37,38,39,40,41,42,43,44,45,46,47,48,49,50,51,52,53,54,55,56,57,58,59,60,61,62,63,64,65,66,67,68,69,70,71,72,73,74,75,76,77,78,79,80,81,82,83,84,85,86,87,88,89,90,91,92,93,94,95,96,97,98,99,100,101,102,103,104,105,106,107,108,109,110,111,112,113,114,115,116,117,118,119,120,121,122,123,124,125,126,127,128,129,130,131,132,133,134,135,136,137,138,139,140,141,142,143,144,145,146,147,148,149,150,151,152,153,154,155,156,157,158,159,160,161,162,163,164,165,166,167,168,169,170,171,172,173,174,175,176,177,178,179,180,181,182,183,184,185,186,187,188,189,190,191,192,193,194,195,196,197,198,199,200,201,202,203,204,205,206,207,208,209,210,211,212,213,214,215,216,217,218,219,220,221,222,223,224,225,226,227,228,229,230,231,232,233,234,235,236,237,238,239,240,241,242,243,244,245,246,247,248,249,250,251,252,253,254,255,256,257,258,259,260,261,262,263,264,265,266,267,268,269,270,271,272,273,274,275,276,277,278,279,280,281,282,283,284,285,286,287,288,289,290,291,292,293,294,295,296,297,298,299,300,301,302,303,304,305,306,307,308,309,310,311,312,313,314,315,316,317,318,319,320,321,322,323,324,325,326,327,328,329,330,331,332,333,334,335,336,337,338,339,340,341,342,343,344,345,346,347,348,349,350,351,352,353,354,355,356,357,358,359,360,361,362,363,364,365,366,367,368,369,370,371,372,373,374,375,376,377,378,379,380,381,382,383,384,385,386,387,388,389,390,391,392,393,394,395,396,397,398,399,400,401,402,403,404,405,406,407,408,409,410,411,412,413,414,415,416,417,418,419,420,421,422,423,424,425,426,427,428,429,430,431,432,433,434,435,436,437,438,439,440,441,442,443,444,445,446,447,448,449,450,451,452,453,454,455,456,457,458,459,460,461,462,463,464,465,466,467,468,469,470,471,472,473,474,475,476,477,478,479,480,481,482,483,484,485,486,487,488,489,490,491,492,493,494,495,496,497,498,499,500,501,502,503,504,505,506,507,508,509,510,511,512,513,514,515,516,517,518,519,520,521,522,523,524,525,526,527,528,529,530,531,532,533,534,535,536,537,538,539,540,541,542,543,544,545,546,547,548,549,550,551,552,553,554,555,556,557,558,559,560,561,562,563,564,565,566,567,568,569,570,571,572,573,574,575,576,577,578,579,580,581,582,583,584,585,586,587,588,589,590,591,592,593,594,595,596,597,598,599,600,601,602,603,604,605,606,607,608,609,610,611,612,613,614,615,616,617,618,619,620,621,622,623,624,625,626,627,628,629,630,631,632,633,634,635,636,637,638,639,640,641,642,643,644,645,646,647,648,649,650,651,652,653,654,655,656,657,658,659,660,661,662,663,664,665,666,667,668,669,670,671,672,673,674,675,676,677,678,679,680,681,682,683,684,685,686,687,688,689,690,691,692,693,694,695,696,697,698,699,700,701,702,703,704,705,706,707,708,709,710,711,712,713,714,715,716,717,718,719,720,721,722,723,724,725,726,727,728,729,730,731,732,733,734,735,736,737,738,739,740,741,742,743,744,745,746,747,748,749,750,751,752,753,754,755,756,757,758,759,760,761,762,763,764,765,766,767,768,769,770,771,772,773,774,775,776,777,778,779,780,781,782,783,784,785,786,787,788,789,790,791,792,793,794,795,796,797,798,799,800,801,802,803,804,805,806,807,808,809,810,811,812,813,814,815,816,817,818,819,820,821,822,823,824,825,826,827,828,829,830,831,832,833,834,835,836,837,838,839,840,841,842,843,844,845,846,847,848,849,850,851,852,853,854,855,856,857,858,859,860,861,862,863,864,865,866,867,868,869,870,871,872,873,874,875,876,877,878,879,880,881,882,883,884,885,886,887,888,889,890,891,892,893,894,895,896,897,898,899,900,901,902,903,904,905,906,907,908,909,910,911,912,913,914,915,916,917,918,919,920,921,922,923,924,925,926,927,928,929,930,931,932,933,934,935,936,937,938,939,940,941,942,943,944,945,946,947,948,949,950,951,952,953,954,955,956,957,958,959,960,961,962,963,964,965,966,967,968,969,970,971,972,973,974,975,976,977,978,979,980,981,982,983,984,985,986,987,988,989,990,991,992,993,994,995,996,997,998,999],\"y\":[6315.420186737006,5174.865616177254,4568.260477016408,4111.475803263245,3723.3701716342784,3387.4146178558653,3095.8237721178257,2842.4641914411095,2622.004023729746,2429.7471509345605,2261.584242381032,2113.9655444068744,1983.8625219915793,1868.7136977476175,1766.3627138622373,1674.997261186845,1593.0938109586266,1519.3698282302037,1452.7433967664062,1392.2995015486222,1337.2620449918024,1286.970698761387,1240.8617830380717,1198.4524739966914,1159.327750524763,1123.1295928214545,1089.5480330665537,1058.3137306305061,1029.191802907906,1001.9766904079095,976.4878736723001,952.5662917752817,930.0713388921235,908.878337629916,888.8764061958539,869.9666516176732,852.0606336330295,835.0790539774073,818.950634017202,803.6111503365395,789.0026032825579,775.0724978459799,761.7732198008644,749.0614929113975,736.8979053650993,725.2464955156123,714.0743885979134,703.3514773809509,693.0501408003943,683.1449955096524,673.6126760343059,664.4316398406011,655.581994154372,647.0453418101417,638.8046437853598,630.8440963932456,623.1490213788964,615.70576739486,608.5016215305984,601.5247297403837,594.7640251605055,588.2091634328467,581.8504642608821,575.6788585185359,569.6858403141853,563.8634234832313,558.2041020445838,552.7008142104061,547.34690958563,542.1361192350183,537.0625283317121,532.1205511329289,527.3049080563742,522.6106046554696,518.032912313148,513.5673504930625,509.20967040394413,504.9558399477846,500.80202983577334,496.7446007676705,492.78009158075236,488.905208283758,485.11681389955413,481.41191904762775,477.7876732041133,474.24135658296797,470.7703725871968,467.3722407837638,464.04459036008325,460.7851540238038,457.59176231103646,454.46233827127656,451.39489250005556,448.387518492883,445.43838829631164,442.54574843401736,439.70791608765325,436.92327551392015,434.19027468083334,431.5074221075554,428.87328389342883,426.28648092299613,423.74568623483856,421.24962254302756,418.79705990084653,416.38681349724516,414.01774157720854,411.68874347789733,409.3987577730177,407.146760518444,404.9317635926269,402.75281312579244,400.60898801236493,398.4993985014537,396.42318486059673,394.3795161083034,392.36758881123933,390.38662594218926,388.4358757951934,386.51461095450026,384.62212731420203,382.757743145628,380.9207982097653,379.11065291215294,377.3266874978643,375.5683012843419,373.8349119299957,372.1259547366058,370.44088198369275,368.7791622931369,367.1402800224281,365.5237346850338,363.92904039645765,362.3557253446533,360.80333128353425,359.271413048397,357.7595380921422,356.2672860412474,354.79424827050144,353.3400274955706,351.90423738251883,350.4865021734522,349.0864563275077,347.7037441764473,346.3380195941607,344.98894567941664,343.6561944512421,342.33944655633627,341.0383909879673,339.7527248158178,338.4821529262832,337.22638777274926,335.98514913539645,334.7581638901104,333.5451657860898,332.3458952317723,331.16009908871285,329.9875304730679,328.8279485643622,327.68111842121886,326.54681080376315,325.424802002414,324.31487367279584,323.2168126765162,322.13041092756544,321.05546524410704,319.99177720543787,318.939153013909,317.89740336160565,316.8663433015966,315.8457921235685,314.8355732336749,313.83551403842955,312.8454458324897,311.86520369017467,310.8946263605778,309.93355616613144,308.98183890449445,308.03932375363536,307.10586317998957,306.18131284957735,305.265531541969,304.35838106699373,303.4597261840903,302.5694345242015,301.68737651412005,300.8134253031982,299.9474566923321,299.08934906514384,298.23898332127834,297.39624281174173,296.5610132762101,295.73318278223655,294.9126416662926,294.099282476578,293.29299991754,292.4936907960397,291.701253969113,290.9155902932686,290.13660257527204,289.36419552436536,288.5982757058742,287.83875149615585,287.08553303884327,286.3385322023422,285.5976625385405,284.86283924268884,284.13397911441564,283.4110005198382,282.6938233547357,281.9823690087479,281.2765603305694,280.5763215941047,279.8815784655554,279.1922579714096,278.5082884673041,277.8295996077339,277.15612231657934,276.4877887584301,275.824532310676,275.1662875363449,274.5129901576636,273.8645770303181,273.2209861183945,272.5821564699774,271.94802819338787,271.3185424340404,270.69364135190074,270.0732680995266,269.45736680067455,268.84588252945446,268.2387612900181,267.63594999676303,267.0373964550398,266.4430493423452,265.8528581899889,265.2667733652193,264.68474605379555,264.1067282429926,263.53267270502727,262.9625329808927,262.3962633645906,261.8338188877492,261.27515530461574,260.7202290774144,260.1689973620579,259.62141799420414,259.07744947564686,258.5370509610324,258.00018224489367,257.4668037489905,256.9368765099514,256.4103621672046,255.88722295119453,255.3674216718723,254.85092170745534,254.33768699344785,253.82768201191567,253.3208717810075,252.81722184471818,252.31669826288453,251.81926760141113,251.3248969227169,250.83355377639816,250.34520619010317,249.85982266061038,249.37737214510756,248.89782405266504,248.42114823589898,247.9473149828186,247.47629500885398,247.00805944905932,246.54257985048656,246.079828164726,245.61977674060938,245.16239831707054,244.7076660161615,244.25555333621787,243.80603414517128,243.35908267400532,242.9146735103506,242.47278159221545,242.03338220184983,241.59645095973877,241.1619638187215,240.7298970582341,240.30022727867257,239.8729313958725,239.44798663570384,239.02537052877716,238.6050609052586,238.18703588979145,237.7712738965219,237.35775362422567,236.9464540515336,236.5373544322548,236.1304342907923,235.72567341765367,235.3230518650485,234.92254994257613,234.5241482129982,234.1278274880953,233.73356882460553,233.3413535202431,232.951163109795,232.56297936129468,232.1767842722694,231.79256006606155,231.4102891882206,231.02995430296528,230.6515382897133,230.2750242396782,229.90039545253154,229.5276354331275,229.15672788829136,228.7876567236677,228.4204060406285,228.05496013323975,227.69130348528427,227.32942076734085,226.96929683391767,226.61091672063898,226.25426564148358,225.89932898607512,225.54609231702136,225.1945413673028,224.84466203770887,224.49644039432127,224.14986266604222,223.80491524216865,223.46158467000896,223.1198576525436,222.7797210461277,222.4411618582338,222.10416724523617,221.76872451023345,221.4348211009107,221.10244460743857,220.77158276040996,220.44222342881307,220.11435461803896,219.7879644679252,219.46304125083293,219.13957336975687,218.81754935646916,218.49695786969383,218.17778769331395,217.86002773460876,217.54366702252108,217.22869470595447,216.91510005209872,216.60287244478474,216.29200138286632,215.98247647862922,215.67428745622783,215.36742415014686,215.06187650368935,214.75763456748996,214.4546884980523,214.15302855631134,213.85264510621866,213.5535286133515,213.25566964354434,212.95905886154367,212.66368702968296,212.36954500658126,212.07662374586113,211.7849142948885,211.49440779353233,211.2050954729442,210.9169686543575,210.6300187479061,210.34423725146107,210.05961574948708,209.77614591191576,209.49381949303762,209.21262833041092,208.93256434378836,208.65361953405966,208.37578598221162,208.0990558483036,207.82342137045944,207.54887486387477,207.27540871983982,207.0030154047769,206.7316874592934,206.46141749724828,206.19219820483391,205.9240223396712,205.6568827299188,205.39077227339538,205.1256839367158,204.86161075444016,204.5985458282349,204.33648232604767,204.07541348129342,203.81533259205395,203.55623302028735,203.29810819105165,203.04095159173792,202.78475677131576,202.5295173395894,202.27522696646525,202.0218793812295,201.76946837183706,201.51798778420985,201.26743152154643,201.01779354364058,200.7690678662106,200.52124856023764,200.27432975131387,200.02830561899998,199.78317039619157,199.53891836849516,199.29554387361262,199.05304130073412,198.81140508994062,198.57062973161385,198.33070976585464,198.0916397819102,197.85341441760903,197.61602835880316,197.37947633881896,197.14375313791516,196.90885358274875,196.6747725458477,196.4415049450917,196.20904574319914,195.9773899472222,195.74653260804791,195.51646881990644,195.28719371988646,195.05870248745623,194.83099034399197,194.60405255231206,194.37788441621825,194.15248128004208,193.92783852819824,193.7039515847433,193.48081591294073,193.25842701483194,193.03678043081214,192.81587173921258,192.59569655588837,192.37625053381146,192.15752936266855,191.9395287684655,191.72224451313554,191.50567239415366,191.28980824415584,191.07464793056226,190.86018735520705,190.6464224539713,190.43334919642217,190.22096358545537,190.00926165694318,189.79823947938658,189.587893153572,189.37821881223226,189.16921261971206,188.9608707716375,188.7531894945902,188.54616504578502,188.33979371275194,188.13407181302279,187.92899569382035,187.72456173175306,187.5207663325121,187.31760593057334,187.1150769889025,186.91317599866363,186.7118994789323,186.51124397641112,186.31120606514943,186.1117823462666,185.9129694476781,185.7147640238256,185.51716275540988,185.3201623491272,185.1237595374091,184.92795107816494,184.73273375452763,184.53810437460314,184.34405977122182,184.15059680169384,183.95771234756697,183.7654033143873,183.57366663146314,183.3824992516313,183.19189815102678,183.00186032885432,182.8123828071636,182.62346263062636,182.43509686631674,182.24728260349374,182.06001695338645,181.87329704898193,181.6871200448152,181.50148311676227,181.31638346183502,181.13181829797855,180.94778486387153,180.7642804187277,180.58130224210112,180.39884763369204,180.21691391315653,180.03549841991727,179.85459851297708,179.6742115707342,179.49433499080007,179.31496618981865,179.13610260328846,178.95774168538622,178.7798809087924,178.6025177645191,178.4256497617398,178.24927442762066,178.07338930715417,177.89799196299444,177.72307997529447,177.5486509415448,177.37470247641485,177.20123221159514,177.02823779564156,176.8557168938217,176.68366718796233,176.512086376299,176.3409721733272,176.17032230965472,176.00013453185645,175.8304066023301,175.66113629915384,175.49232141594513,175.32395976172154,175.15604916076302,174.98858745247523,174.8215724912548,174.65500214635577,174.4888743017579,174.3231868560357,174.15793772222943,173.9931248277176,173.82874611408974,173.66479953702262,173.50128306615505,173.33819468496662,173.17553239065612,173.01329419402154,172.851478119342,172.69008220425982,172.52910449966515,172.3685430695805,172.2083959910475,172.04866135401414,171.8893372612239,171.73042182810525,171.5719131826628,171.41380946536967,171.25610882906057,171.09880943882604,170.9419094719085,170.78540711759834,170.62930057713146,170.47358806358858,170.31826780179435,170.1633380282184,170.00879699087702,169.8546429492361,169.7008741741147,169.54748894758976,169.39448556290222,169.24186232436327,169.08961754726212,168.93774955777468,168.78625669287257,168.63513730023425,168.48438973815576,168.33401237546298,168.18400359142487,168.03436177566726,167.88508532808754,167.73617265877073,167.58762218790525,167.43943234570105,167.291601572307,167.14412831773024,166.9970110417558,166.85024821386725,166.70383831316767,166.5577798283021,166.41207125738046,166.26671110790056,166.121697896673,165.9770301497461,165.83270640233167,165.68872519873167,165.54508509226528,165.40178464519693,165.25882242866498,165.11619702261117,164.97390701571038,164.8319510053015,164.69032759731886,164.54903540622388,164.40807305493854,164.26743917477748,164.1271324053832,163.98715139465975,163.84749479870842,163.70816128176338,163.56914951612805,163.43045818211232,163.29208596796997,163.15403156983686,163.01629369166994,162.87887104518668,162.74176234980445,162.60496633258174,162.46848172815857,162.33230727869864,162.1964417338312,162.06088385059365,161.92563239337508,161.7906861338596,161.65604385097112,161.52170433081747,161.38766636663647,161.2539287587412,161.12049031446622,160.98734984811495,160.85450618090624,160.72195814092262,160.58970456305838,160.45774428896814,160.32607616701648,160.19469905222684,160.0636118062325,159.93281329722626,159.80230239991226,159.6720779954567,159.54213897144015,159.41248422180982,159.28311264683225,159.15402315304632,159.02521465321698,158.89668606628953,158.76843631734337,158.6404643375476,158.51276906411562,158.38534944026094,158.25820441515344,158.13133294387544,158.0047339873787,157.87840651244153,157.75234949162623,157.62656190323736,157.5010427312795,157.37579096541668,157.2508056009304,157.12608563868,157.00163008506175,156.8774379519693,156.75350825675383,156.62984002218516,156.50643227641265,156.38328405292657,156.2603943905204,156.13776233325225,156.0153869304079,155.8932672364633,155.77140231104772,155.64979121890724,155.5284330298684,155.40732681880218,155.28647166558864,155.1658666550812,155.0455108770719,154.92540342625645,154.8055434022,154.68592990930273,154.5665620567662,154.44743895855962,154.32855973338687,154.20992350465283,154.0915294004315,153.97337655343284,153.85546410097095,153.73779118493215,153.62035695174305,153.50316055233975,153.3862011421358,153.2694778809926,153.1529899331874,153.0367364673841,152.9207166566025,152.80492967818884,152.68937471378592,152.57405094930388,152.4589575748911,152.34409378490525,152.22945877788487,152.11505175652064,152.00087192762757,151.8869185021169,151.77319069496835,151.65968772520276,151.54640881585473,151.43335319394583,151.32052009045748,151.2079087403046,151.09551838230905,150.98334825917365,150.8713976174563,150.75966570754383,150.64815178362696,150.53685510367472,150.42577492940939,150.31491052628158,150.2042611634456,150.09382611373476,149.98360465363726,149.87359606327178,149.76379962636395,149.65421463022244,149.5448403657152,149.4356761272463,149.32672121273276,149.21797492358144,149.10943656466654,149.00110544430646,148.89298087424177,148.7850621696128,148.67734864893737,148.56983963408925,148.46253445027617,148.355432426018,148.2485328931261,148.14183518668096,148.03533864501213,147.92904260967686,147.82294642543934,147.7170494402502,147.61135100522608,147.5058504746293,147.40054720584777,147.2954405593752,147.19052989879083,147.08581459074054,146.9812940049165,146.87696751403843,146.77283449383427,146.668894323021,146.56514638328562,146.46159005926702,146.35822473853634,146.25504981157957,146.1520646717786,146.0492687153929,145.94666134154204,145.84424195218728,145.74200995211393,145.63996474891394,145.5381057529679,145.4364323774283,145.33494403820154,145.23364015393142,145.13252014598194,145.03158343842037,144.93082945800052,144.8302576341463,144.7298673989351,144.62965818708145,144.52962943592075,144.42978058539313,144.33011107802773,144.23062035892633,144.13130787574806,144.03217307869346,143.9332154204892,143.8344343563723,143.73582934407528,143.63739984381056,143.53914531825583,143.44106523253853,143.34315905422153,143.24542625328823,143.1478663021276,143.0504786755202,142.95326285062345,142.85621830695703,142.75934452638947,142.66264099312315,142.56610719368115,142.46974261689243,142.37354675387883,142.27751909804115,142.18165914504507,142.08596639280847,141.99044034148724,141.8950804934626,141.79988635332748,141.70485742787346,141.6099932260781,141.51529325909158,141.42075704022403,141.32638408493278,141.23217391080982,141.13812603756907,141.04423998703408,140.9505152831254,140.8569514518486,140.76354802128168,140.67030452156348,140.5772204848812,140.4842954454585,140.39152893954392,140.29892050539883,140.2064696832859,140.1141760154572,140.02203904614322,139.9300583215408,139.83823338980227,139.74656380102383,139.65504910723445,139.56368886238465,139.47248262233586,139.3814299448488,139.29053038957315,139.1997835180363,139.10918889363285,139.01874608161407,138.9284546490768,138.83831416495346,138.74832420000135,138.65848432679223,138.5687941197023,138.4792531549014,138.3898610103435,138.3006172657562,138.21152150263092,138.12257330421264,138.03377225549028,137.94511794318703,137.85660995575012,137.76824788334153,137.68003131782814,137.59195985277253,137.50403308342288,137.4162506067042,137.32861202120867,137.2411169271861,137.15376492653536,137.0665556227945,136.9794886211321,136.89256352833803,136.80577995281453,136.7191375045674,136.63263579519682,136.54627443788885,136.46005304740677,136.37397124008172,136.2880286338052,136.2022248480193,136.11655950370923,136.03103222339408,135.94564263111886,135.86039035244622,135.77527501444754,135.69029624569566,135.60545367625593,135.5207469376784,135.4361756629898,135.35173948668535,135.26743804472085,135.1832709745051,135.0992379148915,135.01533850617062,134.9315723900624,134.84793920970836,134.76443860966393,134.681070235891,134.5978337357505,134.5147287579943,134.43175495275847,134.3489119715554,134.26619946726686,134.1836170941362,134.10116450776138,134.01884136508818,133.93664732440192,133.8545820453216,133.77264518879204,133.69083641707704,133.60915539375264,133.52760178369982,133.44617525309792,133.36487546941765,133.28370210141432,133.2026548191211,133.12173329384234,133.040937198147,132.96026620586161,132.8797199920641,132.79929823307742,132.71900060646243,132.638826791012,132.55877646674435,132.47884931489676,132.3990450179191,132.31936325946788,132.2398037243995,132.1603660987646,132.08105006980136,132.00185532592997,131.9227815567457,131.8438284530137,131.76499570666272,131.68628301077882,131.60769005959966,131.5292165485088,131.45086217402954,131.37262663381904,131.29450962666309,131.21651085246964,131.13863001226352,131.06086680818066,130.9832209434624,130.90569212245006,130.82828005057908,130.75098443437372,130.6738049814416,130.59674140046775,130.51979340120997,130.44296069449274,130.36624299220222,130.28964000728087,130.21315145372196,130.13677704656442,130.0605165018879,129.98436953680698,129.90833586946667,129.8324152190365,129.75660730570638,129.6809118506805,129.60532857617306,129.5298572054031,129.45449746258896,129.37924907294433,129.30411176267248,129.22908525896173,129.15416928998056,129.0793635848729,129.00466787375296,128.93008188770096,128.85560535875797,128.78123801992143,128.70697960514048,128.63282984931118,128.5587884882719,128.48485525879894,128.41102989860164,128.33731214631817,128.26370174151086,128.19019842466133,128.116801937167,128.04351202133566,127.97032842038156,127.89725087842119,127.82427914046842,127.75141295243068,127.67865206110424,127.60599621417037,127.53344516019075,127.46099864860335,127.38865642971831,127.31641825471378,127.24428387563161,127.17225304537358,127.10032551769667,127.02850104720974,126.956779389369,126.88516030047421,126.81364353766455,126.7422288589147,126.67091602303088,126.59970478964708,126.52859491922081,126.45758617302964,126.38667831316707,126.31587110253864,126.24516430485849,126.17455768464514,126.104051007218,126.03364403869354,125.96333654598169,125.89312829678182,125.8230190595794,125.75300860364237,125.68309669901696,125.613283116525]},\"selected\":{\"id\":\"2410\"},\"selection_policy\":{\"id\":\"2409\"}},\"id\":\"2286\",\"type\":\"ColumnDataSource\"},{\"attributes\":{\"coordinates\":null,\"data_source\":{\"id\":\"2286\"},\"glyph\":{\"id\":\"2287\"},\"group\":null,\"hover_glyph\":null,\"muted_glyph\":{\"id\":\"2289\"},\"nonselection_glyph\":{\"id\":\"2288\"},\"view\":{\"id\":\"2291\"}},\"id\":\"2290\",\"type\":\"GlyphRenderer\"},{\"attributes\":{\"overlay\":{\"id\":\"2278\"}},\"id\":\"2274\",\"type\":\"BoxZoomTool\"},{\"attributes\":{},\"id\":\"2258\",\"type\":\"DataRange1d\"},{\"attributes\":{},\"id\":\"2276\",\"type\":\"ResetTool\"},{\"attributes\":{},\"id\":\"2404\",\"type\":\"BasicTickFormatter\"},{\"attributes\":{},\"id\":\"2256\",\"type\":\"DataRange1d\"},{\"attributes\":{},\"id\":\"2262\",\"type\":\"LinearScale\"},{\"attributes\":{\"line_color\":\"#1f77b4\",\"x\":{\"field\":\"x\"},\"y\":{\"field\":\"y\"}},\"id\":\"2287\",\"type\":\"Line\"},{\"attributes\":{\"coordinates\":null,\"group\":null,\"text\":\"Negative Log Likelihood over iterations\"},\"id\":\"2254\",\"type\":\"Title\"},{\"attributes\":{},\"id\":\"2408\",\"type\":\"AllLabels\"},{\"attributes\":{\"bottom_units\":\"screen\",\"coordinates\":null,\"fill_alpha\":0.5,\"fill_color\":\"lightgrey\",\"group\":null,\"left_units\":\"screen\",\"level\":\"overlay\",\"line_alpha\":1.0,\"line_color\":\"black\",\"line_dash\":[4,4],\"line_width\":2,\"right_units\":\"screen\",\"syncable\":false,\"top_units\":\"screen\"},\"id\":\"2278\",\"type\":\"BoxAnnotation\"},{\"attributes\":{},\"id\":\"2407\",\"type\":\"BasicTickFormatter\"},{\"attributes\":{},\"id\":\"2405\",\"type\":\"AllLabels\"},{\"attributes\":{},\"id\":\"2272\",\"type\":\"PanTool\"},{\"attributes\":{},\"id\":\"2269\",\"type\":\"BasicTicker\"},{\"attributes\":{},\"id\":\"2275\",\"type\":\"SaveTool\"},{\"attributes\":{\"axis\":{\"id\":\"2268\"},\"coordinates\":null,\"dimension\":1,\"group\":null,\"ticker\":null},\"id\":\"2271\",\"type\":\"Grid\"},{\"attributes\":{},\"id\":\"2273\",\"type\":\"WheelZoomTool\"}],\"root_ids\":[\"2253\"]},\"title\":\"Bokeh Application\",\"version\":\"2.4.3\"}};\n",
       "  const render_items = [{\"docid\":\"29a91da8-eca6-423c-a5a5-8f1ed17b29c8\",\"root_ids\":[\"2253\"],\"roots\":{\"2253\":\"fd91c532-c2c9-48b8-8150-25d2036c61a4\"}}];\n",
       "  root.Bokeh.embed.embed_items_notebook(docs_json, render_items);\n",
       "  }\n",
       "  if (root.Bokeh !== undefined) {\n",
       "    embed_document(root);\n",
       "  } else {\n",
       "    let attempts = 0;\n",
       "    const timer = setInterval(function(root) {\n",
       "      if (root.Bokeh !== undefined) {\n",
       "        clearInterval(timer);\n",
       "        embed_document(root);\n",
       "      } else {\n",
       "        attempts++;\n",
       "        if (attempts > 100) {\n",
       "          clearInterval(timer);\n",
       "          console.log(\"Bokeh: ERROR: Unable to run BokehJS code because BokehJS library is missing\");\n",
       "        }\n",
       "      }\n",
       "    }, 10, root)\n",
       "  }\n",
       "})(window);"
      ],
      "application/vnd.bokehjs_exec.v0+json": ""
     },
     "metadata": {
      "application/vnd.bokehjs_exec.v0+json": {
       "id": "2253"
      }
     },
     "output_type": "display_data"
    }
   ],
   "source": [
    "p = figure(title=\"Negative Log Likelihood over iterations\")\n",
    "p.line(x=list(range(len(L))), y=L)\n",
    "show(p)"
   ]
  },
  {
   "cell_type": "markdown",
   "metadata": {},
   "source": [
    "## Stochastic Gradient Descent\n",
    "\n",
    "The SGD algorithm is \"batch descent\" with a batch size of one. "
   ]
  },
  {
   "cell_type": "code",
   "execution_count": 12,
   "metadata": {},
   "outputs": [
    {
     "name": "stderr",
     "output_type": "stream",
     "text": [
      "100%|█████████████████████████████████████████████████████████████████████████████████| 500/500 [00:35<00:00, 14.12it/s]\n"
     ]
    }
   ],
   "source": [
    "M, L = block_descent(data,Y,block_size=1,max_epochs=500)"
   ]
  },
  {
   "cell_type": "code",
   "execution_count": 13,
   "metadata": {},
   "outputs": [
    {
     "name": "stdout",
     "output_type": "stream",
     "text": [
      "Percentage correct on training data = 97.9966611018364\n"
     ]
    }
   ],
   "source": [
    "predicted = np.argmax(softmax(data @ M, axis=1), axis=1)\n",
    "correct = (predicted == labels).sum()\n",
    "percentage = correct / len(labels)\n",
    "print(\"Percentage correct on training data = {}\".format(100 * percentage))"
   ]
  },
  {
   "cell_type": "code",
   "execution_count": null,
   "metadata": {},
   "outputs": [],
   "source": []
  }
 ],
 "metadata": {
  "kernelspec": {
   "display_name": "Python 3 (ipykernel)",
   "language": "python",
   "name": "python3"
  },
  "language_info": {
   "codemirror_mode": {
    "name": "ipython",
    "version": 3
   },
   "file_extension": ".py",
   "mimetype": "text/x-python",
   "name": "python",
   "nbconvert_exporter": "python",
   "pygments_lexer": "ipython3",
   "version": "3.9.15"
  },
  "vscode": {
   "interpreter": {
    "hash": "8d760aa701f9c3953c4158a2f5d628550462b9fbb129003fab9d076ff94005fb"
   }
  }
 },
 "nbformat": 4,
 "nbformat_minor": 4
}
