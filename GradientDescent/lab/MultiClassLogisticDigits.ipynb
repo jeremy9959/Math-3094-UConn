{
 "cells": [
  {
   "cell_type": "markdown",
   "metadata": {},
   "source": [
    "\n",
    "## Multiclass Logistic Regression\n",
    "\n",
    "    "
   ]
  },
  {
   "cell_type": "code",
   "execution_count": 2,
   "metadata": {},
   "outputs": [
    {
     "data": {
      "text/html": [
       "<div class=\"bk-root\">\n",
       "        <a href=\"https://bokeh.org\" target=\"_blank\" class=\"bk-logo bk-logo-small bk-logo-notebook\"></a>\n",
       "        <span id=\"1002\">Loading BokehJS ...</span>\n",
       "    </div>\n"
      ]
     },
     "metadata": {},
     "output_type": "display_data"
    },
    {
     "data": {
      "application/javascript": [
       "(function(root) {\n",
       "  function now() {\n",
       "    return new Date();\n",
       "  }\n",
       "\n",
       "  const force = true;\n",
       "\n",
       "  if (typeof root._bokeh_onload_callbacks === \"undefined\" || force === true) {\n",
       "    root._bokeh_onload_callbacks = [];\n",
       "    root._bokeh_is_loading = undefined;\n",
       "  }\n",
       "\n",
       "const JS_MIME_TYPE = 'application/javascript';\n",
       "  const HTML_MIME_TYPE = 'text/html';\n",
       "  const EXEC_MIME_TYPE = 'application/vnd.bokehjs_exec.v0+json';\n",
       "  const CLASS_NAME = 'output_bokeh rendered_html';\n",
       "\n",
       "  /**\n",
       "   * Render data to the DOM node\n",
       "   */\n",
       "  function render(props, node) {\n",
       "    const script = document.createElement(\"script\");\n",
       "    node.appendChild(script);\n",
       "  }\n",
       "\n",
       "  /**\n",
       "   * Handle when an output is cleared or removed\n",
       "   */\n",
       "  function handleClearOutput(event, handle) {\n",
       "    const cell = handle.cell;\n",
       "\n",
       "    const id = cell.output_area._bokeh_element_id;\n",
       "    const server_id = cell.output_area._bokeh_server_id;\n",
       "    // Clean up Bokeh references\n",
       "    if (id != null && id in Bokeh.index) {\n",
       "      Bokeh.index[id].model.document.clear();\n",
       "      delete Bokeh.index[id];\n",
       "    }\n",
       "\n",
       "    if (server_id !== undefined) {\n",
       "      // Clean up Bokeh references\n",
       "      const cmd_clean = \"from bokeh.io.state import curstate; print(curstate().uuid_to_server['\" + server_id + \"'].get_sessions()[0].document.roots[0]._id)\";\n",
       "      cell.notebook.kernel.execute(cmd_clean, {\n",
       "        iopub: {\n",
       "          output: function(msg) {\n",
       "            const id = msg.content.text.trim();\n",
       "            if (id in Bokeh.index) {\n",
       "              Bokeh.index[id].model.document.clear();\n",
       "              delete Bokeh.index[id];\n",
       "            }\n",
       "          }\n",
       "        }\n",
       "      });\n",
       "      // Destroy server and session\n",
       "      const cmd_destroy = \"import bokeh.io.notebook as ion; ion.destroy_server('\" + server_id + \"')\";\n",
       "      cell.notebook.kernel.execute(cmd_destroy);\n",
       "    }\n",
       "  }\n",
       "\n",
       "  /**\n",
       "   * Handle when a new output is added\n",
       "   */\n",
       "  function handleAddOutput(event, handle) {\n",
       "    const output_area = handle.output_area;\n",
       "    const output = handle.output;\n",
       "\n",
       "    // limit handleAddOutput to display_data with EXEC_MIME_TYPE content only\n",
       "    if ((output.output_type != \"display_data\") || (!Object.prototype.hasOwnProperty.call(output.data, EXEC_MIME_TYPE))) {\n",
       "      return\n",
       "    }\n",
       "\n",
       "    const toinsert = output_area.element.find(\".\" + CLASS_NAME.split(' ')[0]);\n",
       "\n",
       "    if (output.metadata[EXEC_MIME_TYPE][\"id\"] !== undefined) {\n",
       "      toinsert[toinsert.length - 1].firstChild.textContent = output.data[JS_MIME_TYPE];\n",
       "      // store reference to embed id on output_area\n",
       "      output_area._bokeh_element_id = output.metadata[EXEC_MIME_TYPE][\"id\"];\n",
       "    }\n",
       "    if (output.metadata[EXEC_MIME_TYPE][\"server_id\"] !== undefined) {\n",
       "      const bk_div = document.createElement(\"div\");\n",
       "      bk_div.innerHTML = output.data[HTML_MIME_TYPE];\n",
       "      const script_attrs = bk_div.children[0].attributes;\n",
       "      for (let i = 0; i < script_attrs.length; i++) {\n",
       "        toinsert[toinsert.length - 1].firstChild.setAttribute(script_attrs[i].name, script_attrs[i].value);\n",
       "        toinsert[toinsert.length - 1].firstChild.textContent = bk_div.children[0].textContent\n",
       "      }\n",
       "      // store reference to server id on output_area\n",
       "      output_area._bokeh_server_id = output.metadata[EXEC_MIME_TYPE][\"server_id\"];\n",
       "    }\n",
       "  }\n",
       "\n",
       "  function register_renderer(events, OutputArea) {\n",
       "\n",
       "    function append_mime(data, metadata, element) {\n",
       "      // create a DOM node to render to\n",
       "      const toinsert = this.create_output_subarea(\n",
       "        metadata,\n",
       "        CLASS_NAME,\n",
       "        EXEC_MIME_TYPE\n",
       "      );\n",
       "      this.keyboard_manager.register_events(toinsert);\n",
       "      // Render to node\n",
       "      const props = {data: data, metadata: metadata[EXEC_MIME_TYPE]};\n",
       "      render(props, toinsert[toinsert.length - 1]);\n",
       "      element.append(toinsert);\n",
       "      return toinsert\n",
       "    }\n",
       "\n",
       "    /* Handle when an output is cleared or removed */\n",
       "    events.on('clear_output.CodeCell', handleClearOutput);\n",
       "    events.on('delete.Cell', handleClearOutput);\n",
       "\n",
       "    /* Handle when a new output is added */\n",
       "    events.on('output_added.OutputArea', handleAddOutput);\n",
       "\n",
       "    /**\n",
       "     * Register the mime type and append_mime function with output_area\n",
       "     */\n",
       "    OutputArea.prototype.register_mime_type(EXEC_MIME_TYPE, append_mime, {\n",
       "      /* Is output safe? */\n",
       "      safe: true,\n",
       "      /* Index of renderer in `output_area.display_order` */\n",
       "      index: 0\n",
       "    });\n",
       "  }\n",
       "\n",
       "  // register the mime type if in Jupyter Notebook environment and previously unregistered\n",
       "  if (root.Jupyter !== undefined) {\n",
       "    const events = require('base/js/events');\n",
       "    const OutputArea = require('notebook/js/outputarea').OutputArea;\n",
       "\n",
       "    if (OutputArea.prototype.mime_types().indexOf(EXEC_MIME_TYPE) == -1) {\n",
       "      register_renderer(events, OutputArea);\n",
       "    }\n",
       "  }\n",
       "  if (typeof (root._bokeh_timeout) === \"undefined\" || force === true) {\n",
       "    root._bokeh_timeout = Date.now() + 5000;\n",
       "    root._bokeh_failed_load = false;\n",
       "  }\n",
       "\n",
       "  const NB_LOAD_WARNING = {'data': {'text/html':\n",
       "     \"<div style='background-color: #fdd'>\\n\"+\n",
       "     \"<p>\\n\"+\n",
       "     \"BokehJS does not appear to have successfully loaded. If loading BokehJS from CDN, this \\n\"+\n",
       "     \"may be due to a slow or bad network connection. Possible fixes:\\n\"+\n",
       "     \"</p>\\n\"+\n",
       "     \"<ul>\\n\"+\n",
       "     \"<li>re-rerun `output_notebook()` to attempt to load from CDN again, or</li>\\n\"+\n",
       "     \"<li>use INLINE resources instead, as so:</li>\\n\"+\n",
       "     \"</ul>\\n\"+\n",
       "     \"<code>\\n\"+\n",
       "     \"from bokeh.resources import INLINE\\n\"+\n",
       "     \"output_notebook(resources=INLINE)\\n\"+\n",
       "     \"</code>\\n\"+\n",
       "     \"</div>\"}};\n",
       "\n",
       "  function display_loaded() {\n",
       "    const el = document.getElementById(\"1002\");\n",
       "    if (el != null) {\n",
       "      el.textContent = \"BokehJS is loading...\";\n",
       "    }\n",
       "    if (root.Bokeh !== undefined) {\n",
       "      if (el != null) {\n",
       "        el.textContent = \"BokehJS \" + root.Bokeh.version + \" successfully loaded.\";\n",
       "      }\n",
       "    } else if (Date.now() < root._bokeh_timeout) {\n",
       "      setTimeout(display_loaded, 100)\n",
       "    }\n",
       "  }\n",
       "\n",
       "  function run_callbacks() {\n",
       "    try {\n",
       "      root._bokeh_onload_callbacks.forEach(function(callback) {\n",
       "        if (callback != null)\n",
       "          callback();\n",
       "      });\n",
       "    } finally {\n",
       "      delete root._bokeh_onload_callbacks\n",
       "    }\n",
       "    console.debug(\"Bokeh: all callbacks have finished\");\n",
       "  }\n",
       "\n",
       "  function load_libs(css_urls, js_urls, callback) {\n",
       "    if (css_urls == null) css_urls = [];\n",
       "    if (js_urls == null) js_urls = [];\n",
       "\n",
       "    root._bokeh_onload_callbacks.push(callback);\n",
       "    if (root._bokeh_is_loading > 0) {\n",
       "      console.debug(\"Bokeh: BokehJS is being loaded, scheduling callback at\", now());\n",
       "      return null;\n",
       "    }\n",
       "    if (js_urls == null || js_urls.length === 0) {\n",
       "      run_callbacks();\n",
       "      return null;\n",
       "    }\n",
       "    console.debug(\"Bokeh: BokehJS not loaded, scheduling load and callback at\", now());\n",
       "    root._bokeh_is_loading = css_urls.length + js_urls.length;\n",
       "\n",
       "    function on_load() {\n",
       "      root._bokeh_is_loading--;\n",
       "      if (root._bokeh_is_loading === 0) {\n",
       "        console.debug(\"Bokeh: all BokehJS libraries/stylesheets loaded\");\n",
       "        run_callbacks()\n",
       "      }\n",
       "    }\n",
       "\n",
       "    function on_error(url) {\n",
       "      console.error(\"failed to load \" + url);\n",
       "    }\n",
       "\n",
       "    for (let i = 0; i < css_urls.length; i++) {\n",
       "      const url = css_urls[i];\n",
       "      const element = document.createElement(\"link\");\n",
       "      element.onload = on_load;\n",
       "      element.onerror = on_error.bind(null, url);\n",
       "      element.rel = \"stylesheet\";\n",
       "      element.type = \"text/css\";\n",
       "      element.href = url;\n",
       "      console.debug(\"Bokeh: injecting link tag for BokehJS stylesheet: \", url);\n",
       "      document.body.appendChild(element);\n",
       "    }\n",
       "\n",
       "    for (let i = 0; i < js_urls.length; i++) {\n",
       "      const url = js_urls[i];\n",
       "      const element = document.createElement('script');\n",
       "      element.onload = on_load;\n",
       "      element.onerror = on_error.bind(null, url);\n",
       "      element.async = false;\n",
       "      element.src = url;\n",
       "      console.debug(\"Bokeh: injecting script tag for BokehJS library: \", url);\n",
       "      document.head.appendChild(element);\n",
       "    }\n",
       "  };\n",
       "\n",
       "  function inject_raw_css(css) {\n",
       "    const element = document.createElement(\"style\");\n",
       "    element.appendChild(document.createTextNode(css));\n",
       "    document.body.appendChild(element);\n",
       "  }\n",
       "\n",
       "  const js_urls = [\"https://cdn.bokeh.org/bokeh/release/bokeh-2.4.3.min.js\", \"https://cdn.bokeh.org/bokeh/release/bokeh-gl-2.4.3.min.js\", \"https://cdn.bokeh.org/bokeh/release/bokeh-widgets-2.4.3.min.js\", \"https://cdn.bokeh.org/bokeh/release/bokeh-tables-2.4.3.min.js\", \"https://cdn.bokeh.org/bokeh/release/bokeh-mathjax-2.4.3.min.js\"];\n",
       "  const css_urls = [];\n",
       "\n",
       "  const inline_js = [    function(Bokeh) {\n",
       "      Bokeh.set_log_level(\"info\");\n",
       "    },\n",
       "function(Bokeh) {\n",
       "    }\n",
       "  ];\n",
       "\n",
       "  function run_inline_js() {\n",
       "    if (root.Bokeh !== undefined || force === true) {\n",
       "          for (let i = 0; i < inline_js.length; i++) {\n",
       "      inline_js[i].call(root, root.Bokeh);\n",
       "    }\n",
       "if (force === true) {\n",
       "        display_loaded();\n",
       "      }} else if (Date.now() < root._bokeh_timeout) {\n",
       "      setTimeout(run_inline_js, 100);\n",
       "    } else if (!root._bokeh_failed_load) {\n",
       "      console.log(\"Bokeh: BokehJS failed to load within specified timeout.\");\n",
       "      root._bokeh_failed_load = true;\n",
       "    } else if (force !== true) {\n",
       "      const cell = $(document.getElementById(\"1002\")).parents('.cell').data().cell;\n",
       "      cell.output_area.append_execute_result(NB_LOAD_WARNING)\n",
       "    }\n",
       "  }\n",
       "\n",
       "  if (root._bokeh_is_loading === 0) {\n",
       "    console.debug(\"Bokeh: BokehJS loaded, going straight to plotting\");\n",
       "    run_inline_js();\n",
       "  } else {\n",
       "    load_libs(css_urls, js_urls, function() {\n",
       "      console.debug(\"Bokeh: BokehJS plotting callback run at\", now());\n",
       "      run_inline_js();\n",
       "    });\n",
       "  }\n",
       "}(window));"
      ],
      "application/vnd.bokehjs_load.v0+json": "(function(root) {\n  function now() {\n    return new Date();\n  }\n\n  const force = true;\n\n  if (typeof root._bokeh_onload_callbacks === \"undefined\" || force === true) {\n    root._bokeh_onload_callbacks = [];\n    root._bokeh_is_loading = undefined;\n  }\n\n\n  if (typeof (root._bokeh_timeout) === \"undefined\" || force === true) {\n    root._bokeh_timeout = Date.now() + 5000;\n    root._bokeh_failed_load = false;\n  }\n\n  const NB_LOAD_WARNING = {'data': {'text/html':\n     \"<div style='background-color: #fdd'>\\n\"+\n     \"<p>\\n\"+\n     \"BokehJS does not appear to have successfully loaded. If loading BokehJS from CDN, this \\n\"+\n     \"may be due to a slow or bad network connection. Possible fixes:\\n\"+\n     \"</p>\\n\"+\n     \"<ul>\\n\"+\n     \"<li>re-rerun `output_notebook()` to attempt to load from CDN again, or</li>\\n\"+\n     \"<li>use INLINE resources instead, as so:</li>\\n\"+\n     \"</ul>\\n\"+\n     \"<code>\\n\"+\n     \"from bokeh.resources import INLINE\\n\"+\n     \"output_notebook(resources=INLINE)\\n\"+\n     \"</code>\\n\"+\n     \"</div>\"}};\n\n  function display_loaded() {\n    const el = document.getElementById(\"1002\");\n    if (el != null) {\n      el.textContent = \"BokehJS is loading...\";\n    }\n    if (root.Bokeh !== undefined) {\n      if (el != null) {\n        el.textContent = \"BokehJS \" + root.Bokeh.version + \" successfully loaded.\";\n      }\n    } else if (Date.now() < root._bokeh_timeout) {\n      setTimeout(display_loaded, 100)\n    }\n  }\n\n  function run_callbacks() {\n    try {\n      root._bokeh_onload_callbacks.forEach(function(callback) {\n        if (callback != null)\n          callback();\n      });\n    } finally {\n      delete root._bokeh_onload_callbacks\n    }\n    console.debug(\"Bokeh: all callbacks have finished\");\n  }\n\n  function load_libs(css_urls, js_urls, callback) {\n    if (css_urls == null) css_urls = [];\n    if (js_urls == null) js_urls = [];\n\n    root._bokeh_onload_callbacks.push(callback);\n    if (root._bokeh_is_loading > 0) {\n      console.debug(\"Bokeh: BokehJS is being loaded, scheduling callback at\", now());\n      return null;\n    }\n    if (js_urls == null || js_urls.length === 0) {\n      run_callbacks();\n      return null;\n    }\n    console.debug(\"Bokeh: BokehJS not loaded, scheduling load and callback at\", now());\n    root._bokeh_is_loading = css_urls.length + js_urls.length;\n\n    function on_load() {\n      root._bokeh_is_loading--;\n      if (root._bokeh_is_loading === 0) {\n        console.debug(\"Bokeh: all BokehJS libraries/stylesheets loaded\");\n        run_callbacks()\n      }\n    }\n\n    function on_error(url) {\n      console.error(\"failed to load \" + url);\n    }\n\n    for (let i = 0; i < css_urls.length; i++) {\n      const url = css_urls[i];\n      const element = document.createElement(\"link\");\n      element.onload = on_load;\n      element.onerror = on_error.bind(null, url);\n      element.rel = \"stylesheet\";\n      element.type = \"text/css\";\n      element.href = url;\n      console.debug(\"Bokeh: injecting link tag for BokehJS stylesheet: \", url);\n      document.body.appendChild(element);\n    }\n\n    for (let i = 0; i < js_urls.length; i++) {\n      const url = js_urls[i];\n      const element = document.createElement('script');\n      element.onload = on_load;\n      element.onerror = on_error.bind(null, url);\n      element.async = false;\n      element.src = url;\n      console.debug(\"Bokeh: injecting script tag for BokehJS library: \", url);\n      document.head.appendChild(element);\n    }\n  };\n\n  function inject_raw_css(css) {\n    const element = document.createElement(\"style\");\n    element.appendChild(document.createTextNode(css));\n    document.body.appendChild(element);\n  }\n\n  const js_urls = [\"https://cdn.bokeh.org/bokeh/release/bokeh-2.4.3.min.js\", \"https://cdn.bokeh.org/bokeh/release/bokeh-gl-2.4.3.min.js\", \"https://cdn.bokeh.org/bokeh/release/bokeh-widgets-2.4.3.min.js\", \"https://cdn.bokeh.org/bokeh/release/bokeh-tables-2.4.3.min.js\", \"https://cdn.bokeh.org/bokeh/release/bokeh-mathjax-2.4.3.min.js\"];\n  const css_urls = [];\n\n  const inline_js = [    function(Bokeh) {\n      Bokeh.set_log_level(\"info\");\n    },\nfunction(Bokeh) {\n    }\n  ];\n\n  function run_inline_js() {\n    if (root.Bokeh !== undefined || force === true) {\n          for (let i = 0; i < inline_js.length; i++) {\n      inline_js[i].call(root, root.Bokeh);\n    }\nif (force === true) {\n        display_loaded();\n      }} else if (Date.now() < root._bokeh_timeout) {\n      setTimeout(run_inline_js, 100);\n    } else if (!root._bokeh_failed_load) {\n      console.log(\"Bokeh: BokehJS failed to load within specified timeout.\");\n      root._bokeh_failed_load = true;\n    } else if (force !== true) {\n      const cell = $(document.getElementById(\"1002\")).parents('.cell').data().cell;\n      cell.output_area.append_execute_result(NB_LOAD_WARNING)\n    }\n  }\n\n  if (root._bokeh_is_loading === 0) {\n    console.debug(\"Bokeh: BokehJS loaded, going straight to plotting\");\n    run_inline_js();\n  } else {\n    load_libs(css_urls, js_urls, function() {\n      console.debug(\"Bokeh: BokehJS plotting callback run at\", now());\n      run_inline_js();\n    });\n  }\n}(window));"
     },
     "metadata": {},
     "output_type": "display_data"
    }
   ],
   "source": [
    "## Main Libraries\n",
    "\n",
    "import numpy as np\n",
    "from numpy.random import default_rng\n",
    "\n",
    "from sklearn.preprocessing import OneHotEncoder\n",
    "from scipy.special import softmax\n",
    "from tqdm import tqdm\n",
    "\n",
    "from bokeh.plotting import figure, show, output_notebook\n",
    "from bokeh.layouts import row\n",
    "from bokeh.palettes import Spectral11\n",
    "\n",
    "output_notebook()\n",
    "rng = default_rng()"
   ]
  },
  {
   "cell_type": "markdown",
   "metadata": {},
   "source": [
    "### The digits dataset\n",
    "\n",
    "In this notebook we will use gradient descent and logistic regression to classify handwritten digits.\n",
    "\n",
    "The digits dataset provided by sklearn consist of just under 1800 samples, each of which is an 8x8 image\n",
    "with the pixels on a 0 to 10 scale. To recover the image, you must convert the 64 entry rows of the data matrix\n",
    "into an 8x8 array. First we load the data (with the labels) and illustrate a few of the entries.\n"
   ]
  },
  {
   "cell_type": "code",
   "execution_count": 3,
   "metadata": {},
   "outputs": [
    {
     "data": {
      "text/html": [
       "\n",
       "  <div class=\"bk-root\" id=\"5d718054-0d74-4aa5-ac39-c76576767699\" data-root-id=\"1453\"></div>\n"
      ]
     },
     "metadata": {},
     "output_type": "display_data"
    },
    {
     "data": {
      "application/javascript": [
       "(function(root) {\n",
       "  function embed_document(root) {\n",
       "  const docs_json = {\"0bea1e9f-8855-40d7-8c4e-1f0c2ae652e1\":{\"defs\":[],\"roots\":{\"references\":[{\"attributes\":{\"children\":[{\"id\":\"1003\"},{\"id\":\"1048\"},{\"id\":\"1093\"},{\"id\":\"1138\"},{\"id\":\"1183\"},{\"id\":\"1228\"},{\"id\":\"1273\"},{\"id\":\"1318\"},{\"id\":\"1363\"},{\"id\":\"1408\"}]},\"id\":\"1453\",\"type\":\"Row\"},{\"attributes\":{\"data\":{\"image\":[{\"__ndarray__\":\"AAAAAAAAAIAAAAAAAAAAgAAAAAAAAACAAAAAAAAAAIAAAAAAAAAswAAAAAAAABDAAAAAAAAAAIAAAAAAAAAAgAAAAAAAAACAAAAAAAAAAIAAAAAAAAAAgAAAAAAAAACAAAAAAAAAJMAAAAAAAAAiwAAAAAAAAACAAAAAAAAAAIAAAAAAAAAAgAAAAAAAAACAAAAAAAAAAIAAAAAAAAAAgAAAAAAAABTAAAAAAAAAKsAAAAAAAAAAgAAAAAAAAACAAAAAAAAAAIAAAAAAAADwvwAAAAAAABzAAAAAAAAAHMAAAAAAAAAIwAAAAAAAACrAAAAAAAAAEMAAAAAAAAAAgAAAAAAAAACAAAAAAAAAIMAAAAAAAAAswAAAAAAAACLAAAAAAAAAKsAAAAAAAAAwwAAAAAAAACDAAAAAAAAAAIAAAAAAAAAAgAAAAAAAAPC/AAAAAAAALsAAAAAAAAAIwAAAAAAAAACAAAAAAAAAJsAAAAAAAAAowAAAAAAAAACAAAAAAAAAAIAAAAAAAAAAgAAAAAAAABzAAAAAAAAALsAAAAAAAAAgwAAAAAAAABzAAAAAAAAAKMAAAAAAAAAAgAAAAAAAAACAAAAAAAAAAIAAAAAAAAAAgAAAAAAAAADAAAAAAAAAIsAAAAAAAAAwwAAAAAAAACTAAAAAAAAAAIA=\",\"dtype\":\"float64\",\"order\":\"little\",\"shape\":[8,8]}]},\"selected\":{\"id\":\"1531\"},\"selection_policy\":{\"id\":\"1530\"}},\"id\":\"1126\",\"type\":\"ColumnDataSource\"},{\"attributes\":{\"palette\":[\"#000000\",\"#252525\",\"#525252\",\"#737373\",\"#969696\",\"#bdbdbd\",\"#d9d9d9\",\"#f0f0f0\",\"#ffffff\"]},\"id\":\"1089\",\"type\":\"LinearColorMapper\"},{\"attributes\":{},\"id\":\"1098\",\"type\":\"DataRange1d\"},{\"attributes\":{\"below\":[{\"id\":\"1104\"}],\"center\":[{\"id\":\"1107\"},{\"id\":\"1111\"}],\"height\":80,\"left\":[{\"id\":\"1108\"}],\"match_aspect\":true,\"renderers\":[{\"id\":\"1136\"}],\"title\":{\"id\":\"1094\"},\"toolbar\":{\"id\":\"1119\"},\"toolbar_location\":null,\"width\":80,\"x_range\":{\"id\":\"1096\"},\"x_scale\":{\"id\":\"1100\"},\"y_range\":{\"id\":\"1098\"},\"y_scale\":{\"id\":\"1102\"}},\"id\":\"1093\",\"subtype\":\"Figure\",\"type\":\"Plot\"},{\"attributes\":{},\"id\":\"1501\",\"type\":\"BasicTickFormatter\"},{\"attributes\":{\"coordinates\":null,\"data_source\":{\"id\":\"1081\"},\"glyph\":{\"id\":\"1082\"},\"group\":null,\"hover_glyph\":null,\"muted_glyph\":{\"id\":\"1088\"},\"nonselection_glyph\":{\"id\":\"1085\"},\"view\":{\"id\":\"1092\"}},\"id\":\"1091\",\"type\":\"GlyphRenderer\"},{\"attributes\":{\"source\":{\"id\":\"1081\"}},\"id\":\"1092\",\"type\":\"CDSView\"},{\"attributes\":{},\"id\":\"1096\",\"type\":\"DataRange1d\"},{\"attributes\":{},\"id\":\"1502\",\"type\":\"AllLabels\"},{\"attributes\":{},\"id\":\"1100\",\"type\":\"LinearScale\"},{\"attributes\":{},\"id\":\"1105\",\"type\":\"BasicTicker\"},{\"attributes\":{},\"id\":\"1504\",\"type\":\"BasicTickFormatter\"},{\"attributes\":{\"coordinates\":null,\"formatter\":{\"id\":\"1480\"},\"group\":null,\"major_label_policy\":{\"id\":\"1481\"},\"ticker\":{\"id\":\"1105\"},\"visible\":false},\"id\":\"1104\",\"type\":\"LinearAxis\"},{\"attributes\":{\"coordinates\":null,\"group\":null,\"text\":\"Label: 9\"},\"id\":\"1094\",\"type\":\"Title\"},{\"attributes\":{},\"id\":\"1505\",\"type\":\"AllLabels\"},{\"attributes\":{\"coordinates\":null,\"formatter\":{\"id\":\"1477\"},\"group\":null,\"major_label_policy\":{\"id\":\"1478\"},\"ticker\":{\"id\":\"1109\"},\"visible\":false},\"id\":\"1108\",\"type\":\"LinearAxis\"},{\"attributes\":{},\"id\":\"1102\",\"type\":\"LinearScale\"},{\"attributes\":{\"axis\":{\"id\":\"1104\"},\"coordinates\":null,\"group\":null,\"ticker\":null,\"visible\":false},\"id\":\"1107\",\"type\":\"Grid\"},{\"attributes\":{\"axis\":{\"id\":\"1108\"},\"coordinates\":null,\"dimension\":1,\"group\":null,\"ticker\":null,\"visible\":false},\"id\":\"1111\",\"type\":\"Grid\"},{\"attributes\":{},\"id\":\"1109\",\"type\":\"BasicTicker\"},{\"attributes\":{},\"id\":\"1113\",\"type\":\"WheelZoomTool\"},{\"attributes\":{},\"id\":\"1112\",\"type\":\"PanTool\"},{\"attributes\":{},\"id\":\"1117\",\"type\":\"HelpTool\"},{\"attributes\":{\"overlay\":{\"id\":\"1118\"}},\"id\":\"1114\",\"type\":\"BoxZoomTool\"},{\"attributes\":{},\"id\":\"1115\",\"type\":\"SaveTool\"},{\"attributes\":{},\"id\":\"1116\",\"type\":\"ResetTool\"},{\"attributes\":{\"bottom_units\":\"screen\",\"coordinates\":null,\"fill_alpha\":0.5,\"fill_color\":\"lightgrey\",\"group\":null,\"left_units\":\"screen\",\"level\":\"overlay\",\"line_alpha\":1.0,\"line_color\":\"black\",\"line_dash\":[4,4],\"line_width\":2,\"right_units\":\"screen\",\"syncable\":false,\"top_units\":\"screen\"},\"id\":\"1118\",\"type\":\"BoxAnnotation\"},{\"attributes\":{\"palette\":[\"#000000\",\"#252525\",\"#525252\",\"#737373\",\"#969696\",\"#bdbdbd\",\"#d9d9d9\",\"#f0f0f0\",\"#ffffff\"]},\"id\":\"1128\",\"type\":\"LinearColorMapper\"},{\"attributes\":{\"axis\":{\"id\":\"1149\"},\"coordinates\":null,\"group\":null,\"ticker\":null,\"visible\":false},\"id\":\"1152\",\"type\":\"Grid\"},{\"attributes\":{\"below\":[{\"id\":\"1149\"}],\"center\":[{\"id\":\"1152\"},{\"id\":\"1156\"}],\"height\":80,\"left\":[{\"id\":\"1153\"}],\"match_aspect\":true,\"renderers\":[{\"id\":\"1181\"}],\"title\":{\"id\":\"1139\"},\"toolbar\":{\"id\":\"1164\"},\"toolbar_location\":null,\"width\":80,\"x_range\":{\"id\":\"1141\"},\"x_scale\":{\"id\":\"1145\"},\"y_range\":{\"id\":\"1143\"},\"y_scale\":{\"id\":\"1147\"}},\"id\":\"1138\",\"subtype\":\"Figure\",\"type\":\"Plot\"},{\"attributes\":{\"coordinates\":null,\"data_source\":{\"id\":\"1126\"},\"glyph\":{\"id\":\"1127\"},\"group\":null,\"hover_glyph\":null,\"muted_glyph\":{\"id\":\"1133\"},\"nonselection_glyph\":{\"id\":\"1130\"},\"view\":{\"id\":\"1137\"}},\"id\":\"1136\",\"type\":\"GlyphRenderer\"},{\"attributes\":{},\"id\":\"1145\",\"type\":\"LinearScale\"},{\"attributes\":{},\"id\":\"1141\",\"type\":\"DataRange1d\"},{\"attributes\":{\"source\":{\"id\":\"1126\"}},\"id\":\"1137\",\"type\":\"CDSView\"},{\"attributes\":{},\"id\":\"1150\",\"type\":\"BasicTicker\"},{\"attributes\":{\"coordinates\":null,\"formatter\":{\"id\":\"1486\"},\"group\":null,\"major_label_policy\":{\"id\":\"1487\"},\"ticker\":{\"id\":\"1150\"},\"visible\":false},\"id\":\"1149\",\"type\":\"LinearAxis\"},{\"attributes\":{},\"id\":\"1507\",\"type\":\"BasicTickFormatter\"},{\"attributes\":{\"color_mapper\":{\"id\":\"1134\"},\"dh\":{\"value\":8},\"dw\":{\"value\":8},\"global_alpha\":{\"value\":0.2},\"image\":{\"field\":\"image\"},\"x\":{\"value\":0},\"y\":{\"value\":0}},\"id\":\"1133\",\"type\":\"Image\"},{\"attributes\":{},\"id\":\"1508\",\"type\":\"AllLabels\"},{\"attributes\":{\"palette\":[\"#000000\",\"#252525\",\"#525252\",\"#737373\",\"#969696\",\"#bdbdbd\",\"#d9d9d9\",\"#f0f0f0\",\"#ffffff\"]},\"id\":\"1131\",\"type\":\"LinearColorMapper\"},{\"attributes\":{\"color_mapper\":{\"id\":\"1131\"},\"dh\":{\"value\":8},\"dw\":{\"value\":8},\"global_alpha\":{\"value\":0.1},\"image\":{\"field\":\"image\"},\"x\":{\"value\":0},\"y\":{\"value\":0}},\"id\":\"1130\",\"type\":\"Image\"},{\"attributes\":{},\"id\":\"1157\",\"type\":\"PanTool\"},{\"attributes\":{},\"id\":\"1510\",\"type\":\"BasicTickFormatter\"},{\"attributes\":{\"palette\":[\"#000000\",\"#252525\",\"#525252\",\"#737373\",\"#969696\",\"#bdbdbd\",\"#d9d9d9\",\"#f0f0f0\",\"#ffffff\"]},\"id\":\"1134\",\"type\":\"LinearColorMapper\"},{\"attributes\":{\"overlay\":{\"id\":\"1163\"}},\"id\":\"1159\",\"type\":\"BoxZoomTool\"},{\"attributes\":{},\"id\":\"1511\",\"type\":\"AllLabels\"},{\"attributes\":{},\"id\":\"1147\",\"type\":\"LinearScale\"},{\"attributes\":{\"color_mapper\":{\"id\":\"1173\"},\"dh\":{\"value\":8},\"dw\":{\"value\":8},\"image\":{\"field\":\"image\"},\"x\":{\"value\":0},\"y\":{\"value\":0}},\"id\":\"1172\",\"type\":\"Image\"},{\"attributes\":{\"color_mapper\":{\"id\":\"1128\"},\"dh\":{\"value\":8},\"dw\":{\"value\":8},\"image\":{\"field\":\"image\"},\"x\":{\"value\":0},\"y\":{\"value\":0}},\"id\":\"1127\",\"type\":\"Image\"},{\"attributes\":{},\"id\":\"1143\",\"type\":\"DataRange1d\"},{\"attributes\":{\"coordinates\":null,\"group\":null,\"text\":\"Label: 9\"},\"id\":\"1139\",\"type\":\"Title\"},{\"attributes\":{},\"id\":\"1158\",\"type\":\"WheelZoomTool\"},{\"attributes\":{\"tools\":[{\"id\":\"1112\"},{\"id\":\"1113\"},{\"id\":\"1114\"},{\"id\":\"1115\"},{\"id\":\"1116\"},{\"id\":\"1117\"}]},\"id\":\"1119\",\"type\":\"Toolbar\"},{\"attributes\":{\"overlay\":{\"id\":\"1343\"}},\"id\":\"1339\",\"type\":\"BoxZoomTool\"},{\"attributes\":{},\"id\":\"1340\",\"type\":\"SaveTool\"},{\"attributes\":{},\"id\":\"1342\",\"type\":\"HelpTool\"},{\"attributes\":{},\"id\":\"1341\",\"type\":\"ResetTool\"},{\"attributes\":{},\"id\":\"1368\",\"type\":\"DataRange1d\"},{\"attributes\":{\"color_mapper\":{\"id\":\"1398\"},\"dh\":{\"value\":8},\"dw\":{\"value\":8},\"image\":{\"field\":\"image\"},\"x\":{\"value\":0},\"y\":{\"value\":0}},\"id\":\"1397\",\"type\":\"Image\"},{\"attributes\":{\"color_mapper\":{\"id\":\"1356\"},\"dh\":{\"value\":8},\"dw\":{\"value\":8},\"global_alpha\":{\"value\":0.1},\"image\":{\"field\":\"image\"},\"x\":{\"value\":0},\"y\":{\"value\":0}},\"id\":\"1355\",\"type\":\"Image\"},{\"attributes\":{\"palette\":[\"#000000\",\"#252525\",\"#525252\",\"#737373\",\"#969696\",\"#bdbdbd\",\"#d9d9d9\",\"#f0f0f0\",\"#ffffff\"]},\"id\":\"1356\",\"type\":\"LinearColorMapper\"},{\"attributes\":{\"color_mapper\":{\"id\":\"1359\"},\"dh\":{\"value\":8},\"dw\":{\"value\":8},\"global_alpha\":{\"value\":0.2},\"image\":{\"field\":\"image\"},\"x\":{\"value\":0},\"y\":{\"value\":0}},\"id\":\"1358\",\"type\":\"Image\"},{\"attributes\":{\"palette\":[\"#000000\",\"#252525\",\"#525252\",\"#737373\",\"#969696\",\"#bdbdbd\",\"#d9d9d9\",\"#f0f0f0\",\"#ffffff\"]},\"id\":\"1359\",\"type\":\"LinearColorMapper\"},{\"attributes\":{\"palette\":[\"#000000\",\"#252525\",\"#525252\",\"#737373\",\"#969696\",\"#bdbdbd\",\"#d9d9d9\",\"#f0f0f0\",\"#ffffff\"]},\"id\":\"1353\",\"type\":\"LinearColorMapper\"},{\"attributes\":{\"coordinates\":null,\"data_source\":{\"id\":\"1351\"},\"glyph\":{\"id\":\"1352\"},\"group\":null,\"hover_glyph\":null,\"muted_glyph\":{\"id\":\"1358\"},\"nonselection_glyph\":{\"id\":\"1355\"},\"view\":{\"id\":\"1362\"}},\"id\":\"1361\",\"type\":\"GlyphRenderer\"},{\"attributes\":{\"source\":{\"id\":\"1351\"}},\"id\":\"1362\",\"type\":\"CDSView\"},{\"attributes\":{},\"id\":\"1366\",\"type\":\"DataRange1d\"},{\"attributes\":{},\"id\":\"1370\",\"type\":\"LinearScale\"},{\"attributes\":{},\"id\":\"1387\",\"type\":\"HelpTool\"},{\"attributes\":{},\"id\":\"1375\",\"type\":\"BasicTicker\"},{\"attributes\":{\"coordinates\":null,\"formatter\":{\"id\":\"1516\"},\"group\":null,\"major_label_policy\":{\"id\":\"1517\"},\"ticker\":{\"id\":\"1375\"},\"visible\":false},\"id\":\"1374\",\"type\":\"LinearAxis\"},{\"attributes\":{\"coordinates\":null,\"group\":null,\"text\":\"Label: 4\"},\"id\":\"1364\",\"type\":\"Title\"},{\"attributes\":{\"coordinates\":null,\"formatter\":{\"id\":\"1513\"},\"group\":null,\"major_label_policy\":{\"id\":\"1514\"},\"ticker\":{\"id\":\"1379\"},\"visible\":false},\"id\":\"1378\",\"type\":\"LinearAxis\"},{\"attributes\":{},\"id\":\"1372\",\"type\":\"LinearScale\"},{\"attributes\":{\"axis\":{\"id\":\"1374\"},\"coordinates\":null,\"group\":null,\"ticker\":null,\"visible\":false},\"id\":\"1377\",\"type\":\"Grid\"},{\"attributes\":{\"tools\":[{\"id\":\"1427\"},{\"id\":\"1428\"},{\"id\":\"1429\"},{\"id\":\"1430\"},{\"id\":\"1431\"},{\"id\":\"1432\"}]},\"id\":\"1434\",\"type\":\"Toolbar\"},{\"attributes\":{\"below\":[{\"id\":\"1374\"}],\"center\":[{\"id\":\"1377\"},{\"id\":\"1381\"}],\"height\":80,\"left\":[{\"id\":\"1378\"}],\"match_aspect\":true,\"renderers\":[{\"id\":\"1406\"}],\"title\":{\"id\":\"1364\"},\"toolbar\":{\"id\":\"1389\"},\"toolbar_location\":null,\"width\":80,\"x_range\":{\"id\":\"1366\"},\"x_scale\":{\"id\":\"1370\"},\"y_range\":{\"id\":\"1368\"},\"y_scale\":{\"id\":\"1372\"}},\"id\":\"1363\",\"subtype\":\"Figure\",\"type\":\"Plot\"},{\"attributes\":{\"color_mapper\":{\"id\":\"1443\"},\"dh\":{\"value\":8},\"dw\":{\"value\":8},\"image\":{\"field\":\"image\"},\"x\":{\"value\":0},\"y\":{\"value\":0}},\"id\":\"1442\",\"type\":\"Image\"},{\"attributes\":{\"data\":{\"image\":[{\"__ndarray__\":\"AAAAAAAAAIAAAAAAAAAAgAAAAAAAABTAAAAAAAAALsAAAAAAAAAQwAAAAAAAAACAAAAAAAAAAIAAAAAAAAAAgAAAAAAAAACAAAAAAAAAAIAAAAAAAAAQwAAAAAAAADDAAAAAAAAAIMAAAAAAAAAAgAAAAAAAAACAAAAAAAAAAIAAAAAAAAAAgAAAAAAAAAjAAAAAAAAAJsAAAAAAAAAwwAAAAAAAACbAAAAAAAAAAMAAAAAAAAAAgAAAAAAAAACAAAAAAAAAAIAAAAAAAAAkwAAAAAAAADDAAAAAAAAALMAAAAAAAAAwwAAAAAAAADDAAAAAAAAAIsAAAAAAAAAAgAAAAAAAAACAAAAAAAAAIMAAAAAAAAAwwAAAAAAAACDAAAAAAAAAMMAAAAAAAAAiwAAAAAAAABTAAAAAAAAAAIAAAAAAAAAAgAAAAAAAABDAAAAAAAAAMMAAAAAAAAAUwAAAAAAAADDAAAAAAAAAHMAAAAAAAAAAgAAAAAAAAACAAAAAAAAAAIAAAAAAAADwvwAAAAAAACzAAAAAAAAAKsAAAAAAAAAQwAAAAAAAAACAAAAAAAAAAIAAAAAAAAAAgAAAAAAAAACAAAAAAAAAAIAAAAAAAAAIwAAAAAAAAC7AAAAAAAAAGMAAAAAAAAAAgAAAAAAAAACAAAAAAAAAAIA=\",\"dtype\":\"float64\",\"order\":\"little\",\"shape\":[8,8]}]},\"selected\":{\"id\":\"1546\"},\"selection_policy\":{\"id\":\"1545\"}},\"id\":\"1351\",\"type\":\"ColumnDataSource\"},{\"attributes\":{\"axis\":{\"id\":\"1378\"},\"coordinates\":null,\"dimension\":1,\"group\":null,\"ticker\":null,\"visible\":false},\"id\":\"1381\",\"type\":\"Grid\"},{\"attributes\":{},\"id\":\"1379\",\"type\":\"BasicTicker\"},{\"attributes\":{\"below\":[{\"id\":\"1014\"}],\"center\":[{\"id\":\"1017\"},{\"id\":\"1021\"}],\"height\":80,\"left\":[{\"id\":\"1018\"}],\"match_aspect\":true,\"renderers\":[{\"id\":\"1046\"}],\"title\":{\"id\":\"1004\"},\"toolbar\":{\"id\":\"1029\"},\"toolbar_location\":null,\"width\":80,\"x_range\":{\"id\":\"1006\"},\"x_scale\":{\"id\":\"1010\"},\"y_range\":{\"id\":\"1008\"},\"y_scale\":{\"id\":\"1012\"}},\"id\":\"1003\",\"subtype\":\"Figure\",\"type\":\"Plot\"},{\"attributes\":{},\"id\":\"1383\",\"type\":\"WheelZoomTool\"},{\"attributes\":{\"tools\":[{\"id\":\"1382\"},{\"id\":\"1383\"},{\"id\":\"1384\"},{\"id\":\"1385\"},{\"id\":\"1386\"},{\"id\":\"1387\"}]},\"id\":\"1389\",\"type\":\"Toolbar\"},{\"attributes\":{\"bottom_units\":\"screen\",\"coordinates\":null,\"fill_alpha\":0.5,\"fill_color\":\"lightgrey\",\"group\":null,\"left_units\":\"screen\",\"level\":\"overlay\",\"line_alpha\":1.0,\"line_color\":\"black\",\"line_dash\":[4,4],\"line_width\":2,\"right_units\":\"screen\",\"syncable\":false,\"top_units\":\"screen\"},\"id\":\"1388\",\"type\":\"BoxAnnotation\"},{\"attributes\":{\"tools\":[{\"id\":\"1157\"},{\"id\":\"1158\"},{\"id\":\"1159\"},{\"id\":\"1160\"},{\"id\":\"1161\"},{\"id\":\"1162\"}]},\"id\":\"1164\",\"type\":\"Toolbar\"},{\"attributes\":{},\"id\":\"1382\",\"type\":\"PanTool\"},{\"attributes\":{\"bottom_units\":\"screen\",\"coordinates\":null,\"fill_alpha\":0.5,\"fill_color\":\"lightgrey\",\"group\":null,\"left_units\":\"screen\",\"level\":\"overlay\",\"line_alpha\":1.0,\"line_color\":\"black\",\"line_dash\":[4,4],\"line_width\":2,\"right_units\":\"screen\",\"syncable\":false,\"top_units\":\"screen\"},\"id\":\"1073\",\"type\":\"BoxAnnotation\"},{\"attributes\":{\"color_mapper\":{\"id\":\"1083\"},\"dh\":{\"value\":8},\"dw\":{\"value\":8},\"image\":{\"field\":\"image\"},\"x\":{\"value\":0},\"y\":{\"value\":0}},\"id\":\"1082\",\"type\":\"Image\"},{\"attributes\":{},\"id\":\"1386\",\"type\":\"ResetTool\"},{\"attributes\":{},\"id\":\"1385\",\"type\":\"SaveTool\"},{\"attributes\":{\"overlay\":{\"id\":\"1388\"}},\"id\":\"1384\",\"type\":\"BoxZoomTool\"},{\"attributes\":{\"below\":[{\"id\":\"1059\"}],\"center\":[{\"id\":\"1062\"},{\"id\":\"1066\"}],\"height\":80,\"left\":[{\"id\":\"1063\"}],\"match_aspect\":true,\"renderers\":[{\"id\":\"1091\"}],\"title\":{\"id\":\"1049\"},\"toolbar\":{\"id\":\"1074\"},\"toolbar_location\":null,\"width\":80,\"x_range\":{\"id\":\"1051\"},\"x_scale\":{\"id\":\"1055\"},\"y_range\":{\"id\":\"1053\"},\"y_scale\":{\"id\":\"1057\"}},\"id\":\"1048\",\"subtype\":\"Figure\",\"type\":\"Plot\"},{\"attributes\":{\"color_mapper\":{\"id\":\"1041\"},\"dh\":{\"value\":8},\"dw\":{\"value\":8},\"global_alpha\":{\"value\":0.1},\"image\":{\"field\":\"image\"},\"x\":{\"value\":0},\"y\":{\"value\":0}},\"id\":\"1040\",\"type\":\"Image\"},{\"attributes\":{\"palette\":[\"#000000\",\"#252525\",\"#525252\",\"#737373\",\"#969696\",\"#bdbdbd\",\"#d9d9d9\",\"#f0f0f0\",\"#ffffff\"]},\"id\":\"1041\",\"type\":\"LinearColorMapper\"},{\"attributes\":{\"coordinates\":null,\"formatter\":{\"id\":\"1471\"},\"group\":null,\"major_label_policy\":{\"id\":\"1472\"},\"ticker\":{\"id\":\"1064\"},\"visible\":false},\"id\":\"1063\",\"type\":\"LinearAxis\"},{\"attributes\":{\"color_mapper\":{\"id\":\"1086\"},\"dh\":{\"value\":8},\"dw\":{\"value\":8},\"global_alpha\":{\"value\":0.1},\"image\":{\"field\":\"image\"},\"x\":{\"value\":0},\"y\":{\"value\":0}},\"id\":\"1085\",\"type\":\"Image\"},{\"attributes\":{},\"id\":\"1053\",\"type\":\"DataRange1d\"},{\"attributes\":{\"color_mapper\":{\"id\":\"1044\"},\"dh\":{\"value\":8},\"dw\":{\"value\":8},\"global_alpha\":{\"value\":0.2},\"image\":{\"field\":\"image\"},\"x\":{\"value\":0},\"y\":{\"value\":0}},\"id\":\"1043\",\"type\":\"Image\"},{\"attributes\":{},\"id\":\"1527\",\"type\":\"UnionRenderers\"},{\"attributes\":{\"palette\":[\"#000000\",\"#252525\",\"#525252\",\"#737373\",\"#969696\",\"#bdbdbd\",\"#d9d9d9\",\"#f0f0f0\",\"#ffffff\"]},\"id\":\"1044\",\"type\":\"LinearColorMapper\"},{\"attributes\":{\"coordinates\":null,\"data_source\":{\"id\":\"1036\"},\"glyph\":{\"id\":\"1037\"},\"group\":null,\"hover_glyph\":null,\"muted_glyph\":{\"id\":\"1043\"},\"nonselection_glyph\":{\"id\":\"1040\"},\"view\":{\"id\":\"1047\"}},\"id\":\"1046\",\"type\":\"GlyphRenderer\"},{\"attributes\":{},\"id\":\"1528\",\"type\":\"Selection\"},{\"attributes\":{\"source\":{\"id\":\"1036\"}},\"id\":\"1047\",\"type\":\"CDSView\"},{\"attributes\":{},\"id\":\"1051\",\"type\":\"DataRange1d\"},{\"attributes\":{},\"id\":\"1055\",\"type\":\"LinearScale\"},{\"attributes\":{},\"id\":\"1064\",\"type\":\"BasicTicker\"},{\"attributes\":{},\"id\":\"1060\",\"type\":\"BasicTicker\"},{\"attributes\":{\"coordinates\":null,\"formatter\":{\"id\":\"1474\"},\"group\":null,\"major_label_policy\":{\"id\":\"1475\"},\"ticker\":{\"id\":\"1060\"},\"visible\":false},\"id\":\"1059\",\"type\":\"LinearAxis\"},{\"attributes\":{\"coordinates\":null,\"group\":null,\"text\":\"Label: 3\"},\"id\":\"1049\",\"type\":\"Title\"},{\"attributes\":{\"axis\":{\"id\":\"1063\"},\"coordinates\":null,\"dimension\":1,\"group\":null,\"ticker\":null,\"visible\":false},\"id\":\"1066\",\"type\":\"Grid\"},{\"attributes\":{},\"id\":\"1057\",\"type\":\"LinearScale\"},{\"attributes\":{\"axis\":{\"id\":\"1059\"},\"coordinates\":null,\"group\":null,\"ticker\":null,\"visible\":false},\"id\":\"1062\",\"type\":\"Grid\"},{\"attributes\":{\"tools\":[{\"id\":\"1067\"},{\"id\":\"1068\"},{\"id\":\"1069\"},{\"id\":\"1070\"},{\"id\":\"1071\"},{\"id\":\"1072\"}]},\"id\":\"1074\",\"type\":\"Toolbar\"},{\"attributes\":{},\"id\":\"1068\",\"type\":\"WheelZoomTool\"},{\"attributes\":{},\"id\":\"1067\",\"type\":\"PanTool\"},{\"attributes\":{\"overlay\":{\"id\":\"1073\"}},\"id\":\"1069\",\"type\":\"BoxZoomTool\"},{\"attributes\":{\"palette\":[\"#000000\",\"#252525\",\"#525252\",\"#737373\",\"#969696\",\"#bdbdbd\",\"#d9d9d9\",\"#f0f0f0\",\"#ffffff\"]},\"id\":\"1086\",\"type\":\"LinearColorMapper\"},{\"attributes\":{},\"id\":\"1070\",\"type\":\"SaveTool\"},{\"attributes\":{},\"id\":\"1071\",\"type\":\"ResetTool\"},{\"attributes\":{\"palette\":[\"#000000\",\"#252525\",\"#525252\",\"#737373\",\"#969696\",\"#bdbdbd\",\"#d9d9d9\",\"#f0f0f0\",\"#ffffff\"]},\"id\":\"1083\",\"type\":\"LinearColorMapper\"},{\"attributes\":{\"data\":{\"image\":[{\"__ndarray__\":\"AAAAAAAAAIAAAAAAAAAAgAAAAAAAACTAAAAAAAAAMMAAAAAAAAAmwAAAAAAAABDAAAAAAAAAAIAAAAAAAAAAgAAAAAAAAACAAAAAAAAAAIAAAAAAAAAIwAAAAAAAABTAAAAAAAAALMAAAAAAAAAuwAAAAAAAAACAAAAAAAAAAIAAAAAAAAAAgAAAAAAAAACAAAAAAAAAAIAAAAAAAAAmwAAAAAAAADDAAAAAAAAAIMAAAAAAAAAAgAAAAAAAAACAAAAAAAAAAIAAAAAAAAAAgAAAAAAAACrAAAAAAAAAMMAAAAAAAAAgwAAAAAAAAACAAAAAAAAAAIAAAAAAAAAAgAAAAAAAAACAAAAAAAAAAIAAAAAAAAAUwAAAAAAAACrAAAAAAAAAKsAAAAAAAAAIwAAAAAAAAACAAAAAAAAAAIAAAAAAAAAAgAAAAAAAAACAAAAAAAAAAIAAAAAAAAAAgAAAAAAAACLAAAAAAAAAMMAAAAAAAAAQwAAAAAAAAACAAAAAAAAAAIAAAAAAAAAAgAAAAAAAABzAAAAAAAAAIMAAAAAAAAAkwAAAAAAAADDAAAAAAAAAIsAAAAAAAAAAgAAAAAAAAACAAAAAAAAA8L8AAAAAAAAiwAAAAAAAADDAAAAAAAAAMMAAAAAAAAAowAAAAAAAAPC/AAAAAAAAAIA=\",\"dtype\":\"float64\",\"order\":\"little\",\"shape\":[8,8]}]},\"selected\":{\"id\":\"1528\"},\"selection_policy\":{\"id\":\"1527\"}},\"id\":\"1081\",\"type\":\"ColumnDataSource\"},{\"attributes\":{},\"id\":\"1530\",\"type\":\"UnionRenderers\"},{\"attributes\":{},\"id\":\"1531\",\"type\":\"Selection\"},{\"attributes\":{},\"id\":\"1160\",\"type\":\"SaveTool\"},{\"attributes\":{},\"id\":\"1161\",\"type\":\"ResetTool\"},{\"attributes\":{},\"id\":\"1162\",\"type\":\"HelpTool\"},{\"attributes\":{},\"id\":\"1072\",\"type\":\"HelpTool\"},{\"attributes\":{\"color_mapper\":{\"id\":\"1089\"},\"dh\":{\"value\":8},\"dw\":{\"value\":8},\"global_alpha\":{\"value\":0.2},\"image\":{\"field\":\"image\"},\"x\":{\"value\":0},\"y\":{\"value\":0}},\"id\":\"1088\",\"type\":\"Image\"},{\"attributes\":{\"data\":{\"image\":[{\"__ndarray__\":\"AAAAAAAAAIAAAAAAAADwvwAAAAAAACbAAAAAAAAAKMAAAAAAAAAswAAAAAAAACLAAAAAAAAAAIAAAAAAAAAAgAAAAAAAAACAAAAAAAAACMAAAAAAAAAwwAAAAAAAACDAAAAAAAAAIsAAAAAAAAAwwAAAAAAAABjAAAAAAAAAAIAAAAAAAAAAgAAAAAAAAACAAAAAAAAAAIAAAAAAAAAAgAAAAAAAAACAAAAAAAAALsAAAAAAAAAcwAAAAAAAAACAAAAAAAAAAIAAAAAAAAAAgAAAAAAAABDAAAAAAAAAKMAAAAAAAAAowAAAAAAAADDAAAAAAAAACMAAAAAAAAAAgAAAAAAAAACAAAAAAAAAAIAAAAAAAAAIwAAAAAAAAC7AAAAAAAAALsAAAAAAAAAcwAAAAAAAAACAAAAAAAAAAIAAAAAAAAAAgAAAAAAAABTAAAAAAAAAAMAAAAAAAAAcwAAAAAAAACzAAAAAAAAAAIAAAAAAAAAAgAAAAAAAAACAAAAAAAAAAIAAAAAAAAAowAAAAAAAACjAAAAAAAAAKMAAAAAAAAAuwAAAAAAAAACAAAAAAAAAAIAAAAAAAAAAgAAAAAAAAACAAAAAAAAAAMAAAAAAAAAqwAAAAAAAADDAAAAAAAAAEMAAAAAAAAAAgAAAAAAAAACAAAAAAAAAAIA=\",\"dtype\":\"float64\",\"order\":\"little\",\"shape\":[8,8]}]},\"selected\":{\"id\":\"1525\"},\"selection_policy\":{\"id\":\"1524\"}},\"id\":\"1036\",\"type\":\"ColumnDataSource\"},{\"attributes\":{\"palette\":[\"#000000\",\"#252525\",\"#525252\",\"#737373\",\"#969696\",\"#bdbdbd\",\"#d9d9d9\",\"#f0f0f0\",\"#ffffff\"]},\"id\":\"1038\",\"type\":\"LinearColorMapper\"},{\"attributes\":{},\"id\":\"1513\",\"type\":\"BasicTickFormatter\"},{\"attributes\":{},\"id\":\"1514\",\"type\":\"AllLabels\"},{\"attributes\":{},\"id\":\"1489\",\"type\":\"BasicTickFormatter\"},{\"attributes\":{},\"id\":\"1516\",\"type\":\"BasicTickFormatter\"},{\"attributes\":{},\"id\":\"1465\",\"type\":\"BasicTickFormatter\"},{\"attributes\":{},\"id\":\"1490\",\"type\":\"AllLabels\"},{\"attributes\":{},\"id\":\"1517\",\"type\":\"AllLabels\"},{\"attributes\":{},\"id\":\"1466\",\"type\":\"AllLabels\"},{\"attributes\":{},\"id\":\"1492\",\"type\":\"BasicTickFormatter\"},{\"attributes\":{},\"id\":\"1468\",\"type\":\"BasicTickFormatter\"},{\"attributes\":{},\"id\":\"1493\",\"type\":\"AllLabels\"},{\"attributes\":{},\"id\":\"1469\",\"type\":\"AllLabels\"},{\"attributes\":{},\"id\":\"1519\",\"type\":\"BasicTickFormatter\"},{\"attributes\":{},\"id\":\"1520\",\"type\":\"AllLabels\"},{\"attributes\":{},\"id\":\"1495\",\"type\":\"BasicTickFormatter\"},{\"attributes\":{},\"id\":\"1522\",\"type\":\"BasicTickFormatter\"},{\"attributes\":{},\"id\":\"1471\",\"type\":\"BasicTickFormatter\"},{\"attributes\":{},\"id\":\"1496\",\"type\":\"AllLabels\"},{\"attributes\":{},\"id\":\"1523\",\"type\":\"AllLabels\"},{\"attributes\":{},\"id\":\"1472\",\"type\":\"AllLabels\"},{\"attributes\":{},\"id\":\"1498\",\"type\":\"BasicTickFormatter\"},{\"attributes\":{},\"id\":\"1474\",\"type\":\"BasicTickFormatter\"},{\"attributes\":{},\"id\":\"1499\",\"type\":\"AllLabels\"},{\"attributes\":{},\"id\":\"1475\",\"type\":\"AllLabels\"},{\"attributes\":{},\"id\":\"1524\",\"type\":\"UnionRenderers\"},{\"attributes\":{},\"id\":\"1525\",\"type\":\"Selection\"},{\"attributes\":{\"data\":{\"image\":[{\"__ndarray__\":\"AAAAAAAAAIAAAAAAAAAAgAAAAAAAAACAAAAAAAAAJsAAAAAAAAAuwAAAAAAAAACAAAAAAAAAAIAAAAAAAAAAgAAAAAAAAACAAAAAAAAAAIAAAAAAAAAQwAAAAAAAACLAAAAAAAAAMMAAAAAAAAAAgAAAAAAAAACAAAAAAAAAAIAAAAAAAAAAgAAAAAAAACbAAAAAAAAAMMAAAAAAAAAwwAAAAAAAADDAAAAAAAAA8L8AAAAAAAAAgAAAAAAAAACAAAAAAAAAAIAAAAAAAAAiwAAAAAAAACrAAAAAAAAAFMAAAAAAAAAuwAAAAAAAACrAAAAAAAAA8L8AAAAAAAAAgAAAAAAAAACAAAAAAAAAHMAAAAAAAAAswAAAAAAAAPC/AAAAAAAAHMAAAAAAAAAwwAAAAAAAACDAAAAAAAAAAIAAAAAAAAAAgAAAAAAAAACAAAAAAAAALsAAAAAAAAAcwAAAAAAAAACAAAAAAAAAKsAAAAAAAAAmwAAAAAAAAACAAAAAAAAAAIAAAAAAAAAAgAAAAAAAABDAAAAAAAAAMMAAAAAAAAAUwAAAAAAAAAjAAAAAAAAACMAAAAAAAAAAgAAAAAAAAACAAAAAAAAAAIAAAAAAAAAAgAAAAAAAACTAAAAAAAAAKMAAAAAAAAAAgAAAAAAAAACAAAAAAAAAAIA=\",\"dtype\":\"float64\",\"order\":\"little\",\"shape\":[8,8]}]},\"selected\":{\"id\":\"1537\"},\"selection_policy\":{\"id\":\"1536\"}},\"id\":\"1216\",\"type\":\"ColumnDataSource\"},{\"attributes\":{\"palette\":[\"#000000\",\"#252525\",\"#525252\",\"#737373\",\"#969696\",\"#bdbdbd\",\"#d9d9d9\",\"#f0f0f0\",\"#ffffff\"]},\"id\":\"1218\",\"type\":\"LinearColorMapper\"},{\"attributes\":{\"bottom_units\":\"screen\",\"coordinates\":null,\"fill_alpha\":0.5,\"fill_color\":\"lightgrey\",\"group\":null,\"left_units\":\"screen\",\"level\":\"overlay\",\"line_alpha\":1.0,\"line_color\":\"black\",\"line_dash\":[4,4],\"line_width\":2,\"right_units\":\"screen\",\"syncable\":false,\"top_units\":\"screen\"},\"id\":\"1208\",\"type\":\"BoxAnnotation\"},{\"attributes\":{\"coordinates\":null,\"data_source\":{\"id\":\"1261\"},\"glyph\":{\"id\":\"1262\"},\"group\":null,\"hover_glyph\":null,\"muted_glyph\":{\"id\":\"1268\"},\"nonselection_glyph\":{\"id\":\"1265\"},\"view\":{\"id\":\"1272\"}},\"id\":\"1271\",\"type\":\"GlyphRenderer\"},{\"attributes\":{\"tools\":[{\"id\":\"1202\"},{\"id\":\"1203\"},{\"id\":\"1204\"},{\"id\":\"1205\"},{\"id\":\"1206\"},{\"id\":\"1207\"}]},\"id\":\"1209\",\"type\":\"Toolbar\"},{\"attributes\":{\"color_mapper\":{\"id\":\"1218\"},\"dh\":{\"value\":8},\"dw\":{\"value\":8},\"image\":{\"field\":\"image\"},\"x\":{\"value\":0},\"y\":{\"value\":0}},\"id\":\"1217\",\"type\":\"Image\"},{\"attributes\":{},\"id\":\"1548\",\"type\":\"UnionRenderers\"},{\"attributes\":{},\"id\":\"1233\",\"type\":\"DataRange1d\"},{\"attributes\":{\"below\":[{\"id\":\"1239\"}],\"center\":[{\"id\":\"1242\"},{\"id\":\"1246\"}],\"height\":80,\"left\":[{\"id\":\"1243\"}],\"match_aspect\":true,\"renderers\":[{\"id\":\"1271\"}],\"title\":{\"id\":\"1229\"},\"toolbar\":{\"id\":\"1254\"},\"toolbar_location\":null,\"width\":80,\"x_range\":{\"id\":\"1231\"},\"x_scale\":{\"id\":\"1235\"},\"y_range\":{\"id\":\"1233\"},\"y_scale\":{\"id\":\"1237\"}},\"id\":\"1228\",\"subtype\":\"Figure\",\"type\":\"Plot\"},{\"attributes\":{\"below\":[{\"id\":\"1284\"}],\"center\":[{\"id\":\"1287\"},{\"id\":\"1291\"}],\"height\":80,\"left\":[{\"id\":\"1288\"}],\"match_aspect\":true,\"renderers\":[{\"id\":\"1316\"}],\"title\":{\"id\":\"1274\"},\"toolbar\":{\"id\":\"1299\"},\"toolbar_location\":null,\"width\":80,\"x_range\":{\"id\":\"1276\"},\"x_scale\":{\"id\":\"1280\"},\"y_range\":{\"id\":\"1278\"},\"y_scale\":{\"id\":\"1282\"}},\"id\":\"1273\",\"subtype\":\"Figure\",\"type\":\"Plot\"},{\"attributes\":{},\"id\":\"1549\",\"type\":\"Selection\"},{\"attributes\":{\"color_mapper\":{\"id\":\"1221\"},\"dh\":{\"value\":8},\"dw\":{\"value\":8},\"global_alpha\":{\"value\":0.1},\"image\":{\"field\":\"image\"},\"x\":{\"value\":0},\"y\":{\"value\":0}},\"id\":\"1220\",\"type\":\"Image\"},{\"attributes\":{\"palette\":[\"#000000\",\"#252525\",\"#525252\",\"#737373\",\"#969696\",\"#bdbdbd\",\"#d9d9d9\",\"#f0f0f0\",\"#ffffff\"]},\"id\":\"1221\",\"type\":\"LinearColorMapper\"},{\"attributes\":{\"color_mapper\":{\"id\":\"1224\"},\"dh\":{\"value\":8},\"dw\":{\"value\":8},\"global_alpha\":{\"value\":0.2},\"image\":{\"field\":\"image\"},\"x\":{\"value\":0},\"y\":{\"value\":0}},\"id\":\"1223\",\"type\":\"Image\"},{\"attributes\":{\"palette\":[\"#000000\",\"#252525\",\"#525252\",\"#737373\",\"#969696\",\"#bdbdbd\",\"#d9d9d9\",\"#f0f0f0\",\"#ffffff\"]},\"id\":\"1224\",\"type\":\"LinearColorMapper\"},{\"attributes\":{\"coordinates\":null,\"data_source\":{\"id\":\"1216\"},\"glyph\":{\"id\":\"1217\"},\"group\":null,\"hover_glyph\":null,\"muted_glyph\":{\"id\":\"1223\"},\"nonselection_glyph\":{\"id\":\"1220\"},\"view\":{\"id\":\"1227\"}},\"id\":\"1226\",\"type\":\"GlyphRenderer\"},{\"attributes\":{\"source\":{\"id\":\"1216\"}},\"id\":\"1227\",\"type\":\"CDSView\"},{\"attributes\":{},\"id\":\"1231\",\"type\":\"DataRange1d\"},{\"attributes\":{\"axis\":{\"id\":\"1243\"},\"coordinates\":null,\"dimension\":1,\"group\":null,\"ticker\":null,\"visible\":false},\"id\":\"1246\",\"type\":\"Grid\"},{\"attributes\":{},\"id\":\"1244\",\"type\":\"BasicTicker\"},{\"attributes\":{},\"id\":\"1235\",\"type\":\"LinearScale\"},{\"attributes\":{},\"id\":\"1240\",\"type\":\"BasicTicker\"},{\"attributes\":{\"coordinates\":null,\"formatter\":{\"id\":\"1498\"},\"group\":null,\"major_label_policy\":{\"id\":\"1499\"},\"ticker\":{\"id\":\"1240\"},\"visible\":false},\"id\":\"1239\",\"type\":\"LinearAxis\"},{\"attributes\":{\"coordinates\":null,\"group\":null,\"text\":\"Label: 4\"},\"id\":\"1229\",\"type\":\"Title\"},{\"attributes\":{},\"id\":\"1237\",\"type\":\"LinearScale\"},{\"attributes\":{\"color_mapper\":{\"id\":\"1308\"},\"dh\":{\"value\":8},\"dw\":{\"value\":8},\"image\":{\"field\":\"image\"},\"x\":{\"value\":0},\"y\":{\"value\":0}},\"id\":\"1307\",\"type\":\"Image\"},{\"attributes\":{},\"id\":\"1252\",\"type\":\"HelpTool\"},{\"attributes\":{\"color_mapper\":{\"id\":\"1269\"},\"dh\":{\"value\":8},\"dw\":{\"value\":8},\"global_alpha\":{\"value\":0.2},\"image\":{\"field\":\"image\"},\"x\":{\"value\":0},\"y\":{\"value\":0}},\"id\":\"1268\",\"type\":\"Image\"},{\"attributes\":{\"axis\":{\"id\":\"1239\"},\"coordinates\":null,\"group\":null,\"ticker\":null,\"visible\":false},\"id\":\"1242\",\"type\":\"Grid\"},{\"attributes\":{\"coordinates\":null,\"formatter\":{\"id\":\"1495\"},\"group\":null,\"major_label_policy\":{\"id\":\"1496\"},\"ticker\":{\"id\":\"1244\"},\"visible\":false},\"id\":\"1243\",\"type\":\"LinearAxis\"},{\"attributes\":{\"palette\":[\"#000000\",\"#252525\",\"#525252\",\"#737373\",\"#969696\",\"#bdbdbd\",\"#d9d9d9\",\"#f0f0f0\",\"#ffffff\"]},\"id\":\"1263\",\"type\":\"LinearColorMapper\"},{\"attributes\":{\"source\":{\"id\":\"1261\"}},\"id\":\"1272\",\"type\":\"CDSView\"},{\"attributes\":{},\"id\":\"1551\",\"type\":\"UnionRenderers\"},{\"attributes\":{\"data\":{\"image\":[{\"__ndarray__\":\"AAAAAAAAAIAAAAAAAAAAgAAAAAAAAACAAAAAAAAAKMAAAAAAAAAmwAAAAAAAAACAAAAAAAAAAIAAAAAAAAAAgAAAAAAAAACAAAAAAAAAAIAAAAAAAAAAgAAAAAAAABjAAAAAAAAAMMAAAAAAAAAAwAAAAAAAAACAAAAAAAAAAIAAAAAAAAAAgAAAAAAAAACAAAAAAAAAAIAAAAAAAAAAgAAAAAAAACrAAAAAAAAAJMAAAAAAAAAAgAAAAAAAAACAAAAAAAAAAIAAAAAAAAAYwAAAAAAAACjAAAAAAAAAJMAAAAAAAAAswAAAAAAAACzAAAAAAAAAAMAAAAAAAAAAgAAAAAAAAACAAAAAAAAAHMAAAAAAAAAwwAAAAAAAADDAAAAAAAAAMMAAAAAAAAAwwAAAAAAAACTAAAAAAAAAAIAAAAAAAAAAgAAAAAAAAPC/AAAAAAAAKsAAAAAAAAAowAAAAAAAABDAAAAAAAAAHMAAAAAAAAAuwAAAAAAAAAjAAAAAAAAAAIAAAAAAAAAAgAAAAAAAAAjAAAAAAAAALsAAAAAAAAAIwAAAAAAAAACAAAAAAAAALsAAAAAAAAAiwAAAAAAAAACAAAAAAAAAAIAAAAAAAAAAgAAAAAAAACLAAAAAAAAAKsAAAAAAAAAAgAAAAAAAABjAAAAAAAAAIMA=\",\"dtype\":\"float64\",\"order\":\"little\",\"shape\":[8,8]}]},\"selected\":{\"id\":\"1540\"},\"selection_policy\":{\"id\":\"1539\"}},\"id\":\"1261\",\"type\":\"ColumnDataSource\"},{\"attributes\":{\"palette\":[\"#000000\",\"#252525\",\"#525252\",\"#737373\",\"#969696\",\"#bdbdbd\",\"#d9d9d9\",\"#f0f0f0\",\"#ffffff\"]},\"id\":\"1269\",\"type\":\"LinearColorMapper\"},{\"attributes\":{},\"id\":\"1552\",\"type\":\"Selection\"},{\"attributes\":{},\"id\":\"1251\",\"type\":\"ResetTool\"},{\"attributes\":{\"tools\":[{\"id\":\"1022\"},{\"id\":\"1023\"},{\"id\":\"1024\"},{\"id\":\"1025\"},{\"id\":\"1026\"},{\"id\":\"1027\"}]},\"id\":\"1029\",\"type\":\"Toolbar\"},{\"attributes\":{\"color_mapper\":{\"id\":\"1266\"},\"dh\":{\"value\":8},\"dw\":{\"value\":8},\"global_alpha\":{\"value\":0.1},\"image\":{\"field\":\"image\"},\"x\":{\"value\":0},\"y\":{\"value\":0}},\"id\":\"1265\",\"type\":\"Image\"},{\"attributes\":{\"palette\":[\"#000000\",\"#252525\",\"#525252\",\"#737373\",\"#969696\",\"#bdbdbd\",\"#d9d9d9\",\"#f0f0f0\",\"#ffffff\"]},\"id\":\"1266\",\"type\":\"LinearColorMapper\"},{\"attributes\":{},\"id\":\"1248\",\"type\":\"WheelZoomTool\"},{\"attributes\":{},\"id\":\"1247\",\"type\":\"PanTool\"},{\"attributes\":{\"overlay\":{\"id\":\"1253\"}},\"id\":\"1249\",\"type\":\"BoxZoomTool\"},{\"attributes\":{},\"id\":\"1250\",\"type\":\"SaveTool\"},{\"attributes\":{\"axis\":{\"id\":\"1153\"},\"coordinates\":null,\"dimension\":1,\"group\":null,\"ticker\":null,\"visible\":false},\"id\":\"1156\",\"type\":\"Grid\"},{\"attributes\":{\"coordinates\":null,\"formatter\":{\"id\":\"1483\"},\"group\":null,\"major_label_policy\":{\"id\":\"1484\"},\"ticker\":{\"id\":\"1154\"},\"visible\":false},\"id\":\"1153\",\"type\":\"LinearAxis\"},{\"attributes\":{},\"id\":\"1154\",\"type\":\"BasicTicker\"},{\"attributes\":{},\"id\":\"1533\",\"type\":\"UnionRenderers\"},{\"attributes\":{\"bottom_units\":\"screen\",\"coordinates\":null,\"fill_alpha\":0.5,\"fill_color\":\"lightgrey\",\"group\":null,\"left_units\":\"screen\",\"level\":\"overlay\",\"line_alpha\":1.0,\"line_color\":\"black\",\"line_dash\":[4,4],\"line_width\":2,\"right_units\":\"screen\",\"syncable\":false,\"top_units\":\"screen\"},\"id\":\"1163\",\"type\":\"BoxAnnotation\"},{\"attributes\":{},\"id\":\"1534\",\"type\":\"Selection\"},{\"attributes\":{},\"id\":\"1477\",\"type\":\"BasicTickFormatter\"},{\"attributes\":{\"palette\":[\"#000000\",\"#252525\",\"#525252\",\"#737373\",\"#969696\",\"#bdbdbd\",\"#d9d9d9\",\"#f0f0f0\",\"#ffffff\"]},\"id\":\"1173\",\"type\":\"LinearColorMapper\"},{\"attributes\":{},\"id\":\"1478\",\"type\":\"AllLabels\"},{\"attributes\":{},\"id\":\"1480\",\"type\":\"BasicTickFormatter\"},{\"attributes\":{\"data\":{\"image\":[{\"__ndarray__\":\"AAAAAAAAAIAAAAAAAAAAgAAAAAAAAADAAAAAAAAAKMAAAAAAAAAwwAAAAAAAACzAAAAAAAAAAIAAAAAAAAAAgAAAAAAAAACAAAAAAAAAEMAAAAAAAAAswAAAAAAAACLAAAAAAAAAEMAAAAAAAAAwwAAAAAAAAACAAAAAAAAAAIAAAAAAAAAAgAAAAAAAACDAAAAAAAAA8L8AAAAAAAAAgAAAAAAAAACAAAAAAAAALsAAAAAAAAAAwAAAAAAAAACAAAAAAAAAAIAAAAAAAAAAgAAAAAAAAACAAAAAAAAAAIAAAAAAAAAAgAAAAAAAACjAAAAAAAAAIMAAAAAAAAAAgAAAAAAAAACAAAAAAAAAAIAAAAAAAAAYwAAAAAAAACTAAAAAAAAAKsAAAAAAAAAswAAAAAAAABTAAAAAAAAAAIAAAAAAAAAAgAAAAAAAAACAAAAAAAAAKMAAAAAAAAAiwAAAAAAAACLAAAAAAAAAMMAAAAAAAAAgwAAAAAAAAACAAAAAAAAAAIAAAAAAAAAAgAAAAAAAACbAAAAAAAAAKsAAAAAAAAAgwAAAAAAAADDAAAAAAAAAHMAAAAAAAAAAgAAAAAAAAACAAAAAAAAAAIAAAAAAAAAAwAAAAAAAACTAAAAAAAAAKsAAAAAAAAAowAAAAAAAAAjAAAAAAAAAAIA=\",\"dtype\":\"float64\",\"order\":\"little\",\"shape\":[8,8]}]},\"selected\":{\"id\":\"1534\"},\"selection_policy\":{\"id\":\"1533\"}},\"id\":\"1171\",\"type\":\"ColumnDataSource\"},{\"attributes\":{},\"id\":\"1481\",\"type\":\"AllLabels\"},{\"attributes\":{\"below\":[{\"id\":\"1194\"}],\"center\":[{\"id\":\"1197\"},{\"id\":\"1201\"}],\"height\":80,\"left\":[{\"id\":\"1198\"}],\"match_aspect\":true,\"renderers\":[{\"id\":\"1226\"}],\"title\":{\"id\":\"1184\"},\"toolbar\":{\"id\":\"1209\"},\"toolbar_location\":null,\"width\":80,\"x_range\":{\"id\":\"1186\"},\"x_scale\":{\"id\":\"1190\"},\"y_range\":{\"id\":\"1188\"},\"y_scale\":{\"id\":\"1192\"}},\"id\":\"1183\",\"subtype\":\"Figure\",\"type\":\"Plot\"},{\"attributes\":{},\"id\":\"1188\",\"type\":\"DataRange1d\"},{\"attributes\":{\"color_mapper\":{\"id\":\"1176\"},\"dh\":{\"value\":8},\"dw\":{\"value\":8},\"global_alpha\":{\"value\":0.1},\"image\":{\"field\":\"image\"},\"x\":{\"value\":0},\"y\":{\"value\":0}},\"id\":\"1175\",\"type\":\"Image\"},{\"attributes\":{\"palette\":[\"#000000\",\"#252525\",\"#525252\",\"#737373\",\"#969696\",\"#bdbdbd\",\"#d9d9d9\",\"#f0f0f0\",\"#ffffff\"]},\"id\":\"1176\",\"type\":\"LinearColorMapper\"},{\"attributes\":{},\"id\":\"1542\",\"type\":\"UnionRenderers\"},{\"attributes\":{\"color_mapper\":{\"id\":\"1179\"},\"dh\":{\"value\":8},\"dw\":{\"value\":8},\"global_alpha\":{\"value\":0.2},\"image\":{\"field\":\"image\"},\"x\":{\"value\":0},\"y\":{\"value\":0}},\"id\":\"1178\",\"type\":\"Image\"},{\"attributes\":{\"palette\":[\"#000000\",\"#252525\",\"#525252\",\"#737373\",\"#969696\",\"#bdbdbd\",\"#d9d9d9\",\"#f0f0f0\",\"#ffffff\"]},\"id\":\"1179\",\"type\":\"LinearColorMapper\"},{\"attributes\":{},\"id\":\"1543\",\"type\":\"Selection\"},{\"attributes\":{\"coordinates\":null,\"data_source\":{\"id\":\"1171\"},\"glyph\":{\"id\":\"1172\"},\"group\":null,\"hover_glyph\":null,\"muted_glyph\":{\"id\":\"1178\"},\"nonselection_glyph\":{\"id\":\"1175\"},\"view\":{\"id\":\"1182\"}},\"id\":\"1181\",\"type\":\"GlyphRenderer\"},{\"attributes\":{\"source\":{\"id\":\"1171\"}},\"id\":\"1182\",\"type\":\"CDSView\"},{\"attributes\":{},\"id\":\"1186\",\"type\":\"DataRange1d\"},{\"attributes\":{},\"id\":\"1190\",\"type\":\"LinearScale\"},{\"attributes\":{},\"id\":\"1207\",\"type\":\"HelpTool\"},{\"attributes\":{},\"id\":\"1195\",\"type\":\"BasicTicker\"},{\"attributes\":{},\"id\":\"1536\",\"type\":\"UnionRenderers\"},{\"attributes\":{\"coordinates\":null,\"formatter\":{\"id\":\"1492\"},\"group\":null,\"major_label_policy\":{\"id\":\"1493\"},\"ticker\":{\"id\":\"1195\"},\"visible\":false},\"id\":\"1194\",\"type\":\"LinearAxis\"},{\"attributes\":{},\"id\":\"1537\",\"type\":\"Selection\"},{\"attributes\":{\"coordinates\":null,\"group\":null,\"text\":\"Label: 4\"},\"id\":\"1184\",\"type\":\"Title\"},{\"attributes\":{},\"id\":\"1483\",\"type\":\"BasicTickFormatter\"},{\"attributes\":{\"coordinates\":null,\"formatter\":{\"id\":\"1489\"},\"group\":null,\"major_label_policy\":{\"id\":\"1490\"},\"ticker\":{\"id\":\"1199\"},\"visible\":false},\"id\":\"1198\",\"type\":\"LinearAxis\"},{\"attributes\":{},\"id\":\"1192\",\"type\":\"LinearScale\"},{\"attributes\":{},\"id\":\"1484\",\"type\":\"AllLabels\"},{\"attributes\":{\"tools\":[{\"id\":\"1247\"},{\"id\":\"1248\"},{\"id\":\"1249\"},{\"id\":\"1250\"},{\"id\":\"1251\"},{\"id\":\"1252\"}]},\"id\":\"1254\",\"type\":\"Toolbar\"},{\"attributes\":{},\"id\":\"1486\",\"type\":\"BasicTickFormatter\"},{\"attributes\":{},\"id\":\"1487\",\"type\":\"AllLabels\"},{\"attributes\":{\"axis\":{\"id\":\"1018\"},\"coordinates\":null,\"dimension\":1,\"group\":null,\"ticker\":null,\"visible\":false},\"id\":\"1021\",\"type\":\"Grid\"},{\"attributes\":{},\"id\":\"1545\",\"type\":\"UnionRenderers\"},{\"attributes\":{},\"id\":\"1015\",\"type\":\"BasicTicker\"},{\"attributes\":{\"coordinates\":null,\"group\":null,\"text\":\"Label: 3\"},\"id\":\"1004\",\"type\":\"Title\"},{\"attributes\":{\"axis\":{\"id\":\"1014\"},\"coordinates\":null,\"group\":null,\"ticker\":null,\"visible\":false},\"id\":\"1017\",\"type\":\"Grid\"},{\"attributes\":{},\"id\":\"1546\",\"type\":\"Selection\"},{\"attributes\":{\"coordinates\":null,\"formatter\":{\"id\":\"1468\"},\"group\":null,\"major_label_policy\":{\"id\":\"1469\"},\"ticker\":{\"id\":\"1015\"},\"visible\":false},\"id\":\"1014\",\"type\":\"LinearAxis\"},{\"attributes\":{},\"id\":\"1206\",\"type\":\"ResetTool\"},{\"attributes\":{},\"id\":\"1022\",\"type\":\"PanTool\"},{\"attributes\":{},\"id\":\"1205\",\"type\":\"SaveTool\"},{\"attributes\":{},\"id\":\"1012\",\"type\":\"LinearScale\"},{\"attributes\":{\"overlay\":{\"id\":\"1208\"}},\"id\":\"1204\",\"type\":\"BoxZoomTool\"},{\"attributes\":{\"coordinates\":null,\"formatter\":{\"id\":\"1465\"},\"group\":null,\"major_label_policy\":{\"id\":\"1466\"},\"ticker\":{\"id\":\"1019\"},\"visible\":false},\"id\":\"1018\",\"type\":\"LinearAxis\"},{\"attributes\":{},\"id\":\"1202\",\"type\":\"PanTool\"},{\"attributes\":{},\"id\":\"1019\",\"type\":\"BasicTicker\"},{\"attributes\":{},\"id\":\"1203\",\"type\":\"WheelZoomTool\"},{\"attributes\":{\"bottom_units\":\"screen\",\"coordinates\":null,\"fill_alpha\":0.5,\"fill_color\":\"lightgrey\",\"group\":null,\"left_units\":\"screen\",\"level\":\"overlay\",\"line_alpha\":1.0,\"line_color\":\"black\",\"line_dash\":[4,4],\"line_width\":2,\"right_units\":\"screen\",\"syncable\":false,\"top_units\":\"screen\"},\"id\":\"1253\",\"type\":\"BoxAnnotation\"},{\"attributes\":{},\"id\":\"1010\",\"type\":\"LinearScale\"},{\"attributes\":{\"color_mapper\":{\"id\":\"1263\"},\"dh\":{\"value\":8},\"dw\":{\"value\":8},\"image\":{\"field\":\"image\"},\"x\":{\"value\":0},\"y\":{\"value\":0}},\"id\":\"1262\",\"type\":\"Image\"},{\"attributes\":{},\"id\":\"1539\",\"type\":\"UnionRenderers\"},{\"attributes\":{},\"id\":\"1008\",\"type\":\"DataRange1d\"},{\"attributes\":{\"axis\":{\"id\":\"1194\"},\"coordinates\":null,\"group\":null,\"ticker\":null,\"visible\":false},\"id\":\"1197\",\"type\":\"Grid\"},{\"attributes\":{},\"id\":\"1540\",\"type\":\"Selection\"},{\"attributes\":{\"color_mapper\":{\"id\":\"1038\"},\"dh\":{\"value\":8},\"dw\":{\"value\":8},\"image\":{\"field\":\"image\"},\"x\":{\"value\":0},\"y\":{\"value\":0}},\"id\":\"1037\",\"type\":\"Image\"},{\"attributes\":{},\"id\":\"1199\",\"type\":\"BasicTicker\"},{\"attributes\":{\"axis\":{\"id\":\"1198\"},\"coordinates\":null,\"dimension\":1,\"group\":null,\"ticker\":null,\"visible\":false},\"id\":\"1201\",\"type\":\"Grid\"},{\"attributes\":{},\"id\":\"1006\",\"type\":\"DataRange1d\"},{\"attributes\":{},\"id\":\"1278\",\"type\":\"DataRange1d\"},{\"attributes\":{},\"id\":\"1276\",\"type\":\"DataRange1d\"},{\"attributes\":{},\"id\":\"1280\",\"type\":\"LinearScale\"},{\"attributes\":{},\"id\":\"1297\",\"type\":\"HelpTool\"},{\"attributes\":{},\"id\":\"1285\",\"type\":\"BasicTicker\"},{\"attributes\":{\"data\":{\"image\":[{\"__ndarray__\":\"AAAAAAAAAIAAAAAAAAAAgAAAAAAAAACAAAAAAAAAKMAAAAAAAAAmwAAAAAAAAACAAAAAAAAAAIAAAAAAAAAAgAAAAAAAAACAAAAAAAAAAIAAAAAAAAAAgAAAAAAAABjAAAAAAAAAMMAAAAAAAAAAwAAAAAAAAACAAAAAAAAAAIAAAAAAAAAAgAAAAAAAAACAAAAAAAAAAIAAAAAAAAAAgAAAAAAAACrAAAAAAAAAJMAAAAAAAAAAgAAAAAAAAACAAAAAAAAAAIAAAAAAAAAYwAAAAAAAACjAAAAAAAAAJMAAAAAAAAAswAAAAAAAACzAAAAAAAAAAMAAAAAAAAAAgAAAAAAAAACAAAAAAAAAHMAAAAAAAAAwwAAAAAAAADDAAAAAAAAAMMAAAAAAAAAwwAAAAAAAACTAAAAAAAAAAIAAAAAAAAAAgAAAAAAAAPC/AAAAAAAAKsAAAAAAAAAowAAAAAAAABDAAAAAAAAAHMAAAAAAAAAuwAAAAAAAAAjAAAAAAAAAAIAAAAAAAAAAgAAAAAAAAAjAAAAAAAAALsAAAAAAAAAIwAAAAAAAAACAAAAAAAAALsAAAAAAAAAiwAAAAAAAAACAAAAAAAAAAIAAAAAAAAAAgAAAAAAAACLAAAAAAAAAKsAAAAAAAAAAgAAAAAAAABjAAAAAAAAAIMA=\",\"dtype\":\"float64\",\"order\":\"little\",\"shape\":[8,8]}]},\"selected\":{\"id\":\"1549\"},\"selection_policy\":{\"id\":\"1548\"}},\"id\":\"1396\",\"type\":\"ColumnDataSource\"},{\"attributes\":{\"coordinates\":null,\"formatter\":{\"id\":\"1504\"},\"group\":null,\"major_label_policy\":{\"id\":\"1505\"},\"ticker\":{\"id\":\"1285\"},\"visible\":false},\"id\":\"1284\",\"type\":\"LinearAxis\"},{\"attributes\":{\"coordinates\":null,\"group\":null,\"text\":\"Label: 0\"},\"id\":\"1274\",\"type\":\"Title\"},{\"attributes\":{\"palette\":[\"#000000\",\"#252525\",\"#525252\",\"#737373\",\"#969696\",\"#bdbdbd\",\"#d9d9d9\",\"#f0f0f0\",\"#ffffff\"]},\"id\":\"1398\",\"type\":\"LinearColorMapper\"},{\"attributes\":{\"coordinates\":null,\"formatter\":{\"id\":\"1501\"},\"group\":null,\"major_label_policy\":{\"id\":\"1502\"},\"ticker\":{\"id\":\"1289\"},\"visible\":false},\"id\":\"1288\",\"type\":\"LinearAxis\"},{\"attributes\":{\"below\":[{\"id\":\"1419\"}],\"center\":[{\"id\":\"1422\"},{\"id\":\"1426\"}],\"height\":80,\"left\":[{\"id\":\"1423\"}],\"match_aspect\":true,\"renderers\":[{\"id\":\"1451\"}],\"title\":{\"id\":\"1409\"},\"toolbar\":{\"id\":\"1434\"},\"toolbar_location\":null,\"width\":80,\"x_range\":{\"id\":\"1411\"},\"x_scale\":{\"id\":\"1415\"},\"y_range\":{\"id\":\"1413\"},\"y_scale\":{\"id\":\"1417\"}},\"id\":\"1408\",\"subtype\":\"Figure\",\"type\":\"Plot\"},{\"attributes\":{},\"id\":\"1282\",\"type\":\"LinearScale\"},{\"attributes\":{\"axis\":{\"id\":\"1284\"},\"coordinates\":null,\"group\":null,\"ticker\":null,\"visible\":false},\"id\":\"1287\",\"type\":\"Grid\"},{\"attributes\":{},\"id\":\"1413\",\"type\":\"DataRange1d\"},{\"attributes\":{\"axis\":{\"id\":\"1288\"},\"coordinates\":null,\"dimension\":1,\"group\":null,\"ticker\":null,\"visible\":false},\"id\":\"1291\",\"type\":\"Grid\"},{\"attributes\":{},\"id\":\"1289\",\"type\":\"BasicTicker\"},{\"attributes\":{\"color_mapper\":{\"id\":\"1401\"},\"dh\":{\"value\":8},\"dw\":{\"value\":8},\"global_alpha\":{\"value\":0.1},\"image\":{\"field\":\"image\"},\"x\":{\"value\":0},\"y\":{\"value\":0}},\"id\":\"1400\",\"type\":\"Image\"},{\"attributes\":{\"palette\":[\"#000000\",\"#252525\",\"#525252\",\"#737373\",\"#969696\",\"#bdbdbd\",\"#d9d9d9\",\"#f0f0f0\",\"#ffffff\"]},\"id\":\"1401\",\"type\":\"LinearColorMapper\"},{\"attributes\":{\"color_mapper\":{\"id\":\"1404\"},\"dh\":{\"value\":8},\"dw\":{\"value\":8},\"global_alpha\":{\"value\":0.2},\"image\":{\"field\":\"image\"},\"x\":{\"value\":0},\"y\":{\"value\":0}},\"id\":\"1403\",\"type\":\"Image\"},{\"attributes\":{},\"id\":\"1293\",\"type\":\"WheelZoomTool\"},{\"attributes\":{},\"id\":\"1292\",\"type\":\"PanTool\"},{\"attributes\":{\"palette\":[\"#000000\",\"#252525\",\"#525252\",\"#737373\",\"#969696\",\"#bdbdbd\",\"#d9d9d9\",\"#f0f0f0\",\"#ffffff\"]},\"id\":\"1404\",\"type\":\"LinearColorMapper\"},{\"attributes\":{\"coordinates\":null,\"data_source\":{\"id\":\"1396\"},\"glyph\":{\"id\":\"1397\"},\"group\":null,\"hover_glyph\":null,\"muted_glyph\":{\"id\":\"1403\"},\"nonselection_glyph\":{\"id\":\"1400\"},\"view\":{\"id\":\"1407\"}},\"id\":\"1406\",\"type\":\"GlyphRenderer\"},{\"attributes\":{\"overlay\":{\"id\":\"1298\"}},\"id\":\"1294\",\"type\":\"BoxZoomTool\"},{\"attributes\":{},\"id\":\"1295\",\"type\":\"SaveTool\"},{\"attributes\":{\"source\":{\"id\":\"1396\"}},\"id\":\"1407\",\"type\":\"CDSView\"},{\"attributes\":{},\"id\":\"1411\",\"type\":\"DataRange1d\"},{\"attributes\":{},\"id\":\"1296\",\"type\":\"ResetTool\"},{\"attributes\":{},\"id\":\"1415\",\"type\":\"LinearScale\"},{\"attributes\":{},\"id\":\"1432\",\"type\":\"HelpTool\"},{\"attributes\":{},\"id\":\"1420\",\"type\":\"BasicTicker\"},{\"attributes\":{\"bottom_units\":\"screen\",\"coordinates\":null,\"fill_alpha\":0.5,\"fill_color\":\"lightgrey\",\"group\":null,\"left_units\":\"screen\",\"level\":\"overlay\",\"line_alpha\":1.0,\"line_color\":\"black\",\"line_dash\":[4,4],\"line_width\":2,\"right_units\":\"screen\",\"syncable\":false,\"top_units\":\"screen\"},\"id\":\"1298\",\"type\":\"BoxAnnotation\"},{\"attributes\":{\"coordinates\":null,\"formatter\":{\"id\":\"1522\"},\"group\":null,\"major_label_policy\":{\"id\":\"1523\"},\"ticker\":{\"id\":\"1420\"},\"visible\":false},\"id\":\"1419\",\"type\":\"LinearAxis\"},{\"attributes\":{\"coordinates\":null,\"group\":null,\"text\":\"Label: 0\"},\"id\":\"1409\",\"type\":\"Title\"},{\"attributes\":{\"palette\":[\"#000000\",\"#252525\",\"#525252\",\"#737373\",\"#969696\",\"#bdbdbd\",\"#d9d9d9\",\"#f0f0f0\",\"#ffffff\"]},\"id\":\"1308\",\"type\":\"LinearColorMapper\"},{\"attributes\":{\"coordinates\":null,\"formatter\":{\"id\":\"1510\"},\"group\":null,\"major_label_policy\":{\"id\":\"1511\"},\"ticker\":{\"id\":\"1330\"},\"visible\":false},\"id\":\"1329\",\"type\":\"LinearAxis\"},{\"attributes\":{\"coordinates\":null,\"formatter\":{\"id\":\"1519\"},\"group\":null,\"major_label_policy\":{\"id\":\"1520\"},\"ticker\":{\"id\":\"1424\"},\"visible\":false},\"id\":\"1423\",\"type\":\"LinearAxis\"},{\"attributes\":{},\"id\":\"1417\",\"type\":\"LinearScale\"},{\"attributes\":{},\"id\":\"1330\",\"type\":\"BasicTicker\"},{\"attributes\":{\"below\":[{\"id\":\"1329\"}],\"center\":[{\"id\":\"1332\"},{\"id\":\"1336\"}],\"height\":80,\"left\":[{\"id\":\"1333\"}],\"match_aspect\":true,\"renderers\":[{\"id\":\"1361\"}],\"title\":{\"id\":\"1319\"},\"toolbar\":{\"id\":\"1344\"},\"toolbar_location\":null,\"width\":80,\"x_range\":{\"id\":\"1321\"},\"x_scale\":{\"id\":\"1325\"},\"y_range\":{\"id\":\"1323\"},\"y_scale\":{\"id\":\"1327\"}},\"id\":\"1318\",\"subtype\":\"Figure\",\"type\":\"Plot\"},{\"attributes\":{\"axis\":{\"id\":\"1419\"},\"coordinates\":null,\"group\":null,\"ticker\":null,\"visible\":false},\"id\":\"1422\",\"type\":\"Grid\"},{\"attributes\":{\"overlay\":{\"id\":\"1028\"}},\"id\":\"1024\",\"type\":\"BoxZoomTool\"},{\"attributes\":{\"axis\":{\"id\":\"1423\"},\"coordinates\":null,\"dimension\":1,\"group\":null,\"ticker\":null,\"visible\":false},\"id\":\"1426\",\"type\":\"Grid\"},{\"attributes\":{},\"id\":\"1027\",\"type\":\"HelpTool\"},{\"attributes\":{},\"id\":\"1023\",\"type\":\"WheelZoomTool\"},{\"attributes\":{},\"id\":\"1424\",\"type\":\"BasicTicker\"},{\"attributes\":{},\"id\":\"1025\",\"type\":\"SaveTool\"},{\"attributes\":{},\"id\":\"1026\",\"type\":\"ResetTool\"},{\"attributes\":{},\"id\":\"1428\",\"type\":\"WheelZoomTool\"},{\"attributes\":{},\"id\":\"1427\",\"type\":\"PanTool\"},{\"attributes\":{\"overlay\":{\"id\":\"1433\"}},\"id\":\"1429\",\"type\":\"BoxZoomTool\"},{\"attributes\":{\"bottom_units\":\"screen\",\"coordinates\":null,\"fill_alpha\":0.5,\"fill_color\":\"lightgrey\",\"group\":null,\"left_units\":\"screen\",\"level\":\"overlay\",\"line_alpha\":1.0,\"line_color\":\"black\",\"line_dash\":[4,4],\"line_width\":2,\"right_units\":\"screen\",\"syncable\":false,\"top_units\":\"screen\"},\"id\":\"1028\",\"type\":\"BoxAnnotation\"},{\"attributes\":{\"coordinates\":null,\"group\":null,\"text\":\"Label: 4\"},\"id\":\"1319\",\"type\":\"Title\"},{\"attributes\":{},\"id\":\"1430\",\"type\":\"SaveTool\"},{\"attributes\":{\"coordinates\":null,\"formatter\":{\"id\":\"1507\"},\"group\":null,\"major_label_policy\":{\"id\":\"1508\"},\"ticker\":{\"id\":\"1334\"},\"visible\":false},\"id\":\"1333\",\"type\":\"LinearAxis\"},{\"attributes\":{},\"id\":\"1431\",\"type\":\"ResetTool\"},{\"attributes\":{},\"id\":\"1327\",\"type\":\"LinearScale\"},{\"attributes\":{\"bottom_units\":\"screen\",\"coordinates\":null,\"fill_alpha\":0.5,\"fill_color\":\"lightgrey\",\"group\":null,\"left_units\":\"screen\",\"level\":\"overlay\",\"line_alpha\":1.0,\"line_color\":\"black\",\"line_dash\":[4,4],\"line_width\":2,\"right_units\":\"screen\",\"syncable\":false,\"top_units\":\"screen\"},\"id\":\"1433\",\"type\":\"BoxAnnotation\"},{\"attributes\":{\"axis\":{\"id\":\"1329\"},\"coordinates\":null,\"group\":null,\"ticker\":null,\"visible\":false},\"id\":\"1332\",\"type\":\"Grid\"},{\"attributes\":{\"source\":{\"id\":\"1441\"}},\"id\":\"1452\",\"type\":\"CDSView\"},{\"attributes\":{},\"id\":\"1338\",\"type\":\"WheelZoomTool\"},{\"attributes\":{\"palette\":[\"#000000\",\"#252525\",\"#525252\",\"#737373\",\"#969696\",\"#bdbdbd\",\"#d9d9d9\",\"#f0f0f0\",\"#ffffff\"]},\"id\":\"1446\",\"type\":\"LinearColorMapper\"},{\"attributes\":{},\"id\":\"1325\",\"type\":\"LinearScale\"},{\"attributes\":{\"color_mapper\":{\"id\":\"1446\"},\"dh\":{\"value\":8},\"dw\":{\"value\":8},\"global_alpha\":{\"value\":0.1},\"image\":{\"field\":\"image\"},\"x\":{\"value\":0},\"y\":{\"value\":0}},\"id\":\"1445\",\"type\":\"Image\"},{\"attributes\":{},\"id\":\"1321\",\"type\":\"DataRange1d\"},{\"attributes\":{},\"id\":\"1337\",\"type\":\"PanTool\"},{\"attributes\":{\"tools\":[{\"id\":\"1337\"},{\"id\":\"1338\"},{\"id\":\"1339\"},{\"id\":\"1340\"},{\"id\":\"1341\"},{\"id\":\"1342\"}]},\"id\":\"1344\",\"type\":\"Toolbar\"},{\"attributes\":{\"source\":{\"id\":\"1306\"}},\"id\":\"1317\",\"type\":\"CDSView\"},{\"attributes\":{\"coordinates\":null,\"data_source\":{\"id\":\"1306\"},\"glyph\":{\"id\":\"1307\"},\"group\":null,\"hover_glyph\":null,\"muted_glyph\":{\"id\":\"1313\"},\"nonselection_glyph\":{\"id\":\"1310\"},\"view\":{\"id\":\"1317\"}},\"id\":\"1316\",\"type\":\"GlyphRenderer\"},{\"attributes\":{\"palette\":[\"#000000\",\"#252525\",\"#525252\",\"#737373\",\"#969696\",\"#bdbdbd\",\"#d9d9d9\",\"#f0f0f0\",\"#ffffff\"]},\"id\":\"1314\",\"type\":\"LinearColorMapper\"},{\"attributes\":{\"palette\":[\"#000000\",\"#252525\",\"#525252\",\"#737373\",\"#969696\",\"#bdbdbd\",\"#d9d9d9\",\"#f0f0f0\",\"#ffffff\"]},\"id\":\"1443\",\"type\":\"LinearColorMapper\"},{\"attributes\":{\"color_mapper\":{\"id\":\"1314\"},\"dh\":{\"value\":8},\"dw\":{\"value\":8},\"global_alpha\":{\"value\":0.2},\"image\":{\"field\":\"image\"},\"x\":{\"value\":0},\"y\":{\"value\":0}},\"id\":\"1313\",\"type\":\"Image\"},{\"attributes\":{\"data\":{\"image\":[{\"__ndarray__\":\"AAAAAAAAAIAAAAAAAAAAgAAAAAAAACDAAAAAAAAAMMAAAAAAAAAqwAAAAAAAABTAAAAAAAAAAIAAAAAAAAAAgAAAAAAAAACAAAAAAAAACMAAAAAAAAAwwAAAAAAAACzAAAAAAAAAKsAAAAAAAAAwwAAAAAAAAADAAAAAAAAAAIAAAAAAAAAAgAAAAAAAACDAAAAAAAAALMAAAAAAAAAAgAAAAAAAAACAAAAAAAAAJsAAAAAAAAAgwAAAAAAAAACAAAAAAAAAAIAAAAAAAAAgwAAAAAAAACjAAAAAAAAAAIAAAAAAAAAAgAAAAAAAACDAAAAAAAAAIMAAAAAAAAAAgAAAAAAAAACAAAAAAAAAIMAAAAAAAAAqwAAAAAAAAACAAAAAAAAAAIAAAAAAAAAkwAAAAAAAACDAAAAAAAAAAIAAAAAAAAAAgAAAAAAAABTAAAAAAAAAMMAAAAAAAAAAwAAAAAAAAPC/AAAAAAAALMAAAAAAAAAIwAAAAAAAAACAAAAAAAAAAIAAAAAAAAAIwAAAAAAAADDAAAAAAAAAKsAAAAAAAAAuwAAAAAAAACTAAAAAAAAAAIAAAAAAAAAAgAAAAAAAAACAAAAAAAAAAIAAAAAAAAAQwAAAAAAAACjAAAAAAAAAJMAAAAAAAADwvwAAAAAAAACAAAAAAAAAAIA=\",\"dtype\":\"float64\",\"order\":\"little\",\"shape\":[8,8]}]},\"selected\":{\"id\":\"1552\"},\"selection_policy\":{\"id\":\"1551\"}},\"id\":\"1441\",\"type\":\"ColumnDataSource\"},{\"attributes\":{\"color_mapper\":{\"id\":\"1449\"},\"dh\":{\"value\":8},\"dw\":{\"value\":8},\"global_alpha\":{\"value\":0.2},\"image\":{\"field\":\"image\"},\"x\":{\"value\":0},\"y\":{\"value\":0}},\"id\":\"1448\",\"type\":\"Image\"},{\"attributes\":{\"palette\":[\"#000000\",\"#252525\",\"#525252\",\"#737373\",\"#969696\",\"#bdbdbd\",\"#d9d9d9\",\"#f0f0f0\",\"#ffffff\"]},\"id\":\"1311\",\"type\":\"LinearColorMapper\"},{\"attributes\":{\"color_mapper\":{\"id\":\"1311\"},\"dh\":{\"value\":8},\"dw\":{\"value\":8},\"global_alpha\":{\"value\":0.1},\"image\":{\"field\":\"image\"},\"x\":{\"value\":0},\"y\":{\"value\":0}},\"id\":\"1310\",\"type\":\"Image\"},{\"attributes\":{\"palette\":[\"#000000\",\"#252525\",\"#525252\",\"#737373\",\"#969696\",\"#bdbdbd\",\"#d9d9d9\",\"#f0f0f0\",\"#ffffff\"]},\"id\":\"1449\",\"type\":\"LinearColorMapper\"},{\"attributes\":{\"coordinates\":null,\"data_source\":{\"id\":\"1441\"},\"glyph\":{\"id\":\"1442\"},\"group\":null,\"hover_glyph\":null,\"muted_glyph\":{\"id\":\"1448\"},\"nonselection_glyph\":{\"id\":\"1445\"},\"view\":{\"id\":\"1452\"}},\"id\":\"1451\",\"type\":\"GlyphRenderer\"},{\"attributes\":{\"tools\":[{\"id\":\"1292\"},{\"id\":\"1293\"},{\"id\":\"1294\"},{\"id\":\"1295\"},{\"id\":\"1296\"},{\"id\":\"1297\"}]},\"id\":\"1299\",\"type\":\"Toolbar\"},{\"attributes\":{\"axis\":{\"id\":\"1333\"},\"coordinates\":null,\"dimension\":1,\"group\":null,\"ticker\":null,\"visible\":false},\"id\":\"1336\",\"type\":\"Grid\"},{\"attributes\":{},\"id\":\"1334\",\"type\":\"BasicTicker\"},{\"attributes\":{\"bottom_units\":\"screen\",\"coordinates\":null,\"fill_alpha\":0.5,\"fill_color\":\"lightgrey\",\"group\":null,\"left_units\":\"screen\",\"level\":\"overlay\",\"line_alpha\":1.0,\"line_color\":\"black\",\"line_dash\":[4,4],\"line_width\":2,\"right_units\":\"screen\",\"syncable\":false,\"top_units\":\"screen\"},\"id\":\"1343\",\"type\":\"BoxAnnotation\"},{\"attributes\":{\"color_mapper\":{\"id\":\"1353\"},\"dh\":{\"value\":8},\"dw\":{\"value\":8},\"image\":{\"field\":\"image\"},\"x\":{\"value\":0},\"y\":{\"value\":0}},\"id\":\"1352\",\"type\":\"Image\"},{\"attributes\":{\"data\":{\"image\":[{\"__ndarray__\":\"AAAAAAAAAIAAAAAAAAAAgAAAAAAAABDAAAAAAAAAMMAAAAAAAAAowAAAAAAAAPC/AAAAAAAAAIAAAAAAAAAAgAAAAAAAAACAAAAAAAAAAIAAAAAAAAAqwAAAAAAAAADAAAAAAAAAGMAAAAAAAAAowAAAAAAAAACAAAAAAAAAAIAAAAAAAAAAgAAAAAAAAACAAAAAAAAAJMAAAAAAAAAAgAAAAAAAAACAAAAAAAAAJMAAAAAAAAAUwAAAAAAAAACAAAAAAAAAAIAAAAAAAAAUwAAAAAAAABDAAAAAAAAAAIAAAAAAAAAAgAAAAAAAACTAAAAAAAAAHMAAAAAAAAAAgAAAAAAAAACAAAAAAAAAFMAAAAAAAAAYwAAAAAAAAACAAAAAAAAA8L8AAAAAAAAwwAAAAAAAABjAAAAAAAAAAIAAAAAAAAAAgAAAAAAAABDAAAAAAAAAJsAAAAAAAAAAgAAAAAAAABzAAAAAAAAAMMAAAAAAAAAAgAAAAAAAAACAAAAAAAAAAIAAAAAAAAAAgAAAAAAAACjAAAAAAAAAGMAAAAAAAAAmwAAAAAAAACLAAAAAAAAAAIAAAAAAAAAAgAAAAAAAAACAAAAAAAAAAIAAAAAAAAAAwAAAAAAAACbAAAAAAAAALsAAAAAAAAAAwAAAAAAAAACAAAAAAAAAAIA=\",\"dtype\":\"float64\",\"order\":\"little\",\"shape\":[8,8]}]},\"selected\":{\"id\":\"1543\"},\"selection_policy\":{\"id\":\"1542\"}},\"id\":\"1306\",\"type\":\"ColumnDataSource\"},{\"attributes\":{},\"id\":\"1323\",\"type\":\"DataRange1d\"}],\"root_ids\":[\"1453\"]},\"title\":\"Bokeh Application\",\"version\":\"2.4.3\"}};\n",
       "  const render_items = [{\"docid\":\"0bea1e9f-8855-40d7-8c4e-1f0c2ae652e1\",\"root_ids\":[\"1453\"],\"roots\":{\"1453\":\"5d718054-0d74-4aa5-ac39-c76576767699\"}}];\n",
       "  root.Bokeh.embed.embed_items_notebook(docs_json, render_items);\n",
       "  }\n",
       "  if (root.Bokeh !== undefined) {\n",
       "    embed_document(root);\n",
       "  } else {\n",
       "    let attempts = 0;\n",
       "    const timer = setInterval(function(root) {\n",
       "      if (root.Bokeh !== undefined) {\n",
       "        clearInterval(timer);\n",
       "        embed_document(root);\n",
       "      } else {\n",
       "        attempts++;\n",
       "        if (attempts > 100) {\n",
       "          clearInterval(timer);\n",
       "          console.log(\"Bokeh: ERROR: Unable to run BokehJS code because BokehJS library is missing\");\n",
       "        }\n",
       "      }\n",
       "    }, 10, root)\n",
       "  }\n",
       "})(window);"
      ],
      "application/vnd.bokehjs_exec.v0+json": ""
     },
     "metadata": {
      "application/vnd.bokehjs_exec.v0+json": {
       "id": "1453"
      }
     },
     "output_type": "display_data"
    }
   ],
   "source": [
    "from sklearn import datasets\n",
    "\n",
    "data = datasets.load_digits()[\"data\"]\n",
    "labels = datasets.load_digits()[\"target\"]\n",
    "samples = rng.choice(list(range(data.shape[0])), size=10)\n",
    "\n",
    "\n",
    "def pic(samples):\n",
    "    \"\"\"Return renderings of data rows with indices from array samples\"\"\"\n",
    "    L = []\n",
    "    for i in samples:\n",
    "        p = figure(\n",
    "            height=80,\n",
    "            width=80,\n",
    "            match_aspect=True,\n",
    "            toolbar_location=None,\n",
    "            title=\"Label: {}\".format(labels[i]),\n",
    "        )\n",
    "        p.grid.visible = False\n",
    "        p.axis.visible = False\n",
    "        k0 = np.flip(-data[i, :].reshape(8, 8), axis=0)\n",
    "        p.image(image=[k0], x=0, y=0, dw=8, dh=8)\n",
    "        L.append(p)\n",
    "    x = row(L)\n",
    "    return x\n",
    "\n",
    "\n",
    "show(pic(samples))\n"
   ]
  },
  {
   "cell_type": "markdown",
   "metadata": {},
   "source": [
    "### The computation\n",
    "\n",
    "We add a column of ones to the data and we scale the data so it lies between 0 and 1 (the pixel values are between 0 and 10). This helps with numerical stability.\n",
    "\n",
    "We use a library routine `OneHotEncoder` to convert the labels into a one-hot array.\n"
   ]
  },
  {
   "cell_type": "code",
   "execution_count": 4,
   "metadata": {},
   "outputs": [],
   "source": [
    "data = np.concatenate([data, np.ones((data.shape[0], 1))], axis=1)\n",
    "# scale the data\n",
    "data = data / np.max(data)\n",
    "\n",
    "# Use sklearn to create a \"one-hot\" encoding of the labels\n",
    "\n",
    "E = OneHotEncoder()\n",
    "Y = E.fit_transform(labels.reshape(-1, 1)).toarray()\n"
   ]
  },
  {
   "cell_type": "code",
   "execution_count": 5,
   "metadata": {},
   "outputs": [],
   "source": [
    "## This is our main gradient descent routine. It also returns the sequence of computed likelihoods\n",
    "## that we can plot to observe how our algorithm is performing\n",
    "\n",
    "\n",
    "def descent(x, y, max_iter=1000, nu=0.001, M=None):\n",
    "    \"\"\"does gradient descent to maximum likelihood for data=x and labels (one-hot)=y\"\"\"\n",
    "    features = x.shape[1]\n",
    "    classes = y.shape[1]\n",
    "    likes = []\n",
    "    if M is None:\n",
    "        M = rng.normal(loc=0, scale=1, size=(features, classes))\n",
    "    for i in tqdm(range(max_iter)):\n",
    "        P = softmax(x @ M, axis=1)\n",
    "        grad = x.transpose() @ (P - y)\n",
    "        M = M - nu * grad\n",
    "        likes.append(-np.trace(y.transpose() @ np.log(P)))\n",
    "    return M, likes\n"
   ]
  },
  {
   "cell_type": "markdown",
   "metadata": {},
   "source": [
    "We call the descent algorithm with the data and the labels\n"
   ]
  },
  {
   "cell_type": "code",
   "execution_count": 6,
   "metadata": {},
   "outputs": [
    {
     "name": "stderr",
     "output_type": "stream",
     "text": [
      "100%|█████████████████████████████████████████████████████████████████████████████| 1000/1000 [00:00<00:00, 1559.37it/s]\n"
     ]
    }
   ],
   "source": [
    "M, L = descent(data, Y)\n"
   ]
  },
  {
   "cell_type": "markdown",
   "metadata": {},
   "source": [
    "To see how accurate we are, we compute the predicted labels by taking the column of the largest probability in\n",
    "each row of the matrix P=sigma(XM) and compare it to the true labels.\n"
   ]
  },
  {
   "cell_type": "code",
   "execution_count": 7,
   "metadata": {},
   "outputs": [
    {
     "name": "stdout",
     "output_type": "stream",
     "text": [
      "Percentage correct on training data = 98.60879243183082\n"
     ]
    }
   ],
   "source": [
    "predicted = np.argmax(softmax(data @ M, axis=1), axis=1)\n",
    "correct = (predicted == labels).sum()\n",
    "percentage = correct / len(labels)\n",
    "print(\"Percentage correct on training data = {}\".format(100 * percentage))\n"
   ]
  },
  {
   "cell_type": "code",
   "execution_count": 8,
   "metadata": {},
   "outputs": [
    {
     "data": {
      "text/html": [
       "\n",
       "  <div class=\"bk-root\" id=\"b0d1529b-58e7-4f72-9afe-392c8dbec3d4\" data-root-id=\"2054\"></div>\n"
      ]
     },
     "metadata": {},
     "output_type": "display_data"
    },
    {
     "data": {
      "application/javascript": [
       "(function(root) {\n",
       "  function embed_document(root) {\n",
       "  const docs_json = {\"62f52ecf-abf1-4854-8d82-c06a7a954aaa\":{\"defs\":[],\"roots\":{\"references\":[{\"attributes\":{\"below\":[{\"id\":\"2065\"}],\"center\":[{\"id\":\"2068\"},{\"id\":\"2072\"}],\"left\":[{\"id\":\"2069\"}],\"renderers\":[{\"id\":\"2091\"}],\"title\":{\"id\":\"2055\"},\"toolbar\":{\"id\":\"2080\"},\"x_range\":{\"id\":\"2057\"},\"x_scale\":{\"id\":\"2061\"},\"y_range\":{\"id\":\"2059\"},\"y_scale\":{\"id\":\"2063\"}},\"id\":\"2054\",\"subtype\":\"Figure\",\"type\":\"Plot\"},{\"attributes\":{},\"id\":\"2061\",\"type\":\"LinearScale\"},{\"attributes\":{},\"id\":\"2070\",\"type\":\"BasicTicker\"},{\"attributes\":{},\"id\":\"2077\",\"type\":\"ResetTool\"},{\"attributes\":{\"line_alpha\":0.1,\"line_color\":\"#1f77b4\",\"x\":{\"field\":\"x\"},\"y\":{\"field\":\"y\"}},\"id\":\"2089\",\"type\":\"Line\"},{\"attributes\":{},\"id\":\"2200\",\"type\":\"UnionRenderers\"},{\"attributes\":{\"coordinates\":null,\"group\":null,\"text\":\"Negative Log Likelihood over iterations\"},\"id\":\"2055\",\"type\":\"Title\"},{\"attributes\":{\"bottom_units\":\"screen\",\"coordinates\":null,\"fill_alpha\":0.5,\"fill_color\":\"lightgrey\",\"group\":null,\"left_units\":\"screen\",\"level\":\"overlay\",\"line_alpha\":1.0,\"line_color\":\"black\",\"line_dash\":[4,4],\"line_width\":2,\"right_units\":\"screen\",\"syncable\":false,\"top_units\":\"screen\"},\"id\":\"2079\",\"type\":\"BoxAnnotation\"},{\"attributes\":{},\"id\":\"2201\",\"type\":\"Selection\"},{\"attributes\":{\"tools\":[{\"id\":\"2073\"},{\"id\":\"2074\"},{\"id\":\"2075\"},{\"id\":\"2076\"},{\"id\":\"2077\"},{\"id\":\"2078\"}]},\"id\":\"2080\",\"type\":\"Toolbar\"},{\"attributes\":{\"line_color\":\"#1f77b4\",\"x\":{\"field\":\"x\"},\"y\":{\"field\":\"y\"}},\"id\":\"2088\",\"type\":\"Line\"},{\"attributes\":{\"source\":{\"id\":\"2087\"}},\"id\":\"2092\",\"type\":\"CDSView\"},{\"attributes\":{},\"id\":\"2076\",\"type\":\"SaveTool\"},{\"attributes\":{},\"id\":\"2073\",\"type\":\"PanTool\"},{\"attributes\":{\"overlay\":{\"id\":\"2079\"}},\"id\":\"2075\",\"type\":\"BoxZoomTool\"},{\"attributes\":{\"coordinates\":null,\"formatter\":{\"id\":\"2195\"},\"group\":null,\"major_label_policy\":{\"id\":\"2196\"},\"ticker\":{\"id\":\"2070\"}},\"id\":\"2069\",\"type\":\"LinearAxis\"},{\"attributes\":{\"axis\":{\"id\":\"2065\"},\"coordinates\":null,\"group\":null,\"ticker\":null},\"id\":\"2068\",\"type\":\"Grid\"},{\"attributes\":{\"data\":{\"x\":[0,1,2,3,4,5,6,7,8,9,10,11,12,13,14,15,16,17,18,19,20,21,22,23,24,25,26,27,28,29,30,31,32,33,34,35,36,37,38,39,40,41,42,43,44,45,46,47,48,49,50,51,52,53,54,55,56,57,58,59,60,61,62,63,64,65,66,67,68,69,70,71,72,73,74,75,76,77,78,79,80,81,82,83,84,85,86,87,88,89,90,91,92,93,94,95,96,97,98,99,100,101,102,103,104,105,106,107,108,109,110,111,112,113,114,115,116,117,118,119,120,121,122,123,124,125,126,127,128,129,130,131,132,133,134,135,136,137,138,139,140,141,142,143,144,145,146,147,148,149,150,151,152,153,154,155,156,157,158,159,160,161,162,163,164,165,166,167,168,169,170,171,172,173,174,175,176,177,178,179,180,181,182,183,184,185,186,187,188,189,190,191,192,193,194,195,196,197,198,199,200,201,202,203,204,205,206,207,208,209,210,211,212,213,214,215,216,217,218,219,220,221,222,223,224,225,226,227,228,229,230,231,232,233,234,235,236,237,238,239,240,241,242,243,244,245,246,247,248,249,250,251,252,253,254,255,256,257,258,259,260,261,262,263,264,265,266,267,268,269,270,271,272,273,274,275,276,277,278,279,280,281,282,283,284,285,286,287,288,289,290,291,292,293,294,295,296,297,298,299,300,301,302,303,304,305,306,307,308,309,310,311,312,313,314,315,316,317,318,319,320,321,322,323,324,325,326,327,328,329,330,331,332,333,334,335,336,337,338,339,340,341,342,343,344,345,346,347,348,349,350,351,352,353,354,355,356,357,358,359,360,361,362,363,364,365,366,367,368,369,370,371,372,373,374,375,376,377,378,379,380,381,382,383,384,385,386,387,388,389,390,391,392,393,394,395,396,397,398,399,400,401,402,403,404,405,406,407,408,409,410,411,412,413,414,415,416,417,418,419,420,421,422,423,424,425,426,427,428,429,430,431,432,433,434,435,436,437,438,439,440,441,442,443,444,445,446,447,448,449,450,451,452,453,454,455,456,457,458,459,460,461,462,463,464,465,466,467,468,469,470,471,472,473,474,475,476,477,478,479,480,481,482,483,484,485,486,487,488,489,490,491,492,493,494,495,496,497,498,499,500,501,502,503,504,505,506,507,508,509,510,511,512,513,514,515,516,517,518,519,520,521,522,523,524,525,526,527,528,529,530,531,532,533,534,535,536,537,538,539,540,541,542,543,544,545,546,547,548,549,550,551,552,553,554,555,556,557,558,559,560,561,562,563,564,565,566,567,568,569,570,571,572,573,574,575,576,577,578,579,580,581,582,583,584,585,586,587,588,589,590,591,592,593,594,595,596,597,598,599,600,601,602,603,604,605,606,607,608,609,610,611,612,613,614,615,616,617,618,619,620,621,622,623,624,625,626,627,628,629,630,631,632,633,634,635,636,637,638,639,640,641,642,643,644,645,646,647,648,649,650,651,652,653,654,655,656,657,658,659,660,661,662,663,664,665,666,667,668,669,670,671,672,673,674,675,676,677,678,679,680,681,682,683,684,685,686,687,688,689,690,691,692,693,694,695,696,697,698,699,700,701,702,703,704,705,706,707,708,709,710,711,712,713,714,715,716,717,718,719,720,721,722,723,724,725,726,727,728,729,730,731,732,733,734,735,736,737,738,739,740,741,742,743,744,745,746,747,748,749,750,751,752,753,754,755,756,757,758,759,760,761,762,763,764,765,766,767,768,769,770,771,772,773,774,775,776,777,778,779,780,781,782,783,784,785,786,787,788,789,790,791,792,793,794,795,796,797,798,799,800,801,802,803,804,805,806,807,808,809,810,811,812,813,814,815,816,817,818,819,820,821,822,823,824,825,826,827,828,829,830,831,832,833,834,835,836,837,838,839,840,841,842,843,844,845,846,847,848,849,850,851,852,853,854,855,856,857,858,859,860,861,862,863,864,865,866,867,868,869,870,871,872,873,874,875,876,877,878,879,880,881,882,883,884,885,886,887,888,889,890,891,892,893,894,895,896,897,898,899,900,901,902,903,904,905,906,907,908,909,910,911,912,913,914,915,916,917,918,919,920,921,922,923,924,925,926,927,928,929,930,931,932,933,934,935,936,937,938,939,940,941,942,943,944,945,946,947,948,949,950,951,952,953,954,955,956,957,958,959,960,961,962,963,964,965,966,967,968,969,970,971,972,973,974,975,976,977,978,979,980,981,982,983,984,985,986,987,988,989,990,991,992,993,994,995,996,997,998,999],\"y\":[11249.059482150165,8179.636263442022,6451.830631286248,5345.777701365197,4443.871168997897,3746.006119469736,3320.9433505525253,2979.0178055247893,2691.177553290755,2447.303831567583,2240.508731373772,2064.39569616214,1913.589213406664,1783.6308386820842,1670.8827850878456,1572.4062227461245,1485.8284140935355,1409.2342123520573,1341.0715634720943,1280.0769248447907,1225.215435676523,1175.6341856928825,1130.6256061470672,1089.5988855166354,1052.0575781151833,1017.5820005120513,985.8153196879703,956.4524941245527,929.2314269823537,903.9258425670624,880.3395128335451,858.3015480853544,837.662532037684,818.2913312792973,800.0724469256655,782.9038049521257,766.6949036159879,751.36525322043,736.8430565011228,723.064088062512,709.9707392468972,697.5112011008983,685.638763095583,674.3112092477819,663.4902965000169,653.1413028119297,643.2326345253223,633.7354842870237,624.6235322259713,615.8726842436446,607.4608422380456,599.3677018786359,591.5745742132049,584.0642279417917,576.8207496569597,569.8294197397258,563.0766019290629,556.5496448605411,550.2367941049042,544.1271134371691,538.2104142369783,532.4771920661506,526.9185695936416,521.5262451446895,516.2924462425178,511.20988758986914,506.27173300576,501.47156089175985,496.80333285317863,492.26136514489303,487.84030265014644,483.53509513430015,479.3409755449062,475.25344015518095,471.2682303705001,467.38131603731665,463.58888011130523,459.8873045568634,456.27315736361584,452.7431805775212,449.29427925474175,445.9235112558135,442.6280778059613,439.405314754792,436.25268447517715,433.1677683469899,430.1482597765921,427.1919577076395,424.29676058294467,421.46066072088826,418.6817390732194,415.95816033410176,413.28816837297086,410.6700819662058,408.10229080481633,405.58325175732574,403.1114853688223,400.6855725787671,398.3041516416141,395.965915235618,393.66960774641746,391.414022713066,389.19800042518045,387.02042566077523,384.8802255551797,382.7763675921786,380.70785770920384,378.67373850902976,376.673087570994,374.70501585528956,372.7686661943517,370.8632118658029,368.9878552418197,367.1418265101565,365.32438246240076,363.5348053453445,361.7724017716484,360.0365016862349,358.3264573850956,356.64164258342095,354.981451530168,353.34529816637746,351.7326153247257,350.14285396796424,348.5754824640509,347.0299858959191,345.5058654039613,344.0026375594272,342.51983376704544,341.05699969528945,339.61369473279893,338.1894914695645,336.78397520156574,335.3967434576294,334.0274055473544,332.6755821290123,331.34090479639826,330.0230156836709,328.721567087268,327.436221104045,326.1666492848267,324.9125323026105,323.6735596347019,322.44942925810506,321.2398473575235,320.0445280453688,318.86319309320174,317.69557167406515,316.54140011519536,315.4004216606276,314.27238624323513,313.1570502657673,312.0541763904748,310.9635333369299,309.8848956876718,308.8180437013261,307.7627631328628,306.71884506067846,305.68608572019957,304.66428634372346,303.6532530062235,302.65279647686134,301.6627320759611,300.6828795372117,299.7130628748754,298.7531102557908,297.8028538759702,296.8621298415986,295.9307780542521,295.00864210016243,294.0955691433607,293.19140982254373,292.296018151511,291.40925142302854,290.5309701159836,289.66103780569836,288.79932107727683,287.94568944186756,287.10001525572613,286.2621736419698,285.43204241491895,284.60950200692673,283.79443539760143,282.98672804533027,282.1862678210174,281.3929449439529,280.6066519197333,279.8272834801568,279.0547365250197,278.28891006574463,277.5297051707736,276.7770249126602,276.0307743168007,275.2908603117444,274.5571916810262,273.82967901646776,273.1082346728939,272.392772724216,271.6832089208318,270.9794606482989,270.28144688723387,269.58908817439703,268.9023065649216,268.2210255956479,267.54517024952327,266.8746669210349,266.20944338263706,265.5494287521419,264.8945534610402,264.2447492237213,263.59994900756345,262.9600870038636,262.32509859958213,261.69492034987286,261.0694899513752,260.44874621624183,259.8326290468802,259.22107941138313,258.61403931962803,258.01145180002175,257.41326087687264,256.8194115483689,256.22984976514454,255.64452240941367,255.06337727465797,254.48636304584724,253.91342928017838,253.34452638831726,252.7796056161265,252.21861902686607,251.661519483851,251.10826063355427,250.55879688913927,250.01308341441126,249.47107610817318,248.93273158897642,248.3980071802522,247.8668608958146,247.33925142572315,246.81513812249506,246.29448098765653,245.7772406586244,245.26337839590695,244.7528560706167,244.24563615228428,243.74168169696696,243.24095633564224,242.743424262878,242.24905022577332,241.7577995131604,241.26963794506213,240.78453186239634,240.30244811692214,239.8233540614199,239.34721754009882,238.87400687922747,238.40369087797882,237.9362387994854,237.4716203620997,237.00980573085218,236.55076550910348,236.09447073038464,235.64089285042112,235.1900037393355,234.741775674023,234.29618133069766,233.85319377760297,233.41278646788285,232.97493323260963,232.53960827396435,232.10678615856537,231.67644181094232,231.24855050715075,230.82308786852445,230.40002985556194,229.97935276194326,229.56103320867493,229.14504813835813,228.73137480957936,228.31999079141775,227.91087395806886,227.50400248358002,227.0993548366962,226.69690977581197,226.29664634402815,225.89854386431085,225.5025819347489,225.10874042390904,224.71699946628567,224.32733945784278,223.93974105164614,223.5541851535836,223.17065291817175,222.78912574444584,222.40958527193214,222.0320133767007,221.65639216749528,221.282703981941,220.91093138282565,220.54105715445414,220.17306429907464,219.80693603337357,219.44265578503945,219.08020718939218,218.7195740860787,218.3607405158306,218.00369071728485,217.64840912386504,217.29488036072172,216.9430892417304,216.5930207665475,216.2446601177201,215.89799265785138,215.55300392681818,215.20967963904076,214.8680056808035,214.52796810762473,214.18955314167567,213.85274716924633,213.51753673825874,213.18390855582464,212.85184948584822,212.52134654667287,212.19238690876932,211.86495789246695,211.5390469657251,211.21464174194432,210.8917299778172,210.5702995712173,210.2503385591257,209.93183511559423,209.61477754974445,209.2991543038025,208.98495395116785,208.67216519451603,208.36077686393483,208.05077791509243,207.74215742743723,207.43490460242975,207.12900876180387,206.8244593458586,206.5212459117791,206.21935813198596,205.91878579251323,205.61951879141375,205.32154713719115,205.02486094725882,204.7294504464249,204.43530596540154,204.14241793934133,203.85077690639574,203.5603735062995,203.27119847897686,202.98324266317226,202.6964969951031,202.41095250713423,202.12660032647491,201.84343167389642,201.5614378624713,201.28061029633275,201.00094046945355,200.72241996444637,200.44504045138126,200.1687936866242,199.89367151169287,199.61966585213162,199.34676871640346,199.07497219480103,198.80426845837343,198.53464975787094,198.2661084227059,197.9986368599304,197.73222755322993,197.46687306193198,197.20256602003155,196.9392991352306,196.677065187993,196.4158570306138,196.1556675863036,195.8964898482858,195.6383168789089,195.3811418087717,195.12495783586235,194.86975822470964,194.61553630554866,194.36228547349754,194.10999918774792,193.85867097076655,193.60829440750987,193.35886314464977,193.11037088981112,192.8628114108205,192.61617853496682,192.37046614827167,192.12566819477178,191.88177867581135,191.6387916493448,191.39670122925,191.15550158465203,190.91518693925536,190.67575157068774,190.4371898098519,190.19949604028776,189.96266469754363,189.72669026855596,189.49156729103908,189.25729035288236,189.02385409155744,188.7912531935329,188.5594823936976,188.32853647479263,188.09841026685046,187.86909864664304,187.64059653713673,187.41289890695603,187.18600076985342,186.95989718418824,186.7345832524115,186.51005412055866,186.2863049777493,186.06333105569365,185.84112762820604,185.61969001072515,185.3990135598406,185.17909367282644,184.95992578718085,184.74150538017201,184.52382796839063,184.30688910730782,184.09068439084012,183.875209450919,183.66045995706745,183.44643161598174,183.2331201711186,183.0205214022887,182.80863112525458,182.59744519133486,182.3869594870132,182.17716993355276,181.9680724866157,181.75966313588728,181.5519379047062,181.3448928496981,181.1385240604153,180.9328276589805,180.72779979973566,180.52343666889504,180.31973448420285,180.11668949459556,179.91429797986876,179.71255625034775,179.51146064656268,179.31100753892844,179.11119332742743,178.91201444129783,178.7134673387248,178.5155485065361,178.3182544599017,178.12158174203674,177.92552692390882,177.73008660394865,177.53525740776445,177.34103598786012,177.14741902335655,176.954403219717,176.76198530847552,176.57016204696862,176.37893021807136,176.1882866299348,175.9982281157289,175.80875153338673,175.61985376535347,175.43153171833697,175.24378232306282,175.05660253403119,174.8699893292775,174.6839397101361,174.49845070100574,174.31351934911928,174.12914272431547,173.9453179188132,173.7620420469896,173.57931224515966,173.39712567135905,173.21547950512988,173.03437094730793,172.85379721981383,172.67375556544596,172.4942432476756,172.3152575504451,172.13679577796853,171.95885525453363,171.78143332430773,171.6045273511444,171.4281347183936,171.25225282871315,171.0768791038833,170.9020109846224,170.72764593040597,170.55378141928662,170.38041494771738,170.2075440303758,170.0351661999911,169.86327900717254,169.69188002024066,169.52096682505956,169.35053702487173,169.1805882401344,169.01111810835823,168.84212428394724,168.67360443804125,168.5055562583592,168.3379774490454,168.1708657305167,168.0042188393116,167.83803452794115,167.67231056474145,167.50704473372792,167.3422348344511,167.17787868185405,167.01397410613163,166.85051895259082,166.68751108151312,166.52494836801827,166.36282870192946,166.20114998764004,166.0399101439817,165.87910710409437,165.71873881529686,165.55880323896022,165.39929835038058,165.24022213865535,165.08157260655966,164.92334777042402,164.76554566001425,164.6081643184117,164.45120180189548,164.29465617982578,164.13852553452787,163.98280796117857,163.8275015676928,163.67260447461183,163.5181148149928,163.36403073429923,163.21035039029294,163.05707195292672,162.90419360423857,162.75171353824697,162.59962996084707,162.44794108970788,162.29664515417127,162.14574039515102,161.99522506503385,161.84509742758073,161.69535575783,161.54599834200064,161.39702347739734,161.24842947231593,161.1002146459504,160.9523773283004,160.80491586007994,160.6578285926267,160.5111138878131,160.36477011795722,160.21879566573548,160.0731889240957,159.92794829617134,159.78307219519655,159.63855904442204,159.4944072770318,159.3506153360607,159.20718167431312,159.06410475428206,158.921383048069,158.77901503730553,158.63699921307403,158.4953340758312,158.3540181353305,158.2130499105466,158.07242792960048,157.93215072968405,157.79221685698738,157.65262486662536,157.51337332256543,157.37446079755614,157.23588587305628,157.0976471391649,156.9597431945519,156.8221726463889,156.68493411028197,156.54802621020335,156.41144757842545,156.27519685545437,156.13927268996468,156.00367373873465,155.8683986665818,155.7334461462999,155.59881485859563,155.46450349202627,155.3305107429386,155.1968353154069,155.0634759211732,154.93043127958703,154.79770011754596,154.6652811694372,154.5331731770791,154.40137488966351,154.2698850636986,154.13870246295278,154.007825858398,153.8772540281546,153.7469857574365,153.61701983849645,153.48735507057225,153.35799025983337,153.22892421932787,153.1001557689302,152.97168373528902,152.843506951776,152.71562425843467,152.58803450193028,152.46073653549905,152.33372921889958,152.2070114183631,152.080582006545,151.9544398624766,151.82858387151774,151.70301292530905,151.57772592172535,151.45272176482914,151.32799936482473,151.20355763801226,151.0793955067432,150.9555118993749,150.8319057502268,150.70857599953624,150.58552159341497,150.46274148380584,150.3402346284404,150.21799999079636,150.0960365400554,149.974343251062,149.8529191042819,149.73176308576132,149.6108741870864,149.49025140534332,149.36989374307828,149.24980020825808,149.12996981423152,149.0104015796899,148.89109452862928,148.7720476903124,148.65326009923044,148.5347307950666,148.41645882265806,148.29844323196008,148.18068307800925,148.06317742088737,147.945925325686,147.82892586247075,147.7121781062463,147.5956811369217,147.4794340392756,147.3634359029222,147.24768582227736,147.13218289652497,147.01692622958353,146.90191493007333,146.78714811128344,146.67262489113946,146.55834439217122,146.44430574148083,146.33050807071126,146.21695051601472,146.1036322180217,145.99055232181018,145.87770997687485,145.7651043370972,145.652734560715,145.5405998102928,145.42869925269238,145.3170320590434,145.20559740471427,145.09439446928357,144.98342243651138,144.87268049431077,144.76216783472017,144.65188365387507,144.54182715198075,144.43199753328472,144.32239400604968,144.21301578252644,144.10386207892736,143.9949321154,143.88622511600047,143.77774030866792,143.66947692519807,143.56143420121825,143.45361137616163,143.34600769324211,143.23862239942943,143.13145474542426,143.0245039856336,142.91776937814657,142.81125018471027,142.70494567070554,142.59885510512336,142.4929777605415,142.38731291310054,142.28185984248108,142.17661783188075,142.07158616799134,141.96676414097595,141.86215104444673,141.75774617544255,141.65354883440688,141.54955832516595,141.44577395490688,141.3421950341562,141.23882087675827,141.13565079985455,141.03268412386174,140.92992017245172,140.82735827253006,140.7249977542162,140.62283795082257,140.5208781988343,140.41911783788953,140.31755621075922,140.2161926633273,140.1150265445714,140.01405720654307,139.9132840043489,139.8127062961306,139.7123234430469,139.61213480925414,139.51213976188774,139.41233767104364,139.31272790975981,139.21330985399814,139.1140828826263,139.01504637739922,138.91619972294234,138.8175423067327,138.71907351908237,138.62079275312016,138.5226994047749,138.42479287275827,138.32707255854726,138.2295378663677,138.13218820317752,138.03502297864975,137.93804160515617,137.8412434977511,137.74462807415486,137.64819475473763,137.55194296250372,137.45587212307532,137.35998166467678,137.26427101811925,137.16873961678465,137.07338689661054,136.9782122960749,136.88321525618068,136.78839522044066,136.69375163486285,136.59928394793542,136.50499161061174,136.4108740762961,136.31693080082894,136.22316124247257,136.1295648618967,136.03614112216457,135.94288948871824,135.8498094293649,135.75690041426367,135.6641619159104,135.57159340912511,135.47919437103795,135.3869642810758,135.2949026209488,135.2030088746371,135.11128252837779,135.01972307065157,134.92832999216978,134.83710278586173,134.74604094686165,134.65514397249598,134.5644113622708,134.4738426178593,134.38343724308933,134.2931947439309,134.2031146284843,134.1131964069672,134.02343959170335,133.93384369711012,133.84440823968663,133.75513273800203,133.66601671268356,133.57705968640508,133.48826118387552,133.39962073182693,133.3111378590038,133.2228120961509,133.13464297600282,133.04663003327204,132.9587728046385,132.87107082873797,132.78352364615174,132.69613079939506,132.6088918329071,132.5218062930394,132.4348737280461,132.3480936880726,132.2614657251456,132.17498939316243,132.08866424788087,132.00248984690867,131.9164657496934,131.83059151751257,131.74486671346324,131.65929090245217,131.57386365118592,131.48858452816097,131.40345310365385,131.31846894971164,131.23363164014216,131.1489407505043,131.06439585809858,130.97999654195806,130.89574238283816,130.81163296320818,130.7276678672413,130.64384668080606,130.5601689914567,130.47663438842426,130.39324246260782,130.30999280656505,130.22688501450372,130.14391868227273,130.06109340735335,129.97840878885054,129.89586442748413,129.81345992558062,129.73119488706408,129.6490689174482,129.5670816238275,129.4852326148692,129.40352150080486,129.32194789342185,129.24051140605565,129.15921165358128,129.07804825240544,128.9970208204582,128.91612897718556,128.8353723435408,128.75475054197727,128.67426319644014,128.59390993235854,128.51369037663846,128.43360415765432,128.35365090524175,128.2738302506901,128.1941418267346,128.11458526754907,128.03516020873855,127.95586628733174,127.87670314177389,127.79767041191934,127.71876773902434,127.63999476573997,127.56135113610466,127.48283649553768,127.40445049083137,127.32619277014479,127.24806298299642,127.17006078025722,127.0921858141439,127.01443773821201,126.93681620734925,126.85932087776871,126.78195140700188,126.70470745389261,126.62758867858992,126.55059474254166,126.47372530848804,126.39698004045505,126.32035860374805,126.24386066494537,126.16748589189199,126.09123395369306,126.01510452070771,125.939097264543,125.8632118580473,125.78744797530467,125.71180529162808,125.63628348355381,125.56088222883541,125.48560120643725,125.41044009652902,125.33539858047958,125.26047634085103,125.18567306139292,125.11098842703635,125.0364221238883,124.96197383922583,124.88764326149014,124.81343008028135,124.73933398635228,124.66535467160335,124.59149182907674,124.5177451529508,124.44411433853466,124.37059908226273,124.2971990816893,124.22391403548286,124.15074364342105,124.07768760638528,124.00474562635532,123.93191740640366,123.85920265069117,123.78660106446085,123.71411235403357,123.6417362268021,123.56947239122647,123.49732055682892,123.42528043418856,123.3533517349365,123.28153417175068,123.20982745835127,123.13823130949532,123.06674544097206,122.99536956959804,122.92410341321198,122.85294669067048,122.78189912184281,122.7109604276061,122.64013032984099,122.56940855142659,122.49879481623573,122.42828884913065,122.35789037595815,122.28759912354505,122.2174148196934,122.14733719317644,122.07736597373348,122.00750089206574,121.93774167983202,121.86808806964376,121.79853979506123,121.72909659058863,121.65975819167005,121.590524334685,121.52139475694403,121.45236919668466,121.38344739306694,121.31462908616915,121.24591401698393,121.17730192741354,121.10879256026614,121.04038565925168,120.97208096897732,120.9038782349439,120.8357772035414,120.76777762204514,120.69987923861171,120.63208180227507,120.56438506294229,120.49678877138977,120.42929267925959,120.36189653905501,120.29460010413693,120.22740312872011,120.16030536786903,120.0933065774943,120.02640651434896,119.95960493602429,119.89290160094626,119.82629626837209,119.75978869838602,119.69337865189587,119.62706589062955,119.56085017713106,119.49473127475699,119.428708947673,119.36278296085005,119.29695308006103,119.231219071877,119.16558070366384,119.10003774357868,119.03458996056617,118.96923712435543,118.90397900545635,118.83881537515605,118.77374600551565,118.70877066936691,118.64388914030862,118.57910119270343,118.5144066016744,118.44980514310176]},\"selected\":{\"id\":\"2201\"},\"selection_policy\":{\"id\":\"2200\"}},\"id\":\"2087\",\"type\":\"ColumnDataSource\"},{\"attributes\":{},\"id\":\"2074\",\"type\":\"WheelZoomTool\"},{\"attributes\":{},\"id\":\"2078\",\"type\":\"HelpTool\"},{\"attributes\":{\"coordinates\":null,\"formatter\":{\"id\":\"2198\"},\"group\":null,\"major_label_policy\":{\"id\":\"2199\"},\"ticker\":{\"id\":\"2066\"}},\"id\":\"2065\",\"type\":\"LinearAxis\"},{\"attributes\":{},\"id\":\"2199\",\"type\":\"AllLabels\"},{\"attributes\":{},\"id\":\"2196\",\"type\":\"AllLabels\"},{\"attributes\":{\"coordinates\":null,\"data_source\":{\"id\":\"2087\"},\"glyph\":{\"id\":\"2088\"},\"group\":null,\"hover_glyph\":null,\"muted_glyph\":{\"id\":\"2090\"},\"nonselection_glyph\":{\"id\":\"2089\"},\"view\":{\"id\":\"2092\"}},\"id\":\"2091\",\"type\":\"GlyphRenderer\"},{\"attributes\":{},\"id\":\"2198\",\"type\":\"BasicTickFormatter\"},{\"attributes\":{\"axis\":{\"id\":\"2069\"},\"coordinates\":null,\"dimension\":1,\"group\":null,\"ticker\":null},\"id\":\"2072\",\"type\":\"Grid\"},{\"attributes\":{},\"id\":\"2059\",\"type\":\"DataRange1d\"},{\"attributes\":{},\"id\":\"2063\",\"type\":\"LinearScale\"},{\"attributes\":{},\"id\":\"2195\",\"type\":\"BasicTickFormatter\"},{\"attributes\":{},\"id\":\"2057\",\"type\":\"DataRange1d\"},{\"attributes\":{\"line_alpha\":0.2,\"line_color\":\"#1f77b4\",\"x\":{\"field\":\"x\"},\"y\":{\"field\":\"y\"}},\"id\":\"2090\",\"type\":\"Line\"},{\"attributes\":{},\"id\":\"2066\",\"type\":\"BasicTicker\"}],\"root_ids\":[\"2054\"]},\"title\":\"Bokeh Application\",\"version\":\"2.4.3\"}};\n",
       "  const render_items = [{\"docid\":\"62f52ecf-abf1-4854-8d82-c06a7a954aaa\",\"root_ids\":[\"2054\"],\"roots\":{\"2054\":\"b0d1529b-58e7-4f72-9afe-392c8dbec3d4\"}}];\n",
       "  root.Bokeh.embed.embed_items_notebook(docs_json, render_items);\n",
       "  }\n",
       "  if (root.Bokeh !== undefined) {\n",
       "    embed_document(root);\n",
       "  } else {\n",
       "    let attempts = 0;\n",
       "    const timer = setInterval(function(root) {\n",
       "      if (root.Bokeh !== undefined) {\n",
       "        clearInterval(timer);\n",
       "        embed_document(root);\n",
       "      } else {\n",
       "        attempts++;\n",
       "        if (attempts > 100) {\n",
       "          clearInterval(timer);\n",
       "          console.log(\"Bokeh: ERROR: Unable to run BokehJS code because BokehJS library is missing\");\n",
       "        }\n",
       "      }\n",
       "    }, 10, root)\n",
       "  }\n",
       "})(window);"
      ],
      "application/vnd.bokehjs_exec.v0+json": ""
     },
     "metadata": {
      "application/vnd.bokehjs_exec.v0+json": {
       "id": "2054"
      }
     },
     "output_type": "display_data"
    }
   ],
   "source": [
    "p = figure(title=\"Negative Log Likelihood over iterations\")\n",
    "p.line(x=list(range(len(L))), y=L)\n",
    "show(p)\n"
   ]
  },
  {
   "cell_type": "markdown",
   "metadata": {},
   "source": [
    "## Batch Descent\n",
    "\n",
    "To illustrate batch descent, we will break up our data matrix into 20 blocks of roughly 90 rows per block.\n",
    "To avoid bias we will randomly shuffle the rows before breaking it up.\n"
   ]
  },
  {
   "cell_type": "code",
   "execution_count": 9,
   "metadata": {},
   "outputs": [],
   "source": [
    "def block_descent(x, y, max_epochs=1000, block_size=50, nu=0.001, M=None):\n",
    "    \"\"\"does batch gradient descent to maximum likelihood for data=x and labels (one-hot)=y\"\"\"\n",
    "    features = x.shape[1]\n",
    "    classes = y.shape[1]\n",
    "    likes = []\n",
    "    blocks_per_epoch=x.shape[0]//block_size\n",
    "    if M is None:\n",
    "        M = rng.normal(loc=0, scale=1, size=(features, classes))\n",
    "    for i in tqdm(range(max_epochs)):\n",
    "        start=0\n",
    "        for j in range(blocks_per_epoch):\n",
    "            P = softmax(x[start:start+block_size,:] @ M, axis=1)\n",
    "            grad = x[start:start+block_size,:].transpose() @ (P - y[start:start+block_size,:])\n",
    "            M = M - nu * grad\n",
    "            start = start+block_size\n",
    "        P=softmax(x[start:,:] @ M, axis=1)\n",
    "        grad = x[start:,:].transpose() @ (P-y[start:start+block_size,:])\n",
    "        M = M-nu*grad\n",
    "        likes.append(-np.trace(y.transpose() @ np.log(softmax(x @ M, axis=1))))\n",
    "    return M, likes"
   ]
  },
  {
   "cell_type": "code",
   "execution_count": 10,
   "metadata": {},
   "outputs": [
    {
     "name": "stderr",
     "output_type": "stream",
     "text": [
      "100%|██████████████████████████████████████████████████████████████████████████████| 1000/1000 [00:02<00:00, 362.59it/s]\n"
     ]
    }
   ],
   "source": [
    "M,L=block_descent(data,Y)"
   ]
  },
  {
   "cell_type": "code",
   "execution_count": 11,
   "metadata": {},
   "outputs": [
    {
     "name": "stdout",
     "output_type": "stream",
     "text": [
      "Percentage correct on training data = 98.33055091819699\n"
     ]
    }
   ],
   "source": [
    "predicted = np.argmax(softmax(data @ M, axis=1), axis=1)\n",
    "correct = (predicted == labels).sum()\n",
    "percentage = correct / len(labels)\n",
    "print(\"Percentage correct on training data = {}\".format(100 * percentage))"
   ]
  },
  {
   "cell_type": "code",
   "execution_count": 12,
   "metadata": {},
   "outputs": [
    {
     "data": {
      "text/html": [
       "\n",
       "  <div class=\"bk-root\" id=\"43a035a3-eea2-461b-a8fc-73eb42ed8adf\" data-root-id=\"2253\"></div>\n"
      ]
     },
     "metadata": {},
     "output_type": "display_data"
    },
    {
     "data": {
      "application/javascript": [
       "(function(root) {\n",
       "  function embed_document(root) {\n",
       "  const docs_json = {\"7753a57d-eeec-4830-a44c-33e995ef4306\":{\"defs\":[],\"roots\":{\"references\":[{\"attributes\":{\"below\":[{\"id\":\"2264\"}],\"center\":[{\"id\":\"2267\"},{\"id\":\"2271\"}],\"left\":[{\"id\":\"2268\"}],\"renderers\":[{\"id\":\"2290\"}],\"title\":{\"id\":\"2254\"},\"toolbar\":{\"id\":\"2279\"},\"x_range\":{\"id\":\"2256\"},\"x_scale\":{\"id\":\"2260\"},\"y_range\":{\"id\":\"2258\"},\"y_scale\":{\"id\":\"2262\"}},\"id\":\"2253\",\"subtype\":\"Figure\",\"type\":\"Plot\"},{\"attributes\":{\"overlay\":{\"id\":\"2278\"}},\"id\":\"2274\",\"type\":\"BoxZoomTool\"},{\"attributes\":{\"tools\":[{\"id\":\"2272\"},{\"id\":\"2273\"},{\"id\":\"2274\"},{\"id\":\"2275\"},{\"id\":\"2276\"},{\"id\":\"2277\"}]},\"id\":\"2279\",\"type\":\"Toolbar\"},{\"attributes\":{},\"id\":\"2408\",\"type\":\"AllLabels\"},{\"attributes\":{},\"id\":\"2404\",\"type\":\"BasicTickFormatter\"},{\"attributes\":{\"line_alpha\":0.2,\"line_color\":\"#1f77b4\",\"x\":{\"field\":\"x\"},\"y\":{\"field\":\"y\"}},\"id\":\"2289\",\"type\":\"Line\"},{\"attributes\":{},\"id\":\"2269\",\"type\":\"BasicTicker\"},{\"attributes\":{},\"id\":\"2405\",\"type\":\"AllLabels\"},{\"attributes\":{},\"id\":\"2275\",\"type\":\"SaveTool\"},{\"attributes\":{},\"id\":\"2409\",\"type\":\"UnionRenderers\"},{\"attributes\":{},\"id\":\"2407\",\"type\":\"BasicTickFormatter\"},{\"attributes\":{},\"id\":\"2410\",\"type\":\"Selection\"},{\"attributes\":{},\"id\":\"2256\",\"type\":\"DataRange1d\"},{\"attributes\":{},\"id\":\"2265\",\"type\":\"BasicTicker\"},{\"attributes\":{},\"id\":\"2262\",\"type\":\"LinearScale\"},{\"attributes\":{\"line_color\":\"#1f77b4\",\"x\":{\"field\":\"x\"},\"y\":{\"field\":\"y\"}},\"id\":\"2287\",\"type\":\"Line\"},{\"attributes\":{},\"id\":\"2273\",\"type\":\"WheelZoomTool\"},{\"attributes\":{\"coordinates\":null,\"formatter\":{\"id\":\"2407\"},\"group\":null,\"major_label_policy\":{\"id\":\"2408\"},\"ticker\":{\"id\":\"2265\"}},\"id\":\"2264\",\"type\":\"LinearAxis\"},{\"attributes\":{},\"id\":\"2260\",\"type\":\"LinearScale\"},{\"attributes\":{},\"id\":\"2277\",\"type\":\"HelpTool\"},{\"attributes\":{\"axis\":{\"id\":\"2264\"},\"coordinates\":null,\"group\":null,\"ticker\":null},\"id\":\"2267\",\"type\":\"Grid\"},{\"attributes\":{\"coordinates\":null,\"formatter\":{\"id\":\"2404\"},\"group\":null,\"major_label_policy\":{\"id\":\"2405\"},\"ticker\":{\"id\":\"2269\"}},\"id\":\"2268\",\"type\":\"LinearAxis\"},{\"attributes\":{},\"id\":\"2258\",\"type\":\"DataRange1d\"},{\"attributes\":{\"coordinates\":null,\"data_source\":{\"id\":\"2286\"},\"glyph\":{\"id\":\"2287\"},\"group\":null,\"hover_glyph\":null,\"muted_glyph\":{\"id\":\"2289\"},\"nonselection_glyph\":{\"id\":\"2288\"},\"view\":{\"id\":\"2291\"}},\"id\":\"2290\",\"type\":\"GlyphRenderer\"},{\"attributes\":{\"coordinates\":null,\"group\":null,\"text\":\"Negative Log Likelihood over iterations\"},\"id\":\"2254\",\"type\":\"Title\"},{\"attributes\":{\"line_alpha\":0.1,\"line_color\":\"#1f77b4\",\"x\":{\"field\":\"x\"},\"y\":{\"field\":\"y\"}},\"id\":\"2288\",\"type\":\"Line\"},{\"attributes\":{\"axis\":{\"id\":\"2268\"},\"coordinates\":null,\"dimension\":1,\"group\":null,\"ticker\":null},\"id\":\"2271\",\"type\":\"Grid\"},{\"attributes\":{},\"id\":\"2272\",\"type\":\"PanTool\"},{\"attributes\":{\"source\":{\"id\":\"2286\"}},\"id\":\"2291\",\"type\":\"CDSView\"},{\"attributes\":{},\"id\":\"2276\",\"type\":\"ResetTool\"},{\"attributes\":{\"data\":{\"x\":[0,1,2,3,4,5,6,7,8,9,10,11,12,13,14,15,16,17,18,19,20,21,22,23,24,25,26,27,28,29,30,31,32,33,34,35,36,37,38,39,40,41,42,43,44,45,46,47,48,49,50,51,52,53,54,55,56,57,58,59,60,61,62,63,64,65,66,67,68,69,70,71,72,73,74,75,76,77,78,79,80,81,82,83,84,85,86,87,88,89,90,91,92,93,94,95,96,97,98,99,100,101,102,103,104,105,106,107,108,109,110,111,112,113,114,115,116,117,118,119,120,121,122,123,124,125,126,127,128,129,130,131,132,133,134,135,136,137,138,139,140,141,142,143,144,145,146,147,148,149,150,151,152,153,154,155,156,157,158,159,160,161,162,163,164,165,166,167,168,169,170,171,172,173,174,175,176,177,178,179,180,181,182,183,184,185,186,187,188,189,190,191,192,193,194,195,196,197,198,199,200,201,202,203,204,205,206,207,208,209,210,211,212,213,214,215,216,217,218,219,220,221,222,223,224,225,226,227,228,229,230,231,232,233,234,235,236,237,238,239,240,241,242,243,244,245,246,247,248,249,250,251,252,253,254,255,256,257,258,259,260,261,262,263,264,265,266,267,268,269,270,271,272,273,274,275,276,277,278,279,280,281,282,283,284,285,286,287,288,289,290,291,292,293,294,295,296,297,298,299,300,301,302,303,304,305,306,307,308,309,310,311,312,313,314,315,316,317,318,319,320,321,322,323,324,325,326,327,328,329,330,331,332,333,334,335,336,337,338,339,340,341,342,343,344,345,346,347,348,349,350,351,352,353,354,355,356,357,358,359,360,361,362,363,364,365,366,367,368,369,370,371,372,373,374,375,376,377,378,379,380,381,382,383,384,385,386,387,388,389,390,391,392,393,394,395,396,397,398,399,400,401,402,403,404,405,406,407,408,409,410,411,412,413,414,415,416,417,418,419,420,421,422,423,424,425,426,427,428,429,430,431,432,433,434,435,436,437,438,439,440,441,442,443,444,445,446,447,448,449,450,451,452,453,454,455,456,457,458,459,460,461,462,463,464,465,466,467,468,469,470,471,472,473,474,475,476,477,478,479,480,481,482,483,484,485,486,487,488,489,490,491,492,493,494,495,496,497,498,499,500,501,502,503,504,505,506,507,508,509,510,511,512,513,514,515,516,517,518,519,520,521,522,523,524,525,526,527,528,529,530,531,532,533,534,535,536,537,538,539,540,541,542,543,544,545,546,547,548,549,550,551,552,553,554,555,556,557,558,559,560,561,562,563,564,565,566,567,568,569,570,571,572,573,574,575,576,577,578,579,580,581,582,583,584,585,586,587,588,589,590,591,592,593,594,595,596,597,598,599,600,601,602,603,604,605,606,607,608,609,610,611,612,613,614,615,616,617,618,619,620,621,622,623,624,625,626,627,628,629,630,631,632,633,634,635,636,637,638,639,640,641,642,643,644,645,646,647,648,649,650,651,652,653,654,655,656,657,658,659,660,661,662,663,664,665,666,667,668,669,670,671,672,673,674,675,676,677,678,679,680,681,682,683,684,685,686,687,688,689,690,691,692,693,694,695,696,697,698,699,700,701,702,703,704,705,706,707,708,709,710,711,712,713,714,715,716,717,718,719,720,721,722,723,724,725,726,727,728,729,730,731,732,733,734,735,736,737,738,739,740,741,742,743,744,745,746,747,748,749,750,751,752,753,754,755,756,757,758,759,760,761,762,763,764,765,766,767,768,769,770,771,772,773,774,775,776,777,778,779,780,781,782,783,784,785,786,787,788,789,790,791,792,793,794,795,796,797,798,799,800,801,802,803,804,805,806,807,808,809,810,811,812,813,814,815,816,817,818,819,820,821,822,823,824,825,826,827,828,829,830,831,832,833,834,835,836,837,838,839,840,841,842,843,844,845,846,847,848,849,850,851,852,853,854,855,856,857,858,859,860,861,862,863,864,865,866,867,868,869,870,871,872,873,874,875,876,877,878,879,880,881,882,883,884,885,886,887,888,889,890,891,892,893,894,895,896,897,898,899,900,901,902,903,904,905,906,907,908,909,910,911,912,913,914,915,916,917,918,919,920,921,922,923,924,925,926,927,928,929,930,931,932,933,934,935,936,937,938,939,940,941,942,943,944,945,946,947,948,949,950,951,952,953,954,955,956,957,958,959,960,961,962,963,964,965,966,967,968,969,970,971,972,973,974,975,976,977,978,979,980,981,982,983,984,985,986,987,988,989,990,991,992,993,994,995,996,997,998,999],\"y\":[7614.463816046658,6444.522292356781,5705.475925020075,5079.4073883226065,4533.5505250163205,4060.430094336447,3652.8720419360457,3302.8790103911697,3002.318838067784,2743.594544972998,2520.0270588944286,2325.9575856616693,2156.6817622422914,2008.3182931286378,1877.669811223223,1762.0988942521533,1659.4242237717767,1567.835210885622,1485.8221630454568,1412.1195003745902,1345.6600165015884,1285.5383966634904,1230.9823038410868,1181.3294767945156,1136.0094954813226,1094.5291271758492,1056.4604203637193,1021.4309282806066,989.1156078194238,959.2300567720438,931.5248341183325,905.7806655432078,881.804378022212,859.4254386302257,838.4929969414513,818.8733494169354,800.4477592325052,783.110576944645,766.7676168893515,751.3347517925586,736.7366941669579,722.9059380139947,709.7818383989342,697.3098098158213,685.4406270537236,674.129814625206,663.3371128052091,653.0260100168726,643.1633327400095,633.7188853475554,624.6651333276175,615.9769242503361,607.6312416119247,599.6069873517029,591.8847894076116,584.4468311651335,577.2767000752934,570.3592530793686,563.6804967895117,557.2274806429165,550.9882014786042,544.9515181856335,539.1070752440689,533.4452341292287,527.9570116788526,522.6340246347365,517.4684396674389,512.452928276979,507.5806260357536,502.84509570372353,498.24029380156094,493.7605402760007,489.4004909340817,485.1551123600878,481.01965906153475,476.9896526190838,473.0608626403329,469.2292893394807,465.4911475842757,461.8428522687788,458.28100488558607,454.80238118451217,451.4039198165667,448.0827118725267,444.83599123471254,441.66112566882634,438.5556085900633,435.5170514442393,432.5431766505164,429.6318110575015,426.7808798691511,423.9884010010664,421.25247983149103,418.5713043146591,415.94314042713495,413.36632792048084,410.83927635600395,408.3604613995136,405.92842135598056,403.54175392576315,401.19911316565754,398.89920663947794,396.6407927441757,394.4226781986903,392.2437156837941,390.10280162216804,387.9988740888255,385.93091084280195,383.89792747176074,381.89897564182723,379.9331414455656,377.999543841569,376.09733317963276,374.2256898059423,372.3838227431261,370.57096844040984,368.78638958945874,367.0293740018192,365.2992335441636,363.59530312782033,361.91693974931087,360.2635215788567,358.6344470940188,357.0291342558372,355.44701972501,353.88755811581825,352.3502212856606,350.8344976581956,349.33989157822447,347.8659226965667,346.4121253832932,344.9780481677836,343.56325320417267,342.16731576083856,340.7898237326681,339.4303771749133,338.08858785752244,336.76407883889766,335.4564840580917,334.16544794451556,332.89062504428205,331.6316796623605,330.388285519765,329.16012542504484,327.9468909593817,326.748282174642,325.5640073037671,324.3937824829157,323.2373314848081,322.09438546274777,320.9646827048285,319.84796839785554,318.74399440054003,317.6525190255431,316.57330682997343,315.5061284139582,314.45076022692933,313.40698438128294,312.3745884730901,311.3533654095496,310.3431132428912,309.34363501045095,308.3547385806553,307.37623650466116,306.40794587341287,305.44968817988973,304.50128918632373,303.5625787961849,302.6333909307334,301.71356340995396,300.80293783768997,299.90135949081014,299.00867721224193,298.12474330771795,297.24941344608555,296.38254656303934,295.52400476814,294.6736532549907,293.8313602144473,292.99699675074413,292.17043680042354,291.35155705395823,290.5402368799673,289.7363582519233,288.9398056772584,288.1504661287771,287.36822897829063,286.59298593238844,285.82463097026863,285.06306028355004,284.3081722179933,283.55986721706154,282.81804776725295,282.08261834514116,281.3534853660608,280.63055713438183,279.91374379531203,279.2029572881762,278.4981113011191,277.79912122717974,277.10590412169336,276.4183786609691,275.73646510220425,275.06008524458895,274.3891623915612,273.72362131417293,273.06338821553004,272.40839069626736,271.75855772102705,271.1138195859029,270.47410788682134,269.83935548882687,269.20949649624,268.58446622366205,267.96420116779666,267.3486389800619,266.73771843996786,266.131379429233,265.52956290661825,264.93221088345246,264.33926639982997,263.75067350145696,263.16637721712664,262.58632353680383,262.01045939029825,261.43873262651056,260.8710919932301,260.3074871174704,259.7478684863233,259.1921874283171,258.6403960952629,258.092447444574,257.5482952220444,257.0078939450717,256.4711988863128,255.9381660577565,255.4087521952035,254.88291474313985,254.36061183999266,253.84180230375682,253.32644561798242,252.8145019181105,252.30593197814943,251.80069719767994,251.29875958918075,250.80008176566417,250.30462692861488,249.81235885622004,249.32324189188606,248.83724093303164,248.35432142014906,247.87444932612806,247.39759114583308,246.92371388592792,246.4527850549406,245.98477265356144,245.5196451651686,245.05737154657467,244.5979212189874,244.14126405918046,243.68737039086665,243.23621097626935,242.7877570078868,242.34198010044332,241.89885228302296,241.4583459913811,241.02043406042836,240.58508971688332,240.15228657208866,239.7219986149871,239.2942002052529,238.8688660665745,238.44597128008468,238.0254912779345,237.6074018370074,237.191679072769,236.77829943325102,236.3672396931635,235.95847694813423,235.55198860907078,235.14775239664297,234.74574633588196,234.3459487508935,233.94833825968323,233.55289376908883,233.15959446981995,232.76841983160017,232.37934959841007,231.99236378382872,231.60744266647055,231.22456678551663,230.84371693633653,230.46487416619945,230.08801977007306,229.71313528650614,229.3402024935952,228.96920340503115,228.60012026622564,228.2329355505145,227.86763195543608,227.50419239908427,227.14260001653187,226.78283815632582,226.42489037704996,226.0687404439552,225.71437232565557,225.36177019088728,225.01091840533175,224.66180152849856,224.3144043106684,223.9687116898952,223.6247087890647,223.28238091300852,222.94171354567368,222.60269234734497,222.2653031519195,221.92953196423235,221.59536495743242,221.2627884704064,220.93178900525137,220.60235322479335,220.27446795015192,219.94812015834958,219.62329697996483,219.29998569682775,218.9781737397579,218.65784868634276,218.33899825875704,218.02161032162013,217.7056728798932,217.391174076813,217.07810219186294,216.7664456387802,216.45619296359808,216.14733284272296,215.8398540810449,215.53374561008195,215.22899648615652,214.92559588860343,214.62353311800953,214.32279759448352,214.02337885595594,213.72526655650822,213.42845046473047,213.13292046210748,212.83866654143236,212.54567880524692,212.25394746430862,211.96346283608364,211.6742153432652,211.38619551231668,211.0993939720396,210.81380145216497,210.52940878196864,210.24620688890923,209.96418679728896,209.68333962693657,209.40365659191164,209.1251289992304,208.8477482476129,208.5715058262495,208.2963933135882,208.02240237614222,207.74952476731545,207.47775232624795,207.2070769766799,206.93749072583336,206.6689856633122,206.40155396001973,206.13518786709338,205.86987971485624,205.60562191178525,205.34240694349575,205.080227371742,204.81907583343326,204.55894503966547,204.29982777476795,204.04171689536466,203.78460532945056,203.5284860754821,203.2733522014814,203.01919684415452,202.76601320802348,202.51379456457119,202.2625342513994,202.01222567139996,201.76286229193826,201.514437644049,201.26694532164453,201.0203789807347,200.77473233865845,200.52999917332747,200.2861733224803,200.04324868294833,199.8012192099323,199.5600789162895,199.31982187183198,199.0804422026344,198.84193409035274,198.60429177155245,198.36750953704708,198.13158173124597,197.89650275151146,197.6622670475263,197.42886912066894,197.19630352339863,196.96456485864968,196.73364777923345,196.50354698724982,196.27425723350652,196.04577331694742,195.81809008408774,195.59120242845867,195.36510529005903,195.13979365481495,194.91526255404713,194.6915070639452,194.46852230505053,194.24630344174497,194.02484568174737,193.80414427561752,193.58419451626617,193.36499173847204,193.14653131840626,192.92880867316188,192.71181926029186,192.4955585773514,192.28002216144765,192.06520558879558,191.8511044742795,191.63771447102044,191.42503126995032,191.21305059939073,191.00176822463771,190.79117994755282,190.58128160615894,190.3720690742416,190.16353826095605,189.95568511043885,189.7485056014256,189.5419957468728,189.33615159358536,189.13096922184863,188.92644474506545,188.72257430939828,188.5193540934153,188.31678030774174,188.1148491947157,187.91355702804816,187.71290011248774,187.5128747834895,187.31347740688824,187.11470437857614,186.91655212418402,186.71901709876744,186.52209578649604,186.3257847003478,186.13008038180612,185.93497940056147,185.74047835421686,185.5465738679964,185.35326259445873,185.16054121321238,184.96840643063643,184.77685497960357,184.5858836192071,184.39548913449113,184.20566833618417,184.01641806043645,183.8277351685598,183.63961654677138,183.45205910593995,183.26505978133625,183.07861553238524,182.89272334242256,182.70738021845287,182.52258319091197,182.33832931343179,182.15461566260757,181.97143933776854,181.78879746075117,181.606687175675,181.42510564872143,181.24405006791523,181.06351764290818,180.8835056047659,180.70401120575704,180.5250317191446,180.34656443898047,180.16860667990179,179.99115577693004,179.8142090852725,179.63776398012584,179.46181785648224,179.28636812893794,179.11141223150332,178.93694761741656,178.76297175895775,178.58948214726652,178.4164762921616,178.2439517219618,178.07190598330942,177.90033664099624,177.72924127779086,177.55861749426802,177.38846290864055,177.2187751565921,177.04955189111342,176.88079078233886,176.71248951738573,176.5446458001952,176.3772573513751,176.21032190804436,176.04383722367936,175.87780106796185,175.71221122662877,175.54706550132366,175.3823617094498,175.2180976840249,175.05427127353758,174.890880341805,174.72792276783304,174.5653964456768,174.40329928430367,174.2416292074575,174.08038415352385,173.9195620753978,173.75916094035225,173.59917872990803,173.4396134397054,173.28046307937694,173.12172567242192,172.96339925608214,172.8054818812187,172.6479716121904,172.4908665267336,172.3341647158431,172.1778642836542,172.0219633473269,171.86646003693002,171.71135249532733,171.55663887806534,171.40231735326122,171.24838610149266,171.0948433156887,170.94168720102175,170.7889159748007,170.63652786636516,170.4845211169809,170.33289397973653,170.18164471944067,170.03077161252102,169.88027294692398,169.73014702201525,169.58039214848193,169.4310066482352,169.28198885431425,169.13333711079116,168.9850497726766,168.83712520582685,168.68956178685139,168.542357903022,168.395511952182,168.2490223426571,168.1028874931671,167.95710583273762,167.81167580061455,167.66659584617736,167.52186442885437,167.37748001803914,167.23344109300675,167.08974614283176,166.94639366630653,166.80338217186085,166.6607101774814,166.5183762106337,166.37637880818286,166.23471651631647,166.09338789046805,165.95239149524093,165.8117259043329,165.6713897004622,165.53138147529353,165.39169982936488,165.25234337201573,165.11331072131526,164.97460050399155,164.8362113553616,164.69814191926153,164.56039084797817,164.42295680218092,164.2858384508543,164.14903447123098,164.01254354872603,163.87636437687127,163.74049565725036,163.6049360994348,163.4696844209202,163.33473934706345,163.20009961102016,163.065763953683,162.93173112362078,162.7979998770176,162.6645689776126,162.53143719664132,162.39860331277606,162.26606611206805,162.13382438788966,162.00187694087685,161.8702225788731,161.73886011687281,161.6077883769659,161.47700618828304,161.3465123869406,161.21630581598686,161.0863853253486,160.95674977177788,160.82739801879984,160.69832893666026,160.56954140227433,160.44103429917539,160.31280651746445,160.18485695376017,160.05718451114893,159.92978809913586,159.80266663359615,159.67581903672632,159.54924423699703,159.42294116910512,159.2969087739269,159.1711459984716,159.04565179583523,158.9204251251548,158.79546495156308,158.67077024614383,158.5463399858873,158.42217315364593,158.29826873809117,158.17462573366976,158.0512431405611,157.9281199646347,157.8052552174081,157.68264791600512,157.5602970831144,157.4382017469487,157.31636094120404,157.19477370501943,157.07343908293723,156.95235612486334,156.8315238860281,156.71094142694741,156.5906078133844,156.47052211631112,156.3506834118708,156.23109078134013,156.1117433110924,155.9926400925606,155.87378022220088,155.7551628014562,155.6367869367208,155.51865173930418,155.4007563253964,155.28309981603263,155.1656813370589,155.0485000190975,154.93155499751293,154.8148454123786,154.69837040844254,154.58212913509504,154.4661207463355,154.3503444007395,154.23479926142704,154.11948449603,154.00439927666076,153.88954277988034,153.77491418666747,153.66051268238758,153.54633745676188,153.43238770383724,153.3186626219557,153.20516141372488,153.09188328598788,152.97882744979424,152.8659931203707,152.753379517092,152.6409858634525,152.5288113870376,152.4168553194956,152.3051168965097,152.19359535777008,152.0822899469468,151.97119991166213,151.8603245034637,151.74966297779756,151.63921459398182,151.52897861517994,151.4189543083748,151.30914094434252,151.19953779762722,151.09014414651477,150.98095927300807,150.8719824628016,150.76321300525683,150.65465019337717,150.54629332378377,150.4381416966911,150.33019461588276,150.22245138868783,150.11491132595685,150.00757374203852,149.90043795475646,149.79350328538575,149.6867690586302,149.5802346025998,149.47389924878752,149.36776233204745,149.2618231905726,149.1560811658725,149.05053560275138,148.94518584928687,148.84003125680817,148.73507117987475,148.63030497625508,148.5257320069059,148.42135163595108,148.31716323066118,148.2131661614328,148.10935980176845,148.00574352825578,147.90231672054844,147.7990787613453,147.69602903637156,147.5931669343584,147.4904918470244,147.38800316905548,147.28570029808634,147.18358263468147,147.08164958231595,146.97990054735715,146.87833493904628,146.77695216947964,146.6757516535908,146.57473280913212,146.47389505665717,146.37323781950275,146.2727605237711,146.1724625983127,146.07234347470842,145.97240258725273,145.8726393729361,145.77305327142858,145.67364372506225,145.57441017881482,145.47535208029325,145.3764688797168,145.2777600299011,145.1792249862413,145.08086320669685,144.98267415177455,144.88465728451337,144.78681207046856,144.68913797769557,144.59163447673524,144.4943010405979,144.3971371447481,144.30014226708983,144.20331588795105,144.10665749006887,144.01016655857495,143.91384258098049,143.81768504716163,143.72169344934514,143.62586728209408,143.53020604229303,143.43470922913465,143.3393763441049,143.2442068909695,143.1492003757599,143.05435630675981,142.95967419449087,142.86515355169988,142.77079389334472,142.67659473658145,142.58255560075074,142.4886760073648,142.39495548009432,142.30139354475554,142.20798972929717,142.114743563788,142.02165458040372,141.9287223134147,141.8359462991733,141.74332607610154,141.65086118467866,141.55855116742904,141.46639556891,141.37439393569952,141.28254581638458,141.1908507615492,141.09930832376244,141.0079180575669,140.91667951946698,140.82559226791741,140.73465586331167,140.64386986797075,140.5532338461317,140.4627473639364,140.3724099894207,140.28222129250298,140.1921808449733,140.10228822048265,140.01254299453197,139.9229447444613,139.83349304943937,139.74418749045287,139.65502765029572,139.56601311355905,139.47714346662042,139.38841829763373,139.2998371965188,139.21139975495169,139.12310556635381,139.03495422588279,138.9469453304217,138.85907847856987,138.7713532706326,138.68376930861172,138.59632619619566,138.50902353875009,138.42186094330813,138.33483801856127,138.24795437484946,138.16120962415198,138.07460338007846,137.98813525785914,137.90180487433616,137.81561184795416,137.7295557987514,137.64363634835087,137.5578531199513,137.47220573831828,137.38669382977548,137.3013170221961,137.21607494499398,137.13096722911516,137.04599350702924,136.96115341272096,136.87644658168185,136.79187265090164,136.70743125886014,136.62312204551884,136.53894465231298,136.454898722143,136.37098389936668,136.2871998297914,136.20354616066555,136.1200225406711,136.03662861991526,135.95336404992318,135.87022848363,135.78722157537283,135.7043429808836,135.62159235728103,135.5389693630631,135.45647365810004,135.37410490362612,135.2918627622327,135.20974689786104,135.1277569757944,135.0458926626513,134.964153626378,134.8825395362415,134.8010500628224,134.7196848780076,134.63844365498386,134.5573260682301,134.47633179351075,134.39546050786916,134.31471188962036,134.23408561834435,134.15358137487968,134.073198841316,133.9929377009883,133.9127976384696,133.83277833956475,133.7528794913037,133.67310078193515,133.5934419009198,133.51390253892455,133.43448238781542,133.35518114065178,133.27599849167967,133.19693413632595,133.11798777119165,133.03915909404623,132.96044780382113,132.88185360060393,132.8033761856321,132.72501526128727,132.64677053108895,132.56864169968884,132.49062847286467,132.4127305575148,132.33494766165194,132.25727949439764,132.17972576597649,132.10228618771035,132.02496047201282,131.94774833238347,131.87064948340233,131.79366364072436,131.71679052107373,131.64002984223865,131.56338132306564,131.48684468345434,131.41041964435178,131.33410592774754,131.2579032566679,131.18181135517088,131.10582994834107,131.02995876228402,130.95419752412138,130.87854596198588,130.80300380501566,130.7275707833498,130.65224662812275,130.57703107145977,130.50192384647164,130.42692468724957,130.35203332886087,130.2772495073433,130.2025729597009,130.12800342389846,130.0535406388574,129.9791843444504,129.90493428149705,129.830790191759,129.7567518179353,129.68281890365756,129.60899119348565,129.53526843290274,129.46165036831104,129.38813674702723,129.31472731727752,129.24142182819367,129.16822002980834,129.0951216730507,129.02212650974172,128.9492342925903,128.87644477518856,128.80375771200767,128.73117285839336,128.65868997056194,128.58630880559585,128.51402912143934,128.44185067689452,128.36977323161722,128.2977965461125,128.22592038173082,128.15414450066385,128.08246866594044,128.01089264142254,127.9394161918013,127.86803908259263,127.79676108013402,127.72558195157968,127.65450146489752,127.58351938886443,127.51263549306294,127.44184954787715,127.37116132448901,127.30057059487447,127.23007713179949,127.15968070881667,127.0893811002612,127.01917808124726,126.94907142766435,126.8790609161735,126.80914632420385,126.73932742994872,126.66960401236207,126.59997585115529,126.53044272679313,126.46100442049047,126.39166071420847,126.32241139065154,126.25325623326363,126.18419502622447,126.11522755444676,126.04635360357214,125.97757295996811,125.9088854107247,125.84029074365091,125.77178874727142,125.70337921082347,125.63506192425328,125.56683667821285,125.4987032640569,125.43066147383938,125.36271110031018]},\"selected\":{\"id\":\"2410\"},\"selection_policy\":{\"id\":\"2409\"}},\"id\":\"2286\",\"type\":\"ColumnDataSource\"},{\"attributes\":{\"bottom_units\":\"screen\",\"coordinates\":null,\"fill_alpha\":0.5,\"fill_color\":\"lightgrey\",\"group\":null,\"left_units\":\"screen\",\"level\":\"overlay\",\"line_alpha\":1.0,\"line_color\":\"black\",\"line_dash\":[4,4],\"line_width\":2,\"right_units\":\"screen\",\"syncable\":false,\"top_units\":\"screen\"},\"id\":\"2278\",\"type\":\"BoxAnnotation\"}],\"root_ids\":[\"2253\"]},\"title\":\"Bokeh Application\",\"version\":\"2.4.3\"}};\n",
       "  const render_items = [{\"docid\":\"7753a57d-eeec-4830-a44c-33e995ef4306\",\"root_ids\":[\"2253\"],\"roots\":{\"2253\":\"43a035a3-eea2-461b-a8fc-73eb42ed8adf\"}}];\n",
       "  root.Bokeh.embed.embed_items_notebook(docs_json, render_items);\n",
       "  }\n",
       "  if (root.Bokeh !== undefined) {\n",
       "    embed_document(root);\n",
       "  } else {\n",
       "    let attempts = 0;\n",
       "    const timer = setInterval(function(root) {\n",
       "      if (root.Bokeh !== undefined) {\n",
       "        clearInterval(timer);\n",
       "        embed_document(root);\n",
       "      } else {\n",
       "        attempts++;\n",
       "        if (attempts > 100) {\n",
       "          clearInterval(timer);\n",
       "          console.log(\"Bokeh: ERROR: Unable to run BokehJS code because BokehJS library is missing\");\n",
       "        }\n",
       "      }\n",
       "    }, 10, root)\n",
       "  }\n",
       "})(window);"
      ],
      "application/vnd.bokehjs_exec.v0+json": ""
     },
     "metadata": {
      "application/vnd.bokehjs_exec.v0+json": {
       "id": "2253"
      }
     },
     "output_type": "display_data"
    }
   ],
   "source": [
    "p = figure(title=\"Negative Log Likelihood over iterations\")\n",
    "p.line(x=list(range(len(L))), y=L)\n",
    "show(p)"
   ]
  },
  {
   "cell_type": "markdown",
   "metadata": {},
   "source": [
    "## Stochastic Gradient Descent\n",
    "\n",
    "The SGD algorithm is \"batch descent\" with a batch size of one. "
   ]
  },
  {
   "cell_type": "code",
   "execution_count": null,
   "metadata": {},
   "outputs": [
    {
     "name": "stderr",
     "output_type": "stream",
     "text": [
      " 62%|██████████████████████████████████████████████████▌                              | 312/500 [00:22<00:13, 14.41it/s]"
     ]
    }
   ],
   "source": [
    "M, L = block_descent(data,Y,block_size=1,max_epochs=500)"
   ]
  },
  {
   "cell_type": "code",
   "execution_count": 13,
   "metadata": {},
   "outputs": [
    {
     "name": "stdout",
     "output_type": "stream",
     "text": [
      "Percentage correct on training data = 97.9966611018364\n"
     ]
    }
   ],
   "source": [
    "predicted = np.argmax(softmax(data @ M, axis=1), axis=1)\n",
    "correct = (predicted == labels).sum()\n",
    "percentage = correct / len(labels)\n",
    "print(\"Percentage correct on training data = {}\".format(100 * percentage))"
   ]
  },
  {
   "cell_type": "code",
   "execution_count": null,
   "metadata": {},
   "outputs": [],
   "source": []
  }
 ],
 "metadata": {
  "kernelspec": {
   "display_name": "Python 3 (ipykernel)",
   "language": "python",
   "name": "python3"
  },
  "language_info": {
   "codemirror_mode": {
    "name": "ipython",
    "version": 3
   },
   "file_extension": ".py",
   "mimetype": "text/x-python",
   "name": "python",
   "nbconvert_exporter": "python",
   "pygments_lexer": "ipython3",
   "version": "3.9.15"
  },
  "vscode": {
   "interpreter": {
    "hash": "8d760aa701f9c3953c4158a2f5d628550462b9fbb129003fab9d076ff94005fb"
   }
  }
 },
 "nbformat": 4,
 "nbformat_minor": 4
}
