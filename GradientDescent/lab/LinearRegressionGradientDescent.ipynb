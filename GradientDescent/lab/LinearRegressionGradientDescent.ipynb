{
 "cells": [
  {
   "cell_type": "markdown",
   "metadata": {},
   "source": [
    "# Linear Regression via Gradient Descent"
   ]
  },
  {
   "cell_type": "code",
   "execution_count": 6,
   "metadata": {},
   "outputs": [
    {
     "data": {
      "text/html": [
       "<div class=\"bk-root\">\n",
       "        <a href=\"https://bokeh.org\" target=\"_blank\" class=\"bk-logo bk-logo-small bk-logo-notebook\"></a>\n",
       "        <span id=\"1172\">Loading BokehJS ...</span>\n",
       "    </div>\n"
      ]
     },
     "metadata": {},
     "output_type": "display_data"
    },
    {
     "data": {
      "application/javascript": [
       "(function(root) {\n",
       "  function now() {\n",
       "    return new Date();\n",
       "  }\n",
       "\n",
       "  const force = true;\n",
       "\n",
       "  if (typeof root._bokeh_onload_callbacks === \"undefined\" || force === true) {\n",
       "    root._bokeh_onload_callbacks = [];\n",
       "    root._bokeh_is_loading = undefined;\n",
       "  }\n",
       "\n",
       "const JS_MIME_TYPE = 'application/javascript';\n",
       "  const HTML_MIME_TYPE = 'text/html';\n",
       "  const EXEC_MIME_TYPE = 'application/vnd.bokehjs_exec.v0+json';\n",
       "  const CLASS_NAME = 'output_bokeh rendered_html';\n",
       "\n",
       "  /**\n",
       "   * Render data to the DOM node\n",
       "   */\n",
       "  function render(props, node) {\n",
       "    const script = document.createElement(\"script\");\n",
       "    node.appendChild(script);\n",
       "  }\n",
       "\n",
       "  /**\n",
       "   * Handle when an output is cleared or removed\n",
       "   */\n",
       "  function handleClearOutput(event, handle) {\n",
       "    const cell = handle.cell;\n",
       "\n",
       "    const id = cell.output_area._bokeh_element_id;\n",
       "    const server_id = cell.output_area._bokeh_server_id;\n",
       "    // Clean up Bokeh references\n",
       "    if (id != null && id in Bokeh.index) {\n",
       "      Bokeh.index[id].model.document.clear();\n",
       "      delete Bokeh.index[id];\n",
       "    }\n",
       "\n",
       "    if (server_id !== undefined) {\n",
       "      // Clean up Bokeh references\n",
       "      const cmd_clean = \"from bokeh.io.state import curstate; print(curstate().uuid_to_server['\" + server_id + \"'].get_sessions()[0].document.roots[0]._id)\";\n",
       "      cell.notebook.kernel.execute(cmd_clean, {\n",
       "        iopub: {\n",
       "          output: function(msg) {\n",
       "            const id = msg.content.text.trim();\n",
       "            if (id in Bokeh.index) {\n",
       "              Bokeh.index[id].model.document.clear();\n",
       "              delete Bokeh.index[id];\n",
       "            }\n",
       "          }\n",
       "        }\n",
       "      });\n",
       "      // Destroy server and session\n",
       "      const cmd_destroy = \"import bokeh.io.notebook as ion; ion.destroy_server('\" + server_id + \"')\";\n",
       "      cell.notebook.kernel.execute(cmd_destroy);\n",
       "    }\n",
       "  }\n",
       "\n",
       "  /**\n",
       "   * Handle when a new output is added\n",
       "   */\n",
       "  function handleAddOutput(event, handle) {\n",
       "    const output_area = handle.output_area;\n",
       "    const output = handle.output;\n",
       "\n",
       "    // limit handleAddOutput to display_data with EXEC_MIME_TYPE content only\n",
       "    if ((output.output_type != \"display_data\") || (!Object.prototype.hasOwnProperty.call(output.data, EXEC_MIME_TYPE))) {\n",
       "      return\n",
       "    }\n",
       "\n",
       "    const toinsert = output_area.element.find(\".\" + CLASS_NAME.split(' ')[0]);\n",
       "\n",
       "    if (output.metadata[EXEC_MIME_TYPE][\"id\"] !== undefined) {\n",
       "      toinsert[toinsert.length - 1].firstChild.textContent = output.data[JS_MIME_TYPE];\n",
       "      // store reference to embed id on output_area\n",
       "      output_area._bokeh_element_id = output.metadata[EXEC_MIME_TYPE][\"id\"];\n",
       "    }\n",
       "    if (output.metadata[EXEC_MIME_TYPE][\"server_id\"] !== undefined) {\n",
       "      const bk_div = document.createElement(\"div\");\n",
       "      bk_div.innerHTML = output.data[HTML_MIME_TYPE];\n",
       "      const script_attrs = bk_div.children[0].attributes;\n",
       "      for (let i = 0; i < script_attrs.length; i++) {\n",
       "        toinsert[toinsert.length - 1].firstChild.setAttribute(script_attrs[i].name, script_attrs[i].value);\n",
       "        toinsert[toinsert.length - 1].firstChild.textContent = bk_div.children[0].textContent\n",
       "      }\n",
       "      // store reference to server id on output_area\n",
       "      output_area._bokeh_server_id = output.metadata[EXEC_MIME_TYPE][\"server_id\"];\n",
       "    }\n",
       "  }\n",
       "\n",
       "  function register_renderer(events, OutputArea) {\n",
       "\n",
       "    function append_mime(data, metadata, element) {\n",
       "      // create a DOM node to render to\n",
       "      const toinsert = this.create_output_subarea(\n",
       "        metadata,\n",
       "        CLASS_NAME,\n",
       "        EXEC_MIME_TYPE\n",
       "      );\n",
       "      this.keyboard_manager.register_events(toinsert);\n",
       "      // Render to node\n",
       "      const props = {data: data, metadata: metadata[EXEC_MIME_TYPE]};\n",
       "      render(props, toinsert[toinsert.length - 1]);\n",
       "      element.append(toinsert);\n",
       "      return toinsert\n",
       "    }\n",
       "\n",
       "    /* Handle when an output is cleared or removed */\n",
       "    events.on('clear_output.CodeCell', handleClearOutput);\n",
       "    events.on('delete.Cell', handleClearOutput);\n",
       "\n",
       "    /* Handle when a new output is added */\n",
       "    events.on('output_added.OutputArea', handleAddOutput);\n",
       "\n",
       "    /**\n",
       "     * Register the mime type and append_mime function with output_area\n",
       "     */\n",
       "    OutputArea.prototype.register_mime_type(EXEC_MIME_TYPE, append_mime, {\n",
       "      /* Is output safe? */\n",
       "      safe: true,\n",
       "      /* Index of renderer in `output_area.display_order` */\n",
       "      index: 0\n",
       "    });\n",
       "  }\n",
       "\n",
       "  // register the mime type if in Jupyter Notebook environment and previously unregistered\n",
       "  if (root.Jupyter !== undefined) {\n",
       "    const events = require('base/js/events');\n",
       "    const OutputArea = require('notebook/js/outputarea').OutputArea;\n",
       "\n",
       "    if (OutputArea.prototype.mime_types().indexOf(EXEC_MIME_TYPE) == -1) {\n",
       "      register_renderer(events, OutputArea);\n",
       "    }\n",
       "  }\n",
       "  if (typeof (root._bokeh_timeout) === \"undefined\" || force === true) {\n",
       "    root._bokeh_timeout = Date.now() + 5000;\n",
       "    root._bokeh_failed_load = false;\n",
       "  }\n",
       "\n",
       "  const NB_LOAD_WARNING = {'data': {'text/html':\n",
       "     \"<div style='background-color: #fdd'>\\n\"+\n",
       "     \"<p>\\n\"+\n",
       "     \"BokehJS does not appear to have successfully loaded. If loading BokehJS from CDN, this \\n\"+\n",
       "     \"may be due to a slow or bad network connection. Possible fixes:\\n\"+\n",
       "     \"</p>\\n\"+\n",
       "     \"<ul>\\n\"+\n",
       "     \"<li>re-rerun `output_notebook()` to attempt to load from CDN again, or</li>\\n\"+\n",
       "     \"<li>use INLINE resources instead, as so:</li>\\n\"+\n",
       "     \"</ul>\\n\"+\n",
       "     \"<code>\\n\"+\n",
       "     \"from bokeh.resources import INLINE\\n\"+\n",
       "     \"output_notebook(resources=INLINE)\\n\"+\n",
       "     \"</code>\\n\"+\n",
       "     \"</div>\"}};\n",
       "\n",
       "  function display_loaded() {\n",
       "    const el = document.getElementById(\"1172\");\n",
       "    if (el != null) {\n",
       "      el.textContent = \"BokehJS is loading...\";\n",
       "    }\n",
       "    if (root.Bokeh !== undefined) {\n",
       "      if (el != null) {\n",
       "        el.textContent = \"BokehJS \" + root.Bokeh.version + \" successfully loaded.\";\n",
       "      }\n",
       "    } else if (Date.now() < root._bokeh_timeout) {\n",
       "      setTimeout(display_loaded, 100)\n",
       "    }\n",
       "  }\n",
       "\n",
       "  function run_callbacks() {\n",
       "    try {\n",
       "      root._bokeh_onload_callbacks.forEach(function(callback) {\n",
       "        if (callback != null)\n",
       "          callback();\n",
       "      });\n",
       "    } finally {\n",
       "      delete root._bokeh_onload_callbacks\n",
       "    }\n",
       "    console.debug(\"Bokeh: all callbacks have finished\");\n",
       "  }\n",
       "\n",
       "  function load_libs(css_urls, js_urls, callback) {\n",
       "    if (css_urls == null) css_urls = [];\n",
       "    if (js_urls == null) js_urls = [];\n",
       "\n",
       "    root._bokeh_onload_callbacks.push(callback);\n",
       "    if (root._bokeh_is_loading > 0) {\n",
       "      console.debug(\"Bokeh: BokehJS is being loaded, scheduling callback at\", now());\n",
       "      return null;\n",
       "    }\n",
       "    if (js_urls == null || js_urls.length === 0) {\n",
       "      run_callbacks();\n",
       "      return null;\n",
       "    }\n",
       "    console.debug(\"Bokeh: BokehJS not loaded, scheduling load and callback at\", now());\n",
       "    root._bokeh_is_loading = css_urls.length + js_urls.length;\n",
       "\n",
       "    function on_load() {\n",
       "      root._bokeh_is_loading--;\n",
       "      if (root._bokeh_is_loading === 0) {\n",
       "        console.debug(\"Bokeh: all BokehJS libraries/stylesheets loaded\");\n",
       "        run_callbacks()\n",
       "      }\n",
       "    }\n",
       "\n",
       "    function on_error(url) {\n",
       "      console.error(\"failed to load \" + url);\n",
       "    }\n",
       "\n",
       "    for (let i = 0; i < css_urls.length; i++) {\n",
       "      const url = css_urls[i];\n",
       "      const element = document.createElement(\"link\");\n",
       "      element.onload = on_load;\n",
       "      element.onerror = on_error.bind(null, url);\n",
       "      element.rel = \"stylesheet\";\n",
       "      element.type = \"text/css\";\n",
       "      element.href = url;\n",
       "      console.debug(\"Bokeh: injecting link tag for BokehJS stylesheet: \", url);\n",
       "      document.body.appendChild(element);\n",
       "    }\n",
       "\n",
       "    for (let i = 0; i < js_urls.length; i++) {\n",
       "      const url = js_urls[i];\n",
       "      const element = document.createElement('script');\n",
       "      element.onload = on_load;\n",
       "      element.onerror = on_error.bind(null, url);\n",
       "      element.async = false;\n",
       "      element.src = url;\n",
       "      console.debug(\"Bokeh: injecting script tag for BokehJS library: \", url);\n",
       "      document.head.appendChild(element);\n",
       "    }\n",
       "  };\n",
       "\n",
       "  function inject_raw_css(css) {\n",
       "    const element = document.createElement(\"style\");\n",
       "    element.appendChild(document.createTextNode(css));\n",
       "    document.body.appendChild(element);\n",
       "  }\n",
       "\n",
       "  const js_urls = [\"https://cdn.bokeh.org/bokeh/release/bokeh-2.4.3.min.js\", \"https://cdn.bokeh.org/bokeh/release/bokeh-gl-2.4.3.min.js\", \"https://cdn.bokeh.org/bokeh/release/bokeh-widgets-2.4.3.min.js\", \"https://cdn.bokeh.org/bokeh/release/bokeh-tables-2.4.3.min.js\", \"https://cdn.bokeh.org/bokeh/release/bokeh-mathjax-2.4.3.min.js\"];\n",
       "  const css_urls = [];\n",
       "\n",
       "  const inline_js = [    function(Bokeh) {\n",
       "      Bokeh.set_log_level(\"info\");\n",
       "    },\n",
       "function(Bokeh) {\n",
       "    }\n",
       "  ];\n",
       "\n",
       "  function run_inline_js() {\n",
       "    if (root.Bokeh !== undefined || force === true) {\n",
       "          for (let i = 0; i < inline_js.length; i++) {\n",
       "      inline_js[i].call(root, root.Bokeh);\n",
       "    }\n",
       "if (force === true) {\n",
       "        display_loaded();\n",
       "      }} else if (Date.now() < root._bokeh_timeout) {\n",
       "      setTimeout(run_inline_js, 100);\n",
       "    } else if (!root._bokeh_failed_load) {\n",
       "      console.log(\"Bokeh: BokehJS failed to load within specified timeout.\");\n",
       "      root._bokeh_failed_load = true;\n",
       "    } else if (force !== true) {\n",
       "      const cell = $(document.getElementById(\"1172\")).parents('.cell').data().cell;\n",
       "      cell.output_area.append_execute_result(NB_LOAD_WARNING)\n",
       "    }\n",
       "  }\n",
       "\n",
       "  if (root._bokeh_is_loading === 0) {\n",
       "    console.debug(\"Bokeh: BokehJS loaded, going straight to plotting\");\n",
       "    run_inline_js();\n",
       "  } else {\n",
       "    load_libs(css_urls, js_urls, function() {\n",
       "      console.debug(\"Bokeh: BokehJS plotting callback run at\", now());\n",
       "      run_inline_js();\n",
       "    });\n",
       "  }\n",
       "}(window));"
      ],
      "application/vnd.bokehjs_load.v0+json": "(function(root) {\n  function now() {\n    return new Date();\n  }\n\n  const force = true;\n\n  if (typeof root._bokeh_onload_callbacks === \"undefined\" || force === true) {\n    root._bokeh_onload_callbacks = [];\n    root._bokeh_is_loading = undefined;\n  }\n\n\n  if (typeof (root._bokeh_timeout) === \"undefined\" || force === true) {\n    root._bokeh_timeout = Date.now() + 5000;\n    root._bokeh_failed_load = false;\n  }\n\n  const NB_LOAD_WARNING = {'data': {'text/html':\n     \"<div style='background-color: #fdd'>\\n\"+\n     \"<p>\\n\"+\n     \"BokehJS does not appear to have successfully loaded. If loading BokehJS from CDN, this \\n\"+\n     \"may be due to a slow or bad network connection. Possible fixes:\\n\"+\n     \"</p>\\n\"+\n     \"<ul>\\n\"+\n     \"<li>re-rerun `output_notebook()` to attempt to load from CDN again, or</li>\\n\"+\n     \"<li>use INLINE resources instead, as so:</li>\\n\"+\n     \"</ul>\\n\"+\n     \"<code>\\n\"+\n     \"from bokeh.resources import INLINE\\n\"+\n     \"output_notebook(resources=INLINE)\\n\"+\n     \"</code>\\n\"+\n     \"</div>\"}};\n\n  function display_loaded() {\n    const el = document.getElementById(\"1172\");\n    if (el != null) {\n      el.textContent = \"BokehJS is loading...\";\n    }\n    if (root.Bokeh !== undefined) {\n      if (el != null) {\n        el.textContent = \"BokehJS \" + root.Bokeh.version + \" successfully loaded.\";\n      }\n    } else if (Date.now() < root._bokeh_timeout) {\n      setTimeout(display_loaded, 100)\n    }\n  }\n\n  function run_callbacks() {\n    try {\n      root._bokeh_onload_callbacks.forEach(function(callback) {\n        if (callback != null)\n          callback();\n      });\n    } finally {\n      delete root._bokeh_onload_callbacks\n    }\n    console.debug(\"Bokeh: all callbacks have finished\");\n  }\n\n  function load_libs(css_urls, js_urls, callback) {\n    if (css_urls == null) css_urls = [];\n    if (js_urls == null) js_urls = [];\n\n    root._bokeh_onload_callbacks.push(callback);\n    if (root._bokeh_is_loading > 0) {\n      console.debug(\"Bokeh: BokehJS is being loaded, scheduling callback at\", now());\n      return null;\n    }\n    if (js_urls == null || js_urls.length === 0) {\n      run_callbacks();\n      return null;\n    }\n    console.debug(\"Bokeh: BokehJS not loaded, scheduling load and callback at\", now());\n    root._bokeh_is_loading = css_urls.length + js_urls.length;\n\n    function on_load() {\n      root._bokeh_is_loading--;\n      if (root._bokeh_is_loading === 0) {\n        console.debug(\"Bokeh: all BokehJS libraries/stylesheets loaded\");\n        run_callbacks()\n      }\n    }\n\n    function on_error(url) {\n      console.error(\"failed to load \" + url);\n    }\n\n    for (let i = 0; i < css_urls.length; i++) {\n      const url = css_urls[i];\n      const element = document.createElement(\"link\");\n      element.onload = on_load;\n      element.onerror = on_error.bind(null, url);\n      element.rel = \"stylesheet\";\n      element.type = \"text/css\";\n      element.href = url;\n      console.debug(\"Bokeh: injecting link tag for BokehJS stylesheet: \", url);\n      document.body.appendChild(element);\n    }\n\n    for (let i = 0; i < js_urls.length; i++) {\n      const url = js_urls[i];\n      const element = document.createElement('script');\n      element.onload = on_load;\n      element.onerror = on_error.bind(null, url);\n      element.async = false;\n      element.src = url;\n      console.debug(\"Bokeh: injecting script tag for BokehJS library: \", url);\n      document.head.appendChild(element);\n    }\n  };\n\n  function inject_raw_css(css) {\n    const element = document.createElement(\"style\");\n    element.appendChild(document.createTextNode(css));\n    document.body.appendChild(element);\n  }\n\n  const js_urls = [\"https://cdn.bokeh.org/bokeh/release/bokeh-2.4.3.min.js\", \"https://cdn.bokeh.org/bokeh/release/bokeh-gl-2.4.3.min.js\", \"https://cdn.bokeh.org/bokeh/release/bokeh-widgets-2.4.3.min.js\", \"https://cdn.bokeh.org/bokeh/release/bokeh-tables-2.4.3.min.js\", \"https://cdn.bokeh.org/bokeh/release/bokeh-mathjax-2.4.3.min.js\"];\n  const css_urls = [];\n\n  const inline_js = [    function(Bokeh) {\n      Bokeh.set_log_level(\"info\");\n    },\nfunction(Bokeh) {\n    }\n  ];\n\n  function run_inline_js() {\n    if (root.Bokeh !== undefined || force === true) {\n          for (let i = 0; i < inline_js.length; i++) {\n      inline_js[i].call(root, root.Bokeh);\n    }\nif (force === true) {\n        display_loaded();\n      }} else if (Date.now() < root._bokeh_timeout) {\n      setTimeout(run_inline_js, 100);\n    } else if (!root._bokeh_failed_load) {\n      console.log(\"Bokeh: BokehJS failed to load within specified timeout.\");\n      root._bokeh_failed_load = true;\n    } else if (force !== true) {\n      const cell = $(document.getElementById(\"1172\")).parents('.cell').data().cell;\n      cell.output_area.append_execute_result(NB_LOAD_WARNING)\n    }\n  }\n\n  if (root._bokeh_is_loading === 0) {\n    console.debug(\"Bokeh: BokehJS loaded, going straight to plotting\");\n    run_inline_js();\n  } else {\n    load_libs(css_urls, js_urls, function() {\n      console.debug(\"Bokeh: BokehJS plotting callback run at\", now());\n      run_inline_js();\n    });\n  }\n}(window));"
     },
     "metadata": {},
     "output_type": "display_data"
    }
   ],
   "source": [
    "import numpy as np\n",
    "from bokeh.plotting import figure, output_notebook,show\n",
    "output_notebook()"
   ]
  },
  {
   "cell_type": "markdown",
   "metadata": {},
   "source": [
    "### Set up the data\n",
    "\n",
    "We use the multivariate simulated data from the regression lab, with the target variable being column 1 and the features being columns 2 and 3. We append a column of ones to the data matrix. "
   ]
  },
  {
   "cell_type": "code",
   "execution_count": 7,
   "metadata": {},
   "outputs": [],
   "source": [
    "data = np.genfromtxt(\"data/multivar_simulated/data.csv\", skip_header=1, delimiter=\",\")\n",
    "Y = data[:, 1].reshape(-1,1)\n",
    "X = data[:, 2:]\n",
    "X = np.concatenate([X, np.ones(shape=(X.shape[0], 1))], axis=1)"
   ]
  },
  {
   "cell_type": "markdown",
   "metadata": {},
   "source": [
    "Find our initial guess and the matrices needed for the gradient.  Choose a learning rate and a tolerance.\n"
   ]
  },
  {
   "cell_type": "code",
   "execution_count": 8,
   "metadata": {},
   "outputs": [],
   "source": [
    "M0 = np.random.normal(0,1,size=(X.shape[1],1))\n",
    "\n",
    "lr = .0001\n",
    "epsilon=.00001\n",
    "A = ((X.T) @ Y).reshape(3,1)\n",
    "D = X.T @ X"
   ]
  },
  {
   "cell_type": "markdown",
   "metadata": {},
   "source": [
    "Do the gradient descent iteration\n"
   ]
  },
  {
   "cell_type": "code",
   "execution_count": 9,
   "metadata": {},
   "outputs": [
    {
     "name": "stdout",
     "output_type": "stream",
     "text": [
      "converged after 2010 iterations\n"
     ]
    }
   ],
   "source": [
    "MSE0=0\n",
    "losses = []\n",
    "for i in range(10000):\n",
    "    M = M0 - lr*(-2*A+2*(D@M0))\n",
    "    MSE = np.sum(np.square(Y-(X@M)))\n",
    "    if np.abs(MSE-MSE0)<epsilon:\n",
    "        print(\"converged after {} iterations\".format(i))\n",
    "        break\n",
    "    M0=M.copy()\n",
    "    MSE0=MSE\n",
    "    losses.append(MSE)"
   ]
  },
  {
   "cell_type": "markdown",
   "metadata": {},
   "source": [
    "Compare the results of the gradient descent with the direct solution."
   ]
  },
  {
   "cell_type": "code",
   "execution_count": 10,
   "metadata": {},
   "outputs": [
    {
     "name": "stdout",
     "output_type": "stream",
     "text": [
      "Gradient Descent yields [ 1.78971601 -3.47779232  6.05091532] while direct computation yields [ 1.78777492 -3.47899986  6.0608333 ]\n"
     ]
    }
   ],
   "source": [
    "direct_solution = np.linalg.inv(D)@A\n",
    "print(f\"Gradient Descent yields {M.ravel()} while direct computation yields {direct_solution.ravel()}\")"
   ]
  },
  {
   "cell_type": "markdown",
   "metadata": {},
   "source": [
    "Behavior of the MSE over the iterations.\n"
   ]
  },
  {
   "cell_type": "code",
   "execution_count": 11,
   "metadata": {},
   "outputs": [
    {
     "data": {
      "text/html": [
       "\n",
       "  <div class=\"bk-root\" id=\"50dee96f-ca9a-4d3e-b199-b96cf89bc3e1\" data-root-id=\"1173\"></div>\n"
      ]
     },
     "metadata": {},
     "output_type": "display_data"
    },
    {
     "data": {
      "application/javascript": [
       "(function(root) {\n",
       "  function embed_document(root) {\n",
       "  const docs_json = {\"b233bedf-3854-4333-b510-0909f2469037\":{\"defs\":[],\"roots\":{\"references\":[{\"attributes\":{\"below\":[{\"id\":\"1184\"}],\"center\":[{\"id\":\"1187\"},{\"id\":\"1191\"}],\"left\":[{\"id\":\"1188\"}],\"renderers\":[{\"id\":\"1210\"}],\"title\":{\"id\":\"1174\"},\"toolbar\":{\"id\":\"1199\"},\"x_range\":{\"id\":\"1176\"},\"x_scale\":{\"id\":\"1180\"},\"y_range\":{\"id\":\"1178\"},\"y_scale\":{\"id\":\"1182\"}},\"id\":\"1173\",\"subtype\":\"Figure\",\"type\":\"Plot\"},{\"attributes\":{},\"id\":\"1217\",\"type\":\"BasicTickFormatter\"},{\"attributes\":{},\"id\":\"1182\",\"type\":\"LinearScale\"},{\"attributes\":{},\"id\":\"1215\",\"type\":\"AllLabels\"},{\"attributes\":{},\"id\":\"1176\",\"type\":\"DataRange1d\"},{\"attributes\":{\"coordinates\":null,\"data_source\":{\"id\":\"1206\"},\"glyph\":{\"id\":\"1207\"},\"group\":null,\"hover_glyph\":null,\"muted_glyph\":{\"id\":\"1209\"},\"nonselection_glyph\":{\"id\":\"1208\"},\"view\":{\"id\":\"1211\"}},\"id\":\"1210\",\"type\":\"GlyphRenderer\"},{\"attributes\":{\"coordinates\":null,\"formatter\":{\"id\":\"1214\"},\"group\":null,\"major_label_policy\":{\"id\":\"1215\"},\"ticker\":{\"id\":\"1189\"}},\"id\":\"1188\",\"type\":\"LinearAxis\"},{\"attributes\":{},\"id\":\"1219\",\"type\":\"UnionRenderers\"},{\"attributes\":{\"coordinates\":null,\"group\":null,\"text\":\"MSE for gradient descent vs iterations\"},\"id\":\"1174\",\"type\":\"Title\"},{\"attributes\":{},\"id\":\"1189\",\"type\":\"BasicTicker\"},{\"attributes\":{},\"id\":\"1178\",\"type\":\"DataRange1d\"},{\"attributes\":{},\"id\":\"1196\",\"type\":\"ResetTool\"},{\"attributes\":{\"bottom_units\":\"screen\",\"coordinates\":null,\"fill_alpha\":0.5,\"fill_color\":\"lightgrey\",\"group\":null,\"left_units\":\"screen\",\"level\":\"overlay\",\"line_alpha\":1.0,\"line_color\":\"black\",\"line_dash\":[4,4],\"line_width\":2,\"right_units\":\"screen\",\"syncable\":false,\"top_units\":\"screen\"},\"id\":\"1198\",\"type\":\"BoxAnnotation\"},{\"attributes\":{\"axis_label\":\"Iterations (x10)\",\"coordinates\":null,\"formatter\":{\"id\":\"1217\"},\"group\":null,\"major_label_policy\":{\"id\":\"1218\"},\"ticker\":{\"id\":\"1185\"}},\"id\":\"1184\",\"type\":\"LinearAxis\"},{\"attributes\":{\"source\":{\"id\":\"1206\"}},\"id\":\"1211\",\"type\":\"CDSView\"},{\"attributes\":{\"axis\":{\"id\":\"1184\"},\"coordinates\":null,\"group\":null,\"ticker\":null},\"id\":\"1187\",\"type\":\"Grid\"},{\"attributes\":{},\"id\":\"1197\",\"type\":\"HelpTool\"},{\"attributes\":{},\"id\":\"1185\",\"type\":\"BasicTicker\"},{\"attributes\":{},\"id\":\"1180\",\"type\":\"LinearScale\"},{\"attributes\":{\"tools\":[{\"id\":\"1192\"},{\"id\":\"1193\"},{\"id\":\"1194\"},{\"id\":\"1195\"},{\"id\":\"1196\"},{\"id\":\"1197\"}]},\"id\":\"1199\",\"type\":\"Toolbar\"},{\"attributes\":{\"data\":{\"x\":[50.0,60.0,70.0,80.0,90.0,100.0,110.0,120.0,130.0,140.0,150.0,160.0,170.0,180.0,190.0,200.0],\"y\":[96.62228140829761,87.88517462031153,83.18862054367527,80.66402965449218,79.30695826688655,78.57747660752187,78.18535022698696,77.97456617732986,77.86126108541231,77.80035494059084,77.76761538392816,77.75001652631514,77.7405564168679,77.73547121913963,77.73273771631075,77.73126834616728]},\"selected\":{\"id\":\"1220\"},\"selection_policy\":{\"id\":\"1219\"}},\"id\":\"1206\",\"type\":\"ColumnDataSource\"},{\"attributes\":{},\"id\":\"1220\",\"type\":\"Selection\"},{\"attributes\":{},\"id\":\"1195\",\"type\":\"SaveTool\"},{\"attributes\":{},\"id\":\"1214\",\"type\":\"BasicTickFormatter\"},{\"attributes\":{},\"id\":\"1192\",\"type\":\"PanTool\"},{\"attributes\":{\"overlay\":{\"id\":\"1198\"}},\"id\":\"1194\",\"type\":\"BoxZoomTool\"},{\"attributes\":{},\"id\":\"1218\",\"type\":\"AllLabels\"},{\"attributes\":{\"fill_alpha\":{\"value\":0.2},\"fill_color\":{\"value\":\"#1f77b4\"},\"hatch_alpha\":{\"value\":0.2},\"line_alpha\":{\"value\":0.2},\"line_color\":{\"value\":\"#1f77b4\"},\"x\":{\"field\":\"x\"},\"y\":{\"field\":\"y\"}},\"id\":\"1209\",\"type\":\"Scatter\"},{\"attributes\":{\"fill_color\":{\"value\":\"#1f77b4\"},\"line_color\":{\"value\":\"#1f77b4\"},\"x\":{\"field\":\"x\"},\"y\":{\"field\":\"y\"}},\"id\":\"1207\",\"type\":\"Scatter\"},{\"attributes\":{},\"id\":\"1193\",\"type\":\"WheelZoomTool\"},{\"attributes\":{\"axis\":{\"id\":\"1188\"},\"coordinates\":null,\"dimension\":1,\"group\":null,\"ticker\":null},\"id\":\"1191\",\"type\":\"Grid\"},{\"attributes\":{\"fill_alpha\":{\"value\":0.1},\"fill_color\":{\"value\":\"#1f77b4\"},\"hatch_alpha\":{\"value\":0.1},\"line_alpha\":{\"value\":0.1},\"line_color\":{\"value\":\"#1f77b4\"},\"x\":{\"field\":\"x\"},\"y\":{\"field\":\"y\"}},\"id\":\"1208\",\"type\":\"Scatter\"}],\"root_ids\":[\"1173\"]},\"title\":\"Bokeh Application\",\"version\":\"2.4.3\"}};\n",
       "  const render_items = [{\"docid\":\"b233bedf-3854-4333-b510-0909f2469037\",\"root_ids\":[\"1173\"],\"roots\":{\"1173\":\"50dee96f-ca9a-4d3e-b199-b96cf89bc3e1\"}}];\n",
       "  root.Bokeh.embed.embed_items_notebook(docs_json, render_items);\n",
       "  }\n",
       "  if (root.Bokeh !== undefined) {\n",
       "    embed_document(root);\n",
       "  } else {\n",
       "    let attempts = 0;\n",
       "    const timer = setInterval(function(root) {\n",
       "      if (root.Bokeh !== undefined) {\n",
       "        clearInterval(timer);\n",
       "        embed_document(root);\n",
       "      } else {\n",
       "        attempts++;\n",
       "        if (attempts > 100) {\n",
       "          clearInterval(timer);\n",
       "          console.log(\"Bokeh: ERROR: Unable to run BokehJS code because BokehJS library is missing\");\n",
       "        }\n",
       "      }\n",
       "    }, 10, root)\n",
       "  }\n",
       "})(window);"
      ],
      "application/vnd.bokehjs_exec.v0+json": ""
     },
     "metadata": {
      "application/vnd.bokehjs_exec.v0+json": {
       "id": "1173"
      }
     },
     "output_type": "display_data"
    }
   ],
   "source": [
    "\n",
    "f=figure(title='MSE for gradient descent vs iterations',x_axis_label='Iterations (x10)')\n",
    "x=list(range(len(losses)))\n",
    "f.scatter(x=[y/10 for y in x[500::100]],y=losses[500::100])\n",
    "show(f)"
   ]
  },
  {
   "cell_type": "code",
   "execution_count": 12,
   "metadata": {},
   "outputs": [
    {
     "data": {
      "text/html": [
       "\n",
       "  <div class=\"bk-root\" id=\"4ad0a246-5be3-41ab-bb77-fe6e884f94d7\" data-root-id=\"1272\"></div>\n"
      ]
     },
     "metadata": {},
     "output_type": "display_data"
    },
    {
     "data": {
      "application/javascript": [
       "(function(root) {\n",
       "  function embed_document(root) {\n",
       "  const docs_json = {\"22f284b6-e249-4018-9de6-de9215a5d9b7\":{\"defs\":[],\"roots\":{\"references\":[{\"attributes\":{\"below\":[{\"id\":\"1283\"}],\"center\":[{\"id\":\"1286\"},{\"id\":\"1290\"}],\"left\":[{\"id\":\"1287\"}],\"renderers\":[{\"id\":\"1309\"}],\"title\":{\"id\":\"1273\"},\"toolbar\":{\"id\":\"1298\"},\"x_range\":{\"id\":\"1275\"},\"x_scale\":{\"id\":\"1279\"},\"y_range\":{\"id\":\"1277\"},\"y_scale\":{\"id\":\"1281\"}},\"id\":\"1272\",\"subtype\":\"Figure\",\"type\":\"Plot\"},{\"attributes\":{\"overlay\":{\"id\":\"1297\"}},\"id\":\"1293\",\"type\":\"BoxZoomTool\"},{\"attributes\":{},\"id\":\"1284\",\"type\":\"BasicTicker\"},{\"attributes\":{},\"id\":\"1294\",\"type\":\"SaveTool\"},{\"attributes\":{\"fill_alpha\":{\"value\":0.2},\"fill_color\":{\"value\":\"#1f77b4\"},\"hatch_alpha\":{\"value\":0.2},\"line_alpha\":{\"value\":0.2},\"line_color\":{\"value\":\"#1f77b4\"},\"x\":{\"field\":\"x\"},\"y\":{\"field\":\"y\"}},\"id\":\"1308\",\"type\":\"Scatter\"},{\"attributes\":{\"fill_alpha\":{\"value\":0.1},\"fill_color\":{\"value\":\"#1f77b4\"},\"hatch_alpha\":{\"value\":0.1},\"line_alpha\":{\"value\":0.1},\"line_color\":{\"value\":\"#1f77b4\"},\"x\":{\"field\":\"x\"},\"y\":{\"field\":\"y\"}},\"id\":\"1307\",\"type\":\"Scatter\"},{\"attributes\":{},\"id\":\"1329\",\"type\":\"Selection\"},{\"attributes\":{},\"id\":\"1291\",\"type\":\"PanTool\"},{\"attributes\":{},\"id\":\"1288\",\"type\":\"BasicTicker\"},{\"attributes\":{\"coordinates\":null,\"formatter\":{\"id\":\"1323\"},\"group\":null,\"major_label_policy\":{\"id\":\"1324\"},\"ticker\":{\"id\":\"1288\"}},\"id\":\"1287\",\"type\":\"LinearAxis\"},{\"attributes\":{\"bottom_units\":\"screen\",\"coordinates\":null,\"fill_alpha\":0.5,\"fill_color\":\"lightgrey\",\"group\":null,\"left_units\":\"screen\",\"level\":\"overlay\",\"line_alpha\":1.0,\"line_color\":\"black\",\"line_dash\":[4,4],\"line_width\":2,\"right_units\":\"screen\",\"syncable\":false,\"top_units\":\"screen\"},\"id\":\"1297\",\"type\":\"BoxAnnotation\"},{\"attributes\":{},\"id\":\"1328\",\"type\":\"UnionRenderers\"},{\"attributes\":{\"axis\":{\"id\":\"1283\"},\"coordinates\":null,\"group\":null,\"ticker\":null},\"id\":\"1286\",\"type\":\"Grid\"},{\"attributes\":{},\"id\":\"1296\",\"type\":\"HelpTool\"},{\"attributes\":{\"axis\":{\"id\":\"1287\"},\"coordinates\":null,\"dimension\":1,\"group\":null,\"ticker\":null},\"id\":\"1290\",\"type\":\"Grid\"},{\"attributes\":{\"axis_label\":\"Iterations (x10)\",\"coordinates\":null,\"formatter\":{\"id\":\"1326\"},\"group\":null,\"major_label_policy\":{\"id\":\"1327\"},\"ticker\":{\"id\":\"1284\"}},\"id\":\"1283\",\"type\":\"LinearAxis\"},{\"attributes\":{\"coordinates\":null,\"data_source\":{\"id\":\"1305\"},\"glyph\":{\"id\":\"1306\"},\"group\":null,\"hover_glyph\":null,\"muted_glyph\":{\"id\":\"1308\"},\"nonselection_glyph\":{\"id\":\"1307\"},\"view\":{\"id\":\"1310\"}},\"id\":\"1309\",\"type\":\"GlyphRenderer\"},{\"attributes\":{},\"id\":\"1327\",\"type\":\"AllLabels\"},{\"attributes\":{\"source\":{\"id\":\"1305\"}},\"id\":\"1310\",\"type\":\"CDSView\"},{\"attributes\":{},\"id\":\"1275\",\"type\":\"DataRange1d\"},{\"attributes\":{},\"id\":\"1292\",\"type\":\"WheelZoomTool\"},{\"attributes\":{\"fill_color\":{\"value\":\"#1f77b4\"},\"line_color\":{\"value\":\"#1f77b4\"},\"x\":{\"field\":\"x\"},\"y\":{\"field\":\"y\"}},\"id\":\"1306\",\"type\":\"Scatter\"},{\"attributes\":{},\"id\":\"1326\",\"type\":\"BasicTickFormatter\"},{\"attributes\":{\"coordinates\":null,\"group\":null,\"text\":\"MSE vs iterations for gradient descent\"},\"id\":\"1273\",\"type\":\"Title\"},{\"attributes\":{},\"id\":\"1281\",\"type\":\"LinearScale\"},{\"attributes\":{\"data\":{\"x\":[150.0,151.0,152.0,153.0,154.0,155.0,156.0,157.0,158.0,159.0,160.0,161.0,162.0,163.0,164.0,165.0,166.0,167.0,168.0,169.0,170.0,171.0,172.0,173.0,174.0,175.0,176.0,177.0,178.0,179.0,180.0,181.0,182.0,183.0,184.0,185.0,186.0,187.0,188.0,189.0,190.0,191.0,192.0,193.0,194.0,195.0,196.0,197.0,198.0,199.0,200.0],\"y\":[77.76761538392816,77.76532494661517,77.7631723652395,77.76114934258236,77.75924808081476,77.75746125144033,77.75578196704728,77.75420375476077,77.7527205312926,77.75132657949344,77.75001652631514,77.74878532210069,77.74762822111971,77.74654076327604,77.74551875691607,77.7445582626716,77.7436555782758,77.74280722429232,77.7420099307036,77.74126062430688,77.7405564168679,77.73989459398847,77.7392726046433,77.73868805134751,77.73813868091484,77.73762237577304,77.73713714580138,77.73668112065981,77.73625254257954,77.7358497595877,77.73547121913963,77.7351154621347,77.73478111729206,77.73446689586483,77.73417158667296,77.73389405143418,77.73363322037684,77.73338808811633,77.73315770977952,77.7329411973632,77.73273771631075,77.73254648229565,77.73236675819793,77.73219785126332,77.73203911043268,77.73188992383245,77.73174971641652,77.73161794774923,77.7314941099225,77.731377725598,77.73126834616728]},\"selected\":{\"id\":\"1329\"},\"selection_policy\":{\"id\":\"1328\"}},\"id\":\"1305\",\"type\":\"ColumnDataSource\"},{\"attributes\":{},\"id\":\"1277\",\"type\":\"DataRange1d\"},{\"attributes\":{},\"id\":\"1324\",\"type\":\"AllLabels\"},{\"attributes\":{},\"id\":\"1279\",\"type\":\"LinearScale\"},{\"attributes\":{},\"id\":\"1323\",\"type\":\"BasicTickFormatter\"},{\"attributes\":{\"tools\":[{\"id\":\"1291\"},{\"id\":\"1292\"},{\"id\":\"1293\"},{\"id\":\"1294\"},{\"id\":\"1295\"},{\"id\":\"1296\"}]},\"id\":\"1298\",\"type\":\"Toolbar\"},{\"attributes\":{},\"id\":\"1295\",\"type\":\"ResetTool\"}],\"root_ids\":[\"1272\"]},\"title\":\"Bokeh Application\",\"version\":\"2.4.3\"}};\n",
       "  const render_items = [{\"docid\":\"22f284b6-e249-4018-9de6-de9215a5d9b7\",\"root_ids\":[\"1272\"],\"roots\":{\"1272\":\"4ad0a246-5be3-41ab-bb77-fe6e884f94d7\"}}];\n",
       "  root.Bokeh.embed.embed_items_notebook(docs_json, render_items);\n",
       "  }\n",
       "  if (root.Bokeh !== undefined) {\n",
       "    embed_document(root);\n",
       "  } else {\n",
       "    let attempts = 0;\n",
       "    const timer = setInterval(function(root) {\n",
       "      if (root.Bokeh !== undefined) {\n",
       "        clearInterval(timer);\n",
       "        embed_document(root);\n",
       "      } else {\n",
       "        attempts++;\n",
       "        if (attempts > 100) {\n",
       "          clearInterval(timer);\n",
       "          console.log(\"Bokeh: ERROR: Unable to run BokehJS code because BokehJS library is missing\");\n",
       "        }\n",
       "      }\n",
       "    }, 10, root)\n",
       "  }\n",
       "})(window);"
      ],
      "application/vnd.bokehjs_exec.v0+json": ""
     },
     "metadata": {
      "application/vnd.bokehjs_exec.v0+json": {
       "id": "1272"
      }
     },
     "output_type": "display_data"
    }
   ],
   "source": [
    "\n",
    "f2=figure(title='MSE vs iterations for gradient descent',x_axis_label='Iterations (x10)')\n",
    "x=list(range(len(losses)))\n",
    "f2.scatter(x=[y/10 for y in x[1500::10]],y=losses[1500::10])\n",
    "show(f2)"
   ]
  },
  {
   "cell_type": "markdown",
   "metadata": {},
   "source": [
    "## Stochastic Gradient Descent\n",
    "\n",
    "In stochastic gradient descent, each loop uses just one pair (x,y) from the dataset. So x is just a row of the X matrix, y is an entry from the\n",
    "y vector, and the error is $\\|(y-xM)\\|^2$.  The gradient of this is $2x\\cdot(y-xM)=2x\\cdot y - 2x\\cdot xM$.\n",
    "\n",
    "Stochastic gradient descent avoids having to do any big matrix multiplications, and in particular avoids computing $X^{T}X$ which, if $X$ has many rows, can be prohibitively expensive."
   ]
  },
  {
   "cell_type": "code",
   "execution_count": 13,
   "metadata": {},
   "outputs": [],
   "source": [
    "M0 = np.random.normal(0,1,size=(X.shape[1],1))\n",
    "lr = .0001\n",
    "epsilon=.00001"
   ]
  },
  {
   "cell_type": "code",
   "execution_count": 14,
   "metadata": {},
   "outputs": [],
   "source": [
    "losses=[]\n",
    "for j in range(10000):\n",
    "    for i in range(X.shape[0]):\n",
    "        data=X[i,:].reshape(1,X.shape[1])\n",
    "        target = Y[i,0]\n",
    "        grad = -2*data*(target-((data@M0)[0,0]))\n",
    "        M = M0 - lr*grad.T\n",
    "        M0 = M.copy()\n",
    "    MSE = np.sum(np.square(Y-(X@M)))\n",
    "    losses.append(MSE)"
   ]
  },
  {
   "cell_type": "code",
   "execution_count": 15,
   "metadata": {},
   "outputs": [
    {
     "name": "stdout",
     "output_type": "stream",
     "text": [
      "Gradient Descent yields [ 1.78866833 -3.48161702  6.05914503] while direct computation yields [ 1.78777492 -3.47899986  6.0608333 ]\n"
     ]
    }
   ],
   "source": [
    "print(f\"Gradient Descent yields {M.ravel()} while direct computation yields {direct_solution.ravel()}\")"
   ]
  },
  {
   "cell_type": "markdown",
   "metadata": {},
   "source": [
    "Stochastic gradient descent doesn't really converge to a minimum, it tends to move around the minimum point.\n",
    "To see this let's look at a simple one-variable problem"
   ]
  },
  {
   "cell_type": "code",
   "execution_count": 16,
   "metadata": {},
   "outputs": [],
   "source": [
    "x=np.linspace(0,10,10)\n",
    "y=3*x+2+np.random.normal(0,3,size=10)"
   ]
  },
  {
   "cell_type": "code",
   "execution_count": 17,
   "metadata": {},
   "outputs": [
    {
     "data": {
      "text/html": [
       "\n",
       "  <div class=\"bk-root\" id=\"3d4d3009-8e53-4721-9967-4deddf21a159\" data-root-id=\"1381\"></div>\n"
      ]
     },
     "metadata": {},
     "output_type": "display_data"
    },
    {
     "data": {
      "application/javascript": [
       "(function(root) {\n",
       "  function embed_document(root) {\n",
       "  const docs_json = {\"2b1adf33-5f72-4c69-a57e-2381135337a6\":{\"defs\":[],\"roots\":{\"references\":[{\"attributes\":{\"below\":[{\"id\":\"1390\"}],\"center\":[{\"id\":\"1393\"},{\"id\":\"1397\"}],\"left\":[{\"id\":\"1394\"}],\"renderers\":[{\"id\":\"1416\"},{\"id\":\"1422\"}],\"title\":{\"id\":\"1444\"},\"toolbar\":{\"id\":\"1405\"},\"x_range\":{\"id\":\"1382\"},\"x_scale\":{\"id\":\"1386\"},\"y_range\":{\"id\":\"1384\"},\"y_scale\":{\"id\":\"1388\"}},\"id\":\"1381\",\"subtype\":\"Figure\",\"type\":\"Plot\"},{\"attributes\":{\"fill_alpha\":{\"value\":0.2},\"fill_color\":{\"value\":\"#1f77b4\"},\"hatch_alpha\":{\"value\":0.2},\"line_alpha\":{\"value\":0.2},\"line_color\":{\"value\":\"#1f77b4\"},\"x\":{\"field\":\"x\"},\"y\":{\"field\":\"y\"}},\"id\":\"1415\",\"type\":\"Scatter\"},{\"attributes\":{\"source\":{\"id\":\"1418\"}},\"id\":\"1423\",\"type\":\"CDSView\"},{\"attributes\":{\"line_alpha\":0.2,\"line_color\":\"#1f77b4\",\"x\":{\"field\":\"x\"},\"y\":{\"field\":\"y\"}},\"id\":\"1421\",\"type\":\"Line\"},{\"attributes\":{\"coordinates\":null,\"group\":null},\"id\":\"1444\",\"type\":\"Title\"},{\"attributes\":{},\"id\":\"1399\",\"type\":\"WheelZoomTool\"},{\"attributes\":{\"coordinates\":null,\"data_source\":{\"id\":\"1412\"},\"glyph\":{\"id\":\"1413\"},\"group\":null,\"hover_glyph\":null,\"muted_glyph\":{\"id\":\"1415\"},\"nonselection_glyph\":{\"id\":\"1414\"},\"view\":{\"id\":\"1417\"}},\"id\":\"1416\",\"type\":\"GlyphRenderer\"},{\"attributes\":{},\"id\":\"1391\",\"type\":\"BasicTicker\"},{\"attributes\":{},\"id\":\"1452\",\"type\":\"UnionRenderers\"},{\"attributes\":{\"line_alpha\":0.1,\"line_color\":\"#1f77b4\",\"x\":{\"field\":\"x\"},\"y\":{\"field\":\"y\"}},\"id\":\"1420\",\"type\":\"Line\"},{\"attributes\":{},\"id\":\"1384\",\"type\":\"DataRange1d\"},{\"attributes\":{},\"id\":\"1453\",\"type\":\"Selection\"},{\"attributes\":{\"fill_color\":{\"value\":\"#1f77b4\"},\"line_color\":{\"value\":\"#1f77b4\"},\"x\":{\"field\":\"x\"},\"y\":{\"field\":\"y\"}},\"id\":\"1413\",\"type\":\"Scatter\"},{\"attributes\":{\"coordinates\":null,\"data_source\":{\"id\":\"1418\"},\"glyph\":{\"id\":\"1419\"},\"group\":null,\"hover_glyph\":null,\"muted_glyph\":{\"id\":\"1421\"},\"nonselection_glyph\":{\"id\":\"1420\"},\"view\":{\"id\":\"1423\"}},\"id\":\"1422\",\"type\":\"GlyphRenderer\"},{\"attributes\":{},\"id\":\"1386\",\"type\":\"LinearScale\"},{\"attributes\":{\"data\":{\"x\":{\"__ndarray__\":\"AAAAAAAAAAByHMdxHMfxP3Icx3EcxwFAq6qqqqqqCkByHMdxHMcRQI7jOI7jOBZAq6qqqqqqGkDIcRzHcRwfQHIcx3EcxyFAAAAAAAAAJEA=\",\"dtype\":\"float64\",\"order\":\"little\",\"shape\":[10]},\"y\":{\"__ndarray__\":\"AAAAAAAAAEBWVVVVVVUVQFZVVVVVVSFAAAAAAAAAKECrqqqqqqouQKqqqqqqqjJAAAAAAAAANkBWVVVVVVU5QKuqqqqqqjxAAAAAAAAAQEA=\",\"dtype\":\"float64\",\"order\":\"little\",\"shape\":[10]}},\"selected\":{\"id\":\"1455\"},\"selection_policy\":{\"id\":\"1454\"}},\"id\":\"1418\",\"type\":\"ColumnDataSource\"},{\"attributes\":{},\"id\":\"1382\",\"type\":\"DataRange1d\"},{\"attributes\":{},\"id\":\"1402\",\"type\":\"ResetTool\"},{\"attributes\":{},\"id\":\"1398\",\"type\":\"PanTool\"},{\"attributes\":{},\"id\":\"1401\",\"type\":\"SaveTool\"},{\"attributes\":{\"tools\":[{\"id\":\"1398\"},{\"id\":\"1399\"},{\"id\":\"1400\"},{\"id\":\"1401\"},{\"id\":\"1402\"},{\"id\":\"1403\"}]},\"id\":\"1405\",\"type\":\"Toolbar\"},{\"attributes\":{\"coordinates\":null,\"formatter\":{\"id\":\"1450\"},\"group\":null,\"major_label_policy\":{\"id\":\"1451\"},\"ticker\":{\"id\":\"1391\"}},\"id\":\"1390\",\"type\":\"LinearAxis\"},{\"attributes\":{\"axis\":{\"id\":\"1394\"},\"coordinates\":null,\"dimension\":1,\"group\":null,\"ticker\":null},\"id\":\"1397\",\"type\":\"Grid\"},{\"attributes\":{},\"id\":\"1454\",\"type\":\"UnionRenderers\"},{\"attributes\":{\"overlay\":{\"id\":\"1404\"}},\"id\":\"1400\",\"type\":\"BoxZoomTool\"},{\"attributes\":{},\"id\":\"1447\",\"type\":\"BasicTickFormatter\"},{\"attributes\":{},\"id\":\"1455\",\"type\":\"Selection\"},{\"attributes\":{},\"id\":\"1448\",\"type\":\"AllLabels\"},{\"attributes\":{\"source\":{\"id\":\"1412\"}},\"id\":\"1417\",\"type\":\"CDSView\"},{\"attributes\":{\"bottom_units\":\"screen\",\"coordinates\":null,\"fill_alpha\":0.5,\"fill_color\":\"lightgrey\",\"group\":null,\"left_units\":\"screen\",\"level\":\"overlay\",\"line_alpha\":1.0,\"line_color\":\"black\",\"line_dash\":[4,4],\"line_width\":2,\"right_units\":\"screen\",\"syncable\":false,\"top_units\":\"screen\"},\"id\":\"1404\",\"type\":\"BoxAnnotation\"},{\"attributes\":{\"coordinates\":null,\"formatter\":{\"id\":\"1447\"},\"group\":null,\"major_label_policy\":{\"id\":\"1448\"},\"ticker\":{\"id\":\"1395\"}},\"id\":\"1394\",\"type\":\"LinearAxis\"},{\"attributes\":{},\"id\":\"1450\",\"type\":\"BasicTickFormatter\"},{\"attributes\":{},\"id\":\"1403\",\"type\":\"HelpTool\"},{\"attributes\":{\"fill_alpha\":{\"value\":0.1},\"fill_color\":{\"value\":\"#1f77b4\"},\"hatch_alpha\":{\"value\":0.1},\"line_alpha\":{\"value\":0.1},\"line_color\":{\"value\":\"#1f77b4\"},\"x\":{\"field\":\"x\"},\"y\":{\"field\":\"y\"}},\"id\":\"1414\",\"type\":\"Scatter\"},{\"attributes\":{},\"id\":\"1395\",\"type\":\"BasicTicker\"},{\"attributes\":{\"line_color\":\"#1f77b4\",\"x\":{\"field\":\"x\"},\"y\":{\"field\":\"y\"}},\"id\":\"1419\",\"type\":\"Line\"},{\"attributes\":{},\"id\":\"1451\",\"type\":\"AllLabels\"},{\"attributes\":{\"data\":{\"x\":{\"__ndarray__\":\"AAAAAAAAAAByHMdxHMfxP3Icx3EcxwFAq6qqqqqqCkByHMdxHMcRQI7jOI7jOBZAq6qqqqqqGkDIcRzHcRwfQHIcx3EcxyFAAAAAAAAAJEA=\",\"dtype\":\"float64\",\"order\":\"little\",\"shape\":[10]},\"y\":{\"__ndarray__\":\"/9nqou6PE0Cv7xZtk7QTQLKUS+dhyxpA64yw1kpjLEDNU428SmQxQBrJXFgDnDNAtqeE6wbCNEDmBnSJPuM2QG6PRky9oz5ARuOMaSvrPkA=\",\"dtype\":\"float64\",\"order\":\"little\",\"shape\":[10]}},\"selected\":{\"id\":\"1453\"},\"selection_policy\":{\"id\":\"1452\"}},\"id\":\"1412\",\"type\":\"ColumnDataSource\"},{\"attributes\":{},\"id\":\"1388\",\"type\":\"LinearScale\"},{\"attributes\":{\"axis\":{\"id\":\"1390\"},\"coordinates\":null,\"group\":null,\"ticker\":null},\"id\":\"1393\",\"type\":\"Grid\"}],\"root_ids\":[\"1381\"]},\"title\":\"Bokeh Application\",\"version\":\"2.4.3\"}};\n",
       "  const render_items = [{\"docid\":\"2b1adf33-5f72-4c69-a57e-2381135337a6\",\"root_ids\":[\"1381\"],\"roots\":{\"1381\":\"3d4d3009-8e53-4721-9967-4deddf21a159\"}}];\n",
       "  root.Bokeh.embed.embed_items_notebook(docs_json, render_items);\n",
       "  }\n",
       "  if (root.Bokeh !== undefined) {\n",
       "    embed_document(root);\n",
       "  } else {\n",
       "    let attempts = 0;\n",
       "    const timer = setInterval(function(root) {\n",
       "      if (root.Bokeh !== undefined) {\n",
       "        clearInterval(timer);\n",
       "        embed_document(root);\n",
       "      } else {\n",
       "        attempts++;\n",
       "        if (attempts > 100) {\n",
       "          clearInterval(timer);\n",
       "          console.log(\"Bokeh: ERROR: Unable to run BokehJS code because BokehJS library is missing\");\n",
       "        }\n",
       "      }\n",
       "    }, 10, root)\n",
       "  }\n",
       "})(window);"
      ],
      "application/vnd.bokehjs_exec.v0+json": ""
     },
     "metadata": {
      "application/vnd.bokehjs_exec.v0+json": {
       "id": "1381"
      }
     },
     "output_type": "display_data"
    }
   ],
   "source": [
    "f5=figure()\n",
    "f5.scatter(x=x,y=y)\n",
    "f5.line(x=x,y=3*x+2)\n",
    "show(f5)"
   ]
  },
  {
   "cell_type": "code",
   "execution_count": 18,
   "metadata": {},
   "outputs": [],
   "source": [
    "w=np.random.normal(0,1)\n",
    "b=np.random.normal(0,1)\n",
    "losses=[]\n",
    "for j in range(100):\n",
    "    for i in range(len(x)):\n",
    "        data=x[i]\n",
    "        target = y[i]\n",
    "        wgrad = -2*data*(target-(w*data+b))\n",
    "        bgrad = -2*(target-(w*data+b))\n",
    "        w = w - lr*wgrad\n",
    "        b = b - lr*bgrad\n",
    "        loss = (target-(w*data+b))**2\n",
    "        losses.append(loss)\n"
   ]
  },
  {
   "cell_type": "code",
   "execution_count": 19,
   "metadata": {},
   "outputs": [
    {
     "name": "stdout",
     "output_type": "stream",
     "text": [
      "found slope=3.2564270513780307 and intercept=0.09952766210130136\n"
     ]
    }
   ],
   "source": [
    "print(f\"found slope={w} and intercept={b}\")"
   ]
  },
  {
   "cell_type": "code",
   "execution_count": 20,
   "metadata": {},
   "outputs": [
    {
     "data": {
      "text/html": [
       "\n",
       "  <div class=\"bk-root\" id=\"be4ec092-1c13-4d44-8ace-555c1bcaab2e\" data-root-id=\"1522\"></div>\n"
      ]
     },
     "metadata": {},
     "output_type": "display_data"
    },
    {
     "data": {
      "application/javascript": [
       "(function(root) {\n",
       "  function embed_document(root) {\n",
       "  const docs_json = {\"d9516ff9-c8ce-4f17-bdf3-0e57c98c6c07\":{\"defs\":[],\"roots\":{\"references\":[{\"attributes\":{\"below\":[{\"id\":\"1533\"}],\"center\":[{\"id\":\"1536\"},{\"id\":\"1540\"}],\"left\":[{\"id\":\"1537\"}],\"renderers\":[{\"id\":\"1559\"}],\"title\":{\"id\":\"1523\"},\"toolbar\":{\"id\":\"1548\"},\"x_range\":{\"id\":\"1525\"},\"x_scale\":{\"id\":\"1529\"},\"y_range\":{\"id\":\"1527\"},\"y_scale\":{\"id\":\"1531\"}},\"id\":\"1522\",\"subtype\":\"Figure\",\"type\":\"Plot\"},{\"attributes\":{},\"id\":\"1602\",\"type\":\"Selection\"},{\"attributes\":{\"coordinates\":null,\"formatter\":{\"id\":\"1596\"},\"group\":null,\"major_label_policy\":{\"id\":\"1597\"},\"ticker\":{\"id\":\"1538\"}},\"id\":\"1537\",\"type\":\"LinearAxis\"},{\"attributes\":{},\"id\":\"1534\",\"type\":\"BasicTicker\"},{\"attributes\":{},\"id\":\"1601\",\"type\":\"UnionRenderers\"},{\"attributes\":{},\"id\":\"1541\",\"type\":\"PanTool\"},{\"attributes\":{\"fill_alpha\":{\"value\":0.2},\"fill_color\":{\"value\":\"#1f77b4\"},\"hatch_alpha\":{\"value\":0.2},\"line_alpha\":{\"value\":0.2},\"line_color\":{\"value\":\"#1f77b4\"},\"x\":{\"field\":\"x\"},\"y\":{\"field\":\"y\"}},\"id\":\"1558\",\"type\":\"Scatter\"},{\"attributes\":{},\"id\":\"1538\",\"type\":\"BasicTicker\"},{\"attributes\":{\"bottom_units\":\"screen\",\"coordinates\":null,\"fill_alpha\":0.5,\"fill_color\":\"lightgrey\",\"group\":null,\"left_units\":\"screen\",\"level\":\"overlay\",\"line_alpha\":1.0,\"line_color\":\"black\",\"line_dash\":[4,4],\"line_width\":2,\"right_units\":\"screen\",\"syncable\":false,\"top_units\":\"screen\"},\"id\":\"1547\",\"type\":\"BoxAnnotation\"},{\"attributes\":{\"coordinates\":null,\"data_source\":{\"id\":\"1555\"},\"glyph\":{\"id\":\"1556\"},\"group\":null,\"hover_glyph\":null,\"muted_glyph\":{\"id\":\"1558\"},\"nonselection_glyph\":{\"id\":\"1557\"},\"view\":{\"id\":\"1560\"}},\"id\":\"1559\",\"type\":\"GlyphRenderer\"},{\"attributes\":{},\"id\":\"1600\",\"type\":\"AllLabels\"},{\"attributes\":{},\"id\":\"1546\",\"type\":\"HelpTool\"},{\"attributes\":{\"axis\":{\"id\":\"1533\"},\"coordinates\":null,\"group\":null,\"ticker\":null},\"id\":\"1536\",\"type\":\"Grid\"},{\"attributes\":{},\"id\":\"1599\",\"type\":\"BasicTickFormatter\"},{\"attributes\":{},\"id\":\"1531\",\"type\":\"LinearScale\"},{\"attributes\":{},\"id\":\"1545\",\"type\":\"ResetTool\"},{\"attributes\":{\"axis\":{\"id\":\"1537\"},\"coordinates\":null,\"dimension\":1,\"group\":null,\"ticker\":null},\"id\":\"1540\",\"type\":\"Grid\"},{\"attributes\":{},\"id\":\"1542\",\"type\":\"WheelZoomTool\"},{\"attributes\":{\"tools\":[{\"id\":\"1541\"},{\"id\":\"1542\"},{\"id\":\"1543\"},{\"id\":\"1544\"},{\"id\":\"1545\"},{\"id\":\"1546\"}]},\"id\":\"1548\",\"type\":\"Toolbar\"},{\"attributes\":{},\"id\":\"1597\",\"type\":\"AllLabels\"},{\"attributes\":{\"coordinates\":null,\"formatter\":{\"id\":\"1599\"},\"group\":null,\"major_label_policy\":{\"id\":\"1600\"},\"ticker\":{\"id\":\"1534\"}},\"id\":\"1533\",\"type\":\"LinearAxis\"},{\"attributes\":{},\"id\":\"1529\",\"type\":\"LinearScale\"},{\"attributes\":{},\"id\":\"1596\",\"type\":\"BasicTickFormatter\"},{\"attributes\":{},\"id\":\"1544\",\"type\":\"SaveTool\"},{\"attributes\":{\"overlay\":{\"id\":\"1547\"}},\"id\":\"1543\",\"type\":\"BoxZoomTool\"},{\"attributes\":{\"coordinates\":null,\"group\":null,\"text\":\"MSE vs iterations in stochastic gradient descent\"},\"id\":\"1523\",\"type\":\"Title\"},{\"attributes\":{\"data\":{\"x\":[0,1,2,3,4,5,6,7,8,9,10,11,12,13,14,15,16,17,18,19,20,21,22,23,24,25,26,27,28,29,30,31,32,33,34,35,36,37,38,39,40,41,42,43,44,45,46,47,48,49,50,51,52,53,54,55,56,57,58,59,60,61,62,63,64,65,66,67,68,69,70,71,72,73,74,75,76,77,78,79,80,81,82,83,84,85,86,87,88,89,90,91,92,93,94,95,96,97,98,99,100,101,102,103,104,105,106,107,108,109,110,111,112,113,114,115,116,117,118,119,120,121,122,123,124,125,126,127,128,129,130,131,132,133,134,135,136,137,138,139,140,141,142,143,144,145,146,147,148,149,150,151,152,153,154,155,156,157,158,159,160,161,162,163,164,165,166,167,168,169,170,171,172,173,174,175,176,177,178,179,180,181,182,183,184,185,186,187,188,189,190,191,192,193,194,195,196,197,198,199,200,201,202,203,204,205,206,207,208,209,210,211,212,213,214,215,216,217,218,219,220,221,222,223,224,225,226,227,228,229,230,231,232,233,234,235,236,237,238,239,240,241,242,243,244,245,246,247,248,249,250,251,252,253,254,255,256,257,258,259,260,261,262,263,264,265,266,267,268,269,270,271,272,273,274,275,276,277,278,279,280,281,282,283,284,285,286,287,288,289,290,291,292,293,294,295,296,297,298,299,300,301,302,303,304,305,306,307,308,309,310,311,312,313,314,315,316,317,318,319,320,321,322,323,324,325,326,327,328,329,330,331,332,333,334,335,336,337,338,339,340,341,342,343,344,345,346,347,348,349,350,351,352,353,354,355,356,357,358,359,360,361,362,363,364,365,366,367,368,369,370,371,372,373,374,375,376,377,378,379,380,381,382,383,384,385,386,387,388,389,390,391,392,393,394,395,396,397,398,399,400,401,402,403,404,405,406,407,408,409,410,411,412,413,414,415,416,417,418,419,420,421,422,423,424,425,426,427,428,429,430,431,432,433,434,435,436,437,438,439,440,441,442,443,444,445,446,447,448,449,450,451,452,453,454,455,456,457,458,459,460,461,462,463,464,465,466,467,468,469,470,471,472,473,474,475,476,477,478,479,480,481,482,483,484,485,486,487,488,489,490,491,492,493,494,495,496,497,498,499,500,501,502,503,504,505,506,507,508,509,510,511,512,513,514,515,516,517,518,519,520,521,522,523,524,525,526,527,528,529,530,531,532,533,534,535,536,537,538,539,540,541,542,543,544,545,546,547,548,549,550,551,552,553,554,555,556,557,558,559,560,561,562,563,564,565,566,567,568,569,570,571,572,573,574,575,576,577,578,579,580,581,582,583,584,585,586,587,588,589,590,591,592,593,594,595,596,597,598,599,600,601,602,603,604,605,606,607,608,609,610,611,612,613,614,615,616,617,618,619,620,621,622,623,624,625,626,627,628,629,630,631,632,633,634,635,636,637,638,639,640,641,642,643,644,645,646,647,648,649,650,651,652,653,654,655,656,657,658,659,660,661,662,663,664,665,666,667,668,669,670,671,672,673,674,675,676,677,678,679,680,681,682,683,684,685,686,687,688,689,690,691,692,693,694,695,696,697,698,699,700,701,702,703,704,705,706,707,708,709,710,711,712,713,714,715,716,717,718,719,720,721,722,723,724,725,726,727,728,729,730,731,732,733,734,735,736,737,738,739,740,741,742,743,744,745,746,747,748,749,750,751,752,753,754,755,756,757,758,759,760,761,762,763,764,765,766,767,768,769,770,771,772,773,774,775,776,777,778,779,780,781,782,783,784,785,786,787,788,789,790,791,792,793,794,795,796,797,798,799,800,801,802,803,804,805,806,807,808,809,810,811,812,813,814,815,816,817,818,819,820,821,822,823,824,825,826,827,828,829,830,831,832,833,834,835,836,837,838,839,840,841,842,843,844,845,846,847,848,849,850,851,852,853,854,855,856,857,858,859,860,861,862,863,864,865,866,867,868,869,870,871,872,873,874,875,876,877,878,879,880,881,882,883,884,885,886,887,888,889,890,891,892,893,894,895,896,897,898,899,900,901,902,903,904,905,906,907,908,909,910,911,912,913,914,915,916,917,918,919,920,921,922,923,924,925,926,927,928,929,930,931,932,933,934,935,936,937,938,939,940,941,942,943,944,945,946,947,948,949,950,951,952,953,954,955,956,957,958,959,960,961,962,963,964,965,966,967,968,969,970,971,972,973,974,975,976,977,978,979,980,981,982,983,984,985,986,987,988,989,990,991,992,993,994,995,996,997,998,999],\"y\":[31.214342062647805,45.230832856179155,91.97239837798368,329.08564995931863,498.6840516592987,647.665865728517,749.5897749783181,907.4759981460375,1458.7424828250694,1485.3031375918345,30.7149292281687,40.31375835175072,78.92034631838558,292.60813055440536,439.81709493468156,565.0989813308303,644.7870555886905,775.2333562237044,1269.7831758841642,1276.1749162771443,30.252548004799895,35.992257996304666,67.67339051217533,260.5955818326358,388.37196082490937,493.3417815407901,554.3750641028353,661.5592144215308,1105.7669293902834,1095.874111055488,29.824159238398632,32.190817760023194,57.98530675276567,232.4780828456921,343.3846903394866,430.9604725837838,476.3969138154398,563.9004610762653,963.3703486179235,940.4727437637849,29.426996671886666,28.843759040523146,49.64323381048228,207.76025248077715,304.0186292021019,376.71277490279215,409.1605131753264,480.0514048131602,839.7150317921532,806.5749191613149,29.05853975637121,25.893938031826178,42.46316767648502,186.011367992402,269.54746286898734,329.5222473803298,351.202825312433,408.10674631736396,732.3078334693612,691.2449664688584,28.71648945313623,23.29161852244556,36.28606332474152,166.85680302544287,239.3405232265648,288.4560605345396,301.25894535263313,346.4208989275882,638.9891577669952,591.9452703343546,28.398746670791528,20.993494893779058,30.9744621462676,149.970608256924,212.85006201262175,252.70575492545638,258.23534652051654,293.57280214747425,557.888201317946,506.48248575743816,28.103393026463312,18.961845208613248,26.409574231760324,135.06908154092116,189.60022699732497,221.57058340016485,221.18673342623978,248.33548747454986,487.38421116847377,432.96100731824606,27.828673658733543,17.163796978941164,22.488754216673627,121.90519500359885,169.17751243852211,194.4430898019366,189.29601656167577,209.64975572349286,426.07294862062525,369.7427151966051,27.572981853847153,15.570690538862992,19.123317656510665,110.2637643334315,151.22248603193393,170.7966234985268,161.8569874774735,176.60141136023535,372.7376588738366,315.4121521230893,27.33484527616564,14.15752697088131,16.236652042515697,99.95726091702313,135.42262115312082,150.17452952661526,138.25933074715905,148.40157407546553,326.32394052438644,268.746399331463,27.11291361952473,12.902489284654054,13.76258274865871,90.82218080549723,121.50608619019405,132.1807891492083,117.97565783338537,124.36965247592208,285.91799050736523,228.68901816934905,26.905947518548114,11.786527062783977,11.643959549289091,82.7158960387248,109.23636267503409,116.47191591311288,100.55029038149233,103.9186207143831,250.72777062026972,194.32750933594738,26.71280857850997,10.792996100136307,9.831433975135054,75.51392384576555,98.40758115246268,102.74993850816576,85.58955716509674,86.54228728686735,220.06670282692258,164.87381553963482,26.532450399397334,9.907345698867005,8.282401780401813,69.10755788844608,88.84047864155656,90.75632441728622,72.75340066629467,71.80428711288248,193.33955338309667,139.64745725095767,26.363910484724823,9.116847264506017,6.960088259481541,63.40181320154789,80.37889445279869,80.26671798130194,61.74811675455237,59.32856425956924,170.0302115569277,118.0609465064196,26.206302938677812,8.410358699582005,5.832757150842492,58.31364296389381,72.88673229879042,71.08638349567705,52.320074709234696,48.791144033091975,149.69110829498507,99.60717155381107,26.058811866551043,7.778119828144814,4.873026460849264,53.770390844944004,66.24532630825394,63.04625866325907,44.250285409203705,39.91302029809872,131.9340544369922,83.84848652299723,25.920685403418165,7.211574722500909,4.057276785957517,49.70844752838869,60.35115692507837,55.99953645561464,37.34970332018858,32.45400736749357,116.4223077254012,70.4072761244786,25.79123030469794,6.703217355820082,3.365139654981163,46.072084218952604,55.11386992105808,49.81870445169212,31.455163319787278,26.20742612248544,102.86370351062686,58.957796372280995,25.66980703993454,6.246457482504784,2.7790550946682684,42.812439578879044,50.45455802407244,44.39298025685639,26.42586673391154,20.995511602977988,91.00470625552688,49.2191191474061,25.555825337820075,5.8355040622963275,2.283889076883765,39.88663969221579,46.30427009371355,39.62608985717664,22.14034249662666,16.66544451953111,80.62525815821613,40.94903162527342,25.448740136378774,5.46526390264343,1.8666027647762016,37.25703338375435,42.602717477144004,35.43434290579955,18.493819329489167,13.085922299435422,71.53431784256826,33.93876167177308,25.348047897407284,5.131253504339537,1.5159665647921496,34.89052758211511,39.297151247338505,31.744965119629374,15.395953475867168,10.144196666963715,63.56599645866216,28.008417688647054,25.253283248816636,4.829522364302133,1.2223129341313657,32.75800946221798,36.341387548739554,28.494653314623903,12.768864001442545,7.743514610543751,56.57621099209691,23.003046424214958,25.164015922526335,4.5565862222099005,0.9773227089708041,30.833843873808625,33.694961325208475,25.628323238639606,10.545434140810732,5.8009081141626675,50.43978536205241,18.78922527517238,25.079847959089374,4.309368939368479,0.7738404246267252,29.095436096677528,31.322391345571567,23.098024368722577,8.667842767432276,4.2452854056802956,45.04793921873423,15.252116862105433,25.000411153338394,4.085151872830701,0.6057147095706426,27.52285129160504,29.192541728082567,20.861999308814863,7.08629490748003,3.01578285571023,40.30611242653405,12.292923401540856,24.925364718089153,3.881529759076351,0.4676603636728812,26.09848316650424,27.278067144383872,18.88386842652377,5.757924408918231,2.0603421812885667,36.13208020874906,9.826686825052652,24.8543931453646,3.6963722525970275,0.3551391882989094,24.806765373603664,25.554930597271174,17.131922966627233,4.6458455033099115,1.3344823846160754,32.45431997918532,7.780387887951063,24.78720424674905,3.5277903782489806,0.26425703151871077,23.63392001650246,24.001984150437124,15.578512128661297,3.7183331354264513,0.8002399890469093,29.210596121902437,6.091303819342897,24.723527356383205,3.3741072545815682,0.19167485400651757,22.567738393441058,22.600604273267685,14.199511543245356,2.9481146505199494,0.4252547090026715,26.346733512197616,4.705589524253364,24.663111681795957,3.233832530555885,0.13453191738885498,21.59738975065802,21.334374576421308,12.97386226741699,2.3117577780656484,0.18198078273276988,23.815554494405774,3.577052071572959,24.605724789264876,3.105640051898612,0.09037945305727249,20.71325438066505,20.18880967747264,11.883170878369722,1.7891418831588088,0.04700687181272831,21.575957427192208,2.6660922879670426,24.551151211726623,2.9883483373150144,0.057123391175822935,19.906777886273094,19.151114770370782,10.911362508068851,1.3630012151980633,0.0004697452124566676,19.592117845678178,1.9387908133283447,24.499191168441442,2.8809035002321632,0.03297492143589868,19.170343852301055,18.209976195182485,10.044379754632626,1.0185304049064392,0.025548967343201313,17.832795833374632,1.366119032087666,24.4496593866694,2.782364299801927,0.01640782306913285,18.49716253178972,17.355378930563404,9.269921352916663,0.7430437770579993,0.10803154081270909,16.27073539863627,0.9232579409508631,24.402384016556212,2.69188904655199,0.006121645207251865,17.881173469764093,16.57844747361222,8.577215306179863,0.5256811851252708,0.23593695212120702,14.882143556182967,0.5890103029795178,24.357205631265497,2.6087241241889574,0.0010099428913899029,17.31696026165457,15.871307041452154,7.95682189012724,0.35715405934788175,0.39919436374345885,13.64623846396054,0.3452934184680366,24.31397630514527,2.5321939203719688,0.0001328814915816115,16.799675881048937,15.226962435783342,7.400462554809026,0.22952621213563518,0.5893648162449122,12.54485739367733,0.1767015564086548,24.2725587633884,2.461691986430168,0.002693615257774086,16.324977217388557,14.639192264178527,6.900871281610146,0.13602468216344815,0.7994022728771499,11.56211654956499,0.07012857248560204,24.232825597249295,2.3966732695488933,0.008017926140480242,15.888967642775386,14.102456517344388,6.45166541296551,0.07087653648200809,1.0234481769133226,10.684115820072327,0.014442521661449067,24.194658539420193,2.3366472813790655,0.015536678582690464,15.488146581885117,13.611815766253537,6.047233371074008,0.02916810186257508,1.256654916489745,9.898682473632528,0.00020518247366339666,24.157947794656284,2.2811720847483667,0.024770706157768923,15.119365193257197,13.162860472429232,5.682637027059311,0.006723574017181187,1.4950342182051504,9.195148611679723,0.019430369479114785,24.122591421177034,2.229848995533097,0.03531779797659028,14.779787386701143,12.751649103469056,5.353526780919129,3.6632336606382906e-07,1.7353270324229706,8.564157886447283,0.06537574005484374,24.088494758764835,2.18231791009795,0.04684149780645928,14.466855502599733,12.37465391821558,5.056067671433088,0.005998916921340059,1.9748919415715,7.997497592234746,0.13236351945365596,24.055569899838428,2.1382531802986304,0.05906146778212772,14.178260066561124,12.028713435370419,4.786875059347544,0.022184982056483154,2.21160952764373,7.487952759312589,0.21562618873690564,24.02373520009973,2.097359968103448,0.07174520226559719,13.911913108958059,11.710990728869282,4.542958621276922,0.04642271081411531,2.4438004851308084,7.0291793302832275,0.31117371704200897,23.992914825643627,2.0593710206280322,0.08470090653591777,13.665924604937183,11.418936805648153,4.321673559889533,0.0769170275636743,2.6701555681945472,6.615593888919068,0.41567938390457726,23.963038333683595,2.0240438139678796,0.0977713801768729,13.43858164782323,11.150258418834843,4.120678081569881,0.11216404836437997,2.8896757224054976,6.242277749374123,0.5263816388359033,23.934040284284706,1.9911580208091157,0.11082876681053583,13.22833001863852,10.902889753888287,3.937896318889346,0.15090843049718825,3.101620977394992,5.904893506248107,0.6409997925258148,23.9058598807127,1.9605132625306636,0.12377005065776715,13.033757857713747,10.674967498505326,3.7714859844887156,0.19210670382305328,3.3054668720878393,5.599612399350668,0.7576616342299991,23.878440636204317,1.9319271114951373,0.13651319669066578,12.853581181947703,10.464808870713167,3.6198101376392935,0.23489576197966094,3.5008673529539958,5.323051066437807,0.874841329450151,23.851730065143713,1.9052333135607549,0.14899384522067324,12.686631023937363,10.270892234762712,3.4814125267676834,0.27856580324637487,3.687623231529529,5.072216447231178,0.9913061764116444,23.825679396792864,1.8802802046177123,0.1611624839374293,12.5318419975959,10.091839982348851,3.35499604229432,0.3225371075910784,3.8656554134197685,4.844457766626436,1.1060709938346114,23.800243309872833,1.856929298234888,0.1729820309349217,12.388242119570778,9.926403398283242,3.2394038757180983,0.3663401200064216,4.0349822197973495,4.637424667567536,1.2183590801859485,23.775379686428476,1.835054024360325,0.18442577135602511,12.254943737257411,9.773449265870207,3.1336030342489956,0.4095983825132054,4.19570021636907,4.449030687562376,1.3275688295467203,23.751049383533363,1.8145386015080638,0.195475598146871,12.131135432899276,9.631947998617195,3.0366699065472145,0.4520139196850379,4.347968045920002,4.277421379804434,1.4332452145040462,23.727216021505253,1.795277027032859,0.20612051420546576,12.016074789541591,9.500963112176477,2.9477776152238064,0.4933547365537706,4.491992830589728,4.120946472554367,1.5350554547385666,23.703845787406244,1.7771721719850764,0.21635535907888576,11.9090819187818,9.379641874113124,2.8661849265198933,0.5334441344340908,4.628018770497364,3.9781355407480055,1.6327682835296569,23.680907252696905,1.76013496868738,0.2261797284350493,11.809533662611168,9.267206989694944,2.7912265177190227,0.5721515905481414,4.7563176175126305,3.8476767333878716,1.7262363052290632,23.658371204000872,1.744083680613816,0.23559705891656152,11.716858392409165,9.162949199818472,2.7223044289854506,0.6093849821938404,4.877180747990766,3.728398160583936,1.815381006581712,23.63621048601676,1.7289432454086158,0.24461385476868525,11.630531337543301,9.066220682771368,2.6588805489864553,0.6450839663248966,4.990912597126141,3.619251596377641,1.9001800450901638,23.6143998556872,1.7146446829797093,0.25323903590216706,11.5500703842201,8.976429165096823,2.6004700033205608,0.6792143514372032,5.097825251072759,3.5192981987890075,1.9806564897141514,23.59291584680293,1.7011245615614807,0.2614833898741768,11.475032292387894,8.89303265863559,2.546635331831872,0.7117633211396522,5.198234021855478,3.4276959878029643,2.0568697341810123,23.57173664428166,1.6883245154807347,0.26935911270745,11.4050092847412,8.815534751107355,2.4969813556929985,0.742735388208088,5.292453854985883,3.3436888560615374,2.1289078420246152,23.550841967418656,1.6761908090944,0.2768794255713074,11.339625967338717,8.7434803865559,2.451150647986615,0.7721489746927055,5.380796441141571,3.2665969165571327,2.196881115998493,23.53021296145862,1.6646739420109942,0.28405825616358166,11.278536546125789,8.67645207979609,2.40881953266781,0.8000335281316374,5.463567921740394,3.195808017228506,2.2609167134475583,23.509832096887084,1.6537282912718505,0.290909975198981,11.221422307832832,8.614066515814637,2.3696945464730526,0.826427096426722,5.5410670941451805,3.130770274573201,2.3211541541934624,23.48968307588396,1.6433117866628744,0.29744917976054347,11.167989337384963,8.55597149102439,2.3335093067512784,0.8513742947302277,5.61358403592404,3.070985497658922,2.3777415890305753,23.469750745423394,1.6333856157618627,0.3036905164362877,11.117966447167458,8.501843158462373,2.3000217354982153,0.8749246070050921,5.681399079366922,3.0160033906364823,2.4308327155108858,23.450021016541857,1.623913955708092,0.3096485381677722,11.07110329630857,8.45138354355889,2.269011596223775,0.8971309729582279,5.744782077585691,2.965416436366212,2.480584243716964,23.430480789331884,1.6148637290163783,0.31533758960330555,11.027168680612606,8.404318301069312,2.240278305799462,0.9180486179786377,5.803991912227524,2.9188553763662197,2.5271538285331503,23.411117883250867,1.6062043810532112,0.3207717164946403,10.985948975948562,8.360394687227771,2.2136389882303575,0.937734089691172,5.859276200306805,2.8759852132249164,2.5706983968272294,23.391920972364705,1.5979076770527538,0.3259645953186679,10.947246719810233,8.319379724218624,2.188926741469163,0.9562444698909047,5.910871164075825,2.8365016711184894,2.611372808207482,23.37287952517362,1.58994751678001,0.33092947985886845,10.910879317444195,8.281058536719447,2.165989092019195,0.9736367350668013,5.9590016333609865,2.8001280583217105,2.6493287968506016,23.35398374869301,1.582299765150929,0.335679161957537,10.876677860424046,8.2452328426001,2.144686615233769,0.9899672425509731,6.003881154507205,2.7666124827691205,2.684714149495775,23.335224536486205,1.5749420972982955,0.34022594405930123,10.844486046855716,8.211719581907595,2.1248917019694127,1.0052913226277553,6.045712184115243,2.735725377952531,2.717672081241816,23.316593420367568,1.5678538567305305,0.34458162151871674,10.814159193551541,8.180349670060348,2.1064874546477315,1.0196629597758537,6.084686349214033,2.707257301856606,2.7483407764084378,23.29808252551506,1.5610159253707487,0.3487574729472229,10.78556333153053,8.150966862753782,2.089366697868102,1.0331345486605268,6.120984758466396,2.681016976344723,2.7768530665586955,23.279684528749872,1.5544106043877257,0.3527642571347151,10.758574377103974,8.123426721465522,2.0734310905346347,1.0457567125950717,6.154778351530124,2.656829538504144,2.8033362219349063,23.261392619758396,1.548021504840757,0.3566122153039384,10.733077371603635,8.0975956696697,2.0585903280486892,1.0575781739986494,6.186228275850143,2.6345349790263346,2.827911836126477,23.243200465047835,1.5418334472584219,0.36031107764717896,10.708965783519194,8.07335013094641,2.0447614245041907,1.0686456679307534,6.215486281990578,2.6139867458020736,2.8506957868505647,23.225102174441645,1.5358323693584703,0.3638700732586476,10.686140867438882,8.050575741120163,2.031868066033666,1.0790038911177962,6.242695130175926,2.595050493615981,2.871798258350689,23.207092269935117,1.5300052411937919,0.3672979427162015,10.664511074747251,8.029166627400173,2.019840027509741,1.0886954800316246,6.267989002034126,2.577602963181027,2.891323813167837,23.18916565674392,1.5243399870786534,0.37060295268609106,10.643991511530768,8.00902474823508,2.0086126457321316,1.0977610125638382,6.2914939126582246,2.561530974807364,2.9093715029640363,23.171317596390605,1.518825413711305,0.3737929120269667,10.624503439584965,7.990059288250094,1.998126343038184,1.1062390286806723,6.313328119051136,2.54673052379245,2.9260350097251835,23.153543681685033,1.5134511439643434,0.37687518895683453,10.605973816812506,7.972186103215091,1.9883261959836909,1.1141660661656885,6.333602521821432,2.5331059661820134,2.941402810077162,23.135839813465022,1.5082075558637773,0.3798567289212451,10.58833487365451,7.955327210506801,1.9791615443607293,1.121576708174037,6.352421057670004,2.5205692849172787,2.9555583566496124,23.11820217897271,1.5030857263220865,0.3827440728645226,10.571523722513062,7.939410320984855,1.9705856363628045,1.1285036398505168,6.369881080776838,2.509039427575952,2.96858027144667,23.100627231751584,1.4980773792304074,0.3855433756596617,10.55548199740617,7.924368408608353,1.9625553061853076,1.1349777117132895,6.386073731666558,2.498441707958135,2.9805425470531826,23.083111672956587,1.4931748375508096,0.38826042449832315,10.540155521349698,7.910139314480555,1.9550306807679219,1.1410280078907113,6.401084292529878,2.4887072646791046,2.9915147522476966,23.06565243397789,1.4883709790817772,0.3909006570811138,10.525493999188397,7.896665382331581,1.9479749127536494,1.1466819176249363,6.414992528302182,2.479772570730436,3.001562239219902,23.048246660285667,1.4836591955990717,0.3934691794809001,10.511450733803738,7.883893122736724,1.9413539370636743,1.1519652087352423,6.427873013072071,2.471578988669883,3.0107463501231755,23.03089169640996,1.4790333551002866,0.3959707835795688,10.49798236380928,7.871772903624636,1.9351362487718196,1.1569021019698993,6.439795441613107,2.4640723667133893,3.0191246211426113,23.013585071975502,1.4744877669050505,0.39840996400171735,10.485048621011794,7.860258664859073,1.929292700214084,1.1615153453762843,6.450824926012798,2.4572026715411317,3.0267509826363868,22.9963244887175,1.4700171493842207,0.4007909344880942,10.472612106065192,7.84930765488441,1.9237963154905753,1.165826287987962,6.4610222775173085,2.4509236541010284,3.0336759542292278,22.979107808409168,1.4656166001106936,0.4031176436678094,10.460638080880587,7.838880187608569,1.9186221207124674,1.1698549522709696,6.470444273826869,2.4451925451090393,3.0399468340011198,22.961933041636883,1.4612815682420623,0.4053937902016936,10.449094276477751,7.82893941786393,1.9137469885204879,1.1736201048915453,6.479143912166936,2.4399697773102806,3.045607881138906]},\"selected\":{\"id\":\"1602\"},\"selection_policy\":{\"id\":\"1601\"}},\"id\":\"1555\",\"type\":\"ColumnDataSource\"},{\"attributes\":{},\"id\":\"1527\",\"type\":\"DataRange1d\"},{\"attributes\":{\"fill_color\":{\"value\":\"#1f77b4\"},\"line_color\":{\"value\":\"#1f77b4\"},\"x\":{\"field\":\"x\"},\"y\":{\"field\":\"y\"}},\"id\":\"1556\",\"type\":\"Scatter\"},{\"attributes\":{\"source\":{\"id\":\"1555\"}},\"id\":\"1560\",\"type\":\"CDSView\"},{\"attributes\":{},\"id\":\"1525\",\"type\":\"DataRange1d\"},{\"attributes\":{\"fill_alpha\":{\"value\":0.1},\"fill_color\":{\"value\":\"#1f77b4\"},\"hatch_alpha\":{\"value\":0.1},\"line_alpha\":{\"value\":0.1},\"line_color\":{\"value\":\"#1f77b4\"},\"x\":{\"field\":\"x\"},\"y\":{\"field\":\"y\"}},\"id\":\"1557\",\"type\":\"Scatter\"}],\"root_ids\":[\"1522\"]},\"title\":\"Bokeh Application\",\"version\":\"2.4.3\"}};\n",
       "  const render_items = [{\"docid\":\"d9516ff9-c8ce-4f17-bdf3-0e57c98c6c07\",\"root_ids\":[\"1522\"],\"roots\":{\"1522\":\"be4ec092-1c13-4d44-8ace-555c1bcaab2e\"}}];\n",
       "  root.Bokeh.embed.embed_items_notebook(docs_json, render_items);\n",
       "  }\n",
       "  if (root.Bokeh !== undefined) {\n",
       "    embed_document(root);\n",
       "  } else {\n",
       "    let attempts = 0;\n",
       "    const timer = setInterval(function(root) {\n",
       "      if (root.Bokeh !== undefined) {\n",
       "        clearInterval(timer);\n",
       "        embed_document(root);\n",
       "      } else {\n",
       "        attempts++;\n",
       "        if (attempts > 100) {\n",
       "          clearInterval(timer);\n",
       "          console.log(\"Bokeh: ERROR: Unable to run BokehJS code because BokehJS library is missing\");\n",
       "        }\n",
       "      }\n",
       "    }, 10, root)\n",
       "  }\n",
       "})(window);"
      ],
      "application/vnd.bokehjs_exec.v0+json": ""
     },
     "metadata": {
      "application/vnd.bokehjs_exec.v0+json": {
       "id": "1522"
      }
     },
     "output_type": "display_data"
    }
   ],
   "source": [
    "f6=figure(title=\"MSE vs iterations in stochastic gradient descent\")\n",
    "f6.scatter(x=list(range(len(losses))),y=losses)\n",
    "show(f6)"
   ]
  },
  {
   "cell_type": "markdown",
   "metadata": {},
   "source": [
    "As seen in the graph above, in each inner loop through the data has the MSE bouncing for each particular point bouncing around while the overall trend is downward.  That's because each adjustment produced by a new data point doesn't necessarily move towards the proper minimum. At the later stages the MSE for the different points varies because our estimate isn't equally good for all points. "
   ]
  },
  {
   "cell_type": "markdown",
   "metadata": {},
   "source": []
  }
 ],
 "metadata": {
  "kernelspec": {
   "display_name": "Python 3 (ipykernel)",
   "language": "python",
   "name": "python3"
  },
  "language_info": {
   "codemirror_mode": {
    "name": "ipython",
    "version": 3
   },
   "file_extension": ".py",
   "mimetype": "text/x-python",
   "name": "python",
   "nbconvert_exporter": "python",
   "pygments_lexer": "ipython3",
   "version": "3.9.15"
  },
  "vscode": {
   "interpreter": {
    "hash": "4de1eb631fc111013b2f441024ec0dcd7a567c3d6a338a26d91722f9a102f561"
   }
  }
 },
 "nbformat": 4,
 "nbformat_minor": 4
}
