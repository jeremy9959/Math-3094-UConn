{
 "cells": [
  {
   "cell_type": "markdown",
   "metadata": {},
   "source": [
    "# Linear Regression via Gradient Descent"
   ]
  },
  {
   "cell_type": "code",
   "execution_count": 1,
   "metadata": {},
   "outputs": [
    {
     "data": {
      "text/html": [
       "<div class=\"bk-root\">\n",
       "        <a href=\"https://bokeh.org\" target=\"_blank\" class=\"bk-logo bk-logo-small bk-logo-notebook\"></a>\n",
       "        <span id=\"1002\">Loading BokehJS ...</span>\n",
       "    </div>\n"
      ]
     },
     "metadata": {},
     "output_type": "display_data"
    },
    {
     "data": {
      "application/javascript": [
       "(function(root) {\n",
       "  function now() {\n",
       "    return new Date();\n",
       "  }\n",
       "\n",
       "  const force = true;\n",
       "\n",
       "  if (typeof root._bokeh_onload_callbacks === \"undefined\" || force === true) {\n",
       "    root._bokeh_onload_callbacks = [];\n",
       "    root._bokeh_is_loading = undefined;\n",
       "  }\n",
       "\n",
       "const JS_MIME_TYPE = 'application/javascript';\n",
       "  const HTML_MIME_TYPE = 'text/html';\n",
       "  const EXEC_MIME_TYPE = 'application/vnd.bokehjs_exec.v0+json';\n",
       "  const CLASS_NAME = 'output_bokeh rendered_html';\n",
       "\n",
       "  /**\n",
       "   * Render data to the DOM node\n",
       "   */\n",
       "  function render(props, node) {\n",
       "    const script = document.createElement(\"script\");\n",
       "    node.appendChild(script);\n",
       "  }\n",
       "\n",
       "  /**\n",
       "   * Handle when an output is cleared or removed\n",
       "   */\n",
       "  function handleClearOutput(event, handle) {\n",
       "    const cell = handle.cell;\n",
       "\n",
       "    const id = cell.output_area._bokeh_element_id;\n",
       "    const server_id = cell.output_area._bokeh_server_id;\n",
       "    // Clean up Bokeh references\n",
       "    if (id != null && id in Bokeh.index) {\n",
       "      Bokeh.index[id].model.document.clear();\n",
       "      delete Bokeh.index[id];\n",
       "    }\n",
       "\n",
       "    if (server_id !== undefined) {\n",
       "      // Clean up Bokeh references\n",
       "      const cmd_clean = \"from bokeh.io.state import curstate; print(curstate().uuid_to_server['\" + server_id + \"'].get_sessions()[0].document.roots[0]._id)\";\n",
       "      cell.notebook.kernel.execute(cmd_clean, {\n",
       "        iopub: {\n",
       "          output: function(msg) {\n",
       "            const id = msg.content.text.trim();\n",
       "            if (id in Bokeh.index) {\n",
       "              Bokeh.index[id].model.document.clear();\n",
       "              delete Bokeh.index[id];\n",
       "            }\n",
       "          }\n",
       "        }\n",
       "      });\n",
       "      // Destroy server and session\n",
       "      const cmd_destroy = \"import bokeh.io.notebook as ion; ion.destroy_server('\" + server_id + \"')\";\n",
       "      cell.notebook.kernel.execute(cmd_destroy);\n",
       "    }\n",
       "  }\n",
       "\n",
       "  /**\n",
       "   * Handle when a new output is added\n",
       "   */\n",
       "  function handleAddOutput(event, handle) {\n",
       "    const output_area = handle.output_area;\n",
       "    const output = handle.output;\n",
       "\n",
       "    // limit handleAddOutput to display_data with EXEC_MIME_TYPE content only\n",
       "    if ((output.output_type != \"display_data\") || (!Object.prototype.hasOwnProperty.call(output.data, EXEC_MIME_TYPE))) {\n",
       "      return\n",
       "    }\n",
       "\n",
       "    const toinsert = output_area.element.find(\".\" + CLASS_NAME.split(' ')[0]);\n",
       "\n",
       "    if (output.metadata[EXEC_MIME_TYPE][\"id\"] !== undefined) {\n",
       "      toinsert[toinsert.length - 1].firstChild.textContent = output.data[JS_MIME_TYPE];\n",
       "      // store reference to embed id on output_area\n",
       "      output_area._bokeh_element_id = output.metadata[EXEC_MIME_TYPE][\"id\"];\n",
       "    }\n",
       "    if (output.metadata[EXEC_MIME_TYPE][\"server_id\"] !== undefined) {\n",
       "      const bk_div = document.createElement(\"div\");\n",
       "      bk_div.innerHTML = output.data[HTML_MIME_TYPE];\n",
       "      const script_attrs = bk_div.children[0].attributes;\n",
       "      for (let i = 0; i < script_attrs.length; i++) {\n",
       "        toinsert[toinsert.length - 1].firstChild.setAttribute(script_attrs[i].name, script_attrs[i].value);\n",
       "        toinsert[toinsert.length - 1].firstChild.textContent = bk_div.children[0].textContent\n",
       "      }\n",
       "      // store reference to server id on output_area\n",
       "      output_area._bokeh_server_id = output.metadata[EXEC_MIME_TYPE][\"server_id\"];\n",
       "    }\n",
       "  }\n",
       "\n",
       "  function register_renderer(events, OutputArea) {\n",
       "\n",
       "    function append_mime(data, metadata, element) {\n",
       "      // create a DOM node to render to\n",
       "      const toinsert = this.create_output_subarea(\n",
       "        metadata,\n",
       "        CLASS_NAME,\n",
       "        EXEC_MIME_TYPE\n",
       "      );\n",
       "      this.keyboard_manager.register_events(toinsert);\n",
       "      // Render to node\n",
       "      const props = {data: data, metadata: metadata[EXEC_MIME_TYPE]};\n",
       "      render(props, toinsert[toinsert.length - 1]);\n",
       "      element.append(toinsert);\n",
       "      return toinsert\n",
       "    }\n",
       "\n",
       "    /* Handle when an output is cleared or removed */\n",
       "    events.on('clear_output.CodeCell', handleClearOutput);\n",
       "    events.on('delete.Cell', handleClearOutput);\n",
       "\n",
       "    /* Handle when a new output is added */\n",
       "    events.on('output_added.OutputArea', handleAddOutput);\n",
       "\n",
       "    /**\n",
       "     * Register the mime type and append_mime function with output_area\n",
       "     */\n",
       "    OutputArea.prototype.register_mime_type(EXEC_MIME_TYPE, append_mime, {\n",
       "      /* Is output safe? */\n",
       "      safe: true,\n",
       "      /* Index of renderer in `output_area.display_order` */\n",
       "      index: 0\n",
       "    });\n",
       "  }\n",
       "\n",
       "  // register the mime type if in Jupyter Notebook environment and previously unregistered\n",
       "  if (root.Jupyter !== undefined) {\n",
       "    const events = require('base/js/events');\n",
       "    const OutputArea = require('notebook/js/outputarea').OutputArea;\n",
       "\n",
       "    if (OutputArea.prototype.mime_types().indexOf(EXEC_MIME_TYPE) == -1) {\n",
       "      register_renderer(events, OutputArea);\n",
       "    }\n",
       "  }\n",
       "  if (typeof (root._bokeh_timeout) === \"undefined\" || force === true) {\n",
       "    root._bokeh_timeout = Date.now() + 5000;\n",
       "    root._bokeh_failed_load = false;\n",
       "  }\n",
       "\n",
       "  const NB_LOAD_WARNING = {'data': {'text/html':\n",
       "     \"<div style='background-color: #fdd'>\\n\"+\n",
       "     \"<p>\\n\"+\n",
       "     \"BokehJS does not appear to have successfully loaded. If loading BokehJS from CDN, this \\n\"+\n",
       "     \"may be due to a slow or bad network connection. Possible fixes:\\n\"+\n",
       "     \"</p>\\n\"+\n",
       "     \"<ul>\\n\"+\n",
       "     \"<li>re-rerun `output_notebook()` to attempt to load from CDN again, or</li>\\n\"+\n",
       "     \"<li>use INLINE resources instead, as so:</li>\\n\"+\n",
       "     \"</ul>\\n\"+\n",
       "     \"<code>\\n\"+\n",
       "     \"from bokeh.resources import INLINE\\n\"+\n",
       "     \"output_notebook(resources=INLINE)\\n\"+\n",
       "     \"</code>\\n\"+\n",
       "     \"</div>\"}};\n",
       "\n",
       "  function display_loaded() {\n",
       "    const el = document.getElementById(\"1002\");\n",
       "    if (el != null) {\n",
       "      el.textContent = \"BokehJS is loading...\";\n",
       "    }\n",
       "    if (root.Bokeh !== undefined) {\n",
       "      if (el != null) {\n",
       "        el.textContent = \"BokehJS \" + root.Bokeh.version + \" successfully loaded.\";\n",
       "      }\n",
       "    } else if (Date.now() < root._bokeh_timeout) {\n",
       "      setTimeout(display_loaded, 100)\n",
       "    }\n",
       "  }\n",
       "\n",
       "  function run_callbacks() {\n",
       "    try {\n",
       "      root._bokeh_onload_callbacks.forEach(function(callback) {\n",
       "        if (callback != null)\n",
       "          callback();\n",
       "      });\n",
       "    } finally {\n",
       "      delete root._bokeh_onload_callbacks\n",
       "    }\n",
       "    console.debug(\"Bokeh: all callbacks have finished\");\n",
       "  }\n",
       "\n",
       "  function load_libs(css_urls, js_urls, callback) {\n",
       "    if (css_urls == null) css_urls = [];\n",
       "    if (js_urls == null) js_urls = [];\n",
       "\n",
       "    root._bokeh_onload_callbacks.push(callback);\n",
       "    if (root._bokeh_is_loading > 0) {\n",
       "      console.debug(\"Bokeh: BokehJS is being loaded, scheduling callback at\", now());\n",
       "      return null;\n",
       "    }\n",
       "    if (js_urls == null || js_urls.length === 0) {\n",
       "      run_callbacks();\n",
       "      return null;\n",
       "    }\n",
       "    console.debug(\"Bokeh: BokehJS not loaded, scheduling load and callback at\", now());\n",
       "    root._bokeh_is_loading = css_urls.length + js_urls.length;\n",
       "\n",
       "    function on_load() {\n",
       "      root._bokeh_is_loading--;\n",
       "      if (root._bokeh_is_loading === 0) {\n",
       "        console.debug(\"Bokeh: all BokehJS libraries/stylesheets loaded\");\n",
       "        run_callbacks()\n",
       "      }\n",
       "    }\n",
       "\n",
       "    function on_error(url) {\n",
       "      console.error(\"failed to load \" + url);\n",
       "    }\n",
       "\n",
       "    for (let i = 0; i < css_urls.length; i++) {\n",
       "      const url = css_urls[i];\n",
       "      const element = document.createElement(\"link\");\n",
       "      element.onload = on_load;\n",
       "      element.onerror = on_error.bind(null, url);\n",
       "      element.rel = \"stylesheet\";\n",
       "      element.type = \"text/css\";\n",
       "      element.href = url;\n",
       "      console.debug(\"Bokeh: injecting link tag for BokehJS stylesheet: \", url);\n",
       "      document.body.appendChild(element);\n",
       "    }\n",
       "\n",
       "    for (let i = 0; i < js_urls.length; i++) {\n",
       "      const url = js_urls[i];\n",
       "      const element = document.createElement('script');\n",
       "      element.onload = on_load;\n",
       "      element.onerror = on_error.bind(null, url);\n",
       "      element.async = false;\n",
       "      element.src = url;\n",
       "      console.debug(\"Bokeh: injecting script tag for BokehJS library: \", url);\n",
       "      document.head.appendChild(element);\n",
       "    }\n",
       "  };\n",
       "\n",
       "  function inject_raw_css(css) {\n",
       "    const element = document.createElement(\"style\");\n",
       "    element.appendChild(document.createTextNode(css));\n",
       "    document.body.appendChild(element);\n",
       "  }\n",
       "\n",
       "  const js_urls = [\"https://cdn.bokeh.org/bokeh/release/bokeh-2.4.3.min.js\", \"https://cdn.bokeh.org/bokeh/release/bokeh-gl-2.4.3.min.js\", \"https://cdn.bokeh.org/bokeh/release/bokeh-widgets-2.4.3.min.js\", \"https://cdn.bokeh.org/bokeh/release/bokeh-tables-2.4.3.min.js\", \"https://cdn.bokeh.org/bokeh/release/bokeh-mathjax-2.4.3.min.js\"];\n",
       "  const css_urls = [];\n",
       "\n",
       "  const inline_js = [    function(Bokeh) {\n",
       "      Bokeh.set_log_level(\"info\");\n",
       "    },\n",
       "function(Bokeh) {\n",
       "    }\n",
       "  ];\n",
       "\n",
       "  function run_inline_js() {\n",
       "    if (root.Bokeh !== undefined || force === true) {\n",
       "          for (let i = 0; i < inline_js.length; i++) {\n",
       "      inline_js[i].call(root, root.Bokeh);\n",
       "    }\n",
       "if (force === true) {\n",
       "        display_loaded();\n",
       "      }} else if (Date.now() < root._bokeh_timeout) {\n",
       "      setTimeout(run_inline_js, 100);\n",
       "    } else if (!root._bokeh_failed_load) {\n",
       "      console.log(\"Bokeh: BokehJS failed to load within specified timeout.\");\n",
       "      root._bokeh_failed_load = true;\n",
       "    } else if (force !== true) {\n",
       "      const cell = $(document.getElementById(\"1002\")).parents('.cell').data().cell;\n",
       "      cell.output_area.append_execute_result(NB_LOAD_WARNING)\n",
       "    }\n",
       "  }\n",
       "\n",
       "  if (root._bokeh_is_loading === 0) {\n",
       "    console.debug(\"Bokeh: BokehJS loaded, going straight to plotting\");\n",
       "    run_inline_js();\n",
       "  } else {\n",
       "    load_libs(css_urls, js_urls, function() {\n",
       "      console.debug(\"Bokeh: BokehJS plotting callback run at\", now());\n",
       "      run_inline_js();\n",
       "    });\n",
       "  }\n",
       "}(window));"
      ],
      "application/vnd.bokehjs_load.v0+json": "(function(root) {\n  function now() {\n    return new Date();\n  }\n\n  const force = true;\n\n  if (typeof root._bokeh_onload_callbacks === \"undefined\" || force === true) {\n    root._bokeh_onload_callbacks = [];\n    root._bokeh_is_loading = undefined;\n  }\n\n\n  if (typeof (root._bokeh_timeout) === \"undefined\" || force === true) {\n    root._bokeh_timeout = Date.now() + 5000;\n    root._bokeh_failed_load = false;\n  }\n\n  const NB_LOAD_WARNING = {'data': {'text/html':\n     \"<div style='background-color: #fdd'>\\n\"+\n     \"<p>\\n\"+\n     \"BokehJS does not appear to have successfully loaded. If loading BokehJS from CDN, this \\n\"+\n     \"may be due to a slow or bad network connection. Possible fixes:\\n\"+\n     \"</p>\\n\"+\n     \"<ul>\\n\"+\n     \"<li>re-rerun `output_notebook()` to attempt to load from CDN again, or</li>\\n\"+\n     \"<li>use INLINE resources instead, as so:</li>\\n\"+\n     \"</ul>\\n\"+\n     \"<code>\\n\"+\n     \"from bokeh.resources import INLINE\\n\"+\n     \"output_notebook(resources=INLINE)\\n\"+\n     \"</code>\\n\"+\n     \"</div>\"}};\n\n  function display_loaded() {\n    const el = document.getElementById(\"1002\");\n    if (el != null) {\n      el.textContent = \"BokehJS is loading...\";\n    }\n    if (root.Bokeh !== undefined) {\n      if (el != null) {\n        el.textContent = \"BokehJS \" + root.Bokeh.version + \" successfully loaded.\";\n      }\n    } else if (Date.now() < root._bokeh_timeout) {\n      setTimeout(display_loaded, 100)\n    }\n  }\n\n  function run_callbacks() {\n    try {\n      root._bokeh_onload_callbacks.forEach(function(callback) {\n        if (callback != null)\n          callback();\n      });\n    } finally {\n      delete root._bokeh_onload_callbacks\n    }\n    console.debug(\"Bokeh: all callbacks have finished\");\n  }\n\n  function load_libs(css_urls, js_urls, callback) {\n    if (css_urls == null) css_urls = [];\n    if (js_urls == null) js_urls = [];\n\n    root._bokeh_onload_callbacks.push(callback);\n    if (root._bokeh_is_loading > 0) {\n      console.debug(\"Bokeh: BokehJS is being loaded, scheduling callback at\", now());\n      return null;\n    }\n    if (js_urls == null || js_urls.length === 0) {\n      run_callbacks();\n      return null;\n    }\n    console.debug(\"Bokeh: BokehJS not loaded, scheduling load and callback at\", now());\n    root._bokeh_is_loading = css_urls.length + js_urls.length;\n\n    function on_load() {\n      root._bokeh_is_loading--;\n      if (root._bokeh_is_loading === 0) {\n        console.debug(\"Bokeh: all BokehJS libraries/stylesheets loaded\");\n        run_callbacks()\n      }\n    }\n\n    function on_error(url) {\n      console.error(\"failed to load \" + url);\n    }\n\n    for (let i = 0; i < css_urls.length; i++) {\n      const url = css_urls[i];\n      const element = document.createElement(\"link\");\n      element.onload = on_load;\n      element.onerror = on_error.bind(null, url);\n      element.rel = \"stylesheet\";\n      element.type = \"text/css\";\n      element.href = url;\n      console.debug(\"Bokeh: injecting link tag for BokehJS stylesheet: \", url);\n      document.body.appendChild(element);\n    }\n\n    for (let i = 0; i < js_urls.length; i++) {\n      const url = js_urls[i];\n      const element = document.createElement('script');\n      element.onload = on_load;\n      element.onerror = on_error.bind(null, url);\n      element.async = false;\n      element.src = url;\n      console.debug(\"Bokeh: injecting script tag for BokehJS library: \", url);\n      document.head.appendChild(element);\n    }\n  };\n\n  function inject_raw_css(css) {\n    const element = document.createElement(\"style\");\n    element.appendChild(document.createTextNode(css));\n    document.body.appendChild(element);\n  }\n\n  const js_urls = [\"https://cdn.bokeh.org/bokeh/release/bokeh-2.4.3.min.js\", \"https://cdn.bokeh.org/bokeh/release/bokeh-gl-2.4.3.min.js\", \"https://cdn.bokeh.org/bokeh/release/bokeh-widgets-2.4.3.min.js\", \"https://cdn.bokeh.org/bokeh/release/bokeh-tables-2.4.3.min.js\", \"https://cdn.bokeh.org/bokeh/release/bokeh-mathjax-2.4.3.min.js\"];\n  const css_urls = [];\n\n  const inline_js = [    function(Bokeh) {\n      Bokeh.set_log_level(\"info\");\n    },\nfunction(Bokeh) {\n    }\n  ];\n\n  function run_inline_js() {\n    if (root.Bokeh !== undefined || force === true) {\n          for (let i = 0; i < inline_js.length; i++) {\n      inline_js[i].call(root, root.Bokeh);\n    }\nif (force === true) {\n        display_loaded();\n      }} else if (Date.now() < root._bokeh_timeout) {\n      setTimeout(run_inline_js, 100);\n    } else if (!root._bokeh_failed_load) {\n      console.log(\"Bokeh: BokehJS failed to load within specified timeout.\");\n      root._bokeh_failed_load = true;\n    } else if (force !== true) {\n      const cell = $(document.getElementById(\"1002\")).parents('.cell').data().cell;\n      cell.output_area.append_execute_result(NB_LOAD_WARNING)\n    }\n  }\n\n  if (root._bokeh_is_loading === 0) {\n    console.debug(\"Bokeh: BokehJS loaded, going straight to plotting\");\n    run_inline_js();\n  } else {\n    load_libs(css_urls, js_urls, function() {\n      console.debug(\"Bokeh: BokehJS plotting callback run at\", now());\n      run_inline_js();\n    });\n  }\n}(window));"
     },
     "metadata": {},
     "output_type": "display_data"
    }
   ],
   "source": [
    "import numpy as np\n",
    "from bokeh.plotting import figure, output_notebook,show\n",
    "output_notebook()"
   ]
  },
  {
   "cell_type": "markdown",
   "metadata": {},
   "source": [
    "### Set up the data\n",
    "\n",
    "We use the multivariate simulated data from the regression lab, with the target variable being column 1 and the features being columns 2 and 3. We append a column of ones to the data matrix. "
   ]
  },
  {
   "cell_type": "code",
   "execution_count": 3,
   "metadata": {},
   "outputs": [],
   "source": [
    "data = np.genfromtxt(\"data/multivar_simulated/data.csv\", skip_header=1, delimiter=\",\")\n",
    "Y = data[:, 1].reshape(-1,1)\n",
    "X = data[:, 2:]\n",
    "X = np.concatenate([X, np.ones(shape=(X.shape[0], 1))], axis=1)"
   ]
  },
  {
   "cell_type": "markdown",
   "metadata": {},
   "source": [
    "Find our initial guess and the matrices needed for the gradient.  Choose a learning rate and a tolerance.\n"
   ]
  },
  {
   "cell_type": "code",
   "execution_count": 4,
   "metadata": {},
   "outputs": [],
   "source": [
    "M0 = np.random.normal(0,1,size=(X.shape[1],1))\n",
    "\n",
    "lr = .0001\n",
    "epsilon=.00001\n",
    "A = ((X.T) @ Y).reshape(3,1)\n",
    "D = X.T @ X"
   ]
  },
  {
   "cell_type": "markdown",
   "metadata": {},
   "source": [
    "Do the gradient descent iteration\n"
   ]
  },
  {
   "cell_type": "code",
   "execution_count": 5,
   "metadata": {},
   "outputs": [
    {
     "name": "stdout",
     "output_type": "stream",
     "text": [
      "converged after 2002 iterations\n"
     ]
    }
   ],
   "source": [
    "MSE0=0\n",
    "losses = []\n",
    "for i in range(10000):\n",
    "    M = M0 - lr*(-2*A+2*(D@M0))\n",
    "    MSE = np.sum(np.square(Y-(X@M)))\n",
    "    if np.abs(MSE-MSE0)<epsilon:\n",
    "        print(\"converged after {} iterations\".format(i))\n",
    "        break\n",
    "    M0=M.copy()\n",
    "    MSE0=MSE\n",
    "    losses.append(MSE)"
   ]
  },
  {
   "cell_type": "markdown",
   "metadata": {},
   "source": [
    "Compare the results of the gradient descent with the direct solution."
   ]
  },
  {
   "cell_type": "code",
   "execution_count": 6,
   "metadata": {},
   "outputs": [
    {
     "name": "stdout",
     "output_type": "stream",
     "text": [
      "Gradient Descent yields [ 1.78971626 -3.47779217  6.05091408] while direct computation yields [ 1.78777492 -3.47899986  6.0608333 ]\n"
     ]
    }
   ],
   "source": [
    "direct_solution = np.linalg.inv(D)@A\n",
    "print(f\"Gradient Descent yields {M.ravel()} while direct computation yields {direct_solution.ravel()}\")"
   ]
  },
  {
   "cell_type": "markdown",
   "metadata": {},
   "source": [
    "Behavior of the MSE over the iterations.\n"
   ]
  },
  {
   "cell_type": "code",
   "execution_count": 7,
   "metadata": {},
   "outputs": [
    {
     "data": {
      "text/html": [
       "\n",
       "  <div class=\"bk-root\" id=\"aa586532-8f95-4c38-806c-a2c351f3d8e3\" data-root-id=\"1003\"></div>\n"
      ]
     },
     "metadata": {},
     "output_type": "display_data"
    },
    {
     "data": {
      "application/javascript": [
       "(function(root) {\n",
       "  function embed_document(root) {\n",
       "  const docs_json = {\"060fde85-2826-44e2-a020-68e905f4f005\":{\"defs\":[],\"roots\":{\"references\":[{\"attributes\":{\"below\":[{\"id\":\"1014\"}],\"center\":[{\"id\":\"1017\"},{\"id\":\"1021\"}],\"left\":[{\"id\":\"1018\"}],\"renderers\":[{\"id\":\"1040\"}],\"title\":{\"id\":\"1004\"},\"toolbar\":{\"id\":\"1029\"},\"x_range\":{\"id\":\"1006\"},\"x_scale\":{\"id\":\"1010\"},\"y_range\":{\"id\":\"1008\"},\"y_scale\":{\"id\":\"1012\"}},\"id\":\"1003\",\"subtype\":\"Figure\",\"type\":\"Plot\"},{\"attributes\":{},\"id\":\"1022\",\"type\":\"PanTool\"},{\"attributes\":{\"fill_color\":{\"value\":\"#1f77b4\"},\"line_color\":{\"value\":\"#1f77b4\"},\"x\":{\"field\":\"x\"},\"y\":{\"field\":\"y\"}},\"id\":\"1037\",\"type\":\"Scatter\"},{\"attributes\":{},\"id\":\"1049\",\"type\":\"UnionRenderers\"},{\"attributes\":{\"axis\":{\"id\":\"1018\"},\"coordinates\":null,\"dimension\":1,\"group\":null,\"ticker\":null},\"id\":\"1021\",\"type\":\"Grid\"},{\"attributes\":{},\"id\":\"1050\",\"type\":\"Selection\"},{\"attributes\":{},\"id\":\"1026\",\"type\":\"ResetTool\"},{\"attributes\":{\"coordinates\":null,\"group\":null,\"text\":\"MSE for gradient descent vs iterations\"},\"id\":\"1004\",\"type\":\"Title\"},{\"attributes\":{\"source\":{\"id\":\"1036\"}},\"id\":\"1041\",\"type\":\"CDSView\"},{\"attributes\":{\"data\":{\"x\":[50.0,60.0,70.0,80.0,90.0,100.0,110.0,120.0,130.0,140.0,150.0,160.0,170.0,180.0,190.0,200.0],\"y\":[95.71146889171658,87.39557544960186,82.9254408622416,80.52255975653644,79.23091238097848,78.53659881763797,78.16337673445884,77.96275452177672,77.85491183498118,77.79694195746964,77.76578076519445,77.74903034332551,77.7400263029695,77.7351862611265,77.73258453966423,77.73118600742279]},\"selected\":{\"id\":\"1050\"},\"selection_policy\":{\"id\":\"1049\"}},\"id\":\"1036\",\"type\":\"ColumnDataSource\"},{\"attributes\":{\"axis_label\":\"Iterations (x10)\",\"coordinates\":null,\"formatter\":{\"id\":\"1047\"},\"group\":null,\"major_label_policy\":{\"id\":\"1048\"},\"ticker\":{\"id\":\"1015\"}},\"id\":\"1014\",\"type\":\"LinearAxis\"},{\"attributes\":{},\"id\":\"1019\",\"type\":\"BasicTicker\"},{\"attributes\":{\"bottom_units\":\"screen\",\"coordinates\":null,\"fill_alpha\":0.5,\"fill_color\":\"lightgrey\",\"group\":null,\"left_units\":\"screen\",\"level\":\"overlay\",\"line_alpha\":1.0,\"line_color\":\"black\",\"line_dash\":[4,4],\"line_width\":2,\"right_units\":\"screen\",\"syncable\":false,\"top_units\":\"screen\"},\"id\":\"1028\",\"type\":\"BoxAnnotation\"},{\"attributes\":{},\"id\":\"1008\",\"type\":\"DataRange1d\"},{\"attributes\":{},\"id\":\"1010\",\"type\":\"LinearScale\"},{\"attributes\":{},\"id\":\"1025\",\"type\":\"SaveTool\"},{\"attributes\":{},\"id\":\"1044\",\"type\":\"BasicTickFormatter\"},{\"attributes\":{\"fill_alpha\":{\"value\":0.1},\"fill_color\":{\"value\":\"#1f77b4\"},\"hatch_alpha\":{\"value\":0.1},\"line_alpha\":{\"value\":0.1},\"line_color\":{\"value\":\"#1f77b4\"},\"x\":{\"field\":\"x\"},\"y\":{\"field\":\"y\"}},\"id\":\"1038\",\"type\":\"Scatter\"},{\"attributes\":{\"coordinates\":null,\"data_source\":{\"id\":\"1036\"},\"glyph\":{\"id\":\"1037\"},\"group\":null,\"hover_glyph\":null,\"muted_glyph\":{\"id\":\"1039\"},\"nonselection_glyph\":{\"id\":\"1038\"},\"view\":{\"id\":\"1041\"}},\"id\":\"1040\",\"type\":\"GlyphRenderer\"},{\"attributes\":{\"overlay\":{\"id\":\"1028\"}},\"id\":\"1024\",\"type\":\"BoxZoomTool\"},{\"attributes\":{},\"id\":\"1006\",\"type\":\"DataRange1d\"},{\"attributes\":{\"fill_alpha\":{\"value\":0.2},\"fill_color\":{\"value\":\"#1f77b4\"},\"hatch_alpha\":{\"value\":0.2},\"line_alpha\":{\"value\":0.2},\"line_color\":{\"value\":\"#1f77b4\"},\"x\":{\"field\":\"x\"},\"y\":{\"field\":\"y\"}},\"id\":\"1039\",\"type\":\"Scatter\"},{\"attributes\":{},\"id\":\"1045\",\"type\":\"AllLabels\"},{\"attributes\":{\"tools\":[{\"id\":\"1022\"},{\"id\":\"1023\"},{\"id\":\"1024\"},{\"id\":\"1025\"},{\"id\":\"1026\"},{\"id\":\"1027\"}]},\"id\":\"1029\",\"type\":\"Toolbar\"},{\"attributes\":{\"coordinates\":null,\"formatter\":{\"id\":\"1044\"},\"group\":null,\"major_label_policy\":{\"id\":\"1045\"},\"ticker\":{\"id\":\"1019\"}},\"id\":\"1018\",\"type\":\"LinearAxis\"},{\"attributes\":{},\"id\":\"1023\",\"type\":\"WheelZoomTool\"},{\"attributes\":{},\"id\":\"1047\",\"type\":\"BasicTickFormatter\"},{\"attributes\":{\"axis\":{\"id\":\"1014\"},\"coordinates\":null,\"group\":null,\"ticker\":null},\"id\":\"1017\",\"type\":\"Grid\"},{\"attributes\":{},\"id\":\"1015\",\"type\":\"BasicTicker\"},{\"attributes\":{},\"id\":\"1027\",\"type\":\"HelpTool\"},{\"attributes\":{},\"id\":\"1048\",\"type\":\"AllLabels\"},{\"attributes\":{},\"id\":\"1012\",\"type\":\"LinearScale\"}],\"root_ids\":[\"1003\"]},\"title\":\"Bokeh Application\",\"version\":\"2.4.3\"}};\n",
       "  const render_items = [{\"docid\":\"060fde85-2826-44e2-a020-68e905f4f005\",\"root_ids\":[\"1003\"],\"roots\":{\"1003\":\"aa586532-8f95-4c38-806c-a2c351f3d8e3\"}}];\n",
       "  root.Bokeh.embed.embed_items_notebook(docs_json, render_items);\n",
       "  }\n",
       "  if (root.Bokeh !== undefined) {\n",
       "    embed_document(root);\n",
       "  } else {\n",
       "    let attempts = 0;\n",
       "    const timer = setInterval(function(root) {\n",
       "      if (root.Bokeh !== undefined) {\n",
       "        clearInterval(timer);\n",
       "        embed_document(root);\n",
       "      } else {\n",
       "        attempts++;\n",
       "        if (attempts > 100) {\n",
       "          clearInterval(timer);\n",
       "          console.log(\"Bokeh: ERROR: Unable to run BokehJS code because BokehJS library is missing\");\n",
       "        }\n",
       "      }\n",
       "    }, 10, root)\n",
       "  }\n",
       "})(window);"
      ],
      "application/vnd.bokehjs_exec.v0+json": ""
     },
     "metadata": {
      "application/vnd.bokehjs_exec.v0+json": {
       "id": "1003"
      }
     },
     "output_type": "display_data"
    }
   ],
   "source": [
    "\n",
    "f=figure(title='MSE for gradient descent vs iterations',x_axis_label='Iterations (x10)')\n",
    "x=list(range(len(losses)))\n",
    "f.scatter(x=[y/10 for y in x[500::100]],y=losses[500::100])\n",
    "show(f)"
   ]
  },
  {
   "cell_type": "code",
   "execution_count": 8,
   "metadata": {},
   "outputs": [
    {
     "data": {
      "text/html": [
       "\n",
       "  <div class=\"bk-root\" id=\"70208b87-adb8-466f-9021-4831755a5f6b\" data-root-id=\"1102\"></div>\n"
      ]
     },
     "metadata": {},
     "output_type": "display_data"
    },
    {
     "data": {
      "application/javascript": [
       "(function(root) {\n",
       "  function embed_document(root) {\n",
       "  const docs_json = {\"034bccd0-b34a-43a0-9957-f62f412e07e4\":{\"defs\":[],\"roots\":{\"references\":[{\"attributes\":{\"below\":[{\"id\":\"1113\"}],\"center\":[{\"id\":\"1116\"},{\"id\":\"1120\"}],\"left\":[{\"id\":\"1117\"}],\"renderers\":[{\"id\":\"1139\"}],\"title\":{\"id\":\"1103\"},\"toolbar\":{\"id\":\"1128\"},\"x_range\":{\"id\":\"1105\"},\"x_scale\":{\"id\":\"1109\"},\"y_range\":{\"id\":\"1107\"},\"y_scale\":{\"id\":\"1111\"}},\"id\":\"1102\",\"subtype\":\"Figure\",\"type\":\"Plot\"},{\"attributes\":{},\"id\":\"1153\",\"type\":\"BasicTickFormatter\"},{\"attributes\":{\"overlay\":{\"id\":\"1127\"}},\"id\":\"1123\",\"type\":\"BoxZoomTool\"},{\"attributes\":{\"fill_alpha\":{\"value\":0.2},\"fill_color\":{\"value\":\"#1f77b4\"},\"hatch_alpha\":{\"value\":0.2},\"line_alpha\":{\"value\":0.2},\"line_color\":{\"value\":\"#1f77b4\"},\"x\":{\"field\":\"x\"},\"y\":{\"field\":\"y\"}},\"id\":\"1138\",\"type\":\"Scatter\"},{\"attributes\":{},\"id\":\"1121\",\"type\":\"PanTool\"},{\"attributes\":{},\"id\":\"1124\",\"type\":\"SaveTool\"},{\"attributes\":{\"bottom_units\":\"screen\",\"coordinates\":null,\"fill_alpha\":0.5,\"fill_color\":\"lightgrey\",\"group\":null,\"left_units\":\"screen\",\"level\":\"overlay\",\"line_alpha\":1.0,\"line_color\":\"black\",\"line_dash\":[4,4],\"line_width\":2,\"right_units\":\"screen\",\"syncable\":false,\"top_units\":\"screen\"},\"id\":\"1127\",\"type\":\"BoxAnnotation\"},{\"attributes\":{},\"id\":\"1109\",\"type\":\"LinearScale\"},{\"attributes\":{\"axis\":{\"id\":\"1113\"},\"coordinates\":null,\"group\":null,\"ticker\":null},\"id\":\"1116\",\"type\":\"Grid\"},{\"attributes\":{},\"id\":\"1154\",\"type\":\"AllLabels\"},{\"attributes\":{},\"id\":\"1114\",\"type\":\"BasicTicker\"},{\"attributes\":{},\"id\":\"1125\",\"type\":\"ResetTool\"},{\"attributes\":{},\"id\":\"1107\",\"type\":\"DataRange1d\"},{\"attributes\":{},\"id\":\"1111\",\"type\":\"LinearScale\"},{\"attributes\":{\"coordinates\":null,\"group\":null,\"text\":\"MSE vs iterations for gradient descent\"},\"id\":\"1103\",\"type\":\"Title\"},{\"attributes\":{\"fill_color\":{\"value\":\"#1f77b4\"},\"line_color\":{\"value\":\"#1f77b4\"},\"x\":{\"field\":\"x\"},\"y\":{\"field\":\"y\"}},\"id\":\"1136\",\"type\":\"Scatter\"},{\"attributes\":{},\"id\":\"1122\",\"type\":\"WheelZoomTool\"},{\"attributes\":{},\"id\":\"1105\",\"type\":\"DataRange1d\"},{\"attributes\":{\"source\":{\"id\":\"1135\"}},\"id\":\"1140\",\"type\":\"CDSView\"},{\"attributes\":{},\"id\":\"1158\",\"type\":\"UnionRenderers\"},{\"attributes\":{\"tools\":[{\"id\":\"1121\"},{\"id\":\"1122\"},{\"id\":\"1123\"},{\"id\":\"1124\"},{\"id\":\"1125\"},{\"id\":\"1126\"}]},\"id\":\"1128\",\"type\":\"Toolbar\"},{\"attributes\":{},\"id\":\"1118\",\"type\":\"BasicTicker\"},{\"attributes\":{\"axis\":{\"id\":\"1117\"},\"coordinates\":null,\"dimension\":1,\"group\":null,\"ticker\":null},\"id\":\"1120\",\"type\":\"Grid\"},{\"attributes\":{\"axis_label\":\"Iterations (x10)\",\"coordinates\":null,\"formatter\":{\"id\":\"1156\"},\"group\":null,\"major_label_policy\":{\"id\":\"1157\"},\"ticker\":{\"id\":\"1114\"}},\"id\":\"1113\",\"type\":\"LinearAxis\"},{\"attributes\":{\"coordinates\":null,\"data_source\":{\"id\":\"1135\"},\"glyph\":{\"id\":\"1136\"},\"group\":null,\"hover_glyph\":null,\"muted_glyph\":{\"id\":\"1138\"},\"nonselection_glyph\":{\"id\":\"1137\"},\"view\":{\"id\":\"1140\"}},\"id\":\"1139\",\"type\":\"GlyphRenderer\"},{\"attributes\":{\"coordinates\":null,\"formatter\":{\"id\":\"1153\"},\"group\":null,\"major_label_policy\":{\"id\":\"1154\"},\"ticker\":{\"id\":\"1118\"}},\"id\":\"1117\",\"type\":\"LinearAxis\"},{\"attributes\":{},\"id\":\"1157\",\"type\":\"AllLabels\"},{\"attributes\":{},\"id\":\"1159\",\"type\":\"Selection\"},{\"attributes\":{},\"id\":\"1156\",\"type\":\"BasicTickFormatter\"},{\"attributes\":{\"fill_alpha\":{\"value\":0.1},\"fill_color\":{\"value\":\"#1f77b4\"},\"hatch_alpha\":{\"value\":0.1},\"line_alpha\":{\"value\":0.1},\"line_color\":{\"value\":\"#1f77b4\"},\"x\":{\"field\":\"x\"},\"y\":{\"field\":\"y\"}},\"id\":\"1137\",\"type\":\"Scatter\"},{\"attributes\":{\"data\":{\"x\":[150.0,151.0,152.0,153.0,154.0,155.0,156.0,157.0,158.0,159.0,160.0,161.0,162.0,163.0,164.0,165.0,166.0,167.0,168.0,169.0,170.0,171.0,172.0,173.0,174.0,175.0,176.0,177.0,178.0,179.0,180.0,181.0,182.0,183.0,184.0,185.0,186.0,187.0,188.0,189.0,190.0,191.0,192.0,193.0,194.0,195.0,196.0,197.0,198.0,199.0,200.0],\"y\":[77.76578076519445,77.76360074918996,77.76155194312867,77.75962644979826,77.7578168473007,77.75611616044431,77.75451783385743,77.75301570672059,77.75160398901916,77.75027723922581,77.74903034332551,77.74785849510376,77.74675717762038,77.74572214579919,77.74474941006493,77.74383522096528,77.7429760547184,77.74216859963063,77.7414097433311,77.74069656077516,77.7400263029695,77.73939638637619,77.7388043829543,77.73824801080076,77.73772512535493,77.73723371113196,77.73677187395438,77.73633783365065,77.73592991719347,77.73554655225105,77.7351862611265,77.73484765506205,77.73452942888582,77.73423035598114,77.73394928355843,77.7336851282118,77.73343687174294,77.73320355723651,77.73298428537154,77.73277821095506,77.73258453966423,77.73240252498466,77.73223146533279,77.73207070135183,77.73191961336984,77.73177761901171,77.73164417095404,77.73151875481537,77.73140088717378,77.73129011370332,77.73118600742279]},\"selected\":{\"id\":\"1159\"},\"selection_policy\":{\"id\":\"1158\"}},\"id\":\"1135\",\"type\":\"ColumnDataSource\"},{\"attributes\":{},\"id\":\"1126\",\"type\":\"HelpTool\"}],\"root_ids\":[\"1102\"]},\"title\":\"Bokeh Application\",\"version\":\"2.4.3\"}};\n",
       "  const render_items = [{\"docid\":\"034bccd0-b34a-43a0-9957-f62f412e07e4\",\"root_ids\":[\"1102\"],\"roots\":{\"1102\":\"70208b87-adb8-466f-9021-4831755a5f6b\"}}];\n",
       "  root.Bokeh.embed.embed_items_notebook(docs_json, render_items);\n",
       "  }\n",
       "  if (root.Bokeh !== undefined) {\n",
       "    embed_document(root);\n",
       "  } else {\n",
       "    let attempts = 0;\n",
       "    const timer = setInterval(function(root) {\n",
       "      if (root.Bokeh !== undefined) {\n",
       "        clearInterval(timer);\n",
       "        embed_document(root);\n",
       "      } else {\n",
       "        attempts++;\n",
       "        if (attempts > 100) {\n",
       "          clearInterval(timer);\n",
       "          console.log(\"Bokeh: ERROR: Unable to run BokehJS code because BokehJS library is missing\");\n",
       "        }\n",
       "      }\n",
       "    }, 10, root)\n",
       "  }\n",
       "})(window);"
      ],
      "application/vnd.bokehjs_exec.v0+json": ""
     },
     "metadata": {
      "application/vnd.bokehjs_exec.v0+json": {
       "id": "1102"
      }
     },
     "output_type": "display_data"
    }
   ],
   "source": [
    "\n",
    "f2=figure(title='MSE vs iterations for gradient descent',x_axis_label='Iterations (x10)')\n",
    "x=list(range(len(losses)))\n",
    "f2.scatter(x=[y/10 for y in x[1500::10]],y=losses[1500::10])\n",
    "show(f2)"
   ]
  },
  {
   "cell_type": "markdown",
   "metadata": {},
   "source": [
    "## Stochastic Gradient Descent\n",
    "\n",
    "In stochastic gradient descent, each loop uses just one pair (x,y) from the dataset. So x is just a row of the X matrix, y is an entry from the\n",
    "y vector, and the error is $\\|(y-xM)\\|^2$.  The gradient of this is $2x\\cdot(y-xM)=2x\\cdot y - 2x\\cdot xM$.\n",
    "\n",
    "Stochastic gradient descent avoids having to do any big matrix multiplications, and in particular avoids computing $X^{T}X$ which, if $X$ has many rows, can be prohibitively expensive."
   ]
  },
  {
   "cell_type": "code",
   "execution_count": 9,
   "metadata": {},
   "outputs": [],
   "source": [
    "M0 = np.random.normal(0,1,size=(X.shape[1],1))\n",
    "lr = .0001\n",
    "epsilon=.00001"
   ]
  },
  {
   "cell_type": "code",
   "execution_count": 10,
   "metadata": {},
   "outputs": [],
   "source": [
    "losses=[]\n",
    "for j in range(10000):\n",
    "    for i in range(X.shape[0]):\n",
    "        data=X[i,:].reshape(1,X.shape[1])\n",
    "        target = Y[i,0]\n",
    "        grad = -2*data*(target-((data@M0)[0,0]))\n",
    "        M = M0 - lr*grad.T\n",
    "        M0 = M.copy()\n",
    "    MSE = np.sum(np.square(Y-(X@M)))\n",
    "    losses.append(MSE)"
   ]
  },
  {
   "cell_type": "code",
   "execution_count": 11,
   "metadata": {},
   "outputs": [
    {
     "name": "stdout",
     "output_type": "stream",
     "text": [
      "Gradient Descent yields [ 1.78866833 -3.48161702  6.05914503] while direct computation yields [ 1.78777492 -3.47899986  6.0608333 ]\n"
     ]
    }
   ],
   "source": [
    "print(f\"Gradient Descent yields {M.ravel()} while direct computation yields {direct_solution.ravel()}\")"
   ]
  },
  {
   "cell_type": "markdown",
   "metadata": {},
   "source": [
    "Stochastic gradient descent doesn't really converge to a minimum, it tends to move around the minimum point.\n",
    "To see this let's look at a simple one-variable problem"
   ]
  },
  {
   "cell_type": "code",
   "execution_count": 12,
   "metadata": {},
   "outputs": [],
   "source": [
    "x=np.linspace(0,10,10)\n",
    "y=3*x+2+np.random.normal(0,3,size=10)"
   ]
  },
  {
   "cell_type": "code",
   "execution_count": 13,
   "metadata": {},
   "outputs": [
    {
     "data": {
      "text/html": [
       "\n",
       "  <div class=\"bk-root\" id=\"d0232601-43fc-4598-8cf5-d06deb3120e1\" data-root-id=\"1211\"></div>\n"
      ]
     },
     "metadata": {},
     "output_type": "display_data"
    },
    {
     "data": {
      "application/javascript": [
       "(function(root) {\n",
       "  function embed_document(root) {\n",
       "  const docs_json = {\"6f804054-b71e-43ea-b33f-5b3cae9141e1\":{\"defs\":[],\"roots\":{\"references\":[{\"attributes\":{\"below\":[{\"id\":\"1220\"}],\"center\":[{\"id\":\"1223\"},{\"id\":\"1227\"}],\"left\":[{\"id\":\"1224\"}],\"renderers\":[{\"id\":\"1246\"},{\"id\":\"1252\"}],\"title\":{\"id\":\"1274\"},\"toolbar\":{\"id\":\"1235\"},\"x_range\":{\"id\":\"1212\"},\"x_scale\":{\"id\":\"1216\"},\"y_range\":{\"id\":\"1214\"},\"y_scale\":{\"id\":\"1218\"}},\"id\":\"1211\",\"subtype\":\"Figure\",\"type\":\"Plot\"},{\"attributes\":{\"coordinates\":null,\"formatter\":{\"id\":\"1277\"},\"group\":null,\"major_label_policy\":{\"id\":\"1278\"},\"ticker\":{\"id\":\"1225\"}},\"id\":\"1224\",\"type\":\"LinearAxis\"},{\"attributes\":{\"coordinates\":null,\"formatter\":{\"id\":\"1280\"},\"group\":null,\"major_label_policy\":{\"id\":\"1281\"},\"ticker\":{\"id\":\"1221\"}},\"id\":\"1220\",\"type\":\"LinearAxis\"},{\"attributes\":{\"fill_color\":{\"value\":\"#1f77b4\"},\"line_color\":{\"value\":\"#1f77b4\"},\"x\":{\"field\":\"x\"},\"y\":{\"field\":\"y\"}},\"id\":\"1243\",\"type\":\"Scatter\"},{\"attributes\":{\"fill_alpha\":{\"value\":0.2},\"fill_color\":{\"value\":\"#1f77b4\"},\"hatch_alpha\":{\"value\":0.2},\"line_alpha\":{\"value\":0.2},\"line_color\":{\"value\":\"#1f77b4\"},\"x\":{\"field\":\"x\"},\"y\":{\"field\":\"y\"}},\"id\":\"1245\",\"type\":\"Scatter\"},{\"attributes\":{},\"id\":\"1282\",\"type\":\"UnionRenderers\"},{\"attributes\":{},\"id\":\"1229\",\"type\":\"WheelZoomTool\"},{\"attributes\":{\"coordinates\":null,\"data_source\":{\"id\":\"1242\"},\"glyph\":{\"id\":\"1243\"},\"group\":null,\"hover_glyph\":null,\"muted_glyph\":{\"id\":\"1245\"},\"nonselection_glyph\":{\"id\":\"1244\"},\"view\":{\"id\":\"1247\"}},\"id\":\"1246\",\"type\":\"GlyphRenderer\"},{\"attributes\":{},\"id\":\"1218\",\"type\":\"LinearScale\"},{\"attributes\":{},\"id\":\"1283\",\"type\":\"Selection\"},{\"attributes\":{},\"id\":\"1216\",\"type\":\"LinearScale\"},{\"attributes\":{\"fill_alpha\":{\"value\":0.1},\"fill_color\":{\"value\":\"#1f77b4\"},\"hatch_alpha\":{\"value\":0.1},\"line_alpha\":{\"value\":0.1},\"line_color\":{\"value\":\"#1f77b4\"},\"x\":{\"field\":\"x\"},\"y\":{\"field\":\"y\"}},\"id\":\"1244\",\"type\":\"Scatter\"},{\"attributes\":{\"line_alpha\":0.2,\"line_color\":\"#1f77b4\",\"x\":{\"field\":\"x\"},\"y\":{\"field\":\"y\"}},\"id\":\"1251\",\"type\":\"Line\"},{\"attributes\":{\"overlay\":{\"id\":\"1234\"}},\"id\":\"1230\",\"type\":\"BoxZoomTool\"},{\"attributes\":{},\"id\":\"1214\",\"type\":\"DataRange1d\"},{\"attributes\":{},\"id\":\"1231\",\"type\":\"SaveTool\"},{\"attributes\":{\"line_alpha\":0.1,\"line_color\":\"#1f77b4\",\"x\":{\"field\":\"x\"},\"y\":{\"field\":\"y\"}},\"id\":\"1250\",\"type\":\"Line\"},{\"attributes\":{},\"id\":\"1228\",\"type\":\"PanTool\"},{\"attributes\":{\"data\":{\"x\":{\"__ndarray__\":\"AAAAAAAAAAByHMdxHMfxP3Icx3EcxwFAq6qqqqqqCkByHMdxHMcRQI7jOI7jOBZAq6qqqqqqGkDIcRzHcRwfQHIcx3EcxyFAAAAAAAAAJEA=\",\"dtype\":\"float64\",\"order\":\"little\",\"shape\":[10]},\"y\":{\"__ndarray__\":\"AAAAAAAAAEBWVVVVVVUVQFZVVVVVVSFAAAAAAAAAKECrqqqqqqouQKqqqqqqqjJAAAAAAAAANkBWVVVVVVU5QKuqqqqqqjxAAAAAAAAAQEA=\",\"dtype\":\"float64\",\"order\":\"little\",\"shape\":[10]}},\"selected\":{\"id\":\"1285\"},\"selection_policy\":{\"id\":\"1284\"}},\"id\":\"1248\",\"type\":\"ColumnDataSource\"},{\"attributes\":{\"tools\":[{\"id\":\"1228\"},{\"id\":\"1229\"},{\"id\":\"1230\"},{\"id\":\"1231\"},{\"id\":\"1232\"},{\"id\":\"1233\"}]},\"id\":\"1235\",\"type\":\"Toolbar\"},{\"attributes\":{},\"id\":\"1225\",\"type\":\"BasicTicker\"},{\"attributes\":{\"data\":{\"x\":{\"__ndarray__\":\"AAAAAAAAAAByHMdxHMfxP3Icx3EcxwFAq6qqqqqqCkByHMdxHMcRQI7jOI7jOBZAq6qqqqqqGkDIcRzHcRwfQHIcx3EcxyFAAAAAAAAAJEA=\",\"dtype\":\"float64\",\"order\":\"little\",\"shape\":[10]},\"y\":{\"__ndarray__\":\"D/O75rX9JEAgyir0bmriP6qMejqF5yFACFXXhfmyJEBbzpQwZrwoQFSbUD4THS1A2j9jmfUZO0Aje/47ye48QC2dNSgZtjxASZd7GYNYQkA=\",\"dtype\":\"float64\",\"order\":\"little\",\"shape\":[10]}},\"selected\":{\"id\":\"1283\"},\"selection_policy\":{\"id\":\"1282\"}},\"id\":\"1242\",\"type\":\"ColumnDataSource\"},{\"attributes\":{\"line_color\":\"#1f77b4\",\"x\":{\"field\":\"x\"},\"y\":{\"field\":\"y\"}},\"id\":\"1249\",\"type\":\"Line\"},{\"attributes\":{\"source\":{\"id\":\"1248\"}},\"id\":\"1253\",\"type\":\"CDSView\"},{\"attributes\":{\"coordinates\":null,\"group\":null},\"id\":\"1274\",\"type\":\"Title\"},{\"attributes\":{},\"id\":\"1284\",\"type\":\"UnionRenderers\"},{\"attributes\":{},\"id\":\"1277\",\"type\":\"BasicTickFormatter\"},{\"attributes\":{},\"id\":\"1285\",\"type\":\"Selection\"},{\"attributes\":{},\"id\":\"1232\",\"type\":\"ResetTool\"},{\"attributes\":{},\"id\":\"1278\",\"type\":\"AllLabels\"},{\"attributes\":{},\"id\":\"1233\",\"type\":\"HelpTool\"},{\"attributes\":{},\"id\":\"1221\",\"type\":\"BasicTicker\"},{\"attributes\":{},\"id\":\"1280\",\"type\":\"BasicTickFormatter\"},{\"attributes\":{\"bottom_units\":\"screen\",\"coordinates\":null,\"fill_alpha\":0.5,\"fill_color\":\"lightgrey\",\"group\":null,\"left_units\":\"screen\",\"level\":\"overlay\",\"line_alpha\":1.0,\"line_color\":\"black\",\"line_dash\":[4,4],\"line_width\":2,\"right_units\":\"screen\",\"syncable\":false,\"top_units\":\"screen\"},\"id\":\"1234\",\"type\":\"BoxAnnotation\"},{\"attributes\":{},\"id\":\"1212\",\"type\":\"DataRange1d\"},{\"attributes\":{},\"id\":\"1281\",\"type\":\"AllLabels\"},{\"attributes\":{\"coordinates\":null,\"data_source\":{\"id\":\"1248\"},\"glyph\":{\"id\":\"1249\"},\"group\":null,\"hover_glyph\":null,\"muted_glyph\":{\"id\":\"1251\"},\"nonselection_glyph\":{\"id\":\"1250\"},\"view\":{\"id\":\"1253\"}},\"id\":\"1252\",\"type\":\"GlyphRenderer\"},{\"attributes\":{\"source\":{\"id\":\"1242\"}},\"id\":\"1247\",\"type\":\"CDSView\"},{\"attributes\":{\"axis\":{\"id\":\"1220\"},\"coordinates\":null,\"group\":null,\"ticker\":null},\"id\":\"1223\",\"type\":\"Grid\"},{\"attributes\":{\"axis\":{\"id\":\"1224\"},\"coordinates\":null,\"dimension\":1,\"group\":null,\"ticker\":null},\"id\":\"1227\",\"type\":\"Grid\"}],\"root_ids\":[\"1211\"]},\"title\":\"Bokeh Application\",\"version\":\"2.4.3\"}};\n",
       "  const render_items = [{\"docid\":\"6f804054-b71e-43ea-b33f-5b3cae9141e1\",\"root_ids\":[\"1211\"],\"roots\":{\"1211\":\"d0232601-43fc-4598-8cf5-d06deb3120e1\"}}];\n",
       "  root.Bokeh.embed.embed_items_notebook(docs_json, render_items);\n",
       "  }\n",
       "  if (root.Bokeh !== undefined) {\n",
       "    embed_document(root);\n",
       "  } else {\n",
       "    let attempts = 0;\n",
       "    const timer = setInterval(function(root) {\n",
       "      if (root.Bokeh !== undefined) {\n",
       "        clearInterval(timer);\n",
       "        embed_document(root);\n",
       "      } else {\n",
       "        attempts++;\n",
       "        if (attempts > 100) {\n",
       "          clearInterval(timer);\n",
       "          console.log(\"Bokeh: ERROR: Unable to run BokehJS code because BokehJS library is missing\");\n",
       "        }\n",
       "      }\n",
       "    }, 10, root)\n",
       "  }\n",
       "})(window);"
      ],
      "application/vnd.bokehjs_exec.v0+json": ""
     },
     "metadata": {
      "application/vnd.bokehjs_exec.v0+json": {
       "id": "1211"
      }
     },
     "output_type": "display_data"
    }
   ],
   "source": [
    "f5=figure()\n",
    "f5.scatter(x=x,y=y)\n",
    "f5.line(x=x,y=3*x+2)\n",
    "show(f5)"
   ]
  },
  {
   "cell_type": "code",
   "execution_count": 14,
   "metadata": {},
   "outputs": [],
   "source": [
    "w=np.random.normal(0,1)\n",
    "b=np.random.normal(0,1)\n",
    "losses=[]\n",
    "for j in range(100):\n",
    "    for i in range(len(x)):\n",
    "        data=x[i]\n",
    "        target = y[i]\n",
    "        wgrad = -2*data*(target-(w*data+b))\n",
    "        bgrad = -2*(target-(w*data+b))\n",
    "        w = w - lr*wgrad\n",
    "        b = b - lr*bgrad\n",
    "        loss = (target-(w*data+b))**2\n",
    "        losses.append(loss)\n"
   ]
  },
  {
   "cell_type": "code",
   "execution_count": 15,
   "metadata": {},
   "outputs": [
    {
     "name": "stdout",
     "output_type": "stream",
     "text": [
      "found slope=3.474855175866838 and intercept=-0.06425453963752059\n"
     ]
    }
   ],
   "source": [
    "print(f\"found slope={w} and intercept={b}\")"
   ]
  },
  {
   "cell_type": "code",
   "execution_count": 16,
   "metadata": {},
   "outputs": [
    {
     "data": {
      "text/html": [
       "\n",
       "  <div class=\"bk-root\" id=\"cebb298a-c166-492d-8f58-954a894c2332\" data-root-id=\"1352\"></div>\n"
      ]
     },
     "metadata": {},
     "output_type": "display_data"
    },
    {
     "data": {
      "application/javascript": [
       "(function(root) {\n",
       "  function embed_document(root) {\n",
       "  const docs_json = {\"86911ba3-25cb-4843-8652-f3eb1648781b\":{\"defs\":[],\"roots\":{\"references\":[{\"attributes\":{\"below\":[{\"id\":\"1363\"}],\"center\":[{\"id\":\"1366\"},{\"id\":\"1370\"}],\"left\":[{\"id\":\"1367\"}],\"renderers\":[{\"id\":\"1389\"}],\"title\":{\"id\":\"1353\"},\"toolbar\":{\"id\":\"1378\"},\"x_range\":{\"id\":\"1355\"},\"x_scale\":{\"id\":\"1359\"},\"y_range\":{\"id\":\"1357\"},\"y_scale\":{\"id\":\"1361\"}},\"id\":\"1352\",\"subtype\":\"Figure\",\"type\":\"Plot\"},{\"attributes\":{\"fill_alpha\":{\"value\":0.1},\"fill_color\":{\"value\":\"#1f77b4\"},\"hatch_alpha\":{\"value\":0.1},\"line_alpha\":{\"value\":0.1},\"line_color\":{\"value\":\"#1f77b4\"},\"x\":{\"field\":\"x\"},\"y\":{\"field\":\"y\"}},\"id\":\"1387\",\"type\":\"Scatter\"},{\"attributes\":{\"coordinates\":null,\"data_source\":{\"id\":\"1385\"},\"glyph\":{\"id\":\"1386\"},\"group\":null,\"hover_glyph\":null,\"muted_glyph\":{\"id\":\"1388\"},\"nonselection_glyph\":{\"id\":\"1387\"},\"view\":{\"id\":\"1390\"}},\"id\":\"1389\",\"type\":\"GlyphRenderer\"},{\"attributes\":{},\"id\":\"1376\",\"type\":\"HelpTool\"},{\"attributes\":{\"overlay\":{\"id\":\"1377\"}},\"id\":\"1373\",\"type\":\"BoxZoomTool\"},{\"attributes\":{},\"id\":\"1431\",\"type\":\"UnionRenderers\"},{\"attributes\":{},\"id\":\"1372\",\"type\":\"WheelZoomTool\"},{\"attributes\":{},\"id\":\"1355\",\"type\":\"DataRange1d\"},{\"attributes\":{},\"id\":\"1432\",\"type\":\"Selection\"},{\"attributes\":{\"bottom_units\":\"screen\",\"coordinates\":null,\"fill_alpha\":0.5,\"fill_color\":\"lightgrey\",\"group\":null,\"left_units\":\"screen\",\"level\":\"overlay\",\"line_alpha\":1.0,\"line_color\":\"black\",\"line_dash\":[4,4],\"line_width\":2,\"right_units\":\"screen\",\"syncable\":false,\"top_units\":\"screen\"},\"id\":\"1377\",\"type\":\"BoxAnnotation\"},{\"attributes\":{\"coordinates\":null,\"formatter\":{\"id\":\"1429\"},\"group\":null,\"major_label_policy\":{\"id\":\"1430\"},\"ticker\":{\"id\":\"1364\"}},\"id\":\"1363\",\"type\":\"LinearAxis\"},{\"attributes\":{\"coordinates\":null,\"group\":null,\"text\":\"MSE vs iterations in stochastic gradient descent\"},\"id\":\"1353\",\"type\":\"Title\"},{\"attributes\":{},\"id\":\"1371\",\"type\":\"PanTool\"},{\"attributes\":{\"fill_alpha\":{\"value\":0.2},\"fill_color\":{\"value\":\"#1f77b4\"},\"hatch_alpha\":{\"value\":0.2},\"line_alpha\":{\"value\":0.2},\"line_color\":{\"value\":\"#1f77b4\"},\"x\":{\"field\":\"x\"},\"y\":{\"field\":\"y\"}},\"id\":\"1388\",\"type\":\"Scatter\"},{\"attributes\":{\"data\":{\"x\":[0,1,2,3,4,5,6,7,8,9,10,11,12,13,14,15,16,17,18,19,20,21,22,23,24,25,26,27,28,29,30,31,32,33,34,35,36,37,38,39,40,41,42,43,44,45,46,47,48,49,50,51,52,53,54,55,56,57,58,59,60,61,62,63,64,65,66,67,68,69,70,71,72,73,74,75,76,77,78,79,80,81,82,83,84,85,86,87,88,89,90,91,92,93,94,95,96,97,98,99,100,101,102,103,104,105,106,107,108,109,110,111,112,113,114,115,116,117,118,119,120,121,122,123,124,125,126,127,128,129,130,131,132,133,134,135,136,137,138,139,140,141,142,143,144,145,146,147,148,149,150,151,152,153,154,155,156,157,158,159,160,161,162,163,164,165,166,167,168,169,170,171,172,173,174,175,176,177,178,179,180,181,182,183,184,185,186,187,188,189,190,191,192,193,194,195,196,197,198,199,200,201,202,203,204,205,206,207,208,209,210,211,212,213,214,215,216,217,218,219,220,221,222,223,224,225,226,227,228,229,230,231,232,233,234,235,236,237,238,239,240,241,242,243,244,245,246,247,248,249,250,251,252,253,254,255,256,257,258,259,260,261,262,263,264,265,266,267,268,269,270,271,272,273,274,275,276,277,278,279,280,281,282,283,284,285,286,287,288,289,290,291,292,293,294,295,296,297,298,299,300,301,302,303,304,305,306,307,308,309,310,311,312,313,314,315,316,317,318,319,320,321,322,323,324,325,326,327,328,329,330,331,332,333,334,335,336,337,338,339,340,341,342,343,344,345,346,347,348,349,350,351,352,353,354,355,356,357,358,359,360,361,362,363,364,365,366,367,368,369,370,371,372,373,374,375,376,377,378,379,380,381,382,383,384,385,386,387,388,389,390,391,392,393,394,395,396,397,398,399,400,401,402,403,404,405,406,407,408,409,410,411,412,413,414,415,416,417,418,419,420,421,422,423,424,425,426,427,428,429,430,431,432,433,434,435,436,437,438,439,440,441,442,443,444,445,446,447,448,449,450,451,452,453,454,455,456,457,458,459,460,461,462,463,464,465,466,467,468,469,470,471,472,473,474,475,476,477,478,479,480,481,482,483,484,485,486,487,488,489,490,491,492,493,494,495,496,497,498,499,500,501,502,503,504,505,506,507,508,509,510,511,512,513,514,515,516,517,518,519,520,521,522,523,524,525,526,527,528,529,530,531,532,533,534,535,536,537,538,539,540,541,542,543,544,545,546,547,548,549,550,551,552,553,554,555,556,557,558,559,560,561,562,563,564,565,566,567,568,569,570,571,572,573,574,575,576,577,578,579,580,581,582,583,584,585,586,587,588,589,590,591,592,593,594,595,596,597,598,599,600,601,602,603,604,605,606,607,608,609,610,611,612,613,614,615,616,617,618,619,620,621,622,623,624,625,626,627,628,629,630,631,632,633,634,635,636,637,638,639,640,641,642,643,644,645,646,647,648,649,650,651,652,653,654,655,656,657,658,659,660,661,662,663,664,665,666,667,668,669,670,671,672,673,674,675,676,677,678,679,680,681,682,683,684,685,686,687,688,689,690,691,692,693,694,695,696,697,698,699,700,701,702,703,704,705,706,707,708,709,710,711,712,713,714,715,716,717,718,719,720,721,722,723,724,725,726,727,728,729,730,731,732,733,734,735,736,737,738,739,740,741,742,743,744,745,746,747,748,749,750,751,752,753,754,755,756,757,758,759,760,761,762,763,764,765,766,767,768,769,770,771,772,773,774,775,776,777,778,779,780,781,782,783,784,785,786,787,788,789,790,791,792,793,794,795,796,797,798,799,800,801,802,803,804,805,806,807,808,809,810,811,812,813,814,815,816,817,818,819,820,821,822,823,824,825,826,827,828,829,830,831,832,833,834,835,836,837,838,839,840,841,842,843,844,845,846,847,848,849,850,851,852,853,854,855,856,857,858,859,860,861,862,863,864,865,866,867,868,869,870,871,872,873,874,875,876,877,878,879,880,881,882,883,884,885,886,887,888,889,890,891,892,893,894,895,896,897,898,899,900,901,902,903,904,905,906,907,908,909,910,911,912,913,914,915,916,917,918,919,920,921,922,923,924,925,926,927,928,929,930,931,932,933,934,935,936,937,938,939,940,941,942,943,944,945,946,947,948,949,950,951,952,953,954,955,956,957,958,959,960,961,962,963,964,965,966,967,968,969,970,971,972,973,974,975,976,977,978,979,980,981,982,983,984,985,986,987,988,989,990,991,992,993,994,995,996,997,998,999],\"y\":[128.78268663709974,7.581160230417025,154.77910635610638,228.65254770598744,337.5101934179584,471.3742060001952,1238.765398639889,1426.3998631738311,1449.4445184554513,2131.479653024931,127.68861423627357,5.48573304987402,136.13561203169587,195.6665299245161,285.02561298728205,394.9714049384206,1090.3710535844687,1243.883173434276,1243.8172635676642,1856.1456512719915,126.67318309826953,3.839823387632869,119.86486048065804,167.2855540521623,240.18011095517454,329.9574831176637,960.8223627069898,1085.3091299913451,1066.647402506302,1617.1046332653123,125.73036605672834,2.5713508804888434,105.65705338558206,142.8783345866023,201.90544264706392,274.7224293406649,847.6612826707732,947.498397278846,914.0498762084247,1409.5246656182997,124.85462903129978,1.6187414511750968,93.24342024226631,121.89935331763934,169.27994173149673,227.87832111001566,748.7551562423994,827.6965776120969,782.6664005887063,1229.2205322132506,124.04088687911859,0.929457248503019,82.39074293904193,103.8772594080864,141.50859548963953,188.22905508258347,662.2532946562375,723.5172210247039,669.5942906261037,1072.5669365126323,123.28446363681637,0.4587283491004389,72.89661406242759,88.40483474607628,117.90581566881706,154.74417822400648,586.5493777974679,632.8924919440491,572.3248841725937,936.4233699672525,122.58105667047568,0.16845879219186313,64.58533039463644,75.13031360218586,97.88054112328385,126.53626584261599,520.2488909169048,554.0304630261384,488.69027194383074,818.0690773654437,121.92670430832061,0.02628322976367705,57.304336315970716,63.74987404161923,80.92335748230686,102.84136735987391,462.14092163191475,485.3781450067154,416.8172143690611,715.1467611089292,121.31775658113308,0.004753684526018463,50.92114329053205,54.00114313203053,66.59536151699136,83.00210529076222,411.17373187794163,425.58948131808694,355.0872767368875,625.6138491262575,120.75084873931361,0.08063868482987878,45.32066153675444,45.657579266567964,54.51853459261587,66.45306881753086,366.43359815613917,373.49763997920803,302.10234453275353,547.7003092684041,120.22287725397769,0.2343194475372751,40.40288857257581,38.52361333521536,44.36742136229596,52.70819171636337,327.126481519994,328.0910250618554,256.65479375632367,479.87212988325587,119.73097804319934,0.449269857319256,36.080906758207995,32.430446411302626,35.861937346677,41.349846253530515,292.56214768173163,288.4925077474143,217.70168869743094,420.7997047006354,119.27250669409061,0.7116087877068602,32.27914839287776,27.232415408023442,28.761152829484615,32.019420883531545,262.1404086302253,253.9414442432783,184.3424641846299,369.33046265614155,118.84502047736908,1.0097148632872759,28.93189249011069,22.803850090854613,22.85792107894256,24.409180916384404,235.33920130264832,223.77810603248722,155.79962247182223,324.46517198555495,118.44626197387608,1.3338951064658673,25.981962175525787,19.03635515594451,17.97423671195478,18.255238432133847,211.70425706529372,197.43019830302538,131.40203822864856,285.3374246883307,118.07414415256899,1.6761000745367163,23.379595822447932,15.836460018188328,13.957225425059777,13.331481176766928,190.84014883366538,174.40118599818277,110.5705198757347,251.19587389534027,117.72673675716467,2.0296790979342023,21.081468651116584,13.123586683071009,10.67567964673781,9.444330467410468,172.40253128943397,154.2601846587244,92.80532290427071,221.3888541728271,117.4022538741663,2.3891700996866527,19.049844642325223,10.828292765461137,8.017066199387088,6.428215691982696,156.09141443046,136.63320588072,77.67535183406821,195.35106455470432,117.09904256872325,2.750119227612011,17.251841321269136,8.890752506593353,5.884942038228225,4.1416681780551645,141.64533213757701,121.19557547288734,64.80882295474792,172.5920371600677,116.81557248688104,3.108926180563107,15.658792308721932,7.259443648816123,4.19672276799365,2.4639503465734376,128.83628600631712,107.6653668554076,53.88519070489029,152.68615152321354,116.55042633348141,3.462711671784347,14.245694563312105,5.890012361307346,2.8817561077548075,1.2921474343426091,117.46536076103871,95.79771341000183,44.62816711752967,135.26398701933147,116.30229114443756,3.8092039580678394,12.990728992958822,4.744292159731683,1.8796589364707883,0.538658903685282,107.35892147862111,85.37988181138238,36.799686754316305,120.00483368524542,116.0699502804946,4.146641783178662,11.874844632080901,3.789456007360326,1.138882142520319,0.12903516512636906,98.36531488945708,76.2270042261858,30.194689447044748,106.6302058950926,115.85227607701947,4.473691446852099,10.881397895719942,2.997283592536585,0.6154723370441845,0.0001125982143265947,90.35200744631099,68.17838098875556,24.636610381177075,94.89822426108925,115.64822309096436,4.789376024247181,9.995839559653898,2.343528206429645,0.2720036749949914,0.09840622142017053,83.20310187424133,61.09427724065497,19.9734819524567,84.59874922690896,115.45682189201256,5.093015031728761,9.205443100667853,1.807369746726702,0.0766566473018879,0.37872486838535396,76.8171817255219,54.85314730089973,16.074564717072384,75.54916548420806,115.27717335013614,5.384173069004964,8.499068883945508,1.3709421913600535,0.0024238385965186142,0.8029784904961944,71.10544022527075,49.349229431533495,12.827435908407645,67.59072989905415,115.10844337644555,5.662616169951127,7.86695942283388,1.0189254597063988,0.026425353355896034,1.3391513251152307,65.9900555473515,44.49046136433885,10.135473643109862,60.585407367931325,114.94985807835958,5.928274769215318,7.300561575409848,0.7381929399466558,0.12931895606822352,1.960418231557435,61.40277972810159,40.19667362014598,7.91568328845531,54.41312917793883,114.80069929383116,6.181212342653203,6.792372095662276,0.5175071390062823,0.2947919974165368,2.644384578131289,57.28371281319758,36.3980234216808,6.096819686931688,48.969417235089566,114.66030047267813,6.421598910006322,6.335803436229052,0.34725693043200906,0.5091239511578893,3.3724327282257742,53.58023763193825,33.03363699475206,4.617765184185167,44.16332513199113,114.52804287603797,6.649688700807518,5.925067114474249,0.21923075709472303,0.7608099022616827,4.129160477714586,50.246093882513726,30.05043237514229,3.4261288141498736,39.915653610671555,114.403352067627,6.8658013816831,5.5550723128944774,0.12642090825267496,1.0402366378954486,4.901898788496977,47.24057305994725,27.402098580144727,2.4770366737927554,36.1574036754995,114.28569467287384,7.070306327110342,5.221337695880769,0.06285465028359422,1.339404126643179,5.680297885871417,44.52781822460563,25.048210242422762,1.73208756769081,32.82843554416335,114.17457538414789,7.2636094880856215,4.919914694204883,0.023448561161096528,1.651686151818576,6.455972277047798,42.076214744786725,22.953459607389068,1.1584515045919082,29.876305894555067,114.06953419223667,7.44614247562418,4.647320741845655,0.0038829125043401613,1.971624712581745,7.222196535939492,39.8578599963155,21.086990222147666,0.7280916577488817,27.2552595613784,113.97014382596994,7.6183535298963685,4.4004811517708395,0.0004933701502780558,2.2947535396798044,7.973644812687189,37.84810160374136,19.421818744859657,0.41709302179230595,24.925355035547554,113.87600738346305,7.780700092275216,4.176678492237384,0.010177653665852734,2.6174467064991345,8.70616798872741,36.02513519490472,17.934333122032537,0.20508326629386925,22.851705888779186,113.7867561398738,7.933642737634481,3.973508476700904,0.030315114805009476,2.9367888641345097,9.41660323002334,34.36965384212286,16.603856955630427,0.07473324761903861,21.003822643021454,113.70204751785379,8.077640258768762,3.7888415116761505,0.058697471346864136,3.2504641029444037,10.102611409972013,32.86454240395416,15.412271244899225,0.011326337409486176,19.355041679558568,113.62156320804117,8.213145724561096,3.6207891605854914,0.09346917184554639,3.5566608525988253,10.762538494749752,31.494610883016364,14.343685867814923,0.0023871937514199654,17.882029579069542,113.54500742799989,8.340603359151764,3.4676748801276513,0.13307607361402055,3.8539905866152973,11.395297520669072,30.246361696329846,13.38415418869341,0.03736187064928232,16.564352839105098,113.47210530896888,8.46044611142799,3.3280084710324895,0.17622129510980525,4.1414184033248285,12.000268256909939,29.107786431296322,12.521425063035627,0.10734225954920994,15.384104261800015,113.40260140065953,8.573093803145454,3.200463759004505,0.22182725855964322,4.418203819609349,12.577212047646281,28.068188246702825,11.74472727654305,0.20482880645893692,14.325578470242064,113.33625828513243,8.678951760330067,3.0838590857259076,0.2690030724142159,4.683850342221147,13.126199673657151,27.118026586169346,11.04458211838034,0.32352626969138953,13.374990021067966,113.2728552915094,8.778409846656459,2.977140245311724,0.3170165188849162,4.938062578895174,13.647550372387109,26.248781311728074,10.412640362977003,0.4581679937245185,12.520228454582538,113.21218730393613,8.87184182957206,2.8793655497300925,0.36527001182414737,5.1807098219997405,14.141780413496788,25.45283374680535,9.841540431903208,0.6043647890941205,11.750645380199769,113.15406365581383,8.959605020305087,2.7896927484111096,0.4132799766813239,5.411795184777138,14.609559849754575,24.723362448636273,9.324784937958444,0.7584750395764368,11.056869350031786,113.09830710386872,9.042040137795102,2.707367563425904,0.46065917902618914,5.631429497450181,15.051676255446448,24.05425181688174,8.856633186530216,0.9174931173829167,10.430644840648446,113.04475287613234,9.119471354219398,2.6317136329671404,0.5071015927608911,5.8398092803315835,15.469004430462682,23.440011893822522,8.432007532257293,1.0789535843812028,9.864692154184624,112.99324778836632,9.192206486332132,2.562123683045419,0.5523694550105714,6.037198205927896,15.862481191433467,22.875707927085795,8.046411768771097,1.240849000865242,9.352585475306048,112.94364942388893,9.260537302437399,2.498051770891036,0.5962822029725099,6.223911543910454,16.233084494826926,22.356898452820655,7.6958599715981615,1.401559460385141,8.888646688896719,112.89582537214687,9.324739919612153,2.4390064639985667,0.638707029740477,6.4003031534950505,16.58181624346638,21.879580819412936,7.376814424203371,1.5597922258955517,8.467852882349366,112.8496525217333,9.385075269894019,2.384544836490988,0.6795508321895805,6.566754648751622,16.909688219784744,21.44014321252179,7.086131438990821,1.7145300644252321,8.085755732652228,112.80501640387824,9.441789617648434,2.3342671798717696,0.7187533551739722,6.723666414971987,17.217710668309284,21.035322364301148,6.821014042618625,1.8649870693113373,7.73841121780227,112.76181058273944,9.495115113314034,2.287812338590963,0.7562813632184862,6.871450199595301,17.506883118095587,20.662166235618667,6.578970631483642,2.010570924849683,7.4223182993982135,112.71993608909675,9.545270371267133,2.2448535924457405,0.7921236941488087,7.010523040313712,17.778187094591487,20.318001052055077,6.357778821513672,2.150850711503286,7.1343654028687205,112.67930089430864,9.592461061707493,2.205095017902087,0.8262870691997902,7.14130232670395,18.03258042101292,20.000402154318294,6.155453818908967,2.2855294736330984,6.8717836774002095,112.63981942162332,9.636880508302555,2.168268269165933,0.8587925514963477,7.26420182079103,18.270992852860278,19.707168193055583,5.970220727315445,2.4144208786987,6.632106152446584,112.601412092152,9.67871028488246,2.134129727424817,0.8896725597882776,7.379628486985105,18.494322826671702,19.436298258285607,5.800490283919488,2.5374293893021242,6.41313202453513,112.56400490301316,9.718120805792728,2.1024579732783724,0.9189683572592232,7.487980003389479,18.703435136324362,19.185971586013697,5.6448375837115075,2.6545334492859394,6.212895409321841,112.52752903533758,9.755271905621258,2.073051543108932,0.9467279463996702,7.5896428450348585,18.899159377884278,18.954529530087942,5.501983409046282,2.76577125405047,6.029637981600101,112.49192048999605,9.790313404949172,2.0457269351280325,0.9730043105734697,7.684990845561085,19.082289027786683,18.74045952690493,5.370777831817305,2.871228734800846,5.861785002023565,112.45711974906656,9.82338565955833,2.0203168351685292,0.9978539512255292,7.7743841575985835,19.253581039545264,18.54238081496997,5.250185799089665,2.9710294378473368,5.70792429523995,112.4230714612034,9.8546200911827,1.996668536062593,1.0213356768538246,7.858168543905053,19.413755861700814,18.35903170124577,5.13927445079284,3.0653260244637943,5.566787801298727,112.38972414920386,9.884139698435664,1.9746425277267696,1.043509606057819,7.936674941452296,19.563497794732566,18.189258192264795,5.0372019508280435,3.154293155115656,5.437235371766406,112.35702993819216,9.912059546997122,1.9541112379315013,1.0644363523113871,8.010219249364148,19.703455617512905,18.03200383065832,4.943207641367138,3.238121554923028,5.318240524972315,112.32494430295502,9.938487238516384,1.9349579062200493,1.0841763627079686,8.079102299075599,19.834243424888108,17.886300597504388,4.856603354785309,3.317013085741889,5.208877912099238,112.29342583306821,9.963523357991752,1.91707557560887,1.1027893868892367,8.143609971487212,19.956441627375327,17.751260758109403,4.776765739081222,3.3911766748424217,5.10831227818007,112.2624360145523,9.987261899635476,1.9003661885906817,1.1203340557828567,8.20401343137598,20.07059807199739,17.626069543838902,4.703129471227313,3.4608249713729773,5.015788730134089,112.23193902688638,10.00979067143213,1.8847397756087514,1.1368675527146668,8.260569454018595,20.17722925012765,17.5099785757036,4.635181249038291,3.5261716200810698,4.930624148335054,112.20190155429233,10.031191678757146,1.8701137256084341,1.1524453619914083,8.31352082299997,20.27682156405456,17.402299946824648,4.5724544661681,3.5874290575191403,4.852199599350079,112.17229261028062,10.051541487546556,1.8564121295266627,1.167121082227079,8.363096781608853,20.36983262893787,17.302400890875703,4.51452448703199,3.6448067495367,4.779953625847335,112.14308337452017,10.070911567604536,1.8435651886763273,1.1809462935584434,8.409513523150329,20.456692591043694,17.209698972310292,4.4610044490395815,3.6985098005499584,4.71337630561431,112.11424704116216,10.089368616706857,1.8315086809401322,1.193970469504502,8.452974707997944,20.53780544671977,17.123657741801374,4.411541528732913,3.7487378751428815,4.652003985478764,112.08575867781006,10.106974866209555,1.8201834785266233,1.2062409256067548,8.493671997330571,20.61355034959135,17.043782806980126,4.365813616430836,3.79568438121305,4.5954146079567515,112.0575950943844,10.12378836890717,1.8095351117738487,1.2178027981743818,8.531785595302532,20.68428289601259,16.969618274394715,4.323526350946482,3.8395358713229126,4.543223558912598,112.02973472118609,10.139863269905641,1.7995133741284814,1.2286990474760149,8.567484792923329,20.75033638095152,16.900743523718173,4.284410472008845,3.8804716253189766,4.495079973607245,112.00215749550952,10.155250061284928,1.7900719639906277,1.2389704805930082,8.600928508218034,20.812023018290233,16.83677027971355,4.248219453296579,3.9186633827831683,4.450663446419763,111.97484475620465,10.169995821326975,1.7811681596081432,1.248655789896441,8.632265818332012,20.869635121029365,16.777339951392694,4.214727383590228,3.9542751986029527,4.40968109640668,111.94777914562836,10.184144439077903,1.7727625236374072,1.2577916037500374,8.661636480163631,20.92344623813948,16.722121211257782,4.183727067555759,3.987463399000256,4.371864946850354,111.9209445184657,10.197736825000721,1.764818634367914,1.266412546588162,8.68917143688228,20.97371224584582,16.670807790543147,4.155028321163842,4.01837661883558,4.336969582160837,111.89432585693825,10.210811108457635,1.757302840942621,1.274551305985309,8.714993308336034,21.02067239199029,16.623116469044692,4.128456439795933,4.047155903980512,4.304770050035923,111.86790919195104,10.223402822740148,1.7501840402004933,1.2822387047318582,8.739216863892585,21.0645502928194,16.578785240472453,4.103850819747504,4.073934865101995,4.275059980740254,111.84168152976096,10.235545078341842,1.7434334730267913,1.2895037762705328,8.76194947670643,21.105554882120742,16.53757163632757,4.081063716158128,4.098839871382683,4.247649898813063,111.81563078377899,10.247268725143256,1.7370245383254739,1.2963738421367001,8.783291558774447,21.14388131309172,16.499251193135613,4.059959122427828,4.121990274563925,4.222365705523471,111.78974571114618,10.258602504151632,1.7309326229298305,1.302874590290948,8.803336976447458,21.179711813693935,16.46361604947499,4.040411757950525,4.143498655288834,4.199047313015776,111.76401585374865,10.269573189410684,1.7251349459457392,1.3090301534402946,8.822173446311822,21.213216496535367,16.430473660668074,4.022306152547029,4.163471085077888,4.17754741338139,111.73843148335989,10.280205720667846,1.7196104161796348,1.3148631866201856,8.839882911557265,21.244554124545793,16.399645620261104,4.005535817337175,4.1820073984230035,4.157730367895252,111.71298355062154,10.29052332735831,1.7143395014429448,1.3203949434580737,8.856541899106437,21.273872833880255,16.370966578537573,3.990002492979486,4.19920147046732,4.139471203405612,111.68766363759336,10.30054764443748,1.7093041086484575,1.3256453506641483,8.872221857908235,21.301310815604914,16.344283249300915,3.97561546725028,4.215141496568366,4.122654704398419,111.66246391362215,10.310298820566215,1.704487473723985,1.3306330803998396,8.886989478895833,21.32699695780547,16.319453497040378,3.962290954846882,4.229910270748409,4.107174590596726,111.63737709429759,10.319795619126456,1.6998740604662486,1.3353756202624165,8.900906997183741,21.35105144980835,16.296345497380436,3.949951533104573,4.243585460629197,4.0929327711311645,111.6123964032784,10.329055512518856,1.6954494675447578,1.3398893406970578,8.9140324771329,21.373586350231122,16.274836964406195,3.938525628021585,4.256239876951206,4.0798386673464835,111.5875155367877,10.338094770168919,1.6912003429427718,1.3441895597085627,8.926420080951354,21.394706120584075,16.254814439081617,3.9279470456066936,4.2679417361988,4.067808597212218,111.56272863059161,10.346928540644011,1.6871143051913604,1.3482906047948373,8.93812032152153,21.414508126132024,16.236172633529897,3.9181545441118732,4.2787549152056545,4.056765215099283,111.53803022928572,10.35557092826012,1.6831798708142456,1.3522058720652728,8.949180300158545,21.433083105698557,16.218813826441206,3.9090914431926964,4.288739196910391,4.046637001380367,111.51341525772955,10.364035064535159,1.6793863874560764,1.3559478825406828,8.959643930008179,21.45051561206013,16.20264730531573,3.9007052664651085,4.297950506676995,4.037357796926704,111.48887899447747,10.372333174824245,1.675723972216106,1.3595283356582746,8.969552145789036,21.466884424530754,16.187588851647483,3.892947414301374,4.3064411387978465,4.028866378111673]},\"selected\":{\"id\":\"1432\"},\"selection_policy\":{\"id\":\"1431\"}},\"id\":\"1385\",\"type\":\"ColumnDataSource\"},{\"attributes\":{\"axis\":{\"id\":\"1363\"},\"coordinates\":null,\"group\":null,\"ticker\":null},\"id\":\"1366\",\"type\":\"Grid\"},{\"attributes\":{},\"id\":\"1357\",\"type\":\"DataRange1d\"},{\"attributes\":{},\"id\":\"1368\",\"type\":\"BasicTicker\"},{\"attributes\":{},\"id\":\"1426\",\"type\":\"BasicTickFormatter\"},{\"attributes\":{},\"id\":\"1375\",\"type\":\"ResetTool\"},{\"attributes\":{},\"id\":\"1374\",\"type\":\"SaveTool\"},{\"attributes\":{\"coordinates\":null,\"formatter\":{\"id\":\"1426\"},\"group\":null,\"major_label_policy\":{\"id\":\"1427\"},\"ticker\":{\"id\":\"1368\"}},\"id\":\"1367\",\"type\":\"LinearAxis\"},{\"attributes\":{},\"id\":\"1359\",\"type\":\"LinearScale\"},{\"attributes\":{},\"id\":\"1427\",\"type\":\"AllLabels\"},{\"attributes\":{\"axis\":{\"id\":\"1367\"},\"coordinates\":null,\"dimension\":1,\"group\":null,\"ticker\":null},\"id\":\"1370\",\"type\":\"Grid\"},{\"attributes\":{},\"id\":\"1361\",\"type\":\"LinearScale\"},{\"attributes\":{},\"id\":\"1429\",\"type\":\"BasicTickFormatter\"},{\"attributes\":{},\"id\":\"1364\",\"type\":\"BasicTicker\"},{\"attributes\":{},\"id\":\"1430\",\"type\":\"AllLabels\"},{\"attributes\":{\"source\":{\"id\":\"1385\"}},\"id\":\"1390\",\"type\":\"CDSView\"},{\"attributes\":{\"fill_color\":{\"value\":\"#1f77b4\"},\"line_color\":{\"value\":\"#1f77b4\"},\"x\":{\"field\":\"x\"},\"y\":{\"field\":\"y\"}},\"id\":\"1386\",\"type\":\"Scatter\"},{\"attributes\":{\"tools\":[{\"id\":\"1371\"},{\"id\":\"1372\"},{\"id\":\"1373\"},{\"id\":\"1374\"},{\"id\":\"1375\"},{\"id\":\"1376\"}]},\"id\":\"1378\",\"type\":\"Toolbar\"}],\"root_ids\":[\"1352\"]},\"title\":\"Bokeh Application\",\"version\":\"2.4.3\"}};\n",
       "  const render_items = [{\"docid\":\"86911ba3-25cb-4843-8652-f3eb1648781b\",\"root_ids\":[\"1352\"],\"roots\":{\"1352\":\"cebb298a-c166-492d-8f58-954a894c2332\"}}];\n",
       "  root.Bokeh.embed.embed_items_notebook(docs_json, render_items);\n",
       "  }\n",
       "  if (root.Bokeh !== undefined) {\n",
       "    embed_document(root);\n",
       "  } else {\n",
       "    let attempts = 0;\n",
       "    const timer = setInterval(function(root) {\n",
       "      if (root.Bokeh !== undefined) {\n",
       "        clearInterval(timer);\n",
       "        embed_document(root);\n",
       "      } else {\n",
       "        attempts++;\n",
       "        if (attempts > 100) {\n",
       "          clearInterval(timer);\n",
       "          console.log(\"Bokeh: ERROR: Unable to run BokehJS code because BokehJS library is missing\");\n",
       "        }\n",
       "      }\n",
       "    }, 10, root)\n",
       "  }\n",
       "})(window);"
      ],
      "application/vnd.bokehjs_exec.v0+json": ""
     },
     "metadata": {
      "application/vnd.bokehjs_exec.v0+json": {
       "id": "1352"
      }
     },
     "output_type": "display_data"
    }
   ],
   "source": [
    "f6=figure(title=\"MSE vs iterations in stochastic gradient descent\")\n",
    "f6.scatter(x=list(range(len(losses))),y=losses)\n",
    "show(f6)"
   ]
  },
  {
   "cell_type": "markdown",
   "metadata": {},
   "source": [
    "As seen in the graph above, in each inner loop through the data has the MSE bouncing for each particular point bouncing around while the overall trend is downward.  That's because each adjustment produced by a new data point doesn't necessarily move towards the proper minimum. At the later stages the MSE for the different points varies because our estimate isn't equally good for all points. "
   ]
  },
  {
   "cell_type": "markdown",
   "metadata": {},
   "source": []
  }
 ],
 "metadata": {
  "kernelspec": {
   "display_name": "Python 3 (ipykernel)",
   "language": "python",
   "name": "python3"
  },
  "language_info": {
   "codemirror_mode": {
    "name": "ipython",
    "version": 3
   },
   "file_extension": ".py",
   "mimetype": "text/x-python",
   "name": "python",
   "nbconvert_exporter": "python",
   "pygments_lexer": "ipython3",
   "version": "3.9.15"
  },
  "vscode": {
   "interpreter": {
    "hash": "4de1eb631fc111013b2f441024ec0dcd7a567c3d6a338a26d91722f9a102f561"
   }
  }
 },
 "nbformat": 4,
 "nbformat_minor": 4
}
