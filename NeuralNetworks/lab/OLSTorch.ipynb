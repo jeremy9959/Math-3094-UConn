{
 "cells": [
  {
   "attachments": {},
   "cell_type": "markdown",
   "id": "c1a91744",
   "metadata": {},
   "source": [
    "## Neural Network approach to simple least squares regression"
   ]
  },
  {
   "cell_type": "code",
   "execution_count": 327,
   "id": "a7876b58-22ae-4eb2-b01d-0518c5919610",
   "metadata": {},
   "outputs": [
    {
     "name": "stdout",
     "output_type": "stream",
     "text": [
      "Using Torch version 1.13.1.post200.  CUDA is available.\n",
      "Using bokeh version 3.1.0.\n"
     ]
    },
    {
     "data": {
      "text/html": [
       "<style>\n",
       "        .bk-notebook-logo {\n",
       "            display: block;\n",
       "            width: 20px;\n",
       "            height: 20px;\n",
       "            background-image: url(data:image/png;base64,iVBORw0KGgoAAAANSUhEUgAAABQAAAAUCAYAAACNiR0NAAAABHNCSVQICAgIfAhkiAAAAAlwSFlzAAALEgAACxIB0t1+/AAAABx0RVh0U29mdHdhcmUAQWRvYmUgRmlyZXdvcmtzIENTNui8sowAAAOkSURBVDiNjZRtaJVlGMd/1/08zzln5zjP1LWcU9N0NkN8m2CYjpgQYQXqSs0I84OLIC0hkEKoPtiH3gmKoiJDU7QpLgoLjLIQCpEsNJ1vqUOdO7ppbuec5+V+rj4ctwzd8IIbbi6u+8f1539dt3A78eXC7QizUF7gyV1fD1Yqg4JWz84yffhm0qkFqBogB9rM8tZdtwVsPUhWhGcFJngGeWrPzHm5oaMmkfEg1usvLFyc8jLRqDOMru7AyC8saQr7GG7f5fvDeH7Ej8CM66nIF+8yngt6HWaKh7k49Soy9nXurCi1o3qUbS3zWfrYeQDTB/Qj6kX6Ybhw4B+bOYoLKCC9H3Nu/leUTZ1JdRWkkn2ldcCamzrcf47KKXdAJllSlxAOkRgyHsGC/zRday5Qld9DyoM4/q/rUoy/CXh3jzOu3bHUVZeU+DEn8FInkPBFlu3+nW3Nw0mk6vCDiWg8CeJaxEwuHS3+z5RgY+YBR6V1Z1nxSOfoaPa4LASWxxdNp+VWTk7+4vzaou8v8PN+xo+KY2xsw6une2frhw05CTYOmQvsEhjhWjn0bmXPjpE1+kplmmkP3suftwTubK9Vq22qKmrBhpY4jvd5afdRA3wGjFAgcnTK2s4hY0/GPNIb0nErGMCRxWOOX64Z8RAC4oCXdklmEvcL8o0BfkNK4lUg9HTl+oPlQxdNo3Mg4Nv175e/1LDGzZen30MEjRUtmXSfiTVu1kK8W4txyV6BMKlbgk3lMwYCiusNy9fVfvvwMxv8Ynl6vxoByANLTWplvuj/nF9m2+PDtt1eiHPBr1oIfhCChQMBw6Aw0UulqTKZdfVvfG7VcfIqLG9bcldL/+pdWTLxLUy8Qq38heUIjh4XlzZxzQm19lLFlr8vdQ97rjZVOLf8nclzckbcD4wxXMidpX30sFd37Fv/GtwwhzhxGVAprjbg0gCAEeIgwCZyTV2Z1REEW8O4py0wsjeloKoMr6iCY6dP92H6Vw/oTyICIthibxjm/DfN9lVz8IqtqKYLUXfoKVMVQVVJOElGjrnnUt9T9wbgp8AyYKaGlqingHZU/uG2NTZSVqwHQTWkx9hxjkpWDaCg6Ckj5qebgBVbT3V3NNXMSiWSDdGV3hrtzla7J+duwPOToIg42ChPQOQjspnSlp1V+Gjdged7+8UN5CRAV7a5EdFNwCjEaBR27b3W890TE7g24NAP/mMDXRWrGoFPQI9ls/MWO2dWFAar/xcOIImbbpA3zgAAAABJRU5ErkJggg==);\n",
       "        }\n",
       "    </style>\n",
       "    <div>\n",
       "        <a href=\"https://bokeh.org\" target=\"_blank\" class=\"bk-notebook-logo\"></a>\n",
       "        <span id=\"p11547\">Loading BokehJS ...</span>\n",
       "    </div>\n"
      ]
     },
     "metadata": {},
     "output_type": "display_data"
    },
    {
     "data": {
      "application/javascript": "(function(root) {\n  function now() {\n    return new Date();\n  }\n\n  const force = true;\n\n  if (typeof root._bokeh_onload_callbacks === \"undefined\" || force === true) {\n    root._bokeh_onload_callbacks = [];\n    root._bokeh_is_loading = undefined;\n  }\n\nconst JS_MIME_TYPE = 'application/javascript';\n  const HTML_MIME_TYPE = 'text/html';\n  const EXEC_MIME_TYPE = 'application/vnd.bokehjs_exec.v0+json';\n  const CLASS_NAME = 'output_bokeh rendered_html';\n\n  /**\n   * Render data to the DOM node\n   */\n  function render(props, node) {\n    const script = document.createElement(\"script\");\n    node.appendChild(script);\n  }\n\n  /**\n   * Handle when an output is cleared or removed\n   */\n  function handleClearOutput(event, handle) {\n    const cell = handle.cell;\n\n    const id = cell.output_area._bokeh_element_id;\n    const server_id = cell.output_area._bokeh_server_id;\n    // Clean up Bokeh references\n    if (id != null && id in Bokeh.index) {\n      Bokeh.index[id].model.document.clear();\n      delete Bokeh.index[id];\n    }\n\n    if (server_id !== undefined) {\n      // Clean up Bokeh references\n      const cmd_clean = \"from bokeh.io.state import curstate; print(curstate().uuid_to_server['\" + server_id + \"'].get_sessions()[0].document.roots[0]._id)\";\n      cell.notebook.kernel.execute(cmd_clean, {\n        iopub: {\n          output: function(msg) {\n            const id = msg.content.text.trim();\n            if (id in Bokeh.index) {\n              Bokeh.index[id].model.document.clear();\n              delete Bokeh.index[id];\n            }\n          }\n        }\n      });\n      // Destroy server and session\n      const cmd_destroy = \"import bokeh.io.notebook as ion; ion.destroy_server('\" + server_id + \"')\";\n      cell.notebook.kernel.execute(cmd_destroy);\n    }\n  }\n\n  /**\n   * Handle when a new output is added\n   */\n  function handleAddOutput(event, handle) {\n    const output_area = handle.output_area;\n    const output = handle.output;\n\n    // limit handleAddOutput to display_data with EXEC_MIME_TYPE content only\n    if ((output.output_type != \"display_data\") || (!Object.prototype.hasOwnProperty.call(output.data, EXEC_MIME_TYPE))) {\n      return\n    }\n\n    const toinsert = output_area.element.find(\".\" + CLASS_NAME.split(' ')[0]);\n\n    if (output.metadata[EXEC_MIME_TYPE][\"id\"] !== undefined) {\n      toinsert[toinsert.length - 1].firstChild.textContent = output.data[JS_MIME_TYPE];\n      // store reference to embed id on output_area\n      output_area._bokeh_element_id = output.metadata[EXEC_MIME_TYPE][\"id\"];\n    }\n    if (output.metadata[EXEC_MIME_TYPE][\"server_id\"] !== undefined) {\n      const bk_div = document.createElement(\"div\");\n      bk_div.innerHTML = output.data[HTML_MIME_TYPE];\n      const script_attrs = bk_div.children[0].attributes;\n      for (let i = 0; i < script_attrs.length; i++) {\n        toinsert[toinsert.length - 1].firstChild.setAttribute(script_attrs[i].name, script_attrs[i].value);\n        toinsert[toinsert.length - 1].firstChild.textContent = bk_div.children[0].textContent\n      }\n      // store reference to server id on output_area\n      output_area._bokeh_server_id = output.metadata[EXEC_MIME_TYPE][\"server_id\"];\n    }\n  }\n\n  function register_renderer(events, OutputArea) {\n\n    function append_mime(data, metadata, element) {\n      // create a DOM node to render to\n      const toinsert = this.create_output_subarea(\n        metadata,\n        CLASS_NAME,\n        EXEC_MIME_TYPE\n      );\n      this.keyboard_manager.register_events(toinsert);\n      // Render to node\n      const props = {data: data, metadata: metadata[EXEC_MIME_TYPE]};\n      render(props, toinsert[toinsert.length - 1]);\n      element.append(toinsert);\n      return toinsert\n    }\n\n    /* Handle when an output is cleared or removed */\n    events.on('clear_output.CodeCell', handleClearOutput);\n    events.on('delete.Cell', handleClearOutput);\n\n    /* Handle when a new output is added */\n    events.on('output_added.OutputArea', handleAddOutput);\n\n    /**\n     * Register the mime type and append_mime function with output_area\n     */\n    OutputArea.prototype.register_mime_type(EXEC_MIME_TYPE, append_mime, {\n      /* Is output safe? */\n      safe: true,\n      /* Index of renderer in `output_area.display_order` */\n      index: 0\n    });\n  }\n\n  // register the mime type if in Jupyter Notebook environment and previously unregistered\n  if (root.Jupyter !== undefined) {\n    const events = require('base/js/events');\n    const OutputArea = require('notebook/js/outputarea').OutputArea;\n\n    if (OutputArea.prototype.mime_types().indexOf(EXEC_MIME_TYPE) == -1) {\n      register_renderer(events, OutputArea);\n    }\n  }\n  if (typeof (root._bokeh_timeout) === \"undefined\" || force === true) {\n    root._bokeh_timeout = Date.now() + 5000;\n    root._bokeh_failed_load = false;\n  }\n\n  const NB_LOAD_WARNING = {'data': {'text/html':\n     \"<div style='background-color: #fdd'>\\n\"+\n     \"<p>\\n\"+\n     \"BokehJS does not appear to have successfully loaded. If loading BokehJS from CDN, this \\n\"+\n     \"may be due to a slow or bad network connection. Possible fixes:\\n\"+\n     \"</p>\\n\"+\n     \"<ul>\\n\"+\n     \"<li>re-rerun `output_notebook()` to attempt to load from CDN again, or</li>\\n\"+\n     \"<li>use INLINE resources instead, as so:</li>\\n\"+\n     \"</ul>\\n\"+\n     \"<code>\\n\"+\n     \"from bokeh.resources import INLINE\\n\"+\n     \"output_notebook(resources=INLINE)\\n\"+\n     \"</code>\\n\"+\n     \"</div>\"}};\n\n  function display_loaded() {\n    const el = document.getElementById(\"p11547\");\n    if (el != null) {\n      el.textContent = \"BokehJS is loading...\";\n    }\n    if (root.Bokeh !== undefined) {\n      if (el != null) {\n        el.textContent = \"BokehJS \" + root.Bokeh.version + \" successfully loaded.\";\n      }\n    } else if (Date.now() < root._bokeh_timeout) {\n      setTimeout(display_loaded, 100)\n    }\n  }\n\n  function run_callbacks() {\n    try {\n      root._bokeh_onload_callbacks.forEach(function(callback) {\n        if (callback != null)\n          callback();\n      });\n    } finally {\n      delete root._bokeh_onload_callbacks\n    }\n    console.debug(\"Bokeh: all callbacks have finished\");\n  }\n\n  function load_libs(css_urls, js_urls, callback) {\n    if (css_urls == null) css_urls = [];\n    if (js_urls == null) js_urls = [];\n\n    root._bokeh_onload_callbacks.push(callback);\n    if (root._bokeh_is_loading > 0) {\n      console.debug(\"Bokeh: BokehJS is being loaded, scheduling callback at\", now());\n      return null;\n    }\n    if (js_urls == null || js_urls.length === 0) {\n      run_callbacks();\n      return null;\n    }\n    console.debug(\"Bokeh: BokehJS not loaded, scheduling load and callback at\", now());\n    root._bokeh_is_loading = css_urls.length + js_urls.length;\n\n    function on_load() {\n      root._bokeh_is_loading--;\n      if (root._bokeh_is_loading === 0) {\n        console.debug(\"Bokeh: all BokehJS libraries/stylesheets loaded\");\n        run_callbacks()\n      }\n    }\n\n    function on_error(url) {\n      console.error(\"failed to load \" + url);\n    }\n\n    for (let i = 0; i < css_urls.length; i++) {\n      const url = css_urls[i];\n      const element = document.createElement(\"link\");\n      element.onload = on_load;\n      element.onerror = on_error.bind(null, url);\n      element.rel = \"stylesheet\";\n      element.type = \"text/css\";\n      element.href = url;\n      console.debug(\"Bokeh: injecting link tag for BokehJS stylesheet: \", url);\n      document.body.appendChild(element);\n    }\n\n    for (let i = 0; i < js_urls.length; i++) {\n      const url = js_urls[i];\n      const element = document.createElement('script');\n      element.onload = on_load;\n      element.onerror = on_error.bind(null, url);\n      element.async = false;\n      element.src = url;\n      console.debug(\"Bokeh: injecting script tag for BokehJS library: \", url);\n      document.head.appendChild(element);\n    }\n  };\n\n  function inject_raw_css(css) {\n    const element = document.createElement(\"style\");\n    element.appendChild(document.createTextNode(css));\n    document.body.appendChild(element);\n  }\n\n  const js_urls = [\"https://cdn.bokeh.org/bokeh/release/bokeh-3.1.0.min.js\", \"https://cdn.bokeh.org/bokeh/release/bokeh-gl-3.1.0.min.js\", \"https://cdn.bokeh.org/bokeh/release/bokeh-widgets-3.1.0.min.js\", \"https://cdn.bokeh.org/bokeh/release/bokeh-tables-3.1.0.min.js\", \"https://cdn.bokeh.org/bokeh/release/bokeh-mathjax-3.1.0.min.js\"];\n  const css_urls = [];\n\n  const inline_js = [    function(Bokeh) {\n      Bokeh.set_log_level(\"info\");\n    },\nfunction(Bokeh) {\n    }\n  ];\n\n  function run_inline_js() {\n    if (root.Bokeh !== undefined || force === true) {\n          for (let i = 0; i < inline_js.length; i++) {\n      inline_js[i].call(root, root.Bokeh);\n    }\nif (force === true) {\n        display_loaded();\n      }} else if (Date.now() < root._bokeh_timeout) {\n      setTimeout(run_inline_js, 100);\n    } else if (!root._bokeh_failed_load) {\n      console.log(\"Bokeh: BokehJS failed to load within specified timeout.\");\n      root._bokeh_failed_load = true;\n    } else if (force !== true) {\n      const cell = $(document.getElementById(\"p11547\")).parents('.cell').data().cell;\n      cell.output_area.append_execute_result(NB_LOAD_WARNING)\n    }\n  }\n\n  if (root._bokeh_is_loading === 0) {\n    console.debug(\"Bokeh: BokehJS loaded, going straight to plotting\");\n    run_inline_js();\n  } else {\n    load_libs(css_urls, js_urls, function() {\n      console.debug(\"Bokeh: BokehJS plotting callback run at\", now());\n      run_inline_js();\n    });\n  }\n}(window));",
      "application/vnd.bokehjs_load.v0+json": ""
     },
     "metadata": {},
     "output_type": "display_data"
    }
   ],
   "source": [
    "import torch\n",
    "import bokeh\n",
    "from bokeh.plotting import figure, output_notebook, show\n",
    "from bokeh.models import Label\n",
    "import numpy as np\n",
    "import tqdm\n",
    "print(f\"Using Torch version {torch.__version__}.  CUDA is {'available' if torch.cuda.is_available() else 'not available'}.\")\n",
    "print(f\"Using bokeh version {bokeh.__version__}.\")\n",
    "output_notebook()"
   ]
  },
  {
   "attachments": {},
   "cell_type": "markdown",
   "id": "3aa71ef6",
   "metadata": {},
   "source": [
    "We will use the simulated multivariate regression data for this demonstration"
   ]
  },
  {
   "cell_type": "code",
   "execution_count": 9,
   "id": "b158e61b",
   "metadata": {},
   "outputs": [],
   "source": [
    "data = np.genfromtxt(\"data.csv\",delimiter=\",\",skip_header=1)\n",
    "Y = data[:,1].reshape(-1,1)\n",
    "X = data[:,2:]\n"
   ]
  },
  {
   "attachments": {},
   "cell_type": "markdown",
   "id": "c7bb0477",
   "metadata": {},
   "source": [
    "The OLS class definition has a single linear layer with no activation function.  The forward method is the same as the linear regression model."
   ]
  },
  {
   "cell_type": "code",
   "execution_count": 228,
   "id": "6d2b4a41",
   "metadata": {},
   "outputs": [
    {
     "name": "stdout",
     "output_type": "stream",
     "text": [
      "OLS(\n",
      "  (linear): Linear(in_features=2, out_features=1, bias=True)\n",
      ")\n",
      "Layer: linear.weight | Size: torch.Size([1, 2]) | Values : tensor([[ 0.3777, -0.1856]], dtype=torch.float64, grad_fn=<SliceBackward0>) \n",
      "\n",
      "Layer: linear.bias | Size: torch.Size([1]) | Values : tensor([0.4363], dtype=torch.float64, grad_fn=<SliceBackward0>) \n",
      "\n"
     ]
    }
   ],
   "source": [
    "class OLS(torch.nn.Module):\n",
    "    \"\"\"A simple 2x1 ordinary least squares model.\"\"\"\n",
    "    def __init__(self):\n",
    "        super().__init__()\n",
    "        self.linear=torch.nn.Linear(2,1,dtype=torch.float64)\n",
    "    \n",
    "    def forward(self,x):\n",
    "        return self.linear(x)\n",
    "    \n",
    "    \n",
    "model = OLS()\n",
    "print(model)\n",
    "for name,param in model.named_parameters():\n",
    "    print(f\"Layer: {name} | Size: {param.size()} | Values : {param[:2]} \\n\")"
   ]
  },
  {
   "cell_type": "code",
   "execution_count": 261,
   "id": "a02b13c4",
   "metadata": {},
   "outputs": [],
   "source": [
    "Xt = torch.from_numpy(X)\n",
    "Yt = torch.from_numpy(Y)\n",
    "loss_fun = torch.nn.functional.mse_loss\n",
    "optimizer = torch.optim.SGD(model.parameters(),lr=.01)\n"
   ]
  },
  {
   "attachments": {},
   "cell_type": "markdown",
   "id": "f6324b9a",
   "metadata": {},
   "source": [
    "Here we just check that the loss function computed by the mse function is the same as the one computed by hand."
   ]
  },
  {
   "cell_type": "code",
   "execution_count": 262,
   "id": "6add242a",
   "metadata": {},
   "outputs": [
    {
     "name": "stdout",
     "output_type": "stream",
     "text": [
      "From function: 1.0365 | By hand: 1.0365\n"
     ]
    }
   ],
   "source": [
    "# loss computed by loss_func\n",
    "loss = loss_fun(model(Xt),Yt)\n",
    "\n",
    "# loss computed by hand\n",
    "weights = list(model.parameters())\n",
    "w = weights[0].detach()\n",
    "b = weights[1].detach()\n",
    "handloss = 1/Xt.shape[0]*(((Xt @ w.T + b) - Yt)**2).sum().item()\n",
    "\n",
    "print(f\"From function: {loss.item():.4f} | By hand: {handloss:.4f}\")\n"
   ]
  },
  {
   "attachments": {},
   "cell_type": "markdown",
   "id": "c960ac20",
   "metadata": {},
   "source": [
    "The \"training loop\" is one step through the data in the stochastic gradient descent"
   ]
  },
  {
   "cell_type": "code",
   "execution_count": 232,
   "id": "629feb65",
   "metadata": {},
   "outputs": [],
   "source": [
    "def train(model, loss_fun, optimizer, Xt, Yt, debug=False):\n",
    "    \"\"\"One step through the training loop\"\"\"\n",
    "    \n",
    "    # forward pass\n",
    "    predicted = model(Xt)\n",
    "    \n",
    "    # compute the loss\n",
    "    loss = loss_fun(predicted, Yt)\n",
    "    \n",
    "    # reset the gradient calculations\n",
    "    optimizer.zero_grad()\n",
    "\n",
    "    # compute the gradients by backward propogation\n",
    "    loss.backward()\n",
    "\n",
    "    # Show that the gradients are what they should be\n",
    "    if debug:\n",
    "        print(f\"Loss: {loss.item():.4f}\")\n",
    "        print(f\"w gradients are: {model.linear.weight.grad[:2]}\")\n",
    "        print(f\"b gradients are: {model.linear.bias.grad}\")\n",
    "        print(f\"By hand: {2/Xt.shape[0]*((predicted - Yt).T @ Xt)}\")\n",
    "        print(f\"By hand: {2/Xt.shape[0]*((predicted - Yt).sum())}\")\n",
    "        \n",
    "    # adjust the weights\n",
    "    optimizer.step()\n",
    "    \n",
    "    return loss.item()\n",
    "\n",
    "    \n"
   ]
  },
  {
   "attachments": {},
   "cell_type": "markdown",
   "id": "70397de0",
   "metadata": {},
   "source": [
    "This utility function returns a plot of loss over time.  You can set a learning rate and a threshold for ending the training loop."
   ]
  },
  {
   "cell_type": "code",
   "execution_count": 328,
   "id": "ebd5fd05",
   "metadata": {},
   "outputs": [],
   "source": [
    "def plot_loss(model, data, target, learning_rate=.01, threshold=1e-6, max_iter=100000):\n",
    "    \"\"\"Run the model and collect the losses; return a figure\"\"\"\n",
    "    \n",
    "    \n",
    "    loss_fun = torch.nn.functional.mse_loss\n",
    "    optimizer = torch.optim.SGD(model.parameters(),lr=learning_rate)\n",
    "\n",
    "    losses = []\n",
    "    prior_loss=1000000\n",
    "    for i in tqdm.tqdm(range(max_iter)):\n",
    "        loss = train(model,loss_fun,optimizer,Xt,Yt,debug=False)\n",
    "        losses.append(loss)\n",
    "        if abs(loss-prior_loss) < threshold:\n",
    "            break\n",
    "        prior_loss = loss\n",
    "\n",
    "    w = model.linear.weight.detach().numpy()\n",
    "    b = model.linear.bias.detach().numpy()\n",
    "\n",
    "    label = Label(text=f\" Final Weights\\n w0={w[0,0]:.2f}\\n w1={w[0,1]:.2f}\\n b={b[0]:.2f}\",x=400,y=440,x_units='screen',y_units='screen')\n",
    "    \n",
    "    f=figure(title=f\"Loss over time: lr={learning_rate} threshold={threshold}\",x_axis_label=\"Epoch\",y_axis_label=\"Loss\")\n",
    "    f.add_layout(label)\n",
    "    f.line(x=list(range(len(losses))),y=losses)\n",
    "    \n",
    "    return f\n"
   ]
  },
  {
   "cell_type": "code",
   "execution_count": 330,
   "id": "6c58b7b4",
   "metadata": {},
   "outputs": [
    {
     "name": "stderr",
     "output_type": "stream",
     "text": [
      "  1%|▏         | 1352/100000 [00:00<00:17, 5544.04it/s]\n"
     ]
    },
    {
     "data": {
      "text/html": [
       "\n",
       "  <div id=\"0c46d7ad-f65a-45d4-9ffb-adec84f1b29d\" data-root-id=\"p12090\" style=\"display: contents;\"></div>\n"
      ]
     },
     "metadata": {},
     "output_type": "display_data"
    },
    {
     "data": {
      "application/javascript": "(function(root) {\n  function embed_document(root) {\n  const docs_json = {\"073c5c13-93f3-4af9-8917-a5c8abef8ca9\":{\"version\":\"3.1.0\",\"title\":\"Bokeh Application\",\"defs\":[],\"roots\":[{\"type\":\"object\",\"name\":\"Figure\",\"id\":\"p12090\",\"attributes\":{\"x_range\":{\"type\":\"object\",\"name\":\"DataRange1d\",\"id\":\"p12092\"},\"y_range\":{\"type\":\"object\",\"name\":\"DataRange1d\",\"id\":\"p12091\"},\"x_scale\":{\"type\":\"object\",\"name\":\"LinearScale\",\"id\":\"p12104\"},\"y_scale\":{\"type\":\"object\",\"name\":\"LinearScale\",\"id\":\"p12106\"},\"title\":{\"type\":\"object\",\"name\":\"Title\",\"id\":\"p12093\",\"attributes\":{\"text\":\"Loss over time: lr=0.01 threshold=1e-06\"}},\"renderers\":[{\"type\":\"object\",\"name\":\"GlyphRenderer\",\"id\":\"p12143\",\"attributes\":{\"data_source\":{\"type\":\"object\",\"name\":\"ColumnDataSource\",\"id\":\"p12137\",\"attributes\":{\"selected\":{\"type\":\"object\",\"name\":\"Selection\",\"id\":\"p12138\",\"attributes\":{\"indices\":[],\"line_indices\":[]}},\"selection_policy\":{\"type\":\"object\",\"name\":\"UnionRenderers\",\"id\":\"p12139\"},\"data\":{\"type\":\"map\",\"entries\":[[\"x\",[0,1,2,3,4,5,6,7,8,9,10,11,12,13,14,15,16,17,18,19,20,21,22,23,24,25,26,27,28,29,30,31,32,33,34,35,36,37,38,39,40,41,42,43,44,45,46,47,48,49,50,51,52,53,54,55,56,57,58,59,60,61,62,63,64,65,66,67,68,69,70,71,72,73,74,75,76,77,78,79,80,81,82,83,84,85,86,87,88,89,90,91,92,93,94,95,96,97,98,99,100,101,102,103,104,105,106,107,108,109,110,111,112,113,114,115,116,117,118,119,120,121,122,123,124,125,126,127,128,129,130,131,132,133,134,135,136,137,138,139,140,141,142,143,144,145,146,147,148,149,150,151,152,153,154,155,156,157,158,159,160,161,162,163,164,165,166,167,168,169,170,171,172,173,174,175,176,177,178,179,180,181,182,183,184,185,186,187,188,189,190,191,192,193,194,195,196,197,198,199,200,201,202,203,204,205,206,207,208,209,210,211,212,213,214,215,216,217,218,219,220,221,222,223,224,225,226,227,228,229,230,231,232,233,234,235,236,237,238,239,240,241,242,243,244,245,246,247,248,249,250,251,252,253,254,255,256,257,258,259,260,261,262,263,264,265,266,267,268,269,270,271,272,273,274,275,276,277,278,279,280,281,282,283,284,285,286,287,288,289,290,291,292,293,294,295,296,297,298,299,300,301,302,303,304,305,306,307,308,309,310,311,312,313,314,315,316,317,318,319,320,321,322,323,324,325,326,327,328,329,330,331,332,333,334,335,336,337,338,339,340,341,342,343,344,345,346,347,348,349,350,351,352,353,354,355,356,357,358,359,360,361,362,363,364,365,366,367,368,369,370,371,372,373,374,375,376,377,378,379,380,381,382,383,384,385,386,387,388,389,390,391,392,393,394,395,396,397,398,399,400,401,402,403,404,405,406,407,408,409,410,411,412,413,414,415,416,417,418,419,420,421,422,423,424,425,426,427,428,429,430,431,432,433,434,435,436,437,438,439,440,441,442,443,444,445,446,447,448,449,450,451,452,453,454,455,456,457,458,459,460,461,462,463,464,465,466,467,468,469,470,471,472,473,474,475,476,477,478,479,480,481,482,483,484,485,486,487,488,489,490,491,492,493,494,495,496,497,498,499,500,501,502,503,504,505,506,507,508,509,510,511,512,513,514,515,516,517,518,519,520,521,522,523,524,525,526,527,528,529,530,531,532,533,534,535,536,537,538,539,540,541,542,543,544,545,546,547,548,549,550,551,552,553,554,555,556,557,558,559,560,561,562,563,564,565,566,567,568,569,570,571,572,573,574,575,576,577,578,579,580,581,582,583,584,585,586,587,588,589,590,591,592,593,594,595,596,597,598,599,600,601,602,603,604,605,606,607,608,609,610,611,612,613,614,615,616,617,618,619,620,621,622,623,624,625,626,627,628,629,630,631,632,633,634,635,636,637,638,639,640,641,642,643,644,645,646,647,648,649,650,651,652,653,654,655,656,657,658,659,660,661,662,663,664,665,666,667,668,669,670,671,672,673,674,675,676,677,678,679,680,681,682,683,684,685,686,687,688,689,690,691,692,693,694,695,696,697,698,699,700,701,702,703,704,705,706,707,708,709,710,711,712,713,714,715,716,717,718,719,720,721,722,723,724,725,726,727,728,729,730,731,732,733,734,735,736,737,738,739,740,741,742,743,744,745,746,747,748,749,750,751,752,753,754,755,756,757,758,759,760,761,762,763,764,765,766,767,768,769,770,771,772,773,774,775,776,777,778,779,780,781,782,783,784,785,786,787,788,789,790,791,792,793,794,795,796,797,798,799,800,801,802,803,804,805,806,807,808,809,810,811,812,813,814,815,816,817,818,819,820,821,822,823,824,825,826,827,828,829,830,831,832,833,834,835,836,837,838,839,840,841,842,843,844,845,846,847,848,849,850,851,852,853,854,855,856,857,858,859,860,861,862,863,864,865,866,867,868,869,870,871,872,873,874,875,876,877,878,879,880,881,882,883,884,885,886,887,888,889,890,891,892,893,894,895,896,897,898,899,900,901,902,903,904,905,906,907,908,909,910,911,912,913,914,915,916,917,918,919,920,921,922,923,924,925,926,927,928,929,930,931,932,933,934,935,936,937,938,939,940,941,942,943,944,945,946,947,948,949,950,951,952,953,954,955,956,957,958,959,960,961,962,963,964,965,966,967,968,969,970,971,972,973,974,975,976,977,978,979,980,981,982,983,984,985,986,987,988,989,990,991,992,993,994,995,996,997,998,999,1000,1001,1002,1003,1004,1005,1006,1007,1008,1009,1010,1011,1012,1013,1014,1015,1016,1017,1018,1019,1020,1021,1022,1023,1024,1025,1026,1027,1028,1029,1030,1031,1032,1033,1034,1035,1036,1037,1038,1039,1040,1041,1042,1043,1044,1045,1046,1047,1048,1049,1050,1051,1052,1053,1054,1055,1056,1057,1058,1059,1060,1061,1062,1063,1064,1065,1066,1067,1068,1069,1070,1071,1072,1073,1074,1075,1076,1077,1078,1079,1080,1081,1082,1083,1084,1085,1086,1087,1088,1089,1090,1091,1092,1093,1094,1095,1096,1097,1098,1099,1100,1101,1102,1103,1104,1105,1106,1107,1108,1109,1110,1111,1112,1113,1114,1115,1116,1117,1118,1119,1120,1121,1122,1123,1124,1125,1126,1127,1128,1129,1130,1131,1132,1133,1134,1135,1136,1137,1138,1139,1140,1141,1142,1143,1144,1145,1146,1147,1148,1149,1150,1151,1152,1153,1154,1155,1156,1157,1158,1159,1160,1161,1162,1163,1164,1165,1166,1167,1168,1169,1170,1171,1172,1173,1174,1175,1176,1177,1178,1179,1180,1181,1182,1183,1184,1185,1186,1187,1188,1189,1190,1191,1192,1193,1194,1195,1196,1197,1198,1199,1200,1201,1202,1203,1204,1205,1206,1207,1208,1209,1210,1211,1212,1213,1214,1215,1216,1217,1218,1219,1220,1221,1222,1223,1224,1225,1226,1227,1228,1229,1230,1231,1232,1233,1234,1235,1236,1237,1238,1239,1240,1241,1242,1243,1244,1245,1246,1247,1248,1249,1250,1251,1252,1253,1254,1255,1256,1257,1258,1259,1260,1261,1262,1263,1264,1265,1266,1267,1268,1269,1270,1271,1272,1273,1274,1275,1276,1277,1278,1279,1280,1281,1282,1283,1284,1285,1286,1287,1288,1289,1290,1291,1292,1293,1294,1295,1296,1297,1298,1299,1300,1301,1302,1303,1304,1305,1306,1307,1308,1309,1310,1311,1312,1313,1314,1315,1316,1317,1318,1319,1320,1321,1322,1323,1324,1325,1326,1327,1328,1329,1330,1331,1332,1333,1334,1335,1336,1337,1338,1339,1340,1341,1342,1343,1344,1345,1346,1347,1348,1349,1350,1351,1352]],[\"y\",[111.16945305917274,79.43954469731786,63.396465874908756,53.65059553747546,46.71687734261983,41.26049898582836,36.73540972105172,32.88980448546782,29.585831802070267,26.7332813013749,24.264695094638814,22.125602528260277,20.270335377957625,18.659952797501873,17.261006784567645,16.04467799804637,14.986102628277003,14.063817608819285,13.259291126755262,12.556520672414019,11.941687195744544,11.402856910395991,10.929723952933532,10.513388216992544,10.14616352445279,9.821411980206278,9.53340093265995,9.277179453520445,9.048471672723448,8.843584668320672,8.659328925158905,8.492949647260254,8.342067442863451,8.204627103186816,8.078853370492414,7.963212741734108,7.856380484211076,7.757212152028865,7.664718989215776,7.578046689145805,7.496457052287548,7.419312146791584,7.3460606303947635,7.276225938721615,7.209396085306141,7.145214853408801,7.083374189713164,7.023607635901394,6.965684656486244,6.909405740602227,6.854598172146464,6.801112377070584,6.7488187690694845,6.697605025658971,6.6473737359143605,6.5980403691556635,6.549531520785255,6.501783397459678,6.454740508937802,6.408354538403773,6.362583366911378,6.317390230919645,6.272742994759068,6.228613522345933,6.184977134602216,6.141812140886404,6.099099434336368,6.05682214240347,6.014965325047079,5.973515714086226,5.93246148809256,5.891792077975118,5.851497999069024,5.811570706111823,5.7720024679844935,5.732786259520425,5.693915668053516,5.655384812694429,5.617188274598369,5.579321036724727,5.541778431793629,5.504556097321029,5.467649936766673,5.4310560859609875,5.394770884090752,5.35879084862167,5.323112653620828,5.287733111015283,5.252649154386323,5.217857824953575,5.183356259450323,5.149141679632144,5.115211383196175,5.081562735918688,5.04819316484491,5.01510015238766,4.982281231210987,4.949733979791823,4.917456018567344,4.885445006588228,4.853698638609004,4.822214642555944,4.7909907773211975,4.76002483083878,4.729314618404122,4.6988579812041,4.668652785028974,4.638696919141601,4.608988295282543,4.579524846792765,4.55030452783796,4.521325312720817,4.492585195269363,4.4640821882911705,4.43581432308454,4.407779648999083,4.379976233039069,4.352402159503855,4.325055529660491,4.297934461444209,4.271037089183197,4.244361563344404,4.217906050297703,4.191668732096019,4.16564780626936,4.139841485631015,4.114247998094389,4.088865586499121,4.063692508445386,4.038727036135377,4.013967456221107,3.9894120696578104,3.965059191562288,3.9409071510756606,3.916954291230051,3.893198968818761,3.869639554269614,3.846274431521136,3.8231019979013143,3.800120664008682,3.7773288535955682,3.7547250034532764,3.732307563299108,3.7100749956650323,3.6880257757879438,3.666158391501361,3.6444713431285125,3.6229631433767078,3.601632317232949,3.5804774018607017,3.5594969464977924,3.538689512355372,3.518053672517917,3.497588011844224,3.4772911268693716,3.4571616257076143,3.4371981279561927,3.4173992646000304,3.3977636779173075,3.3782900213858618,3.358976959590451,3.3398231681308133,3.3208273335305427,3.3019881531467496,3.2833043350805036,3.2647745980880414,3.2463976714927383,3.2281722950978224,3.210097219099827,3.1921712040027774,3.174393020533098,3.156761449555234,3.1392752819879735,3.121933318721482,3.104734370535012,3.0876772580153133,3.0707608114757132,3.0539838708758724,3.037345285742204,3.020843915088958,3.004478627339952,2.9882483002509623,2.972151820832742,2.9561880852746896,2.940355998869141,2.9246544759362894,2.909082439749727,2.8936388224625995,2.8783225650343778,2.8631326171582203,2.848067937188948,2.8331274920716116,2.8183102572706416,2.803615216699593,2.7890413626514587,2.774587695729571,2.7602532247790594,2.7460369668188855,2.7319379469744325,2.717955198410652,2.70408776226576,2.690334687585488,2.676695031257867,2.663167857948551,2.649752240036683,2.636447257551274,2.623251998108127,2.610165556847259,2.5971870363708587,2.584315546681739,2.5715502051223185,2.5588901363140786,2.546334472097545,2.5338823514727475,2.5215329205401824,2.509285332442253,2.497138747305197,2.485092332181493,2.4731452609927413,2.4612967144730167,2.4495458801126846,2.4378919521026874,2.426334131279283,2.4148716250692437,2.4035036474355085,2.3922294188232733,2.3810481661065435,2.3699591225351075,2.3589615276819638,2.348054627391172,2.337237673726139,2.326509924918323,2.3158706453163775,2.305319105335693,2.29485458140838,2.2844763559336325,2.274183717228534,2.26397595947925,2.253852382692622,2.24381229264817,2.233855000850488,2.2239798244820266,2.2141860863562735,2.204473114871312,2.1948402439637675,2.1852868130631324,2.175812167046467,2.1664156561934775,2.1570966361419575,2.147854467843605,2.1386885175201975,2.1295981566201307,2.1205827617753177,2.1116417147584405,2.102774402440554,2.0939802167490456,2.085258554625931,2.0766088179865037,2.068030413678319,2.059522753440519,2.0510852538635005,2.0427173363488924,2.0344184270698924,2.0261879569319117,2.0180253615335495,2.0099300811278895,2.0019015605841153,1.9939392493494439,1.9860426014113706,1.9782110752602262,1.970444133852045,1.9627412445717327,1.9551018791965498,1.9475255138598815,1.9400116290153184,1.9325597094010276,1.9251692440044164,1.9178397260270958,1.9105706528501203,1.9033615259995253,1.896211851112142,1.8891211379016972,1.8820889001251953,1.8751146555495686,1.868197925918613,1.8613382369201894,1.8545351181537,1.8477881030978283,1.8410967290785485,1.8344605372373985,1.8278790725000125,1.8213518835449174,1.8148785227725788,1.808458546274713,1.8020915138038398,1.7957769887430954,1.7895145380762965,1.7833037323582372,1.7771441456852464,1.7710353556659792,1.7649769433924527,1.7589684934113197,1.7530095936953767,1.7470998356153125,1.741238813911684,1.7354261266671274,1.729661375278797,1.7239441644310292,1.7182741020682364,1.7126507993680202,1.7070738707145063,1.7015429336719068,1.69605760895829,1.6906175204195708,1.6852222950037201,1.6798715627351801,1.6745649566894933,1.6693021129681405,1.6640826706735898,1.6589062718845444,1.6537725616313999,1.6486811878719017,1.6436318014670068,1.6386240561569347,1.6336576085374324,1.6287321180362169,1.6238472468896263,1.6190026601194538,1.6141980255099804,1.609433013585191,1.6047072975861818,1.6000205534487506,1.5953724597811776,1.5907626978421834,1.5861909515190735,1.5816569073060596,1.5771602542827603,1.572700684092883,1.5682778909230755,1.5638915714819557,1.5595414249793131,1.555227153105486,1.5509484600108985,1.5467050522857777,1.5424966389400299,1.5383229313832911,1.534183643405131,1.5300784911554297,1.5260071931249135,1.5219694701258466,1.5179650452728897,1.5139936439641128,1.5100549938621595,1.5061488248755788,1.5022748691402974,1.4984328610012545,1.494622536994185,1.4908436358275488,1.487095898364616,1.4833790676056997,1.4796928886705218,1.4760371087807462,1.4724114772426409,1.468815745429882,1.4652496667665096,1.4617129967100182,1.4582054927345867,1.4547269143144452,1.4512770229073848,1.4478555819383958,1.444462356783449,1.4410971147534009,1.4377596250780456,1.4344496588902773,1.4311669892104097,1.4279113909306003,1.424682640799419,1.4214805174065377,1.418304801167545,1.4151552743088929,1.4120317208529585,1.4089339266032364,1.4058616791296477,1.402814767753975,1.3997929835354153,1.3967961192562477,1.393823969407631,1.390876330175503,1.387952999426611,1.3850537766946456,1.3821784631664953,1.379326861668615,1.3764987766535013,1.3736940141862855,1.3709123819314353,1.368153689139561,1.365417746634341,1.362704366799544,1.3600133635661662,1.3573445523996719,1.3546977502873356,1.3520727757256963,1.3494694487081074,1.3468875907123967,1.3443270246886214,1.3417875750469275,1.3392690676455075,1.3367713297786628,1.3342941901649563,1.331837478935468,1.3294010276221475,1.3269846691462603,1.3245882378069314,1.3222115692697807,1.3198545005556548,1.3175168700294513,1.3151985173890346,1.3128992836542421,1.3106190111559832,1.3083575435254273,1.3061147256832804,1.3038904038291503,1.3016844254310005,1.2994966392146916,1.2973268951536037,1.2951750444583514,1.2930409395665823,1.2909244341328532,1.2888253830185983,1.286743642282176,1.284679069168996,1.2826315221017326,1.2806008606706125,1.278586945623792,1.2765896388578009,1.2746088034080794,1.2726443034395776,1.2706960042374478,1.268763772197805,1.266847474818561,1.2649469806903422,1.263062159487477,1.2611928819590585,1.259339019920083,1.2575004462426558,1.2556770348472766,1.2538686606941938,1.2520751997748285,1.250296529103271,1.2485325267078486,1.2467830716227575,1.2450480438797724,1.2433273245000174,1.2416207954858056,1.2399283398125518,1.2382498414207423,1.23658518520798,1.23493425702109,1.2332969436482915,1.2316731328114345,1.2300627131582997,1.2284655742549644,1.2268816065782273,1.2253107015080995,1.2237527513203554,1.2222076491791454,1.2206752891296697,1.2191555660909144,1.2176483758484402,1.2161536150472443,1.2146711811846642,1.213200972603354,1.2117428884843127,1.2102968288399685,1.2088626945073246,1.2074403871411563,1.2060298092072708,1.2046308639758152,1.2032434555146452,1.2018674886827467,1.2005028691237096,1.1991495032592605,1.1978072982828425,1.196476162153255,1.1951560035883346,1.1938467320587058,1.1925482577815627,1.19126049171452,1.189983345549503,1.1887167317066927,1.1874605633285198,1.1862147542737098,1.1849792191113737,1.1837538731151518,1.1825386322574014,1.1813334132034383,1.1801381333058165,1.1789527105986675,1.177777063792072,1.1766111122664922,1.1754547760672411,1.174307975898996,1.1731706331203662,1.1720426697384978,1.1709240084037251,1.1698145724042672,1.1687142856609667,1.1676230727220722,1.1665408587580661,1.1654675695565335,1.1644031315170684,1.1633474716462324,1.1623005175525465,1.1612621974415263,1.16023244011076,1.1592111749450245,1.1581983319114442,1.157193841554689,1.1561976349922094,1.1552096439095136,1.1542298005554852,1.1532580377377328,1.1522942888179861,1.151338487707525,1.1503905688626461,1.149450467280172,1.1485181184929878,1.1475934585656258,1.1466764240898788,1.1457669521804519,1.14486498047065,1.143970447108101,1.1430832907505173,1.1422034505614818,1.141330866206285,1.1404654778477836,1.1396072261422936,1.138756052235527,1.137911897758553,1.1370747048237948,1.136244416021061,1.1354209744136088,1.1346043235342393,1.1337944073814241,1.1329911704154674,1.1321945575546961,1.1314045141716815,1.1306209860894947,1.1298439195779935,1.1290732613501313,1.128308958558311,1.1275509587907542,1.126799210067912,1.1260536608388976,1.1253142599779529,1.1245809567809404,1.1238537009618699,1.1231324426494451,1.122417132383649,1.1217077211123478,1.1210041601879306,1.1203064013639703,1.1196143967919172,1.1189280990178188,1.1182474609790611,1.1175724360011474,1.116902977794492,1.1162390404512508,1.1155805784421688,1.1149275466134618,1.114279900183716,1.113637594740821,1.1130005862389223,1.1123688309954012,1.1117422856878783,1.111120907351244,1.1105046533747138,1.1098934814989008,1.1092873498129234,1.1086862167515288,1.1080900410922434,1.1074987819525437,1.1069123987870577,1.1063308513847796,1.1057540998663133,1.1051821046811412,1.1046148266049078,1.1040522267367312,1.1034942664965373,1.1029409076224124,1.1023921121679783,1.101847842499793,1.1013080612947694,1.1007727315376121,1.100241816518285,1.0997152798294898,1.099193085364171,1.098675197313038,1.098161580162113,1.0976521986902927,1.0971470179669327,1.0966460033494556,1.0961491204809726,1.0956563352879252,1.0951676139777555,1.094682923036583,1.0942022292269076,1.0937254995853316,1.0932527014203002,1.0927838023098553,1.0923187700994168,1.091857572899575,1.091400179083905,1.0909465572867987,1.09049667640131,1.0900505055770273,1.089608014217953,1.0891691719804086,1.0887339487709515,1.0883023147443152,1.0878742403013566,1.0874496960870323,1.087028652988382,1.0866110821325332,1.0861969548847206,1.0857862428463243,1.0853789178529205,1.0849749519723502,1.0845743175028042,1.0841769869709252,1.0837829331299202,1.0833921289576969,1.0830045476550032,1.0826201626435976,1.0822389475644227,1.0818608762757977,1.0814859228516256,1.081114061579615,1.0807452669595206,1.0803795137013876,1.0800167767238253,1.0796570311522815,1.079300252317338,1.0789464157530197,1.0785954971951175,1.078247472579524,1.07790231804058,1.0775600099094436,1.0772205247124622,1.0768838391695674,1.0765499301926738,1.0762187748840975,1.0758903505349886,1.0755646346237706,1.0752416048145967,1.0749212389558194,1.07460351507847,1.074288411394753,1.073975906296551,1.073665978353945,1.0733586063137417,1.0730537690980195,1.07275144580268,1.0724516156960178,1.0721542582172947,1.071859352975334,1.071566879747119,1.0712768184764079,1.0709891492723584,1.0707038524081618,1.0704209083196934,1.0701402976041683,1.0698620010188122,1.069585999479541,1.069312274059653,1.06904080598853,1.0687715766503507,1.0685045675828149,1.0682397604758753,1.0679771371704843,1.0677166796573474,1.0674583700756883,1.067202190712024,1.0669481239989511,1.0666961525139407,1.066446258978141,1.0661984262551987,1.0659526373500763,1.0657088754078923,1.0654671237127635,1.0652273656866575,1.064989584888258,1.0647537650118366,1.0645198898861319,1.0642879434732466,1.0640579098675413,1.063829773294549,1.0636035181098893,1.0633791287981977,1.0631565899720612,1.0629358863709635,1.0627170028602386,1.0624999244300315,1.0622846361942697,1.0620711233896436,1.0618593713745932,1.0616493656283028,1.0614410917497072,1.0612345354565045,1.0610296825841738,1.0608265190850048,1.060625031027139,1.060425204593607,1.0602270260813873,1.0600304819004611,1.059835558572887,1.059642242731869,1.059450521120847,1.059260380592583,1.0590718081082628,1.0588847907365972,1.0586993156529414,1.0585153701384107,1.0583329415790108,1.0581520174647707,1.0579725853888888,1.0577946330468762,1.057618148235719,1.0574431188530375,1.0572695328962567,1.0570973784617848,1.0569266437441962,1.0567573170354227,1.0565893867239473,1.0564228412940129,1.056257669324829,1.0560938594897895,1.0559314005556966,1.05577028138199,1.0556104909199826,1.0554520182121034,1.0552948523911463,1.0551389826795232,1.0549843983885279,1.0548310889176014,1.0546790437536022,1.054528252470092,1.0543787047266147,1.0542303902679895,1.0540832989236089,1.053937420606738,1.053792745313826,1.0536492631238206,1.0535069641974835,1.053365838776718,1.0532258771839031,1.053087069821224,1.0529494071700192,1.0528128797901228,1.0526774783192212,1.0525431934722098,1.052410016040555,1.0522779368916653,1.0521469469682612,1.0520170372877593,1.051888198941651,1.0517604230948967,1.0516337009853134,1.051508023922982,1.051383383289643,1.0512597705381135,1.0511371771916946,1.0510155948435942,1.0508950151563474,1.0507754298612495,1.0506568307577808,1.0505392097130546,1.0504225586612506,1.050306869603068,1.0501921346051717,1.050078345799653,1.0499654953834867,1.0498535756179985,1.0497425788283326,1.0496324974029254,1.0495233237929844,1.04941505051197,1.0493076701350832,1.0492011752987545,1.0490955587001416,1.0489908130966243,1.048886931305313,1.0487839062025521,1.0486817307234346,1.0485803978613157,1.0484799006673313,1.0483802322499254,1.0482813857743725,1.0481833544623127,1.0480861315912866,1.0479897104942708,1.0478940845592262,1.0477992472286393,1.0477051919990759,1.0476119124207344,1.0475194020970022,1.0474276546840187,1.0473366638902397,1.047246423476005,1.047156927253112,1.047068169084393,1.0469801428832872,1.0468928426134319,1.046806262288244,1.0467203959705103,1.0466352377719799,1.046550781852961,1.0464670224219212,1.0463839537350896,1.0463015700960605,1.0462198658554085,1.0461388354102947,1.0460584732040874,1.0459787737259785,1.0458997315106053,1.0458213411376784,1.0457435972316076,1.0456664944611334,1.0455900275389616,1.0455141912214023,1.0454389803080082,1.0453643896412201,1.04529041410601,1.0452170486295331,1.0451442881807804,1.0450721277702306,1.0450005624495122,1.044929587311058,1.0448591974877754,1.0447893881527095,1.0447201545187104,1.0446514918381073,1.0445833954023833,1.0445158605418519,1.0444488826253329,1.0443824570598426,1.0443165792902724,1.044251244799079,1.0441864491059738,1.0441221877676172,1.044058456377311,1.0439952505646999,1.0439325659954686,1.0438703983710471,1.0438087434283128,1.0437475969393017,1.043686954710916,1.043626812584638,1.0435671664362431,1.04350801217552,1.043449345745988,1.0433911631246169,1.043333460321557,1.0432762333798584,1.0432194783752073,1.0431631914156485,1.0431073686413261,1.0430520062242141,1.042997100367855,1.0429426473071013,1.0428886433078537,1.0428350846668089,1.042781967711203,1.0427292887985604,1.042677044316445,1.0426252306822106,1.0425738443427572,1.0425228817742853,1.0424723394820563,1.0424222140001513,1.042372501891234,1.0423231997463152,1.0422743041845195,1.042225811852851,1.042177719425967,1.0421300236059468,1.0420827211220691,1.0420358087305812,1.0419892832144855,1.0419431413833113,1.0418973800729001,1.041851996145187,1.0418069864879873,1.0417623480147788,1.0417180776644963,1.0416741724013163,1.041630629214452,1.0415874451179465,1.041544617150466,1.0415021423750992,1.0414600178791533,1.0414182407739574,1.0413768081946617,1.0413357173000442,1.0412949652723105,1.0412545493169059,1.0412144666623224,1.0411747145599057,1.0411352902836715,1.0410961911301138,1.0410574144180236,1.0410189574883024,1.0409808177037798,1.0409429924490348,1.0409054791302155,1.0408682751748592,1.040831378031719,1.0407947851705874,1.0407584940821224,1.0407225022776765,1.0406868072891244,1.040651406668697,1.0406162979888087,1.0405814788418963,1.0405469468402477,1.0405126996158458,1.0404787348201998,1.0404450501241862,1.0404116432178896,1.0403785118104443,1.0403456536298754,1.0403130664229472,1.0402807479550025,1.040248696009816,1.0402169083894361,1.0401853829140404,1.0401541174217792,1.0401231097686352,1.0400923578282686,1.0400618594918773,1.0400316126680496,1.0400016152826204,1.0399718652785304,1.0399423606156841,1.039913099270811,1.0398840792373243,1.039855298525187,1.039826755160772,1.039798447186729,1.0397703726618492,1.0397425296609328,1.0397149162746564,1.0396875306094422,1.039660370787329,1.0396334349458416,1.0396067212378648,1.039580227831517,1.0395539529100206,1.039527894671586,1.0395020513292768,1.0394764211108962,1.0394510022588614,1.0394257930300843,1.039400791695852,1.0393759965417064,1.0393514058673303,1.0393270179864265,1.0393028312266053,1.0392788439292697,1.0392550544494985,1.039231461155937,1.0392080624306852,1.039184856669184,1.0391618422801054,1.0391390176852484,1.039116381319424,1.039093931630352,1.0390716670785534,1.0390495861372446,1.0390276872922342,1.039005969041816,1.0389844298966706,1.0389630683797573,1.03894188302622,1.0389208723832792,1.0389000350101398,1.0388793694778857,1.0388588743693854,1.038838548279195,1.0388183898134613,1.038798397589824,1.0387785702373245,1.0387589063963087,1.0387394047183371,1.0387200638660885,1.038700882513272,1.0386818593445335,1.0386629930553655,1.0386442823520197,1.0386257259514173,1.0386073225810593,1.0385890709789416,1.0385709698934682,1.0385530180833633,1.0385352143175879,1.0385175573752563,1.0385000460455498,1.0384826791276347,1.0384654554305832,1.0384483737732848,1.0384314329843727,1.038414631902138,1.0383979693744523,1.0383814442586892,1.0383650554216461,1.0383488017394635,1.0383326820975518,1.0383166953905127,1.0383008405220635,1.0382851164049625,1.0382695219609346,1.0382540561205962,1.0382387178233834,1.038223506017478,1.0382084196597365,1.0381934577156176,1.0381786191591107,1.0381639029726681,1.0381493081471327,1.0381348336816703,1.0381204785836993,1.0381062418688238,1.0380921225607678,1.0380781196913036,1.03806423230019,1.0380504594351059,1.0380368001515805,1.038023253512934,1.0380098185902105,1.037996494462116,1.0379832802149527,1.0379701749425587,1.0379571777462455,1.0379442877347336,1.0379315040240973,1.0379188257376977,1.0379062520061257,1.0378937819671425,1.0378814147656203,1.0378691495534824,1.0378569854896467,1.0378449217399668,1.0378329574771759,1.0378210918808286,1.0378093241372472,1.0377976534394622,1.0377860789871602,1.0377745999866277,1.037763215650696,1.0377519251986889,1.0377407278563675,1.0377296228558786,1.0377186094357012,1.0377076868405941,1.037696854321543,1.037686111135714,1.0376754565463964,1.0376648898229561,1.0376544102407832,1.0376440170812442,1.037633709631633,1.0376234871851193,1.0376133490407033,1.0376032945031652,1.0375933228830185,1.0375834334964644,1.0375736256653403,1.0375638987170785,1.0375542519846581,1.0375446848065568,1.0375351965267101,1.0375257864944607,1.0375164540645216,1.0375071985969233,1.0374980194569763,1.0374889160152247,1.0374798876474016,1.0374709337343928,1.0374620536621852,1.0374532468218327,1.0374445126094076,1.0374358504259662,1.0374272596775014,1.0374187397749066,1.0374102901339326,1.0374019101751473,1.0373935993239,1.0373853570102762,1.0373771826690623,1.0373690757397063,1.037361035666278,1.0373530618974325,1.0373451538863727,1.0373373110908082,1.0373295329729229,1.037321818999335,1.0373141686410619,1.0373065813734832,1.037299056676305,1.0372915940335241,1.037284192933392,1.037276852868381,1.03726957333515,1.037262353834506,1.0372551938713768,1.0372480929547678,1.0372410505977385,1.0372340663173616,1.0372271396346908,1.0372202700747342,1.0372134571664124,1.0372067004425332,1.0371999994397572,1.0371933536985656,1.037186762763229,1.0371802261817766,1.0371737435059643,1.0371673142912454,1.0371609380967393,1.0371546144852,1.0371483430229889,1.0371421232800428,1.0371359548298444,1.0371298372493956,1.0371237701191847,1.0371177530231617,1.0371117855487053,1.037105867286599,1.0370999978309994,1.0370941767794115,1.037088403732658,1.0370826782948552,1.0370770000733835,1.0370713686788604,1.0370657837251156,1.0370602448291626,1.037054751611173,1.0370493036944535,1.0370439007054135,1.0370385422735455,1.0370332280313972,1.037027957614547,1.0370227306615762,1.0370175468140508,1.0370124057164887,1.0370073070163413,1.0370022503639678,1.0369972354126102,1.03699226181837,1.0369873292401837,1.0369824373398027,1.0369775857817665,1.0369727742333816,1.0369680023646977,1.036963269848486,1.0369585763602152,1.0369539215780315,1.0369493051827345,1.0369447268577583,1.0369401862891439,1.0369356831655245,1.0369312171781004,1.0369267880206166,1.036922395389348,1.0369180389830692,1.0369137185030426,1.036909433652992,1.0369051841390862,1.0369009696699156,1.0368967899564754,1.0368926447121425,1.0368885336526588,1.0368844564961097,1.0368804129629066,1.0368764027757638,1.0368724256596864,1.036868481341944,1.0368645695520562,1.0368606900217738,1.0368568424850602,1.0368530266780713,1.03684924233914,1.0368454892087555,1.03684176702955,1.036838075546275,1.0368344145057893,1.0368307836570378,1.0368271827510376,1.0368236115408562,1.0368200697816008,1.0368165572303956,1.036813073646369,1.0368096187906357,1.03680619242628,1.0368027943183398,1.0367994242337921,1.0367960819415347,1.0367927672123698,1.0367894798189925,1.0367862195359703,1.0367829861397304,1.0367797794085443,1.0367765991225115,1.0367734450635455,1.036770317015357,1.036767214763442,1.0367641380950645,1.0367610867992423,1.0367580606667355,1.036755059490027,1.0367520830633126,1.0367491311824855,1.0367462036451205,1.0367433002504638,1.036740420799415,1.0367375650945185,1.0367347329399446,1.036731924141479,1.0367291385065096,1.0367263758440122,1.0367236359645393,1.0367209186802036,1.0367182238046693,1.0367155511531352,1.036712900542327,1.0367102717904777,1.0367076647173232,1.036705079144084,1.036702514893456,1.0366999717895964,1.036697449658111,1.0366949483260486,1.0366924676218792,1.0366900073754903,1.036687567418171,1.0366851475826029,1.0366827477028453,1.0366803676143281,1.0366780071538382,1.0366756661595071,1.0366733444708032,1.0366710419285157,1.0366687583747498,1.0366664936529113,1.0366642476076982,1.0366620200850882,1.0366598109323304,1.0366576199979325,1.0366554471316514,1.0366532921844855,1.036651155008658,1.036649035457614,1.0366469333860064,1.0366448486496858,1.0366427811056922,1.0366407306122443,1.0366386970287313,1.0366366802157,1.036634680034849,1.0366326963490151,1.03663072902217,1.0366287779194032,1.0366268429069192,1.0366249238520253,1.0366230206231233,1.0366211330896997,1.0366192611223173,1.0366174045926073,1.0366155633732577,1.0366137373380089,1.0366119263616411,1.0366101303199666,1.0366083490898224,1.0366065825490618,1.0366048305765454,1.036603093052131,1.0366013698566698,1.0365996608719936,1.036597965980909,1.0365962850671913,1.036594618015571,1.0365929647117305,1.0365913250422956,1.0365896988948267,1.036588086157811,1.0365864867206562,1.0365849004736805,1.0365833273081086,1.036581767116061,1.036580219790548,1.0365786852254624,1.0365771633155718,1.036575653956512,1.036574157044779,1.0365726724777233,1.0365712001535403,1.0365697399712668,1.0365682918307706,1.0365668556327465,1.036565431278708,1.0365640186709797,1.0365626177126939,1.036561228307779,1.0365598503609577,1.036558483777737,1.036557128464406,1.0365557843280229,1.0365544512764144,1.0365531292181671,1.036551818062621,1.0365505177198648,1.0365492281007282,1.0365479491167746,1.0365466806802988,1.0365454227043187,1.0365441751025692,1.0365429377894957,1.0365417106802506,1.0365404936906848,1.0365392867373442,1.0365380897374623,1.0365369026089544,1.0365357252704155,1.0365345576411085,1.0365333996409634,1.036532251190573,1.0365311122111807,1.0365299826246814,1.0365288623536144,1.036527751321158,1.0365266494511236,1.0365255566679508,1.0365244728967018,1.036523398063058,1.036522332093313,1.0365212749143684,1.0365202264537272,1.0365191866394945,1.036518155400363,1.0365171326656166,1.036516118365122,1.0365151124293228,1.0365141147892387]]]}}},\"view\":{\"type\":\"object\",\"name\":\"CDSView\",\"id\":\"p12144\",\"attributes\":{\"filter\":{\"type\":\"object\",\"name\":\"AllIndices\",\"id\":\"p12145\"}}},\"glyph\":{\"type\":\"object\",\"name\":\"Line\",\"id\":\"p12140\",\"attributes\":{\"x\":{\"type\":\"field\",\"field\":\"x\"},\"y\":{\"type\":\"field\",\"field\":\"y\"},\"line_color\":\"#1f77b4\"}},\"nonselection_glyph\":{\"type\":\"object\",\"name\":\"Line\",\"id\":\"p12141\",\"attributes\":{\"x\":{\"type\":\"field\",\"field\":\"x\"},\"y\":{\"type\":\"field\",\"field\":\"y\"},\"line_color\":\"#1f77b4\",\"line_alpha\":0.1}},\"muted_glyph\":{\"type\":\"object\",\"name\":\"Line\",\"id\":\"p12142\",\"attributes\":{\"x\":{\"type\":\"field\",\"field\":\"x\"},\"y\":{\"type\":\"field\",\"field\":\"y\"},\"line_color\":\"#1f77b4\",\"line_alpha\":0.2}}}}],\"toolbar\":{\"type\":\"object\",\"name\":\"Toolbar\",\"id\":\"p12096\",\"attributes\":{\"tools\":[{\"type\":\"object\",\"name\":\"PanTool\",\"id\":\"p12122\"},{\"type\":\"object\",\"name\":\"WheelZoomTool\",\"id\":\"p12123\"},{\"type\":\"object\",\"name\":\"BoxZoomTool\",\"id\":\"p12124\",\"attributes\":{\"overlay\":{\"type\":\"object\",\"name\":\"BoxAnnotation\",\"id\":\"p12125\",\"attributes\":{\"syncable\":false,\"level\":\"overlay\",\"visible\":false,\"left_units\":\"canvas\",\"right_units\":\"canvas\",\"bottom_units\":\"canvas\",\"top_units\":\"canvas\",\"line_color\":\"black\",\"line_alpha\":1.0,\"line_width\":2,\"line_dash\":[4,4],\"fill_color\":\"lightgrey\",\"fill_alpha\":0.5}}}},{\"type\":\"object\",\"name\":\"SaveTool\",\"id\":\"p12126\"},{\"type\":\"object\",\"name\":\"ResetTool\",\"id\":\"p12127\"},{\"type\":\"object\",\"name\":\"HelpTool\",\"id\":\"p12128\"}]}},\"left\":[{\"type\":\"object\",\"name\":\"LinearAxis\",\"id\":\"p12115\",\"attributes\":{\"ticker\":{\"type\":\"object\",\"name\":\"BasicTicker\",\"id\":\"p12116\",\"attributes\":{\"mantissas\":[1,2,5]}},\"formatter\":{\"type\":\"object\",\"name\":\"BasicTickFormatter\",\"id\":\"p12117\"},\"axis_label\":\"Loss\",\"major_label_policy\":{\"type\":\"object\",\"name\":\"AllLabels\",\"id\":\"p12118\"}}}],\"below\":[{\"type\":\"object\",\"name\":\"LinearAxis\",\"id\":\"p12108\",\"attributes\":{\"ticker\":{\"type\":\"object\",\"name\":\"BasicTicker\",\"id\":\"p12109\",\"attributes\":{\"mantissas\":[1,2,5]}},\"formatter\":{\"type\":\"object\",\"name\":\"BasicTickFormatter\",\"id\":\"p12110\"},\"axis_label\":\"Epoch\",\"major_label_policy\":{\"type\":\"object\",\"name\":\"AllLabels\",\"id\":\"p12111\"}}}],\"center\":[{\"type\":\"object\",\"name\":\"Grid\",\"id\":\"p12114\",\"attributes\":{\"axis\":{\"id\":\"p12108\"}}},{\"type\":\"object\",\"name\":\"Grid\",\"id\":\"p12121\",\"attributes\":{\"dimension\":1,\"axis\":{\"id\":\"p12115\"}}},{\"type\":\"object\",\"name\":\"Label\",\"id\":\"p12089\",\"attributes\":{\"text\":\" Final Weights\\n w0=1.79\\n w1=-3.48\\n b=6.04\",\"x\":400,\"x_units\":\"screen\",\"y\":440,\"y_units\":\"screen\"}}]}}],\"callbacks\":{\"type\":\"map\"}}};\n  const render_items = [{\"docid\":\"073c5c13-93f3-4af9-8917-a5c8abef8ca9\",\"roots\":{\"p12090\":\"0c46d7ad-f65a-45d4-9ffb-adec84f1b29d\"},\"root_ids\":[\"p12090\"]}];\n  root.Bokeh.embed.embed_items_notebook(docs_json, render_items);\n  }\n  if (root.Bokeh !== undefined) {\n    embed_document(root);\n  } else {\n    let attempts = 0;\n    const timer = setInterval(function(root) {\n      if (root.Bokeh !== undefined) {\n        clearInterval(timer);\n        embed_document(root);\n      } else {\n        attempts++;\n        if (attempts > 100) {\n          clearInterval(timer);\n          console.log(\"Bokeh: ERROR: Unable to run BokehJS code because BokehJS library is missing\");\n        }\n      }\n    }, 10, root)\n  }\n})(window);",
      "application/vnd.bokehjs_exec.v0+json": ""
     },
     "metadata": {
      "application/vnd.bokehjs_exec.v0+json": {
       "id": "p12090"
      }
     },
     "output_type": "display_data"
    }
   ],
   "source": [
    "model=OLS()\n",
    "show(plot_loss(model, Xt, Yt,learning_rate=.01,threshold=1e-6))"
   ]
  },
  {
   "cell_type": "code",
   "execution_count": null,
   "id": "c24b2c3d",
   "metadata": {},
   "outputs": [],
   "source": []
  }
 ],
 "metadata": {
  "kernelspec": {
   "display_name": "pytorch",
   "language": "python",
   "name": "pytorch"
  },
  "language_info": {
   "codemirror_mode": {
    "name": "ipython",
    "version": 3
   },
   "file_extension": ".py",
   "mimetype": "text/x-python",
   "name": "python",
   "nbconvert_exporter": "python",
   "pygments_lexer": "ipython3",
   "version": "3.10.10"
  }
 },
 "nbformat": 4,
 "nbformat_minor": 5
}
