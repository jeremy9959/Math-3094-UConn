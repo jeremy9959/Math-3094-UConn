{
 "cells": [
  {
   "cell_type": "markdown",
   "id": "c1a91744",
   "metadata": {},
   "source": [
    "## Neural Network approach to simple least squares regression"
   ]
  },
  {
   "cell_type": "code",
   "execution_count": null,
   "id": "a7876b58-22ae-4eb2-b01d-0518c5919610",
   "metadata": {},
   "outputs": [],
   "source": [
    "import torch\n",
    "import bokeh\n",
    "from bokeh.plotting import figure, output_notebook, show\n",
    "from bokeh.models import Label\n",
    "import numpy as np\n",
    "import tqdm\n",
    "print(f\"Using Torch version {torch.__version__}.  CUDA is {'available' if torch.cuda.is_available() else 'not available'}.\")\n",
    "print(f\"Using bokeh version {bokeh.__version__}.\")\n",
    "output_notebook()"
   ]
  },
  {
   "cell_type": "markdown",
   "id": "3aa71ef6",
   "metadata": {},
   "source": [
    "We will use the simulated multivariate regression data for this demonstration"
   ]
  },
  {
   "cell_type": "code",
   "execution_count": null,
   "id": "b158e61b",
   "metadata": {},
   "outputs": [],
   "source": [
    "data = np.genfromtxt(\"data.csv\",delimiter=\",\",skip_header=1)\n",
    "Y = data[:,1].reshape(-1,1)\n",
    "X = data[:,2:]\n"
   ]
  },
  {
   "cell_type": "markdown",
   "id": "c7bb0477",
   "metadata": {},
   "source": [
    "The OLS class definition has a single linear layer with no activation function.  The forward method is the same as the linear regression model."
   ]
  },
  {
   "cell_type": "code",
   "execution_count": null,
   "id": "6d2b4a41",
   "metadata": {},
   "outputs": [],
   "source": [
    "class OLS(torch.nn.Module):\n",
    "    \"\"\"A simple 2x1 ordinary least squares model.\"\"\"\n",
    "    def __init__(self):\n",
    "        super().__init__()\n",
    "        self.linear=torch.nn.Linear(2,1,dtype=torch.float64)\n",
    "    \n",
    "    def forward(self,x):\n",
    "        return self.linear(x)\n",
    "    \n",
    "    \n",
    "model = OLS()\n",
    "print(model)\n",
    "for name,param in model.named_parameters():\n",
    "    print(f\"Layer: {name} | Size: {param.size()} | Values : {param[:2]} \\n\")"
   ]
  },
  {
   "cell_type": "code",
   "execution_count": null,
   "id": "a02b13c4",
   "metadata": {},
   "outputs": [],
   "source": [
    "Xt = torch.from_numpy(X)\n",
    "Yt = torch.from_numpy(Y)\n",
    "loss_fun = torch.nn.functional.mse_loss\n",
    "optimizer = torch.optim.SGD(model.parameters(),lr=.01)\n"
   ]
  },
  {
   "cell_type": "markdown",
   "id": "f6324b9a",
   "metadata": {},
   "source": [
    "Here we just check that the loss function computed by the mse function is the same as the one computed by hand."
   ]
  },
  {
   "cell_type": "code",
   "execution_count": null,
   "id": "6add242a",
   "metadata": {},
   "outputs": [],
   "source": [
    "# loss computed by loss_func\n",
    "loss = loss_fun(model(Xt),Yt)\n",
    "\n",
    "# loss computed by hand\n",
    "weights = list(model.parameters())\n",
    "w = weights[0].detach()\n",
    "b = weights[1].detach()\n",
    "handloss = 1/Xt.shape[0]*(((Xt @ w.T + b) - Yt)**2).sum().item()\n",
    "\n",
    "print(f\"From function: {loss.item():.4f} | By hand: {handloss:.4f}\")\n"
   ]
  },
  {
   "cell_type": "markdown",
   "id": "c960ac20",
   "metadata": {},
   "source": [
    "The \"training loop\" is one step through the data in the stochastic gradient descent"
   ]
  },
  {
   "cell_type": "code",
   "execution_count": null,
   "id": "629feb65",
   "metadata": {},
   "outputs": [],
   "source": [
    "def train(model, loss_fun, optimizer, Xt, Yt, debug=False):\n",
    "    \"\"\"One step through the training loop\"\"\"\n",
    "    \n",
    "    # forward pass\n",
    "    predicted = model(Xt)\n",
    "    \n",
    "    # compute the loss\n",
    "    loss = loss_fun(predicted, Yt)\n",
    "    \n",
    "    # reset the gradient calculations\n",
    "    optimizer.zero_grad()\n",
    "\n",
    "    # compute the gradients by backward propogation\n",
    "    loss.backward()\n",
    "\n",
    "    # Show that the gradients are what they should be\n",
    "    if debug:\n",
    "        print(f\"Loss: {loss.item():.4f}\")\n",
    "        print(f\"w gradients are: {model.linear.weight.grad[:2]}\")\n",
    "        print(f\"b gradients are: {model.linear.bias.grad}\")\n",
    "        print(f\"By hand: {2/Xt.shape[0]*((predicted - Yt).T @ Xt)}\")\n",
    "        print(f\"By hand: {2/Xt.shape[0]*((predicted - Yt).sum())}\")\n",
    "        \n",
    "    # adjust the weights\n",
    "    optimizer.step()\n",
    "    \n",
    "    return loss.item()\n",
    "\n",
    "    \n"
   ]
  },
  {
   "cell_type": "markdown",
   "id": "70397de0",
   "metadata": {},
   "source": [
    "This utility function returns a plot of loss over time.  You can set a learning rate and a threshold for ending the training loop."
   ]
  },
  {
   "cell_type": "code",
   "execution_count": null,
   "id": "ebd5fd05",
   "metadata": {},
   "outputs": [],
   "source": [
    "def plot_loss(model, data, target, learning_rate=.01, threshold=1e-6, max_iter=100000):\n",
    "    \"\"\"Run the model and collect the losses; return a figure\"\"\"\n",
    "    \n",
    "    \n",
    "    loss_fun = torch.nn.functional.mse_loss\n",
    "    optimizer = torch.optim.SGD(model.parameters(),lr=learning_rate)\n",
    "\n",
    "    losses = []\n",
    "    prior_loss=1000000\n",
    "    for i in tqdm.tqdm(range(max_iter)):\n",
    "        loss = train(model,loss_fun,optimizer,Xt,Yt,debug=False)\n",
    "        losses.append(loss)\n",
    "        if abs(loss-prior_loss) < threshold:\n",
    "            break\n",
    "        prior_loss = loss\n",
    "\n",
    "    w = model.linear.weight.detach().numpy()\n",
    "    b = model.linear.bias.detach().numpy()\n",
    "\n",
    "    label = Label(text=f\" Final Weights\\n w0={w[0,0]:.2f}\\n w1={w[0,1]:.2f}\\n b={b[0]:.2f}\",x=400,y=440,x_units='screen',y_units='screen')\n",
    "    \n",
    "    f=figure(title=f\"Loss over time: lr={learning_rate} threshold={threshold}\",x_axis_label=\"Epoch\",y_axis_label=\"Loss\")\n",
    "    f.add_layout(label)\n",
    "    f.line(x=list(range(len(losses))),y=losses)\n",
    "    \n",
    "    return f\n"
   ]
  },
  {
   "cell_type": "code",
   "execution_count": null,
   "id": "6c58b7b4",
   "metadata": {},
   "outputs": [],
   "source": [
    "model=OLS()\n",
    "show(plot_loss(model, Xt, Yt,learning_rate=.01,threshold=1e-6))"
   ]
  },
  {
   "cell_type": "markdown",
   "id": "886b68e8-0d12-4072-9492-c45e4bc396fe",
   "metadata": {},
   "source": [
    "## Comparing gradients\n",
    "\n",
    "A look at the model gradients and the loss to compare with what we get \"by hand\""
   ]
  },
  {
   "cell_type": "code",
   "execution_count": null,
   "id": "c24b2c3d",
   "metadata": {},
   "outputs": [],
   "source": [
    "model = OLS()\n",
    "predicted = model(Xt)\n",
    "loss = torch.nn.functional.mse_loss(predicted,Yt)"
   ]
  },
  {
   "cell_type": "code",
   "execution_count": null,
   "id": "009781b3-8244-4158-928a-f81bba7295fc",
   "metadata": {},
   "outputs": [],
   "source": [
    "loss.backward()"
   ]
  },
  {
   "cell_type": "code",
   "execution_count": null,
   "id": "61b339c7-04a3-42bf-94a3-a0c2804c074e",
   "metadata": {},
   "outputs": [],
   "source": [
    "w = list(model.parameters())[0]\n",
    "b = list(model.parameters())[1]\n",
    "g1 = 2/Xt.shape[0]*(predicted-Yt).T @ Xt\n",
    "g2 = 2*(predicted-Yt).mean()\n",
    "lossx = 1/Xt.shape[0]*((predicted-Yt)**2).sum()\n",
    "print(g1,g2)"
   ]
  },
  {
   "cell_type": "code",
   "execution_count": null,
   "id": "fd56e407-b5ba-4138-aca6-0a6e397d15c1",
   "metadata": {},
   "outputs": [],
   "source": [
    "print(w.grad,b.grad)"
   ]
  },
  {
   "cell_type": "code",
   "execution_count": null,
   "id": "1aa99de9-893e-470d-9ea1-f4c4449a0660",
   "metadata": {},
   "outputs": [],
   "source": [
    "print(loss, lossx)"
   ]
  },
  {
   "cell_type": "code",
   "execution_count": null,
   "id": "1fb81dfa-303f-43ea-b4f3-f83c72cf0fb2",
   "metadata": {},
   "outputs": [],
   "source": []
  }
 ],
 "metadata": {
  "kernelspec": {
   "display_name": "pytorch",
   "language": "python",
   "name": "pytorch"
  },
  "language_info": {
   "codemirror_mode": {
    "name": "ipython",
    "version": 3
   },
   "file_extension": ".py",
   "mimetype": "text/x-python",
   "name": "python",
   "nbconvert_exporter": "python",
   "pygments_lexer": "ipython3",
   "version": "3.10.10"
  }
 },
 "nbformat": 4,
 "nbformat_minor": 5
}
