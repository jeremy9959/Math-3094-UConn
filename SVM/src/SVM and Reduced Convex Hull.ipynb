{
 "cells": [
  {
   "cell_type": "code",
   "execution_count": 111,
   "id": "dominant-amino",
   "metadata": {},
   "outputs": [],
   "source": [
    "import numpy as np\n",
    "from collections import namedtuple\n",
    "from bokeh.plotting import figure\n",
    "from bokeh.models import ColumnDataSource, TapTool\n",
    "from bokeh.models.callbacks import CustomJS\n",
    "\n",
    "Vertex = namedtuple(\"Vertex\", \"vertex support\")\n",
    "\n",
    "callback_code = \"\"\"\n",
    "    var selected = data.selected.indices[0];\n",
    "    var support = info[selected][1] ;\n",
    "    var special = info[selected][1][info[selected][1].length-1] ;\n",
    "    for(let i=0; i<pts.data['color'].length;i++){\n",
    "        pts.data['color'][i]=support.includes(i)?'green':'blue';\n",
    "        pts.data['size'][i]=support.includes(i)?10:4 ;\n",
    "    }\n",
    "    pts.data['color'][special]='#33ee00' ;\n",
    "    pts.change.emit() ;\n",
    "\"\"\"\n",
    "\n",
    "\n",
    "class RCH:\n",
    "    def __init__(self, pts, mu):\n",
    "        self.pts = pts\n",
    "        self.indices = np.array(range(pts.shape[0]))\n",
    "        self.mu = mu\n",
    "        first = self._top(self.pts, self.indices, np.array([0, 1]), self.mu)\n",
    "        second = self._top(self.pts, self.indices, np.array([0, -1]), self.mu)\n",
    "        L = self._RCH0(self.pts, self.indices, first, second, self.mu)\n",
    "        R = self._RCH0(self.pts, self.indices, second, first, self.mu)\n",
    "        self.rch = L[:-1] + R\n",
    "        self.vertices = np.stack([x.vertex for x in self.rch])\n",
    "        self.support = np.stack([pts[x.support] for x in self.rch])\n",
    "\n",
    "    def fig(self, clickable=True, vertex_size=10):\n",
    "        return self._fig(clickable,vertex_size)\n",
    "\n",
    "    def _top(self, pts, indices, w, mu):\n",
    "        p = pts[indices]\n",
    "        k = int(np.ceil(1 / mu))\n",
    "        z = np.dot(p, w.T)\n",
    "        n_indices = np.argsort(-z)[:k]\n",
    "        v = indices[n_indices]\n",
    "        u = pts[v]\n",
    "        vert = u[: (k - 1), :].sum(axis=0) * mu + (1 - (k - 1) * mu) * u[k - 1, :]\n",
    "        return Vertex(vertex=vert, support=v)\n",
    "\n",
    "    def _normal(self, x, y):\n",
    "        z = y - x\n",
    "        return np.array([-z[1], z[0]])\n",
    "\n",
    "    def _bump(self, pts, indices, x, y, mu):\n",
    "        z = self._normal(x.vertex, y.vertex)\n",
    "        x_support = pts[x.support]\n",
    "        y_support = pts[y.support]\n",
    "        support = np.concatenate([x_support, y_support])\n",
    "        p = pts[indices]\n",
    "        A0 = indices[np.dot(p, z.T) >= np.min(np.dot(support, z.T))]\n",
    "        return A0\n",
    "\n",
    "    def _RCH0(self, pts, indices, left, right, mu):\n",
    "        h = self._top(pts, indices, self._normal(left.vertex, right.vertex), mu)\n",
    "        if (\n",
    "            np.allclose(h.vertex, left.vertex)\n",
    "            or np.allclose(h.vertex, right.vertex)\n",
    "            or indices.shape[0] < 2\n",
    "        ):\n",
    "            return [left, right]\n",
    "        A = self._bump(pts, indices, left, h, mu)\n",
    "        B = self._bump(pts, indices, h, right, mu)\n",
    "        x = self._RCH0(pts, A, left, h, mu)\n",
    "        y = self._RCH0(pts, B, h, right, mu)\n",
    "        return x[:-1] + y\n",
    "\n",
    "    def _fig(self, clickable=True,vertex_size=10):\n",
    "        f = figure(\n",
    "            aspect_ratio=1.0, title=\"Reduced Convex Hull with \\u03BC={:.2f}\".format(self.mu)\n",
    "        )\n",
    "        N = self.pts.shape[0]\n",
    "        data = ColumnDataSource(\n",
    "            {\"x\": self.vertices[:-1, 0], \"y\": self.vertices[:-1, 1]}\n",
    "        )\n",
    "        data2 = ColumnDataSource({\"x\": self.vertices[:, 0], \"y\": self.vertices[:, 1]})\n",
    "        points = ColumnDataSource(\n",
    "            {\n",
    "                \"x\": self.pts[:, 0],\n",
    "                \"y\": self.pts[:, 1],\n",
    "                \"color\": [\"blue\" for i in range(N)],\n",
    "                \"size\": [4 for i in range(N)],\n",
    "            }\n",
    "        )\n",
    "        callback = CustomJS(\n",
    "            args=dict(data=data, info=self.rch, pts=points), code=callback_code\n",
    "        )\n",
    "        f.scatter(x=\"x\", y=\"y\", color=\"color\", source=points, size=\"size\")\n",
    "        f.line(x=\"x\", y=\"y\", color=\"red\", source=data2)\n",
    "        vertices = f.circle(\n",
    "            x=\"x\",\n",
    "            y=\"y\",\n",
    "            selection_color=\"red\",\n",
    "            color=\"red\",\n",
    "            nonselection_fill_alpha=0.5,\n",
    "            size=vertex_size,\n",
    "            source=data,\n",
    "        )\n",
    "        if clickable:\n",
    "            f.add_tools(TapTool(callback=callback, renderers=[vertices]))\n",
    "        return f"
   ]
  },
  {
   "cell_type": "code",
   "execution_count": 112,
   "id": "listed-atlantic",
   "metadata": {},
   "outputs": [
    {
     "name": "stdout",
     "output_type": "stream",
     "text": [
      "pandas=pd, numpy=np\n",
      "bokeh models, figure, layouts loaded\n",
      "output directed to notebook\n"
     ]
    },
    {
     "data": {
      "text/html": [
       "\n",
       "    <div class=\"bk-root\">\n",
       "        <a href=\"https://bokeh.org\" target=\"_blank\" class=\"bk-logo bk-logo-small bk-logo-notebook\"></a>\n",
       "        <span id=\"9967\">Loading BokehJS ...</span>\n",
       "    </div>"
      ]
     },
     "metadata": {},
     "output_type": "display_data"
    },
    {
     "data": {
      "application/javascript": [
       "\n",
       "(function(root) {\n",
       "  function now() {\n",
       "    return new Date();\n",
       "  }\n",
       "\n",
       "  var force = true;\n",
       "\n",
       "  if (typeof root._bokeh_onload_callbacks === \"undefined\" || force === true) {\n",
       "    root._bokeh_onload_callbacks = [];\n",
       "    root._bokeh_is_loading = undefined;\n",
       "  }\n",
       "\n",
       "  var JS_MIME_TYPE = 'application/javascript';\n",
       "  var HTML_MIME_TYPE = 'text/html';\n",
       "  var EXEC_MIME_TYPE = 'application/vnd.bokehjs_exec.v0+json';\n",
       "  var CLASS_NAME = 'output_bokeh rendered_html';\n",
       "\n",
       "  /**\n",
       "   * Render data to the DOM node\n",
       "   */\n",
       "  function render(props, node) {\n",
       "    var script = document.createElement(\"script\");\n",
       "    node.appendChild(script);\n",
       "  }\n",
       "\n",
       "  /**\n",
       "   * Handle when an output is cleared or removed\n",
       "   */\n",
       "  function handleClearOutput(event, handle) {\n",
       "    var cell = handle.cell;\n",
       "\n",
       "    var id = cell.output_area._bokeh_element_id;\n",
       "    var server_id = cell.output_area._bokeh_server_id;\n",
       "    // Clean up Bokeh references\n",
       "    if (id != null && id in Bokeh.index) {\n",
       "      Bokeh.index[id].model.document.clear();\n",
       "      delete Bokeh.index[id];\n",
       "    }\n",
       "\n",
       "    if (server_id !== undefined) {\n",
       "      // Clean up Bokeh references\n",
       "      var cmd = \"from bokeh.io.state import curstate; print(curstate().uuid_to_server['\" + server_id + \"'].get_sessions()[0].document.roots[0]._id)\";\n",
       "      cell.notebook.kernel.execute(cmd, {\n",
       "        iopub: {\n",
       "          output: function(msg) {\n",
       "            var id = msg.content.text.trim();\n",
       "            if (id in Bokeh.index) {\n",
       "              Bokeh.index[id].model.document.clear();\n",
       "              delete Bokeh.index[id];\n",
       "            }\n",
       "          }\n",
       "        }\n",
       "      });\n",
       "      // Destroy server and session\n",
       "      var cmd = \"import bokeh.io.notebook as ion; ion.destroy_server('\" + server_id + \"')\";\n",
       "      cell.notebook.kernel.execute(cmd);\n",
       "    }\n",
       "  }\n",
       "\n",
       "  /**\n",
       "   * Handle when a new output is added\n",
       "   */\n",
       "  function handleAddOutput(event, handle) {\n",
       "    var output_area = handle.output_area;\n",
       "    var output = handle.output;\n",
       "\n",
       "    // limit handleAddOutput to display_data with EXEC_MIME_TYPE content only\n",
       "    if ((output.output_type != \"display_data\") || (!output.data.hasOwnProperty(EXEC_MIME_TYPE))) {\n",
       "      return\n",
       "    }\n",
       "\n",
       "    var toinsert = output_area.element.find(\".\" + CLASS_NAME.split(' ')[0]);\n",
       "\n",
       "    if (output.metadata[EXEC_MIME_TYPE][\"id\"] !== undefined) {\n",
       "      toinsert[toinsert.length - 1].firstChild.textContent = output.data[JS_MIME_TYPE];\n",
       "      // store reference to embed id on output_area\n",
       "      output_area._bokeh_element_id = output.metadata[EXEC_MIME_TYPE][\"id\"];\n",
       "    }\n",
       "    if (output.metadata[EXEC_MIME_TYPE][\"server_id\"] !== undefined) {\n",
       "      var bk_div = document.createElement(\"div\");\n",
       "      bk_div.innerHTML = output.data[HTML_MIME_TYPE];\n",
       "      var script_attrs = bk_div.children[0].attributes;\n",
       "      for (var i = 0; i < script_attrs.length; i++) {\n",
       "        toinsert[toinsert.length - 1].firstChild.setAttribute(script_attrs[i].name, script_attrs[i].value);\n",
       "        toinsert[toinsert.length - 1].firstChild.textContent = bk_div.children[0].textContent\n",
       "      }\n",
       "      // store reference to server id on output_area\n",
       "      output_area._bokeh_server_id = output.metadata[EXEC_MIME_TYPE][\"server_id\"];\n",
       "    }\n",
       "  }\n",
       "\n",
       "  function register_renderer(events, OutputArea) {\n",
       "\n",
       "    function append_mime(data, metadata, element) {\n",
       "      // create a DOM node to render to\n",
       "      var toinsert = this.create_output_subarea(\n",
       "        metadata,\n",
       "        CLASS_NAME,\n",
       "        EXEC_MIME_TYPE\n",
       "      );\n",
       "      this.keyboard_manager.register_events(toinsert);\n",
       "      // Render to node\n",
       "      var props = {data: data, metadata: metadata[EXEC_MIME_TYPE]};\n",
       "      render(props, toinsert[toinsert.length - 1]);\n",
       "      element.append(toinsert);\n",
       "      return toinsert\n",
       "    }\n",
       "\n",
       "    /* Handle when an output is cleared or removed */\n",
       "    events.on('clear_output.CodeCell', handleClearOutput);\n",
       "    events.on('delete.Cell', handleClearOutput);\n",
       "\n",
       "    /* Handle when a new output is added */\n",
       "    events.on('output_added.OutputArea', handleAddOutput);\n",
       "\n",
       "    /**\n",
       "     * Register the mime type and append_mime function with output_area\n",
       "     */\n",
       "    OutputArea.prototype.register_mime_type(EXEC_MIME_TYPE, append_mime, {\n",
       "      /* Is output safe? */\n",
       "      safe: true,\n",
       "      /* Index of renderer in `output_area.display_order` */\n",
       "      index: 0\n",
       "    });\n",
       "  }\n",
       "\n",
       "  // register the mime type if in Jupyter Notebook environment and previously unregistered\n",
       "  if (root.Jupyter !== undefined) {\n",
       "    var events = require('base/js/events');\n",
       "    var OutputArea = require('notebook/js/outputarea').OutputArea;\n",
       "\n",
       "    if (OutputArea.prototype.mime_types().indexOf(EXEC_MIME_TYPE) == -1) {\n",
       "      register_renderer(events, OutputArea);\n",
       "    }\n",
       "  }\n",
       "\n",
       "  \n",
       "  if (typeof (root._bokeh_timeout) === \"undefined\" || force === true) {\n",
       "    root._bokeh_timeout = Date.now() + 5000;\n",
       "    root._bokeh_failed_load = false;\n",
       "  }\n",
       "\n",
       "  var NB_LOAD_WARNING = {'data': {'text/html':\n",
       "     \"<div style='background-color: #fdd'>\\n\"+\n",
       "     \"<p>\\n\"+\n",
       "     \"BokehJS does not appear to have successfully loaded. If loading BokehJS from CDN, this \\n\"+\n",
       "     \"may be due to a slow or bad network connection. Possible fixes:\\n\"+\n",
       "     \"</p>\\n\"+\n",
       "     \"<ul>\\n\"+\n",
       "     \"<li>re-rerun `output_notebook()` to attempt to load from CDN again, or</li>\\n\"+\n",
       "     \"<li>use INLINE resources instead, as so:</li>\\n\"+\n",
       "     \"</ul>\\n\"+\n",
       "     \"<code>\\n\"+\n",
       "     \"from bokeh.resources import INLINE\\n\"+\n",
       "     \"output_notebook(resources=INLINE)\\n\"+\n",
       "     \"</code>\\n\"+\n",
       "     \"</div>\"}};\n",
       "\n",
       "  function display_loaded() {\n",
       "    var el = document.getElementById(\"9967\");\n",
       "    if (el != null) {\n",
       "      el.textContent = \"BokehJS is loading...\";\n",
       "    }\n",
       "    if (root.Bokeh !== undefined) {\n",
       "      if (el != null) {\n",
       "        el.textContent = \"BokehJS \" + root.Bokeh.version + \" successfully loaded.\";\n",
       "      }\n",
       "    } else if (Date.now() < root._bokeh_timeout) {\n",
       "      setTimeout(display_loaded, 100)\n",
       "    }\n",
       "  }\n",
       "\n",
       "\n",
       "  function run_callbacks() {\n",
       "    try {\n",
       "      root._bokeh_onload_callbacks.forEach(function(callback) {\n",
       "        if (callback != null)\n",
       "          callback();\n",
       "      });\n",
       "    } finally {\n",
       "      delete root._bokeh_onload_callbacks\n",
       "    }\n",
       "    console.debug(\"Bokeh: all callbacks have finished\");\n",
       "  }\n",
       "\n",
       "  function load_libs(css_urls, js_urls, callback) {\n",
       "    if (css_urls == null) css_urls = [];\n",
       "    if (js_urls == null) js_urls = [];\n",
       "\n",
       "    root._bokeh_onload_callbacks.push(callback);\n",
       "    if (root._bokeh_is_loading > 0) {\n",
       "      console.debug(\"Bokeh: BokehJS is being loaded, scheduling callback at\", now());\n",
       "      return null;\n",
       "    }\n",
       "    if (js_urls == null || js_urls.length === 0) {\n",
       "      run_callbacks();\n",
       "      return null;\n",
       "    }\n",
       "    console.debug(\"Bokeh: BokehJS not loaded, scheduling load and callback at\", now());\n",
       "    root._bokeh_is_loading = css_urls.length + js_urls.length;\n",
       "\n",
       "    function on_load() {\n",
       "      root._bokeh_is_loading--;\n",
       "      if (root._bokeh_is_loading === 0) {\n",
       "        console.debug(\"Bokeh: all BokehJS libraries/stylesheets loaded\");\n",
       "        run_callbacks()\n",
       "      }\n",
       "    }\n",
       "\n",
       "    function on_error() {\n",
       "      console.error(\"failed to load \" + url);\n",
       "    }\n",
       "\n",
       "    for (var i = 0; i < css_urls.length; i++) {\n",
       "      var url = css_urls[i];\n",
       "      const element = document.createElement(\"link\");\n",
       "      element.onload = on_load;\n",
       "      element.onerror = on_error;\n",
       "      element.rel = \"stylesheet\";\n",
       "      element.type = \"text/css\";\n",
       "      element.href = url;\n",
       "      console.debug(\"Bokeh: injecting link tag for BokehJS stylesheet: \", url);\n",
       "      document.body.appendChild(element);\n",
       "    }\n",
       "\n",
       "    const hashes = {\"https://cdn.bokeh.org/bokeh/release/bokeh-2.2.3.min.js\": \"T2yuo9Oe71Cz/I4X9Ac5+gpEa5a8PpJCDlqKYO0CfAuEszu1JrXLl8YugMqYe3sM\", \"https://cdn.bokeh.org/bokeh/release/bokeh-widgets-2.2.3.min.js\": \"98GDGJ0kOMCUMUePhksaQ/GYgB3+NH9h996V88sh3aOiUNX3N+fLXAtry6xctSZ6\", \"https://cdn.bokeh.org/bokeh/release/bokeh-tables-2.2.3.min.js\": \"89bArO+nlbP3sgakeHjCo1JYxYR5wufVgA3IbUvDY+K7w4zyxJqssu7wVnfeKCq8\"};\n",
       "\n",
       "    for (var i = 0; i < js_urls.length; i++) {\n",
       "      var url = js_urls[i];\n",
       "      var element = document.createElement('script');\n",
       "      element.onload = on_load;\n",
       "      element.onerror = on_error;\n",
       "      element.async = false;\n",
       "      element.src = url;\n",
       "      if (url in hashes) {\n",
       "        element.crossOrigin = \"anonymous\";\n",
       "        element.integrity = \"sha384-\" + hashes[url];\n",
       "      }\n",
       "      console.debug(\"Bokeh: injecting script tag for BokehJS library: \", url);\n",
       "      document.head.appendChild(element);\n",
       "    }\n",
       "  };\n",
       "\n",
       "  function inject_raw_css(css) {\n",
       "    const element = document.createElement(\"style\");\n",
       "    element.appendChild(document.createTextNode(css));\n",
       "    document.body.appendChild(element);\n",
       "  }\n",
       "\n",
       "  \n",
       "  var js_urls = [\"https://cdn.bokeh.org/bokeh/release/bokeh-2.2.3.min.js\", \"https://cdn.bokeh.org/bokeh/release/bokeh-widgets-2.2.3.min.js\", \"https://cdn.bokeh.org/bokeh/release/bokeh-tables-2.2.3.min.js\"];\n",
       "  var css_urls = [];\n",
       "  \n",
       "\n",
       "  var inline_js = [\n",
       "    function(Bokeh) {\n",
       "      Bokeh.set_log_level(\"info\");\n",
       "    },\n",
       "    function(Bokeh) {\n",
       "    \n",
       "    \n",
       "    }\n",
       "  ];\n",
       "\n",
       "  function run_inline_js() {\n",
       "    \n",
       "    if (root.Bokeh !== undefined || force === true) {\n",
       "      \n",
       "    for (var i = 0; i < inline_js.length; i++) {\n",
       "      inline_js[i].call(root, root.Bokeh);\n",
       "    }\n",
       "    if (force === true) {\n",
       "        display_loaded();\n",
       "      }} else if (Date.now() < root._bokeh_timeout) {\n",
       "      setTimeout(run_inline_js, 100);\n",
       "    } else if (!root._bokeh_failed_load) {\n",
       "      console.log(\"Bokeh: BokehJS failed to load within specified timeout.\");\n",
       "      root._bokeh_failed_load = true;\n",
       "    } else if (force !== true) {\n",
       "      var cell = $(document.getElementById(\"9967\")).parents('.cell').data().cell;\n",
       "      cell.output_area.append_execute_result(NB_LOAD_WARNING)\n",
       "    }\n",
       "\n",
       "  }\n",
       "\n",
       "  if (root._bokeh_is_loading === 0) {\n",
       "    console.debug(\"Bokeh: BokehJS loaded, going straight to plotting\");\n",
       "    run_inline_js();\n",
       "  } else {\n",
       "    load_libs(css_urls, js_urls, function() {\n",
       "      console.debug(\"Bokeh: BokehJS plotting callback run at\", now());\n",
       "      run_inline_js();\n",
       "    });\n",
       "  }\n",
       "}(window));"
      ],
      "application/vnd.bokehjs_load.v0+json": "\n(function(root) {\n  function now() {\n    return new Date();\n  }\n\n  var force = true;\n\n  if (typeof root._bokeh_onload_callbacks === \"undefined\" || force === true) {\n    root._bokeh_onload_callbacks = [];\n    root._bokeh_is_loading = undefined;\n  }\n\n  \n\n  \n  if (typeof (root._bokeh_timeout) === \"undefined\" || force === true) {\n    root._bokeh_timeout = Date.now() + 5000;\n    root._bokeh_failed_load = false;\n  }\n\n  var NB_LOAD_WARNING = {'data': {'text/html':\n     \"<div style='background-color: #fdd'>\\n\"+\n     \"<p>\\n\"+\n     \"BokehJS does not appear to have successfully loaded. If loading BokehJS from CDN, this \\n\"+\n     \"may be due to a slow or bad network connection. Possible fixes:\\n\"+\n     \"</p>\\n\"+\n     \"<ul>\\n\"+\n     \"<li>re-rerun `output_notebook()` to attempt to load from CDN again, or</li>\\n\"+\n     \"<li>use INLINE resources instead, as so:</li>\\n\"+\n     \"</ul>\\n\"+\n     \"<code>\\n\"+\n     \"from bokeh.resources import INLINE\\n\"+\n     \"output_notebook(resources=INLINE)\\n\"+\n     \"</code>\\n\"+\n     \"</div>\"}};\n\n  function display_loaded() {\n    var el = document.getElementById(\"9967\");\n    if (el != null) {\n      el.textContent = \"BokehJS is loading...\";\n    }\n    if (root.Bokeh !== undefined) {\n      if (el != null) {\n        el.textContent = \"BokehJS \" + root.Bokeh.version + \" successfully loaded.\";\n      }\n    } else if (Date.now() < root._bokeh_timeout) {\n      setTimeout(display_loaded, 100)\n    }\n  }\n\n\n  function run_callbacks() {\n    try {\n      root._bokeh_onload_callbacks.forEach(function(callback) {\n        if (callback != null)\n          callback();\n      });\n    } finally {\n      delete root._bokeh_onload_callbacks\n    }\n    console.debug(\"Bokeh: all callbacks have finished\");\n  }\n\n  function load_libs(css_urls, js_urls, callback) {\n    if (css_urls == null) css_urls = [];\n    if (js_urls == null) js_urls = [];\n\n    root._bokeh_onload_callbacks.push(callback);\n    if (root._bokeh_is_loading > 0) {\n      console.debug(\"Bokeh: BokehJS is being loaded, scheduling callback at\", now());\n      return null;\n    }\n    if (js_urls == null || js_urls.length === 0) {\n      run_callbacks();\n      return null;\n    }\n    console.debug(\"Bokeh: BokehJS not loaded, scheduling load and callback at\", now());\n    root._bokeh_is_loading = css_urls.length + js_urls.length;\n\n    function on_load() {\n      root._bokeh_is_loading--;\n      if (root._bokeh_is_loading === 0) {\n        console.debug(\"Bokeh: all BokehJS libraries/stylesheets loaded\");\n        run_callbacks()\n      }\n    }\n\n    function on_error() {\n      console.error(\"failed to load \" + url);\n    }\n\n    for (var i = 0; i < css_urls.length; i++) {\n      var url = css_urls[i];\n      const element = document.createElement(\"link\");\n      element.onload = on_load;\n      element.onerror = on_error;\n      element.rel = \"stylesheet\";\n      element.type = \"text/css\";\n      element.href = url;\n      console.debug(\"Bokeh: injecting link tag for BokehJS stylesheet: \", url);\n      document.body.appendChild(element);\n    }\n\n    const hashes = {\"https://cdn.bokeh.org/bokeh/release/bokeh-2.2.3.min.js\": \"T2yuo9Oe71Cz/I4X9Ac5+gpEa5a8PpJCDlqKYO0CfAuEszu1JrXLl8YugMqYe3sM\", \"https://cdn.bokeh.org/bokeh/release/bokeh-widgets-2.2.3.min.js\": \"98GDGJ0kOMCUMUePhksaQ/GYgB3+NH9h996V88sh3aOiUNX3N+fLXAtry6xctSZ6\", \"https://cdn.bokeh.org/bokeh/release/bokeh-tables-2.2.3.min.js\": \"89bArO+nlbP3sgakeHjCo1JYxYR5wufVgA3IbUvDY+K7w4zyxJqssu7wVnfeKCq8\"};\n\n    for (var i = 0; i < js_urls.length; i++) {\n      var url = js_urls[i];\n      var element = document.createElement('script');\n      element.onload = on_load;\n      element.onerror = on_error;\n      element.async = false;\n      element.src = url;\n      if (url in hashes) {\n        element.crossOrigin = \"anonymous\";\n        element.integrity = \"sha384-\" + hashes[url];\n      }\n      console.debug(\"Bokeh: injecting script tag for BokehJS library: \", url);\n      document.head.appendChild(element);\n    }\n  };\n\n  function inject_raw_css(css) {\n    const element = document.createElement(\"style\");\n    element.appendChild(document.createTextNode(css));\n    document.body.appendChild(element);\n  }\n\n  \n  var js_urls = [\"https://cdn.bokeh.org/bokeh/release/bokeh-2.2.3.min.js\", \"https://cdn.bokeh.org/bokeh/release/bokeh-widgets-2.2.3.min.js\", \"https://cdn.bokeh.org/bokeh/release/bokeh-tables-2.2.3.min.js\"];\n  var css_urls = [];\n  \n\n  var inline_js = [\n    function(Bokeh) {\n      Bokeh.set_log_level(\"info\");\n    },\n    function(Bokeh) {\n    \n    \n    }\n  ];\n\n  function run_inline_js() {\n    \n    if (root.Bokeh !== undefined || force === true) {\n      \n    for (var i = 0; i < inline_js.length; i++) {\n      inline_js[i].call(root, root.Bokeh);\n    }\n    if (force === true) {\n        display_loaded();\n      }} else if (Date.now() < root._bokeh_timeout) {\n      setTimeout(run_inline_js, 100);\n    } else if (!root._bokeh_failed_load) {\n      console.log(\"Bokeh: BokehJS failed to load within specified timeout.\");\n      root._bokeh_failed_load = true;\n    } else if (force !== true) {\n      var cell = $(document.getElementById(\"9967\")).parents('.cell').data().cell;\n      cell.output_area.append_execute_result(NB_LOAD_WARNING)\n    }\n\n  }\n\n  if (root._bokeh_is_loading === 0) {\n    console.debug(\"Bokeh: BokehJS loaded, going straight to plotting\");\n    run_inline_js();\n  } else {\n    load_libs(css_urls, js_urls, function() {\n      console.debug(\"Bokeh: BokehJS plotting callback run at\", now());\n      run_inline_js();\n    });\n  }\n}(window));"
     },
     "metadata": {},
     "output_type": "display_data"
    }
   ],
   "source": [
    "%setup"
   ]
  },
  {
   "cell_type": "code",
   "execution_count": 113,
   "id": "round-clearance",
   "metadata": {},
   "outputs": [],
   "source": [
    "A = np.random.normal(-1,1,size=(20,2))\n",
    "B = np.random.normal(1,1,size=(20,2))"
   ]
  },
  {
   "cell_type": "code",
   "execution_count": 114,
   "id": "revised-allocation",
   "metadata": {},
   "outputs": [
    {
     "data": {
      "text/html": [
       "\n",
       "\n",
       "\n",
       "\n",
       "\n",
       "\n",
       "  <div class=\"bk-root\" id=\"b9ebe283-25a2-4662-a9e4-8a7868cb7be7\" data-root-id=\"9968\"></div>\n"
      ]
     },
     "metadata": {},
     "output_type": "display_data"
    },
    {
     "data": {
      "application/javascript": [
       "(function(root) {\n",
       "  function embed_document(root) {\n",
       "    \n",
       "  var docs_json = {\"14070ccb-d86c-41c9-a32c-c74a215f76a4\":{\"roots\":{\"references\":[{\"attributes\":{\"below\":[{\"id\":\"9977\"}],\"center\":[{\"id\":\"9980\"},{\"id\":\"9984\"}],\"left\":[{\"id\":\"9981\"}],\"renderers\":[{\"id\":\"10002\"},{\"id\":\"10007\"}],\"title\":{\"id\":\"10383\"},\"toolbar\":{\"id\":\"9992\"},\"x_range\":{\"id\":\"9969\"},\"x_scale\":{\"id\":\"9973\"},\"y_range\":{\"id\":\"9971\"},\"y_scale\":{\"id\":\"9975\"}},\"id\":\"9968\",\"subtype\":\"Figure\",\"type\":\"Plot\"},{\"attributes\":{},\"id\":\"9988\",\"type\":\"SaveTool\"},{\"attributes\":{},\"id\":\"9978\",\"type\":\"BasicTicker\"},{\"attributes\":{},\"id\":\"9985\",\"type\":\"PanTool\"},{\"attributes\":{\"data\":{\"x\":{\"__ndarray__\":\"wAGkKlci579syWOWpDICwG5Ow6D9Ovy/6bBULBZjAcBiFHHgxrrmv0jfKbqYas8/BtlNlsP9AcBwMzCCnK3YvwEHNtda2P+/BIG8/K8L8r/r35E+Imbjv7xXYY24HPe/+EDYXnHP7L8wfV/IJknvv/AbW1fm5P6/MI79dpec7r+Wo6qjiRfhvy6QZFyZ/eG/o6NdMZ13+b8SsgngQDjgvw==\",\"dtype\":\"float64\",\"order\":\"little\",\"shape\":[20]},\"y\":{\"__ndarray__\":\"BNMsijuK7D+v+o8dR1Hgv/4613YSYPu/JqatWW8v+L8wG6gqnpvov6Irrkbbhe8/+iNKs7/+17++5abJqJTev2SGtmNcXQPAAJi/3uyWvz8vF5feiKnwv353geXXZ/O/wsFrFJ6l/r/Yp1nWy57ZP5C9dpbRG/G/Uh4X9uQbAMAkF+InVTwAwL/8jM0DfQDA/KHyPKYs2L/D6F1F2Y3yvw==\",\"dtype\":\"float64\",\"order\":\"little\",\"shape\":[20]}},\"selected\":{\"id\":\"10389\"},\"selection_policy\":{\"id\":\"10390\"}},\"id\":\"9999\",\"type\":\"ColumnDataSource\"},{\"attributes\":{},\"id\":\"9982\",\"type\":\"BasicTicker\"},{\"attributes\":{},\"id\":\"10391\",\"type\":\"Selection\"},{\"attributes\":{\"formatter\":{\"id\":\"10386\"},\"ticker\":{\"id\":\"9982\"}},\"id\":\"9981\",\"type\":\"LinearAxis\"},{\"attributes\":{\"axis\":{\"id\":\"9977\"},\"ticker\":null},\"id\":\"9980\",\"type\":\"Grid\"},{\"attributes\":{\"source\":{\"id\":\"10004\"}},\"id\":\"10008\",\"type\":\"CDSView\"},{\"attributes\":{\"text\":\"\"},\"id\":\"10383\",\"type\":\"Title\"},{\"attributes\":{\"formatter\":{\"id\":\"10384\"},\"ticker\":{\"id\":\"9978\"}},\"id\":\"9977\",\"type\":\"LinearAxis\"},{\"attributes\":{\"data_source\":{\"id\":\"9999\"},\"glyph\":{\"id\":\"10000\"},\"hover_glyph\":null,\"muted_glyph\":null,\"nonselection_glyph\":{\"id\":\"10001\"},\"selection_glyph\":null,\"view\":{\"id\":\"10003\"}},\"id\":\"10002\",\"type\":\"GlyphRenderer\"},{\"attributes\":{\"axis\":{\"id\":\"9981\"},\"dimension\":1,\"ticker\":null},\"id\":\"9984\",\"type\":\"Grid\"},{\"attributes\":{},\"id\":\"9971\",\"type\":\"DataRange1d\"},{\"attributes\":{},\"id\":\"10386\",\"type\":\"BasicTickFormatter\"},{\"attributes\":{\"fill_color\":{\"value\":\"blue\"},\"line_color\":{\"value\":\"blue\"},\"x\":{\"field\":\"x\"},\"y\":{\"field\":\"y\"}},\"id\":\"10000\",\"type\":\"Scatter\"},{\"attributes\":{},\"id\":\"10392\",\"type\":\"UnionRenderers\"},{\"attributes\":{},\"id\":\"9975\",\"type\":\"LinearScale\"},{\"attributes\":{\"fill_color\":{\"value\":\"green\"},\"line_color\":{\"value\":\"green\"},\"x\":{\"field\":\"x\"},\"y\":{\"field\":\"y\"}},\"id\":\"10005\",\"type\":\"Scatter\"},{\"attributes\":{},\"id\":\"10384\",\"type\":\"BasicTickFormatter\"},{\"attributes\":{},\"id\":\"10389\",\"type\":\"Selection\"},{\"attributes\":{\"data_source\":{\"id\":\"10004\"},\"glyph\":{\"id\":\"10005\"},\"hover_glyph\":null,\"muted_glyph\":null,\"nonselection_glyph\":{\"id\":\"10006\"},\"selection_glyph\":null,\"view\":{\"id\":\"10008\"}},\"id\":\"10007\",\"type\":\"GlyphRenderer\"},{\"attributes\":{},\"id\":\"9989\",\"type\":\"ResetTool\"},{\"attributes\":{\"active_drag\":\"auto\",\"active_inspect\":\"auto\",\"active_multi\":null,\"active_scroll\":\"auto\",\"active_tap\":\"auto\",\"tools\":[{\"id\":\"9985\"},{\"id\":\"9986\"},{\"id\":\"9987\"},{\"id\":\"9988\"},{\"id\":\"9989\"},{\"id\":\"9990\"}]},\"id\":\"9992\",\"type\":\"Toolbar\"},{\"attributes\":{\"overlay\":{\"id\":\"9991\"}},\"id\":\"9987\",\"type\":\"BoxZoomTool\"},{\"attributes\":{\"source\":{\"id\":\"9999\"}},\"id\":\"10003\",\"type\":\"CDSView\"},{\"attributes\":{\"data\":{\"x\":{\"__ndarray__\":\"fsCjl06R6b/ATt3T46LNvwoqmtS0LtI/3KcmkR2g5b9SwXZfMJP4P5Nu694ovPA/Agolt8aG8j98N0uCBvX8P6AJ+ERlSN8/+mgCyHCn+T+gondezRysPzmbYmkJY+Q/gGMfDjNlnj8win/mbAICQEgGMQNO7uo/9ELNv0yz9T8WKfYSFAHxv8LzSXnvhfI/Ssb7EvyD+j9gED8Dpm7Gvw==\",\"dtype\":\"float64\",\"order\":\"little\",\"shape\":[20]},\"y\":{\"__ndarray__\":\"oLhNBAFlq798ZE6RXazlP8xbT/vieuQ/oWrQmN3jCUDW4jj4JInvP7im/S4TTs0/K2YUu8Ao8T+aj1J2BNnyP9fE3KFl2vc/LlX9qY9+7z8Knuqr183kP3hyrr0Dp/8/sL8SLriM3D/WVath7bXrP7rRc9t7Lei/U22gz0YL/j/JLSG5xg0IQJLKzk0lmtA/8wThn6LPDUA9nhMO6s/mPw==\",\"dtype\":\"float64\",\"order\":\"little\",\"shape\":[20]}},\"selected\":{\"id\":\"10391\"},\"selection_policy\":{\"id\":\"10392\"}},\"id\":\"10004\",\"type\":\"ColumnDataSource\"},{\"attributes\":{\"bottom_units\":\"screen\",\"fill_alpha\":0.5,\"fill_color\":\"lightgrey\",\"left_units\":\"screen\",\"level\":\"overlay\",\"line_alpha\":1.0,\"line_color\":\"black\",\"line_dash\":[4,4],\"line_width\":2,\"right_units\":\"screen\",\"top_units\":\"screen\"},\"id\":\"9991\",\"type\":\"BoxAnnotation\"},{\"attributes\":{},\"id\":\"9973\",\"type\":\"LinearScale\"},{\"attributes\":{},\"id\":\"9969\",\"type\":\"DataRange1d\"},{\"attributes\":{\"fill_alpha\":{\"value\":0.1},\"fill_color\":{\"value\":\"green\"},\"line_alpha\":{\"value\":0.1},\"line_color\":{\"value\":\"green\"},\"x\":{\"field\":\"x\"},\"y\":{\"field\":\"y\"}},\"id\":\"10006\",\"type\":\"Scatter\"},{\"attributes\":{\"fill_alpha\":{\"value\":0.1},\"fill_color\":{\"value\":\"blue\"},\"line_alpha\":{\"value\":0.1},\"line_color\":{\"value\":\"blue\"},\"x\":{\"field\":\"x\"},\"y\":{\"field\":\"y\"}},\"id\":\"10001\",\"type\":\"Scatter\"},{\"attributes\":{},\"id\":\"9990\",\"type\":\"HelpTool\"},{\"attributes\":{},\"id\":\"10390\",\"type\":\"UnionRenderers\"},{\"attributes\":{},\"id\":\"9986\",\"type\":\"WheelZoomTool\"}],\"root_ids\":[\"9968\"]},\"title\":\"Bokeh Application\",\"version\":\"2.2.3\"}};\n",
       "  var render_items = [{\"docid\":\"14070ccb-d86c-41c9-a32c-c74a215f76a4\",\"root_ids\":[\"9968\"],\"roots\":{\"9968\":\"b9ebe283-25a2-4662-a9e4-8a7868cb7be7\"}}];\n",
       "  root.Bokeh.embed.embed_items_notebook(docs_json, render_items);\n",
       "\n",
       "  }\n",
       "  if (root.Bokeh !== undefined) {\n",
       "    embed_document(root);\n",
       "  } else {\n",
       "    var attempts = 0;\n",
       "    var timer = setInterval(function(root) {\n",
       "      if (root.Bokeh !== undefined) {\n",
       "        clearInterval(timer);\n",
       "        embed_document(root);\n",
       "      } else {\n",
       "        attempts++;\n",
       "        if (attempts > 100) {\n",
       "          clearInterval(timer);\n",
       "          console.log(\"Bokeh: ERROR: Unable to run BokehJS code because BokehJS library is missing\");\n",
       "        }\n",
       "      }\n",
       "    }, 10, root)\n",
       "  }\n",
       "})(window);"
      ],
      "application/vnd.bokehjs_exec.v0+json": ""
     },
     "metadata": {
      "application/vnd.bokehjs_exec.v0+json": {
       "id": "9968"
      }
     },
     "output_type": "display_data"
    }
   ],
   "source": [
    "f=figure()\n",
    "f.scatter(x=A[:,0],y=A[:,1],color='blue')\n",
    "f.scatter(x=B[:,0],y=B[:,1],color='green')\n",
    "show(f)"
   ]
  },
  {
   "cell_type": "code",
   "execution_count": 115,
   "id": "married-warren",
   "metadata": {},
   "outputs": [],
   "source": [
    "C=10\n",
    "Ar = RCH(A,1/C)\n",
    "Br = RCH(B,1/C)"
   ]
  },
  {
   "cell_type": "code",
   "execution_count": 116,
   "id": "statutory-casting",
   "metadata": {},
   "outputs": [
    {
     "data": {
      "text/html": [
       "\n",
       "\n",
       "\n",
       "\n",
       "\n",
       "\n",
       "  <div class=\"bk-root\" id=\"c641cfb6-3a12-45cb-b407-04860434e30f\" data-root-id=\"10448\"></div>\n"
      ]
     },
     "metadata": {},
     "output_type": "display_data"
    },
    {
     "data": {
      "application/javascript": [
       "(function(root) {\n",
       "  function embed_document(root) {\n",
       "    \n",
       "  var docs_json = {\"ba1abe9f-3d97-4354-8249-b1a2dc298ed1\":{\"roots\":{\"references\":[{\"attributes\":{\"aspect_ratio\":1.0,\"below\":[{\"id\":\"10459\"}],\"center\":[{\"id\":\"10462\"},{\"id\":\"10466\"}],\"left\":[{\"id\":\"10463\"}],\"renderers\":[{\"id\":\"10488\"},{\"id\":\"10493\"},{\"id\":\"10499\"}],\"title\":{\"id\":\"10449\"},\"toolbar\":{\"id\":\"10474\"},\"x_range\":{\"id\":\"10451\"},\"x_scale\":{\"id\":\"10455\"},\"y_range\":{\"id\":\"10453\"},\"y_scale\":{\"id\":\"10457\"}},\"id\":\"10448\",\"subtype\":\"Figure\",\"type\":\"Plot\"},{\"attributes\":{\"active_drag\":\"auto\",\"active_inspect\":\"auto\",\"active_multi\":null,\"active_scroll\":\"auto\",\"active_tap\":\"auto\",\"tools\":[{\"id\":\"10467\"},{\"id\":\"10468\"},{\"id\":\"10469\"},{\"id\":\"10470\"},{\"id\":\"10471\"},{\"id\":\"10472\"},{\"id\":\"10501\"}]},\"id\":\"10474\",\"type\":\"Toolbar\"},{\"attributes\":{\"callback\":{\"id\":\"10484\"},\"renderers\":[{\"id\":\"10499\"}]},\"id\":\"10501\",\"type\":\"TapTool\"},{\"attributes\":{},\"id\":\"10895\",\"type\":\"Selection\"},{\"attributes\":{},\"id\":\"10451\",\"type\":\"DataRange1d\"},{\"attributes\":{\"fill_alpha\":{\"value\":0.5},\"fill_color\":{\"value\":\"red\"},\"line_alpha\":{\"value\":0.1},\"line_color\":{\"value\":\"red\"},\"size\":{\"units\":\"screen\",\"value\":10},\"x\":{\"field\":\"x\"},\"y\":{\"field\":\"y\"}},\"id\":\"10497\",\"type\":\"Circle\"},{\"attributes\":{\"bottom_units\":\"screen\",\"fill_alpha\":0.5,\"fill_color\":\"lightgrey\",\"left_units\":\"screen\",\"level\":\"overlay\",\"line_alpha\":1.0,\"line_color\":\"black\",\"line_dash\":[4,4],\"line_width\":2,\"right_units\":\"screen\",\"top_units\":\"screen\"},\"id\":\"10473\",\"type\":\"BoxAnnotation\"},{\"attributes\":{},\"id\":\"10894\",\"type\":\"UnionRenderers\"},{\"attributes\":{\"axis\":{\"id\":\"10463\"},\"dimension\":1,\"ticker\":null},\"id\":\"10466\",\"type\":\"Grid\"},{\"attributes\":{\"fill_color\":{\"value\":\"red\"},\"line_color\":{\"value\":\"red\"},\"size\":{\"units\":\"screen\",\"value\":10},\"x\":{\"field\":\"x\"},\"y\":{\"field\":\"y\"}},\"id\":\"10496\",\"type\":\"Circle\"},{\"attributes\":{\"axis\":{\"id\":\"10459\"},\"ticker\":null},\"id\":\"10462\",\"type\":\"Grid\"},{\"attributes\":{},\"id\":\"10467\",\"type\":\"PanTool\"},{\"attributes\":{},\"id\":\"10888\",\"type\":\"BasicTickFormatter\"},{\"attributes\":{},\"id\":\"10468\",\"type\":\"WheelZoomTool\"},{\"attributes\":{\"data_source\":{\"id\":\"10482\"},\"glyph\":{\"id\":\"10491\"},\"hover_glyph\":null,\"muted_glyph\":null,\"nonselection_glyph\":{\"id\":\"10492\"},\"selection_glyph\":null,\"view\":{\"id\":\"10494\"}},\"id\":\"10493\",\"type\":\"GlyphRenderer\"},{\"attributes\":{},\"id\":\"10457\",\"type\":\"LinearScale\"},{\"attributes\":{\"data\":{\"x\":{\"__ndarray__\":\"nYstHAqk8L92WGff2J/rvzZF2WYYI+a/TZnQf7vX4r/+hcDWVh3iv0shnU4VDOK/RMw5gDFb5L+4VWT1URrmvzA+mYDIiOy/9hn3Lz/s778lPG3iZk3yv75z1TT8a/S/H1NP4RlA97/BXJYdev75v7SyGpEopPu/Wryi5VoB/L+0brSp+wn8vzoZ5pBt4vq/f9RQVt0C+r9DYLYQosv2v2ByB7nmGfW/NcOVbp/C8r8=\",\"dtype\":\"float64\",\"order\":\"little\",\"shape\":[22]},\"y\":{\"__ndarray__\":\"nENgCFBxvb8m3nTJnwnHvzCxtHKaG9a/ZALtbsZw4L8LW8s1/Pbmv8PiJZZ7sO6/fCEiXFa28r9qsLlyBqX0v364JEJT9fi/gEvaoGQi+r+Op0lBjlL7v2VrRu37Xfu/2tOd9NxT+r9SQx9RKq73v2vuVbat/PS/GMLm0pK58b94/HJFprnrv0acVCN1/eS/aX4l9hQg4b+A3J6u9v7Qv/UgkWdilci/BoEsyCoovr8=\",\"dtype\":\"float64\",\"order\":\"little\",\"shape\":[22]}},\"selected\":{\"id\":\"10897\"},\"selection_policy\":{\"id\":\"10898\"}},\"id\":\"10481\",\"type\":\"ColumnDataSource\"},{\"attributes\":{},\"id\":\"10460\",\"type\":\"BasicTicker\"},{\"attributes\":{\"formatter\":{\"id\":\"10888\"},\"ticker\":{\"id\":\"10460\"}},\"id\":\"10459\",\"type\":\"LinearAxis\"},{\"attributes\":{},\"id\":\"10893\",\"type\":\"Selection\"},{\"attributes\":{\"formatter\":{\"id\":\"10890\"},\"ticker\":{\"id\":\"10464\"}},\"id\":\"10463\",\"type\":\"LinearAxis\"},{\"attributes\":{},\"id\":\"10472\",\"type\":\"HelpTool\"},{\"attributes\":{\"line_color\":\"red\",\"x\":{\"field\":\"x\"},\"y\":{\"field\":\"y\"}},\"id\":\"10491\",\"type\":\"Line\"},{\"attributes\":{},\"id\":\"10890\",\"type\":\"BasicTickFormatter\"},{\"attributes\":{\"overlay\":{\"id\":\"10473\"}},\"id\":\"10469\",\"type\":\"BoxZoomTool\"},{\"attributes\":{\"source\":{\"id\":\"10482\"}},\"id\":\"10494\",\"type\":\"CDSView\"},{\"attributes\":{},\"id\":\"10470\",\"type\":\"SaveTool\"},{\"attributes\":{\"data\":{\"color\":[\"blue\",\"blue\",\"blue\",\"blue\",\"blue\",\"blue\",\"blue\",\"blue\",\"blue\",\"blue\",\"blue\",\"blue\",\"blue\",\"blue\",\"blue\",\"blue\",\"blue\",\"blue\",\"blue\",\"blue\"],\"size\":[4,4,4,4,4,4,4,4,4,4,4,4,4,4,4,4,4,4,4,4],\"x\":{\"__ndarray__\":\"wAGkKlci579syWOWpDICwG5Ow6D9Ovy/6bBULBZjAcBiFHHgxrrmv0jfKbqYas8/BtlNlsP9AcBwMzCCnK3YvwEHNtda2P+/BIG8/K8L8r/r35E+Imbjv7xXYY24HPe/+EDYXnHP7L8wfV/IJknvv/AbW1fm5P6/MI79dpec7r+Wo6qjiRfhvy6QZFyZ/eG/o6NdMZ13+b8SsgngQDjgvw==\",\"dtype\":\"float64\",\"order\":\"little\",\"shape\":[20]},\"y\":{\"__ndarray__\":\"BNMsijuK7D+v+o8dR1Hgv/4613YSYPu/JqatWW8v+L8wG6gqnpvov6Irrkbbhe8/+iNKs7/+17++5abJqJTev2SGtmNcXQPAAJi/3uyWvz8vF5feiKnwv353geXXZ/O/wsFrFJ6l/r/Yp1nWy57ZP5C9dpbRG/G/Uh4X9uQbAMAkF+InVTwAwL/8jM0DfQDA/KHyPKYs2L/D6F1F2Y3yvw==\",\"dtype\":\"float64\",\"order\":\"little\",\"shape\":[20]}},\"selected\":{\"id\":\"10893\"},\"selection_policy\":{\"id\":\"10894\"}},\"id\":\"10483\",\"type\":\"ColumnDataSource\"},{\"attributes\":{},\"id\":\"10453\",\"type\":\"DataRange1d\"},{\"attributes\":{\"text\":\"Reduced Convex Hull with \\u03bc=0.10\"},\"id\":\"10449\",\"type\":\"Title\"},{\"attributes\":{},\"id\":\"10455\",\"type\":\"LinearScale\"},{\"attributes\":{\"source\":{\"id\":\"10483\"}},\"id\":\"10489\",\"type\":\"CDSView\"},{\"attributes\":{\"fill_color\":{\"field\":\"color\"},\"line_color\":{\"field\":\"color\"},\"size\":{\"field\":\"size\",\"units\":\"screen\"},\"x\":{\"field\":\"x\"},\"y\":{\"field\":\"y\"}},\"id\":\"10486\",\"type\":\"Scatter\"},{\"attributes\":{\"data_source\":{\"id\":\"10483\"},\"glyph\":{\"id\":\"10486\"},\"hover_glyph\":null,\"muted_glyph\":null,\"nonselection_glyph\":{\"id\":\"10487\"},\"selection_glyph\":null,\"view\":{\"id\":\"10489\"}},\"id\":\"10488\",\"type\":\"GlyphRenderer\"},{\"attributes\":{},\"id\":\"10464\",\"type\":\"BasicTicker\"},{\"attributes\":{\"source\":{\"id\":\"10481\"}},\"id\":\"10500\",\"type\":\"CDSView\"},{\"attributes\":{},\"id\":\"10898\",\"type\":\"UnionRenderers\"},{\"attributes\":{\"data_source\":{\"id\":\"10481\"},\"glyph\":{\"id\":\"10496\"},\"hover_glyph\":null,\"muted_glyph\":null,\"nonselection_glyph\":{\"id\":\"10497\"},\"selection_glyph\":{\"id\":\"10498\"},\"view\":{\"id\":\"10500\"}},\"id\":\"10499\",\"type\":\"GlyphRenderer\"},{\"attributes\":{\"data\":{\"x\":{\"__ndarray__\":\"nYstHAqk8L92WGff2J/rvzZF2WYYI+a/TZnQf7vX4r/+hcDWVh3iv0shnU4VDOK/RMw5gDFb5L+4VWT1URrmvzA+mYDIiOy/9hn3Lz/s778lPG3iZk3yv75z1TT8a/S/H1NP4RlA97/BXJYdev75v7SyGpEopPu/Wryi5VoB/L+0brSp+wn8vzoZ5pBt4vq/f9RQVt0C+r9DYLYQosv2v2ByB7nmGfW/NcOVbp/C8r+diy0cCqTwvw==\",\"dtype\":\"float64\",\"order\":\"little\",\"shape\":[23]},\"y\":{\"__ndarray__\":\"nENgCFBxvb8m3nTJnwnHvzCxtHKaG9a/ZALtbsZw4L8LW8s1/Pbmv8PiJZZ7sO6/fCEiXFa28r9qsLlyBqX0v364JEJT9fi/gEvaoGQi+r+Op0lBjlL7v2VrRu37Xfu/2tOd9NxT+r9SQx9RKq73v2vuVbat/PS/GMLm0pK58b94/HJFprnrv0acVCN1/eS/aX4l9hQg4b+A3J6u9v7Qv/UgkWdilci/BoEsyCoovr+cQ2AIUHG9vw==\",\"dtype\":\"float64\",\"order\":\"little\",\"shape\":[23]}},\"selected\":{\"id\":\"10895\"},\"selection_policy\":{\"id\":\"10896\"}},\"id\":\"10482\",\"type\":\"ColumnDataSource\"},{\"attributes\":{},\"id\":\"10897\",\"type\":\"Selection\"},{\"attributes\":{},\"id\":\"10471\",\"type\":\"ResetTool\"},{\"attributes\":{\"fill_alpha\":{\"value\":0.1},\"fill_color\":{\"field\":\"color\"},\"line_alpha\":{\"value\":0.1},\"line_color\":{\"field\":\"color\"},\"size\":{\"field\":\"size\",\"units\":\"screen\"},\"x\":{\"field\":\"x\"},\"y\":{\"field\":\"y\"}},\"id\":\"10487\",\"type\":\"Scatter\"},{\"attributes\":{\"fill_color\":{\"value\":\"red\"},\"line_color\":{\"value\":\"red\"},\"size\":{\"units\":\"screen\",\"value\":10},\"x\":{\"field\":\"x\"},\"y\":{\"field\":\"y\"}},\"id\":\"10498\",\"type\":\"Circle\"},{\"attributes\":{},\"id\":\"10896\",\"type\":\"UnionRenderers\"},{\"attributes\":{\"line_alpha\":0.1,\"line_color\":\"red\",\"x\":{\"field\":\"x\"},\"y\":{\"field\":\"y\"}},\"id\":\"10492\",\"type\":\"Line\"},{\"attributes\":{\"args\":{\"data\":{\"id\":\"10481\"},\"info\":[[[-1.0400487042140647,-0.11501026348584137],[5,0,13,9,6,18,7,1,4,10]],[[-0.863262592635478,-0.17998120629066355],[5,0,13,7,9,4,10,19,18,6]],[[-0.691784096599952,-0.3454347725080593],[5,0,13,7,9,4,19,10,18,16]],[[-0.5888345238097742,-0.5137664953727605],[5,0,7,13,9,4,19,10,16,17]],[[-0.5660814470649596,-0.7176495600386671],[5,7,19,16,10,0,17,4,13,12]],[[-0.5639750037599155,-0.9590433056428868],[5,16,17,7,19,10,4,12,15,0]],[[-0.6361320022973662,-1.1695159529645869],[16,17,19,5,12,15,7,10,4,11]],[[-0.690712909012908,-1.2902893525561248],[16,17,12,15,19,10,7,4,5,8]],[[-0.8916971694652087,-1.5598938544967775],[17,16,15,12,19,10,8,7,4,2]],[[-0.9975887238331882,-1.6333967479046976],[17,16,15,12,8,19,10,2,11,4]],[[-1.1438969464104585,-1.7076551962186133],[17,16,8,15,12,2,19,10,3,11]],[[-1.276363569623967,-1.7104453342969574],[8,17,16,15,12,2,3,11,19,14]],[[-1.4531496812025535,-1.6454743914921353],[8,3,2,15,14,12,17,1,16,11]],[[-1.62462817723808,-1.4800208252747393],[8,3,2,14,1,15,6,12,11,17]],[[-1.7275777500282574,-1.3116891024100379],[8,3,2,1,14,6,11,15,12,18]],[[-1.7503308267730717,-1.1078060377441314],[1,6,3,8,14,2,18,11,9,15]],[[-1.752437270078116,-0.8664122921399118],[1,6,3,14,8,18,2,11,9,13]],[[-1.6802802715406657,-0.655939644818212],[6,1,3,14,18,9,13,2,8,0]],[[-1.6256993648251237,-0.535166245226674],[6,1,18,3,14,0,13,9,2,11]],[[-1.424715104372823,-0.2655617432860211],[6,1,0,13,9,18,14,3,5,11]],[[-1.3188235500048435,-0.1920588498781012],[0,13,6,5,1,9,18,14,3,7]],[[-1.172515327427573,-0.11780040156418545],[0,5,13,9,6,1,18,14,7,4]],[[-1.0400487042140647,-0.11501026348584137],[5,0,13,9,6,18,7,1,4,10]]],\"pts\":{\"id\":\"10483\"}},\"code\":\"\\n    var selected = data.selected.indices[0];\\n    var support = info[selected][1] ;\\n    var special = info[selected][1][info[selected][1].length-1] ;\\n    for(let i=0; i<pts.data['color'].length;i++){\\n        pts.data['color'][i]=support.includes(i)?'green':'blue';\\n        pts.data['size'][i]=support.includes(i)?10:4 ;\\n    }\\n    pts.data['color'][special]='#33ee00' ;\\n    pts.change.emit() ;\\n\"},\"id\":\"10484\",\"type\":\"CustomJS\"}],\"root_ids\":[\"10448\"]},\"title\":\"Bokeh Application\",\"version\":\"2.2.3\"}};\n",
       "  var render_items = [{\"docid\":\"ba1abe9f-3d97-4354-8249-b1a2dc298ed1\",\"root_ids\":[\"10448\"],\"roots\":{\"10448\":\"c641cfb6-3a12-45cb-b407-04860434e30f\"}}];\n",
       "  root.Bokeh.embed.embed_items_notebook(docs_json, render_items);\n",
       "\n",
       "  }\n",
       "  if (root.Bokeh !== undefined) {\n",
       "    embed_document(root);\n",
       "  } else {\n",
       "    var attempts = 0;\n",
       "    var timer = setInterval(function(root) {\n",
       "      if (root.Bokeh !== undefined) {\n",
       "        clearInterval(timer);\n",
       "        embed_document(root);\n",
       "      } else {\n",
       "        attempts++;\n",
       "        if (attempts > 100) {\n",
       "          clearInterval(timer);\n",
       "          console.log(\"Bokeh: ERROR: Unable to run BokehJS code because BokehJS library is missing\");\n",
       "        }\n",
       "      }\n",
       "    }, 10, root)\n",
       "  }\n",
       "})(window);"
      ],
      "application/vnd.bokehjs_exec.v0+json": ""
     },
     "metadata": {
      "application/vnd.bokehjs_exec.v0+json": {
       "id": "10448"
      }
     },
     "output_type": "display_data"
    }
   ],
   "source": [
    "show(Ar.fig())"
   ]
  },
  {
   "cell_type": "code",
   "execution_count": 117,
   "id": "regulated-flower",
   "metadata": {},
   "outputs": [],
   "source": [
    "data2A = ColumnDataSource({\"x\": Ar.vertices[:, 0], \"y\": Ar.vertices[:, 1]})\n",
    "data2B = ColumnDataSource({\"x\": Br.vertices[:, 0], \"y\": Br.vertices[:, 1]})"
   ]
  },
  {
   "cell_type": "code",
   "execution_count": 118,
   "id": "classified-tonight",
   "metadata": {},
   "outputs": [],
   "source": [
    "from sklearn.svm import SVC"
   ]
  },
  {
   "cell_type": "code",
   "execution_count": 119,
   "id": "charitable-dodge",
   "metadata": {},
   "outputs": [],
   "source": [
    "data = np.concatenate([A,B],axis=0)\n",
    "labels = np.concatenate([np.zeros(A.shape[0]),np.ones(B.shape[0])],axis=0)"
   ]
  },
  {
   "cell_type": "code",
   "execution_count": 120,
   "id": "spectacular-pharmacy",
   "metadata": {},
   "outputs": [
    {
     "data": {
      "text/plain": [
       "(40,)"
      ]
     },
     "execution_count": 120,
     "metadata": {},
     "output_type": "execute_result"
    }
   ],
   "source": [
    "labels.shape"
   ]
  },
  {
   "cell_type": "code",
   "execution_count": 121,
   "id": "raising-savannah",
   "metadata": {},
   "outputs": [
    {
     "data": {
      "text/html": [
       "\n",
       "\n",
       "\n",
       "\n",
       "\n",
       "\n",
       "  <div class=\"bk-root\" id=\"214e3092-7ca5-4f61-a4ac-d95fc51b2e8e\" data-root-id=\"10961\"></div>\n"
      ]
     },
     "metadata": {},
     "output_type": "display_data"
    },
    {
     "data": {
      "application/javascript": [
       "(function(root) {\n",
       "  function embed_document(root) {\n",
       "    \n",
       "  var docs_json = {\"57c1ac1e-26e6-4703-a4f0-057ec58e7a31\":{\"roots\":{\"references\":[{\"attributes\":{\"below\":[{\"id\":\"10972\"}],\"center\":[{\"id\":\"10975\"},{\"id\":\"10979\"}],\"left\":[{\"id\":\"10976\"}],\"renderers\":[{\"id\":\"10997\"},{\"id\":\"11002\"},{\"id\":\"11007\"},{\"id\":\"11012\"},{\"id\":\"11017\"}],\"title\":{\"id\":\"10962\"},\"toolbar\":{\"id\":\"10987\"},\"x_range\":{\"id\":\"10964\"},\"x_scale\":{\"id\":\"10968\"},\"y_range\":{\"id\":\"10966\"},\"y_scale\":{\"id\":\"10970\"}},\"id\":\"10961\",\"subtype\":\"Figure\",\"type\":\"Plot\"},{\"attributes\":{\"formatter\":{\"id\":\"11418\"},\"ticker\":{\"id\":\"10977\"}},\"id\":\"10976\",\"type\":\"LinearAxis\"},{\"attributes\":{\"data\":{\"x\":{\"__ndarray__\":\"wAGkKlci579syWOWpDICwG5Ow6D9Ovy/6bBULBZjAcBiFHHgxrrmv0jfKbqYas8/BtlNlsP9AcBwMzCCnK3YvwEHNtda2P+/BIG8/K8L8r/r35E+Imbjv7xXYY24HPe/+EDYXnHP7L8wfV/IJknvv/AbW1fm5P6/MI79dpec7r+Wo6qjiRfhvy6QZFyZ/eG/o6NdMZ13+b8SsgngQDjgvw==\",\"dtype\":\"float64\",\"order\":\"little\",\"shape\":[20]},\"y\":{\"__ndarray__\":\"BNMsijuK7D+v+o8dR1Hgv/4613YSYPu/JqatWW8v+L8wG6gqnpvov6Irrkbbhe8/+iNKs7/+17++5abJqJTev2SGtmNcXQPAAJi/3uyWvz8vF5feiKnwv353geXXZ/O/wsFrFJ6l/r/Yp1nWy57ZP5C9dpbRG/G/Uh4X9uQbAMAkF+InVTwAwL/8jM0DfQDA/KHyPKYs2L/D6F1F2Y3yvw==\",\"dtype\":\"float64\",\"order\":\"little\",\"shape\":[20]}},\"selected\":{\"id\":\"11421\"},\"selection_policy\":{\"id\":\"11422\"}},\"id\":\"10994\",\"type\":\"ColumnDataSource\"},{\"attributes\":{\"source\":{\"id\":\"10999\"}},\"id\":\"11003\",\"type\":\"CDSView\"},{\"attributes\":{\"source\":{\"id\":\"10960\"}},\"id\":\"11013\",\"type\":\"CDSView\"},{\"attributes\":{\"formatter\":{\"id\":\"11416\"},\"ticker\":{\"id\":\"10973\"}},\"id\":\"10972\",\"type\":\"LinearAxis\"},{\"attributes\":{},\"id\":\"10966\",\"type\":\"DataRange1d\"},{\"attributes\":{},\"id\":\"11416\",\"type\":\"BasicTickFormatter\"},{\"attributes\":{},\"id\":\"10983\",\"type\":\"SaveTool\"},{\"attributes\":{\"axis\":{\"id\":\"10972\"},\"ticker\":null},\"id\":\"10975\",\"type\":\"Grid\"},{\"attributes\":{\"source\":{\"id\":\"10994\"}},\"id\":\"10998\",\"type\":\"CDSView\"},{\"attributes\":{\"data\":{\"x\":{\"__ndarray__\":\"fsCjl06R6b/ATt3T46LNvwoqmtS0LtI/3KcmkR2g5b9SwXZfMJP4P5Nu694ovPA/Agolt8aG8j98N0uCBvX8P6AJ+ERlSN8/+mgCyHCn+T+gondezRysPzmbYmkJY+Q/gGMfDjNlnj8win/mbAICQEgGMQNO7uo/9ELNv0yz9T8WKfYSFAHxv8LzSXnvhfI/Ssb7EvyD+j9gED8Dpm7Gvw==\",\"dtype\":\"float64\",\"order\":\"little\",\"shape\":[20]},\"y\":{\"__ndarray__\":\"oLhNBAFlq798ZE6RXazlP8xbT/vieuQ/oWrQmN3jCUDW4jj4JInvP7im/S4TTs0/K2YUu8Ao8T+aj1J2BNnyP9fE3KFl2vc/LlX9qY9+7z8Knuqr183kP3hyrr0Dp/8/sL8SLriM3D/WVath7bXrP7rRc9t7Lei/U22gz0YL/j/JLSG5xg0IQJLKzk0lmtA/8wThn6LPDUA9nhMO6s/mPw==\",\"dtype\":\"float64\",\"order\":\"little\",\"shape\":[20]}},\"selected\":{\"id\":\"11423\"},\"selection_policy\":{\"id\":\"11424\"}},\"id\":\"10999\",\"type\":\"ColumnDataSource\"},{\"attributes\":{\"data\":{\"x\":{\"__ndarray__\":\"nYstHAqk8L92WGff2J/rvzZF2WYYI+a/TZnQf7vX4r/+hcDWVh3iv0shnU4VDOK/RMw5gDFb5L+4VWT1URrmvzA+mYDIiOy/9hn3Lz/s778lPG3iZk3yv75z1TT8a/S/H1NP4RlA97/BXJYdev75v7SyGpEopPu/Wryi5VoB/L+0brSp+wn8vzoZ5pBt4vq/f9RQVt0C+r9DYLYQosv2v2ByB7nmGfW/NcOVbp/C8r+diy0cCqTwvw==\",\"dtype\":\"float64\",\"order\":\"little\",\"shape\":[23]},\"y\":{\"__ndarray__\":\"nENgCFBxvb8m3nTJnwnHvzCxtHKaG9a/ZALtbsZw4L8LW8s1/Pbmv8PiJZZ7sO6/fCEiXFa28r9qsLlyBqX0v364JEJT9fi/gEvaoGQi+r+Op0lBjlL7v2VrRu37Xfu/2tOd9NxT+r9SQx9RKq73v2vuVbat/PS/GMLm0pK58b94/HJFprnrv0acVCN1/eS/aX4l9hQg4b+A3J6u9v7Qv/UgkWdilci/BoEsyCoovr+cQ2AIUHG9vw==\",\"dtype\":\"float64\",\"order\":\"little\",\"shape\":[23]}},\"selected\":{\"id\":\"11425\"},\"selection_policy\":{\"id\":\"11426\"}},\"id\":\"10959\",\"type\":\"ColumnDataSource\"},{\"attributes\":{\"line_color\":\"red\",\"x\":{\"field\":\"x\"},\"y\":{\"field\":\"y\"}},\"id\":\"11005\",\"type\":\"Line\"},{\"attributes\":{},\"id\":\"10981\",\"type\":\"WheelZoomTool\"},{\"attributes\":{\"overlay\":{\"id\":\"10986\"}},\"id\":\"10982\",\"type\":\"BoxZoomTool\"},{\"attributes\":{\"active_drag\":\"auto\",\"active_inspect\":\"auto\",\"active_multi\":null,\"active_scroll\":\"auto\",\"active_tap\":\"auto\",\"tools\":[{\"id\":\"10980\"},{\"id\":\"10981\"},{\"id\":\"10982\"},{\"id\":\"10983\"},{\"id\":\"10984\"},{\"id\":\"10985\"}]},\"id\":\"10987\",\"type\":\"Toolbar\"},{\"attributes\":{\"fill_color\":{\"value\":\"blue\"},\"line_color\":{\"value\":\"blue\"},\"x\":{\"field\":\"x\"},\"y\":{\"field\":\"y\"}},\"id\":\"10995\",\"type\":\"Scatter\"},{\"attributes\":{\"data\":{\"x\":{\"__ndarray__\":\"mkFrrKM56z/R6+xbkoPtP+B2MBdBue4/M7yV4rFu8D/B85psNuryP1Lh/T822fU/vAVcAWu99j+wJHNvLhH3PxwFESbA3vQ/LL4b9GC/8j/lGTbnvgPxP+Ozn+erO+8/aJv04gue6T9g7JDqIvbjP1hU9wQqitw/6v/zpUz21z/M6Wwv74rVP8LmdtOpQtE/OiKIrV5SvT/htqaInp2xv4f9iJ7q4L+/aHb9v5COwr+nOI+dzmN/v4N7ezW2/78/9d/qgevczT/Hb46OGYbUP76g5JdZwd8/Z/9VxJWI5T+aQWusoznrPw==\",\"dtype\":\"float64\",\"order\":\"little\",\"shape\":[29]},\"y\":{\"__ndarray__\":\"UUuIKBZC/z9EBM4tIBH/Py7STvSB7f4/hZUHqiRC/j9A02NIOtX7P2Lp+H7oEfc//JpfXwsN9T/bkTvORK3wP+qqPg8seuc/1FFsTlrl4j+yshCaO63gPxWCjxvxld4/ps4DdRo12z+T6NTGJTzZP/zDP0Gef9c/L+AoLHZD2D99qCUS79HYPyebQjtkf9s/INLo4IaZ4j/apb5zKiDsP1KheFnyFPA/dqqc6rh09D/d5jix52T5P2QTopFQr/s/9eLP61/L/D/LW/RxgXz9P6ZIlxu3VP4/KwIjR/TS/j9RS4goFkL/Pw==\",\"dtype\":\"float64\",\"order\":\"little\",\"shape\":[29]}},\"selected\":{\"id\":\"11427\"},\"selection_policy\":{\"id\":\"11428\"}},\"id\":\"10960\",\"type\":\"ColumnDataSource\"},{\"attributes\":{},\"id\":\"11428\",\"type\":\"UnionRenderers\"},{\"attributes\":{\"axis\":{\"id\":\"10976\"},\"dimension\":1,\"ticker\":null},\"id\":\"10979\",\"type\":\"Grid\"},{\"attributes\":{\"data_source\":{\"id\":\"11014\"},\"glyph\":{\"id\":\"11015\"},\"hover_glyph\":null,\"muted_glyph\":null,\"nonselection_glyph\":{\"id\":\"11016\"},\"selection_glyph\":null,\"view\":{\"id\":\"11018\"}},\"id\":\"11017\",\"type\":\"GlyphRenderer\"},{\"attributes\":{\"bottom_units\":\"screen\",\"fill_alpha\":0.5,\"fill_color\":\"lightgrey\",\"left_units\":\"screen\",\"level\":\"overlay\",\"line_alpha\":1.0,\"line_color\":\"black\",\"line_dash\":[4,4],\"line_width\":2,\"right_units\":\"screen\",\"top_units\":\"screen\"},\"id\":\"10986\",\"type\":\"BoxAnnotation\"},{\"attributes\":{\"data_source\":{\"id\":\"10994\"},\"glyph\":{\"id\":\"10995\"},\"hover_glyph\":null,\"muted_glyph\":null,\"nonselection_glyph\":{\"id\":\"10996\"},\"selection_glyph\":null,\"view\":{\"id\":\"10998\"}},\"id\":\"10997\",\"type\":\"GlyphRenderer\"},{\"attributes\":{},\"id\":\"11421\",\"type\":\"Selection\"},{\"attributes\":{},\"id\":\"10968\",\"type\":\"LinearScale\"},{\"attributes\":{\"text\":\"Hyperplane Separating Reduced Convex Hulls\"},\"id\":\"10962\",\"type\":\"Title\"},{\"attributes\":{\"line_alpha\":0.1,\"line_color\":\"red\",\"x\":{\"field\":\"x\"},\"y\":{\"field\":\"y\"}},\"id\":\"11016\",\"type\":\"Line\"},{\"attributes\":{},\"id\":\"10984\",\"type\":\"ResetTool\"},{\"attributes\":{\"data_source\":{\"id\":\"10999\"},\"glyph\":{\"id\":\"11000\"},\"hover_glyph\":null,\"muted_glyph\":null,\"nonselection_glyph\":{\"id\":\"11001\"},\"selection_glyph\":null,\"view\":{\"id\":\"11003\"}},\"id\":\"11002\",\"type\":\"GlyphRenderer\"},{\"attributes\":{},\"id\":\"11422\",\"type\":\"UnionRenderers\"},{\"attributes\":{},\"id\":\"10964\",\"type\":\"DataRange1d\"},{\"attributes\":{\"fill_alpha\":{\"value\":0.1},\"fill_color\":{\"value\":\"green\"},\"line_alpha\":{\"value\":0.1},\"line_color\":{\"value\":\"green\"},\"x\":{\"field\":\"x\"},\"y\":{\"field\":\"y\"}},\"id\":\"11001\",\"type\":\"Scatter\"},{\"attributes\":{\"line_alpha\":0.1,\"line_color\":\"red\",\"x\":{\"field\":\"x\"},\"y\":{\"field\":\"y\"}},\"id\":\"11011\",\"type\":\"Line\"},{\"attributes\":{\"source\":{\"id\":\"11014\"}},\"id\":\"11018\",\"type\":\"CDSView\"},{\"attributes\":{},\"id\":\"10977\",\"type\":\"BasicTicker\"},{\"attributes\":{},\"id\":\"11424\",\"type\":\"UnionRenderers\"},{\"attributes\":{},\"id\":\"11430\",\"type\":\"UnionRenderers\"},{\"attributes\":{\"data_source\":{\"id\":\"10960\"},\"glyph\":{\"id\":\"11010\"},\"hover_glyph\":null,\"muted_glyph\":null,\"nonselection_glyph\":{\"id\":\"11011\"},\"selection_glyph\":null,\"view\":{\"id\":\"11013\"}},\"id\":\"11012\",\"type\":\"GlyphRenderer\"},{\"attributes\":{},\"id\":\"11423\",\"type\":\"Selection\"},{\"attributes\":{\"fill_color\":{\"value\":\"green\"},\"line_color\":{\"value\":\"green\"},\"x\":{\"field\":\"x\"},\"y\":{\"field\":\"y\"}},\"id\":\"11000\",\"type\":\"Scatter\"},{\"attributes\":{},\"id\":\"10970\",\"type\":\"LinearScale\"},{\"attributes\":{\"data_source\":{\"id\":\"10959\"},\"glyph\":{\"id\":\"11005\"},\"hover_glyph\":null,\"muted_glyph\":null,\"nonselection_glyph\":{\"id\":\"11006\"},\"selection_glyph\":null,\"view\":{\"id\":\"11008\"}},\"id\":\"11007\",\"type\":\"GlyphRenderer\"},{\"attributes\":{},\"id\":\"11425\",\"type\":\"Selection\"},{\"attributes\":{\"line_color\":\"red\",\"x\":{\"field\":\"x\"},\"y\":{\"field\":\"y\"}},\"id\":\"11010\",\"type\":\"Line\"},{\"attributes\":{},\"id\":\"11426\",\"type\":\"UnionRenderers\"},{\"attributes\":{},\"id\":\"10973\",\"type\":\"BasicTicker\"},{\"attributes\":{},\"id\":\"10980\",\"type\":\"PanTool\"},{\"attributes\":{},\"id\":\"10985\",\"type\":\"HelpTool\"},{\"attributes\":{\"source\":{\"id\":\"10959\"}},\"id\":\"11008\",\"type\":\"CDSView\"},{\"attributes\":{\"line_alpha\":0.1,\"line_color\":\"red\",\"x\":{\"field\":\"x\"},\"y\":{\"field\":\"y\"}},\"id\":\"11006\",\"type\":\"Line\"},{\"attributes\":{},\"id\":\"11429\",\"type\":\"Selection\"},{\"attributes\":{},\"id\":\"11418\",\"type\":\"BasicTickFormatter\"},{\"attributes\":{\"fill_alpha\":{\"value\":0.1},\"fill_color\":{\"value\":\"blue\"},\"line_alpha\":{\"value\":0.1},\"line_color\":{\"value\":\"blue\"},\"x\":{\"field\":\"x\"},\"y\":{\"field\":\"y\"}},\"id\":\"10996\",\"type\":\"Scatter\"},{\"attributes\":{\"data\":{\"x\":{\"__ndarray__\":\"AAAAAAAACMCEDz744IMHwAgffPDBBwfAjC666KKLBsAQPvjggw8GwJNNNtlkkwXAF1100UUXBcCbbLLJJpsEwB988MEHHwTAo4suuuiiA8Anm2yyySYDwKqqqqqqqgLALrrooosuAsCyySabbLIBwDbZZJNNNgHAuuiiiy66AMA++OCDDz4AwIQPPvjgg/+/jC666KKL/r+TTTbZZJP9v5tssskmm/y/o4suuuii+7+qqqqqqqr6v7LJJptssvm/uuiiiy66+L/CBx988MH3v8omm2yyyfa/0UUXXXTR9b/ZZJNNNtn0v+GDDz744PO/6KKLLrro8r/wwQcffPDxv/jggw8++PC/AAAAAAAA8L8QPvjggw/uvyB88MEHH+y/MLrooosu6r88+OCDDz7ov0w22WSTTea/XHTRRRdd5L9ssskmm2ziv3zwwQcffOC/GF100UUX3b842WSTTTbZv1BVVVVVVdW/cNFFF1100b8gm2yyySbLv2CTTTbZZMO/QBdddNFFt78AH3zwwQefvwAffPDBB58/QBdddNFFtz9gk0022WTDPzCbbLLJJss/eNFFF1100T9YVVVVVVXVPzjZZJNNNtk/GF100UUX3T988MEHH3zgP2yyySabbOI/YHTRRRdd5D9QNtlkk03mP0D44IMPPug/MLrooosu6j8gfPDBBx/sPxA++OCDD+4/AAAAAAAA8D/44IMPPvjwP/DBBx988PE/6KKLLrro8j/ggw8++ODzP9hkk0022fQ/0EUXXXTR9T/MJptsssn2P8QHH3zwwfc/vOiiiy66+D+0ySabbLL5P6yqqqqqqvo/pIsuuuii+z+cbLLJJpv8P5RNNtlkk/0/jC666KKL/j+EDz744IP/Pz744IMPPgBAuuiiiy66AEA22WSTTTYBQLLJJptssgFALrrooosuAkCsqqqqqqoCQCibbLLJJgNApIsuuuiiA0AgfPDBBx8EQJxssskmmwRAGF100UUXBUCUTTbZZJMFQBA++OCDDwZAjC666KKLBkAIH3zwwQcHQIQPPvjggwdAAAAAAAAACEA=\",\"dtype\":\"float64\",\"order\":\"little\",\"shape\":[100]},\"y\":{\"__ndarray__\":\"jLrXUSpgGUBXrNfTss4YQB6e11U7PRhA5o/X18OrF0CugddZTBoXQHRz19vUiBZAO2XXXV33FUADV9ff5WUVQMtI12Fu1BRAkzrX4/ZCFEBbLNdlf7ETQCMe1+cHIBNA6w/XaZCOEkCzAdfrGP0RQHvz1m2haxFAQ+XW7ynaEEAL19ZxskgQQKWRred1bg9ANXWt64ZLDkDDWK3vlygNQFQ8rfOoBQxA5B+t97niCkBzA637yr8JQALnrP/bnAhAksqsA+15B0AjrqwH/lYGQLORrAsPNAVAQXWsDyARBEDRWKwTMe4CQGE8rBdCywFA7x+sG1OoAEAAB1g/yAr/PyDOV0fqxPw/P5VXTwx/+j9fXFdXLjn4P38jV19Q8/U/n+pWZ3Kt8z+7sVZvlGfxP7TxrO5sQ+4/83+s/rC36T81DqwO9SvlP3Ocqx45oOA/Z1VWXfoo2D/K46r6BCPOP0g5UnUq6Lc/bqliFWrrqL9dcVpFymnIvzAcrgJdTNW/r/+u4tRj3r+Y8Vdhpr3jv1ljWFFiSei/GdVYQR7V7L9so6wYbbDwv1LcrBBL9vK/MRWtCCk89b8RTq0AB4L3v/KGrfjkx/m/07+t8MIN/L+y+K3ooFP+v8kYV3C/TADAOzVXbK5vAcCsUVdonZICwBtuV2SMtQPAi4pXYHvYBMD7pldcavsFwGvDV1hZHgfA3N9XVEhBCMBM/FdQN2QJwLwYWEwmhwrAKzVYSBWqC8CcUVhEBM0MwAxuWEDz7w3AfIpYPOISD8B5Uyyc6BoQwLBhLBpgrBDA6G8smNc9EcAgfiwWT88RwFmMLJTGYBLAkZosEj7yEsDJqCyQtYMTwAG3LA4tFRTAOcUsjKSmFMBx0ywKHDgVwKnhLIiTyRXA4u8sBgtbFsAa/iyEguwWwFIMLQL6fRfAihotgHEPGMDCKC3+6KAYwPo2LXxgMhnAMkUt+tfDGcBqUy14T1UawKNhLfbG5hrA228tdD54G8ATfi3ytQkcwEuMLXAtmxzAg5ot7qQsHcC7qC1sHL4dwPO2LeqTTx7ALMUtaAvhHsA=\",\"dtype\":\"float64\",\"order\":\"little\",\"shape\":[100]}},\"selected\":{\"id\":\"11429\"},\"selection_policy\":{\"id\":\"11430\"}},\"id\":\"11014\",\"type\":\"ColumnDataSource\"},{\"attributes\":{},\"id\":\"11427\",\"type\":\"Selection\"},{\"attributes\":{\"line_color\":\"red\",\"x\":{\"field\":\"x\"},\"y\":{\"field\":\"y\"}},\"id\":\"11015\",\"type\":\"Line\"}],\"root_ids\":[\"10961\"]},\"title\":\"Bokeh Application\",\"version\":\"2.2.3\"}};\n",
       "  var render_items = [{\"docid\":\"57c1ac1e-26e6-4703-a4f0-057ec58e7a31\",\"root_ids\":[\"10961\"],\"roots\":{\"10961\":\"214e3092-7ca5-4f61-a4ac-d95fc51b2e8e\"}}];\n",
       "  root.Bokeh.embed.embed_items_notebook(docs_json, render_items);\n",
       "\n",
       "  }\n",
       "  if (root.Bokeh !== undefined) {\n",
       "    embed_document(root);\n",
       "  } else {\n",
       "    var attempts = 0;\n",
       "    var timer = setInterval(function(root) {\n",
       "      if (root.Bokeh !== undefined) {\n",
       "        clearInterval(timer);\n",
       "        embed_document(root);\n",
       "      } else {\n",
       "        attempts++;\n",
       "        if (attempts > 100) {\n",
       "          clearInterval(timer);\n",
       "          console.log(\"Bokeh: ERROR: Unable to run BokehJS code because BokehJS library is missing\");\n",
       "        }\n",
       "      }\n",
       "    }, 10, root)\n",
       "  }\n",
       "})(window);"
      ],
      "application/vnd.bokehjs_exec.v0+json": ""
     },
     "metadata": {
      "application/vnd.bokehjs_exec.v0+json": {
       "id": "10961"
      }
     },
     "output_type": "display_data"
    }
   ],
   "source": [
    "f=figure(title='Hyperplane Separating Reduced Convex Hulls')\n",
    "f.scatter(x=A[:,0],y=A[:,1],color='blue')\n",
    "f.scatter(x=B[:,0],y=B[:,1],color='green')\n",
    "f.line(x=\"x\", y=\"y\", color=\"red\", source=data2A)\n",
    "f.line(x=\"x\",y=\"y\",color=\"red\",source=data2B)\n",
    "P = SVC(C=C,kernel='linear').fit(data,labels)\n",
    "coefs = (P.dual_coef_.T*P.support_vectors_).sum(axis=0)\n",
    "a = coefs[0]\n",
    "b = coefs[1]\n",
    "c = P.intercept_[0]\n",
    "x = np.linspace(-3,3,100)\n",
    "y=(-c-a*x)/b\n",
    "f.line(x=x,y=y,color='red')\n",
    "plus_indices = np.where(P.dual_coef_[0]>0)[0]\n",
    "minus_indices = np.where(P.dual_coef_[0]<=0)[0]\n",
    "pvecs= (P.dual_coef_.T[plus_indices]*P.support_vectors_[plus_indices,:]).sum(axis=0)\n",
    "qvecs = (P.dual_coef_.T[minus_indices]*P.support_vectors_[minus_indices,:]).sum(axis=0)\n",
    "\n",
    "show(f)"
   ]
  },
  {
   "cell_type": "code",
   "execution_count": 122,
   "id": "sharp-sector",
   "metadata": {},
   "outputs": [],
   "source": [
    "import matplotlib.pyplot as plt"
   ]
  },
  {
   "cell_type": "code",
   "execution_count": 124,
   "id": "viral-behavior",
   "metadata": {},
   "outputs": [
    {
     "data": {
      "text/plain": [
       "SVC(gamma=2, kernel='poly')"
      ]
     },
     "execution_count": 124,
     "metadata": {},
     "output_type": "execute_result"
    }
   ],
   "source": [
    "P = SVC(kernel='poly',gamma=2)\n",
    "P.fit(data,labels)"
   ]
  },
  {
   "cell_type": "code",
   "execution_count": 151,
   "id": "fuzzy-istanbul",
   "metadata": {},
   "outputs": [
    {
     "data": {
      "text/plain": [
       "<Figure size 432x288 with 0 Axes>"
      ]
     },
     "metadata": {},
     "output_type": "display_data"
    },
    {
     "data": {
      "image/png": "[encoded data removed]",
      "text/plain": [
       "<Figure size 720x720 with 1 Axes>"
      ]
     },
     "metadata": {
      "needs_background": "light"
     },
     "output_type": "display_data"
    }
   ],
   "source": [
    "plt.clf()\n",
    "fig=plt.figure()\n",
    "ax = fig.add_subplot(111)\n",
    "fig.set_size_inches(10,10)\n",
    "ax.scatter(P.support_vectors_[:,0],P.support_vectors_[:,1],s=80,facecolors='none',zorder=10,edgecolors='k')\n",
    "ax.scatter(data[:,0],data[:,1],c=labels,zorder=10,cmap=plt.cm.Paired, edgecolors='k')\n",
    "xx,yy = np.mgrid[-5:5:200j,-5:5:200j]\n",
    "z = P.decision_function(np.c_[xx.ravel(),yy.ravel()])\n",
    "z = z.reshape(xx.shape)\n",
    "plt.pcolormesh(xx,yy,z > 0, cmap=plt.cm.Paired,shading='auto')\n",
    "plt.contour(xx,yy,z, colors=['k', 'k', 'k'], linestyles=['--', '-', '--'],\n",
    "                levels=[-.5, 0, .5])\n",
    "plt.title(\"Polynomial Support Vector Machine\")\n",
    "fig.savefig('/home/jet08013/GitHub/Math-3094-Spring-2021/SVM/img/PolynomialKernel.png')"
   ]
  },
  {
   "cell_type": "code",
   "execution_count": null,
   "id": "acceptable-updating",
   "metadata": {},
   "outputs": [],
   "source": []
  }
 ],
 "metadata": {
  "kernelspec": {
   "display_name": "Python 3",
   "language": "python",
   "name": "python3"
  },
  "language_info": {
   "codemirror_mode": {
    "name": "ipython",
    "version": 3
   },
   "file_extension": ".py",
   "mimetype": "text/x-python",
   "name": "python",
   "nbconvert_exporter": "python",
   "pygments_lexer": "ipython3",
   "version": "3.7.9"
  }
 },
 "nbformat": 4,
 "nbformat_minor": 5
}
