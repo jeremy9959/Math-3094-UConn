{
 "cells": [
  {
   "cell_type": "markdown",
   "metadata": {},
   "source": [
    "## Loading the basic libraries"
   ]
  },
  {
   "cell_type": "code",
   "execution_count": 75,
   "metadata": {},
   "outputs": [
    {
     "data": {
      "text/html": [
       "\n",
       "    <div class=\"bk-root\">\n",
       "        <a href=\"https://bokeh.org\" target=\"_blank\" class=\"bk-logo bk-logo-small bk-logo-notebook\"></a>\n",
       "        <span id=\"1082\">Loading BokehJS ...</span>\n",
       "    </div>"
      ]
     },
     "metadata": {},
     "output_type": "display_data"
    },
    {
     "data": {
      "application/javascript": [
       "\n",
       "(function(root) {\n",
       "  function now() {\n",
       "    return new Date();\n",
       "  }\n",
       "\n",
       "  var force = true;\n",
       "\n",
       "  if (typeof root._bokeh_onload_callbacks === \"undefined\" || force === true) {\n",
       "    root._bokeh_onload_callbacks = [];\n",
       "    root._bokeh_is_loading = undefined;\n",
       "  }\n",
       "\n",
       "  var JS_MIME_TYPE = 'application/javascript';\n",
       "  var HTML_MIME_TYPE = 'text/html';\n",
       "  var EXEC_MIME_TYPE = 'application/vnd.bokehjs_exec.v0+json';\n",
       "  var CLASS_NAME = 'output_bokeh rendered_html';\n",
       "\n",
       "  /**\n",
       "   * Render data to the DOM node\n",
       "   */\n",
       "  function render(props, node) {\n",
       "    var script = document.createElement(\"script\");\n",
       "    node.appendChild(script);\n",
       "  }\n",
       "\n",
       "  /**\n",
       "   * Handle when an output is cleared or removed\n",
       "   */\n",
       "  function handleClearOutput(event, handle) {\n",
       "    var cell = handle.cell;\n",
       "\n",
       "    var id = cell.output_area._bokeh_element_id;\n",
       "    var server_id = cell.output_area._bokeh_server_id;\n",
       "    // Clean up Bokeh references\n",
       "    if (id != null && id in Bokeh.index) {\n",
       "      Bokeh.index[id].model.document.clear();\n",
       "      delete Bokeh.index[id];\n",
       "    }\n",
       "\n",
       "    if (server_id !== undefined) {\n",
       "      // Clean up Bokeh references\n",
       "      var cmd = \"from bokeh.io.state import curstate; print(curstate().uuid_to_server['\" + server_id + \"'].get_sessions()[0].document.roots[0]._id)\";\n",
       "      cell.notebook.kernel.execute(cmd, {\n",
       "        iopub: {\n",
       "          output: function(msg) {\n",
       "            var id = msg.content.text.trim();\n",
       "            if (id in Bokeh.index) {\n",
       "              Bokeh.index[id].model.document.clear();\n",
       "              delete Bokeh.index[id];\n",
       "            }\n",
       "          }\n",
       "        }\n",
       "      });\n",
       "      // Destroy server and session\n",
       "      var cmd = \"import bokeh.io.notebook as ion; ion.destroy_server('\" + server_id + \"')\";\n",
       "      cell.notebook.kernel.execute(cmd);\n",
       "    }\n",
       "  }\n",
       "\n",
       "  /**\n",
       "   * Handle when a new output is added\n",
       "   */\n",
       "  function handleAddOutput(event, handle) {\n",
       "    var output_area = handle.output_area;\n",
       "    var output = handle.output;\n",
       "\n",
       "    // limit handleAddOutput to display_data with EXEC_MIME_TYPE content only\n",
       "    if ((output.output_type != \"display_data\") || (!output.data.hasOwnProperty(EXEC_MIME_TYPE))) {\n",
       "      return\n",
       "    }\n",
       "\n",
       "    var toinsert = output_area.element.find(\".\" + CLASS_NAME.split(' ')[0]);\n",
       "\n",
       "    if (output.metadata[EXEC_MIME_TYPE][\"id\"] !== undefined) {\n",
       "      toinsert[toinsert.length - 1].firstChild.textContent = output.data[JS_MIME_TYPE];\n",
       "      // store reference to embed id on output_area\n",
       "      output_area._bokeh_element_id = output.metadata[EXEC_MIME_TYPE][\"id\"];\n",
       "    }\n",
       "    if (output.metadata[EXEC_MIME_TYPE][\"server_id\"] !== undefined) {\n",
       "      var bk_div = document.createElement(\"div\");\n",
       "      bk_div.innerHTML = output.data[HTML_MIME_TYPE];\n",
       "      var script_attrs = bk_div.children[0].attributes;\n",
       "      for (var i = 0; i < script_attrs.length; i++) {\n",
       "        toinsert[toinsert.length - 1].firstChild.setAttribute(script_attrs[i].name, script_attrs[i].value);\n",
       "        toinsert[toinsert.length - 1].firstChild.textContent = bk_div.children[0].textContent\n",
       "      }\n",
       "      // store reference to server id on output_area\n",
       "      output_area._bokeh_server_id = output.metadata[EXEC_MIME_TYPE][\"server_id\"];\n",
       "    }\n",
       "  }\n",
       "\n",
       "  function register_renderer(events, OutputArea) {\n",
       "\n",
       "    function append_mime(data, metadata, element) {\n",
       "      // create a DOM node to render to\n",
       "      var toinsert = this.create_output_subarea(\n",
       "        metadata,\n",
       "        CLASS_NAME,\n",
       "        EXEC_MIME_TYPE\n",
       "      );\n",
       "      this.keyboard_manager.register_events(toinsert);\n",
       "      // Render to node\n",
       "      var props = {data: data, metadata: metadata[EXEC_MIME_TYPE]};\n",
       "      render(props, toinsert[toinsert.length - 1]);\n",
       "      element.append(toinsert);\n",
       "      return toinsert\n",
       "    }\n",
       "\n",
       "    /* Handle when an output is cleared or removed */\n",
       "    events.on('clear_output.CodeCell', handleClearOutput);\n",
       "    events.on('delete.Cell', handleClearOutput);\n",
       "\n",
       "    /* Handle when a new output is added */\n",
       "    events.on('output_added.OutputArea', handleAddOutput);\n",
       "\n",
       "    /**\n",
       "     * Register the mime type and append_mime function with output_area\n",
       "     */\n",
       "    OutputArea.prototype.register_mime_type(EXEC_MIME_TYPE, append_mime, {\n",
       "      /* Is output safe? */\n",
       "      safe: true,\n",
       "      /* Index of renderer in `output_area.display_order` */\n",
       "      index: 0\n",
       "    });\n",
       "  }\n",
       "\n",
       "  // register the mime type if in Jupyter Notebook environment and previously unregistered\n",
       "  if (root.Jupyter !== undefined) {\n",
       "    var events = require('base/js/events');\n",
       "    var OutputArea = require('notebook/js/outputarea').OutputArea;\n",
       "\n",
       "    if (OutputArea.prototype.mime_types().indexOf(EXEC_MIME_TYPE) == -1) {\n",
       "      register_renderer(events, OutputArea);\n",
       "    }\n",
       "  }\n",
       "\n",
       "  \n",
       "  if (typeof (root._bokeh_timeout) === \"undefined\" || force === true) {\n",
       "    root._bokeh_timeout = Date.now() + 5000;\n",
       "    root._bokeh_failed_load = false;\n",
       "  }\n",
       "\n",
       "  var NB_LOAD_WARNING = {'data': {'text/html':\n",
       "     \"<div style='background-color: #fdd'>\\n\"+\n",
       "     \"<p>\\n\"+\n",
       "     \"BokehJS does not appear to have successfully loaded. If loading BokehJS from CDN, this \\n\"+\n",
       "     \"may be due to a slow or bad network connection. Possible fixes:\\n\"+\n",
       "     \"</p>\\n\"+\n",
       "     \"<ul>\\n\"+\n",
       "     \"<li>re-rerun `output_notebook()` to attempt to load from CDN again, or</li>\\n\"+\n",
       "     \"<li>use INLINE resources instead, as so:</li>\\n\"+\n",
       "     \"</ul>\\n\"+\n",
       "     \"<code>\\n\"+\n",
       "     \"from bokeh.resources import INLINE\\n\"+\n",
       "     \"output_notebook(resources=INLINE)\\n\"+\n",
       "     \"</code>\\n\"+\n",
       "     \"</div>\"}};\n",
       "\n",
       "  function display_loaded() {\n",
       "    var el = document.getElementById(\"1082\");\n",
       "    if (el != null) {\n",
       "      el.textContent = \"BokehJS is loading...\";\n",
       "    }\n",
       "    if (root.Bokeh !== undefined) {\n",
       "      if (el != null) {\n",
       "        el.textContent = \"BokehJS \" + root.Bokeh.version + \" successfully loaded.\";\n",
       "      }\n",
       "    } else if (Date.now() < root._bokeh_timeout) {\n",
       "      setTimeout(display_loaded, 100)\n",
       "    }\n",
       "  }\n",
       "\n",
       "\n",
       "  function run_callbacks() {\n",
       "    try {\n",
       "      root._bokeh_onload_callbacks.forEach(function(callback) {\n",
       "        if (callback != null)\n",
       "          callback();\n",
       "      });\n",
       "    } finally {\n",
       "      delete root._bokeh_onload_callbacks\n",
       "    }\n",
       "    console.debug(\"Bokeh: all callbacks have finished\");\n",
       "  }\n",
       "\n",
       "  function load_libs(css_urls, js_urls, callback) {\n",
       "    if (css_urls == null) css_urls = [];\n",
       "    if (js_urls == null) js_urls = [];\n",
       "\n",
       "    root._bokeh_onload_callbacks.push(callback);\n",
       "    if (root._bokeh_is_loading > 0) {\n",
       "      console.debug(\"Bokeh: BokehJS is being loaded, scheduling callback at\", now());\n",
       "      return null;\n",
       "    }\n",
       "    if (js_urls == null || js_urls.length === 0) {\n",
       "      run_callbacks();\n",
       "      return null;\n",
       "    }\n",
       "    console.debug(\"Bokeh: BokehJS not loaded, scheduling load and callback at\", now());\n",
       "    root._bokeh_is_loading = css_urls.length + js_urls.length;\n",
       "\n",
       "    function on_load() {\n",
       "      root._bokeh_is_loading--;\n",
       "      if (root._bokeh_is_loading === 0) {\n",
       "        console.debug(\"Bokeh: all BokehJS libraries/stylesheets loaded\");\n",
       "        run_callbacks()\n",
       "      }\n",
       "    }\n",
       "\n",
       "    function on_error() {\n",
       "      console.error(\"failed to load \" + url);\n",
       "    }\n",
       "\n",
       "    for (var i = 0; i < css_urls.length; i++) {\n",
       "      var url = css_urls[i];\n",
       "      const element = document.createElement(\"link\");\n",
       "      element.onload = on_load;\n",
       "      element.onerror = on_error;\n",
       "      element.rel = \"stylesheet\";\n",
       "      element.type = \"text/css\";\n",
       "      element.href = url;\n",
       "      console.debug(\"Bokeh: injecting link tag for BokehJS stylesheet: \", url);\n",
       "      document.body.appendChild(element);\n",
       "    }\n",
       "\n",
       "    const hashes = {\"https://cdn.bokeh.org/bokeh/release/bokeh-2.2.3.min.js\": \"T2yuo9Oe71Cz/I4X9Ac5+gpEa5a8PpJCDlqKYO0CfAuEszu1JrXLl8YugMqYe3sM\", \"https://cdn.bokeh.org/bokeh/release/bokeh-widgets-2.2.3.min.js\": \"98GDGJ0kOMCUMUePhksaQ/GYgB3+NH9h996V88sh3aOiUNX3N+fLXAtry6xctSZ6\", \"https://cdn.bokeh.org/bokeh/release/bokeh-tables-2.2.3.min.js\": \"89bArO+nlbP3sgakeHjCo1JYxYR5wufVgA3IbUvDY+K7w4zyxJqssu7wVnfeKCq8\"};\n",
       "\n",
       "    for (var i = 0; i < js_urls.length; i++) {\n",
       "      var url = js_urls[i];\n",
       "      var element = document.createElement('script');\n",
       "      element.onload = on_load;\n",
       "      element.onerror = on_error;\n",
       "      element.async = false;\n",
       "      element.src = url;\n",
       "      if (url in hashes) {\n",
       "        element.crossOrigin = \"anonymous\";\n",
       "        element.integrity = \"sha384-\" + hashes[url];\n",
       "      }\n",
       "      console.debug(\"Bokeh: injecting script tag for BokehJS library: \", url);\n",
       "      document.head.appendChild(element);\n",
       "    }\n",
       "  };\n",
       "\n",
       "  function inject_raw_css(css) {\n",
       "    const element = document.createElement(\"style\");\n",
       "    element.appendChild(document.createTextNode(css));\n",
       "    document.body.appendChild(element);\n",
       "  }\n",
       "\n",
       "  \n",
       "  var js_urls = [\"https://cdn.bokeh.org/bokeh/release/bokeh-2.2.3.min.js\", \"https://cdn.bokeh.org/bokeh/release/bokeh-widgets-2.2.3.min.js\", \"https://cdn.bokeh.org/bokeh/release/bokeh-tables-2.2.3.min.js\"];\n",
       "  var css_urls = [];\n",
       "  \n",
       "\n",
       "  var inline_js = [\n",
       "    function(Bokeh) {\n",
       "      Bokeh.set_log_level(\"info\");\n",
       "    },\n",
       "    function(Bokeh) {\n",
       "    \n",
       "    \n",
       "    }\n",
       "  ];\n",
       "\n",
       "  function run_inline_js() {\n",
       "    \n",
       "    if (root.Bokeh !== undefined || force === true) {\n",
       "      \n",
       "    for (var i = 0; i < inline_js.length; i++) {\n",
       "      inline_js[i].call(root, root.Bokeh);\n",
       "    }\n",
       "    if (force === true) {\n",
       "        display_loaded();\n",
       "      }} else if (Date.now() < root._bokeh_timeout) {\n",
       "      setTimeout(run_inline_js, 100);\n",
       "    } else if (!root._bokeh_failed_load) {\n",
       "      console.log(\"Bokeh: BokehJS failed to load within specified timeout.\");\n",
       "      root._bokeh_failed_load = true;\n",
       "    } else if (force !== true) {\n",
       "      var cell = $(document.getElementById(\"1082\")).parents('.cell').data().cell;\n",
       "      cell.output_area.append_execute_result(NB_LOAD_WARNING)\n",
       "    }\n",
       "\n",
       "  }\n",
       "\n",
       "  if (root._bokeh_is_loading === 0) {\n",
       "    console.debug(\"Bokeh: BokehJS loaded, going straight to plotting\");\n",
       "    run_inline_js();\n",
       "  } else {\n",
       "    load_libs(css_urls, js_urls, function() {\n",
       "      console.debug(\"Bokeh: BokehJS plotting callback run at\", now());\n",
       "      run_inline_js();\n",
       "    });\n",
       "  }\n",
       "}(window));"
      ],
      "application/vnd.bokehjs_load.v0+json": "\n(function(root) {\n  function now() {\n    return new Date();\n  }\n\n  var force = true;\n\n  if (typeof root._bokeh_onload_callbacks === \"undefined\" || force === true) {\n    root._bokeh_onload_callbacks = [];\n    root._bokeh_is_loading = undefined;\n  }\n\n  \n\n  \n  if (typeof (root._bokeh_timeout) === \"undefined\" || force === true) {\n    root._bokeh_timeout = Date.now() + 5000;\n    root._bokeh_failed_load = false;\n  }\n\n  var NB_LOAD_WARNING = {'data': {'text/html':\n     \"<div style='background-color: #fdd'>\\n\"+\n     \"<p>\\n\"+\n     \"BokehJS does not appear to have successfully loaded. If loading BokehJS from CDN, this \\n\"+\n     \"may be due to a slow or bad network connection. Possible fixes:\\n\"+\n     \"</p>\\n\"+\n     \"<ul>\\n\"+\n     \"<li>re-rerun `output_notebook()` to attempt to load from CDN again, or</li>\\n\"+\n     \"<li>use INLINE resources instead, as so:</li>\\n\"+\n     \"</ul>\\n\"+\n     \"<code>\\n\"+\n     \"from bokeh.resources import INLINE\\n\"+\n     \"output_notebook(resources=INLINE)\\n\"+\n     \"</code>\\n\"+\n     \"</div>\"}};\n\n  function display_loaded() {\n    var el = document.getElementById(\"1082\");\n    if (el != null) {\n      el.textContent = \"BokehJS is loading...\";\n    }\n    if (root.Bokeh !== undefined) {\n      if (el != null) {\n        el.textContent = \"BokehJS \" + root.Bokeh.version + \" successfully loaded.\";\n      }\n    } else if (Date.now() < root._bokeh_timeout) {\n      setTimeout(display_loaded, 100)\n    }\n  }\n\n\n  function run_callbacks() {\n    try {\n      root._bokeh_onload_callbacks.forEach(function(callback) {\n        if (callback != null)\n          callback();\n      });\n    } finally {\n      delete root._bokeh_onload_callbacks\n    }\n    console.debug(\"Bokeh: all callbacks have finished\");\n  }\n\n  function load_libs(css_urls, js_urls, callback) {\n    if (css_urls == null) css_urls = [];\n    if (js_urls == null) js_urls = [];\n\n    root._bokeh_onload_callbacks.push(callback);\n    if (root._bokeh_is_loading > 0) {\n      console.debug(\"Bokeh: BokehJS is being loaded, scheduling callback at\", now());\n      return null;\n    }\n    if (js_urls == null || js_urls.length === 0) {\n      run_callbacks();\n      return null;\n    }\n    console.debug(\"Bokeh: BokehJS not loaded, scheduling load and callback at\", now());\n    root._bokeh_is_loading = css_urls.length + js_urls.length;\n\n    function on_load() {\n      root._bokeh_is_loading--;\n      if (root._bokeh_is_loading === 0) {\n        console.debug(\"Bokeh: all BokehJS libraries/stylesheets loaded\");\n        run_callbacks()\n      }\n    }\n\n    function on_error() {\n      console.error(\"failed to load \" + url);\n    }\n\n    for (var i = 0; i < css_urls.length; i++) {\n      var url = css_urls[i];\n      const element = document.createElement(\"link\");\n      element.onload = on_load;\n      element.onerror = on_error;\n      element.rel = \"stylesheet\";\n      element.type = \"text/css\";\n      element.href = url;\n      console.debug(\"Bokeh: injecting link tag for BokehJS stylesheet: \", url);\n      document.body.appendChild(element);\n    }\n\n    const hashes = {\"https://cdn.bokeh.org/bokeh/release/bokeh-2.2.3.min.js\": \"T2yuo9Oe71Cz/I4X9Ac5+gpEa5a8PpJCDlqKYO0CfAuEszu1JrXLl8YugMqYe3sM\", \"https://cdn.bokeh.org/bokeh/release/bokeh-widgets-2.2.3.min.js\": \"98GDGJ0kOMCUMUePhksaQ/GYgB3+NH9h996V88sh3aOiUNX3N+fLXAtry6xctSZ6\", \"https://cdn.bokeh.org/bokeh/release/bokeh-tables-2.2.3.min.js\": \"89bArO+nlbP3sgakeHjCo1JYxYR5wufVgA3IbUvDY+K7w4zyxJqssu7wVnfeKCq8\"};\n\n    for (var i = 0; i < js_urls.length; i++) {\n      var url = js_urls[i];\n      var element = document.createElement('script');\n      element.onload = on_load;\n      element.onerror = on_error;\n      element.async = false;\n      element.src = url;\n      if (url in hashes) {\n        element.crossOrigin = \"anonymous\";\n        element.integrity = \"sha384-\" + hashes[url];\n      }\n      console.debug(\"Bokeh: injecting script tag for BokehJS library: \", url);\n      document.head.appendChild(element);\n    }\n  };\n\n  function inject_raw_css(css) {\n    const element = document.createElement(\"style\");\n    element.appendChild(document.createTextNode(css));\n    document.body.appendChild(element);\n  }\n\n  \n  var js_urls = [\"https://cdn.bokeh.org/bokeh/release/bokeh-2.2.3.min.js\", \"https://cdn.bokeh.org/bokeh/release/bokeh-widgets-2.2.3.min.js\", \"https://cdn.bokeh.org/bokeh/release/bokeh-tables-2.2.3.min.js\"];\n  var css_urls = [];\n  \n\n  var inline_js = [\n    function(Bokeh) {\n      Bokeh.set_log_level(\"info\");\n    },\n    function(Bokeh) {\n    \n    \n    }\n  ];\n\n  function run_inline_js() {\n    \n    if (root.Bokeh !== undefined || force === true) {\n      \n    for (var i = 0; i < inline_js.length; i++) {\n      inline_js[i].call(root, root.Bokeh);\n    }\n    if (force === true) {\n        display_loaded();\n      }} else if (Date.now() < root._bokeh_timeout) {\n      setTimeout(run_inline_js, 100);\n    } else if (!root._bokeh_failed_load) {\n      console.log(\"Bokeh: BokehJS failed to load within specified timeout.\");\n      root._bokeh_failed_load = true;\n    } else if (force !== true) {\n      var cell = $(document.getElementById(\"1082\")).parents('.cell').data().cell;\n      cell.output_area.append_execute_result(NB_LOAD_WARNING)\n    }\n\n  }\n\n  if (root._bokeh_is_loading === 0) {\n    console.debug(\"Bokeh: BokehJS loaded, going straight to plotting\");\n    run_inline_js();\n  } else {\n    load_libs(css_urls, js_urls, function() {\n      console.debug(\"Bokeh: BokehJS plotting callback run at\", now());\n      run_inline_js();\n    });\n  }\n}(window));"
     },
     "metadata": {},
     "output_type": "display_data"
    }
   ],
   "source": [
    "import numpy as np\n",
    "import pandas as pd\n",
    "from bokeh.io import output_notebook,show\n",
    "from bokeh.plotting import figure\n",
    "from bokeh.models import ColumnDataSource\n",
    "output_notebook()"
   ]
  },
  {
   "cell_type": "markdown",
   "metadata": {},
   "source": [
    "## Getting the penguin data"
   ]
  },
  {
   "cell_type": "markdown",
   "metadata": {},
   "source": [
    "The penguin data comes from [this study](https://github.com/allisonhorst/palmerpenguins).  You can learn about the meaning of the various measurements,\n",
    "as well as more about the underlying research, at that site."
   ]
  },
  {
   "cell_type": "markdown",
   "metadata": {},
   "source": [
    "### Load the data into a pandas dataframe"
   ]
  },
  {
   "cell_type": "code",
   "execution_count": 3,
   "metadata": {},
   "outputs": [],
   "source": [
    "penguins_df = pd.read_csv('../../data/penguins/penguins_raw.csv')"
   ]
  },
  {
   "cell_type": "markdown",
   "metadata": {},
   "source": [
    "### Do some cleaning of the data"
   ]
  },
  {
   "cell_type": "code",
   "execution_count": 10,
   "metadata": {},
   "outputs": [
    {
     "data": {
      "text/html": [
       "<div>\n",
       "<style scoped>\n",
       "    .dataframe tbody tr th:only-of-type {\n",
       "        vertical-align: middle;\n",
       "    }\n",
       "\n",
       "    .dataframe tbody tr th {\n",
       "        vertical-align: top;\n",
       "    }\n",
       "\n",
       "    .dataframe thead th {\n",
       "        text-align: right;\n",
       "    }\n",
       "</style>\n",
       "<table border=\"1\" class=\"dataframe\">\n",
       "  <thead>\n",
       "    <tr style=\"text-align: right;\">\n",
       "      <th></th>\n",
       "      <th>studyName</th>\n",
       "      <th>Sample Number</th>\n",
       "      <th>Species</th>\n",
       "      <th>Region</th>\n",
       "      <th>Island</th>\n",
       "      <th>Stage</th>\n",
       "      <th>Individual ID</th>\n",
       "      <th>Clutch Completion</th>\n",
       "      <th>Date Egg</th>\n",
       "      <th>Culmen Length (mm)</th>\n",
       "      <th>Culmen Depth (mm)</th>\n",
       "      <th>Flipper Length (mm)</th>\n",
       "      <th>Body Mass (g)</th>\n",
       "      <th>Sex</th>\n",
       "      <th>Delta 15 N (o/oo)</th>\n",
       "      <th>Delta 13 C (o/oo)</th>\n",
       "      <th>Comments</th>\n",
       "      <th>type</th>\n",
       "      <th>color</th>\n",
       "    </tr>\n",
       "  </thead>\n",
       "  <tbody>\n",
       "    <tr>\n",
       "      <th>0</th>\n",
       "      <td>PAL0708</td>\n",
       "      <td>1</td>\n",
       "      <td>Adelie Penguin (Pygoscelis adeliae)</td>\n",
       "      <td>Anvers</td>\n",
       "      <td>Torgersen</td>\n",
       "      <td>Adult, 1 Egg Stage</td>\n",
       "      <td>N1A1</td>\n",
       "      <td>Yes</td>\n",
       "      <td>2007-11-11</td>\n",
       "      <td>39.1</td>\n",
       "      <td>18.7</td>\n",
       "      <td>181.0</td>\n",
       "      <td>3750.0</td>\n",
       "      <td>MALE</td>\n",
       "      <td>NaN</td>\n",
       "      <td>NaN</td>\n",
       "      <td>Not enough blood for isotopes.</td>\n",
       "      <td>Adelie</td>\n",
       "      <td>blue</td>\n",
       "    </tr>\n",
       "    <tr>\n",
       "      <th>1</th>\n",
       "      <td>PAL0708</td>\n",
       "      <td>2</td>\n",
       "      <td>Adelie Penguin (Pygoscelis adeliae)</td>\n",
       "      <td>Anvers</td>\n",
       "      <td>Torgersen</td>\n",
       "      <td>Adult, 1 Egg Stage</td>\n",
       "      <td>N1A2</td>\n",
       "      <td>Yes</td>\n",
       "      <td>2007-11-11</td>\n",
       "      <td>39.5</td>\n",
       "      <td>17.4</td>\n",
       "      <td>186.0</td>\n",
       "      <td>3800.0</td>\n",
       "      <td>FEMALE</td>\n",
       "      <td>8.94956</td>\n",
       "      <td>-24.69454</td>\n",
       "      <td>NaN</td>\n",
       "      <td>Adelie</td>\n",
       "      <td>blue</td>\n",
       "    </tr>\n",
       "    <tr>\n",
       "      <th>2</th>\n",
       "      <td>PAL0708</td>\n",
       "      <td>3</td>\n",
       "      <td>Adelie Penguin (Pygoscelis adeliae)</td>\n",
       "      <td>Anvers</td>\n",
       "      <td>Torgersen</td>\n",
       "      <td>Adult, 1 Egg Stage</td>\n",
       "      <td>N2A1</td>\n",
       "      <td>Yes</td>\n",
       "      <td>2007-11-16</td>\n",
       "      <td>40.3</td>\n",
       "      <td>18.0</td>\n",
       "      <td>195.0</td>\n",
       "      <td>3250.0</td>\n",
       "      <td>FEMALE</td>\n",
       "      <td>8.36821</td>\n",
       "      <td>-25.33302</td>\n",
       "      <td>NaN</td>\n",
       "      <td>Adelie</td>\n",
       "      <td>blue</td>\n",
       "    </tr>\n",
       "    <tr>\n",
       "      <th>3</th>\n",
       "      <td>PAL0708</td>\n",
       "      <td>4</td>\n",
       "      <td>Adelie Penguin (Pygoscelis adeliae)</td>\n",
       "      <td>Anvers</td>\n",
       "      <td>Torgersen</td>\n",
       "      <td>Adult, 1 Egg Stage</td>\n",
       "      <td>N2A2</td>\n",
       "      <td>Yes</td>\n",
       "      <td>2007-11-16</td>\n",
       "      <td>NaN</td>\n",
       "      <td>NaN</td>\n",
       "      <td>NaN</td>\n",
       "      <td>NaN</td>\n",
       "      <td>NaN</td>\n",
       "      <td>NaN</td>\n",
       "      <td>NaN</td>\n",
       "      <td>Adult not sampled.</td>\n",
       "      <td>Adelie</td>\n",
       "      <td>blue</td>\n",
       "    </tr>\n",
       "    <tr>\n",
       "      <th>4</th>\n",
       "      <td>PAL0708</td>\n",
       "      <td>5</td>\n",
       "      <td>Adelie Penguin (Pygoscelis adeliae)</td>\n",
       "      <td>Anvers</td>\n",
       "      <td>Torgersen</td>\n",
       "      <td>Adult, 1 Egg Stage</td>\n",
       "      <td>N3A1</td>\n",
       "      <td>Yes</td>\n",
       "      <td>2007-11-16</td>\n",
       "      <td>36.7</td>\n",
       "      <td>19.3</td>\n",
       "      <td>193.0</td>\n",
       "      <td>3450.0</td>\n",
       "      <td>FEMALE</td>\n",
       "      <td>8.76651</td>\n",
       "      <td>-25.32426</td>\n",
       "      <td>NaN</td>\n",
       "      <td>Adelie</td>\n",
       "      <td>blue</td>\n",
       "    </tr>\n",
       "  </tbody>\n",
       "</table>\n",
       "</div>"
      ],
      "text/plain": [
       "  studyName  Sample Number                              Species  Region  \\\n",
       "0   PAL0708              1  Adelie Penguin (Pygoscelis adeliae)  Anvers   \n",
       "1   PAL0708              2  Adelie Penguin (Pygoscelis adeliae)  Anvers   \n",
       "2   PAL0708              3  Adelie Penguin (Pygoscelis adeliae)  Anvers   \n",
       "3   PAL0708              4  Adelie Penguin (Pygoscelis adeliae)  Anvers   \n",
       "4   PAL0708              5  Adelie Penguin (Pygoscelis adeliae)  Anvers   \n",
       "\n",
       "      Island               Stage Individual ID Clutch Completion    Date Egg  \\\n",
       "0  Torgersen  Adult, 1 Egg Stage          N1A1               Yes  2007-11-11   \n",
       "1  Torgersen  Adult, 1 Egg Stage          N1A2               Yes  2007-11-11   \n",
       "2  Torgersen  Adult, 1 Egg Stage          N2A1               Yes  2007-11-16   \n",
       "3  Torgersen  Adult, 1 Egg Stage          N2A2               Yes  2007-11-16   \n",
       "4  Torgersen  Adult, 1 Egg Stage          N3A1               Yes  2007-11-16   \n",
       "\n",
       "   Culmen Length (mm)  Culmen Depth (mm)  Flipper Length (mm)  Body Mass (g)  \\\n",
       "0                39.1               18.7                181.0         3750.0   \n",
       "1                39.5               17.4                186.0         3800.0   \n",
       "2                40.3               18.0                195.0         3250.0   \n",
       "3                 NaN                NaN                  NaN            NaN   \n",
       "4                36.7               19.3                193.0         3450.0   \n",
       "\n",
       "      Sex  Delta 15 N (o/oo)  Delta 13 C (o/oo)  \\\n",
       "0    MALE                NaN                NaN   \n",
       "1  FEMALE            8.94956          -24.69454   \n",
       "2  FEMALE            8.36821          -25.33302   \n",
       "3     NaN                NaN                NaN   \n",
       "4  FEMALE            8.76651          -25.32426   \n",
       "\n",
       "                         Comments    type color  \n",
       "0  Not enough blood for isotopes.  Adelie  blue  \n",
       "1                             NaN  Adelie  blue  \n",
       "2                             NaN  Adelie  blue  \n",
       "3              Adult not sampled.  Adelie  blue  \n",
       "4                             NaN  Adelie  blue  "
      ]
     },
     "execution_count": 10,
     "metadata": {},
     "output_type": "execute_result"
    }
   ],
   "source": [
    "penguins_df.head()"
   ]
  },
  {
   "cell_type": "markdown",
   "metadata": {},
   "source": [
    "#### Simplify some of the fields\n",
    "\n",
    "Make a new dataframe which is simpler:\n",
    "\n",
    "- Boil the species down to Adelie, Gentoo, Chinstrap by keeping just the first work of the Species field; call this \"type\"\n",
    "- Assign a color field for later use: Adelie blue, Gentoo green, Chinstrap red\n",
    "- Only keep the key measurements of Culmen Length and Depth, Body Mass, and Flipper Length as well as the sample number\n",
    "- Drop any samples with missing data"
   ]
  },
  {
   "cell_type": "code",
   "execution_count": 64,
   "metadata": {},
   "outputs": [],
   "source": [
    "simple_df=pd.DataFrame()"
   ]
  },
  {
   "cell_type": "code",
   "execution_count": 65,
   "metadata": {},
   "outputs": [],
   "source": [
    "simple_df['Sample']=penguins_df['Sample Number']\n",
    "simple_df['Type']=penguins_df['Species'].apply(lambda x: x.split()[0])"
   ]
  },
  {
   "cell_type": "code",
   "execution_count": 66,
   "metadata": {},
   "outputs": [],
   "source": [
    "simple_df['Color']=penguins_df['type'].map({'Adelie':'blue','Gentoo':'green','Chinstrap':'red'})"
   ]
  },
  {
   "cell_type": "markdown",
   "metadata": {},
   "source": [
    "#### Simplify some of the field names"
   ]
  },
  {
   "cell_type": "code",
   "execution_count": 67,
   "metadata": {},
   "outputs": [],
   "source": [
    "simple_df['C-Length'] = penguins_df['Culmen Length (mm)']\n",
    "simple_df['C-Depth'] = penguins_df['Culmen Depth (mm)']\n",
    "simple_df['Mass'] = penguins_df['Body Mass (g)']\n",
    "simple_df['Flipper'] = penguins_df['Flipper Length (mm)']"
   ]
  },
  {
   "cell_type": "code",
   "execution_count": 68,
   "metadata": {},
   "outputs": [
    {
     "data": {
      "text/html": [
       "<div>\n",
       "<style scoped>\n",
       "    .dataframe tbody tr th:only-of-type {\n",
       "        vertical-align: middle;\n",
       "    }\n",
       "\n",
       "    .dataframe tbody tr th {\n",
       "        vertical-align: top;\n",
       "    }\n",
       "\n",
       "    .dataframe thead th {\n",
       "        text-align: right;\n",
       "    }\n",
       "</style>\n",
       "<table border=\"1\" class=\"dataframe\">\n",
       "  <thead>\n",
       "    <tr style=\"text-align: right;\">\n",
       "      <th></th>\n",
       "      <th>Sample</th>\n",
       "      <th>Type</th>\n",
       "      <th>Color</th>\n",
       "      <th>C-Length</th>\n",
       "      <th>C-Depth</th>\n",
       "      <th>Mass</th>\n",
       "      <th>Flipper</th>\n",
       "    </tr>\n",
       "  </thead>\n",
       "  <tbody>\n",
       "    <tr>\n",
       "      <th>0</th>\n",
       "      <td>1</td>\n",
       "      <td>Adelie</td>\n",
       "      <td>blue</td>\n",
       "      <td>39.1</td>\n",
       "      <td>18.7</td>\n",
       "      <td>3750.0</td>\n",
       "      <td>181.0</td>\n",
       "    </tr>\n",
       "    <tr>\n",
       "      <th>1</th>\n",
       "      <td>2</td>\n",
       "      <td>Adelie</td>\n",
       "      <td>blue</td>\n",
       "      <td>39.5</td>\n",
       "      <td>17.4</td>\n",
       "      <td>3800.0</td>\n",
       "      <td>186.0</td>\n",
       "    </tr>\n",
       "    <tr>\n",
       "      <th>2</th>\n",
       "      <td>3</td>\n",
       "      <td>Adelie</td>\n",
       "      <td>blue</td>\n",
       "      <td>40.3</td>\n",
       "      <td>18.0</td>\n",
       "      <td>3250.0</td>\n",
       "      <td>195.0</td>\n",
       "    </tr>\n",
       "    <tr>\n",
       "      <th>3</th>\n",
       "      <td>4</td>\n",
       "      <td>Adelie</td>\n",
       "      <td>blue</td>\n",
       "      <td>NaN</td>\n",
       "      <td>NaN</td>\n",
       "      <td>NaN</td>\n",
       "      <td>NaN</td>\n",
       "    </tr>\n",
       "    <tr>\n",
       "      <th>4</th>\n",
       "      <td>5</td>\n",
       "      <td>Adelie</td>\n",
       "      <td>blue</td>\n",
       "      <td>36.7</td>\n",
       "      <td>19.3</td>\n",
       "      <td>3450.0</td>\n",
       "      <td>193.0</td>\n",
       "    </tr>\n",
       "  </tbody>\n",
       "</table>\n",
       "</div>"
      ],
      "text/plain": [
       "   Sample    Type Color  C-Length  C-Depth    Mass  Flipper\n",
       "0       1  Adelie  blue      39.1     18.7  3750.0    181.0\n",
       "1       2  Adelie  blue      39.5     17.4  3800.0    186.0\n",
       "2       3  Adelie  blue      40.3     18.0  3250.0    195.0\n",
       "3       4  Adelie  blue       NaN      NaN     NaN      NaN\n",
       "4       5  Adelie  blue      36.7     19.3  3450.0    193.0"
      ]
     },
     "execution_count": 68,
     "metadata": {},
     "output_type": "execute_result"
    }
   ],
   "source": [
    "simple_df.head()"
   ]
  },
  {
   "cell_type": "code",
   "execution_count": 69,
   "metadata": {},
   "outputs": [
    {
     "data": {
      "text/plain": [
       "(344, 7)"
      ]
     },
     "execution_count": 69,
     "metadata": {},
     "output_type": "execute_result"
    }
   ],
   "source": [
    "simple_df.shape"
   ]
  },
  {
   "cell_type": "code",
   "execution_count": 70,
   "metadata": {},
   "outputs": [
    {
     "data": {
      "text/plain": [
       "(342, 7)"
      ]
     },
     "execution_count": 70,
     "metadata": {},
     "output_type": "execute_result"
    }
   ],
   "source": [
    "simple_df.dropna().shape"
   ]
  },
  {
   "cell_type": "code",
   "execution_count": 71,
   "metadata": {},
   "outputs": [],
   "source": [
    "simple_df = simple_df.dropna()"
   ]
  },
  {
   "cell_type": "markdown",
   "metadata": {},
   "source": [
    "#### Make some scatter plots to explore the data\n",
    "\n",
    "Look at the plots and evaluate where the clouds of data points might be linearly separable.  The example in the notes\n",
    "was Culmen Depth vs Body Mass for Adelie and Gentoo penguins.  Are there other candidates?"
   ]
  },
  {
   "cell_type": "code",
   "execution_count": 72,
   "metadata": {},
   "outputs": [],
   "source": [
    "data = ColumnDataSource(simple_df)"
   ]
  },
  {
   "cell_type": "code",
   "execution_count": 89,
   "metadata": {},
   "outputs": [
    {
     "data": {
      "text/html": [
       "\n",
       "\n",
       "\n",
       "\n",
       "\n",
       "\n",
       "  <div class=\"bk-root\" id=\"169a241d-d19c-44e2-8e17-ea13aac57e66\" data-root-id=\"2204\"></div>\n"
      ]
     },
     "metadata": {},
     "output_type": "display_data"
    },
    {
     "data": {
      "application/javascript": [
       "(function(root) {\n",
       "  function embed_document(root) {\n",
       "    \n",
       "  var docs_json = {\"e3575b40-547e-41bb-b73e-165ce3fceed2\":{\"roots\":{\"references\":[{\"attributes\":{\"below\":[{\"id\":\"2215\"}],\"center\":[{\"id\":\"2218\"},{\"id\":\"2222\"},{\"id\":\"2250\"}],\"left\":[{\"id\":\"2219\"}],\"renderers\":[{\"id\":\"2240\"}],\"title\":{\"id\":\"2205\"},\"toolbar\":{\"id\":\"2230\"},\"x_range\":{\"id\":\"2207\"},\"x_scale\":{\"id\":\"2211\"},\"y_range\":{\"id\":\"2209\"},\"y_scale\":{\"id\":\"2213\"}},\"id\":\"2204\",\"subtype\":\"Figure\",\"type\":\"Plot\"},{\"attributes\":{\"bottom_units\":\"screen\",\"fill_alpha\":0.5,\"fill_color\":\"lightgrey\",\"left_units\":\"screen\",\"level\":\"overlay\",\"line_alpha\":1.0,\"line_color\":\"black\",\"line_dash\":[4,4],\"line_width\":2,\"right_units\":\"screen\",\"top_units\":\"screen\"},\"id\":\"2229\",\"type\":\"BoxAnnotation\"},{\"attributes\":{},\"id\":\"2211\",\"type\":\"LinearScale\"},{\"attributes\":{},\"id\":\"2223\",\"type\":\"PanTool\"},{\"attributes\":{},\"id\":\"2209\",\"type\":\"DataRange1d\"},{\"attributes\":{\"formatter\":{\"id\":\"2243\"},\"ticker\":{\"id\":\"2216\"}},\"id\":\"2215\",\"type\":\"LinearAxis\"},{\"attributes\":{\"axis\":{\"id\":\"2219\"},\"dimension\":1,\"ticker\":null},\"id\":\"2222\",\"type\":\"Grid\"},{\"attributes\":{},\"id\":\"2213\",\"type\":\"LinearScale\"},{\"attributes\":{\"data\":{\"C-Depth\":{\"__ndarray__\":\"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\",\"dtype\":\"float64\",\"order\":\"little\",\"shape\":[342]},\"C-Length\":{\"__ndarray__\":\"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\",\"dtype\":\"float64\",\"order\":\"little\",\"shape\":[342]},\"Color\":[\"blue\",\"blue\",\"blue\",\"blue\",\"blue\",\"blue\",\"blue\",\"blue\",\"blue\",\"blue\",\"blue\",\"blue\",\"blue\",\"blue\",\"blue\",\"blue\",\"blue\",\"blue\",\"blue\",\"blue\",\"blue\",\"blue\",\"blue\",\"blue\",\"blue\",\"blue\",\"blue\",\"blue\",\"blue\",\"blue\",\"blue\",\"blue\",\"blue\",\"blue\",\"blue\",\"blue\",\"blue\",\"blue\",\"blue\",\"blue\",\"blue\",\"blue\",\"blue\",\"blue\",\"blue\",\"blue\",\"blue\",\"blue\",\"blue\",\"blue\",\"blue\",\"blue\",\"blue\",\"blue\",\"blue\",\"blue\",\"blue\",\"blue\",\"blue\",\"blue\",\"blue\",\"blue\",\"blue\",\"blue\",\"blue\",\"blue\",\"blue\",\"blue\",\"blue\",\"blue\",\"blue\",\"blue\",\"blue\",\"blue\",\"blue\",\"blue\",\"blue\",\"blue\",\"blue\",\"blue\",\"blue\",\"blue\",\"blue\",\"blue\",\"blue\",\"blue\",\"blue\",\"blue\",\"blue\",\"blue\",\"blue\",\"blue\",\"blue\",\"blue\",\"blue\",\"blue\",\"blue\",\"blue\",\"blue\",\"blue\",\"blue\",\"blue\",\"blue\",\"blue\",\"blue\",\"blue\",\"blue\",\"blue\",\"blue\",\"blue\",\"blue\",\"blue\",\"blue\",\"blue\",\"blue\",\"blue\",\"blue\",\"blue\",\"blue\",\"blue\",\"blue\",\"blue\",\"blue\",\"blue\",\"blue\",\"blue\",\"blue\",\"blue\",\"blue\",\"blue\",\"blue\",\"blue\",\"blue\",\"blue\",\"blue\",\"blue\",\"blue\",\"blue\",\"blue\",\"blue\",\"blue\",\"blue\",\"blue\",\"blue\",\"blue\",\"blue\",\"blue\",\"blue\",\"blue\",\"blue\",\"blue\",\"green\",\"green\",\"green\",\"green\",\"green\",\"green\",\"green\",\"green\",\"green\",\"green\",\"green\",\"green\",\"green\",\"green\",\"green\",\"green\",\"green\",\"green\",\"green\",\"green\",\"green\",\"green\",\"green\",\"green\",\"green\",\"green\",\"green\",\"green\",\"green\",\"green\",\"green\",\"green\",\"green\",\"green\",\"green\",\"green\",\"green\",\"green\",\"green\",\"green\",\"green\",\"green\",\"green\",\"green\",\"green\",\"green\",\"green\",\"green\",\"green\",\"green\",\"green\",\"green\",\"green\",\"green\",\"green\",\"green\",\"green\",\"green\",\"green\",\"green\",\"green\",\"green\",\"green\",\"green\",\"green\",\"green\",\"green\",\"green\",\"green\",\"green\",\"green\",\"green\",\"green\",\"green\",\"green\",\"green\",\"green\",\"green\",\"green\",\"green\",\"green\",\"green\",\"green\",\"green\",\"green\",\"green\",\"green\",\"green\",\"green\",\"green\",\"green\",\"green\",\"green\",\"green\",\"green\",\"green\",\"green\",\"green\",\"green\",\"green\",\"green\",\"green\",\"green\",\"green\",\"green\",\"green\",\"green\",\"green\",\"green\",\"green\",\"green\",\"green\",\"green\",\"green\",\"green\",\"green\",\"green\",\"green\",\"green\",\"green\",\"green\",\"green\",\"green\",\"red\",\"red\",\"red\",\"red\",\"red\",\"red\",\"red\",\"red\",\"red\",\"red\",\"red\",\"red\",\"red\",\"red\",\"red\",\"red\",\"red\",\"red\",\"red\",\"red\",\"red\",\"red\",\"red\",\"red\",\"red\",\"red\",\"red\",\"red\",\"red\",\"red\",\"red\",\"red\",\"red\",\"red\",\"red\",\"red\",\"red\",\"red\",\"red\",\"red\",\"red\",\"red\",\"red\",\"red\",\"red\",\"red\",\"red\",\"red\",\"red\",\"red\",\"red\",\"red\",\"red\",\"red\",\"red\",\"red\",\"red\",\"red\",\"red\",\"red\",\"red\",\"red\",\"red\",\"red\",\"red\",\"red\",\"red\",\"red\"],\"Flipper\":{\"__ndarray__\":\"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\",\"dtype\":\"float64\",\"order\":\"little\",\"shape\":[342]},\"Mass\":{\"__ndarray__\":\"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\",\"dtype\":\"float64\",\"order\":\"little\",\"shape\":[342]},\"Sample\":[1,2,3,5,6,7,8,9,10,11,12,13,14,15,16,17,18,19,20,21,22,23,24,25,26,27,28,29,30,31,32,33,34,35,36,37,38,39,40,41,42,43,44,45,46,47,48,49,50,51,52,53,54,55,56,57,58,59,60,61,62,63,64,65,66,67,68,69,70,71,72,73,74,75,76,77,78,79,80,81,82,83,84,85,86,87,88,89,90,91,92,93,94,95,96,97,98,99,100,101,102,103,104,105,106,107,108,109,110,111,112,113,114,115,116,117,118,119,120,121,122,123,124,125,126,127,128,129,130,131,132,133,134,135,136,137,138,139,140,141,142,143,144,145,146,147,148,149,150,151,152,1,2,3,4,5,6,7,8,9,10,11,12,13,14,15,16,17,18,19,20,21,22,23,24,25,26,27,28,29,30,31,32,33,34,35,36,37,38,39,40,41,42,43,44,45,46,47,48,49,50,51,52,53,54,55,56,57,58,59,60,61,62,63,64,65,66,67,68,69,70,71,72,73,74,75,76,77,78,79,80,81,82,83,84,85,86,87,88,89,90,91,92,93,94,95,96,97,98,99,100,101,102,103,104,105,106,107,108,109,110,111,112,113,114,115,116,117,118,119,121,122,123,124,1,2,3,4,5,6,7,8,9,10,11,12,13,14,15,16,17,18,19,20,21,22,23,24,25,26,27,28,29,30,31,32,33,34,35,36,37,38,39,40,41,42,43,44,45,46,47,48,49,50,51,52,53,54,55,56,57,58,59,60,61,62,63,64,65,66,67,68],\"Type\":[\"Adelie\",\"Adelie\",\"Adelie\",\"Adelie\",\"Adelie\",\"Adelie\",\"Adelie\",\"Adelie\",\"Adelie\",\"Adelie\",\"Adelie\",\"Adelie\",\"Adelie\",\"Adelie\",\"Adelie\",\"Adelie\",\"Adelie\",\"Adelie\",\"Adelie\",\"Adelie\",\"Adelie\",\"Adelie\",\"Adelie\",\"Adelie\",\"Adelie\",\"Adelie\",\"Adelie\",\"Adelie\",\"Adelie\",\"Adelie\",\"Adelie\",\"Adelie\",\"Adelie\",\"Adelie\",\"Adelie\",\"Adelie\",\"Adelie\",\"Adelie\",\"Adelie\",\"Adelie\",\"Adelie\",\"Adelie\",\"Adelie\",\"Adelie\",\"Adelie\",\"Adelie\",\"Adelie\",\"Adelie\",\"Adelie\",\"Adelie\",\"Adelie\",\"Adelie\",\"Adelie\",\"Adelie\",\"Adelie\",\"Adelie\",\"Adelie\",\"Adelie\",\"Adelie\",\"Adelie\",\"Adelie\",\"Adelie\",\"Adelie\",\"Adelie\",\"Adelie\",\"Adelie\",\"Adelie\",\"Adelie\",\"Adelie\",\"Adelie\",\"Adelie\",\"Adelie\",\"Adelie\",\"Adelie\",\"Adelie\",\"Adelie\",\"Adelie\",\"Adelie\",\"Adelie\",\"Adelie\",\"Adelie\",\"Adelie\",\"Adelie\",\"Adelie\",\"Adelie\",\"Adelie\",\"Adelie\",\"Adelie\",\"Adelie\",\"Adelie\",\"Adelie\",\"Adelie\",\"Adelie\",\"Adelie\",\"Adelie\",\"Adelie\",\"Adelie\",\"Adelie\",\"Adelie\",\"Adelie\",\"Adelie\",\"Adelie\",\"Adelie\",\"Adelie\",\"Adelie\",\"Adelie\",\"Adelie\",\"Adelie\",\"Adelie\",\"Adelie\",\"Adelie\",\"Adelie\",\"Adelie\",\"Adelie\",\"Adelie\",\"Adelie\",\"Adelie\",\"Adelie\",\"Adelie\",\"Adelie\",\"Adelie\",\"Adelie\",\"Adelie\",\"Adelie\",\"Adelie\",\"Adelie\",\"Adelie\",\"Adelie\",\"Adelie\",\"Adelie\",\"Adelie\",\"Adelie\",\"Adelie\",\"Adelie\",\"Adelie\",\"Adelie\",\"Adelie\",\"Adelie\",\"Adelie\",\"Adelie\",\"Adelie\",\"Adelie\",\"Adelie\",\"Adelie\",\"Adelie\",\"Adelie\",\"Adelie\",\"Adelie\",\"Adelie\",\"Adelie\",\"Adelie\",\"Gentoo\",\"Gentoo\",\"Gentoo\",\"Gentoo\",\"Gentoo\",\"Gentoo\",\"Gentoo\",\"Gentoo\",\"Gentoo\",\"Gentoo\",\"Gentoo\",\"Gentoo\",\"Gentoo\",\"Gentoo\",\"Gentoo\",\"Gentoo\",\"Gentoo\",\"Gentoo\",\"Gentoo\",\"Gentoo\",\"Gentoo\",\"Gentoo\",\"Gentoo\",\"Gentoo\",\"Gentoo\",\"Gentoo\",\"Gentoo\",\"Gentoo\",\"Gentoo\",\"Gentoo\",\"Gentoo\",\"Gentoo\",\"Gentoo\",\"Gentoo\",\"Gentoo\",\"Gentoo\",\"Gentoo\",\"Gentoo\",\"Gentoo\",\"Gentoo\",\"Gentoo\",\"Gentoo\",\"Gentoo\",\"Gentoo\",\"Gentoo\",\"Gentoo\",\"Gentoo\",\"Gentoo\",\"Gentoo\",\"Gentoo\",\"Gentoo\",\"Gentoo\",\"Gentoo\",\"Gentoo\",\"Gentoo\",\"Gentoo\",\"Gentoo\",\"Gentoo\",\"Gentoo\",\"Gentoo\",\"Gentoo\",\"Gentoo\",\"Gentoo\",\"Gentoo\",\"Gentoo\",\"Gentoo\",\"Gentoo\",\"Gentoo\",\"Gentoo\",\"Gentoo\",\"Gentoo\",\"Gentoo\",\"Gentoo\",\"Gentoo\",\"Gentoo\",\"Gentoo\",\"Gentoo\",\"Gentoo\",\"Gentoo\",\"Gentoo\",\"Gentoo\",\"Gentoo\",\"Gentoo\",\"Gentoo\",\"Gentoo\",\"Gentoo\",\"Gentoo\",\"Gentoo\",\"Gentoo\",\"Gentoo\",\"Gentoo\",\"Gentoo\",\"Gentoo\",\"Gentoo\",\"Gentoo\",\"Gentoo\",\"Gentoo\",\"Gentoo\",\"Gentoo\",\"Gentoo\",\"Gentoo\",\"Gentoo\",\"Gentoo\",\"Gentoo\",\"Gentoo\",\"Gentoo\",\"Gentoo\",\"Gentoo\",\"Gentoo\",\"Gentoo\",\"Gentoo\",\"Gentoo\",\"Gentoo\",\"Gentoo\",\"Gentoo\",\"Gentoo\",\"Gentoo\",\"Gentoo\",\"Gentoo\",\"Gentoo\",\"Gentoo\",\"Gentoo\",\"Gentoo\",\"Chinstrap\",\"Chinstrap\",\"Chinstrap\",\"Chinstrap\",\"Chinstrap\",\"Chinstrap\",\"Chinstrap\",\"Chinstrap\",\"Chinstrap\",\"Chinstrap\",\"Chinstrap\",\"Chinstrap\",\"Chinstrap\",\"Chinstrap\",\"Chinstrap\",\"Chinstrap\",\"Chinstrap\",\"Chinstrap\",\"Chinstrap\",\"Chinstrap\",\"Chinstrap\",\"Chinstrap\",\"Chinstrap\",\"Chinstrap\",\"Chinstrap\",\"Chinstrap\",\"Chinstrap\",\"Chinstrap\",\"Chinstrap\",\"Chinstrap\",\"Chinstrap\",\"Chinstrap\",\"Chinstrap\",\"Chinstrap\",\"Chinstrap\",\"Chinstrap\",\"Chinstrap\",\"Chinstrap\",\"Chinstrap\",\"Chinstrap\",\"Chinstrap\",\"Chinstrap\",\"Chinstrap\",\"Chinstrap\",\"Chinstrap\",\"Chinstrap\",\"Chinstrap\",\"Chinstrap\",\"Chinstrap\",\"Chinstrap\",\"Chinstrap\",\"Chinstrap\",\"Chinstrap\",\"Chinstrap\",\"Chinstrap\",\"Chinstrap\",\"Chinstrap\",\"Chinstrap\",\"Chinstrap\",\"Chinstrap\",\"Chinstrap\",\"Chinstrap\",\"Chinstrap\",\"Chinstrap\",\"Chinstrap\",\"Chinstrap\",\"Chinstrap\",\"Chinstrap\"],\"index\":[0,1,2,4,5,6,7,8,9,10,11,12,13,14,15,16,17,18,19,20,21,22,23,24,25,26,27,28,29,30,31,32,33,34,35,36,37,38,39,40,41,42,43,44,45,46,47,48,49,50,51,52,53,54,55,56,57,58,59,60,61,62,63,64,65,66,67,68,69,70,71,72,73,74,75,76,77,78,79,80,81,82,83,84,85,86,87,88,89,90,91,92,93,94,95,96,97,98,99,100,101,102,103,104,105,106,107,108,109,110,111,112,113,114,115,116,117,118,119,120,121,122,123,124,125,126,127,128,129,130,131,132,133,134,135,136,137,138,139,140,141,142,143,144,145,146,147,148,149,150,151,152,153,154,155,156,157,158,159,160,161,162,163,164,165,166,167,168,169,170,171,172,173,174,175,176,177,178,179,180,181,182,183,184,185,186,187,188,189,190,191,192,193,194,195,196,197,198,199,200,201,202,203,204,205,206,207,208,209,210,211,212,213,214,215,216,217,218,219,220,221,222,223,224,225,226,227,228,229,230,231,232,233,234,235,236,237,238,239,240,241,242,243,244,245,246,247,248,249,250,251,252,253,254,255,256,257,258,259,260,261,262,263,264,265,266,267,268,269,270,272,273,274,275,276,277,278,279,280,281,282,283,284,285,286,287,288,289,290,291,292,293,294,295,296,297,298,299,300,301,302,303,304,305,306,307,308,309,310,311,312,313,314,315,316,317,318,319,320,321,322,323,324,325,326,327,328,329,330,331,332,333,334,335,336,337,338,339,340,341,342,343]},\"selected\":{\"id\":\"1256\"},\"selection_policy\":{\"id\":\"1255\"}},\"id\":\"1003\",\"type\":\"ColumnDataSource\"},{\"attributes\":{},\"id\":\"2243\",\"type\":\"BasicTickFormatter\"},{\"attributes\":{\"fill_color\":{\"field\":\"Color\"},\"line_color\":{\"field\":\"Color\"},\"x\":{\"field\":\"Mass\"},\"y\":{\"field\":\"C-Length\"}},\"id\":\"2238\",\"type\":\"Scatter\"},{\"attributes\":{},\"id\":\"2228\",\"type\":\"HelpTool\"},{\"attributes\":{},\"id\":\"2245\",\"type\":\"BasicTickFormatter\"},{\"attributes\":{\"index\":0,\"label\":{\"value\":\"Adelie\"},\"renderers\":[{\"id\":\"2240\"}]},\"id\":\"2251\",\"type\":\"LegendItem\"},{\"attributes\":{},\"id\":\"2207\",\"type\":\"DataRange1d\"},{\"attributes\":{},\"id\":\"2224\",\"type\":\"WheelZoomTool\"},{\"attributes\":{},\"id\":\"1256\",\"type\":\"Selection\"},{\"attributes\":{\"data_source\":{\"id\":\"1003\"},\"glyph\":{\"id\":\"2238\"},\"hover_glyph\":null,\"muted_glyph\":null,\"nonselection_glyph\":{\"id\":\"2239\"},\"selection_glyph\":null,\"view\":{\"id\":\"2241\"}},\"id\":\"2240\",\"type\":\"GlyphRenderer\"},{\"attributes\":{},\"id\":\"1255\",\"type\":\"UnionRenderers\"},{\"attributes\":{\"index\":274,\"label\":{\"value\":\"Chinstrap\"},\"renderers\":[{\"id\":\"2240\"}]},\"id\":\"2252\",\"type\":\"LegendItem\"},{\"attributes\":{},\"id\":\"2226\",\"type\":\"SaveTool\"},{\"attributes\":{\"source\":{\"id\":\"1003\"}},\"id\":\"2241\",\"type\":\"CDSView\"},{\"attributes\":{},\"id\":\"2216\",\"type\":\"BasicTicker\"},{\"attributes\":{\"items\":[{\"id\":\"2251\"},{\"id\":\"2252\"},{\"id\":\"2253\"}],\"location\":\"top_left\"},\"id\":\"2250\",\"type\":\"Legend\"},{\"attributes\":{},\"id\":\"2220\",\"type\":\"BasicTicker\"},{\"attributes\":{\"formatter\":{\"id\":\"2245\"},\"ticker\":{\"id\":\"2220\"}},\"id\":\"2219\",\"type\":\"LinearAxis\"},{\"attributes\":{\"overlay\":{\"id\":\"2229\"}},\"id\":\"2225\",\"type\":\"BoxZoomTool\"},{\"attributes\":{},\"id\":\"2227\",\"type\":\"ResetTool\"},{\"attributes\":{\"active_drag\":\"auto\",\"active_inspect\":\"auto\",\"active_multi\":null,\"active_scroll\":\"auto\",\"active_tap\":\"auto\",\"tools\":[{\"id\":\"2223\"},{\"id\":\"2224\"},{\"id\":\"2225\"},{\"id\":\"2226\"},{\"id\":\"2227\"},{\"id\":\"2228\"}]},\"id\":\"2230\",\"type\":\"Toolbar\"},{\"attributes\":{\"text\":\"Culmen Length vs Body Mass\"},\"id\":\"2205\",\"type\":\"Title\"},{\"attributes\":{\"axis\":{\"id\":\"2215\"},\"ticker\":null},\"id\":\"2218\",\"type\":\"Grid\"},{\"attributes\":{\"fill_alpha\":{\"value\":0.1},\"fill_color\":{\"field\":\"Color\"},\"line_alpha\":{\"value\":0.1},\"line_color\":{\"field\":\"Color\"},\"x\":{\"field\":\"Mass\"},\"y\":{\"field\":\"C-Length\"}},\"id\":\"2239\",\"type\":\"Scatter\"},{\"attributes\":{\"index\":151,\"label\":{\"value\":\"Gentoo\"},\"renderers\":[{\"id\":\"2240\"}]},\"id\":\"2253\",\"type\":\"LegendItem\"}],\"root_ids\":[\"2204\"]},\"title\":\"Bokeh Application\",\"version\":\"2.2.3\"}};\n",
       "  var render_items = [{\"docid\":\"e3575b40-547e-41bb-b73e-165ce3fceed2\",\"root_ids\":[\"2204\"],\"roots\":{\"2204\":\"169a241d-d19c-44e2-8e17-ea13aac57e66\"}}];\n",
       "  root.Bokeh.embed.embed_items_notebook(docs_json, render_items);\n",
       "\n",
       "  }\n",
       "  if (root.Bokeh !== undefined) {\n",
       "    embed_document(root);\n",
       "  } else {\n",
       "    var attempts = 0;\n",
       "    var timer = setInterval(function(root) {\n",
       "      if (root.Bokeh !== undefined) {\n",
       "        clearInterval(timer);\n",
       "        embed_document(root);\n",
       "      } else {\n",
       "        attempts++;\n",
       "        if (attempts > 100) {\n",
       "          clearInterval(timer);\n",
       "          console.log(\"Bokeh: ERROR: Unable to run BokehJS code because BokehJS library is missing\");\n",
       "        }\n",
       "      }\n",
       "    }, 10, root)\n",
       "  }\n",
       "})(window);"
      ],
      "application/vnd.bokehjs_exec.v0+json": ""
     },
     "metadata": {
      "application/vnd.bokehjs_exec.v0+json": {
       "id": "2204"
      }
     },
     "output_type": "display_data"
    }
   ],
   "source": [
    "f=figure(title='Culmen Length vs Body Mass')\n",
    "f.scatter(x='Mass',y='C-Length',color='Color',source=data,legend_group='Type')\n",
    "f.legend.location='top_left'\n",
    "show(f)"
   ]
  },
  {
   "cell_type": "code",
   "execution_count": 90,
   "metadata": {},
   "outputs": [
    {
     "data": {
      "text/html": [
       "\n",
       "\n",
       "\n",
       "\n",
       "\n",
       "\n",
       "  <div class=\"bk-root\" id=\"a83b6590-d81b-4e3c-9570-ac330d5ca01a\" data-root-id=\"2366\"></div>\n"
      ]
     },
     "metadata": {},
     "output_type": "display_data"
    },
    {
     "data": {
      "application/javascript": [
       "(function(root) {\n",
       "  function embed_document(root) {\n",
       "    \n",
       "  var docs_json = {\"3341b56b-3aac-42d3-bf31-784f897c6f84\":{\"roots\":{\"references\":[{\"attributes\":{\"below\":[{\"id\":\"2377\"}],\"center\":[{\"id\":\"2380\"},{\"id\":\"2384\"},{\"id\":\"2412\"}],\"left\":[{\"id\":\"2381\"}],\"renderers\":[{\"id\":\"2402\"}],\"title\":{\"id\":\"2367\"},\"toolbar\":{\"id\":\"2392\"},\"x_range\":{\"id\":\"2369\"},\"x_scale\":{\"id\":\"2373\"},\"y_range\":{\"id\":\"2371\"},\"y_scale\":{\"id\":\"2375\"}},\"id\":\"2366\",\"subtype\":\"Figure\",\"type\":\"Plot\"},{\"attributes\":{},\"id\":\"2375\",\"type\":\"LinearScale\"},{\"attributes\":{\"items\":[{\"id\":\"2413\"},{\"id\":\"2414\"},{\"id\":\"2415\"}]},\"id\":\"2412\",\"type\":\"Legend\"},{\"attributes\":{},\"id\":\"2405\",\"type\":\"BasicTickFormatter\"},{\"attributes\":{\"data\":{\"C-Depth\":{\"__ndarray__\":\"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\",\"dtype\":\"float64\",\"order\":\"little\",\"shape\":[342]},\"C-Length\":{\"__ndarray__\":\"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\",\"dtype\":\"float64\",\"order\":\"little\",\"shape\":[342]},\"Color\":[\"blue\",\"blue\",\"blue\",\"blue\",\"blue\",\"blue\",\"blue\",\"blue\",\"blue\",\"blue\",\"blue\",\"blue\",\"blue\",\"blue\",\"blue\",\"blue\",\"blue\",\"blue\",\"blue\",\"blue\",\"blue\",\"blue\",\"blue\",\"blue\",\"blue\",\"blue\",\"blue\",\"blue\",\"blue\",\"blue\",\"blue\",\"blue\",\"blue\",\"blue\",\"blue\",\"blue\",\"blue\",\"blue\",\"blue\",\"blue\",\"blue\",\"blue\",\"blue\",\"blue\",\"blue\",\"blue\",\"blue\",\"blue\",\"blue\",\"blue\",\"blue\",\"blue\",\"blue\",\"blue\",\"blue\",\"blue\",\"blue\",\"blue\",\"blue\",\"blue\",\"blue\",\"blue\",\"blue\",\"blue\",\"blue\",\"blue\",\"blue\",\"blue\",\"blue\",\"blue\",\"blue\",\"blue\",\"blue\",\"blue\",\"blue\",\"blue\",\"blue\",\"blue\",\"blue\",\"blue\",\"blue\",\"blue\",\"blue\",\"blue\",\"blue\",\"blue\",\"blue\",\"blue\",\"blue\",\"blue\",\"blue\",\"blue\",\"blue\",\"blue\",\"blue\",\"blue\",\"blue\",\"blue\",\"blue\",\"blue\",\"blue\",\"blue\",\"blue\",\"blue\",\"blue\",\"blue\",\"blue\",\"blue\",\"blue\",\"blue\",\"blue\",\"blue\",\"blue\",\"blue\",\"blue\",\"blue\",\"blue\",\"blue\",\"blue\",\"blue\",\"blue\",\"blue\",\"blue\",\"blue\",\"blue\",\"blue\",\"blue\",\"blue\",\"blue\",\"blue\",\"blue\",\"blue\",\"blue\",\"blue\",\"blue\",\"blue\",\"blue\",\"blue\",\"blue\",\"blue\",\"blue\",\"blue\",\"blue\",\"blue\",\"blue\",\"blue\",\"blue\",\"blue\",\"blue\",\"blue\",\"blue\",\"green\",\"green\",\"green\",\"green\",\"green\",\"green\",\"green\",\"green\",\"green\",\"green\",\"green\",\"green\",\"green\",\"green\",\"green\",\"green\",\"green\",\"green\",\"green\",\"green\",\"green\",\"green\",\"green\",\"green\",\"green\",\"green\",\"green\",\"green\",\"green\",\"green\",\"green\",\"green\",\"green\",\"green\",\"green\",\"green\",\"green\",\"green\",\"green\",\"green\",\"green\",\"green\",\"green\",\"green\",\"green\",\"green\",\"green\",\"green\",\"green\",\"green\",\"green\",\"green\",\"green\",\"green\",\"green\",\"green\",\"green\",\"green\",\"green\",\"green\",\"green\",\"green\",\"green\",\"green\",\"green\",\"green\",\"green\",\"green\",\"green\",\"green\",\"green\",\"green\",\"green\",\"green\",\"green\",\"green\",\"green\",\"green\",\"green\",\"green\",\"green\",\"green\",\"green\",\"green\",\"green\",\"green\",\"green\",\"green\",\"green\",\"green\",\"green\",\"green\",\"green\",\"green\",\"green\",\"green\",\"green\",\"green\",\"green\",\"green\",\"green\",\"green\",\"green\",\"green\",\"green\",\"green\",\"green\",\"green\",\"green\",\"green\",\"green\",\"green\",\"green\",\"green\",\"green\",\"green\",\"green\",\"green\",\"green\",\"green\",\"green\",\"green\",\"green\",\"red\",\"red\",\"red\",\"red\",\"red\",\"red\",\"red\",\"red\",\"red\",\"red\",\"red\",\"red\",\"red\",\"red\",\"red\",\"red\",\"red\",\"red\",\"red\",\"red\",\"red\",\"red\",\"red\",\"red\",\"red\",\"red\",\"red\",\"red\",\"red\",\"red\",\"red\",\"red\",\"red\",\"red\",\"red\",\"red\",\"red\",\"red\",\"red\",\"red\",\"red\",\"red\",\"red\",\"red\",\"red\",\"red\",\"red\",\"red\",\"red\",\"red\",\"red\",\"red\",\"red\",\"red\",\"red\",\"red\",\"red\",\"red\",\"red\",\"red\",\"red\",\"red\",\"red\",\"red\",\"red\",\"red\",\"red\",\"red\"],\"Flipper\":{\"__ndarray__\":\"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\",\"dtype\":\"float64\",\"order\":\"little\",\"shape\":[342]},\"Mass\":{\"__ndarray__\":\"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\",\"dtype\":\"float64\",\"order\":\"little\",\"shape\":[342]},\"Sample\":[1,2,3,5,6,7,8,9,10,11,12,13,14,15,16,17,18,19,20,21,22,23,24,25,26,27,28,29,30,31,32,33,34,35,36,37,38,39,40,41,42,43,44,45,46,47,48,49,50,51,52,53,54,55,56,57,58,59,60,61,62,63,64,65,66,67,68,69,70,71,72,73,74,75,76,77,78,79,80,81,82,83,84,85,86,87,88,89,90,91,92,93,94,95,96,97,98,99,100,101,102,103,104,105,106,107,108,109,110,111,112,113,114,115,116,117,118,119,120,121,122,123,124,125,126,127,128,129,130,131,132,133,134,135,136,137,138,139,140,141,142,143,144,145,146,147,148,149,150,151,152,1,2,3,4,5,6,7,8,9,10,11,12,13,14,15,16,17,18,19,20,21,22,23,24,25,26,27,28,29,30,31,32,33,34,35,36,37,38,39,40,41,42,43,44,45,46,47,48,49,50,51,52,53,54,55,56,57,58,59,60,61,62,63,64,65,66,67,68,69,70,71,72,73,74,75,76,77,78,79,80,81,82,83,84,85,86,87,88,89,90,91,92,93,94,95,96,97,98,99,100,101,102,103,104,105,106,107,108,109,110,111,112,113,114,115,116,117,118,119,121,122,123,124,1,2,3,4,5,6,7,8,9,10,11,12,13,14,15,16,17,18,19,20,21,22,23,24,25,26,27,28,29,30,31,32,33,34,35,36,37,38,39,40,41,42,43,44,45,46,47,48,49,50,51,52,53,54,55,56,57,58,59,60,61,62,63,64,65,66,67,68],\"Type\":[\"Adelie\",\"Adelie\",\"Adelie\",\"Adelie\",\"Adelie\",\"Adelie\",\"Adelie\",\"Adelie\",\"Adelie\",\"Adelie\",\"Adelie\",\"Adelie\",\"Adelie\",\"Adelie\",\"Adelie\",\"Adelie\",\"Adelie\",\"Adelie\",\"Adelie\",\"Adelie\",\"Adelie\",\"Adelie\",\"Adelie\",\"Adelie\",\"Adelie\",\"Adelie\",\"Adelie\",\"Adelie\",\"Adelie\",\"Adelie\",\"Adelie\",\"Adelie\",\"Adelie\",\"Adelie\",\"Adelie\",\"Adelie\",\"Adelie\",\"Adelie\",\"Adelie\",\"Adelie\",\"Adelie\",\"Adelie\",\"Adelie\",\"Adelie\",\"Adelie\",\"Adelie\",\"Adelie\",\"Adelie\",\"Adelie\",\"Adelie\",\"Adelie\",\"Adelie\",\"Adelie\",\"Adelie\",\"Adelie\",\"Adelie\",\"Adelie\",\"Adelie\",\"Adelie\",\"Adelie\",\"Adelie\",\"Adelie\",\"Adelie\",\"Adelie\",\"Adelie\",\"Adelie\",\"Adelie\",\"Adelie\",\"Adelie\",\"Adelie\",\"Adelie\",\"Adelie\",\"Adelie\",\"Adelie\",\"Adelie\",\"Adelie\",\"Adelie\",\"Adelie\",\"Adelie\",\"Adelie\",\"Adelie\",\"Adelie\",\"Adelie\",\"Adelie\",\"Adelie\",\"Adelie\",\"Adelie\",\"Adelie\",\"Adelie\",\"Adelie\",\"Adelie\",\"Adelie\",\"Adelie\",\"Adelie\",\"Adelie\",\"Adelie\",\"Adelie\",\"Adelie\",\"Adelie\",\"Adelie\",\"Adelie\",\"Adelie\",\"Adelie\",\"Adelie\",\"Adelie\",\"Adelie\",\"Adelie\",\"Adelie\",\"Adelie\",\"Adelie\",\"Adelie\",\"Adelie\",\"Adelie\",\"Adelie\",\"Adelie\",\"Adelie\",\"Adelie\",\"Adelie\",\"Adelie\",\"Adelie\",\"Adelie\",\"Adelie\",\"Adelie\",\"Adelie\",\"Adelie\",\"Adelie\",\"Adelie\",\"Adelie\",\"Adelie\",\"Adelie\",\"Adelie\",\"Adelie\",\"Adelie\",\"Adelie\",\"Adelie\",\"Adelie\",\"Adelie\",\"Adelie\",\"Adelie\",\"Adelie\",\"Adelie\",\"Adelie\",\"Adelie\",\"Adelie\",\"Adelie\",\"Adelie\",\"Adelie\",\"Adelie\",\"Adelie\",\"Adelie\",\"Adelie\",\"Gentoo\",\"Gentoo\",\"Gentoo\",\"Gentoo\",\"Gentoo\",\"Gentoo\",\"Gentoo\",\"Gentoo\",\"Gentoo\",\"Gentoo\",\"Gentoo\",\"Gentoo\",\"Gentoo\",\"Gentoo\",\"Gentoo\",\"Gentoo\",\"Gentoo\",\"Gentoo\",\"Gentoo\",\"Gentoo\",\"Gentoo\",\"Gentoo\",\"Gentoo\",\"Gentoo\",\"Gentoo\",\"Gentoo\",\"Gentoo\",\"Gentoo\",\"Gentoo\",\"Gentoo\",\"Gentoo\",\"Gentoo\",\"Gentoo\",\"Gentoo\",\"Gentoo\",\"Gentoo\",\"Gentoo\",\"Gentoo\",\"Gentoo\",\"Gentoo\",\"Gentoo\",\"Gentoo\",\"Gentoo\",\"Gentoo\",\"Gentoo\",\"Gentoo\",\"Gentoo\",\"Gentoo\",\"Gentoo\",\"Gentoo\",\"Gentoo\",\"Gentoo\",\"Gentoo\",\"Gentoo\",\"Gentoo\",\"Gentoo\",\"Gentoo\",\"Gentoo\",\"Gentoo\",\"Gentoo\",\"Gentoo\",\"Gentoo\",\"Gentoo\",\"Gentoo\",\"Gentoo\",\"Gentoo\",\"Gentoo\",\"Gentoo\",\"Gentoo\",\"Gentoo\",\"Gentoo\",\"Gentoo\",\"Gentoo\",\"Gentoo\",\"Gentoo\",\"Gentoo\",\"Gentoo\",\"Gentoo\",\"Gentoo\",\"Gentoo\",\"Gentoo\",\"Gentoo\",\"Gentoo\",\"Gentoo\",\"Gentoo\",\"Gentoo\",\"Gentoo\",\"Gentoo\",\"Gentoo\",\"Gentoo\",\"Gentoo\",\"Gentoo\",\"Gentoo\",\"Gentoo\",\"Gentoo\",\"Gentoo\",\"Gentoo\",\"Gentoo\",\"Gentoo\",\"Gentoo\",\"Gentoo\",\"Gentoo\",\"Gentoo\",\"Gentoo\",\"Gentoo\",\"Gentoo\",\"Gentoo\",\"Gentoo\",\"Gentoo\",\"Gentoo\",\"Gentoo\",\"Gentoo\",\"Gentoo\",\"Gentoo\",\"Gentoo\",\"Gentoo\",\"Gentoo\",\"Gentoo\",\"Gentoo\",\"Gentoo\",\"Gentoo\",\"Gentoo\",\"Gentoo\",\"Chinstrap\",\"Chinstrap\",\"Chinstrap\",\"Chinstrap\",\"Chinstrap\",\"Chinstrap\",\"Chinstrap\",\"Chinstrap\",\"Chinstrap\",\"Chinstrap\",\"Chinstrap\",\"Chinstrap\",\"Chinstrap\",\"Chinstrap\",\"Chinstrap\",\"Chinstrap\",\"Chinstrap\",\"Chinstrap\",\"Chinstrap\",\"Chinstrap\",\"Chinstrap\",\"Chinstrap\",\"Chinstrap\",\"Chinstrap\",\"Chinstrap\",\"Chinstrap\",\"Chinstrap\",\"Chinstrap\",\"Chinstrap\",\"Chinstrap\",\"Chinstrap\",\"Chinstrap\",\"Chinstrap\",\"Chinstrap\",\"Chinstrap\",\"Chinstrap\",\"Chinstrap\",\"Chinstrap\",\"Chinstrap\",\"Chinstrap\",\"Chinstrap\",\"Chinstrap\",\"Chinstrap\",\"Chinstrap\",\"Chinstrap\",\"Chinstrap\",\"Chinstrap\",\"Chinstrap\",\"Chinstrap\",\"Chinstrap\",\"Chinstrap\",\"Chinstrap\",\"Chinstrap\",\"Chinstrap\",\"Chinstrap\",\"Chinstrap\",\"Chinstrap\",\"Chinstrap\",\"Chinstrap\",\"Chinstrap\",\"Chinstrap\",\"Chinstrap\",\"Chinstrap\",\"Chinstrap\",\"Chinstrap\",\"Chinstrap\",\"Chinstrap\",\"Chinstrap\"],\"index\":[0,1,2,4,5,6,7,8,9,10,11,12,13,14,15,16,17,18,19,20,21,22,23,24,25,26,27,28,29,30,31,32,33,34,35,36,37,38,39,40,41,42,43,44,45,46,47,48,49,50,51,52,53,54,55,56,57,58,59,60,61,62,63,64,65,66,67,68,69,70,71,72,73,74,75,76,77,78,79,80,81,82,83,84,85,86,87,88,89,90,91,92,93,94,95,96,97,98,99,100,101,102,103,104,105,106,107,108,109,110,111,112,113,114,115,116,117,118,119,120,121,122,123,124,125,126,127,128,129,130,131,132,133,134,135,136,137,138,139,140,141,142,143,144,145,146,147,148,149,150,151,152,153,154,155,156,157,158,159,160,161,162,163,164,165,166,167,168,169,170,171,172,173,174,175,176,177,178,179,180,181,182,183,184,185,186,187,188,189,190,191,192,193,194,195,196,197,198,199,200,201,202,203,204,205,206,207,208,209,210,211,212,213,214,215,216,217,218,219,220,221,222,223,224,225,226,227,228,229,230,231,232,233,234,235,236,237,238,239,240,241,242,243,244,245,246,247,248,249,250,251,252,253,254,255,256,257,258,259,260,261,262,263,264,265,266,267,268,269,270,272,273,274,275,276,277,278,279,280,281,282,283,284,285,286,287,288,289,290,291,292,293,294,295,296,297,298,299,300,301,302,303,304,305,306,307,308,309,310,311,312,313,314,315,316,317,318,319,320,321,322,323,324,325,326,327,328,329,330,331,332,333,334,335,336,337,338,339,340,341,342,343]},\"selected\":{\"id\":\"1256\"},\"selection_policy\":{\"id\":\"1255\"}},\"id\":\"1003\",\"type\":\"ColumnDataSource\"},{\"attributes\":{},\"id\":\"2371\",\"type\":\"DataRange1d\"},{\"attributes\":{\"text\":\"Culmen Depth vs Body Mass\"},\"id\":\"2367\",\"type\":\"Title\"},{\"attributes\":{},\"id\":\"2407\",\"type\":\"BasicTickFormatter\"},{\"attributes\":{},\"id\":\"2369\",\"type\":\"DataRange1d\"},{\"attributes\":{\"source\":{\"id\":\"1003\"}},\"id\":\"2403\",\"type\":\"CDSView\"},{\"attributes\":{\"fill_color\":{\"field\":\"Color\"},\"line_color\":{\"field\":\"Color\"},\"x\":{\"field\":\"Mass\"},\"y\":{\"field\":\"C-Depth\"}},\"id\":\"2400\",\"type\":\"Scatter\"},{\"attributes\":{},\"id\":\"2373\",\"type\":\"LinearScale\"},{\"attributes\":{\"active_drag\":\"auto\",\"active_inspect\":\"auto\",\"active_multi\":null,\"active_scroll\":\"auto\",\"active_tap\":\"auto\",\"tools\":[{\"id\":\"2385\"},{\"id\":\"2386\"},{\"id\":\"2387\"},{\"id\":\"2388\"},{\"id\":\"2389\"},{\"id\":\"2390\"}]},\"id\":\"2392\",\"type\":\"Toolbar\"},{\"attributes\":{},\"id\":\"2385\",\"type\":\"PanTool\"},{\"attributes\":{\"index\":0,\"label\":{\"value\":\"Adelie\"},\"renderers\":[{\"id\":\"2402\"}]},\"id\":\"2413\",\"type\":\"LegendItem\"},{\"attributes\":{},\"id\":\"2388\",\"type\":\"SaveTool\"},{\"attributes\":{\"index\":274,\"label\":{\"value\":\"Chinstrap\"},\"renderers\":[{\"id\":\"2402\"}]},\"id\":\"2414\",\"type\":\"LegendItem\"},{\"attributes\":{\"data_source\":{\"id\":\"1003\"},\"glyph\":{\"id\":\"2400\"},\"hover_glyph\":null,\"muted_glyph\":null,\"nonselection_glyph\":{\"id\":\"2401\"},\"selection_glyph\":null,\"view\":{\"id\":\"2403\"}},\"id\":\"2402\",\"type\":\"GlyphRenderer\"},{\"attributes\":{\"overlay\":{\"id\":\"2391\"}},\"id\":\"2387\",\"type\":\"BoxZoomTool\"},{\"attributes\":{\"index\":151,\"label\":{\"value\":\"Gentoo\"},\"renderers\":[{\"id\":\"2402\"}]},\"id\":\"2415\",\"type\":\"LegendItem\"},{\"attributes\":{},\"id\":\"1256\",\"type\":\"Selection\"},{\"attributes\":{},\"id\":\"2386\",\"type\":\"WheelZoomTool\"},{\"attributes\":{},\"id\":\"1255\",\"type\":\"UnionRenderers\"},{\"attributes\":{},\"id\":\"2390\",\"type\":\"HelpTool\"},{\"attributes\":{\"axis\":{\"id\":\"2381\"},\"dimension\":1,\"ticker\":null},\"id\":\"2384\",\"type\":\"Grid\"},{\"attributes\":{\"fill_alpha\":{\"value\":0.1},\"fill_color\":{\"field\":\"Color\"},\"line_alpha\":{\"value\":0.1},\"line_color\":{\"field\":\"Color\"},\"x\":{\"field\":\"Mass\"},\"y\":{\"field\":\"C-Depth\"}},\"id\":\"2401\",\"type\":\"Scatter\"},{\"attributes\":{\"bottom_units\":\"screen\",\"fill_alpha\":0.5,\"fill_color\":\"lightgrey\",\"left_units\":\"screen\",\"level\":\"overlay\",\"line_alpha\":1.0,\"line_color\":\"black\",\"line_dash\":[4,4],\"line_width\":2,\"right_units\":\"screen\",\"top_units\":\"screen\"},\"id\":\"2391\",\"type\":\"BoxAnnotation\"},{\"attributes\":{\"formatter\":{\"id\":\"2407\"},\"ticker\":{\"id\":\"2382\"}},\"id\":\"2381\",\"type\":\"LinearAxis\"},{\"attributes\":{},\"id\":\"2389\",\"type\":\"ResetTool\"},{\"attributes\":{\"axis\":{\"id\":\"2377\"},\"ticker\":null},\"id\":\"2380\",\"type\":\"Grid\"},{\"attributes\":{},\"id\":\"2378\",\"type\":\"BasicTicker\"},{\"attributes\":{},\"id\":\"2382\",\"type\":\"BasicTicker\"},{\"attributes\":{\"formatter\":{\"id\":\"2405\"},\"ticker\":{\"id\":\"2378\"}},\"id\":\"2377\",\"type\":\"LinearAxis\"}],\"root_ids\":[\"2366\"]},\"title\":\"Bokeh Application\",\"version\":\"2.2.3\"}};\n",
       "  var render_items = [{\"docid\":\"3341b56b-3aac-42d3-bf31-784f897c6f84\",\"root_ids\":[\"2366\"],\"roots\":{\"2366\":\"a83b6590-d81b-4e3c-9570-ac330d5ca01a\"}}];\n",
       "  root.Bokeh.embed.embed_items_notebook(docs_json, render_items);\n",
       "\n",
       "  }\n",
       "  if (root.Bokeh !== undefined) {\n",
       "    embed_document(root);\n",
       "  } else {\n",
       "    var attempts = 0;\n",
       "    var timer = setInterval(function(root) {\n",
       "      if (root.Bokeh !== undefined) {\n",
       "        clearInterval(timer);\n",
       "        embed_document(root);\n",
       "      } else {\n",
       "        attempts++;\n",
       "        if (attempts > 100) {\n",
       "          clearInterval(timer);\n",
       "          console.log(\"Bokeh: ERROR: Unable to run BokehJS code because BokehJS library is missing\");\n",
       "        }\n",
       "      }\n",
       "    }, 10, root)\n",
       "  }\n",
       "})(window);"
      ],
      "application/vnd.bokehjs_exec.v0+json": ""
     },
     "metadata": {
      "application/vnd.bokehjs_exec.v0+json": {
       "id": "2366"
      }
     },
     "output_type": "display_data"
    }
   ],
   "source": [
    "f=figure(title='Culmen Depth vs Body Mass')\n",
    "f.scatter(x='Mass',y='C-Depth',color='Color',source=data,legend_group='Type')\n",
    "show(f)"
   ]
  },
  {
   "cell_type": "code",
   "execution_count": 91,
   "metadata": {},
   "outputs": [
    {
     "data": {
      "text/html": [
       "\n",
       "\n",
       "\n",
       "\n",
       "\n",
       "\n",
       "  <div class=\"bk-root\" id=\"ed47d98e-5745-48d0-bcd2-36b4d9b06c14\" data-root-id=\"2536\"></div>\n"
      ]
     },
     "metadata": {},
     "output_type": "display_data"
    },
    {
     "data": {
      "application/javascript": [
       "(function(root) {\n",
       "  function embed_document(root) {\n",
       "    \n",
       "  var docs_json = {\"25b1d37b-9b26-4853-b863-c0f2000fa9c5\":{\"roots\":{\"references\":[{\"attributes\":{\"below\":[{\"id\":\"2547\"}],\"center\":[{\"id\":\"2550\"},{\"id\":\"2554\"},{\"id\":\"2582\"}],\"left\":[{\"id\":\"2551\"}],\"renderers\":[{\"id\":\"2572\"}],\"title\":{\"id\":\"2537\"},\"toolbar\":{\"id\":\"2562\"},\"x_range\":{\"id\":\"2539\"},\"x_scale\":{\"id\":\"2543\"},\"y_range\":{\"id\":\"2541\"},\"y_scale\":{\"id\":\"2545\"}},\"id\":\"2536\",\"subtype\":\"Figure\",\"type\":\"Plot\"},{\"attributes\":{\"fill_alpha\":{\"value\":0.1},\"fill_color\":{\"field\":\"Color\"},\"line_alpha\":{\"value\":0.1},\"line_color\":{\"field\":\"Color\"},\"x\":{\"field\":\"Mass\"},\"y\":{\"field\":\"Flipper\"}},\"id\":\"2571\",\"type\":\"Scatter\"},{\"attributes\":{},\"id\":\"2548\",\"type\":\"BasicTicker\"},{\"attributes\":{\"data_source\":{\"id\":\"1003\"},\"glyph\":{\"id\":\"2570\"},\"hover_glyph\":null,\"muted_glyph\":null,\"nonselection_glyph\":{\"id\":\"2571\"},\"selection_glyph\":null,\"view\":{\"id\":\"2573\"}},\"id\":\"2572\",\"type\":\"GlyphRenderer\"},{\"attributes\":{},\"id\":\"2552\",\"type\":\"BasicTicker\"},{\"attributes\":{\"formatter\":{\"id\":\"2575\"},\"ticker\":{\"id\":\"2548\"}},\"id\":\"2547\",\"type\":\"LinearAxis\"},{\"attributes\":{\"items\":[{\"id\":\"2583\"},{\"id\":\"2584\"},{\"id\":\"2585\"}]},\"id\":\"2582\",\"type\":\"Legend\"},{\"attributes\":{\"data\":{\"C-Depth\":{\"__ndarray__\":\"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\",\"dtype\":\"float64\",\"order\":\"little\",\"shape\":[342]},\"C-Length\":{\"__ndarray__\":\"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\",\"dtype\":\"float64\",\"order\":\"little\",\"shape\":[342]},\"Color\":[\"blue\",\"blue\",\"blue\",\"blue\",\"blue\",\"blue\",\"blue\",\"blue\",\"blue\",\"blue\",\"blue\",\"blue\",\"blue\",\"blue\",\"blue\",\"blue\",\"blue\",\"blue\",\"blue\",\"blue\",\"blue\",\"blue\",\"blue\",\"blue\",\"blue\",\"blue\",\"blue\",\"blue\",\"blue\",\"blue\",\"blue\",\"blue\",\"blue\",\"blue\",\"blue\",\"blue\",\"blue\",\"blue\",\"blue\",\"blue\",\"blue\",\"blue\",\"blue\",\"blue\",\"blue\",\"blue\",\"blue\",\"blue\",\"blue\",\"blue\",\"blue\",\"blue\",\"blue\",\"blue\",\"blue\",\"blue\",\"blue\",\"blue\",\"blue\",\"blue\",\"blue\",\"blue\",\"blue\",\"blue\",\"blue\",\"blue\",\"blue\",\"blue\",\"blue\",\"blue\",\"blue\",\"blue\",\"blue\",\"blue\",\"blue\",\"blue\",\"blue\",\"blue\",\"blue\",\"blue\",\"blue\",\"blue\",\"blue\",\"blue\",\"blue\",\"blue\",\"blue\",\"blue\",\"blue\",\"blue\",\"blue\",\"blue\",\"blue\",\"blue\",\"blue\",\"blue\",\"blue\",\"blue\",\"blue\",\"blue\",\"blue\",\"blue\",\"blue\",\"blue\",\"blue\",\"blue\",\"blue\",\"blue\",\"blue\",\"blue\",\"blue\",\"blue\",\"blue\",\"blue\",\"blue\",\"blue\",\"blue\",\"blue\",\"blue\",\"blue\",\"blue\",\"blue\",\"blue\",\"blue\",\"blue\",\"blue\",\"blue\",\"blue\",\"blue\",\"blue\",\"blue\",\"blue\",\"blue\",\"blue\",\"blue\",\"blue\",\"blue\",\"blue\",\"blue\",\"blue\",\"blue\",\"blue\",\"blue\",\"blue\",\"blue\",\"blue\",\"blue\",\"blue\",\"blue\",\"blue\",\"blue\",\"green\",\"green\",\"green\",\"green\",\"green\",\"green\",\"green\",\"green\",\"green\",\"green\",\"green\",\"green\",\"green\",\"green\",\"green\",\"green\",\"green\",\"green\",\"green\",\"green\",\"green\",\"green\",\"green\",\"green\",\"green\",\"green\",\"green\",\"green\",\"green\",\"green\",\"green\",\"green\",\"green\",\"green\",\"green\",\"green\",\"green\",\"green\",\"green\",\"green\",\"green\",\"green\",\"green\",\"green\",\"green\",\"green\",\"green\",\"green\",\"green\",\"green\",\"green\",\"green\",\"green\",\"green\",\"green\",\"green\",\"green\",\"green\",\"green\",\"green\",\"green\",\"green\",\"green\",\"green\",\"green\",\"green\",\"green\",\"green\",\"green\",\"green\",\"green\",\"green\",\"green\",\"green\",\"green\",\"green\",\"green\",\"green\",\"green\",\"green\",\"green\",\"green\",\"green\",\"green\",\"green\",\"green\",\"green\",\"green\",\"green\",\"green\",\"green\",\"green\",\"green\",\"green\",\"green\",\"green\",\"green\",\"green\",\"green\",\"green\",\"green\",\"green\",\"green\",\"green\",\"green\",\"green\",\"green\",\"green\",\"green\",\"green\",\"green\",\"green\",\"green\",\"green\",\"green\",\"green\",\"green\",\"green\",\"green\",\"green\",\"green\",\"green\",\"green\",\"red\",\"red\",\"red\",\"red\",\"red\",\"red\",\"red\",\"red\",\"red\",\"red\",\"red\",\"red\",\"red\",\"red\",\"red\",\"red\",\"red\",\"red\",\"red\",\"red\",\"red\",\"red\",\"red\",\"red\",\"red\",\"red\",\"red\",\"red\",\"red\",\"red\",\"red\",\"red\",\"red\",\"red\",\"red\",\"red\",\"red\",\"red\",\"red\",\"red\",\"red\",\"red\",\"red\",\"red\",\"red\",\"red\",\"red\",\"red\",\"red\",\"red\",\"red\",\"red\",\"red\",\"red\",\"red\",\"red\",\"red\",\"red\",\"red\",\"red\",\"red\",\"red\",\"red\",\"red\",\"red\",\"red\",\"red\",\"red\"],\"Flipper\":{\"__ndarray__\":\"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\",\"dtype\":\"float64\",\"order\":\"little\",\"shape\":[342]},\"Mass\":{\"__ndarray__\":\"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\",\"dtype\":\"float64\",\"order\":\"little\",\"shape\":[342]},\"Sample\":[1,2,3,5,6,7,8,9,10,11,12,13,14,15,16,17,18,19,20,21,22,23,24,25,26,27,28,29,30,31,32,33,34,35,36,37,38,39,40,41,42,43,44,45,46,47,48,49,50,51,52,53,54,55,56,57,58,59,60,61,62,63,64,65,66,67,68,69,70,71,72,73,74,75,76,77,78,79,80,81,82,83,84,85,86,87,88,89,90,91,92,93,94,95,96,97,98,99,100,101,102,103,104,105,106,107,108,109,110,111,112,113,114,115,116,117,118,119,120,121,122,123,124,125,126,127,128,129,130,131,132,133,134,135,136,137,138,139,140,141,142,143,144,145,146,147,148,149,150,151,152,1,2,3,4,5,6,7,8,9,10,11,12,13,14,15,16,17,18,19,20,21,22,23,24,25,26,27,28,29,30,31,32,33,34,35,36,37,38,39,40,41,42,43,44,45,46,47,48,49,50,51,52,53,54,55,56,57,58,59,60,61,62,63,64,65,66,67,68,69,70,71,72,73,74,75,76,77,78,79,80,81,82,83,84,85,86,87,88,89,90,91,92,93,94,95,96,97,98,99,100,101,102,103,104,105,106,107,108,109,110,111,112,113,114,115,116,117,118,119,121,122,123,124,1,2,3,4,5,6,7,8,9,10,11,12,13,14,15,16,17,18,19,20,21,22,23,24,25,26,27,28,29,30,31,32,33,34,35,36,37,38,39,40,41,42,43,44,45,46,47,48,49,50,51,52,53,54,55,56,57,58,59,60,61,62,63,64,65,66,67,68],\"Type\":[\"Adelie\",\"Adelie\",\"Adelie\",\"Adelie\",\"Adelie\",\"Adelie\",\"Adelie\",\"Adelie\",\"Adelie\",\"Adelie\",\"Adelie\",\"Adelie\",\"Adelie\",\"Adelie\",\"Adelie\",\"Adelie\",\"Adelie\",\"Adelie\",\"Adelie\",\"Adelie\",\"Adelie\",\"Adelie\",\"Adelie\",\"Adelie\",\"Adelie\",\"Adelie\",\"Adelie\",\"Adelie\",\"Adelie\",\"Adelie\",\"Adelie\",\"Adelie\",\"Adelie\",\"Adelie\",\"Adelie\",\"Adelie\",\"Adelie\",\"Adelie\",\"Adelie\",\"Adelie\",\"Adelie\",\"Adelie\",\"Adelie\",\"Adelie\",\"Adelie\",\"Adelie\",\"Adelie\",\"Adelie\",\"Adelie\",\"Adelie\",\"Adelie\",\"Adelie\",\"Adelie\",\"Adelie\",\"Adelie\",\"Adelie\",\"Adelie\",\"Adelie\",\"Adelie\",\"Adelie\",\"Adelie\",\"Adelie\",\"Adelie\",\"Adelie\",\"Adelie\",\"Adelie\",\"Adelie\",\"Adelie\",\"Adelie\",\"Adelie\",\"Adelie\",\"Adelie\",\"Adelie\",\"Adelie\",\"Adelie\",\"Adelie\",\"Adelie\",\"Adelie\",\"Adelie\",\"Adelie\",\"Adelie\",\"Adelie\",\"Adelie\",\"Adelie\",\"Adelie\",\"Adelie\",\"Adelie\",\"Adelie\",\"Adelie\",\"Adelie\",\"Adelie\",\"Adelie\",\"Adelie\",\"Adelie\",\"Adelie\",\"Adelie\",\"Adelie\",\"Adelie\",\"Adelie\",\"Adelie\",\"Adelie\",\"Adelie\",\"Adelie\",\"Adelie\",\"Adelie\",\"Adelie\",\"Adelie\",\"Adelie\",\"Adelie\",\"Adelie\",\"Adelie\",\"Adelie\",\"Adelie\",\"Adelie\",\"Adelie\",\"Adelie\",\"Adelie\",\"Adelie\",\"Adelie\",\"Adelie\",\"Adelie\",\"Adelie\",\"Adelie\",\"Adelie\",\"Adelie\",\"Adelie\",\"Adelie\",\"Adelie\",\"Adelie\",\"Adelie\",\"Adelie\",\"Adelie\",\"Adelie\",\"Adelie\",\"Adelie\",\"Adelie\",\"Adelie\",\"Adelie\",\"Adelie\",\"Adelie\",\"Adelie\",\"Adelie\",\"Adelie\",\"Adelie\",\"Adelie\",\"Adelie\",\"Adelie\",\"Adelie\",\"Adelie\",\"Adelie\",\"Adelie\",\"Gentoo\",\"Gentoo\",\"Gentoo\",\"Gentoo\",\"Gentoo\",\"Gentoo\",\"Gentoo\",\"Gentoo\",\"Gentoo\",\"Gentoo\",\"Gentoo\",\"Gentoo\",\"Gentoo\",\"Gentoo\",\"Gentoo\",\"Gentoo\",\"Gentoo\",\"Gentoo\",\"Gentoo\",\"Gentoo\",\"Gentoo\",\"Gentoo\",\"Gentoo\",\"Gentoo\",\"Gentoo\",\"Gentoo\",\"Gentoo\",\"Gentoo\",\"Gentoo\",\"Gentoo\",\"Gentoo\",\"Gentoo\",\"Gentoo\",\"Gentoo\",\"Gentoo\",\"Gentoo\",\"Gentoo\",\"Gentoo\",\"Gentoo\",\"Gentoo\",\"Gentoo\",\"Gentoo\",\"Gentoo\",\"Gentoo\",\"Gentoo\",\"Gentoo\",\"Gentoo\",\"Gentoo\",\"Gentoo\",\"Gentoo\",\"Gentoo\",\"Gentoo\",\"Gentoo\",\"Gentoo\",\"Gentoo\",\"Gentoo\",\"Gentoo\",\"Gentoo\",\"Gentoo\",\"Gentoo\",\"Gentoo\",\"Gentoo\",\"Gentoo\",\"Gentoo\",\"Gentoo\",\"Gentoo\",\"Gentoo\",\"Gentoo\",\"Gentoo\",\"Gentoo\",\"Gentoo\",\"Gentoo\",\"Gentoo\",\"Gentoo\",\"Gentoo\",\"Gentoo\",\"Gentoo\",\"Gentoo\",\"Gentoo\",\"Gentoo\",\"Gentoo\",\"Gentoo\",\"Gentoo\",\"Gentoo\",\"Gentoo\",\"Gentoo\",\"Gentoo\",\"Gentoo\",\"Gentoo\",\"Gentoo\",\"Gentoo\",\"Gentoo\",\"Gentoo\",\"Gentoo\",\"Gentoo\",\"Gentoo\",\"Gentoo\",\"Gentoo\",\"Gentoo\",\"Gentoo\",\"Gentoo\",\"Gentoo\",\"Gentoo\",\"Gentoo\",\"Gentoo\",\"Gentoo\",\"Gentoo\",\"Gentoo\",\"Gentoo\",\"Gentoo\",\"Gentoo\",\"Gentoo\",\"Gentoo\",\"Gentoo\",\"Gentoo\",\"Gentoo\",\"Gentoo\",\"Gentoo\",\"Gentoo\",\"Gentoo\",\"Gentoo\",\"Gentoo\",\"Gentoo\",\"Chinstrap\",\"Chinstrap\",\"Chinstrap\",\"Chinstrap\",\"Chinstrap\",\"Chinstrap\",\"Chinstrap\",\"Chinstrap\",\"Chinstrap\",\"Chinstrap\",\"Chinstrap\",\"Chinstrap\",\"Chinstrap\",\"Chinstrap\",\"Chinstrap\",\"Chinstrap\",\"Chinstrap\",\"Chinstrap\",\"Chinstrap\",\"Chinstrap\",\"Chinstrap\",\"Chinstrap\",\"Chinstrap\",\"Chinstrap\",\"Chinstrap\",\"Chinstrap\",\"Chinstrap\",\"Chinstrap\",\"Chinstrap\",\"Chinstrap\",\"Chinstrap\",\"Chinstrap\",\"Chinstrap\",\"Chinstrap\",\"Chinstrap\",\"Chinstrap\",\"Chinstrap\",\"Chinstrap\",\"Chinstrap\",\"Chinstrap\",\"Chinstrap\",\"Chinstrap\",\"Chinstrap\",\"Chinstrap\",\"Chinstrap\",\"Chinstrap\",\"Chinstrap\",\"Chinstrap\",\"Chinstrap\",\"Chinstrap\",\"Chinstrap\",\"Chinstrap\",\"Chinstrap\",\"Chinstrap\",\"Chinstrap\",\"Chinstrap\",\"Chinstrap\",\"Chinstrap\",\"Chinstrap\",\"Chinstrap\",\"Chinstrap\",\"Chinstrap\",\"Chinstrap\",\"Chinstrap\",\"Chinstrap\",\"Chinstrap\",\"Chinstrap\",\"Chinstrap\"],\"index\":[0,1,2,4,5,6,7,8,9,10,11,12,13,14,15,16,17,18,19,20,21,22,23,24,25,26,27,28,29,30,31,32,33,34,35,36,37,38,39,40,41,42,43,44,45,46,47,48,49,50,51,52,53,54,55,56,57,58,59,60,61,62,63,64,65,66,67,68,69,70,71,72,73,74,75,76,77,78,79,80,81,82,83,84,85,86,87,88,89,90,91,92,93,94,95,96,97,98,99,100,101,102,103,104,105,106,107,108,109,110,111,112,113,114,115,116,117,118,119,120,121,122,123,124,125,126,127,128,129,130,131,132,133,134,135,136,137,138,139,140,141,142,143,144,145,146,147,148,149,150,151,152,153,154,155,156,157,158,159,160,161,162,163,164,165,166,167,168,169,170,171,172,173,174,175,176,177,178,179,180,181,182,183,184,185,186,187,188,189,190,191,192,193,194,195,196,197,198,199,200,201,202,203,204,205,206,207,208,209,210,211,212,213,214,215,216,217,218,219,220,221,222,223,224,225,226,227,228,229,230,231,232,233,234,235,236,237,238,239,240,241,242,243,244,245,246,247,248,249,250,251,252,253,254,255,256,257,258,259,260,261,262,263,264,265,266,267,268,269,270,272,273,274,275,276,277,278,279,280,281,282,283,284,285,286,287,288,289,290,291,292,293,294,295,296,297,298,299,300,301,302,303,304,305,306,307,308,309,310,311,312,313,314,315,316,317,318,319,320,321,322,323,324,325,326,327,328,329,330,331,332,333,334,335,336,337,338,339,340,341,342,343]},\"selected\":{\"id\":\"1256\"},\"selection_policy\":{\"id\":\"1255\"}},\"id\":\"1003\",\"type\":\"ColumnDataSource\"},{\"attributes\":{},\"id\":\"2575\",\"type\":\"BasicTickFormatter\"},{\"attributes\":{},\"id\":\"2577\",\"type\":\"BasicTickFormatter\"},{\"attributes\":{},\"id\":\"2560\",\"type\":\"HelpTool\"},{\"attributes\":{\"active_drag\":\"auto\",\"active_inspect\":\"auto\",\"active_multi\":null,\"active_scroll\":\"auto\",\"active_tap\":\"auto\",\"tools\":[{\"id\":\"2555\"},{\"id\":\"2556\"},{\"id\":\"2557\"},{\"id\":\"2558\"},{\"id\":\"2559\"},{\"id\":\"2560\"}]},\"id\":\"2562\",\"type\":\"Toolbar\"},{\"attributes\":{\"fill_color\":{\"field\":\"Color\"},\"line_color\":{\"field\":\"Color\"},\"x\":{\"field\":\"Mass\"},\"y\":{\"field\":\"Flipper\"}},\"id\":\"2570\",\"type\":\"Scatter\"},{\"attributes\":{},\"id\":\"2541\",\"type\":\"DataRange1d\"},{\"attributes\":{},\"id\":\"2559\",\"type\":\"ResetTool\"},{\"attributes\":{\"overlay\":{\"id\":\"2561\"}},\"id\":\"2557\",\"type\":\"BoxZoomTool\"},{\"attributes\":{},\"id\":\"2545\",\"type\":\"LinearScale\"},{\"attributes\":{\"index\":0,\"label\":{\"value\":\"Adelie\"},\"renderers\":[{\"id\":\"2572\"}]},\"id\":\"2583\",\"type\":\"LegendItem\"},{\"attributes\":{},\"id\":\"1256\",\"type\":\"Selection\"},{\"attributes\":{\"index\":151,\"label\":{\"value\":\"Gentoo\"},\"renderers\":[{\"id\":\"2572\"}]},\"id\":\"2585\",\"type\":\"LegendItem\"},{\"attributes\":{},\"id\":\"2555\",\"type\":\"PanTool\"},{\"attributes\":{\"index\":274,\"label\":{\"value\":\"Chinstrap\"},\"renderers\":[{\"id\":\"2572\"}]},\"id\":\"2584\",\"type\":\"LegendItem\"},{\"attributes\":{},\"id\":\"1255\",\"type\":\"UnionRenderers\"},{\"attributes\":{\"source\":{\"id\":\"1003\"}},\"id\":\"2573\",\"type\":\"CDSView\"},{\"attributes\":{},\"id\":\"2556\",\"type\":\"WheelZoomTool\"},{\"attributes\":{\"text\":\"Flipper Length vs Body Mass\"},\"id\":\"2537\",\"type\":\"Title\"},{\"attributes\":{},\"id\":\"2558\",\"type\":\"SaveTool\"},{\"attributes\":{},\"id\":\"2539\",\"type\":\"DataRange1d\"},{\"attributes\":{\"formatter\":{\"id\":\"2577\"},\"ticker\":{\"id\":\"2552\"}},\"id\":\"2551\",\"type\":\"LinearAxis\"},{\"attributes\":{},\"id\":\"2543\",\"type\":\"LinearScale\"},{\"attributes\":{\"bottom_units\":\"screen\",\"fill_alpha\":0.5,\"fill_color\":\"lightgrey\",\"left_units\":\"screen\",\"level\":\"overlay\",\"line_alpha\":1.0,\"line_color\":\"black\",\"line_dash\":[4,4],\"line_width\":2,\"right_units\":\"screen\",\"top_units\":\"screen\"},\"id\":\"2561\",\"type\":\"BoxAnnotation\"},{\"attributes\":{\"axis\":{\"id\":\"2551\"},\"dimension\":1,\"ticker\":null},\"id\":\"2554\",\"type\":\"Grid\"},{\"attributes\":{\"axis\":{\"id\":\"2547\"},\"ticker\":null},\"id\":\"2550\",\"type\":\"Grid\"}],\"root_ids\":[\"2536\"]},\"title\":\"Bokeh Application\",\"version\":\"2.2.3\"}};\n",
       "  var render_items = [{\"docid\":\"25b1d37b-9b26-4853-b863-c0f2000fa9c5\",\"root_ids\":[\"2536\"],\"roots\":{\"2536\":\"ed47d98e-5745-48d0-bcd2-36b4d9b06c14\"}}];\n",
       "  root.Bokeh.embed.embed_items_notebook(docs_json, render_items);\n",
       "\n",
       "  }\n",
       "  if (root.Bokeh !== undefined) {\n",
       "    embed_document(root);\n",
       "  } else {\n",
       "    var attempts = 0;\n",
       "    var timer = setInterval(function(root) {\n",
       "      if (root.Bokeh !== undefined) {\n",
       "        clearInterval(timer);\n",
       "        embed_document(root);\n",
       "      } else {\n",
       "        attempts++;\n",
       "        if (attempts > 100) {\n",
       "          clearInterval(timer);\n",
       "          console.log(\"Bokeh: ERROR: Unable to run BokehJS code because BokehJS library is missing\");\n",
       "        }\n",
       "      }\n",
       "    }, 10, root)\n",
       "  }\n",
       "})(window);"
      ],
      "application/vnd.bokehjs_exec.v0+json": ""
     },
     "metadata": {
      "application/vnd.bokehjs_exec.v0+json": {
       "id": "2536"
      }
     },
     "output_type": "display_data"
    }
   ],
   "source": [
    "f=figure(title='Flipper Length vs Body Mass')\n",
    "f.scatter(x='Mass',y='Flipper',color='Color',source=data,legend_group='Type')\n",
    "show(f)"
   ]
  },
  {
   "cell_type": "markdown",
   "metadata": {},
   "source": [
    "## An SVM example"
   ]
  },
  {
   "cell_type": "markdown",
   "metadata": {},
   "source": [
    "Let's consider the case of Gentoo vs Chinstrap penguins, using Flipper length and body mass.  The associated scatter plot looks like this."
   ]
  },
  {
   "cell_type": "code",
   "execution_count": 108,
   "metadata": {},
   "outputs": [],
   "source": [
    "gc_df = simple_df[(simple_df.Type=='Gentoo') | (simple_df.Type=='Chinstrap')]"
   ]
  },
  {
   "cell_type": "code",
   "execution_count": 110,
   "metadata": {},
   "outputs": [],
   "source": [
    "data2 = ColumnDataSource(gc_df)"
   ]
  },
  {
   "cell_type": "code",
   "execution_count": 113,
   "metadata": {},
   "outputs": [
    {
     "data": {
      "text/html": [
       "\n",
       "\n",
       "\n",
       "\n",
       "\n",
       "\n",
       "  <div class=\"bk-root\" id=\"7f899edf-740b-4354-b89f-e1be174d5c69\" data-root-id=\"2949\"></div>\n"
      ]
     },
     "metadata": {},
     "output_type": "display_data"
    },
    {
     "data": {
      "application/javascript": [
       "(function(root) {\n",
       "  function embed_document(root) {\n",
       "    \n",
       "  var docs_json = {\"43ec59a4-e306-4174-8c1b-ee056ad0c935\":{\"roots\":{\"references\":[{\"attributes\":{\"below\":[{\"id\":\"2960\"}],\"center\":[{\"id\":\"2963\"},{\"id\":\"2967\"},{\"id\":\"2995\"}],\"left\":[{\"id\":\"2964\"}],\"renderers\":[{\"id\":\"2985\"}],\"title\":{\"id\":\"2950\"},\"toolbar\":{\"id\":\"2975\"},\"x_range\":{\"id\":\"2952\"},\"x_scale\":{\"id\":\"2956\"},\"y_range\":{\"id\":\"2954\"},\"y_scale\":{\"id\":\"2958\"}},\"id\":\"2949\",\"subtype\":\"Figure\",\"type\":\"Plot\"},{\"attributes\":{\"axis\":{\"id\":\"2960\"},\"ticker\":null},\"id\":\"2963\",\"type\":\"Grid\"},{\"attributes\":{},\"id\":\"2758\",\"type\":\"UnionRenderers\"},{\"attributes\":{},\"id\":\"2969\",\"type\":\"WheelZoomTool\"},{\"attributes\":{\"source\":{\"id\":\"2714\"}},\"id\":\"2986\",\"type\":\"CDSView\"},{\"attributes\":{},\"id\":\"2952\",\"type\":\"DataRange1d\"},{\"attributes\":{\"overlay\":{\"id\":\"2974\"}},\"id\":\"2970\",\"type\":\"BoxZoomTool\"},{\"attributes\":{},\"id\":\"2956\",\"type\":\"LinearScale\"},{\"attributes\":{},\"id\":\"2971\",\"type\":\"SaveTool\"},{\"attributes\":{},\"id\":\"2973\",\"type\":\"HelpTool\"},{\"attributes\":{},\"id\":\"2961\",\"type\":\"BasicTicker\"},{\"attributes\":{\"data_source\":{\"id\":\"2714\"},\"glyph\":{\"id\":\"2983\"},\"hover_glyph\":null,\"muted_glyph\":null,\"nonselection_glyph\":{\"id\":\"2984\"},\"selection_glyph\":null,\"view\":{\"id\":\"2986\"}},\"id\":\"2985\",\"type\":\"GlyphRenderer\"},{\"attributes\":{\"formatter\":{\"id\":\"2990\"},\"ticker\":{\"id\":\"2965\"}},\"id\":\"2964\",\"type\":\"LinearAxis\"},{\"attributes\":{\"index\":0,\"label\":{\"value\":\"Gentoo\"},\"renderers\":[{\"id\":\"2985\"}]},\"id\":\"2997\",\"type\":\"LegendItem\"},{\"attributes\":{\"items\":[{\"id\":\"2996\"},{\"id\":\"2997\"}]},\"id\":\"2995\",\"type\":\"Legend\"},{\"attributes\":{\"bottom_units\":\"screen\",\"fill_alpha\":0.5,\"fill_color\":\"lightgrey\",\"left_units\":\"screen\",\"level\":\"overlay\",\"line_alpha\":1.0,\"line_color\":\"black\",\"line_dash\":[4,4],\"line_width\":2,\"right_units\":\"screen\",\"top_units\":\"screen\"},\"id\":\"2974\",\"type\":\"BoxAnnotation\"},{\"attributes\":{\"active_drag\":\"auto\",\"active_inspect\":\"auto\",\"active_multi\":null,\"active_scroll\":\"auto\",\"active_tap\":\"auto\",\"tools\":[{\"id\":\"2968\"},{\"id\":\"2969\"},{\"id\":\"2970\"},{\"id\":\"2971\"},{\"id\":\"2972\"},{\"id\":\"2973\"}]},\"id\":\"2975\",\"type\":\"Toolbar\"},{\"attributes\":{},\"id\":\"2958\",\"type\":\"LinearScale\"},{\"attributes\":{\"index\":123,\"label\":{\"value\":\"Chinstrap\"},\"renderers\":[{\"id\":\"2985\"}]},\"id\":\"2996\",\"type\":\"LegendItem\"},{\"attributes\":{},\"id\":\"2965\",\"type\":\"BasicTicker\"},{\"attributes\":{\"fill_alpha\":{\"value\":0.1},\"fill_color\":{\"field\":\"Color\"},\"line_alpha\":{\"value\":0.1},\"line_color\":{\"field\":\"Color\"},\"x\":{\"field\":\"Mass\"},\"y\":{\"field\":\"Flipper\"}},\"id\":\"2984\",\"type\":\"Scatter\"},{\"attributes\":{},\"id\":\"2968\",\"type\":\"PanTool\"},{\"attributes\":{},\"id\":\"2954\",\"type\":\"DataRange1d\"},{\"attributes\":{\"axis\":{\"id\":\"2964\"},\"dimension\":1,\"ticker\":null},\"id\":\"2967\",\"type\":\"Grid\"},{\"attributes\":{\"data\":{\"C-Depth\":{\"__ndarray__\":\"ZmZmZmZmKkDNzMzMzEwwQDMzMzMzMyxAZmZmZmZmLkAAAAAAAAAtQAAAAAAAACtAMzMzMzMzLUCamZmZmZkuQM3MzMzMzCpAzczMzMzMLkBmZmZmZmYrQJqZmZmZGTBAZmZmZmZmK0AzMzMzMzMtQDMzMzMzMy1AZmZmZmZmL0AAAAAAAAArQGZmZmZmZi5AAAAAAAAALUAzMzMzMzMuQJqZmZmZmSxAAAAAAAAALUAAAAAAAAAtQJqZmZmZmS9AMzMzMzMzKkAzMzMzMzMuQJqZmZmZmSxAAAAAAAAALkCamZmZmZksQJqZmZmZmS5AmpmZmZmZLkBmZmZmZmYsQAAAAAAAAC1AAAAAAAAAMUCamZmZmZktQM3MzMzMTDBAZmZmZmZmK0DNzMzMzEwxQDMzMzMzMytAZmZmZmZmL0BmZmZmZmYrQAAAAAAAADBAZmZmZmZmK0AAAAAAAAAuQM3MzMzMzC9AzczMzMzMK0DNzMzMzMwrQM3MzMzMzC9AmpmZmZmZKkCamZmZmZkvQGZmZmZmZixAMzMzMzMzLEDNzMzMzMwsQAAAAAAAAC5AzczMzMzMLEDNzMzMzMwuQM3MzMzMzCtAAAAAAAAALkAAAAAAAAAtQJqZmZmZmS5AmpmZmZmZK0DNzMzMzMwtQM3MzMzMzCtAZmZmZmZmL0BmZmZmZmYsQM3MzMzMzDBAzczMzMzMLEAzMzMzMzMwQGZmZmZmZixAAAAAAAAALkAAAAAAAAAuQDMzMzMzMy9AMzMzMzMzL0CamZmZmZktQAAAAAAAAC5AAAAAAAAAMEBmZmZmZmYsQM3MzMzMTDBAmpmZmZmZK0BmZmZmZmYwQAAAAAAAAC1AMzMzMzMzL0AzMzMzMzMtQM3MzMzMzC9AmpmZmZmZK0DNzMzMzEwxQM3MzMzMzCxAZmZmZmZmLEAAAAAAAAAsQAAAAAAAADFAAAAAAAAALkCamZmZmRkxQAAAAAAAAC1AmpmZmZkZMEBmZmZmZmYtQGZmZmZmZi9AmpmZmZmZL0AzMzMzMzMtQM3MzMzMzCxAAAAAAACAMEAAAAAAAAAuQAAAAAAAADFAAAAAAAAAL0AAAAAAAAAuQJqZmZmZmStAmpmZmZkZMEBmZmZmZmYtQJqZmZmZmS9AAAAAAAAALEAzMzMzMzMuQGZmZmZmZi5AzczMzMzML0BmZmZmZmYuQM3MzMzMTDBAMzMzMzMzLEAAAAAAAAAwQGZmZmZmZi9AMzMzMzMzMEBmZmZmZmYrQJqZmZmZmSxAZmZmZmZmL0CamZmZmZktQJqZmZmZGTBAZmZmZmbmMUAAAAAAAIAzQDMzMzMzMzNAMzMzMzOzMkDNzMzMzMwzQM3MzMzMzDFAMzMzMzMzMkAzMzMzMzMyQGZmZmZm5jJAZmZmZmbmM0DNzMzMzMwxQM3MzMzMTDRAzczMzMxMMUCamZmZmRkyQJqZmZmZGTFAmpmZmZmZM0AAAAAAAAA0QM3MzMzMzDFAmpmZmZmZMkAzMzMzMzMyQM3MzMzMTDFAAAAAAACAMUCamZmZmZkwQGZmZmZmZjNAZmZmZmbmMUAAAAAAAAAzQGZmZmZmZjJAAAAAAAAAM0DNzMzMzMwxQAAAAAAAADRAmpmZmZmZMEDNzMzMzMw0QDMzMzMzszBAzczMzMzMMkCamZmZmZkyQM3MzMzMzDBAzczMzMxMMkAzMzMzM7M0QJqZmZmZmTBAZmZmZmbmM0AAAAAAAIAzQAAAAAAAgDFAmpmZmZkZM0AAAAAAAAAxQGZmZmZm5jFAAAAAAACAMkBmZmZmZuYxQJqZmZmZmTNAMzMzMzOzMkDNzMzMzEwxQGZmZmZmZjBAAAAAAAAAM0DNzMzMzEwxQDMzMzMzszNAzczMzMxMMUDNzMzMzMwyQJqZmZmZmTBAZmZmZmbmM0DNzMzMzMwyQGZmZmZmZjNAAAAAAACAM0AAAAAAAIAwQAAAAAAAADFAzczMzMzMM0CamZmZmRkyQDMzMzMzMzJAAAAAAAAAM0AzMzMzM7MyQA==\",\"dtype\":\"float64\",\"order\":\"little\",\"shape\":[191]},\"C-Length\":{\"__ndarray__\":\"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\",\"dtype\":\"float64\",\"order\":\"little\",\"shape\":[191]},\"Color\":[\"green\",\"green\",\"green\",\"green\",\"green\",\"green\",\"green\",\"green\",\"green\",\"green\",\"green\",\"green\",\"green\",\"green\",\"green\",\"green\",\"green\",\"green\",\"green\",\"green\",\"green\",\"green\",\"green\",\"green\",\"green\",\"green\",\"green\",\"green\",\"green\",\"green\",\"green\",\"green\",\"green\",\"green\",\"green\",\"green\",\"green\",\"green\",\"green\",\"green\",\"green\",\"green\",\"green\",\"green\",\"green\",\"green\",\"green\",\"green\",\"green\",\"green\",\"green\",\"green\",\"green\",\"green\",\"green\",\"green\",\"green\",\"green\",\"green\",\"green\",\"green\",\"green\",\"green\",\"green\",\"green\",\"green\",\"green\",\"green\",\"green\",\"green\",\"green\",\"green\",\"green\",\"green\",\"green\",\"green\",\"green\",\"green\",\"green\",\"green\",\"green\",\"green\",\"green\",\"green\",\"green\",\"green\",\"green\",\"green\",\"green\",\"green\",\"green\",\"green\",\"green\",\"green\",\"green\",\"green\",\"green\",\"green\",\"green\",\"green\",\"green\",\"green\",\"green\",\"green\",\"green\",\"green\",\"green\",\"green\",\"green\",\"green\",\"green\",\"green\",\"green\",\"green\",\"green\",\"green\",\"green\",\"green\",\"green\",\"green\",\"green\",\"green\",\"green\",\"red\",\"red\",\"red\",\"red\",\"red\",\"red\",\"red\",\"red\",\"red\",\"red\",\"red\",\"red\",\"red\",\"red\",\"red\",\"red\",\"red\",\"red\",\"red\",\"red\",\"red\",\"red\",\"red\",\"red\",\"red\",\"red\",\"red\",\"red\",\"red\",\"red\",\"red\",\"red\",\"red\",\"red\",\"red\",\"red\",\"red\",\"red\",\"red\",\"red\",\"red\",\"red\",\"red\",\"red\",\"red\",\"red\",\"red\",\"red\",\"red\",\"red\",\"red\",\"red\",\"red\",\"red\",\"red\",\"red\",\"red\",\"red\",\"red\",\"red\",\"red\",\"red\",\"red\",\"red\",\"red\",\"red\",\"red\",\"red\"],\"Flipper\":{\"__ndarray__\":\"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\",\"dtype\":\"float64\",\"order\":\"little\",\"shape\":[191]},\"Mass\":{\"__ndarray__\":\"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\",\"dtype\":\"float64\",\"order\":\"little\",\"shape\":[191]},\"Sample\":[1,2,3,4,5,6,7,8,9,10,11,12,13,14,15,16,17,18,19,20,21,22,23,24,25,26,27,28,29,30,31,32,33,34,35,36,37,38,39,40,41,42,43,44,45,46,47,48,49,50,51,52,53,54,55,56,57,58,59,60,61,62,63,64,65,66,67,68,69,70,71,72,73,74,75,76,77,78,79,80,81,82,83,84,85,86,87,88,89,90,91,92,93,94,95,96,97,98,99,100,101,102,103,104,105,106,107,108,109,110,111,112,113,114,115,116,117,118,119,121,122,123,124,1,2,3,4,5,6,7,8,9,10,11,12,13,14,15,16,17,18,19,20,21,22,23,24,25,26,27,28,29,30,31,32,33,34,35,36,37,38,39,40,41,42,43,44,45,46,47,48,49,50,51,52,53,54,55,56,57,58,59,60,61,62,63,64,65,66,67,68],\"Type\":[\"Gentoo\",\"Gentoo\",\"Gentoo\",\"Gentoo\",\"Gentoo\",\"Gentoo\",\"Gentoo\",\"Gentoo\",\"Gentoo\",\"Gentoo\",\"Gentoo\",\"Gentoo\",\"Gentoo\",\"Gentoo\",\"Gentoo\",\"Gentoo\",\"Gentoo\",\"Gentoo\",\"Gentoo\",\"Gentoo\",\"Gentoo\",\"Gentoo\",\"Gentoo\",\"Gentoo\",\"Gentoo\",\"Gentoo\",\"Gentoo\",\"Gentoo\",\"Gentoo\",\"Gentoo\",\"Gentoo\",\"Gentoo\",\"Gentoo\",\"Gentoo\",\"Gentoo\",\"Gentoo\",\"Gentoo\",\"Gentoo\",\"Gentoo\",\"Gentoo\",\"Gentoo\",\"Gentoo\",\"Gentoo\",\"Gentoo\",\"Gentoo\",\"Gentoo\",\"Gentoo\",\"Gentoo\",\"Gentoo\",\"Gentoo\",\"Gentoo\",\"Gentoo\",\"Gentoo\",\"Gentoo\",\"Gentoo\",\"Gentoo\",\"Gentoo\",\"Gentoo\",\"Gentoo\",\"Gentoo\",\"Gentoo\",\"Gentoo\",\"Gentoo\",\"Gentoo\",\"Gentoo\",\"Gentoo\",\"Gentoo\",\"Gentoo\",\"Gentoo\",\"Gentoo\",\"Gentoo\",\"Gentoo\",\"Gentoo\",\"Gentoo\",\"Gentoo\",\"Gentoo\",\"Gentoo\",\"Gentoo\",\"Gentoo\",\"Gentoo\",\"Gentoo\",\"Gentoo\",\"Gentoo\",\"Gentoo\",\"Gentoo\",\"Gentoo\",\"Gentoo\",\"Gentoo\",\"Gentoo\",\"Gentoo\",\"Gentoo\",\"Gentoo\",\"Gentoo\",\"Gentoo\",\"Gentoo\",\"Gentoo\",\"Gentoo\",\"Gentoo\",\"Gentoo\",\"Gentoo\",\"Gentoo\",\"Gentoo\",\"Gentoo\",\"Gentoo\",\"Gentoo\",\"Gentoo\",\"Gentoo\",\"Gentoo\",\"Gentoo\",\"Gentoo\",\"Gentoo\",\"Gentoo\",\"Gentoo\",\"Gentoo\",\"Gentoo\",\"Gentoo\",\"Gentoo\",\"Gentoo\",\"Gentoo\",\"Gentoo\",\"Gentoo\",\"Gentoo\",\"Gentoo\",\"Chinstrap\",\"Chinstrap\",\"Chinstrap\",\"Chinstrap\",\"Chinstrap\",\"Chinstrap\",\"Chinstrap\",\"Chinstrap\",\"Chinstrap\",\"Chinstrap\",\"Chinstrap\",\"Chinstrap\",\"Chinstrap\",\"Chinstrap\",\"Chinstrap\",\"Chinstrap\",\"Chinstrap\",\"Chinstrap\",\"Chinstrap\",\"Chinstrap\",\"Chinstrap\",\"Chinstrap\",\"Chinstrap\",\"Chinstrap\",\"Chinstrap\",\"Chinstrap\",\"Chinstrap\",\"Chinstrap\",\"Chinstrap\",\"Chinstrap\",\"Chinstrap\",\"Chinstrap\",\"Chinstrap\",\"Chinstrap\",\"Chinstrap\",\"Chinstrap\",\"Chinstrap\",\"Chinstrap\",\"Chinstrap\",\"Chinstrap\",\"Chinstrap\",\"Chinstrap\",\"Chinstrap\",\"Chinstrap\",\"Chinstrap\",\"Chinstrap\",\"Chinstrap\",\"Chinstrap\",\"Chinstrap\",\"Chinstrap\",\"Chinstrap\",\"Chinstrap\",\"Chinstrap\",\"Chinstrap\",\"Chinstrap\",\"Chinstrap\",\"Chinstrap\",\"Chinstrap\",\"Chinstrap\",\"Chinstrap\",\"Chinstrap\",\"Chinstrap\",\"Chinstrap\",\"Chinstrap\",\"Chinstrap\",\"Chinstrap\",\"Chinstrap\",\"Chinstrap\"],\"index\":[152,153,154,155,156,157,158,159,160,161,162,163,164,165,166,167,168,169,170,171,172,173,174,175,176,177,178,179,180,181,182,183,184,185,186,187,188,189,190,191,192,193,194,195,196,197,198,199,200,201,202,203,204,205,206,207,208,209,210,211,212,213,214,215,216,217,218,219,220,221,222,223,224,225,226,227,228,229,230,231,232,233,234,235,236,237,238,239,240,241,242,243,244,245,246,247,248,249,250,251,252,253,254,255,256,257,258,259,260,261,262,263,264,265,266,267,268,269,270,272,273,274,275,276,277,278,279,280,281,282,283,284,285,286,287,288,289,290,291,292,293,294,295,296,297,298,299,300,301,302,303,304,305,306,307,308,309,310,311,312,313,314,315,316,317,318,319,320,321,322,323,324,325,326,327,328,329,330,331,332,333,334,335,336,337,338,339,340,341,342,343]},\"selected\":{\"id\":\"2759\"},\"selection_policy\":{\"id\":\"2758\"}},\"id\":\"2714\",\"type\":\"ColumnDataSource\"},{\"attributes\":{},\"id\":\"2990\",\"type\":\"BasicTickFormatter\"},{\"attributes\":{},\"id\":\"2988\",\"type\":\"BasicTickFormatter\"},{\"attributes\":{},\"id\":\"2972\",\"type\":\"ResetTool\"},{\"attributes\":{},\"id\":\"2759\",\"type\":\"Selection\"},{\"attributes\":{\"text\":\"Flipper length vs Body Mass\"},\"id\":\"2950\",\"type\":\"Title\"},{\"attributes\":{\"fill_color\":{\"field\":\"Color\"},\"line_color\":{\"field\":\"Color\"},\"x\":{\"field\":\"Mass\"},\"y\":{\"field\":\"Flipper\"}},\"id\":\"2983\",\"type\":\"Scatter\"},{\"attributes\":{\"formatter\":{\"id\":\"2988\"},\"ticker\":{\"id\":\"2961\"}},\"id\":\"2960\",\"type\":\"LinearAxis\"}],\"root_ids\":[\"2949\"]},\"title\":\"Bokeh Application\",\"version\":\"2.2.3\"}};\n",
       "  var render_items = [{\"docid\":\"43ec59a4-e306-4174-8c1b-ee056ad0c935\",\"root_ids\":[\"2949\"],\"roots\":{\"2949\":\"7f899edf-740b-4354-b89f-e1be174d5c69\"}}];\n",
       "  root.Bokeh.embed.embed_items_notebook(docs_json, render_items);\n",
       "\n",
       "  }\n",
       "  if (root.Bokeh !== undefined) {\n",
       "    embed_document(root);\n",
       "  } else {\n",
       "    var attempts = 0;\n",
       "    var timer = setInterval(function(root) {\n",
       "      if (root.Bokeh !== undefined) {\n",
       "        clearInterval(timer);\n",
       "        embed_document(root);\n",
       "      } else {\n",
       "        attempts++;\n",
       "        if (attempts > 100) {\n",
       "          clearInterval(timer);\n",
       "          console.log(\"Bokeh: ERROR: Unable to run BokehJS code because BokehJS library is missing\");\n",
       "        }\n",
       "      }\n",
       "    }, 10, root)\n",
       "  }\n",
       "})(window);"
      ],
      "application/vnd.bokehjs_exec.v0+json": ""
     },
     "metadata": {
      "application/vnd.bokehjs_exec.v0+json": {
       "id": "2949"
      }
     },
     "output_type": "display_data"
    }
   ],
   "source": [
    "f=figure(title='Flipper length vs Body Mass')\n",
    "f.scatter(x='Mass',y='Flipper',color='Color',legend_group='Type',source=data2)\n",
    "show(f)"
   ]
  },
  {
   "cell_type": "markdown",
   "metadata": {},
   "source": [
    "Notice that the red and green points are not *linearly separable.*  So a straightforward SVM classifier isn't going to be able\n",
    "to separate the two types of penguins based on their flipper length and body mass.  To look more closely, let's plot the convex hulls of the two sets."
   ]
  },
  {
   "cell_type": "code",
   "execution_count": 114,
   "metadata": {},
   "outputs": [],
   "source": [
    "from scipy.spatial import ConvexHull"
   ]
  },
  {
   "cell_type": "markdown",
   "metadata": {},
   "source": [
    "First extract the data points corresponding to the Gentoo penguins"
   ]
  },
  {
   "cell_type": "code",
   "execution_count": 311,
   "metadata": {},
   "outputs": [],
   "source": [
    "pts = gc_df[gc_df['Type']=='Gentoo'][['Mass','Flipper']].values\n",
    "pts2 = gc_df[gc_df['Type']=='Chinstrap'][['Mass','Flipper']].values"
   ]
  },
  {
   "cell_type": "markdown",
   "metadata": {},
   "source": [
    "The sklearn `ConvexHull` function computes the convex hull of a set of points.  T"
   ]
  },
  {
   "cell_type": "code",
   "execution_count": 312,
   "metadata": {},
   "outputs": [],
   "source": [
    "hull1=ConvexHull(pts)\n",
    "hull2 = ConvexHull(pts2)"
   ]
  },
  {
   "cell_type": "markdown",
   "metadata": {},
   "source": [
    "`hull.vertices` are the indices of the vertex points in the original array pts, in counterclockwise order.  So to draw the convex hull we need to draw a series of lines."
   ]
  },
  {
   "cell_type": "code",
   "execution_count": 313,
   "metadata": {},
   "outputs": [
    {
     "data": {
      "text/html": [
       "\n",
       "\n",
       "\n",
       "\n",
       "\n",
       "\n",
       "  <div class=\"bk-root\" id=\"d372084d-d237-49f6-be2a-c1b94a4a1783\" data-root-id=\"13826\"></div>\n"
      ]
     },
     "metadata": {},
     "output_type": "display_data"
    },
    {
     "data": {
      "application/javascript": [
       "(function(root) {\n",
       "  function embed_document(root) {\n",
       "    \n",
       "  var docs_json = {\"3b8897db-469c-4303-ab52-8d7db97c8feb\":{\"roots\":{\"references\":[{\"attributes\":{\"below\":[{\"id\":\"13835\"}],\"center\":[{\"id\":\"13838\"},{\"id\":\"13842\"}],\"left\":[{\"id\":\"13839\"}],\"renderers\":[{\"id\":\"13860\"},{\"id\":\"13865\"},{\"id\":\"13870\"},{\"id\":\"13875\"},{\"id\":\"13880\"},{\"id\":\"13885\"},{\"id\":\"13890\"},{\"id\":\"13895\"},{\"id\":\"13900\"},{\"id\":\"13905\"},{\"id\":\"13910\"},{\"id\":\"13915\"},{\"id\":\"13920\"},{\"id\":\"13925\"},{\"id\":\"13930\"},{\"id\":\"13935\"},{\"id\":\"13940\"}],\"title\":{\"id\":\"14201\"},\"toolbar\":{\"id\":\"13850\"},\"x_range\":{\"id\":\"13827\"},\"x_scale\":{\"id\":\"13831\"},\"y_range\":{\"id\":\"13829\"},\"y_scale\":{\"id\":\"13833\"}},\"id\":\"13826\",\"subtype\":\"Figure\",\"type\":\"Plot\"},{\"attributes\":{\"data_source\":{\"id\":\"13892\"},\"glyph\":{\"id\":\"13893\"},\"hover_glyph\":null,\"muted_glyph\":null,\"nonselection_glyph\":{\"id\":\"13894\"},\"selection_glyph\":null,\"view\":{\"id\":\"13896\"}},\"id\":\"13895\",\"type\":\"GlyphRenderer\"},{\"attributes\":{},\"id\":\"13831\",\"type\":\"LinearScale\"},{\"attributes\":{\"line_color\":\"#1f77b4\",\"line_dash\":[6],\"line_width\":2,\"x\":{\"field\":\"x\"},\"y\":{\"field\":\"y\"}},\"id\":\"13893\",\"type\":\"Line\"},{\"attributes\":{\"line_color\":\"#1f77b4\",\"line_dash\":[6],\"line_width\":2,\"x\":{\"field\":\"x\"},\"y\":{\"field\":\"y\"}},\"id\":\"13873\",\"type\":\"Line\"},{\"attributes\":{\"data\":{\"x\":[5650.0,5500.0],\"y\":[231.0,230.0]},\"selected\":{\"id\":\"14223\"},\"selection_policy\":{\"id\":\"14222\"}},\"id\":\"13897\",\"type\":\"ColumnDataSource\"},{\"attributes\":{\"line_alpha\":0.1,\"line_color\":\"#1f77b4\",\"line_dash\":[6],\"line_width\":2,\"x\":{\"field\":\"x\"},\"y\":{\"field\":\"y\"}},\"id\":\"13899\",\"type\":\"Line\"},{\"attributes\":{\"data_source\":{\"id\":\"13867\"},\"glyph\":{\"id\":\"13868\"},\"hover_glyph\":null,\"muted_glyph\":null,\"nonselection_glyph\":{\"id\":\"13869\"},\"selection_glyph\":null,\"view\":{\"id\":\"13871\"}},\"id\":\"13870\",\"type\":\"GlyphRenderer\"},{\"attributes\":{\"source\":{\"id\":\"13892\"}},\"id\":\"13896\",\"type\":\"CDSView\"},{\"attributes\":{},\"id\":\"13833\",\"type\":\"LinearScale\"},{\"attributes\":{\"line_alpha\":0.1,\"line_color\":\"#1f77b4\",\"line_dash\":[6],\"line_width\":2,\"x\":{\"field\":\"x\"},\"y\":{\"field\":\"y\"}},\"id\":\"13909\",\"type\":\"Line\"},{\"attributes\":{},\"id\":\"14237\",\"type\":\"Selection\"},{\"attributes\":{\"data_source\":{\"id\":\"13907\"},\"glyph\":{\"id\":\"13908\"},\"hover_glyph\":null,\"muted_glyph\":null,\"nonselection_glyph\":{\"id\":\"13909\"},\"selection_glyph\":null,\"view\":{\"id\":\"13911\"}},\"id\":\"13910\",\"type\":\"GlyphRenderer\"},{\"attributes\":{\"source\":{\"id\":\"13867\"}},\"id\":\"13871\",\"type\":\"CDSView\"},{\"attributes\":{\"data\":{\"x\":[3950.0,4625.0],\"y\":[208.0,203.0]},\"selected\":{\"id\":\"14211\"},\"selection_policy\":{\"id\":\"14210\"}},\"id\":\"13867\",\"type\":\"ColumnDataSource\"},{\"attributes\":{\"line_color\":\"#1f77b4\",\"line_dash\":[6],\"line_width\":2,\"x\":{\"field\":\"x\"},\"y\":{\"field\":\"y\"}},\"id\":\"13878\",\"type\":\"Line\"},{\"attributes\":{\"line_alpha\":0.1,\"line_color\":\"#1f77b4\",\"line_dash\":[6],\"line_width\":2,\"x\":{\"field\":\"x\"},\"y\":{\"field\":\"y\"}},\"id\":\"13894\",\"type\":\"Line\"},{\"attributes\":{\"data_source\":{\"id\":\"13897\"},\"glyph\":{\"id\":\"13898\"},\"hover_glyph\":null,\"muted_glyph\":null,\"nonselection_glyph\":{\"id\":\"13899\"},\"selection_glyph\":null,\"view\":{\"id\":\"13901\"}},\"id\":\"13900\",\"type\":\"GlyphRenderer\"},{\"attributes\":{\"line_alpha\":0.1,\"line_color\":\"#1f77b4\",\"line_dash\":[6],\"line_width\":2,\"x\":{\"field\":\"x\"},\"y\":{\"field\":\"y\"}},\"id\":\"13869\",\"type\":\"Line\"},{\"attributes\":{},\"id\":\"13840\",\"type\":\"BasicTicker\"},{\"attributes\":{\"fill_alpha\":{\"value\":0.1},\"fill_color\":{\"field\":\"Color\"},\"line_alpha\":{\"value\":0.1},\"line_color\":{\"field\":\"Color\"},\"x\":{\"field\":\"Mass\"},\"y\":{\"field\":\"Flipper\"}},\"id\":\"13859\",\"type\":\"Scatter\"},{\"attributes\":{\"data\":{\"x\":[6300.0,6050.0],\"y\":[221.0,230.0]},\"selected\":{\"id\":\"14219\"},\"selection_policy\":{\"id\":\"14218\"}},\"id\":\"13887\",\"type\":\"ColumnDataSource\"},{\"attributes\":{\"formatter\":{\"id\":\"14202\"},\"ticker\":{\"id\":\"13836\"}},\"id\":\"13835\",\"type\":\"LinearAxis\"},{\"attributes\":{\"line_alpha\":0.1,\"line_color\":\"#1f77b4\",\"line_dash\":[6],\"line_width\":2,\"x\":{\"field\":\"x\"},\"y\":{\"field\":\"y\"}},\"id\":\"13879\",\"type\":\"Line\"},{\"attributes\":{\"data\":{\"x\":[4625.0,5500.0],\"y\":[203.0,209.0]},\"selected\":{\"id\":\"14213\"},\"selection_policy\":{\"id\":\"14212\"}},\"id\":\"13872\",\"type\":\"ColumnDataSource\"},{\"attributes\":{\"data\":{\"x\":[6050.0,5650.0],\"y\":[230.0,231.0]},\"selected\":{\"id\":\"14221\"},\"selection_policy\":{\"id\":\"14220\"}},\"id\":\"13892\",\"type\":\"ColumnDataSource\"},{\"attributes\":{},\"id\":\"14235\",\"type\":\"Selection\"},{\"attributes\":{\"line_alpha\":0.1,\"line_color\":\"#1f77b4\",\"line_dash\":[6],\"line_width\":2,\"x\":{\"field\":\"x\"},\"y\":{\"field\":\"y\"}},\"id\":\"13864\",\"type\":\"Line\"},{\"attributes\":{\"line_alpha\":0.1,\"line_color\":\"#1f77b4\",\"line_dash\":[6],\"line_width\":2,\"x\":{\"field\":\"x\"},\"y\":{\"field\":\"y\"}},\"id\":\"13889\",\"type\":\"Line\"},{\"attributes\":{\"line_color\":\"#1f77b4\",\"line_dash\":[6],\"line_width\":2,\"x\":{\"field\":\"x\"},\"y\":{\"field\":\"y\"}},\"id\":\"13898\",\"type\":\"Line\"},{\"attributes\":{\"line_color\":\"#1f77b4\",\"line_dash\":[6],\"line_width\":2,\"x\":{\"field\":\"x\"},\"y\":{\"field\":\"y\"}},\"id\":\"13923\",\"type\":\"Line\"},{\"attributes\":{\"overlay\":{\"id\":\"13849\"}},\"id\":\"13845\",\"type\":\"BoxZoomTool\"},{\"attributes\":{\"line_color\":\"#1f77b4\",\"line_dash\":[6],\"line_width\":2,\"x\":{\"field\":\"x\"},\"y\":{\"field\":\"y\"}},\"id\":\"13888\",\"type\":\"Line\"},{\"attributes\":{},\"id\":\"13836\",\"type\":\"BasicTicker\"},{\"attributes\":{\"source\":{\"id\":\"13917\"}},\"id\":\"13921\",\"type\":\"CDSView\"},{\"attributes\":{\"bottom_units\":\"screen\",\"fill_alpha\":0.5,\"fill_color\":\"lightgrey\",\"left_units\":\"screen\",\"level\":\"overlay\",\"line_alpha\":1.0,\"line_color\":\"black\",\"line_dash\":[4,4],\"line_width\":2,\"right_units\":\"screen\",\"top_units\":\"screen\"},\"id\":\"13849\",\"type\":\"BoxAnnotation\"},{\"attributes\":{\"formatter\":{\"id\":\"14204\"},\"ticker\":{\"id\":\"13840\"}},\"id\":\"13839\",\"type\":\"LinearAxis\"},{\"attributes\":{\"line_color\":\"#1f77b4\",\"line_dash\":[6],\"line_width\":2,\"x\":{\"field\":\"x\"},\"y\":{\"field\":\"y\"}},\"id\":\"13868\",\"type\":\"Line\"},{\"attributes\":{\"source\":{\"id\":\"13882\"}},\"id\":\"13886\",\"type\":\"CDSView\"},{\"attributes\":{},\"id\":\"14231\",\"type\":\"Selection\"},{\"attributes\":{\"data_source\":{\"id\":\"13887\"},\"glyph\":{\"id\":\"13888\"},\"hover_glyph\":null,\"muted_glyph\":null,\"nonselection_glyph\":{\"id\":\"13889\"},\"selection_glyph\":null,\"view\":{\"id\":\"13891\"}},\"id\":\"13890\",\"type\":\"GlyphRenderer\"},{\"attributes\":{},\"id\":\"14232\",\"type\":\"UnionRenderers\"},{\"attributes\":{},\"id\":\"13827\",\"type\":\"DataRange1d\"},{\"attributes\":{\"axis\":{\"id\":\"13835\"},\"ticker\":null},\"id\":\"13838\",\"type\":\"Grid\"},{\"attributes\":{},\"id\":\"2758\",\"type\":\"UnionRenderers\"},{\"attributes\":{\"data_source\":{\"id\":\"13882\"},\"glyph\":{\"id\":\"13883\"},\"hover_glyph\":null,\"muted_glyph\":null,\"nonselection_glyph\":{\"id\":\"13884\"},\"selection_glyph\":null,\"view\":{\"id\":\"13886\"}},\"id\":\"13885\",\"type\":\"GlyphRenderer\"},{\"attributes\":{\"source\":{\"id\":\"13887\"}},\"id\":\"13891\",\"type\":\"CDSView\"},{\"attributes\":{},\"id\":\"13846\",\"type\":\"SaveTool\"},{\"attributes\":{},\"id\":\"13829\",\"type\":\"DataRange1d\"},{\"attributes\":{\"data\":{\"x\":[4100.0,3950.0],\"y\":[216.0,208.0]},\"selected\":{\"id\":\"14209\"},\"selection_policy\":{\"id\":\"14208\"}},\"id\":\"13862\",\"type\":\"ColumnDataSource\"},{\"attributes\":{\"source\":{\"id\":\"13872\"}},\"id\":\"13876\",\"type\":\"CDSView\"},{\"attributes\":{\"line_alpha\":0.1,\"line_color\":\"#1f77b4\",\"line_dash\":[6],\"line_width\":2,\"x\":{\"field\":\"x\"},\"y\":{\"field\":\"y\"}},\"id\":\"13874\",\"type\":\"Line\"},{\"attributes\":{\"source\":{\"id\":\"13897\"}},\"id\":\"13901\",\"type\":\"CDSView\"},{\"attributes\":{\"axis\":{\"id\":\"13839\"},\"dimension\":1,\"ticker\":null},\"id\":\"13842\",\"type\":\"Grid\"},{\"attributes\":{\"data_source\":{\"id\":\"13872\"},\"glyph\":{\"id\":\"13873\"},\"hover_glyph\":null,\"muted_glyph\":null,\"nonselection_glyph\":{\"id\":\"13874\"},\"selection_glyph\":null,\"view\":{\"id\":\"13876\"}},\"id\":\"13875\",\"type\":\"GlyphRenderer\"},{\"attributes\":{\"source\":{\"id\":\"13902\"}},\"id\":\"13906\",\"type\":\"CDSView\"},{\"attributes\":{},\"id\":\"14233\",\"type\":\"Selection\"},{\"attributes\":{},\"id\":\"13843\",\"type\":\"PanTool\"},{\"attributes\":{},\"id\":\"14238\",\"type\":\"UnionRenderers\"},{\"attributes\":{\"line_color\":\"#1f77b4\",\"line_dash\":[6],\"line_width\":2,\"x\":{\"field\":\"x\"},\"y\":{\"field\":\"y\"}},\"id\":\"13863\",\"type\":\"Line\"},{\"attributes\":{\"line_color\":\"#1f77b4\",\"line_dash\":[6],\"line_width\":2,\"x\":{\"field\":\"x\"},\"y\":{\"field\":\"y\"}},\"id\":\"13883\",\"type\":\"Line\"},{\"attributes\":{\"data_source\":{\"id\":\"2714\"},\"glyph\":{\"id\":\"13858\"},\"hover_glyph\":null,\"muted_glyph\":null,\"nonselection_glyph\":{\"id\":\"13859\"},\"selection_glyph\":null,\"view\":{\"id\":\"13861\"}},\"id\":\"13860\",\"type\":\"GlyphRenderer\"},{\"attributes\":{},\"id\":\"14234\",\"type\":\"UnionRenderers\"},{\"attributes\":{\"data\":{\"x\":[5500.0,5850.0],\"y\":[209.0,213.0]},\"selected\":{\"id\":\"14215\"},\"selection_policy\":{\"id\":\"14214\"}},\"id\":\"13877\",\"type\":\"ColumnDataSource\"},{\"attributes\":{},\"id\":\"14239\",\"type\":\"Selection\"},{\"attributes\":{\"data\":{\"x\":[5500.0,4100.0],\"y\":[230.0,216.0]},\"selected\":{\"id\":\"14225\"},\"selection_policy\":{\"id\":\"14224\"}},\"id\":\"13902\",\"type\":\"ColumnDataSource\"},{\"attributes\":{\"line_color\":\"#1f77b4\",\"line_dash\":[6],\"line_width\":2,\"x\":{\"field\":\"x\"},\"y\":{\"field\":\"y\"}},\"id\":\"13908\",\"type\":\"Line\"},{\"attributes\":{},\"id\":\"13848\",\"type\":\"HelpTool\"},{\"attributes\":{},\"id\":\"14224\",\"type\":\"UnionRenderers\"},{\"attributes\":{\"data_source\":{\"id\":\"13877\"},\"glyph\":{\"id\":\"13878\"},\"hover_glyph\":null,\"muted_glyph\":null,\"nonselection_glyph\":{\"id\":\"13879\"},\"selection_glyph\":null,\"view\":{\"id\":\"13881\"}},\"id\":\"13880\",\"type\":\"GlyphRenderer\"},{\"attributes\":{\"source\":{\"id\":\"2714\"}},\"id\":\"13861\",\"type\":\"CDSView\"},{\"attributes\":{},\"id\":\"14236\",\"type\":\"UnionRenderers\"},{\"attributes\":{\"source\":{\"id\":\"13877\"}},\"id\":\"13881\",\"type\":\"CDSView\"},{\"attributes\":{\"active_drag\":\"auto\",\"active_inspect\":\"auto\",\"active_multi\":null,\"active_scroll\":\"auto\",\"active_tap\":\"auto\",\"tools\":[{\"id\":\"13843\"},{\"id\":\"13844\"},{\"id\":\"13845\"},{\"id\":\"13846\"},{\"id\":\"13847\"},{\"id\":\"13848\"}]},\"id\":\"13850\",\"type\":\"Toolbar\"},{\"attributes\":{\"data\":{\"x\":[3950.0,2700.0],\"y\":[210.0,192.0]},\"selected\":{\"id\":\"14227\"},\"selection_policy\":{\"id\":\"14226\"}},\"id\":\"13907\",\"type\":\"ColumnDataSource\"},{\"attributes\":{},\"id\":\"14225\",\"type\":\"Selection\"},{\"attributes\":{},\"id\":\"14226\",\"type\":\"UnionRenderers\"},{\"attributes\":{\"line_alpha\":0.1,\"line_color\":\"#1f77b4\",\"line_dash\":[6],\"line_width\":2,\"x\":{\"field\":\"x\"},\"y\":{\"field\":\"y\"}},\"id\":\"13904\",\"type\":\"Line\"},{\"attributes\":{\"data_source\":{\"id\":\"13902\"},\"glyph\":{\"id\":\"13903\"},\"hover_glyph\":null,\"muted_glyph\":null,\"nonselection_glyph\":{\"id\":\"13904\"},\"selection_glyph\":null,\"view\":{\"id\":\"13906\"}},\"id\":\"13905\",\"type\":\"GlyphRenderer\"},{\"attributes\":{\"line_alpha\":0.1,\"line_color\":\"#1f77b4\",\"line_dash\":[6],\"line_width\":2,\"x\":{\"field\":\"x\"},\"y\":{\"field\":\"y\"}},\"id\":\"13919\",\"type\":\"Line\"},{\"attributes\":{\"data\":{\"x\":[5850.0,6300.0],\"y\":[213.0,221.0]},\"selected\":{\"id\":\"14217\"},\"selection_policy\":{\"id\":\"14216\"}},\"id\":\"13882\",\"type\":\"ColumnDataSource\"},{\"attributes\":{\"line_alpha\":0.1,\"line_color\":\"#1f77b4\",\"line_dash\":[6],\"line_width\":2,\"x\":{\"field\":\"x\"},\"y\":{\"field\":\"y\"}},\"id\":\"13884\",\"type\":\"Line\"},{\"attributes\":{\"line_color\":\"#1f77b4\",\"line_dash\":[6],\"line_width\":2,\"x\":{\"field\":\"x\"},\"y\":{\"field\":\"y\"}},\"id\":\"13903\",\"type\":\"Line\"},{\"attributes\":{},\"id\":\"13847\",\"type\":\"ResetTool\"},{\"attributes\":{\"data_source\":{\"id\":\"13917\"},\"glyph\":{\"id\":\"13918\"},\"hover_glyph\":null,\"muted_glyph\":null,\"nonselection_glyph\":{\"id\":\"13919\"},\"selection_glyph\":null,\"view\":{\"id\":\"13921\"}},\"id\":\"13920\",\"type\":\"GlyphRenderer\"},{\"attributes\":{},\"id\":\"13844\",\"type\":\"WheelZoomTool\"},{\"attributes\":{\"source\":{\"id\":\"13932\"}},\"id\":\"13936\",\"type\":\"CDSView\"},{\"attributes\":{\"data_source\":{\"id\":\"13862\"},\"glyph\":{\"id\":\"13863\"},\"hover_glyph\":null,\"muted_glyph\":null,\"nonselection_glyph\":{\"id\":\"13864\"},\"selection_glyph\":null,\"view\":{\"id\":\"13866\"}},\"id\":\"13865\",\"type\":\"GlyphRenderer\"},{\"attributes\":{},\"id\":\"14214\",\"type\":\"UnionRenderers\"},{\"attributes\":{\"line_color\":\"#1f77b4\",\"line_dash\":[6],\"line_width\":2,\"x\":{\"field\":\"x\"},\"y\":{\"field\":\"y\"}},\"id\":\"13933\",\"type\":\"Line\"},{\"attributes\":{},\"id\":\"14212\",\"type\":\"UnionRenderers\"},{\"attributes\":{\"source\":{\"id\":\"13862\"}},\"id\":\"13866\",\"type\":\"CDSView\"},{\"attributes\":{\"data\":{\"x\":[4800.0,4300.0],\"y\":[210.0,212.0]},\"selected\":{\"id\":\"14237\"},\"selection_policy\":{\"id\":\"14236\"}},\"id\":\"13932\",\"type\":\"ColumnDataSource\"},{\"attributes\":{},\"id\":\"14228\",\"type\":\"UnionRenderers\"},{\"attributes\":{\"line_color\":\"#1f77b4\",\"line_dash\":[6],\"line_width\":2,\"x\":{\"field\":\"x\"},\"y\":{\"field\":\"y\"}},\"id\":\"13938\",\"type\":\"Line\"},{\"attributes\":{},\"id\":\"14215\",\"type\":\"Selection\"},{\"attributes\":{\"data_source\":{\"id\":\"13912\"},\"glyph\":{\"id\":\"13913\"},\"hover_glyph\":null,\"muted_glyph\":null,\"nonselection_glyph\":{\"id\":\"13914\"},\"selection_glyph\":null,\"view\":{\"id\":\"13916\"}},\"id\":\"13915\",\"type\":\"GlyphRenderer\"},{\"attributes\":{},\"id\":\"14213\",\"type\":\"Selection\"},{\"attributes\":{},\"id\":\"14220\",\"type\":\"UnionRenderers\"},{\"attributes\":{\"line_alpha\":0.1,\"line_color\":\"#1f77b4\",\"line_dash\":[6],\"line_width\":2,\"x\":{\"field\":\"x\"},\"y\":{\"field\":\"y\"}},\"id\":\"13929\",\"type\":\"Line\"},{\"attributes\":{\"line_alpha\":0.1,\"line_color\":\"#1f77b4\",\"line_dash\":[6],\"line_width\":2,\"x\":{\"field\":\"x\"},\"y\":{\"field\":\"y\"}},\"id\":\"13934\",\"type\":\"Line\"},{\"attributes\":{},\"id\":\"14229\",\"type\":\"Selection\"},{\"attributes\":{\"data_source\":{\"id\":\"13932\"},\"glyph\":{\"id\":\"13933\"},\"hover_glyph\":null,\"muted_glyph\":null,\"nonselection_glyph\":{\"id\":\"13934\"},\"selection_glyph\":null,\"view\":{\"id\":\"13936\"}},\"id\":\"13935\",\"type\":\"GlyphRenderer\"},{\"attributes\":{},\"id\":\"14221\",\"type\":\"Selection\"},{\"attributes\":{\"data\":{\"x\":[4300.0,3950.0],\"y\":[212.0,210.0]},\"selected\":{\"id\":\"14239\"},\"selection_policy\":{\"id\":\"14238\"}},\"id\":\"13937\",\"type\":\"ColumnDataSource\"},{\"attributes\":{},\"id\":\"14216\",\"type\":\"UnionRenderers\"},{\"attributes\":{\"fill_color\":{\"field\":\"Color\"},\"line_color\":{\"field\":\"Color\"},\"x\":{\"field\":\"Mass\"},\"y\":{\"field\":\"Flipper\"}},\"id\":\"13858\",\"type\":\"Scatter\"},{\"attributes\":{},\"id\":\"14227\",\"type\":\"Selection\"},{\"attributes\":{\"source\":{\"id\":\"13907\"}},\"id\":\"13911\",\"type\":\"CDSView\"},{\"attributes\":{},\"id\":\"14222\",\"type\":\"UnionRenderers\"},{\"attributes\":{\"data_source\":{\"id\":\"13937\"},\"glyph\":{\"id\":\"13938\"},\"hover_glyph\":null,\"muted_glyph\":null,\"nonselection_glyph\":{\"id\":\"13939\"},\"selection_glyph\":null,\"view\":{\"id\":\"13941\"}},\"id\":\"13940\",\"type\":\"GlyphRenderer\"},{\"attributes\":{\"data\":{\"x\":[3250.0,3700.0],\"y\":[178.0,181.0]},\"selected\":{\"id\":\"14231\"},\"selection_policy\":{\"id\":\"14230\"}},\"id\":\"13917\",\"type\":\"ColumnDataSource\"},{\"attributes\":{\"line_color\":\"#1f77b4\",\"line_dash\":[6],\"line_width\":2,\"x\":{\"field\":\"x\"},\"y\":{\"field\":\"y\"}},\"id\":\"13928\",\"type\":\"Line\"},{\"attributes\":{\"source\":{\"id\":\"13937\"}},\"id\":\"13941\",\"type\":\"CDSView\"},{\"attributes\":{\"data\":{\"x\":[3700.0,4400.0],\"y\":[181.0,195.0]},\"selected\":{\"id\":\"14233\"},\"selection_policy\":{\"id\":\"14232\"}},\"id\":\"13922\",\"type\":\"ColumnDataSource\"},{\"attributes\":{\"line_alpha\":0.1,\"line_color\":\"#1f77b4\",\"line_dash\":[6],\"line_width\":2,\"x\":{\"field\":\"x\"},\"y\":{\"field\":\"y\"}},\"id\":\"13939\",\"type\":\"Line\"},{\"attributes\":{\"data\":{\"x\":[2700.0,3250.0],\"y\":[192.0,178.0]},\"selected\":{\"id\":\"14229\"},\"selection_policy\":{\"id\":\"14228\"}},\"id\":\"13912\",\"type\":\"ColumnDataSource\"},{\"attributes\":{},\"id\":\"14202\",\"type\":\"BasicTickFormatter\"},{\"attributes\":{\"text\":\"\"},\"id\":\"14201\",\"type\":\"Title\"},{\"attributes\":{\"line_color\":\"#1f77b4\",\"line_dash\":[6],\"line_width\":2,\"x\":{\"field\":\"x\"},\"y\":{\"field\":\"y\"}},\"id\":\"13918\",\"type\":\"Line\"},{\"attributes\":{},\"id\":\"14204\",\"type\":\"BasicTickFormatter\"},{\"attributes\":{},\"id\":\"14208\",\"type\":\"UnionRenderers\"},{\"attributes\":{\"source\":{\"id\":\"13922\"}},\"id\":\"13926\",\"type\":\"CDSView\"},{\"attributes\":{\"line_alpha\":0.1,\"line_color\":\"#1f77b4\",\"line_dash\":[6],\"line_width\":2,\"x\":{\"field\":\"x\"},\"y\":{\"field\":\"y\"}},\"id\":\"13924\",\"type\":\"Line\"},{\"attributes\":{},\"id\":\"14209\",\"type\":\"Selection\"},{\"attributes\":{\"data_source\":{\"id\":\"13922\"},\"glyph\":{\"id\":\"13923\"},\"hover_glyph\":null,\"muted_glyph\":null,\"nonselection_glyph\":{\"id\":\"13924\"},\"selection_glyph\":null,\"view\":{\"id\":\"13926\"}},\"id\":\"13925\",\"type\":\"GlyphRenderer\"},{\"attributes\":{},\"id\":\"14217\",\"type\":\"Selection\"},{\"attributes\":{},\"id\":\"14210\",\"type\":\"UnionRenderers\"},{\"attributes\":{\"line_color\":\"#1f77b4\",\"line_dash\":[6],\"line_width\":2,\"x\":{\"field\":\"x\"},\"y\":{\"field\":\"y\"}},\"id\":\"13913\",\"type\":\"Line\"},{\"attributes\":{},\"id\":\"14218\",\"type\":\"UnionRenderers\"},{\"attributes\":{\"data\":{\"x\":[4400.0,4800.0],\"y\":[195.0,210.0]},\"selected\":{\"id\":\"14235\"},\"selection_policy\":{\"id\":\"14234\"}},\"id\":\"13927\",\"type\":\"ColumnDataSource\"},{\"attributes\":{\"data_source\":{\"id\":\"13927\"},\"glyph\":{\"id\":\"13928\"},\"hover_glyph\":null,\"muted_glyph\":null,\"nonselection_glyph\":{\"id\":\"13929\"},\"selection_glyph\":null,\"view\":{\"id\":\"13931\"}},\"id\":\"13930\",\"type\":\"GlyphRenderer\"},{\"attributes\":{\"source\":{\"id\":\"13912\"}},\"id\":\"13916\",\"type\":\"CDSView\"},{\"attributes\":{},\"id\":\"14211\",\"type\":\"Selection\"},{\"attributes\":{\"line_alpha\":0.1,\"line_color\":\"#1f77b4\",\"line_dash\":[6],\"line_width\":2,\"x\":{\"field\":\"x\"},\"y\":{\"field\":\"y\"}},\"id\":\"13914\",\"type\":\"Line\"},{\"attributes\":{},\"id\":\"14230\",\"type\":\"UnionRenderers\"},{\"attributes\":{\"data\":{\"C-Depth\":{\"__ndarray__\":\"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\",\"dtype\":\"float64\",\"order\":\"little\",\"shape\":[191]},\"C-Length\":{\"__ndarray__\":\"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\",\"dtype\":\"float64\",\"order\":\"little\",\"shape\":[191]},\"Color\":[\"green\",\"green\",\"green\",\"green\",\"green\",\"green\",\"green\",\"green\",\"green\",\"green\",\"green\",\"green\",\"green\",\"green\",\"green\",\"green\",\"green\",\"green\",\"green\",\"green\",\"green\",\"green\",\"green\",\"green\",\"green\",\"green\",\"green\",\"green\",\"green\",\"green\",\"green\",\"green\",\"green\",\"green\",\"green\",\"green\",\"green\",\"green\",\"green\",\"green\",\"green\",\"green\",\"green\",\"green\",\"green\",\"green\",\"green\",\"green\",\"green\",\"green\",\"green\",\"green\",\"green\",\"green\",\"green\",\"green\",\"green\",\"green\",\"green\",\"green\",\"green\",\"green\",\"green\",\"green\",\"green\",\"green\",\"green\",\"green\",\"green\",\"green\",\"green\",\"green\",\"green\",\"green\",\"green\",\"green\",\"green\",\"green\",\"green\",\"green\",\"green\",\"green\",\"green\",\"green\",\"green\",\"green\",\"green\",\"green\",\"green\",\"green\",\"green\",\"green\",\"green\",\"green\",\"green\",\"green\",\"green\",\"green\",\"green\",\"green\",\"green\",\"green\",\"green\",\"green\",\"green\",\"green\",\"green\",\"green\",\"green\",\"green\",\"green\",\"green\",\"green\",\"green\",\"green\",\"green\",\"green\",\"green\",\"green\",\"green\",\"green\",\"green\",\"green\",\"red\",\"red\",\"red\",\"red\",\"red\",\"red\",\"red\",\"red\",\"red\",\"red\",\"red\",\"red\",\"red\",\"red\",\"red\",\"red\",\"red\",\"red\",\"red\",\"red\",\"red\",\"red\",\"red\",\"red\",\"red\",\"red\",\"red\",\"red\",\"red\",\"red\",\"red\",\"red\",\"red\",\"red\",\"red\",\"red\",\"red\",\"red\",\"red\",\"red\",\"red\",\"red\",\"red\",\"red\",\"red\",\"red\",\"red\",\"red\",\"red\",\"red\",\"red\",\"red\",\"red\",\"red\",\"red\",\"red\",\"red\",\"red\",\"red\",\"red\",\"red\",\"red\",\"red\",\"red\",\"red\",\"red\",\"red\",\"red\"],\"Flipper\":{\"__ndarray__\":\"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\",\"dtype\":\"float64\",\"order\":\"little\",\"shape\":[191]},\"Mass\":{\"__ndarray__\":\"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\",\"dtype\":\"float64\",\"order\":\"little\",\"shape\":[191]},\"Sample\":[1,2,3,4,5,6,7,8,9,10,11,12,13,14,15,16,17,18,19,20,21,22,23,24,25,26,27,28,29,30,31,32,33,34,35,36,37,38,39,40,41,42,43,44,45,46,47,48,49,50,51,52,53,54,55,56,57,58,59,60,61,62,63,64,65,66,67,68,69,70,71,72,73,74,75,76,77,78,79,80,81,82,83,84,85,86,87,88,89,90,91,92,93,94,95,96,97,98,99,100,101,102,103,104,105,106,107,108,109,110,111,112,113,114,115,116,117,118,119,121,122,123,124,1,2,3,4,5,6,7,8,9,10,11,12,13,14,15,16,17,18,19,20,21,22,23,24,25,26,27,28,29,30,31,32,33,34,35,36,37,38,39,40,41,42,43,44,45,46,47,48,49,50,51,52,53,54,55,56,57,58,59,60,61,62,63,64,65,66,67,68],\"Type\":[\"Gentoo\",\"Gentoo\",\"Gentoo\",\"Gentoo\",\"Gentoo\",\"Gentoo\",\"Gentoo\",\"Gentoo\",\"Gentoo\",\"Gentoo\",\"Gentoo\",\"Gentoo\",\"Gentoo\",\"Gentoo\",\"Gentoo\",\"Gentoo\",\"Gentoo\",\"Gentoo\",\"Gentoo\",\"Gentoo\",\"Gentoo\",\"Gentoo\",\"Gentoo\",\"Gentoo\",\"Gentoo\",\"Gentoo\",\"Gentoo\",\"Gentoo\",\"Gentoo\",\"Gentoo\",\"Gentoo\",\"Gentoo\",\"Gentoo\",\"Gentoo\",\"Gentoo\",\"Gentoo\",\"Gentoo\",\"Gentoo\",\"Gentoo\",\"Gentoo\",\"Gentoo\",\"Gentoo\",\"Gentoo\",\"Gentoo\",\"Gentoo\",\"Gentoo\",\"Gentoo\",\"Gentoo\",\"Gentoo\",\"Gentoo\",\"Gentoo\",\"Gentoo\",\"Gentoo\",\"Gentoo\",\"Gentoo\",\"Gentoo\",\"Gentoo\",\"Gentoo\",\"Gentoo\",\"Gentoo\",\"Gentoo\",\"Gentoo\",\"Gentoo\",\"Gentoo\",\"Gentoo\",\"Gentoo\",\"Gentoo\",\"Gentoo\",\"Gentoo\",\"Gentoo\",\"Gentoo\",\"Gentoo\",\"Gentoo\",\"Gentoo\",\"Gentoo\",\"Gentoo\",\"Gentoo\",\"Gentoo\",\"Gentoo\",\"Gentoo\",\"Gentoo\",\"Gentoo\",\"Gentoo\",\"Gentoo\",\"Gentoo\",\"Gentoo\",\"Gentoo\",\"Gentoo\",\"Gentoo\",\"Gentoo\",\"Gentoo\",\"Gentoo\",\"Gentoo\",\"Gentoo\",\"Gentoo\",\"Gentoo\",\"Gentoo\",\"Gentoo\",\"Gentoo\",\"Gentoo\",\"Gentoo\",\"Gentoo\",\"Gentoo\",\"Gentoo\",\"Gentoo\",\"Gentoo\",\"Gentoo\",\"Gentoo\",\"Gentoo\",\"Gentoo\",\"Gentoo\",\"Gentoo\",\"Gentoo\",\"Gentoo\",\"Gentoo\",\"Gentoo\",\"Gentoo\",\"Gentoo\",\"Gentoo\",\"Gentoo\",\"Gentoo\",\"Gentoo\",\"Gentoo\",\"Chinstrap\",\"Chinstrap\",\"Chinstrap\",\"Chinstrap\",\"Chinstrap\",\"Chinstrap\",\"Chinstrap\",\"Chinstrap\",\"Chinstrap\",\"Chinstrap\",\"Chinstrap\",\"Chinstrap\",\"Chinstrap\",\"Chinstrap\",\"Chinstrap\",\"Chinstrap\",\"Chinstrap\",\"Chinstrap\",\"Chinstrap\",\"Chinstrap\",\"Chinstrap\",\"Chinstrap\",\"Chinstrap\",\"Chinstrap\",\"Chinstrap\",\"Chinstrap\",\"Chinstrap\",\"Chinstrap\",\"Chinstrap\",\"Chinstrap\",\"Chinstrap\",\"Chinstrap\",\"Chinstrap\",\"Chinstrap\",\"Chinstrap\",\"Chinstrap\",\"Chinstrap\",\"Chinstrap\",\"Chinstrap\",\"Chinstrap\",\"Chinstrap\",\"Chinstrap\",\"Chinstrap\",\"Chinstrap\",\"Chinstrap\",\"Chinstrap\",\"Chinstrap\",\"Chinstrap\",\"Chinstrap\",\"Chinstrap\",\"Chinstrap\",\"Chinstrap\",\"Chinstrap\",\"Chinstrap\",\"Chinstrap\",\"Chinstrap\",\"Chinstrap\",\"Chinstrap\",\"Chinstrap\",\"Chinstrap\",\"Chinstrap\",\"Chinstrap\",\"Chinstrap\",\"Chinstrap\",\"Chinstrap\",\"Chinstrap\",\"Chinstrap\",\"Chinstrap\"],\"index\":[152,153,154,155,156,157,158,159,160,161,162,163,164,165,166,167,168,169,170,171,172,173,174,175,176,177,178,179,180,181,182,183,184,185,186,187,188,189,190,191,192,193,194,195,196,197,198,199,200,201,202,203,204,205,206,207,208,209,210,211,212,213,214,215,216,217,218,219,220,221,222,223,224,225,226,227,228,229,230,231,232,233,234,235,236,237,238,239,240,241,242,243,244,245,246,247,248,249,250,251,252,253,254,255,256,257,258,259,260,261,262,263,264,265,266,267,268,269,270,272,273,274,275,276,277,278,279,280,281,282,283,284,285,286,287,288,289,290,291,292,293,294,295,296,297,298,299,300,301,302,303,304,305,306,307,308,309,310,311,312,313,314,315,316,317,318,319,320,321,322,323,324,325,326,327,328,329,330,331,332,333,334,335,336,337,338,339,340,341,342,343]},\"selected\":{\"id\":\"2759\"},\"selection_policy\":{\"id\":\"2758\"}},\"id\":\"2714\",\"type\":\"ColumnDataSource\"},{\"attributes\":{},\"id\":\"14223\",\"type\":\"Selection\"},{\"attributes\":{\"source\":{\"id\":\"13927\"}},\"id\":\"13931\",\"type\":\"CDSView\"},{\"attributes\":{},\"id\":\"2759\",\"type\":\"Selection\"},{\"attributes\":{},\"id\":\"14219\",\"type\":\"Selection\"}],\"root_ids\":[\"13826\"]},\"title\":\"Bokeh Application\",\"version\":\"2.2.3\"}};\n",
       "  var render_items = [{\"docid\":\"3b8897db-469c-4303-ab52-8d7db97c8feb\",\"root_ids\":[\"13826\"],\"roots\":{\"13826\":\"d372084d-d237-49f6-be2a-c1b94a4a1783\"}}];\n",
       "  root.Bokeh.embed.embed_items_notebook(docs_json, render_items);\n",
       "\n",
       "  }\n",
       "  if (root.Bokeh !== undefined) {\n",
       "    embed_document(root);\n",
       "  } else {\n",
       "    var attempts = 0;\n",
       "    var timer = setInterval(function(root) {\n",
       "      if (root.Bokeh !== undefined) {\n",
       "        clearInterval(timer);\n",
       "        embed_document(root);\n",
       "      } else {\n",
       "        attempts++;\n",
       "        if (attempts > 100) {\n",
       "          clearInterval(timer);\n",
       "          console.log(\"Bokeh: ERROR: Unable to run BokehJS code because BokehJS library is missing\");\n",
       "        }\n",
       "      }\n",
       "    }, 10, root)\n",
       "  }\n",
       "})(window);"
      ],
      "application/vnd.bokehjs_exec.v0+json": ""
     },
     "metadata": {
      "application/vnd.bokehjs_exec.v0+json": {
       "id": "13826"
      }
     },
     "output_type": "display_data"
    }
   ],
   "source": [
    "f=figure()\n",
    "f.scatter(x='Mass',y='Flipper',color='Color',source=data2)\n",
    "x0=hull.vertices[-1] # the last element\n",
    "for x in hull.vertices:\n",
    "    f.line(x=[pts[x0][0],pts[x][0]],y=[pts[x0][1],pts[x][1]],line_width=2,line_dash='dashed')\n",
    "    x0=x\n",
    "x0 = hull2.vertices[-1]\n",
    "for x in hull2.vertices:\n",
    "    f.line(x=[pts2[x0][0],pts2[x][0]],y=[pts2[x0][1],pts2[x][1]],line_width=2,line_dash='dashed')\n",
    "    x0=x\n",
    "show(f)"
   ]
  },
  {
   "cell_type": "markdown",
   "metadata": {},
   "source": [
    "Notice that some of the red points are inside the convex hull of the green points, and the two convex hulls overlap.\n",
    "\n",
    "Nevertheless, one can come up with a linear classifier (support vector machine) that mostly works."
   ]
  },
  {
   "cell_type": "code",
   "execution_count": 316,
   "metadata": {},
   "outputs": [],
   "source": [
    "from sklearn.svm import LinearSVC"
   ]
  },
  {
   "cell_type": "code",
   "execution_count": 317,
   "metadata": {},
   "outputs": [],
   "source": [
    "classes=gc_df['Type'].map({'Gentoo':0,'Chinstrap':1}).values\n",
    "pts = gc_df[['Mass','Flipper']].values"
   ]
  },
  {
   "cell_type": "code",
   "execution_count": 319,
   "metadata": {},
   "outputs": [],
   "source": [
    "classifier = SVC(kernel='linear').fit(X=pts,y=classes)"
   ]
  },
  {
   "cell_type": "markdown",
   "metadata": {},
   "source": [
    "The parameter `classifier.coef_` is a two-d array [A,B] and `classifier.intercept_` is a number C; together\n",
    "they define the line Ax+By+C=0 that is the \"best\" separating hyperplane"
   ]
  },
  {
   "cell_type": "code",
   "execution_count": 320,
   "metadata": {},
   "outputs": [
    {
     "data": {
      "text/plain": [
       "array([[-0.00687571, -0.93496601]])"
      ]
     },
     "execution_count": 320,
     "metadata": {},
     "output_type": "execute_result"
    }
   ],
   "source": [
    "classifier.coef_"
   ]
  },
  {
   "cell_type": "code",
   "execution_count": 321,
   "metadata": {},
   "outputs": [
    {
     "data": {
      "text/plain": [
       "array([223.87704146])"
      ]
     },
     "execution_count": 321,
     "metadata": {},
     "output_type": "execute_result"
    }
   ],
   "source": [
    "classifier.intercept_"
   ]
  },
  {
   "cell_type": "markdown",
   "metadata": {},
   "source": [
    "We can add this line to the picture above."
   ]
  },
  {
   "cell_type": "code",
   "execution_count": 322,
   "metadata": {},
   "outputs": [],
   "source": [
    "x=np.linspace(2500,7000,100)"
   ]
  },
  {
   "cell_type": "code",
   "execution_count": 323,
   "metadata": {},
   "outputs": [],
   "source": [
    "y=(223.87704-.00687571*x)/(.934966)"
   ]
  },
  {
   "cell_type": "code",
   "execution_count": 324,
   "metadata": {},
   "outputs": [
    {
     "data": {
      "text/html": [
       "<div style=\"display: table;\"><div style=\"display: table-row;\"><div style=\"display: table-cell;\"><b title=\"bokeh.models.renderers.GlyphRenderer\">GlyphRenderer</b>(</div><div style=\"display: table-cell;\">id&nbsp;=&nbsp;'14449', <span id=\"14753\" style=\"cursor: pointer;\">&hellip;)</span></div></div><div class=\"14752\" style=\"display: none;\"><div style=\"display: table-cell;\"></div><div style=\"display: table-cell;\">data_source&nbsp;=&nbsp;ColumnDataSource(id='14446', ...),</div></div><div class=\"14752\" style=\"display: none;\"><div style=\"display: table-cell;\"></div><div style=\"display: table-cell;\">glyph&nbsp;=&nbsp;Line(id='14447', ...),</div></div><div class=\"14752\" style=\"display: none;\"><div style=\"display: table-cell;\"></div><div style=\"display: table-cell;\">hover_glyph&nbsp;=&nbsp;None,</div></div><div class=\"14752\" style=\"display: none;\"><div style=\"display: table-cell;\"></div><div style=\"display: table-cell;\">js_event_callbacks&nbsp;=&nbsp;{},</div></div><div class=\"14752\" style=\"display: none;\"><div style=\"display: table-cell;\"></div><div style=\"display: table-cell;\">js_property_callbacks&nbsp;=&nbsp;{},</div></div><div class=\"14752\" style=\"display: none;\"><div style=\"display: table-cell;\"></div><div style=\"display: table-cell;\">level&nbsp;=&nbsp;'glyph',</div></div><div class=\"14752\" style=\"display: none;\"><div style=\"display: table-cell;\"></div><div style=\"display: table-cell;\">muted&nbsp;=&nbsp;False,</div></div><div class=\"14752\" style=\"display: none;\"><div style=\"display: table-cell;\"></div><div style=\"display: table-cell;\">muted_glyph&nbsp;=&nbsp;None,</div></div><div class=\"14752\" style=\"display: none;\"><div style=\"display: table-cell;\"></div><div style=\"display: table-cell;\">name&nbsp;=&nbsp;None,</div></div><div class=\"14752\" style=\"display: none;\"><div style=\"display: table-cell;\"></div><div style=\"display: table-cell;\">nonselection_glyph&nbsp;=&nbsp;Line(id='14448', ...),</div></div><div class=\"14752\" style=\"display: none;\"><div style=\"display: table-cell;\"></div><div style=\"display: table-cell;\">selection_glyph&nbsp;=&nbsp;None,</div></div><div class=\"14752\" style=\"display: none;\"><div style=\"display: table-cell;\"></div><div style=\"display: table-cell;\">subscribed_events&nbsp;=&nbsp;[],</div></div><div class=\"14752\" style=\"display: none;\"><div style=\"display: table-cell;\"></div><div style=\"display: table-cell;\">tags&nbsp;=&nbsp;[],</div></div><div class=\"14752\" style=\"display: none;\"><div style=\"display: table-cell;\"></div><div style=\"display: table-cell;\">view&nbsp;=&nbsp;CDSView(id='14450', ...),</div></div><div class=\"14752\" style=\"display: none;\"><div style=\"display: table-cell;\"></div><div style=\"display: table-cell;\">visible&nbsp;=&nbsp;True,</div></div><div class=\"14752\" style=\"display: none;\"><div style=\"display: table-cell;\"></div><div style=\"display: table-cell;\">x_range_name&nbsp;=&nbsp;'default',</div></div><div class=\"14752\" style=\"display: none;\"><div style=\"display: table-cell;\"></div><div style=\"display: table-cell;\">y_range_name&nbsp;=&nbsp;'default')</div></div></div>\n",
       "<script>\n",
       "(function() {\n",
       "  var expanded = false;\n",
       "  var ellipsis = document.getElementById(\"14753\");\n",
       "  ellipsis.addEventListener(\"click\", function() {\n",
       "    var rows = document.getElementsByClassName(\"14752\");\n",
       "    for (var i = 0; i < rows.length; i++) {\n",
       "      var el = rows[i];\n",
       "      el.style.display = expanded ? \"none\" : \"table-row\";\n",
       "    }\n",
       "    ellipsis.innerHTML = expanded ? \"&hellip;)\" : \"&lsaquo;&lsaquo;&lsaquo;\";\n",
       "    expanded = !expanded;\n",
       "  });\n",
       "})();\n",
       "</script>\n"
      ],
      "text/plain": [
       "GlyphRenderer(id='14449', ...)"
      ]
     },
     "execution_count": 324,
     "metadata": {},
     "output_type": "execute_result"
    }
   ],
   "source": [
    "f.line(x=x,y=y)"
   ]
  },
  {
   "cell_type": "code",
   "execution_count": 325,
   "metadata": {},
   "outputs": [
    {
     "data": {
      "text/html": [
       "\n",
       "\n",
       "\n",
       "\n",
       "\n",
       "\n",
       "  <div class=\"bk-root\" id=\"10e793cc-69ef-40f5-923f-c4c3438e6f98\" data-root-id=\"13826\"></div>\n"
      ]
     },
     "metadata": {},
     "output_type": "display_data"
    },
    {
     "data": {
      "application/javascript": [
       "(function(root) {\n",
       "  function embed_document(root) {\n",
       "    \n",
       "  var docs_json = {\"4b06c055-292b-475c-b115-c4c769d8d0c1\":{\"roots\":{\"references\":[{\"attributes\":{\"below\":[{\"id\":\"13835\"}],\"center\":[{\"id\":\"13838\"},{\"id\":\"13842\"}],\"left\":[{\"id\":\"13839\"}],\"renderers\":[{\"id\":\"13860\"},{\"id\":\"13865\"},{\"id\":\"13870\"},{\"id\":\"13875\"},{\"id\":\"13880\"},{\"id\":\"13885\"},{\"id\":\"13890\"},{\"id\":\"13895\"},{\"id\":\"13900\"},{\"id\":\"13905\"},{\"id\":\"13910\"},{\"id\":\"13915\"},{\"id\":\"13920\"},{\"id\":\"13925\"},{\"id\":\"13930\"},{\"id\":\"13935\"},{\"id\":\"13940\"},{\"id\":\"14449\"}],\"title\":{\"id\":\"14201\"},\"toolbar\":{\"id\":\"13850\"},\"x_range\":{\"id\":\"13827\"},\"x_scale\":{\"id\":\"13831\"},\"y_range\":{\"id\":\"13829\"},\"y_scale\":{\"id\":\"13833\"}},\"id\":\"13826\",\"subtype\":\"Figure\",\"type\":\"Plot\"},{\"attributes\":{\"data_source\":{\"id\":\"13892\"},\"glyph\":{\"id\":\"13893\"},\"hover_glyph\":null,\"muted_glyph\":null,\"nonselection_glyph\":{\"id\":\"13894\"},\"selection_glyph\":null,\"view\":{\"id\":\"13896\"}},\"id\":\"13895\",\"type\":\"GlyphRenderer\"},{\"attributes\":{},\"id\":\"13831\",\"type\":\"LinearScale\"},{\"attributes\":{\"line_color\":\"#1f77b4\",\"line_dash\":[6],\"line_width\":2,\"x\":{\"field\":\"x\"},\"y\":{\"field\":\"y\"}},\"id\":\"13893\",\"type\":\"Line\"},{\"attributes\":{\"line_color\":\"#1f77b4\",\"line_dash\":[6],\"line_width\":2,\"x\":{\"field\":\"x\"},\"y\":{\"field\":\"y\"}},\"id\":\"13873\",\"type\":\"Line\"},{\"attributes\":{\"data\":{\"x\":[5650.0,5500.0],\"y\":[231.0,230.0]},\"selected\":{\"id\":\"14223\"},\"selection_policy\":{\"id\":\"14222\"}},\"id\":\"13897\",\"type\":\"ColumnDataSource\"},{\"attributes\":{\"line_alpha\":0.1,\"line_color\":\"#1f77b4\",\"line_dash\":[6],\"line_width\":2,\"x\":{\"field\":\"x\"},\"y\":{\"field\":\"y\"}},\"id\":\"13899\",\"type\":\"Line\"},{\"attributes\":{\"data_source\":{\"id\":\"13867\"},\"glyph\":{\"id\":\"13868\"},\"hover_glyph\":null,\"muted_glyph\":null,\"nonselection_glyph\":{\"id\":\"13869\"},\"selection_glyph\":null,\"view\":{\"id\":\"13871\"}},\"id\":\"13870\",\"type\":\"GlyphRenderer\"},{\"attributes\":{\"source\":{\"id\":\"13892\"}},\"id\":\"13896\",\"type\":\"CDSView\"},{\"attributes\":{\"source\":{\"id\":\"14446\"}},\"id\":\"14450\",\"type\":\"CDSView\"},{\"attributes\":{},\"id\":\"13833\",\"type\":\"LinearScale\"},{\"attributes\":{\"line_alpha\":0.1,\"line_color\":\"#1f77b4\",\"line_dash\":[6],\"line_width\":2,\"x\":{\"field\":\"x\"},\"y\":{\"field\":\"y\"}},\"id\":\"13909\",\"type\":\"Line\"},{\"attributes\":{},\"id\":\"14237\",\"type\":\"Selection\"},{\"attributes\":{\"data_source\":{\"id\":\"13907\"},\"glyph\":{\"id\":\"13908\"},\"hover_glyph\":null,\"muted_glyph\":null,\"nonselection_glyph\":{\"id\":\"13909\"},\"selection_glyph\":null,\"view\":{\"id\":\"13911\"}},\"id\":\"13910\",\"type\":\"GlyphRenderer\"},{\"attributes\":{\"source\":{\"id\":\"13867\"}},\"id\":\"13871\",\"type\":\"CDSView\"},{\"attributes\":{\"data\":{\"x\":[3950.0,4625.0],\"y\":[208.0,203.0]},\"selected\":{\"id\":\"14211\"},\"selection_policy\":{\"id\":\"14210\"}},\"id\":\"13867\",\"type\":\"ColumnDataSource\"},{\"attributes\":{\"line_color\":\"#1f77b4\",\"line_dash\":[6],\"line_width\":2,\"x\":{\"field\":\"x\"},\"y\":{\"field\":\"y\"}},\"id\":\"13878\",\"type\":\"Line\"},{\"attributes\":{\"line_alpha\":0.1,\"line_color\":\"#1f77b4\",\"line_dash\":[6],\"line_width\":2,\"x\":{\"field\":\"x\"},\"y\":{\"field\":\"y\"}},\"id\":\"13894\",\"type\":\"Line\"},{\"attributes\":{\"data_source\":{\"id\":\"13897\"},\"glyph\":{\"id\":\"13898\"},\"hover_glyph\":null,\"muted_glyph\":null,\"nonselection_glyph\":{\"id\":\"13899\"},\"selection_glyph\":null,\"view\":{\"id\":\"13901\"}},\"id\":\"13900\",\"type\":\"GlyphRenderer\"},{\"attributes\":{\"line_alpha\":0.1,\"line_color\":\"#1f77b4\",\"line_dash\":[6],\"line_width\":2,\"x\":{\"field\":\"x\"},\"y\":{\"field\":\"y\"}},\"id\":\"13869\",\"type\":\"Line\"},{\"attributes\":{},\"id\":\"13840\",\"type\":\"BasicTicker\"},{\"attributes\":{\"fill_alpha\":{\"value\":0.1},\"fill_color\":{\"field\":\"Color\"},\"line_alpha\":{\"value\":0.1},\"line_color\":{\"field\":\"Color\"},\"x\":{\"field\":\"Mass\"},\"y\":{\"field\":\"Flipper\"}},\"id\":\"13859\",\"type\":\"Scatter\"},{\"attributes\":{\"data\":{\"x\":[6300.0,6050.0],\"y\":[221.0,230.0]},\"selected\":{\"id\":\"14219\"},\"selection_policy\":{\"id\":\"14218\"}},\"id\":\"13887\",\"type\":\"ColumnDataSource\"},{\"attributes\":{\"formatter\":{\"id\":\"14202\"},\"ticker\":{\"id\":\"13836\"}},\"id\":\"13835\",\"type\":\"LinearAxis\"},{\"attributes\":{\"line_alpha\":0.1,\"line_color\":\"#1f77b4\",\"line_dash\":[6],\"line_width\":2,\"x\":{\"field\":\"x\"},\"y\":{\"field\":\"y\"}},\"id\":\"13879\",\"type\":\"Line\"},{\"attributes\":{\"data\":{\"x\":[4625.0,5500.0],\"y\":[203.0,209.0]},\"selected\":{\"id\":\"14213\"},\"selection_policy\":{\"id\":\"14212\"}},\"id\":\"13872\",\"type\":\"ColumnDataSource\"},{\"attributes\":{\"data\":{\"x\":[6050.0,5650.0],\"y\":[230.0,231.0]},\"selected\":{\"id\":\"14221\"},\"selection_policy\":{\"id\":\"14220\"}},\"id\":\"13892\",\"type\":\"ColumnDataSource\"},{\"attributes\":{},\"id\":\"14235\",\"type\":\"Selection\"},{\"attributes\":{\"line_alpha\":0.1,\"line_color\":\"#1f77b4\",\"line_dash\":[6],\"line_width\":2,\"x\":{\"field\":\"x\"},\"y\":{\"field\":\"y\"}},\"id\":\"13864\",\"type\":\"Line\"},{\"attributes\":{\"line_alpha\":0.1,\"line_color\":\"#1f77b4\",\"line_dash\":[6],\"line_width\":2,\"x\":{\"field\":\"x\"},\"y\":{\"field\":\"y\"}},\"id\":\"13889\",\"type\":\"Line\"},{\"attributes\":{\"line_color\":\"#1f77b4\",\"line_dash\":[6],\"line_width\":2,\"x\":{\"field\":\"x\"},\"y\":{\"field\":\"y\"}},\"id\":\"13898\",\"type\":\"Line\"},{\"attributes\":{\"line_color\":\"#1f77b4\",\"line_dash\":[6],\"line_width\":2,\"x\":{\"field\":\"x\"},\"y\":{\"field\":\"y\"}},\"id\":\"13923\",\"type\":\"Line\"},{\"attributes\":{\"overlay\":{\"id\":\"13849\"}},\"id\":\"13845\",\"type\":\"BoxZoomTool\"},{\"attributes\":{\"line_color\":\"#1f77b4\",\"line_dash\":[6],\"line_width\":2,\"x\":{\"field\":\"x\"},\"y\":{\"field\":\"y\"}},\"id\":\"13888\",\"type\":\"Line\"},{\"attributes\":{},\"id\":\"13836\",\"type\":\"BasicTicker\"},{\"attributes\":{\"source\":{\"id\":\"13917\"}},\"id\":\"13921\",\"type\":\"CDSView\"},{\"attributes\":{\"bottom_units\":\"screen\",\"fill_alpha\":0.5,\"fill_color\":\"lightgrey\",\"left_units\":\"screen\",\"level\":\"overlay\",\"line_alpha\":1.0,\"line_color\":\"black\",\"line_dash\":[4,4],\"line_width\":2,\"right_units\":\"screen\",\"top_units\":\"screen\"},\"id\":\"13849\",\"type\":\"BoxAnnotation\"},{\"attributes\":{\"formatter\":{\"id\":\"14204\"},\"ticker\":{\"id\":\"13840\"}},\"id\":\"13839\",\"type\":\"LinearAxis\"},{\"attributes\":{\"line_color\":\"#1f77b4\",\"line_dash\":[6],\"line_width\":2,\"x\":{\"field\":\"x\"},\"y\":{\"field\":\"y\"}},\"id\":\"13868\",\"type\":\"Line\"},{\"attributes\":{\"source\":{\"id\":\"13882\"}},\"id\":\"13886\",\"type\":\"CDSView\"},{\"attributes\":{},\"id\":\"14231\",\"type\":\"Selection\"},{\"attributes\":{\"data_source\":{\"id\":\"13887\"},\"glyph\":{\"id\":\"13888\"},\"hover_glyph\":null,\"muted_glyph\":null,\"nonselection_glyph\":{\"id\":\"13889\"},\"selection_glyph\":null,\"view\":{\"id\":\"13891\"}},\"id\":\"13890\",\"type\":\"GlyphRenderer\"},{\"attributes\":{},\"id\":\"14749\",\"type\":\"UnionRenderers\"},{\"attributes\":{},\"id\":\"14750\",\"type\":\"Selection\"},{\"attributes\":{},\"id\":\"14232\",\"type\":\"UnionRenderers\"},{\"attributes\":{},\"id\":\"13827\",\"type\":\"DataRange1d\"},{\"attributes\":{\"axis\":{\"id\":\"13835\"},\"ticker\":null},\"id\":\"13838\",\"type\":\"Grid\"},{\"attributes\":{},\"id\":\"2758\",\"type\":\"UnionRenderers\"},{\"attributes\":{\"data_source\":{\"id\":\"13882\"},\"glyph\":{\"id\":\"13883\"},\"hover_glyph\":null,\"muted_glyph\":null,\"nonselection_glyph\":{\"id\":\"13884\"},\"selection_glyph\":null,\"view\":{\"id\":\"13886\"}},\"id\":\"13885\",\"type\":\"GlyphRenderer\"},{\"attributes\":{\"source\":{\"id\":\"13887\"}},\"id\":\"13891\",\"type\":\"CDSView\"},{\"attributes\":{},\"id\":\"13846\",\"type\":\"SaveTool\"},{\"attributes\":{},\"id\":\"13829\",\"type\":\"DataRange1d\"},{\"attributes\":{\"data\":{\"x\":[4100.0,3950.0],\"y\":[216.0,208.0]},\"selected\":{\"id\":\"14209\"},\"selection_policy\":{\"id\":\"14208\"}},\"id\":\"13862\",\"type\":\"ColumnDataSource\"},{\"attributes\":{\"source\":{\"id\":\"13872\"}},\"id\":\"13876\",\"type\":\"CDSView\"},{\"attributes\":{\"line_alpha\":0.1,\"line_color\":\"#1f77b4\",\"line_dash\":[6],\"line_width\":2,\"x\":{\"field\":\"x\"},\"y\":{\"field\":\"y\"}},\"id\":\"13874\",\"type\":\"Line\"},{\"attributes\":{\"source\":{\"id\":\"13897\"}},\"id\":\"13901\",\"type\":\"CDSView\"},{\"attributes\":{\"axis\":{\"id\":\"13839\"},\"dimension\":1,\"ticker\":null},\"id\":\"13842\",\"type\":\"Grid\"},{\"attributes\":{\"data_source\":{\"id\":\"13872\"},\"glyph\":{\"id\":\"13873\"},\"hover_glyph\":null,\"muted_glyph\":null,\"nonselection_glyph\":{\"id\":\"13874\"},\"selection_glyph\":null,\"view\":{\"id\":\"13876\"}},\"id\":\"13875\",\"type\":\"GlyphRenderer\"},{\"attributes\":{\"source\":{\"id\":\"13902\"}},\"id\":\"13906\",\"type\":\"CDSView\"},{\"attributes\":{},\"id\":\"14233\",\"type\":\"Selection\"},{\"attributes\":{},\"id\":\"13843\",\"type\":\"PanTool\"},{\"attributes\":{},\"id\":\"14238\",\"type\":\"UnionRenderers\"},{\"attributes\":{\"line_color\":\"#1f77b4\",\"line_dash\":[6],\"line_width\":2,\"x\":{\"field\":\"x\"},\"y\":{\"field\":\"y\"}},\"id\":\"13863\",\"type\":\"Line\"},{\"attributes\":{\"line_color\":\"#1f77b4\",\"line_dash\":[6],\"line_width\":2,\"x\":{\"field\":\"x\"},\"y\":{\"field\":\"y\"}},\"id\":\"13883\",\"type\":\"Line\"},{\"attributes\":{\"data_source\":{\"id\":\"2714\"},\"glyph\":{\"id\":\"13858\"},\"hover_glyph\":null,\"muted_glyph\":null,\"nonselection_glyph\":{\"id\":\"13859\"},\"selection_glyph\":null,\"view\":{\"id\":\"13861\"}},\"id\":\"13860\",\"type\":\"GlyphRenderer\"},{\"attributes\":{},\"id\":\"14234\",\"type\":\"UnionRenderers\"},{\"attributes\":{\"data\":{\"x\":[5500.0,5850.0],\"y\":[209.0,213.0]},\"selected\":{\"id\":\"14215\"},\"selection_policy\":{\"id\":\"14214\"}},\"id\":\"13877\",\"type\":\"ColumnDataSource\"},{\"attributes\":{},\"id\":\"14239\",\"type\":\"Selection\"},{\"attributes\":{\"data\":{\"x\":[5500.0,4100.0],\"y\":[230.0,216.0]},\"selected\":{\"id\":\"14225\"},\"selection_policy\":{\"id\":\"14224\"}},\"id\":\"13902\",\"type\":\"ColumnDataSource\"},{\"attributes\":{\"line_color\":\"#1f77b4\",\"line_dash\":[6],\"line_width\":2,\"x\":{\"field\":\"x\"},\"y\":{\"field\":\"y\"}},\"id\":\"13908\",\"type\":\"Line\"},{\"attributes\":{},\"id\":\"13848\",\"type\":\"HelpTool\"},{\"attributes\":{},\"id\":\"14224\",\"type\":\"UnionRenderers\"},{\"attributes\":{\"data_source\":{\"id\":\"13877\"},\"glyph\":{\"id\":\"13878\"},\"hover_glyph\":null,\"muted_glyph\":null,\"nonselection_glyph\":{\"id\":\"13879\"},\"selection_glyph\":null,\"view\":{\"id\":\"13881\"}},\"id\":\"13880\",\"type\":\"GlyphRenderer\"},{\"attributes\":{\"source\":{\"id\":\"2714\"}},\"id\":\"13861\",\"type\":\"CDSView\"},{\"attributes\":{},\"id\":\"14236\",\"type\":\"UnionRenderers\"},{\"attributes\":{\"source\":{\"id\":\"13877\"}},\"id\":\"13881\",\"type\":\"CDSView\"},{\"attributes\":{\"active_drag\":\"auto\",\"active_inspect\":\"auto\",\"active_multi\":null,\"active_scroll\":\"auto\",\"active_tap\":\"auto\",\"tools\":[{\"id\":\"13843\"},{\"id\":\"13844\"},{\"id\":\"13845\"},{\"id\":\"13846\"},{\"id\":\"13847\"},{\"id\":\"13848\"}]},\"id\":\"13850\",\"type\":\"Toolbar\"},{\"attributes\":{\"data\":{\"x\":[3950.0,2700.0],\"y\":[210.0,192.0]},\"selected\":{\"id\":\"14227\"},\"selection_policy\":{\"id\":\"14226\"}},\"id\":\"13907\",\"type\":\"ColumnDataSource\"},{\"attributes\":{},\"id\":\"14225\",\"type\":\"Selection\"},{\"attributes\":{},\"id\":\"14226\",\"type\":\"UnionRenderers\"},{\"attributes\":{\"line_alpha\":0.1,\"line_color\":\"#1f77b4\",\"line_dash\":[6],\"line_width\":2,\"x\":{\"field\":\"x\"},\"y\":{\"field\":\"y\"}},\"id\":\"13904\",\"type\":\"Line\"},{\"attributes\":{\"data_source\":{\"id\":\"13902\"},\"glyph\":{\"id\":\"13903\"},\"hover_glyph\":null,\"muted_glyph\":null,\"nonselection_glyph\":{\"id\":\"13904\"},\"selection_glyph\":null,\"view\":{\"id\":\"13906\"}},\"id\":\"13905\",\"type\":\"GlyphRenderer\"},{\"attributes\":{\"line_alpha\":0.1,\"line_color\":\"#1f77b4\",\"line_dash\":[6],\"line_width\":2,\"x\":{\"field\":\"x\"},\"y\":{\"field\":\"y\"}},\"id\":\"13919\",\"type\":\"Line\"},{\"attributes\":{\"data\":{\"x\":[5850.0,6300.0],\"y\":[213.0,221.0]},\"selected\":{\"id\":\"14217\"},\"selection_policy\":{\"id\":\"14216\"}},\"id\":\"13882\",\"type\":\"ColumnDataSource\"},{\"attributes\":{\"line_alpha\":0.1,\"line_color\":\"#1f77b4\",\"line_dash\":[6],\"line_width\":2,\"x\":{\"field\":\"x\"},\"y\":{\"field\":\"y\"}},\"id\":\"13884\",\"type\":\"Line\"},{\"attributes\":{\"line_color\":\"#1f77b4\",\"line_dash\":[6],\"line_width\":2,\"x\":{\"field\":\"x\"},\"y\":{\"field\":\"y\"}},\"id\":\"13903\",\"type\":\"Line\"},{\"attributes\":{},\"id\":\"13847\",\"type\":\"ResetTool\"},{\"attributes\":{\"data_source\":{\"id\":\"13917\"},\"glyph\":{\"id\":\"13918\"},\"hover_glyph\":null,\"muted_glyph\":null,\"nonselection_glyph\":{\"id\":\"13919\"},\"selection_glyph\":null,\"view\":{\"id\":\"13921\"}},\"id\":\"13920\",\"type\":\"GlyphRenderer\"},{\"attributes\":{},\"id\":\"13844\",\"type\":\"WheelZoomTool\"},{\"attributes\":{\"source\":{\"id\":\"13932\"}},\"id\":\"13936\",\"type\":\"CDSView\"},{\"attributes\":{\"data_source\":{\"id\":\"13862\"},\"glyph\":{\"id\":\"13863\"},\"hover_glyph\":null,\"muted_glyph\":null,\"nonselection_glyph\":{\"id\":\"13864\"},\"selection_glyph\":null,\"view\":{\"id\":\"13866\"}},\"id\":\"13865\",\"type\":\"GlyphRenderer\"},{\"attributes\":{},\"id\":\"14214\",\"type\":\"UnionRenderers\"},{\"attributes\":{\"line_color\":\"#1f77b4\",\"line_dash\":[6],\"line_width\":2,\"x\":{\"field\":\"x\"},\"y\":{\"field\":\"y\"}},\"id\":\"13933\",\"type\":\"Line\"},{\"attributes\":{},\"id\":\"14212\",\"type\":\"UnionRenderers\"},{\"attributes\":{\"source\":{\"id\":\"13862\"}},\"id\":\"13866\",\"type\":\"CDSView\"},{\"attributes\":{\"data\":{\"x\":[4800.0,4300.0],\"y\":[210.0,212.0]},\"selected\":{\"id\":\"14237\"},\"selection_policy\":{\"id\":\"14236\"}},\"id\":\"13932\",\"type\":\"ColumnDataSource\"},{\"attributes\":{},\"id\":\"14228\",\"type\":\"UnionRenderers\"},{\"attributes\":{\"line_color\":\"#1f77b4\",\"line_dash\":[6],\"line_width\":2,\"x\":{\"field\":\"x\"},\"y\":{\"field\":\"y\"}},\"id\":\"13938\",\"type\":\"Line\"},{\"attributes\":{},\"id\":\"14215\",\"type\":\"Selection\"},{\"attributes\":{\"data_source\":{\"id\":\"13912\"},\"glyph\":{\"id\":\"13913\"},\"hover_glyph\":null,\"muted_glyph\":null,\"nonselection_glyph\":{\"id\":\"13914\"},\"selection_glyph\":null,\"view\":{\"id\":\"13916\"}},\"id\":\"13915\",\"type\":\"GlyphRenderer\"},{\"attributes\":{},\"id\":\"14213\",\"type\":\"Selection\"},{\"attributes\":{},\"id\":\"14220\",\"type\":\"UnionRenderers\"},{\"attributes\":{\"line_alpha\":0.1,\"line_color\":\"#1f77b4\",\"line_dash\":[6],\"line_width\":2,\"x\":{\"field\":\"x\"},\"y\":{\"field\":\"y\"}},\"id\":\"13929\",\"type\":\"Line\"},{\"attributes\":{\"line_alpha\":0.1,\"line_color\":\"#1f77b4\",\"line_dash\":[6],\"line_width\":2,\"x\":{\"field\":\"x\"},\"y\":{\"field\":\"y\"}},\"id\":\"13934\",\"type\":\"Line\"},{\"attributes\":{},\"id\":\"14229\",\"type\":\"Selection\"},{\"attributes\":{\"data_source\":{\"id\":\"13932\"},\"glyph\":{\"id\":\"13933\"},\"hover_glyph\":null,\"muted_glyph\":null,\"nonselection_glyph\":{\"id\":\"13934\"},\"selection_glyph\":null,\"view\":{\"id\":\"13936\"}},\"id\":\"13935\",\"type\":\"GlyphRenderer\"},{\"attributes\":{},\"id\":\"14221\",\"type\":\"Selection\"},{\"attributes\":{\"data_source\":{\"id\":\"14446\"},\"glyph\":{\"id\":\"14447\"},\"hover_glyph\":null,\"muted_glyph\":null,\"nonselection_glyph\":{\"id\":\"14448\"},\"selection_glyph\":null,\"view\":{\"id\":\"14450\"}},\"id\":\"14449\",\"type\":\"GlyphRenderer\"},{\"attributes\":{\"data\":{\"x\":[4300.0,3950.0],\"y\":[212.0,210.0]},\"selected\":{\"id\":\"14239\"},\"selection_policy\":{\"id\":\"14238\"}},\"id\":\"13937\",\"type\":\"ColumnDataSource\"},{\"attributes\":{},\"id\":\"14216\",\"type\":\"UnionRenderers\"},{\"attributes\":{\"fill_color\":{\"field\":\"Color\"},\"line_color\":{\"field\":\"Color\"},\"x\":{\"field\":\"Mass\"},\"y\":{\"field\":\"Flipper\"}},\"id\":\"13858\",\"type\":\"Scatter\"},{\"attributes\":{\"line_alpha\":0.1,\"line_color\":\"#1f77b4\",\"x\":{\"field\":\"x\"},\"y\":{\"field\":\"y\"}},\"id\":\"14448\",\"type\":\"Line\"},{\"attributes\":{},\"id\":\"14227\",\"type\":\"Selection\"},{\"attributes\":{\"source\":{\"id\":\"13907\"}},\"id\":\"13911\",\"type\":\"CDSView\"},{\"attributes\":{},\"id\":\"14222\",\"type\":\"UnionRenderers\"},{\"attributes\":{\"data_source\":{\"id\":\"13937\"},\"glyph\":{\"id\":\"13938\"},\"hover_glyph\":null,\"muted_glyph\":null,\"nonselection_glyph\":{\"id\":\"13939\"},\"selection_glyph\":null,\"view\":{\"id\":\"13941\"}},\"id\":\"13940\",\"type\":\"GlyphRenderer\"},{\"attributes\":{\"data\":{\"x\":[3250.0,3700.0],\"y\":[178.0,181.0]},\"selected\":{\"id\":\"14231\"},\"selection_policy\":{\"id\":\"14230\"}},\"id\":\"13917\",\"type\":\"ColumnDataSource\"},{\"attributes\":{\"line_color\":\"#1f77b4\",\"line_dash\":[6],\"line_width\":2,\"x\":{\"field\":\"x\"},\"y\":{\"field\":\"y\"}},\"id\":\"13928\",\"type\":\"Line\"},{\"attributes\":{\"source\":{\"id\":\"13937\"}},\"id\":\"13941\",\"type\":\"CDSView\"},{\"attributes\":{\"data\":{\"x\":[3700.0,4400.0],\"y\":[181.0,195.0]},\"selected\":{\"id\":\"14233\"},\"selection_policy\":{\"id\":\"14232\"}},\"id\":\"13922\",\"type\":\"ColumnDataSource\"},{\"attributes\":{\"line_alpha\":0.1,\"line_color\":\"#1f77b4\",\"line_dash\":[6],\"line_width\":2,\"x\":{\"field\":\"x\"},\"y\":{\"field\":\"y\"}},\"id\":\"13939\",\"type\":\"Line\"},{\"attributes\":{\"data\":{\"x\":[2700.0,3250.0],\"y\":[192.0,178.0]},\"selected\":{\"id\":\"14229\"},\"selection_policy\":{\"id\":\"14228\"}},\"id\":\"13912\",\"type\":\"ColumnDataSource\"},{\"attributes\":{\"line_color\":\"#1f77b4\",\"x\":{\"field\":\"x\"},\"y\":{\"field\":\"y\"}},\"id\":\"14447\",\"type\":\"Line\"},{\"attributes\":{},\"id\":\"14202\",\"type\":\"BasicTickFormatter\"},{\"attributes\":{\"text\":\"\"},\"id\":\"14201\",\"type\":\"Title\"},{\"attributes\":{\"line_color\":\"#1f77b4\",\"line_dash\":[6],\"line_width\":2,\"x\":{\"field\":\"x\"},\"y\":{\"field\":\"y\"}},\"id\":\"13918\",\"type\":\"Line\"},{\"attributes\":{},\"id\":\"14204\",\"type\":\"BasicTickFormatter\"},{\"attributes\":{},\"id\":\"14208\",\"type\":\"UnionRenderers\"},{\"attributes\":{\"source\":{\"id\":\"13922\"}},\"id\":\"13926\",\"type\":\"CDSView\"},{\"attributes\":{\"data\":{\"x\":{\"__ndarray__\":\"AAAAAACIo0Cjiy666OKjQEYXXXTRPaRA6aKLLrqYpECMLrroovOkQC666KKLTqVA0kUXXXSppUB00UUXXQSmQBdddNFFX6ZAuuiiiy66pkBddNFFFxWnQAAAAAAAcKdAo4suuujKp0BGF1100SWoQOmiiy66gKhAjC666KLbqEAuuuiiizapQNJFF110kalAdNFFF13sqUAXXXTRRUeqQLrooosuoqpAXXTRRRf9qkAAAAAAAFirQKOLLrrosqtARhdddNENrEDooosuumisQIwuuuiiw6xALrroooserUDSRRdddHmtQHTRRRdd1K1AF1100UUvrkC66KKLLoquQF100UUX5a5AAAAAAABAr0Cjiy666JqvQEYXXXTR9a9AdNFFF10osEBGF1100VWwQBdddNFFg7BA6aKLLrqwsEC66KKLLt6wQIwuuuiiC7FAXXTRRRc5sUAuuuiii2axQAAAAAAAlLFA0kUXXXTBsUCjiy666O6xQHTRRRddHLJARhdddNFJskAXXXTRRXeyQOiiiy66pLJAuuiiiy7SskCMLrroov+yQF100UUXLbNALrroootas0AAAAAAAIizQNJFF110tbNAo4suuujis0B00UUXXRC0QEYXXXTRPbRAF1100UVrtEDooosuupi0QLrooosuxrRAjC666KLztEBddNFFFyG1QC666KKLTrVAAAAAAAB8tUDSRRdddKm1QKOLLrro1rVAdNFFF10EtkBGF1100TG2QBdddNFFX7ZA6KKLLrqMtkC66KKLLrq2QIwuuuii57ZAXXTRRRcVt0Auuuiii0K3QAAAAAAAcLdA0kUXXXSdt0Cjiy666Mq3QHTRRRdd+LdARhdddNEluEAXXXTRRVO4QOiiiy66gLhAuuiiiy6uuECMLrrootu4QF100UUXCblALrrooos2uUAAAAAAAGS5QNJFF110kblAo4suuui+uUB00UUXXey5QEYXXXTRGbpAF1100UVHukDpoosuunS6QLrooosuorpAjC666KLPukBddNFFF/26QC666KKLKrtAAAAAAABYu0A=\",\"dtype\":\"float64\",\"order\":\"little\",\"shape\":[100]},\"y\":{\"__ndarray__\":\"cvdLJxCia0BTGaLNXZdrQDQ7+HOrjGtAFF1OGvmBa0D0fqTARndrQNag+maUbGtAtsJQDeJha0CX5KazL1drQHgG/Vl9TGtAWChTAMtBa0A5SqmmGDdrQBps/0xmLGtA+o1V87Mha0Dbr6uZARdrQLzRAUBPDGtAnPNX5pwBa0B9Fa6M6vZqQF43BDM47GpAP1la2YXhakAfe7B/09ZqQACdBiYhzGpA4b5czG7BakDB4LJyvLZqQKICCRkKrGpAgyRfv1ehakBjRrVlpZZqQEVoCwzzi2pAJYphskCBakAFrLdYjnZqQOfNDf/ba2pAx+9jpSlhakCnEbpLd1ZqQIgzEPLES2pAaVVmmBJBakBJd7w+YDZqQCqZEuWtK2pAC7toi/sgakDs3L4xSRZqQMz+FNiWC2pArCBrfuQAakCOQsEkMvZpQG5kF8t/62lAToZtcc3gaUAwqMMXG9ZpQBDKGb5oy2lA8OtvZLbAaUDSDcYKBLZpQLIvHLFRq2lAk1FyV5+gaUB0c8j97JVpQFSVHqQ6i2lANbd0SoiAaUAW2crw1XVpQPb6IJcja2lA1xx3PXFgaUC4Ps3jvlVpQJhgI4oMS2lAeYJ5MFpAaUBapM/WpzVpQDvGJX31KmlAG+h7I0MgaUD8CdLJkBVpQN0rKHDeCmlAvU1+FiwAaUCeb9S8efVoQH+RKmPH6mhAX7OACRXgaEA/1davYtVoQCH3LFawymhAARmD/P2/aEDiOtmiS7VoQMNcL0mZqmhAo36F7+afaECEoNuVNJVoQGTCMTyCimhAReSH4s9/aEAmBt6IHXVoQAYoNC9ramhA6EmK1bhfaEDIa+B7BlVoQKiNNiJUSmhAiq+MyKE/aEBq0eJu7zRoQErzOBU9KmhALBWPu4ofaEAMN+Vh2BRoQOxYOwgmCmhAznqRrnP/Z0CunOdUwfRnQI++PfsO6mdAcOCToVzfZ0BQAupHqtRnQDEkQO73yWdAEkaWlEW/Z0DyZ+w6k7RnQNOJQuHgqWdAtKuYhy6fZ0CUze4tfJRnQHXvRNTJiWdAVhGbehd/Z0A=\",\"dtype\":\"float64\",\"order\":\"little\",\"shape\":[100]}},\"selected\":{\"id\":\"14750\"},\"selection_policy\":{\"id\":\"14749\"}},\"id\":\"14446\",\"type\":\"ColumnDataSource\"},{\"attributes\":{\"line_alpha\":0.1,\"line_color\":\"#1f77b4\",\"line_dash\":[6],\"line_width\":2,\"x\":{\"field\":\"x\"},\"y\":{\"field\":\"y\"}},\"id\":\"13924\",\"type\":\"Line\"},{\"attributes\":{},\"id\":\"14209\",\"type\":\"Selection\"},{\"attributes\":{\"data_source\":{\"id\":\"13922\"},\"glyph\":{\"id\":\"13923\"},\"hover_glyph\":null,\"muted_glyph\":null,\"nonselection_glyph\":{\"id\":\"13924\"},\"selection_glyph\":null,\"view\":{\"id\":\"13926\"}},\"id\":\"13925\",\"type\":\"GlyphRenderer\"},{\"attributes\":{},\"id\":\"14217\",\"type\":\"Selection\"},{\"attributes\":{},\"id\":\"14210\",\"type\":\"UnionRenderers\"},{\"attributes\":{\"line_color\":\"#1f77b4\",\"line_dash\":[6],\"line_width\":2,\"x\":{\"field\":\"x\"},\"y\":{\"field\":\"y\"}},\"id\":\"13913\",\"type\":\"Line\"},{\"attributes\":{},\"id\":\"14218\",\"type\":\"UnionRenderers\"},{\"attributes\":{\"data\":{\"x\":[4400.0,4800.0],\"y\":[195.0,210.0]},\"selected\":{\"id\":\"14235\"},\"selection_policy\":{\"id\":\"14234\"}},\"id\":\"13927\",\"type\":\"ColumnDataSource\"},{\"attributes\":{\"data_source\":{\"id\":\"13927\"},\"glyph\":{\"id\":\"13928\"},\"hover_glyph\":null,\"muted_glyph\":null,\"nonselection_glyph\":{\"id\":\"13929\"},\"selection_glyph\":null,\"view\":{\"id\":\"13931\"}},\"id\":\"13930\",\"type\":\"GlyphRenderer\"},{\"attributes\":{\"source\":{\"id\":\"13912\"}},\"id\":\"13916\",\"type\":\"CDSView\"},{\"attributes\":{},\"id\":\"14211\",\"type\":\"Selection\"},{\"attributes\":{\"line_alpha\":0.1,\"line_color\":\"#1f77b4\",\"line_dash\":[6],\"line_width\":2,\"x\":{\"field\":\"x\"},\"y\":{\"field\":\"y\"}},\"id\":\"13914\",\"type\":\"Line\"},{\"attributes\":{},\"id\":\"14230\",\"type\":\"UnionRenderers\"},{\"attributes\":{\"data\":{\"C-Depth\":{\"__ndarray__\":\"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\",\"dtype\":\"float64\",\"order\":\"little\",\"shape\":[191]},\"C-Length\":{\"__ndarray__\":\"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\",\"dtype\":\"float64\",\"order\":\"little\",\"shape\":[191]},\"Color\":[\"green\",\"green\",\"green\",\"green\",\"green\",\"green\",\"green\",\"green\",\"green\",\"green\",\"green\",\"green\",\"green\",\"green\",\"green\",\"green\",\"green\",\"green\",\"green\",\"green\",\"green\",\"green\",\"green\",\"green\",\"green\",\"green\",\"green\",\"green\",\"green\",\"green\",\"green\",\"green\",\"green\",\"green\",\"green\",\"green\",\"green\",\"green\",\"green\",\"green\",\"green\",\"green\",\"green\",\"green\",\"green\",\"green\",\"green\",\"green\",\"green\",\"green\",\"green\",\"green\",\"green\",\"green\",\"green\",\"green\",\"green\",\"green\",\"green\",\"green\",\"green\",\"green\",\"green\",\"green\",\"green\",\"green\",\"green\",\"green\",\"green\",\"green\",\"green\",\"green\",\"green\",\"green\",\"green\",\"green\",\"green\",\"green\",\"green\",\"green\",\"green\",\"green\",\"green\",\"green\",\"green\",\"green\",\"green\",\"green\",\"green\",\"green\",\"green\",\"green\",\"green\",\"green\",\"green\",\"green\",\"green\",\"green\",\"green\",\"green\",\"green\",\"green\",\"green\",\"green\",\"green\",\"green\",\"green\",\"green\",\"green\",\"green\",\"green\",\"green\",\"green\",\"green\",\"green\",\"green\",\"green\",\"green\",\"green\",\"green\",\"green\",\"green\",\"green\",\"red\",\"red\",\"red\",\"red\",\"red\",\"red\",\"red\",\"red\",\"red\",\"red\",\"red\",\"red\",\"red\",\"red\",\"red\",\"red\",\"red\",\"red\",\"red\",\"red\",\"red\",\"red\",\"red\",\"red\",\"red\",\"red\",\"red\",\"red\",\"red\",\"red\",\"red\",\"red\",\"red\",\"red\",\"red\",\"red\",\"red\",\"red\",\"red\",\"red\",\"red\",\"red\",\"red\",\"red\",\"red\",\"red\",\"red\",\"red\",\"red\",\"red\",\"red\",\"red\",\"red\",\"red\",\"red\",\"red\",\"red\",\"red\",\"red\",\"red\",\"red\",\"red\",\"red\",\"red\",\"red\",\"red\",\"red\",\"red\"],\"Flipper\":{\"__ndarray__\":\"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\",\"dtype\":\"float64\",\"order\":\"little\",\"shape\":[191]},\"Mass\":{\"__ndarray__\":\"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\",\"dtype\":\"float64\",\"order\":\"little\",\"shape\":[191]},\"Sample\":[1,2,3,4,5,6,7,8,9,10,11,12,13,14,15,16,17,18,19,20,21,22,23,24,25,26,27,28,29,30,31,32,33,34,35,36,37,38,39,40,41,42,43,44,45,46,47,48,49,50,51,52,53,54,55,56,57,58,59,60,61,62,63,64,65,66,67,68,69,70,71,72,73,74,75,76,77,78,79,80,81,82,83,84,85,86,87,88,89,90,91,92,93,94,95,96,97,98,99,100,101,102,103,104,105,106,107,108,109,110,111,112,113,114,115,116,117,118,119,121,122,123,124,1,2,3,4,5,6,7,8,9,10,11,12,13,14,15,16,17,18,19,20,21,22,23,24,25,26,27,28,29,30,31,32,33,34,35,36,37,38,39,40,41,42,43,44,45,46,47,48,49,50,51,52,53,54,55,56,57,58,59,60,61,62,63,64,65,66,67,68],\"Type\":[\"Gentoo\",\"Gentoo\",\"Gentoo\",\"Gentoo\",\"Gentoo\",\"Gentoo\",\"Gentoo\",\"Gentoo\",\"Gentoo\",\"Gentoo\",\"Gentoo\",\"Gentoo\",\"Gentoo\",\"Gentoo\",\"Gentoo\",\"Gentoo\",\"Gentoo\",\"Gentoo\",\"Gentoo\",\"Gentoo\",\"Gentoo\",\"Gentoo\",\"Gentoo\",\"Gentoo\",\"Gentoo\",\"Gentoo\",\"Gentoo\",\"Gentoo\",\"Gentoo\",\"Gentoo\",\"Gentoo\",\"Gentoo\",\"Gentoo\",\"Gentoo\",\"Gentoo\",\"Gentoo\",\"Gentoo\",\"Gentoo\",\"Gentoo\",\"Gentoo\",\"Gentoo\",\"Gentoo\",\"Gentoo\",\"Gentoo\",\"Gentoo\",\"Gentoo\",\"Gentoo\",\"Gentoo\",\"Gentoo\",\"Gentoo\",\"Gentoo\",\"Gentoo\",\"Gentoo\",\"Gentoo\",\"Gentoo\",\"Gentoo\",\"Gentoo\",\"Gentoo\",\"Gentoo\",\"Gentoo\",\"Gentoo\",\"Gentoo\",\"Gentoo\",\"Gentoo\",\"Gentoo\",\"Gentoo\",\"Gentoo\",\"Gentoo\",\"Gentoo\",\"Gentoo\",\"Gentoo\",\"Gentoo\",\"Gentoo\",\"Gentoo\",\"Gentoo\",\"Gentoo\",\"Gentoo\",\"Gentoo\",\"Gentoo\",\"Gentoo\",\"Gentoo\",\"Gentoo\",\"Gentoo\",\"Gentoo\",\"Gentoo\",\"Gentoo\",\"Gentoo\",\"Gentoo\",\"Gentoo\",\"Gentoo\",\"Gentoo\",\"Gentoo\",\"Gentoo\",\"Gentoo\",\"Gentoo\",\"Gentoo\",\"Gentoo\",\"Gentoo\",\"Gentoo\",\"Gentoo\",\"Gentoo\",\"Gentoo\",\"Gentoo\",\"Gentoo\",\"Gentoo\",\"Gentoo\",\"Gentoo\",\"Gentoo\",\"Gentoo\",\"Gentoo\",\"Gentoo\",\"Gentoo\",\"Gentoo\",\"Gentoo\",\"Gentoo\",\"Gentoo\",\"Gentoo\",\"Gentoo\",\"Gentoo\",\"Gentoo\",\"Gentoo\",\"Gentoo\",\"Gentoo\",\"Chinstrap\",\"Chinstrap\",\"Chinstrap\",\"Chinstrap\",\"Chinstrap\",\"Chinstrap\",\"Chinstrap\",\"Chinstrap\",\"Chinstrap\",\"Chinstrap\",\"Chinstrap\",\"Chinstrap\",\"Chinstrap\",\"Chinstrap\",\"Chinstrap\",\"Chinstrap\",\"Chinstrap\",\"Chinstrap\",\"Chinstrap\",\"Chinstrap\",\"Chinstrap\",\"Chinstrap\",\"Chinstrap\",\"Chinstrap\",\"Chinstrap\",\"Chinstrap\",\"Chinstrap\",\"Chinstrap\",\"Chinstrap\",\"Chinstrap\",\"Chinstrap\",\"Chinstrap\",\"Chinstrap\",\"Chinstrap\",\"Chinstrap\",\"Chinstrap\",\"Chinstrap\",\"Chinstrap\",\"Chinstrap\",\"Chinstrap\",\"Chinstrap\",\"Chinstrap\",\"Chinstrap\",\"Chinstrap\",\"Chinstrap\",\"Chinstrap\",\"Chinstrap\",\"Chinstrap\",\"Chinstrap\",\"Chinstrap\",\"Chinstrap\",\"Chinstrap\",\"Chinstrap\",\"Chinstrap\",\"Chinstrap\",\"Chinstrap\",\"Chinstrap\",\"Chinstrap\",\"Chinstrap\",\"Chinstrap\",\"Chinstrap\",\"Chinstrap\",\"Chinstrap\",\"Chinstrap\",\"Chinstrap\",\"Chinstrap\",\"Chinstrap\",\"Chinstrap\"],\"index\":[152,153,154,155,156,157,158,159,160,161,162,163,164,165,166,167,168,169,170,171,172,173,174,175,176,177,178,179,180,181,182,183,184,185,186,187,188,189,190,191,192,193,194,195,196,197,198,199,200,201,202,203,204,205,206,207,208,209,210,211,212,213,214,215,216,217,218,219,220,221,222,223,224,225,226,227,228,229,230,231,232,233,234,235,236,237,238,239,240,241,242,243,244,245,246,247,248,249,250,251,252,253,254,255,256,257,258,259,260,261,262,263,264,265,266,267,268,269,270,272,273,274,275,276,277,278,279,280,281,282,283,284,285,286,287,288,289,290,291,292,293,294,295,296,297,298,299,300,301,302,303,304,305,306,307,308,309,310,311,312,313,314,315,316,317,318,319,320,321,322,323,324,325,326,327,328,329,330,331,332,333,334,335,336,337,338,339,340,341,342,343]},\"selected\":{\"id\":\"2759\"},\"selection_policy\":{\"id\":\"2758\"}},\"id\":\"2714\",\"type\":\"ColumnDataSource\"},{\"attributes\":{},\"id\":\"14223\",\"type\":\"Selection\"},{\"attributes\":{\"source\":{\"id\":\"13927\"}},\"id\":\"13931\",\"type\":\"CDSView\"},{\"attributes\":{},\"id\":\"2759\",\"type\":\"Selection\"},{\"attributes\":{},\"id\":\"14219\",\"type\":\"Selection\"}],\"root_ids\":[\"13826\"]},\"title\":\"Bokeh Application\",\"version\":\"2.2.3\"}};\n",
       "  var render_items = [{\"docid\":\"4b06c055-292b-475c-b115-c4c769d8d0c1\",\"root_ids\":[\"13826\"],\"roots\":{\"13826\":\"10e793cc-69ef-40f5-923f-c4c3438e6f98\"}}];\n",
       "  root.Bokeh.embed.embed_items_notebook(docs_json, render_items);\n",
       "\n",
       "  }\n",
       "  if (root.Bokeh !== undefined) {\n",
       "    embed_document(root);\n",
       "  } else {\n",
       "    var attempts = 0;\n",
       "    var timer = setInterval(function(root) {\n",
       "      if (root.Bokeh !== undefined) {\n",
       "        clearInterval(timer);\n",
       "        embed_document(root);\n",
       "      } else {\n",
       "        attempts++;\n",
       "        if (attempts > 100) {\n",
       "          clearInterval(timer);\n",
       "          console.log(\"Bokeh: ERROR: Unable to run BokehJS code because BokehJS library is missing\");\n",
       "        }\n",
       "      }\n",
       "    }, 10, root)\n",
       "  }\n",
       "})(window);"
      ],
      "application/vnd.bokehjs_exec.v0+json": ""
     },
     "metadata": {
      "application/vnd.bokehjs_exec.v0+json": {
       "id": "13826"
      }
     },
     "output_type": "display_data"
    }
   ],
   "source": [
    "show(f)"
   ]
  },
  {
   "cell_type": "markdown",
   "metadata": {},
   "source": [
    "Some red points are above the line, and some green are below; but this is in some sense the \"best\" separating line."
   ]
  },
  {
   "cell_type": "markdown",
   "metadata": {},
   "source": [
    "This line is found by considering the reduced convex hulls of the two sets.  If X is a set of points, then the reduced convex hull with parameter 0<K<1 is the set of convex combinations of points from X where the weight attached to any point is at most K.  By\n",
    "shrinking K you can get the two reduced convex hulls to separate and then find the line between them."
   ]
  },
  {
   "cell_type": "markdown",
   "metadata": {},
   "source": [
    "Following the ideas outlined above, look at some of the other combinations of variables to see if they are linearly separable and what the classifying hyperplane looks like."
   ]
  },
  {
   "cell_type": "code",
   "execution_count": null,
   "metadata": {},
   "outputs": [],
   "source": []
  }
 ],
 "metadata": {
  "kernelspec": {
   "display_name": "Python 3",
   "language": "python",
   "name": "python3"
  },
  "language_info": {
   "codemirror_mode": {
    "name": "ipython",
    "version": 3
   },
   "file_extension": ".py",
   "mimetype": "text/x-python",
   "name": "python",
   "nbconvert_exporter": "python",
   "pygments_lexer": "ipython3",
   "version": "3.7.9"
  }
 },
 "nbformat": 4,
 "nbformat_minor": 4
}
