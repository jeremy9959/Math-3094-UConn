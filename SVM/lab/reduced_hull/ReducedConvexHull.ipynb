{
 "cells": [
  {
   "cell_type": "code",
   "execution_count": null,
   "metadata": {},
   "outputs": [],
   "source": [
    "%load_ext autoreload\n",
    "%autoreload 2"
   ]
  },
  {
   "cell_type": "code",
   "execution_count": null,
   "metadata": {},
   "outputs": [],
   "source": [
    "from rsvm2 import RCH\n",
    "from bokeh.plotting import figure\n",
    "from bokeh.models import ColumnDataSource, TapTool,HoverTool\n",
    "from bokeh.models.callbacks import CustomJS\n",
    "from bokeh.io import output_notebook,show\n",
    "import numpy as np\n",
    "output_notebook()"
   ]
  },
  {
   "cell_type": "code",
   "execution_count": null,
   "metadata": {},
   "outputs": [],
   "source": []
  },
  {
   "cell_type": "code",
   "execution_count": null,
   "metadata": {},
   "outputs": [],
   "source": [
    "pts = np.random.uniform(-.5,.5,size=(50,2))"
   ]
  },
  {
   "cell_type": "code",
   "execution_count": null,
   "metadata": {},
   "outputs": [],
   "source": [
    "L = RCH(pts,.3)\n",
    "Lverts = np.stack([x[0] for x in L])\n",
    "Lverts.shape[0]"
   ]
  },
  {
   "cell_type": "code",
   "execution_count": null,
   "metadata": {},
   "outputs": [],
   "source": []
  },
  {
   "cell_type": "code",
   "execution_count": null,
   "metadata": {},
   "outputs": [],
   "source": [
    "f=figure(aspect_ratio=1.0)\n",
    "data=ColumnDataSource({'x':Lverts[:-1,0],'y':Lverts[:-1,1]})\n",
    "data2=ColumnDataSource({'x':Lverts[:,0],'y':Lverts[:,1]})\n",
    "points = ColumnDataSource({'x':pts[:,0],'y':pts[:,1],'color':['blue' for i in range(pts.shape[0])],'size':[4 for i in range(pts.shape[0])]})\n",
    "callback=CustomJS(args=dict(data=data,info=L,pts=points),code=\"\"\"\n",
    "    var selected = data.selected.indices[0];\n",
    "    var support = info[selected][1]\n",
    "    var special = info[selected][1][info[selected][1].length-1]\n",
    "    for(let i=0; i<pts.data['color'].length;i++){\n",
    "        pts.data['color'][i]=support.includes(i)?'green':'blue'\n",
    "        pts.data['size'][i]=support.includes(i)?10:4\n",
    "    }\n",
    "    pts.data['color'][special]='#33ee00'\n",
    "    pts.change.emit()\n",
    "    \"\"\")\n",
    "f.scatter(x='x',y='y',color='color',source=points,size='size')\n",
    "f.line(x='x',y='y',color='red',source=data2)\n",
    "vertices = f.circle(x='x',y='y',selection_color='red',color='red',nonselection_fill_alpha=.5,size=10,source=data)\n",
    "f.add_tools(TapTool(callback=callback,renderers=[vertices]))\n",
    "show(f)"
   ]
  },
  {
   "cell_type": "code",
   "execution_count": null,
   "metadata": {},
   "outputs": [],
   "source": []
  },
  {
   "cell_type": "code",
   "execution_count": null,
   "metadata": {},
   "outputs": [],
   "source": [
    "data.data['x'].shape[0]"
   ]
  },
  {
   "cell_type": "code",
   "execution_count": null,
   "metadata": {},
   "outputs": [],
   "source": [
    "pts[7]"
   ]
  },
  {
   "cell_type": "code",
   "execution_count": null,
   "metadata": {},
   "outputs": [],
   "source": [
    "from scipy.special import binom"
   ]
  },
  {
   "cell_type": "code",
   "execution_count": null,
   "metadata": {},
   "outputs": [],
   "source": [
    "binom(20,10)"
   ]
  },
  {
   "cell_type": "code",
   "execution_count": null,
   "metadata": {},
   "outputs": [],
   "source": [
    "L[1]"
   ]
  },
  {
   "cell_type": "code",
   "execution_count": null,
   "metadata": {},
   "outputs": [],
   "source": [
    "pts[0]"
   ]
  },
  {
   "cell_type": "code",
   "execution_count": null,
   "metadata": {},
   "outputs": [],
   "source": [
    "pts[3]"
   ]
  },
  {
   "cell_type": "code",
   "execution_count": null,
   "metadata": {},
   "outputs": [],
   "source": []
  }
 ],
 "metadata": {
  "kernelspec": {
   "display_name": "Python 3",
   "language": "python",
   "name": "python3"
  },
  "language_info": {
   "codemirror_mode": {
    "name": "ipython",
    "version": 3
   },
   "file_extension": ".py",
   "mimetype": "text/x-python",
   "name": "python",
   "nbconvert_exporter": "python",
   "pygments_lexer": "ipython3",
   "version": "3.7.9"
  }
 },
 "nbformat": 4,
 "nbformat_minor": 4
}
