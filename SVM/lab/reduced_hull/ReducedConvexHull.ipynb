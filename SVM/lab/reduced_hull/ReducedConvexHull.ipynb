{
 "cells": [
  {
   "cell_type": "code",
   "execution_count": 1,
   "metadata": {},
   "outputs": [],
   "source": [
    "%load_ext autoreload\n",
    "%autoreload 2"
   ]
  },
  {
   "cell_type": "code",
   "execution_count": 2,
   "metadata": {},
   "outputs": [
    {
     "data": {
      "text/html": [
       "\n",
       "    <div class=\"bk-root\">\n",
       "        <a href=\"https://bokeh.org\" target=\"_blank\" class=\"bk-logo bk-logo-small bk-logo-notebook\"></a>\n",
       "        <span id=\"1002\">Loading BokehJS ...</span>\n",
       "    </div>"
      ]
     },
     "metadata": {},
     "output_type": "display_data"
    },
    {
     "data": {
      "application/javascript": [
       "\n",
       "(function(root) {\n",
       "  function now() {\n",
       "    return new Date();\n",
       "  }\n",
       "\n",
       "  const force = true;\n",
       "\n",
       "  if (typeof root._bokeh_onload_callbacks === \"undefined\" || force === true) {\n",
       "    root._bokeh_onload_callbacks = [];\n",
       "    root._bokeh_is_loading = undefined;\n",
       "  }\n",
       "\n",
       "  const JS_MIME_TYPE = 'application/javascript';\n",
       "  const HTML_MIME_TYPE = 'text/html';\n",
       "  const EXEC_MIME_TYPE = 'application/vnd.bokehjs_exec.v0+json';\n",
       "  const CLASS_NAME = 'output_bokeh rendered_html';\n",
       "\n",
       "  /**\n",
       "   * Render data to the DOM node\n",
       "   */\n",
       "  function render(props, node) {\n",
       "    const script = document.createElement(\"script\");\n",
       "    node.appendChild(script);\n",
       "  }\n",
       "\n",
       "  /**\n",
       "   * Handle when an output is cleared or removed\n",
       "   */\n",
       "  function handleClearOutput(event, handle) {\n",
       "    const cell = handle.cell;\n",
       "\n",
       "    const id = cell.output_area._bokeh_element_id;\n",
       "    const server_id = cell.output_area._bokeh_server_id;\n",
       "    // Clean up Bokeh references\n",
       "    if (id != null && id in Bokeh.index) {\n",
       "      Bokeh.index[id].model.document.clear();\n",
       "      delete Bokeh.index[id];\n",
       "    }\n",
       "\n",
       "    if (server_id !== undefined) {\n",
       "      // Clean up Bokeh references\n",
       "      const cmd_clean = \"from bokeh.io.state import curstate; print(curstate().uuid_to_server['\" + server_id + \"'].get_sessions()[0].document.roots[0]._id)\";\n",
       "      cell.notebook.kernel.execute(cmd_clean, {\n",
       "        iopub: {\n",
       "          output: function(msg) {\n",
       "            const id = msg.content.text.trim();\n",
       "            if (id in Bokeh.index) {\n",
       "              Bokeh.index[id].model.document.clear();\n",
       "              delete Bokeh.index[id];\n",
       "            }\n",
       "          }\n",
       "        }\n",
       "      });\n",
       "      // Destroy server and session\n",
       "      const cmd_destroy = \"import bokeh.io.notebook as ion; ion.destroy_server('\" + server_id + \"')\";\n",
       "      cell.notebook.kernel.execute(cmd_destroy);\n",
       "    }\n",
       "  }\n",
       "\n",
       "  /**\n",
       "   * Handle when a new output is added\n",
       "   */\n",
       "  function handleAddOutput(event, handle) {\n",
       "    const output_area = handle.output_area;\n",
       "    const output = handle.output;\n",
       "\n",
       "    // limit handleAddOutput to display_data with EXEC_MIME_TYPE content only\n",
       "    if ((output.output_type != \"display_data\") || (!Object.prototype.hasOwnProperty.call(output.data, EXEC_MIME_TYPE))) {\n",
       "      return\n",
       "    }\n",
       "\n",
       "    const toinsert = output_area.element.find(\".\" + CLASS_NAME.split(' ')[0]);\n",
       "\n",
       "    if (output.metadata[EXEC_MIME_TYPE][\"id\"] !== undefined) {\n",
       "      toinsert[toinsert.length - 1].firstChild.textContent = output.data[JS_MIME_TYPE];\n",
       "      // store reference to embed id on output_area\n",
       "      output_area._bokeh_element_id = output.metadata[EXEC_MIME_TYPE][\"id\"];\n",
       "    }\n",
       "    if (output.metadata[EXEC_MIME_TYPE][\"server_id\"] !== undefined) {\n",
       "      const bk_div = document.createElement(\"div\");\n",
       "      bk_div.innerHTML = output.data[HTML_MIME_TYPE];\n",
       "      const script_attrs = bk_div.children[0].attributes;\n",
       "      for (let i = 0; i < script_attrs.length; i++) {\n",
       "        toinsert[toinsert.length - 1].firstChild.setAttribute(script_attrs[i].name, script_attrs[i].value);\n",
       "        toinsert[toinsert.length - 1].firstChild.textContent = bk_div.children[0].textContent\n",
       "      }\n",
       "      // store reference to server id on output_area\n",
       "      output_area._bokeh_server_id = output.metadata[EXEC_MIME_TYPE][\"server_id\"];\n",
       "    }\n",
       "  }\n",
       "\n",
       "  function register_renderer(events, OutputArea) {\n",
       "\n",
       "    function append_mime(data, metadata, element) {\n",
       "      // create a DOM node to render to\n",
       "      const toinsert = this.create_output_subarea(\n",
       "        metadata,\n",
       "        CLASS_NAME,\n",
       "        EXEC_MIME_TYPE\n",
       "      );\n",
       "      this.keyboard_manager.register_events(toinsert);\n",
       "      // Render to node\n",
       "      const props = {data: data, metadata: metadata[EXEC_MIME_TYPE]};\n",
       "      render(props, toinsert[toinsert.length - 1]);\n",
       "      element.append(toinsert);\n",
       "      return toinsert\n",
       "    }\n",
       "\n",
       "    /* Handle when an output is cleared or removed */\n",
       "    events.on('clear_output.CodeCell', handleClearOutput);\n",
       "    events.on('delete.Cell', handleClearOutput);\n",
       "\n",
       "    /* Handle when a new output is added */\n",
       "    events.on('output_added.OutputArea', handleAddOutput);\n",
       "\n",
       "    /**\n",
       "     * Register the mime type and append_mime function with output_area\n",
       "     */\n",
       "    OutputArea.prototype.register_mime_type(EXEC_MIME_TYPE, append_mime, {\n",
       "      /* Is output safe? */\n",
       "      safe: true,\n",
       "      /* Index of renderer in `output_area.display_order` */\n",
       "      index: 0\n",
       "    });\n",
       "  }\n",
       "\n",
       "  // register the mime type if in Jupyter Notebook environment and previously unregistered\n",
       "  if (root.Jupyter !== undefined) {\n",
       "    const events = require('base/js/events');\n",
       "    const OutputArea = require('notebook/js/outputarea').OutputArea;\n",
       "\n",
       "    if (OutputArea.prototype.mime_types().indexOf(EXEC_MIME_TYPE) == -1) {\n",
       "      register_renderer(events, OutputArea);\n",
       "    }\n",
       "  }\n",
       "\n",
       "  \n",
       "  if (typeof (root._bokeh_timeout) === \"undefined\" || force === true) {\n",
       "    root._bokeh_timeout = Date.now() + 5000;\n",
       "    root._bokeh_failed_load = false;\n",
       "  }\n",
       "\n",
       "  const NB_LOAD_WARNING = {'data': {'text/html':\n",
       "     \"<div style='background-color: #fdd'>\\n\"+\n",
       "     \"<p>\\n\"+\n",
       "     \"BokehJS does not appear to have successfully loaded. If loading BokehJS from CDN, this \\n\"+\n",
       "     \"may be due to a slow or bad network connection. Possible fixes:\\n\"+\n",
       "     \"</p>\\n\"+\n",
       "     \"<ul>\\n\"+\n",
       "     \"<li>re-rerun `output_notebook()` to attempt to load from CDN again, or</li>\\n\"+\n",
       "     \"<li>use INLINE resources instead, as so:</li>\\n\"+\n",
       "     \"</ul>\\n\"+\n",
       "     \"<code>\\n\"+\n",
       "     \"from bokeh.resources import INLINE\\n\"+\n",
       "     \"output_notebook(resources=INLINE)\\n\"+\n",
       "     \"</code>\\n\"+\n",
       "     \"</div>\"}};\n",
       "\n",
       "  function display_loaded() {\n",
       "    const el = document.getElementById(\"1002\");\n",
       "    if (el != null) {\n",
       "      el.textContent = \"BokehJS is loading...\";\n",
       "    }\n",
       "    if (root.Bokeh !== undefined) {\n",
       "      if (el != null) {\n",
       "        el.textContent = \"BokehJS \" + root.Bokeh.version + \" successfully loaded.\";\n",
       "      }\n",
       "    } else if (Date.now() < root._bokeh_timeout) {\n",
       "      setTimeout(display_loaded, 100)\n",
       "    }\n",
       "  }\n",
       "\n",
       "\n",
       "  function run_callbacks() {\n",
       "    try {\n",
       "      root._bokeh_onload_callbacks.forEach(function(callback) {\n",
       "        if (callback != null)\n",
       "          callback();\n",
       "      });\n",
       "    } finally {\n",
       "      delete root._bokeh_onload_callbacks\n",
       "    }\n",
       "    console.debug(\"Bokeh: all callbacks have finished\");\n",
       "  }\n",
       "\n",
       "  function load_libs(css_urls, js_urls, callback) {\n",
       "    if (css_urls == null) css_urls = [];\n",
       "    if (js_urls == null) js_urls = [];\n",
       "\n",
       "    root._bokeh_onload_callbacks.push(callback);\n",
       "    if (root._bokeh_is_loading > 0) {\n",
       "      console.debug(\"Bokeh: BokehJS is being loaded, scheduling callback at\", now());\n",
       "      return null;\n",
       "    }\n",
       "    if (js_urls == null || js_urls.length === 0) {\n",
       "      run_callbacks();\n",
       "      return null;\n",
       "    }\n",
       "    console.debug(\"Bokeh: BokehJS not loaded, scheduling load and callback at\", now());\n",
       "    root._bokeh_is_loading = css_urls.length + js_urls.length;\n",
       "\n",
       "    function on_load() {\n",
       "      root._bokeh_is_loading--;\n",
       "      if (root._bokeh_is_loading === 0) {\n",
       "        console.debug(\"Bokeh: all BokehJS libraries/stylesheets loaded\");\n",
       "        run_callbacks()\n",
       "      }\n",
       "    }\n",
       "\n",
       "    function on_error(url) {\n",
       "      console.error(\"failed to load \" + url);\n",
       "    }\n",
       "\n",
       "    for (let i = 0; i < css_urls.length; i++) {\n",
       "      const url = css_urls[i];\n",
       "      const element = document.createElement(\"link\");\n",
       "      element.onload = on_load;\n",
       "      element.onerror = on_error.bind(null, url);\n",
       "      element.rel = \"stylesheet\";\n",
       "      element.type = \"text/css\";\n",
       "      element.href = url;\n",
       "      console.debug(\"Bokeh: injecting link tag for BokehJS stylesheet: \", url);\n",
       "      document.body.appendChild(element);\n",
       "    }\n",
       "\n",
       "    for (let i = 0; i < js_urls.length; i++) {\n",
       "      const url = js_urls[i];\n",
       "      const element = document.createElement('script');\n",
       "      element.onload = on_load;\n",
       "      element.onerror = on_error.bind(null, url);\n",
       "      element.async = false;\n",
       "      element.src = url;\n",
       "      console.debug(\"Bokeh: injecting script tag for BokehJS library: \", url);\n",
       "      document.head.appendChild(element);\n",
       "    }\n",
       "  };\n",
       "\n",
       "  function inject_raw_css(css) {\n",
       "    const element = document.createElement(\"style\");\n",
       "    element.appendChild(document.createTextNode(css));\n",
       "    document.body.appendChild(element);\n",
       "  }\n",
       "\n",
       "  \n",
       "  const js_urls = [\"https://cdn.bokeh.org/bokeh/release/bokeh-2.4.1.min.js\", \"https://cdn.bokeh.org/bokeh/release/bokeh-gl-2.4.1.min.js\", \"https://cdn.bokeh.org/bokeh/release/bokeh-widgets-2.4.1.min.js\", \"https://cdn.bokeh.org/bokeh/release/bokeh-tables-2.4.1.min.js\", \"https://cdn.bokeh.org/bokeh/release/bokeh-mathjax-2.4.1.min.js\"];\n",
       "  const css_urls = [];\n",
       "  \n",
       "\n",
       "  const inline_js = [\n",
       "    function(Bokeh) {\n",
       "      Bokeh.set_log_level(\"info\");\n",
       "    },\n",
       "    function(Bokeh) {\n",
       "    \n",
       "    \n",
       "    }\n",
       "  ];\n",
       "\n",
       "  function run_inline_js() {\n",
       "    \n",
       "    if (root.Bokeh !== undefined || force === true) {\n",
       "      \n",
       "    for (let i = 0; i < inline_js.length; i++) {\n",
       "      inline_js[i].call(root, root.Bokeh);\n",
       "    }\n",
       "    if (force === true) {\n",
       "        display_loaded();\n",
       "      }} else if (Date.now() < root._bokeh_timeout) {\n",
       "      setTimeout(run_inline_js, 100);\n",
       "    } else if (!root._bokeh_failed_load) {\n",
       "      console.log(\"Bokeh: BokehJS failed to load within specified timeout.\");\n",
       "      root._bokeh_failed_load = true;\n",
       "    } else if (force !== true) {\n",
       "      const cell = $(document.getElementById(\"1002\")).parents('.cell').data().cell;\n",
       "      cell.output_area.append_execute_result(NB_LOAD_WARNING)\n",
       "    }\n",
       "\n",
       "  }\n",
       "\n",
       "  if (root._bokeh_is_loading === 0) {\n",
       "    console.debug(\"Bokeh: BokehJS loaded, going straight to plotting\");\n",
       "    run_inline_js();\n",
       "  } else {\n",
       "    load_libs(css_urls, js_urls, function() {\n",
       "      console.debug(\"Bokeh: BokehJS plotting callback run at\", now());\n",
       "      run_inline_js();\n",
       "    });\n",
       "  }\n",
       "}(window));"
      ],
      "application/vnd.bokehjs_load.v0+json": "\n(function(root) {\n  function now() {\n    return new Date();\n  }\n\n  const force = true;\n\n  if (typeof root._bokeh_onload_callbacks === \"undefined\" || force === true) {\n    root._bokeh_onload_callbacks = [];\n    root._bokeh_is_loading = undefined;\n  }\n\n  \n\n  \n  if (typeof (root._bokeh_timeout) === \"undefined\" || force === true) {\n    root._bokeh_timeout = Date.now() + 5000;\n    root._bokeh_failed_load = false;\n  }\n\n  const NB_LOAD_WARNING = {'data': {'text/html':\n     \"<div style='background-color: #fdd'>\\n\"+\n     \"<p>\\n\"+\n     \"BokehJS does not appear to have successfully loaded. If loading BokehJS from CDN, this \\n\"+\n     \"may be due to a slow or bad network connection. Possible fixes:\\n\"+\n     \"</p>\\n\"+\n     \"<ul>\\n\"+\n     \"<li>re-rerun `output_notebook()` to attempt to load from CDN again, or</li>\\n\"+\n     \"<li>use INLINE resources instead, as so:</li>\\n\"+\n     \"</ul>\\n\"+\n     \"<code>\\n\"+\n     \"from bokeh.resources import INLINE\\n\"+\n     \"output_notebook(resources=INLINE)\\n\"+\n     \"</code>\\n\"+\n     \"</div>\"}};\n\n  function display_loaded() {\n    const el = document.getElementById(\"1002\");\n    if (el != null) {\n      el.textContent = \"BokehJS is loading...\";\n    }\n    if (root.Bokeh !== undefined) {\n      if (el != null) {\n        el.textContent = \"BokehJS \" + root.Bokeh.version + \" successfully loaded.\";\n      }\n    } else if (Date.now() < root._bokeh_timeout) {\n      setTimeout(display_loaded, 100)\n    }\n  }\n\n\n  function run_callbacks() {\n    try {\n      root._bokeh_onload_callbacks.forEach(function(callback) {\n        if (callback != null)\n          callback();\n      });\n    } finally {\n      delete root._bokeh_onload_callbacks\n    }\n    console.debug(\"Bokeh: all callbacks have finished\");\n  }\n\n  function load_libs(css_urls, js_urls, callback) {\n    if (css_urls == null) css_urls = [];\n    if (js_urls == null) js_urls = [];\n\n    root._bokeh_onload_callbacks.push(callback);\n    if (root._bokeh_is_loading > 0) {\n      console.debug(\"Bokeh: BokehJS is being loaded, scheduling callback at\", now());\n      return null;\n    }\n    if (js_urls == null || js_urls.length === 0) {\n      run_callbacks();\n      return null;\n    }\n    console.debug(\"Bokeh: BokehJS not loaded, scheduling load and callback at\", now());\n    root._bokeh_is_loading = css_urls.length + js_urls.length;\n\n    function on_load() {\n      root._bokeh_is_loading--;\n      if (root._bokeh_is_loading === 0) {\n        console.debug(\"Bokeh: all BokehJS libraries/stylesheets loaded\");\n        run_callbacks()\n      }\n    }\n\n    function on_error(url) {\n      console.error(\"failed to load \" + url);\n    }\n\n    for (let i = 0; i < css_urls.length; i++) {\n      const url = css_urls[i];\n      const element = document.createElement(\"link\");\n      element.onload = on_load;\n      element.onerror = on_error.bind(null, url);\n      element.rel = \"stylesheet\";\n      element.type = \"text/css\";\n      element.href = url;\n      console.debug(\"Bokeh: injecting link tag for BokehJS stylesheet: \", url);\n      document.body.appendChild(element);\n    }\n\n    for (let i = 0; i < js_urls.length; i++) {\n      const url = js_urls[i];\n      const element = document.createElement('script');\n      element.onload = on_load;\n      element.onerror = on_error.bind(null, url);\n      element.async = false;\n      element.src = url;\n      console.debug(\"Bokeh: injecting script tag for BokehJS library: \", url);\n      document.head.appendChild(element);\n    }\n  };\n\n  function inject_raw_css(css) {\n    const element = document.createElement(\"style\");\n    element.appendChild(document.createTextNode(css));\n    document.body.appendChild(element);\n  }\n\n  \n  const js_urls = [\"https://cdn.bokeh.org/bokeh/release/bokeh-2.4.1.min.js\", \"https://cdn.bokeh.org/bokeh/release/bokeh-gl-2.4.1.min.js\", \"https://cdn.bokeh.org/bokeh/release/bokeh-widgets-2.4.1.min.js\", \"https://cdn.bokeh.org/bokeh/release/bokeh-tables-2.4.1.min.js\", \"https://cdn.bokeh.org/bokeh/release/bokeh-mathjax-2.4.1.min.js\"];\n  const css_urls = [];\n  \n\n  const inline_js = [\n    function(Bokeh) {\n      Bokeh.set_log_level(\"info\");\n    },\n    function(Bokeh) {\n    \n    \n    }\n  ];\n\n  function run_inline_js() {\n    \n    if (root.Bokeh !== undefined || force === true) {\n      \n    for (let i = 0; i < inline_js.length; i++) {\n      inline_js[i].call(root, root.Bokeh);\n    }\n    if (force === true) {\n        display_loaded();\n      }} else if (Date.now() < root._bokeh_timeout) {\n      setTimeout(run_inline_js, 100);\n    } else if (!root._bokeh_failed_load) {\n      console.log(\"Bokeh: BokehJS failed to load within specified timeout.\");\n      root._bokeh_failed_load = true;\n    } else if (force !== true) {\n      const cell = $(document.getElementById(\"1002\")).parents('.cell').data().cell;\n      cell.output_area.append_execute_result(NB_LOAD_WARNING)\n    }\n\n  }\n\n  if (root._bokeh_is_loading === 0) {\n    console.debug(\"Bokeh: BokehJS loaded, going straight to plotting\");\n    run_inline_js();\n  } else {\n    load_libs(css_urls, js_urls, function() {\n      console.debug(\"Bokeh: BokehJS plotting callback run at\", now());\n      run_inline_js();\n    });\n  }\n}(window));"
     },
     "metadata": {},
     "output_type": "display_data"
    }
   ],
   "source": [
    "from rsvm2 import RCH\n",
    "from bokeh.plotting import figure\n",
    "from bokeh.models import ColumnDataSource, TapTool,HoverTool\n",
    "from bokeh.models.callbacks import CustomJS\n",
    "from bokeh.io import output_notebook,show\n",
    "import numpy as np\n",
    "output_notebook()"
   ]
  },
  {
   "cell_type": "code",
   "execution_count": null,
   "metadata": {},
   "outputs": [],
   "source": []
  },
  {
   "cell_type": "code",
   "execution_count": 3,
   "metadata": {},
   "outputs": [],
   "source": [
    "pts = np.random.uniform(-.5,.5,size=(50,2))"
   ]
  },
  {
   "cell_type": "code",
   "execution_count": 4,
   "metadata": {},
   "outputs": [
    {
     "data": {
      "text/plain": [
       "61"
      ]
     },
     "execution_count": 4,
     "metadata": {},
     "output_type": "execute_result"
    }
   ],
   "source": [
    "L = RCH(pts,.3)\n",
    "Lverts = np.stack([x[0] for x in L])\n",
    "Lverts.shape[0]"
   ]
  },
  {
   "cell_type": "code",
   "execution_count": null,
   "metadata": {},
   "outputs": [],
   "source": []
  },
  {
   "cell_type": "code",
   "execution_count": 5,
   "metadata": {},
   "outputs": [
    {
     "data": {
      "text/html": [
       "\n",
       "\n",
       "\n",
       "\n",
       "\n",
       "\n",
       "  <div class=\"bk-root\" id=\"dc5daddf-b874-4504-b768-e0c1521ddf2c\" data-root-id=\"1003\"></div>\n"
      ]
     },
     "metadata": {},
     "output_type": "display_data"
    },
    {
     "data": {
      "application/javascript": [
       "(function(root) {\n",
       "  function embed_document(root) {\n",
       "    \n",
       "  const docs_json = {\"07d059a7-7ef4-45c7-97cb-ff925ac16364\":{\"defs\":[],\"roots\":{\"references\":[{\"attributes\":{\"aspect_ratio\":1.0,\"below\":[{\"id\":\"1012\"}],\"center\":[{\"id\":\"1015\"},{\"id\":\"1019\"}],\"left\":[{\"id\":\"1016\"}],\"renderers\":[{\"id\":\"1042\"},{\"id\":\"1048\"},{\"id\":\"1055\"}],\"title\":{\"id\":\"1059\"},\"toolbar\":{\"id\":\"1027\"},\"x_range\":{\"id\":\"1004\"},\"x_scale\":{\"id\":\"1008\"},\"y_range\":{\"id\":\"1006\"},\"y_scale\":{\"id\":\"1010\"}},\"id\":\"1003\",\"subtype\":\"Figure\",\"type\":\"Plot\"},{\"attributes\":{\"line_alpha\":0.2,\"line_color\":\"red\",\"x\":{\"field\":\"x\"},\"y\":{\"field\":\"y\"}},\"id\":\"1047\",\"type\":\"Line\"},{\"attributes\":{\"source\":{\"id\":\"1034\"}},\"id\":\"1056\",\"type\":\"CDSView\"},{\"attributes\":{},\"id\":\"1069\",\"type\":\"UnionRenderers\"},{\"attributes\":{\"callback\":{\"id\":\"1037\"},\"renderers\":[{\"id\":\"1055\"}]},\"id\":\"1057\",\"type\":\"TapTool\"},{\"attributes\":{\"data\":{\"x\":{\"__ndarray__\":\"ixU8QcNzvb/p8TGfJrG0v54PxRCr0oI/ESHPAtt1lD+hopeuXL2xP3kfDN6Dac0/mXeJVPQs0z8rEGiFOIfVPz/aEDmx/tY/gA9mOSaf1z+V+RYeXA7aPwpcthS91to/9ZxhVODN2z+W7S4AftTcP+1NHhiW6t0/0Ai7QC093j8jaEbZeITeP0q2IN21pd4/RfNJTOSg3j9SVWblqw3dPwdqZnH1rdk/mqojcl6y2D+a8CBTjIPWP9NhY+S8cNQ/oLZNLTLM0j9g+VMBoBjLP3uyuPfUWcU/lZjJPQNcxD9oL1hWRaipP3bXwbtmOWu/WvYARtVAmb9MgosrNAnAv+Lo0Rf/lMa/AY4OD6onyb/kQUlTfIPOvzcF4TPx2tG//ZncgwdV079DX5cZAbDTv5U23EZLytW/qPzucg/l1r97sc+dTQDXv8TMRoesCti/gE5ULywE2r+fOI7dXtXav2n8J88IONy/D4gSPhyv3L855g0S0wjdvw/2P6a9R92/fR4H/xkr3b/bwftkuJrcv3mezBWNAdy/4T0d63Ql278ToO3kbwbav4zGLNgjGNm/KbESdrtT17+2XR5AXYbVvzTMTzYJsNO/3rnB2RYU0r+WfV5C9x/Lv0EFEjwz+8O/ixU8QcNzvb8=\",\"dtype\":\"float64\",\"order\":\"little\",\"shape\":[61]},\"y\":{\"__ndarray__\":\"zlJhe7BF2z8dhWWNTTvbP9UrqjtV/do/4kzIALzo2j+7y4ftdifaP4CM/GVOj9c/oNdu+Ndc1j8j/CFiIebUP5PD4yT1X9M/7RY9/crq0T8gLU1XmGDIP/G2qHrGqcQ/+Nol+2divz/5GO2Bqrm0P9tPThOpsqI/fLpr4I/Alz/7gdPm5gykvyixy/Fzzry/6HCFwe4zyb/IphVrDRTPv7cb77IQG9W/UVGu0aqG1r9ySg2GdonYv0i5IeQj69m/MusiEafY2r+QM+9yPHTdv7jHA+aG0t6/qqdgaobz3r+afIdRCk/fv2sOwdBWHN+/rP7amT/Y3r8emUHl5XDdv1CSEDJLrdy/UbSw7WMy3L9FUCizuRzbv3l/qFyg09m/LLiB0LQR2b9g+rMO99bYv6FJ1zPebNe/O52E7eOn1r8v9bs7CIjWv6mgVutAQNS/VD+p+Buhz78tdozDvOvKv2MPXXnCtsG/7dpDTgAqvL9CgNuvx7O1v60h+nyDVKm//ElSoO0tj78JzYzy9nOtP396TxKNobw/qJQCpq9JyD+53JmJ3KPSP+YEU6d6v9Q/PPFSIKlu1j/ryMKk7vPXP/OLojRLT9k/hI6wQWDo2T8MuOpL2KnaPyWkJV9IHts/zlJhe7BF2z8=\",\"dtype\":\"float64\",\"order\":\"little\",\"shape\":[61]}},\"selected\":{\"id\":\"1070\"},\"selection_policy\":{\"id\":\"1069\"}},\"id\":\"1035\",\"type\":\"ColumnDataSource\"},{\"attributes\":{\"fill_alpha\":{\"value\":0.2},\"fill_color\":{\"value\":\"red\"},\"hatch_alpha\":{\"value\":0.2},\"hatch_color\":{\"value\":\"red\"},\"line_alpha\":{\"value\":0.2},\"line_color\":{\"value\":\"red\"},\"size\":{\"value\":10},\"x\":{\"field\":\"x\"},\"y\":{\"field\":\"y\"}},\"id\":\"1054\",\"type\":\"Circle\"},{\"attributes\":{\"fill_alpha\":{\"value\":0.2},\"fill_color\":{\"field\":\"color\"},\"hatch_alpha\":{\"value\":0.2},\"hatch_color\":{\"field\":\"color\"},\"line_alpha\":{\"value\":0.2},\"line_color\":{\"field\":\"color\"},\"size\":{\"field\":\"size\"},\"x\":{\"field\":\"x\"},\"y\":{\"field\":\"y\"}},\"id\":\"1041\",\"type\":\"Scatter\"},{\"attributes\":{\"line_color\":\"red\",\"x\":{\"field\":\"x\"},\"y\":{\"field\":\"y\"}},\"id\":\"1045\",\"type\":\"Line\"},{\"attributes\":{\"tools\":[{\"id\":\"1020\"},{\"id\":\"1021\"},{\"id\":\"1022\"},{\"id\":\"1023\"},{\"id\":\"1024\"},{\"id\":\"1025\"},{\"id\":\"1057\"}]},\"id\":\"1027\",\"type\":\"Toolbar\"},{\"attributes\":{\"source\":{\"id\":\"1036\"}},\"id\":\"1043\",\"type\":\"CDSView\"},{\"attributes\":{\"fill_alpha\":{\"value\":0.1},\"fill_color\":{\"field\":\"color\"},\"hatch_alpha\":{\"value\":0.1},\"hatch_color\":{\"field\":\"color\"},\"line_alpha\":{\"value\":0.1},\"line_color\":{\"field\":\"color\"},\"size\":{\"field\":\"size\"},\"x\":{\"field\":\"x\"},\"y\":{\"field\":\"y\"}},\"id\":\"1040\",\"type\":\"Scatter\"},{\"attributes\":{},\"id\":\"1006\",\"type\":\"DataRange1d\"},{\"attributes\":{},\"id\":\"1072\",\"type\":\"Selection\"},{\"attributes\":{\"fill_color\":{\"field\":\"color\"},\"hatch_color\":{\"field\":\"color\"},\"line_color\":{\"field\":\"color\"},\"size\":{\"field\":\"size\"},\"x\":{\"field\":\"x\"},\"y\":{\"field\":\"y\"}},\"id\":\"1039\",\"type\":\"Scatter\"},{\"attributes\":{\"bottom_units\":\"screen\",\"coordinates\":null,\"fill_alpha\":0.5,\"fill_color\":\"lightgrey\",\"group\":null,\"left_units\":\"screen\",\"level\":\"overlay\",\"line_alpha\":1.0,\"line_color\":\"black\",\"line_dash\":[4,4],\"line_width\":2,\"right_units\":\"screen\",\"syncable\":false,\"top_units\":\"screen\"},\"id\":\"1026\",\"type\":\"BoxAnnotation\"},{\"attributes\":{\"coordinates\":null,\"data_source\":{\"id\":\"1034\"},\"glyph\":{\"id\":\"1051\"},\"group\":null,\"hover_glyph\":null,\"muted_glyph\":{\"id\":\"1054\"},\"nonselection_glyph\":{\"id\":\"1052\"},\"selection_glyph\":{\"id\":\"1053\"},\"view\":{\"id\":\"1056\"}},\"id\":\"1055\",\"type\":\"GlyphRenderer\"},{\"attributes\":{},\"id\":\"1024\",\"type\":\"ResetTool\"},{\"attributes\":{},\"id\":\"1023\",\"type\":\"SaveTool\"},{\"attributes\":{\"overlay\":{\"id\":\"1026\"}},\"id\":\"1022\",\"type\":\"BoxZoomTool\"},{\"attributes\":{\"axis\":{\"id\":\"1012\"},\"coordinates\":null,\"group\":null,\"ticker\":null},\"id\":\"1015\",\"type\":\"Grid\"},{\"attributes\":{\"coordinates\":null,\"data_source\":{\"id\":\"1035\"},\"glyph\":{\"id\":\"1045\"},\"group\":null,\"hover_glyph\":null,\"muted_glyph\":{\"id\":\"1047\"},\"nonselection_glyph\":{\"id\":\"1046\"},\"view\":{\"id\":\"1049\"}},\"id\":\"1048\",\"type\":\"GlyphRenderer\"},{\"attributes\":{},\"id\":\"1020\",\"type\":\"PanTool\"},{\"attributes\":{},\"id\":\"1021\",\"type\":\"WheelZoomTool\"},{\"attributes\":{},\"id\":\"1004\",\"type\":\"DataRange1d\"},{\"attributes\":{},\"id\":\"1008\",\"type\":\"LinearScale\"},{\"attributes\":{\"coordinates\":null,\"data_source\":{\"id\":\"1036\"},\"glyph\":{\"id\":\"1039\"},\"group\":null,\"hover_glyph\":null,\"muted_glyph\":{\"id\":\"1041\"},\"nonselection_glyph\":{\"id\":\"1040\"},\"view\":{\"id\":\"1043\"}},\"id\":\"1042\",\"type\":\"GlyphRenderer\"},{\"attributes\":{},\"id\":\"1070\",\"type\":\"Selection\"},{\"attributes\":{},\"id\":\"1071\",\"type\":\"UnionRenderers\"},{\"attributes\":{\"coordinates\":null,\"group\":null},\"id\":\"1059\",\"type\":\"Title\"},{\"attributes\":{\"axis\":{\"id\":\"1016\"},\"coordinates\":null,\"dimension\":1,\"group\":null,\"ticker\":null},\"id\":\"1019\",\"type\":\"Grid\"},{\"attributes\":{},\"id\":\"1062\",\"type\":\"BasicTickFormatter\"},{\"attributes\":{},\"id\":\"1025\",\"type\":\"HelpTool\"},{\"attributes\":{\"data\":{\"color\":[\"blue\",\"blue\",\"blue\",\"blue\",\"blue\",\"blue\",\"blue\",\"blue\",\"blue\",\"blue\",\"blue\",\"blue\",\"blue\",\"blue\",\"blue\",\"blue\",\"blue\",\"blue\",\"blue\",\"blue\",\"blue\",\"blue\",\"blue\",\"blue\",\"blue\",\"blue\",\"blue\",\"blue\",\"blue\",\"blue\",\"blue\",\"blue\",\"blue\",\"blue\",\"blue\",\"blue\",\"blue\",\"blue\",\"blue\",\"blue\",\"blue\",\"blue\",\"blue\",\"blue\",\"blue\",\"blue\",\"blue\",\"blue\",\"blue\",\"blue\"],\"size\":[4,4,4,4,4,4,4,4,4,4,4,4,4,4,4,4,4,4,4,4,4,4,4,4,4,4,4,4,4,4,4,4,4,4,4,4,4,4,4,4,4,4,4,4,4,4,4,4,4,4],\"x\":{\"__ndarray__\":\"IGTzhAv8mj/GYfStv5DdPzqEYWjRsdy//OMG7O9u2j8k7TLfRG/RP9BkwuwAnaE/aHO6SRxK0r9qC81JJpvSP9ydQcEzx94/6m9b0+I43L+iI6bITfPUP6TXh7IpD9Q/SMKJi7632L+8CoT6RtHLPzpUbYddRNw/SPgxWnQwtb9koLKYIKLEPzRvc0m4Fte/iPsdIFPS0r/oPGHHqgzaP8xjmCCcQsY/QO6jjXItvb9gL0PaJD6uP+wkI2ITLsU/LEOrnw6Fzr+AtuqPwCyyv4BtySOacIa/3Fqgb2lmxL+IlNv9eNKwP1h+p7TZp8S/MG1iWgpbqr+ApAj9ozB7v0D7iJ2lGr+/qCxSjP7vtD8AaNk1+WO4v9SqSjnqMMG/uiBh7k3+2r/MTWA2/BDUvyI1TfSpr9+/kFe7yvfuwb8gSaty1a/DP1KJ7b2hgtg/2jAmgteo3T8g+ZMSTIiyv6jFs2No3d8/PknhfD1V0D9in66tP5vVPwy1KGbp39m/9gTZ6Nhi07+AHTtIQW+TPw==\",\"dtype\":\"float64\",\"order\":\"little\",\"shape\":[50]},\"y\":{\"__ndarray__\":\"wBw2KiUTvb9SD6ftWFTdv+BsTc9JKp6/IPMZz5HJuD98UrIGQZjBv+KGwIiS39C/BiTqwG2w2L+sy/zCfcTYP2Cxnafi/66/fDqOXkCLxT8wzmuIARTSv3gdj503Lrm/qBX3crWHtb/QH+lHLrXfvwzJTU6on9E/Ajhpcewd379gEsO0/WPAPzIFBvRymN4/xtv+RyMR2L94eL2SDzO7v95EXa/M1tW/mGy9e3QwzD/k9gPvbgLXv0RJRL1WrdO/oFHznCeL0b9wjO0kTL68P8iYe2a2cc6/FIqlW1f62T/WL6bfTlDWPyBWGqlgVp4/lNTSDlss2T966XvWgVnbv8CXOQfqwt+/3PidHFbQ0L9IDHtoegu2P2RRVQPTas8/QMHdzefIgL8Gb+X3uIrXv8ovQJwaRNO/VAHt07Sn1j/iPf2bY/HZP4wQHm9SZ8U/0JPAwKekor+AweblVVnbvxDhIQUODMC/9Kfzr1u8zj9u9Hys0p/SP+oEsNsCZdU/7LpGjIgx0z9ATFMQfFC9Pw==\",\"dtype\":\"float64\",\"order\":\"little\",\"shape\":[50]}},\"selected\":{\"id\":\"1068\"},\"selection_policy\":{\"id\":\"1067\"}},\"id\":\"1036\",\"type\":\"ColumnDataSource\"},{\"attributes\":{\"fill_alpha\":{\"value\":0.5},\"fill_color\":{\"value\":\"red\"},\"hatch_alpha\":{\"value\":0.1},\"hatch_color\":{\"value\":\"red\"},\"line_alpha\":{\"value\":0.1},\"line_color\":{\"value\":\"red\"},\"size\":{\"value\":10},\"x\":{\"field\":\"x\"},\"y\":{\"field\":\"y\"}},\"id\":\"1052\",\"type\":\"Circle\"},{\"attributes\":{\"args\":{\"data\":{\"id\":\"1034\"},\"info\":[[[-0.11504764883655676,0.4261285023579092],[17,27,40,30]],[[-0.08082810770606098,0.42549456413515135],[17,40,27,7]],[[0.009190880250237229,0.4217122156775848],[17,40,7,27]],[[0.01998083309789062,0.4204549796715594],[7,40,17,30]],[[0.0692956854105753,0.4086587257035565],[7,40,17,14]],[[0.22978256551891343,0.36812171897526724],[7,40,14,17]],[[0.29961879973949973,0.3494167257407472],[7,40,14,46]],[[0.33637822177866167,0.32654604514385904],[7,14,46,40]],[[0.35929518292269685,0.30273178675184303],[14,46,7,41]],[[0.3690887032064367,0.2799556229623324],[14,46,7,8]],[[0.4071264547200369,0.19044784796492653],[14,46,8,7]],[[0.4193566038388218,0.1614311312600232],[14,8,46,3]],[[0.43444069137917946,0.12259530908145766],[14,8,3,46]],[[0.4504694940366901,0.08095803901696631],[14,8,3,44]],[[0.4674430118113538,0.03651932106654928],[14,8,44,3]],[[0.4724839336523816,0.02319550330406138],[14,44,8,42]],[[0.47683545320762927,-0.03916093414023077],[44,8,42,14]],[[0.4788641604853622,-0.1125252213784661],[44,8,42,1]],[[0.47857005548558035,-0.19689735841064437],[1,44,8,42]],[[0.45395944025343227,-0.24279945114840573],[1,44,8,13]],[[0.4012426001951614,-0.3297769305613047],[1,44,13,8]],[[0.3858867754594627,-0.35196943737652925],[1,13,44,10]],[[0.3517790614894324,-0.38339007464416064],[1,13,10,44]],[[0.3193809728959682,-0.4049768188332519],[1,13,10,20]],[[0.29371313499619056,-0.41947342561222734],[1,13,10,15]],[[0.21168899597973745,-0.4602194902807293],[1,13,15,10]],[[0.16680395217680996,-0.4815995451200439],[1,13,15,32]],[[0.1590580035874082,-0.48361359013017113],[13,32,1,15]],[[0.050111929693314405,-0.4891992374595674],[32,13,15,1]],[[-0.0033232695114361844,-0.48610468279023306],[32,15,13,43]],[[-0.024661381147089358,-0.4819487574095358],[32,15,13,6]],[[-0.12528087736338234,-0.4600157488661284],[32,15,6,13]],[[-0.17642201102336857,-0.44807701005109823],[32,15,6,18]],[[-0.1965229581374928,-0.44057558261812796],[32,15,6,38]],[[-0.23838762346942055,-0.4236282586655345],[32,15,38,6]],[[-0.2789881712561341,-0.40354165123607505],[32,38,6,15]],[[-0.30206478001710463,-0.3917057071875003],[32,38,6,37]],[[-0.307617449752332,-0.3881204265198104],[38,32,37,6]],[[-0.34047204894964384,-0.3660197740802236],[38,37,6,32]],[[-0.35773073410013945,-0.3539972133171038],[38,37,6,18]],[[-0.3593935052038188,-0.352052744230451],[38,37,18,6]],[[-0.37565148554422145,-0.31642172796501683],[38,37,18,2]],[[-0.40650467512134725,-0.2471041645208013],[38,2,37,18]],[[-0.41927310596737216,-0.21031913326525978],[38,2,37,36]],[[-0.4409200690278739,-0.13838988233521396],[38,2,36,37]],[[-0.4481878858733816,-0.11001588736312913],[38,2,36,12]],[[-0.45366360438456216,-0.08477447551149545],[38,2,36,9]],[[-0.45750371203743695,-0.04947291279410435],[38,9,2,36]],[[-0.4557557096963832,-0.015224319892046083],[38,9,2,47]],[[-0.4469433771291997,0.05752536497893785],[9,47,38,2]],[[-0.4375946724780771,0.11184007355721269],[9,47,2,38]],[[-0.42416117630361155,0.18974872213326432],[9,47,2,17]],[[-0.40664288860580305,0.2912513107070925],[9,47,17,2]],[[-0.39209838972883726,0.3241869577432922],[17,47,9,48]],[[-0.364485612207107,0.35050419003143296],[17,47,48,9]],[[-0.3363259435804723,0.3742634400361015],[17,47,48,27]],[[-0.30761938384893317,0.39546470775729786],[17,47,27,48]],[[-0.28247615113551017,0.40480810561187064],[17,47,27,30]],[[-0.21191302052191635,0.41661651052243154],[17,27,30,47]],[[-0.15610351975559847,0.42372330943777775],[17,27,30,40]],[[-0.11504764883655676,0.4261285023579092],[17,27,40,30]]],\"pts\":{\"id\":\"1036\"}},\"code\":\"\\n    var selected = data.selected.indices[0];\\n    var support = info[selected][1]\\n    var special = info[selected][1][info[selected][1].length-1]\\n    for(let i=0; i<pts.data['color'].length;i++){\\n        pts.data['color'][i]=support.includes(i)?'green':'blue'\\n        pts.data['size'][i]=support.includes(i)?10:4\\n    }\\n    pts.data['color'][special]='#33ee00'\\n    pts.change.emit()\\n    \"},\"id\":\"1037\",\"type\":\"CustomJS\"},{\"attributes\":{},\"id\":\"1067\",\"type\":\"UnionRenderers\"},{\"attributes\":{\"data\":{\"x\":{\"__ndarray__\":\"ixU8QcNzvb/p8TGfJrG0v54PxRCr0oI/ESHPAtt1lD+hopeuXL2xP3kfDN6Dac0/mXeJVPQs0z8rEGiFOIfVPz/aEDmx/tY/gA9mOSaf1z+V+RYeXA7aPwpcthS91to/9ZxhVODN2z+W7S4AftTcP+1NHhiW6t0/0Ai7QC093j8jaEbZeITeP0q2IN21pd4/RfNJTOSg3j9SVWblqw3dPwdqZnH1rdk/mqojcl6y2D+a8CBTjIPWP9NhY+S8cNQ/oLZNLTLM0j9g+VMBoBjLP3uyuPfUWcU/lZjJPQNcxD9oL1hWRaipP3bXwbtmOWu/WvYARtVAmb9MgosrNAnAv+Lo0Rf/lMa/AY4OD6onyb/kQUlTfIPOvzcF4TPx2tG//ZncgwdV079DX5cZAbDTv5U23EZLytW/qPzucg/l1r97sc+dTQDXv8TMRoesCti/gE5ULywE2r+fOI7dXtXav2n8J88IONy/D4gSPhyv3L855g0S0wjdvw/2P6a9R92/fR4H/xkr3b/bwftkuJrcv3mezBWNAdy/4T0d63Ql278ToO3kbwbav4zGLNgjGNm/KbESdrtT17+2XR5AXYbVvzTMTzYJsNO/3rnB2RYU0r+WfV5C9x/Lv0EFEjwz+8O/\",\"dtype\":\"float64\",\"order\":\"little\",\"shape\":[60]},\"y\":{\"__ndarray__\":\"zlJhe7BF2z8dhWWNTTvbP9UrqjtV/do/4kzIALzo2j+7y4ftdifaP4CM/GVOj9c/oNdu+Ndc1j8j/CFiIebUP5PD4yT1X9M/7RY9/crq0T8gLU1XmGDIP/G2qHrGqcQ/+Nol+2divz/5GO2Bqrm0P9tPThOpsqI/fLpr4I/Alz/7gdPm5gykvyixy/Fzzry/6HCFwe4zyb/IphVrDRTPv7cb77IQG9W/UVGu0aqG1r9ySg2GdonYv0i5IeQj69m/MusiEafY2r+QM+9yPHTdv7jHA+aG0t6/qqdgaobz3r+afIdRCk/fv2sOwdBWHN+/rP7amT/Y3r8emUHl5XDdv1CSEDJLrdy/UbSw7WMy3L9FUCizuRzbv3l/qFyg09m/LLiB0LQR2b9g+rMO99bYv6FJ1zPebNe/O52E7eOn1r8v9bs7CIjWv6mgVutAQNS/VD+p+Buhz78tdozDvOvKv2MPXXnCtsG/7dpDTgAqvL9CgNuvx7O1v60h+nyDVKm//ElSoO0tj78JzYzy9nOtP396TxKNobw/qJQCpq9JyD+53JmJ3KPSP+YEU6d6v9Q/PPFSIKlu1j/ryMKk7vPXP/OLojRLT9k/hI6wQWDo2T8MuOpL2KnaPyWkJV9IHts/\",\"dtype\":\"float64\",\"order\":\"little\",\"shape\":[60]}},\"selected\":{\"id\":\"1072\"},\"selection_policy\":{\"id\":\"1071\"}},\"id\":\"1034\",\"type\":\"ColumnDataSource\"},{\"attributes\":{},\"id\":\"1065\",\"type\":\"BasicTickFormatter\"},{\"attributes\":{},\"id\":\"1066\",\"type\":\"AllLabels\"},{\"attributes\":{},\"id\":\"1068\",\"type\":\"Selection\"},{\"attributes\":{\"fill_color\":{\"value\":\"red\"},\"hatch_color\":{\"value\":\"red\"},\"line_color\":{\"value\":\"red\"},\"size\":{\"value\":10},\"x\":{\"field\":\"x\"},\"y\":{\"field\":\"y\"}},\"id\":\"1051\",\"type\":\"Circle\"},{\"attributes\":{},\"id\":\"1013\",\"type\":\"BasicTicker\"},{\"attributes\":{\"coordinates\":null,\"formatter\":{\"id\":\"1062\"},\"group\":null,\"major_label_policy\":{\"id\":\"1063\"},\"ticker\":{\"id\":\"1017\"}},\"id\":\"1016\",\"type\":\"LinearAxis\"},{\"attributes\":{},\"id\":\"1010\",\"type\":\"LinearScale\"},{\"attributes\":{\"source\":{\"id\":\"1035\"}},\"id\":\"1049\",\"type\":\"CDSView\"},{\"attributes\":{\"coordinates\":null,\"formatter\":{\"id\":\"1065\"},\"group\":null,\"major_label_policy\":{\"id\":\"1066\"},\"ticker\":{\"id\":\"1013\"}},\"id\":\"1012\",\"type\":\"LinearAxis\"},{\"attributes\":{},\"id\":\"1063\",\"type\":\"AllLabels\"},{\"attributes\":{},\"id\":\"1017\",\"type\":\"BasicTicker\"},{\"attributes\":{\"line_alpha\":0.1,\"line_color\":\"red\",\"x\":{\"field\":\"x\"},\"y\":{\"field\":\"y\"}},\"id\":\"1046\",\"type\":\"Line\"},{\"attributes\":{\"fill_color\":{\"value\":\"red\"},\"hatch_color\":{\"value\":\"red\"},\"line_color\":{\"value\":\"red\"},\"size\":{\"value\":10},\"x\":{\"field\":\"x\"},\"y\":{\"field\":\"y\"}},\"id\":\"1053\",\"type\":\"Circle\"}],\"root_ids\":[\"1003\"]},\"title\":\"Bokeh Application\",\"version\":\"2.4.1\"}};\n",
       "  const render_items = [{\"docid\":\"07d059a7-7ef4-45c7-97cb-ff925ac16364\",\"root_ids\":[\"1003\"],\"roots\":{\"1003\":\"dc5daddf-b874-4504-b768-e0c1521ddf2c\"}}];\n",
       "  root.Bokeh.embed.embed_items_notebook(docs_json, render_items);\n",
       "\n",
       "  }\n",
       "  if (root.Bokeh !== undefined) {\n",
       "    embed_document(root);\n",
       "  } else {\n",
       "    let attempts = 0;\n",
       "    const timer = setInterval(function(root) {\n",
       "      if (root.Bokeh !== undefined) {\n",
       "        clearInterval(timer);\n",
       "        embed_document(root);\n",
       "      } else {\n",
       "        attempts++;\n",
       "        if (attempts > 100) {\n",
       "          clearInterval(timer);\n",
       "          console.log(\"Bokeh: ERROR: Unable to run BokehJS code because BokehJS library is missing\");\n",
       "        }\n",
       "      }\n",
       "    }, 10, root)\n",
       "  }\n",
       "})(window);"
      ],
      "application/vnd.bokehjs_exec.v0+json": ""
     },
     "metadata": {
      "application/vnd.bokehjs_exec.v0+json": {
       "id": "1003"
      }
     },
     "output_type": "display_data"
    }
   ],
   "source": [
    "f=figure(aspect_ratio=1.0)\n",
    "data=ColumnDataSource({'x':Lverts[:-1,0],'y':Lverts[:-1,1]})\n",
    "data2=ColumnDataSource({'x':Lverts[:,0],'y':Lverts[:,1]})\n",
    "points = ColumnDataSource({'x':pts[:,0],'y':pts[:,1],'color':['blue' for i in range(pts.shape[0])],'size':[4 for i in range(pts.shape[0])]})\n",
    "callback=CustomJS(args=dict(data=data,info=L,pts=points),code=\"\"\"\n",
    "    var selected = data.selected.indices[0];\n",
    "    var support = info[selected][1]\n",
    "    var special = info[selected][1][info[selected][1].length-1]\n",
    "    for(let i=0; i<pts.data['color'].length;i++){\n",
    "        pts.data['color'][i]=support.includes(i)?'green':'blue'\n",
    "        pts.data['size'][i]=support.includes(i)?10:4\n",
    "    }\n",
    "    pts.data['color'][special]='#33ee00'\n",
    "    pts.change.emit()\n",
    "    \"\"\")\n",
    "f.scatter(x='x',y='y',color='color',source=points,size='size')\n",
    "f.line(x='x',y='y',color='red',source=data2)\n",
    "vertices = f.circle(x='x',y='y',selection_color='red',color='red',nonselection_fill_alpha=.5,size=10,source=data)\n",
    "f.add_tools(TapTool(callback=callback,renderers=[vertices]))\n",
    "show(f)"
   ]
  },
  {
   "cell_type": "code",
   "execution_count": null,
   "metadata": {},
   "outputs": [],
   "source": []
  },
  {
   "cell_type": "code",
   "execution_count": 6,
   "metadata": {},
   "outputs": [
    {
     "data": {
      "text/plain": [
       "60"
      ]
     },
     "execution_count": 6,
     "metadata": {},
     "output_type": "execute_result"
    }
   ],
   "source": [
    "data.data['x'].shape[0]"
   ]
  },
  {
   "cell_type": "code",
   "execution_count": 7,
   "metadata": {},
   "outputs": [
    {
     "data": {
      "text/plain": [
       "array([0.29071958, 0.38699287])"
      ]
     },
     "execution_count": 7,
     "metadata": {},
     "output_type": "execute_result"
    }
   ],
   "source": [
    "pts[7]"
   ]
  },
  {
   "cell_type": "code",
   "execution_count": 8,
   "metadata": {},
   "outputs": [],
   "source": [
    "from scipy.special import binom"
   ]
  },
  {
   "cell_type": "code",
   "execution_count": 9,
   "metadata": {},
   "outputs": [
    {
     "data": {
      "text/plain": [
       "184756.0"
      ]
     },
     "execution_count": 9,
     "metadata": {},
     "output_type": "execute_result"
    }
   ],
   "source": [
    "binom(20,10)"
   ]
  },
  {
   "cell_type": "code",
   "execution_count": 10,
   "metadata": {},
   "outputs": [
    {
     "data": {
      "text/plain": [
       "Vertex(vertex=array([-0.08082811,  0.42549456]), indices=array([17, 40, 27,  7]))"
      ]
     },
     "execution_count": 10,
     "metadata": {},
     "output_type": "execute_result"
    }
   ],
   "source": [
    "L[1]"
   ]
  },
  {
   "cell_type": "code",
   "execution_count": 11,
   "metadata": {},
   "outputs": [
    {
     "data": {
      "text/plain": [
       "array([ 0.0263521 , -0.11357338])"
      ]
     },
     "execution_count": 11,
     "metadata": {},
     "output_type": "execute_result"
    }
   ],
   "source": [
    "pts[0]"
   ]
  },
  {
   "cell_type": "code",
   "execution_count": 12,
   "metadata": {},
   "outputs": [
    {
     "data": {
      "text/plain": [
       "array([0.41302107, 0.09682571])"
      ]
     },
     "execution_count": 12,
     "metadata": {},
     "output_type": "execute_result"
    }
   ],
   "source": [
    "pts[3]"
   ]
  },
  {
   "cell_type": "code",
   "execution_count": null,
   "metadata": {},
   "outputs": [],
   "source": []
  }
 ],
 "metadata": {
  "kernelspec": {
   "display_name": "Python 3 (ipykernel)",
   "language": "python",
   "name": "python3"
  },
  "language_info": {
   "codemirror_mode": {
    "name": "ipython",
    "version": 3
   },
   "file_extension": ".py",
   "mimetype": "text/x-python",
   "name": "python",
   "nbconvert_exporter": "python",
   "pygments_lexer": "ipython3",
   "version": "3.9.7"
  }
 },
 "nbformat": 4,
 "nbformat_minor": 4
}
