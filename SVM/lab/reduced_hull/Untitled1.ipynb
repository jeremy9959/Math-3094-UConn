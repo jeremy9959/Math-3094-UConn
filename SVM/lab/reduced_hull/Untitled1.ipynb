{
 "cells": [
  {
   "cell_type": "code",
   "execution_count": 1,
   "metadata": {},
   "outputs": [],
   "source": [
    "%load_ext autoreload\n",
    "%autoreload 2"
   ]
  },
  {
   "cell_type": "code",
   "execution_count": 247,
   "metadata": {},
   "outputs": [
    {
     "data": {
      "text/html": [
       "\n",
       "    <div class=\"bk-root\">\n",
       "        <a href=\"https://bokeh.org\" target=\"_blank\" class=\"bk-logo bk-logo-small bk-logo-notebook\"></a>\n",
       "        <span id=\"900804\">Loading BokehJS ...</span>\n",
       "    </div>"
      ]
     },
     "metadata": {},
     "output_type": "display_data"
    },
    {
     "data": {
      "application/javascript": [
       "\n",
       "(function(root) {\n",
       "  function now() {\n",
       "    return new Date();\n",
       "  }\n",
       "\n",
       "  var force = true;\n",
       "\n",
       "  if (typeof root._bokeh_onload_callbacks === \"undefined\" || force === true) {\n",
       "    root._bokeh_onload_callbacks = [];\n",
       "    root._bokeh_is_loading = undefined;\n",
       "  }\n",
       "\n",
       "  var JS_MIME_TYPE = 'application/javascript';\n",
       "  var HTML_MIME_TYPE = 'text/html';\n",
       "  var EXEC_MIME_TYPE = 'application/vnd.bokehjs_exec.v0+json';\n",
       "  var CLASS_NAME = 'output_bokeh rendered_html';\n",
       "\n",
       "  /**\n",
       "   * Render data to the DOM node\n",
       "   */\n",
       "  function render(props, node) {\n",
       "    var script = document.createElement(\"script\");\n",
       "    node.appendChild(script);\n",
       "  }\n",
       "\n",
       "  /**\n",
       "   * Handle when an output is cleared or removed\n",
       "   */\n",
       "  function handleClearOutput(event, handle) {\n",
       "    var cell = handle.cell;\n",
       "\n",
       "    var id = cell.output_area._bokeh_element_id;\n",
       "    var server_id = cell.output_area._bokeh_server_id;\n",
       "    // Clean up Bokeh references\n",
       "    if (id != null && id in Bokeh.index) {\n",
       "      Bokeh.index[id].model.document.clear();\n",
       "      delete Bokeh.index[id];\n",
       "    }\n",
       "\n",
       "    if (server_id !== undefined) {\n",
       "      // Clean up Bokeh references\n",
       "      var cmd = \"from bokeh.io.state import curstate; print(curstate().uuid_to_server['\" + server_id + \"'].get_sessions()[0].document.roots[0]._id)\";\n",
       "      cell.notebook.kernel.execute(cmd, {\n",
       "        iopub: {\n",
       "          output: function(msg) {\n",
       "            var id = msg.content.text.trim();\n",
       "            if (id in Bokeh.index) {\n",
       "              Bokeh.index[id].model.document.clear();\n",
       "              delete Bokeh.index[id];\n",
       "            }\n",
       "          }\n",
       "        }\n",
       "      });\n",
       "      // Destroy server and session\n",
       "      var cmd = \"import bokeh.io.notebook as ion; ion.destroy_server('\" + server_id + \"')\";\n",
       "      cell.notebook.kernel.execute(cmd);\n",
       "    }\n",
       "  }\n",
       "\n",
       "  /**\n",
       "   * Handle when a new output is added\n",
       "   */\n",
       "  function handleAddOutput(event, handle) {\n",
       "    var output_area = handle.output_area;\n",
       "    var output = handle.output;\n",
       "\n",
       "    // limit handleAddOutput to display_data with EXEC_MIME_TYPE content only\n",
       "    if ((output.output_type != \"display_data\") || (!output.data.hasOwnProperty(EXEC_MIME_TYPE))) {\n",
       "      return\n",
       "    }\n",
       "\n",
       "    var toinsert = output_area.element.find(\".\" + CLASS_NAME.split(' ')[0]);\n",
       "\n",
       "    if (output.metadata[EXEC_MIME_TYPE][\"id\"] !== undefined) {\n",
       "      toinsert[toinsert.length - 1].firstChild.textContent = output.data[JS_MIME_TYPE];\n",
       "      // store reference to embed id on output_area\n",
       "      output_area._bokeh_element_id = output.metadata[EXEC_MIME_TYPE][\"id\"];\n",
       "    }\n",
       "    if (output.metadata[EXEC_MIME_TYPE][\"server_id\"] !== undefined) {\n",
       "      var bk_div = document.createElement(\"div\");\n",
       "      bk_div.innerHTML = output.data[HTML_MIME_TYPE];\n",
       "      var script_attrs = bk_div.children[0].attributes;\n",
       "      for (var i = 0; i < script_attrs.length; i++) {\n",
       "        toinsert[toinsert.length - 1].firstChild.setAttribute(script_attrs[i].name, script_attrs[i].value);\n",
       "        toinsert[toinsert.length - 1].firstChild.textContent = bk_div.children[0].textContent\n",
       "      }\n",
       "      // store reference to server id on output_area\n",
       "      output_area._bokeh_server_id = output.metadata[EXEC_MIME_TYPE][\"server_id\"];\n",
       "    }\n",
       "  }\n",
       "\n",
       "  function register_renderer(events, OutputArea) {\n",
       "\n",
       "    function append_mime(data, metadata, element) {\n",
       "      // create a DOM node to render to\n",
       "      var toinsert = this.create_output_subarea(\n",
       "        metadata,\n",
       "        CLASS_NAME,\n",
       "        EXEC_MIME_TYPE\n",
       "      );\n",
       "      this.keyboard_manager.register_events(toinsert);\n",
       "      // Render to node\n",
       "      var props = {data: data, metadata: metadata[EXEC_MIME_TYPE]};\n",
       "      render(props, toinsert[toinsert.length - 1]);\n",
       "      element.append(toinsert);\n",
       "      return toinsert\n",
       "    }\n",
       "\n",
       "    /* Handle when an output is cleared or removed */\n",
       "    events.on('clear_output.CodeCell', handleClearOutput);\n",
       "    events.on('delete.Cell', handleClearOutput);\n",
       "\n",
       "    /* Handle when a new output is added */\n",
       "    events.on('output_added.OutputArea', handleAddOutput);\n",
       "\n",
       "    /**\n",
       "     * Register the mime type and append_mime function with output_area\n",
       "     */\n",
       "    OutputArea.prototype.register_mime_type(EXEC_MIME_TYPE, append_mime, {\n",
       "      /* Is output safe? */\n",
       "      safe: true,\n",
       "      /* Index of renderer in `output_area.display_order` */\n",
       "      index: 0\n",
       "    });\n",
       "  }\n",
       "\n",
       "  // register the mime type if in Jupyter Notebook environment and previously unregistered\n",
       "  if (root.Jupyter !== undefined) {\n",
       "    var events = require('base/js/events');\n",
       "    var OutputArea = require('notebook/js/outputarea').OutputArea;\n",
       "\n",
       "    if (OutputArea.prototype.mime_types().indexOf(EXEC_MIME_TYPE) == -1) {\n",
       "      register_renderer(events, OutputArea);\n",
       "    }\n",
       "  }\n",
       "\n",
       "  \n",
       "  if (typeof (root._bokeh_timeout) === \"undefined\" || force === true) {\n",
       "    root._bokeh_timeout = Date.now() + 5000;\n",
       "    root._bokeh_failed_load = false;\n",
       "  }\n",
       "\n",
       "  var NB_LOAD_WARNING = {'data': {'text/html':\n",
       "     \"<div style='background-color: #fdd'>\\n\"+\n",
       "     \"<p>\\n\"+\n",
       "     \"BokehJS does not appear to have successfully loaded. If loading BokehJS from CDN, this \\n\"+\n",
       "     \"may be due to a slow or bad network connection. Possible fixes:\\n\"+\n",
       "     \"</p>\\n\"+\n",
       "     \"<ul>\\n\"+\n",
       "     \"<li>re-rerun `output_notebook()` to attempt to load from CDN again, or</li>\\n\"+\n",
       "     \"<li>use INLINE resources instead, as so:</li>\\n\"+\n",
       "     \"</ul>\\n\"+\n",
       "     \"<code>\\n\"+\n",
       "     \"from bokeh.resources import INLINE\\n\"+\n",
       "     \"output_notebook(resources=INLINE)\\n\"+\n",
       "     \"</code>\\n\"+\n",
       "     \"</div>\"}};\n",
       "\n",
       "  function display_loaded() {\n",
       "    var el = document.getElementById(\"900804\");\n",
       "    if (el != null) {\n",
       "      el.textContent = \"BokehJS is loading...\";\n",
       "    }\n",
       "    if (root.Bokeh !== undefined) {\n",
       "      if (el != null) {\n",
       "        el.textContent = \"BokehJS \" + root.Bokeh.version + \" successfully loaded.\";\n",
       "      }\n",
       "    } else if (Date.now() < root._bokeh_timeout) {\n",
       "      setTimeout(display_loaded, 100)\n",
       "    }\n",
       "  }\n",
       "\n",
       "\n",
       "  function run_callbacks() {\n",
       "    try {\n",
       "      root._bokeh_onload_callbacks.forEach(function(callback) {\n",
       "        if (callback != null)\n",
       "          callback();\n",
       "      });\n",
       "    } finally {\n",
       "      delete root._bokeh_onload_callbacks\n",
       "    }\n",
       "    console.debug(\"Bokeh: all callbacks have finished\");\n",
       "  }\n",
       "\n",
       "  function load_libs(css_urls, js_urls, callback) {\n",
       "    if (css_urls == null) css_urls = [];\n",
       "    if (js_urls == null) js_urls = [];\n",
       "\n",
       "    root._bokeh_onload_callbacks.push(callback);\n",
       "    if (root._bokeh_is_loading > 0) {\n",
       "      console.debug(\"Bokeh: BokehJS is being loaded, scheduling callback at\", now());\n",
       "      return null;\n",
       "    }\n",
       "    if (js_urls == null || js_urls.length === 0) {\n",
       "      run_callbacks();\n",
       "      return null;\n",
       "    }\n",
       "    console.debug(\"Bokeh: BokehJS not loaded, scheduling load and callback at\", now());\n",
       "    root._bokeh_is_loading = css_urls.length + js_urls.length;\n",
       "\n",
       "    function on_load() {\n",
       "      root._bokeh_is_loading--;\n",
       "      if (root._bokeh_is_loading === 0) {\n",
       "        console.debug(\"Bokeh: all BokehJS libraries/stylesheets loaded\");\n",
       "        run_callbacks()\n",
       "      }\n",
       "    }\n",
       "\n",
       "    function on_error() {\n",
       "      console.error(\"failed to load \" + url);\n",
       "    }\n",
       "\n",
       "    for (var i = 0; i < css_urls.length; i++) {\n",
       "      var url = css_urls[i];\n",
       "      const element = document.createElement(\"link\");\n",
       "      element.onload = on_load;\n",
       "      element.onerror = on_error;\n",
       "      element.rel = \"stylesheet\";\n",
       "      element.type = \"text/css\";\n",
       "      element.href = url;\n",
       "      console.debug(\"Bokeh: injecting link tag for BokehJS stylesheet: \", url);\n",
       "      document.body.appendChild(element);\n",
       "    }\n",
       "\n",
       "    const hashes = {\"https://cdn.bokeh.org/bokeh/release/bokeh-2.1.1.min.js\": \"kLr4fYcqcSpbuI95brIH3vnnYCquzzSxHPU6XGQCIkQRGJwhg0StNbj1eegrHs12\", \"https://cdn.bokeh.org/bokeh/release/bokeh-widgets-2.1.1.min.js\": \"xIGPmVtaOm+z0BqfSOMn4lOR6ciex448GIKG4eE61LsAvmGj48XcMQZtKcE/UXZe\", \"https://cdn.bokeh.org/bokeh/release/bokeh-tables-2.1.1.min.js\": \"Dc9u1wF/0zApGIWoBbH77iWEHtdmkuYWG839Uzmv8y8yBLXebjO9ZnERsde5Ln/P\", \"https://cdn.bokeh.org/bokeh/release/bokeh-gl-2.1.1.min.js\": \"cT9JaBz7GiRXdENrJLZNSC6eMNF3nh3fa5fTF51Svp+ukxPdwcU5kGXGPBgDCa2j\"};\n",
       "\n",
       "    for (var i = 0; i < js_urls.length; i++) {\n",
       "      var url = js_urls[i];\n",
       "      var element = document.createElement('script');\n",
       "      element.onload = on_load;\n",
       "      element.onerror = on_error;\n",
       "      element.async = false;\n",
       "      element.src = url;\n",
       "      if (url in hashes) {\n",
       "        element.crossOrigin = \"anonymous\";\n",
       "        element.integrity = \"sha384-\" + hashes[url];\n",
       "      }\n",
       "      console.debug(\"Bokeh: injecting script tag for BokehJS library: \", url);\n",
       "      document.head.appendChild(element);\n",
       "    }\n",
       "  };\n",
       "\n",
       "  function inject_raw_css(css) {\n",
       "    const element = document.createElement(\"style\");\n",
       "    element.appendChild(document.createTextNode(css));\n",
       "    document.body.appendChild(element);\n",
       "  }\n",
       "\n",
       "  \n",
       "  var js_urls = [\"https://cdn.bokeh.org/bokeh/release/bokeh-2.1.1.min.js\", \"https://cdn.bokeh.org/bokeh/release/bokeh-widgets-2.1.1.min.js\", \"https://cdn.bokeh.org/bokeh/release/bokeh-tables-2.1.1.min.js\", \"https://cdn.bokeh.org/bokeh/release/bokeh-gl-2.1.1.min.js\"];\n",
       "  var css_urls = [];\n",
       "  \n",
       "\n",
       "  var inline_js = [\n",
       "    function(Bokeh) {\n",
       "      Bokeh.set_log_level(\"info\");\n",
       "    },\n",
       "    function(Bokeh) {\n",
       "    \n",
       "    \n",
       "    }\n",
       "  ];\n",
       "\n",
       "  function run_inline_js() {\n",
       "    \n",
       "    if (root.Bokeh !== undefined || force === true) {\n",
       "      \n",
       "    for (var i = 0; i < inline_js.length; i++) {\n",
       "      inline_js[i].call(root, root.Bokeh);\n",
       "    }\n",
       "    if (force === true) {\n",
       "        display_loaded();\n",
       "      }} else if (Date.now() < root._bokeh_timeout) {\n",
       "      setTimeout(run_inline_js, 100);\n",
       "    } else if (!root._bokeh_failed_load) {\n",
       "      console.log(\"Bokeh: BokehJS failed to load within specified timeout.\");\n",
       "      root._bokeh_failed_load = true;\n",
       "    } else if (force !== true) {\n",
       "      var cell = $(document.getElementById(\"900804\")).parents('.cell').data().cell;\n",
       "      cell.output_area.append_execute_result(NB_LOAD_WARNING)\n",
       "    }\n",
       "\n",
       "  }\n",
       "\n",
       "  if (root._bokeh_is_loading === 0) {\n",
       "    console.debug(\"Bokeh: BokehJS loaded, going straight to plotting\");\n",
       "    run_inline_js();\n",
       "  } else {\n",
       "    load_libs(css_urls, js_urls, function() {\n",
       "      console.debug(\"Bokeh: BokehJS plotting callback run at\", now());\n",
       "      run_inline_js();\n",
       "    });\n",
       "  }\n",
       "}(window));"
      ],
      "application/vnd.bokehjs_load.v0+json": "\n(function(root) {\n  function now() {\n    return new Date();\n  }\n\n  var force = true;\n\n  if (typeof root._bokeh_onload_callbacks === \"undefined\" || force === true) {\n    root._bokeh_onload_callbacks = [];\n    root._bokeh_is_loading = undefined;\n  }\n\n  \n\n  \n  if (typeof (root._bokeh_timeout) === \"undefined\" || force === true) {\n    root._bokeh_timeout = Date.now() + 5000;\n    root._bokeh_failed_load = false;\n  }\n\n  var NB_LOAD_WARNING = {'data': {'text/html':\n     \"<div style='background-color: #fdd'>\\n\"+\n     \"<p>\\n\"+\n     \"BokehJS does not appear to have successfully loaded. If loading BokehJS from CDN, this \\n\"+\n     \"may be due to a slow or bad network connection. Possible fixes:\\n\"+\n     \"</p>\\n\"+\n     \"<ul>\\n\"+\n     \"<li>re-rerun `output_notebook()` to attempt to load from CDN again, or</li>\\n\"+\n     \"<li>use INLINE resources instead, as so:</li>\\n\"+\n     \"</ul>\\n\"+\n     \"<code>\\n\"+\n     \"from bokeh.resources import INLINE\\n\"+\n     \"output_notebook(resources=INLINE)\\n\"+\n     \"</code>\\n\"+\n     \"</div>\"}};\n\n  function display_loaded() {\n    var el = document.getElementById(\"900804\");\n    if (el != null) {\n      el.textContent = \"BokehJS is loading...\";\n    }\n    if (root.Bokeh !== undefined) {\n      if (el != null) {\n        el.textContent = \"BokehJS \" + root.Bokeh.version + \" successfully loaded.\";\n      }\n    } else if (Date.now() < root._bokeh_timeout) {\n      setTimeout(display_loaded, 100)\n    }\n  }\n\n\n  function run_callbacks() {\n    try {\n      root._bokeh_onload_callbacks.forEach(function(callback) {\n        if (callback != null)\n          callback();\n      });\n    } finally {\n      delete root._bokeh_onload_callbacks\n    }\n    console.debug(\"Bokeh: all callbacks have finished\");\n  }\n\n  function load_libs(css_urls, js_urls, callback) {\n    if (css_urls == null) css_urls = [];\n    if (js_urls == null) js_urls = [];\n\n    root._bokeh_onload_callbacks.push(callback);\n    if (root._bokeh_is_loading > 0) {\n      console.debug(\"Bokeh: BokehJS is being loaded, scheduling callback at\", now());\n      return null;\n    }\n    if (js_urls == null || js_urls.length === 0) {\n      run_callbacks();\n      return null;\n    }\n    console.debug(\"Bokeh: BokehJS not loaded, scheduling load and callback at\", now());\n    root._bokeh_is_loading = css_urls.length + js_urls.length;\n\n    function on_load() {\n      root._bokeh_is_loading--;\n      if (root._bokeh_is_loading === 0) {\n        console.debug(\"Bokeh: all BokehJS libraries/stylesheets loaded\");\n        run_callbacks()\n      }\n    }\n\n    function on_error() {\n      console.error(\"failed to load \" + url);\n    }\n\n    for (var i = 0; i < css_urls.length; i++) {\n      var url = css_urls[i];\n      const element = document.createElement(\"link\");\n      element.onload = on_load;\n      element.onerror = on_error;\n      element.rel = \"stylesheet\";\n      element.type = \"text/css\";\n      element.href = url;\n      console.debug(\"Bokeh: injecting link tag for BokehJS stylesheet: \", url);\n      document.body.appendChild(element);\n    }\n\n    const hashes = {\"https://cdn.bokeh.org/bokeh/release/bokeh-2.1.1.min.js\": \"kLr4fYcqcSpbuI95brIH3vnnYCquzzSxHPU6XGQCIkQRGJwhg0StNbj1eegrHs12\", \"https://cdn.bokeh.org/bokeh/release/bokeh-widgets-2.1.1.min.js\": \"xIGPmVtaOm+z0BqfSOMn4lOR6ciex448GIKG4eE61LsAvmGj48XcMQZtKcE/UXZe\", \"https://cdn.bokeh.org/bokeh/release/bokeh-tables-2.1.1.min.js\": \"Dc9u1wF/0zApGIWoBbH77iWEHtdmkuYWG839Uzmv8y8yBLXebjO9ZnERsde5Ln/P\", \"https://cdn.bokeh.org/bokeh/release/bokeh-gl-2.1.1.min.js\": \"cT9JaBz7GiRXdENrJLZNSC6eMNF3nh3fa5fTF51Svp+ukxPdwcU5kGXGPBgDCa2j\"};\n\n    for (var i = 0; i < js_urls.length; i++) {\n      var url = js_urls[i];\n      var element = document.createElement('script');\n      element.onload = on_load;\n      element.onerror = on_error;\n      element.async = false;\n      element.src = url;\n      if (url in hashes) {\n        element.crossOrigin = \"anonymous\";\n        element.integrity = \"sha384-\" + hashes[url];\n      }\n      console.debug(\"Bokeh: injecting script tag for BokehJS library: \", url);\n      document.head.appendChild(element);\n    }\n  };\n\n  function inject_raw_css(css) {\n    const element = document.createElement(\"style\");\n    element.appendChild(document.createTextNode(css));\n    document.body.appendChild(element);\n  }\n\n  \n  var js_urls = [\"https://cdn.bokeh.org/bokeh/release/bokeh-2.1.1.min.js\", \"https://cdn.bokeh.org/bokeh/release/bokeh-widgets-2.1.1.min.js\", \"https://cdn.bokeh.org/bokeh/release/bokeh-tables-2.1.1.min.js\", \"https://cdn.bokeh.org/bokeh/release/bokeh-gl-2.1.1.min.js\"];\n  var css_urls = [];\n  \n\n  var inline_js = [\n    function(Bokeh) {\n      Bokeh.set_log_level(\"info\");\n    },\n    function(Bokeh) {\n    \n    \n    }\n  ];\n\n  function run_inline_js() {\n    \n    if (root.Bokeh !== undefined || force === true) {\n      \n    for (var i = 0; i < inline_js.length; i++) {\n      inline_js[i].call(root, root.Bokeh);\n    }\n    if (force === true) {\n        display_loaded();\n      }} else if (Date.now() < root._bokeh_timeout) {\n      setTimeout(run_inline_js, 100);\n    } else if (!root._bokeh_failed_load) {\n      console.log(\"Bokeh: BokehJS failed to load within specified timeout.\");\n      root._bokeh_failed_load = true;\n    } else if (force !== true) {\n      var cell = $(document.getElementById(\"900804\")).parents('.cell').data().cell;\n      cell.output_area.append_execute_result(NB_LOAD_WARNING)\n    }\n\n  }\n\n  if (root._bokeh_is_loading === 0) {\n    console.debug(\"Bokeh: BokehJS loaded, going straight to plotting\");\n    run_inline_js();\n  } else {\n    load_libs(css_urls, js_urls, function() {\n      console.debug(\"Bokeh: BokehJS plotting callback run at\", now());\n      run_inline_js();\n    });\n  }\n}(window));"
     },
     "metadata": {},
     "output_type": "display_data"
    }
   ],
   "source": [
    "from rsvm3 import RCH\n",
    "from rsvm2 import RCH as RCHold\n",
    "import numpy as np\n",
    "from bokeh.plotting import figure\n",
    "from bokeh.io import output_notebook, show\n",
    "output_notebook()"
   ]
  },
  {
   "cell_type": "code",
   "execution_count": 248,
   "metadata": {},
   "outputs": [],
   "source": [
    "points = np.random.uniform(-.5,.5,size=(20,2))"
   ]
  },
  {
   "cell_type": "code",
   "execution_count": 268,
   "metadata": {},
   "outputs": [],
   "source": [
    "L = RCH(points, 1/2.0)"
   ]
  },
  {
   "cell_type": "code",
   "execution_count": 269,
   "metadata": {},
   "outputs": [
    {
     "data": {
      "text/plain": [
       "13"
      ]
     },
     "execution_count": 269,
     "metadata": {},
     "output_type": "execute_result"
    }
   ],
   "source": [
    "L.vertices.shape[0]"
   ]
  },
  {
   "cell_type": "code",
   "execution_count": 270,
   "metadata": {},
   "outputs": [
    {
     "data": {
      "text/html": [
       "\n",
       "\n",
       "\n",
       "\n",
       "\n",
       "\n",
       "  <div class=\"bk-root\" id=\"2f38eed7-1419-4696-8733-98ba222d1fa9\" data-root-id=\"904975\"></div>\n"
      ]
     },
     "metadata": {},
     "output_type": "display_data"
    },
    {
     "data": {
      "application/javascript": [
       "(function(root) {\n",
       "  function embed_document(root) {\n",
       "    \n",
       "  var docs_json = {\"72c5ce65-495b-4551-bbea-18cc7d7d06cd\":{\"roots\":{\"references\":[{\"attributes\":{\"aspect_ratio\":1.0,\"below\":[{\"id\":\"904986\"}],\"center\":[{\"id\":\"904989\"},{\"id\":\"904993\"}],\"left\":[{\"id\":\"904990\"}],\"renderers\":[{\"id\":\"905015\"},{\"id\":\"905020\"},{\"id\":\"905026\"}],\"title\":{\"id\":\"904976\"},\"toolbar\":{\"id\":\"905001\"},\"x_range\":{\"id\":\"904978\"},\"x_scale\":{\"id\":\"904982\"},\"y_range\":{\"id\":\"904980\"},\"y_scale\":{\"id\":\"904984\"}},\"id\":\"904975\",\"subtype\":\"Figure\",\"type\":\"Plot\"},{\"attributes\":{\"fill_alpha\":{\"value\":0.1},\"fill_color\":{\"field\":\"color\"},\"line_alpha\":{\"value\":0.1},\"line_color\":{\"field\":\"color\"},\"size\":{\"field\":\"size\",\"units\":\"screen\"},\"x\":{\"field\":\"x\"},\"y\":{\"field\":\"y\"}},\"id\":\"905014\",\"type\":\"Scatter\"},{\"attributes\":{\"overlay\":{\"id\":\"905000\"}},\"id\":\"904996\",\"type\":\"BoxZoomTool\"},{\"attributes\":{\"bottom_units\":\"screen\",\"fill_alpha\":0.5,\"fill_color\":\"lightgrey\",\"left_units\":\"screen\",\"level\":\"overlay\",\"line_alpha\":1.0,\"line_color\":\"black\",\"line_dash\":[4,4],\"line_width\":2,\"right_units\":\"screen\",\"top_units\":\"screen\"},\"id\":\"905000\",\"type\":\"BoxAnnotation\"},{\"attributes\":{\"axis\":{\"id\":\"904986\"},\"ticker\":null},\"id\":\"904989\",\"type\":\"Grid\"},{\"attributes\":{},\"id\":\"904999\",\"type\":\"HelpTool\"},{\"attributes\":{},\"id\":\"905749\",\"type\":\"UnionRenderers\"},{\"attributes\":{\"fill_color\":{\"value\":\"red\"},\"line_color\":{\"value\":\"red\"},\"size\":{\"units\":\"screen\",\"value\":10},\"x\":{\"field\":\"x\"},\"y\":{\"field\":\"y\"}},\"id\":\"905023\",\"type\":\"Circle\"},{\"attributes\":{\"data\":{\"color\":[\"blue\",\"blue\",\"blue\",\"blue\",\"blue\",\"blue\",\"blue\",\"blue\",\"blue\",\"blue\",\"blue\",\"blue\",\"blue\",\"blue\",\"blue\",\"blue\",\"blue\",\"blue\",\"blue\",\"blue\"],\"size\":[4,4,4,4,4,4,4,4,4,4,4,4,4,4,4,4,4,4,4,4],\"x\":{\"__ndarray__\":\"QO+RxSK9q79AYrGwUWOfvxDqUptdl7S/4GhtnVYwxL8AS0Y+zU57vyJsyMIzqNU/UI7zlqGezj8IRu9oKrvQP/b1V4Qej9K/xkkby3Cd2z/UMwKwiJPYv4CoH03659G/BKG/eG2H1j8KL6x7V9DUP3borFo8Gtq/GKtWEdKqsT+IbUJAnJfZv8JB308eTNc/oLt/aLWUlT/4G7PlsQW9Pw==\",\"dtype\":\"float64\",\"order\":\"little\",\"shape\":[20]},\"y\":{\"__ndarray__\":\"rHPUfPtfwD/Ahm8H98G2Pxjgmu4XzrO/SHKencbHzj+2QTE6MDfTP5iAonAnjNC/PPQJamF+wD+AVvtLqamDP4z7QQ9lx80/PPJCVoeX3b/g7j53Dhy2vxSF9eetjtO/2Bp3QHfwyz/AggGlpQi2v+CNb0WBPdu/9K8GB7f52D/gZZNPP07GPzrdPNIlItw/lBQUmB/x0b84lok3m1PVvw==\",\"dtype\":\"float64\",\"order\":\"little\",\"shape\":[20]}},\"selected\":{\"id\":\"905746\"},\"selection_policy\":{\"id\":\"905745\"}},\"id\":\"905010\",\"type\":\"ColumnDataSource\"},{\"attributes\":{},\"id\":\"904998\",\"type\":\"ResetTool\"},{\"attributes\":{},\"id\":\"904980\",\"type\":\"DataRange1d\"},{\"attributes\":{\"formatter\":{\"id\":\"905741\"},\"ticker\":{\"id\":\"904987\"}},\"id\":\"904986\",\"type\":\"LinearAxis\"},{\"attributes\":{},\"id\":\"905743\",\"type\":\"BasicTickFormatter\"},{\"attributes\":{},\"id\":\"904995\",\"type\":\"WheelZoomTool\"},{\"attributes\":{\"fill_alpha\":{\"value\":0.5},\"fill_color\":{\"value\":\"red\"},\"line_alpha\":{\"value\":0.1},\"line_color\":{\"value\":\"red\"},\"size\":{\"units\":\"screen\",\"value\":10},\"x\":{\"field\":\"x\"},\"y\":{\"field\":\"y\"}},\"id\":\"905024\",\"type\":\"Circle\"},{\"attributes\":{},\"id\":\"904997\",\"type\":\"SaveTool\"},{\"attributes\":{\"fill_color\":{\"value\":\"red\"},\"line_color\":{\"value\":\"red\"},\"size\":{\"units\":\"screen\",\"value\":10},\"x\":{\"field\":\"x\"},\"y\":{\"field\":\"y\"}},\"id\":\"905025\",\"type\":\"Circle\"},{\"attributes\":{\"active_drag\":\"auto\",\"active_inspect\":\"auto\",\"active_multi\":null,\"active_scroll\":\"auto\",\"active_tap\":\"auto\",\"tools\":[{\"id\":\"904994\"},{\"id\":\"904995\"},{\"id\":\"904996\"},{\"id\":\"904997\"},{\"id\":\"904998\"},{\"id\":\"904999\"},{\"id\":\"905028\"}]},\"id\":\"905001\",\"type\":\"Toolbar\"},{\"attributes\":{\"fill_color\":{\"field\":\"color\"},\"line_color\":{\"field\":\"color\"},\"size\":{\"field\":\"size\",\"units\":\"screen\"},\"x\":{\"field\":\"x\"},\"y\":{\"field\":\"y\"}},\"id\":\"905013\",\"type\":\"Scatter\"},{\"attributes\":{\"data\":{\"x\":{\"__ndarray__\":\"iOw01NK2yz9jcU/kxenWP8RFfY3HdNk/9NrxRtKi2D9iCESibm/RPwAV5gZHM4g/e0jmUxsB1r8ljleF4lbZv/+qd03s2Nm/rlAieJIV2b+/MU1iXRPWv2CWBADUSLy/iOw01NK2yz8=\",\"dtype\":\"float64\",\"order\":\"little\",\"shape\":[13]},\"y\":{\"__ndarray__\":\"l8ahbO6N2j9TNTy5MA3VPyBQYUAYVoe/arlyY9cR1786ROZGkXXZvw5A2U2Eaty/eomylhdm17/MpJ9xQmLQv/DapZ1hFsC/4NznJ3CApj+2sGov0grKP93WU8e07tM/l8ahbO6N2j8=\",\"dtype\":\"float64\",\"order\":\"little\",\"shape\":[13]}},\"selected\":{\"id\":\"905748\"},\"selection_policy\":{\"id\":\"905747\"}},\"id\":\"905009\",\"type\":\"ColumnDataSource\"},{\"attributes\":{},\"id\":\"905750\",\"type\":\"Selection\"},{\"attributes\":{\"args\":{\"data\":{\"id\":\"905008\"},\"info\":[[[0.21651683198601668,0.41491280182445095],[17,15]],[[0.35801837249689167,0.3289300736367597],[17,12]],[[0.397752655194463,-0.011394681420064556],[9,17]],[[0.38493782928655595,-0.3604639502690562],[9,5]],[[0.27242627950920995,-0.39780075000550463],[9,19]],[[0.0118165539722761,-0.4440012703171313],[9,14]],[[-0.34381755059542457,-0.3656062099127194],[14,11]],[[-0.39592803022080353,-0.25599728675895217],[14,10]],[[-0.4038649326818557,-0.12568302343034743],[16,14]],[[-0.3919416592773456,0.043948655005743964],[16,10]],[[-0.34493193244705006,0.20345523181220465],[16,8]],[[-0.1104862690013646,0.31144446816993626],[15,8]],[[0.21651683198601668,0.41491280182445095],[17,15]]],\"pts\":{\"id\":\"905010\"}},\"code\":\"\\n    var selected = data.selected.indices[0];\\n    var support = info[selected][1] ;\\n    var special = info[selected][1][info[selected][1].length-1] ;\\n    for(let i=0; i<pts.data['color'].length;i++){\\n        pts.data['color'][i]=support.includes(i)?'green':'blue';\\n        pts.data['size'][i]=support.includes(i)?10:4 ;\\n    }\\n    pts.data['color'][special]='#33ee00' ;\\n    pts.change.emit() ;\\n\"},\"id\":\"905011\",\"type\":\"CustomJS\"},{\"attributes\":{\"source\":{\"id\":\"905008\"}},\"id\":\"905027\",\"type\":\"CDSView\"},{\"attributes\":{},\"id\":\"904987\",\"type\":\"BasicTicker\"},{\"attributes\":{},\"id\":\"905746\",\"type\":\"Selection\"},{\"attributes\":{\"data_source\":{\"id\":\"905008\"},\"glyph\":{\"id\":\"905023\"},\"hover_glyph\":null,\"muted_glyph\":null,\"nonselection_glyph\":{\"id\":\"905024\"},\"selection_glyph\":{\"id\":\"905025\"},\"view\":{\"id\":\"905027\"}},\"id\":\"905026\",\"type\":\"GlyphRenderer\"},{\"attributes\":{},\"id\":\"904984\",\"type\":\"LinearScale\"},{\"attributes\":{},\"id\":\"905745\",\"type\":\"UnionRenderers\"},{\"attributes\":{},\"id\":\"905748\",\"type\":\"Selection\"},{\"attributes\":{},\"id\":\"905741\",\"type\":\"BasicTickFormatter\"},{\"attributes\":{\"data\":{\"x\":{\"__ndarray__\":\"iOw01NK2yz9jcU/kxenWP8RFfY3HdNk/9NrxRtKi2D9iCESibm/RPwAV5gZHM4g/e0jmUxsB1r8ljleF4lbZv/+qd03s2Nm/rlAieJIV2b+/MU1iXRPWv2CWBADUSLy/\",\"dtype\":\"float64\",\"order\":\"little\",\"shape\":[12]},\"y\":{\"__ndarray__\":\"l8ahbO6N2j9TNTy5MA3VPyBQYUAYVoe/arlyY9cR1786ROZGkXXZvw5A2U2Eaty/eomylhdm17/MpJ9xQmLQv/DapZ1hFsC/4NznJ3CApj+2sGov0grKP93WU8e07tM/\",\"dtype\":\"float64\",\"order\":\"little\",\"shape\":[12]}},\"selected\":{\"id\":\"905750\"},\"selection_policy\":{\"id\":\"905749\"}},\"id\":\"905008\",\"type\":\"ColumnDataSource\"},{\"attributes\":{\"text\":\"Reduced Convex Hull with \\u03bc=0.50\"},\"id\":\"904976\",\"type\":\"Title\"},{\"attributes\":{\"data_source\":{\"id\":\"905010\"},\"glyph\":{\"id\":\"905013\"},\"hover_glyph\":null,\"muted_glyph\":null,\"nonselection_glyph\":{\"id\":\"905014\"},\"selection_glyph\":null,\"view\":{\"id\":\"905016\"}},\"id\":\"905015\",\"type\":\"GlyphRenderer\"},{\"attributes\":{\"source\":{\"id\":\"905009\"}},\"id\":\"905021\",\"type\":\"CDSView\"},{\"attributes\":{\"callback\":{\"id\":\"905011\"},\"renderers\":[{\"id\":\"905026\"}]},\"id\":\"905028\",\"type\":\"TapTool\"},{\"attributes\":{},\"id\":\"904991\",\"type\":\"BasicTicker\"},{\"attributes\":{\"axis\":{\"id\":\"904990\"},\"dimension\":1,\"ticker\":null},\"id\":\"904993\",\"type\":\"Grid\"},{\"attributes\":{\"formatter\":{\"id\":\"905743\"},\"ticker\":{\"id\":\"904991\"}},\"id\":\"904990\",\"type\":\"LinearAxis\"},{\"attributes\":{},\"id\":\"904994\",\"type\":\"PanTool\"},{\"attributes\":{\"line_color\":\"red\",\"x\":{\"field\":\"x\"},\"y\":{\"field\":\"y\"}},\"id\":\"905018\",\"type\":\"Line\"},{\"attributes\":{\"line_alpha\":0.1,\"line_color\":\"red\",\"x\":{\"field\":\"x\"},\"y\":{\"field\":\"y\"}},\"id\":\"905019\",\"type\":\"Line\"},{\"attributes\":{\"source\":{\"id\":\"905010\"}},\"id\":\"905016\",\"type\":\"CDSView\"},{\"attributes\":{},\"id\":\"905747\",\"type\":\"UnionRenderers\"},{\"attributes\":{\"data_source\":{\"id\":\"905009\"},\"glyph\":{\"id\":\"905018\"},\"hover_glyph\":null,\"muted_glyph\":null,\"nonselection_glyph\":{\"id\":\"905019\"},\"selection_glyph\":null,\"view\":{\"id\":\"905021\"}},\"id\":\"905020\",\"type\":\"GlyphRenderer\"},{\"attributes\":{},\"id\":\"904978\",\"type\":\"DataRange1d\"},{\"attributes\":{},\"id\":\"904982\",\"type\":\"LinearScale\"}],\"root_ids\":[\"904975\"]},\"title\":\"Bokeh Application\",\"version\":\"2.1.1\"}};\n",
       "  var render_items = [{\"docid\":\"72c5ce65-495b-4551-bbea-18cc7d7d06cd\",\"root_ids\":[\"904975\"],\"roots\":{\"904975\":\"2f38eed7-1419-4696-8733-98ba222d1fa9\"}}];\n",
       "  root.Bokeh.embed.embed_items_notebook(docs_json, render_items);\n",
       "\n",
       "  }\n",
       "  if (root.Bokeh !== undefined) {\n",
       "    embed_document(root);\n",
       "  } else {\n",
       "    var attempts = 0;\n",
       "    var timer = setInterval(function(root) {\n",
       "      if (root.Bokeh !== undefined) {\n",
       "        clearInterval(timer);\n",
       "        embed_document(root);\n",
       "      } else {\n",
       "        attempts++;\n",
       "        if (attempts > 100) {\n",
       "          clearInterval(timer);\n",
       "          console.log(\"Bokeh: ERROR: Unable to run BokehJS code because BokehJS library is missing\");\n",
       "        }\n",
       "      }\n",
       "    }, 10, root)\n",
       "  }\n",
       "})(window);"
      ],
      "application/vnd.bokehjs_exec.v0+json": ""
     },
     "metadata": {
      "application/vnd.bokehjs_exec.v0+json": {
       "id": "904975"
      }
     },
     "output_type": "display_data"
    }
   ],
   "source": [
    "show(L.fig)"
   ]
  },
  {
   "cell_type": "code",
   "execution_count": 179,
   "metadata": {},
   "outputs": [],
   "source": [
    "points = np.random.uniform(-.5,.5,size=(50,2))\n"
   ]
  },
  {
   "cell_type": "code",
   "execution_count": 184,
   "metadata": {},
   "outputs": [
    {
     "data": {
      "text/plain": [
       "62"
      ]
     },
     "execution_count": 184,
     "metadata": {},
     "output_type": "execute_result"
    }
   ],
   "source": [
    "L=RCH(points,1/26.0)\n",
    "L.vertices.shape[0]"
   ]
  },
  {
   "cell_type": "code",
   "execution_count": 185,
   "metadata": {},
   "outputs": [
    {
     "data": {
      "text/html": [
       "\n",
       "\n",
       "\n",
       "\n",
       "\n",
       "\n",
       "  <div class=\"bk-root\" id=\"38dde719-1b7c-4a43-ada8-76ef5c9d445e\" data-root-id=\"55580\"></div>\n"
      ]
     },
     "metadata": {},
     "output_type": "display_data"
    },
    {
     "data": {
      "application/javascript": [
       "(function(root) {\n",
       "  function embed_document(root) {\n",
       "    \n",
       "  var docs_json = {\"64a25726-9a41-4f43-9489-5390aa6a2e05\":{\"roots\":{\"references\":[{\"attributes\":{\"aspect_ratio\":1.0,\"below\":[{\"id\":\"55591\"}],\"center\":[{\"id\":\"55594\"},{\"id\":\"55598\"}],\"left\":[{\"id\":\"55595\"}],\"renderers\":[{\"id\":\"55620\"},{\"id\":\"55625\"},{\"id\":\"55631\"}],\"title\":{\"id\":\"55581\"},\"toolbar\":{\"id\":\"55606\"},\"x_range\":{\"id\":\"55583\"},\"x_scale\":{\"id\":\"55587\"},\"y_range\":{\"id\":\"55585\"},\"y_scale\":{\"id\":\"55589\"}},\"id\":\"55580\",\"subtype\":\"Figure\",\"type\":\"Plot\"},{\"attributes\":{},\"id\":\"55583\",\"type\":\"DataRange1d\"},{\"attributes\":{\"data\":{\"x\":{\"__ndarray__\":\"YJb0ltYebL9tuQG+yJ+WP/VQT1OUFqs/UCm9NnCHsT8JFr53cvi0P0Pl/4xiibs/6+7ZSKy5vz+KRCn+uX7CP5AiDQ2etsQ/Mw959KDExT95olC2yanGP67hUaZdmMc/8ioiQKG6yD8Lqp3Ao3/JPwZVX4waTso/sWh4NkrFyj82Ca1P3ZXKPwEVSZOZB8o/rYpjxyJLyT8H9RURFrvHP9eHjq7qr8U/H3X9VF4Cwj++0BnJKHa7P1GZpVZvqbY/OkxP9oPnrT9MU1rNgOOiP6UGkXIPu4A/vrPrYVrVdj8qpZ/L/nKYv33k5Bg+Wae/mAy6SCKLs7/84aUdrne7v7d6w/g5WsK/5/Uw998qxr/yTLjZIUrIv9d4w19IRsu/dwQnJB2IzL+jVTlDsjPNv9czMhAYVs6/L8N3M6LEz79sWZSNM5rQv2zw+4I/H9G/zrd7pPM90b/K5H+BzUrRvwFK6+WRStG/DTUaDhcz0b+iVKajV17Qv4xX6UwfVs+/Ygl91ieuzr+hzSn5ZOrMv6r263ybAMu/QWACvp65yL83QiTFj0TGv2BJf2PzqcW/XuA5qRXswr+zBskNV6DBv6XHZ2wtqb+/h8319n0ivr8/AjZFqli4v0415cuS9K+/Cgf2/AaVor9glvSW1h5svw==\",\"dtype\":\"float64\",\"order\":\"little\",\"shape\":[62]},\"y\":{\"__ndarray__\":\"b6I2F0RGzz9S4ElfqX3OP3u+mEbiLs0/IhFnLRlgzD/Xp0tRt57LP2xoON/fesk/CBAhHKLvxz8Rw8rGOIXFP6h6xFBws8I/gp5zxq0CwT8Wwt8lT/C+Pyt8fM2Zc7s/2l3kx2cttz+FNgvILXCzP/6tmc1TZKw/xXG+dafOpT93NKHJ5UaBP3xLYv7esoe/eq0Otn1CoL8RQ78aD1auv/r0Rnt+L7W/I/LQJQVPvr/BVtw0zsTCv4etq2N3ksS/mslJIqZUx7+/dEw2fO3Iv1ntHny/Ycq/FN6Lv2N/yr+Ysg8U97TLv4X1lmfkBsy/SeE9ka6+y7/3lsynBY3Kv8r1LwSzSci/GzT9ZBP9xb8eavO+AGHEv+KGCtlCI8G/7MFZBivavr+rjCpY+uu8vzOzrWhvZLm/LaVUs96ns7/KCyyGk8mqv4JIQMFARJy/kEDK4+3si78YHdceRD9Nv6EF43qHuYM/M8ja8vAHoT/r1dRscl2wPxZuv51Ne7U/QESEAmdXtz/sIhHlsju8P7Qgh9Z2O8A/dJPoKty8wj+wCkEhBTzFP78q6FtrvsU/pImYOczfxz+2Fcxw+M/IP25M9GQ7G8o/taU2+Pqhyj9tZPePwxXMP1GI/4rD9M0/xB7MaoDvzj9vojYXREbPPw==\",\"dtype\":\"float64\",\"order\":\"little\",\"shape\":[62]}},\"selected\":{\"id\":\"56217\"},\"selection_policy\":{\"id\":\"56216\"}},\"id\":\"55614\",\"type\":\"ColumnDataSource\"},{\"attributes\":{\"fill_color\":{\"value\":\"red\"},\"line_color\":{\"value\":\"red\"},\"size\":{\"units\":\"screen\",\"value\":10},\"x\":{\"field\":\"x\"},\"y\":{\"field\":\"y\"}},\"id\":\"55628\",\"type\":\"Circle\"},{\"attributes\":{\"active_drag\":\"auto\",\"active_inspect\":\"auto\",\"active_multi\":null,\"active_scroll\":\"auto\",\"active_tap\":\"auto\",\"tools\":[{\"id\":\"55599\"},{\"id\":\"55600\"},{\"id\":\"55601\"},{\"id\":\"55602\"},{\"id\":\"55603\"},{\"id\":\"55604\"},{\"id\":\"55633\"}]},\"id\":\"55606\",\"type\":\"Toolbar\"},{\"attributes\":{\"overlay\":{\"id\":\"55605\"}},\"id\":\"55601\",\"type\":\"BoxZoomTool\"},{\"attributes\":{\"fill_color\":{\"field\":\"color\"},\"line_color\":{\"field\":\"color\"},\"size\":{\"field\":\"size\",\"units\":\"screen\"},\"x\":{\"field\":\"x\"},\"y\":{\"field\":\"y\"}},\"id\":\"55618\",\"type\":\"Scatter\"},{\"attributes\":{},\"id\":\"55596\",\"type\":\"BasicTicker\"},{\"attributes\":{},\"id\":\"56217\",\"type\":\"Selection\"},{\"attributes\":{\"data_source\":{\"id\":\"55615\"},\"glyph\":{\"id\":\"55618\"},\"hover_glyph\":null,\"muted_glyph\":null,\"nonselection_glyph\":{\"id\":\"55619\"},\"selection_glyph\":null,\"view\":{\"id\":\"55621\"}},\"id\":\"55620\",\"type\":\"GlyphRenderer\"},{\"attributes\":{},\"id\":\"56214\",\"type\":\"UnionRenderers\"},{\"attributes\":{\"fill_alpha\":{\"value\":0.1},\"fill_color\":{\"field\":\"color\"},\"line_alpha\":{\"value\":0.1},\"line_color\":{\"field\":\"color\"},\"size\":{\"field\":\"size\",\"units\":\"screen\"},\"x\":{\"field\":\"x\"},\"y\":{\"field\":\"y\"}},\"id\":\"55619\",\"type\":\"Scatter\"},{\"attributes\":{\"data_source\":{\"id\":\"55614\"},\"glyph\":{\"id\":\"55623\"},\"hover_glyph\":null,\"muted_glyph\":null,\"nonselection_glyph\":{\"id\":\"55624\"},\"selection_glyph\":null,\"view\":{\"id\":\"55626\"}},\"id\":\"55625\",\"type\":\"GlyphRenderer\"},{\"attributes\":{\"fill_alpha\":{\"value\":0.5},\"fill_color\":{\"value\":\"red\"},\"line_alpha\":{\"value\":0.1},\"line_color\":{\"value\":\"red\"},\"size\":{\"units\":\"screen\",\"value\":10},\"x\":{\"field\":\"x\"},\"y\":{\"field\":\"y\"}},\"id\":\"55629\",\"type\":\"Circle\"},{\"attributes\":{},\"id\":\"56218\",\"type\":\"UnionRenderers\"},{\"attributes\":{\"fill_color\":{\"value\":\"red\"},\"line_color\":{\"value\":\"red\"},\"size\":{\"units\":\"screen\",\"value\":10},\"x\":{\"field\":\"x\"},\"y\":{\"field\":\"y\"}},\"id\":\"55630\",\"type\":\"Circle\"},{\"attributes\":{\"source\":{\"id\":\"55615\"}},\"id\":\"55621\",\"type\":\"CDSView\"},{\"attributes\":{},\"id\":\"55600\",\"type\":\"WheelZoomTool\"},{\"attributes\":{},\"id\":\"56212\",\"type\":\"BasicTickFormatter\"},{\"attributes\":{\"formatter\":{\"id\":\"56210\"},\"ticker\":{\"id\":\"55592\"}},\"id\":\"55591\",\"type\":\"LinearAxis\"},{\"attributes\":{},\"id\":\"55599\",\"type\":\"PanTool\"},{\"attributes\":{},\"id\":\"56215\",\"type\":\"Selection\"},{\"attributes\":{\"data\":{\"color\":[\"blue\",\"blue\",\"blue\",\"blue\",\"blue\",\"blue\",\"blue\",\"blue\",\"blue\",\"blue\",\"blue\",\"blue\",\"blue\",\"blue\",\"blue\",\"blue\",\"blue\",\"blue\",\"blue\",\"blue\",\"blue\",\"blue\",\"blue\",\"blue\",\"blue\",\"blue\",\"blue\",\"blue\",\"blue\",\"blue\",\"blue\",\"blue\",\"blue\",\"blue\",\"blue\",\"blue\",\"blue\",\"blue\",\"blue\",\"blue\",\"blue\",\"blue\",\"blue\",\"blue\",\"blue\",\"blue\",\"blue\",\"blue\",\"blue\",\"blue\"],\"size\":[4,4,4,4,4,4,4,4,4,4,4,4,4,4,4,4,4,4,4,4,4,4,4,4,4,4,4,4,4,4,4,4,4,4,4,4,4,4,4,4,4,4,4,4,4,4,4,4,4,4],\"x\":{\"__ndarray__\":\"7oE1ok6i1j/qL+6KCXLaP9KuP3ufXt6/KCnc1Oc+uj/QNwKox/Kqv8BygtnKKIU/QKM4iZeL0z+4nvGASwO3vwrByZP/jN0/hL9ZSR/22r8WxZObTHPRP7CS59nW9sy/2IRyK+Gzyb/8PDsfpfTBP8wG6Z6uM9q/ihpNDMcx3D+AKYF6RWCtv+SkoI5V3tk/IrNQ1+7q178IGzDF5DW5v0DB8l60r8K/9DeogytLx78gnRznQe+iv4DCgYFjA3C/4jJTz+YK2r86qgd0VZnVv6Su5uO+jc6/7pde/Q0U0L8qdVYA/ZLUP+T6OAAfVsE/TiesixMh2b+eT/dlZqzdP7zNHTZTisI/1Kf0MULc07+wc0Q/WcKqvzZ+B4wjPdu/GoGpC3oB1L+cSWAlDb/IP/DWyzyUm9C/5PJjZtqT3T9cRr+Y0X7Lv7wXx4DyysW/SCjYHfKeyD+kmlCfwuDJv4DQ3+v+73A/JEZcWTej2b9gRGZMtzLDP+58xEfdqte/Kgb/Nnfg1z/EkpycsvHSPw==\",\"dtype\":\"float64\",\"order\":\"little\",\"shape\":[50]},\"y\":{\"__ndarray__\":\"WEH/K24Qy7++sTnGlOzVP0rgjK5ljtA/al8IujVF0D9MtmFs0KfGP8SYzCjf+cS/2AM4ZDB1tj/ouj3LKP/bv4B6WITvJH4/LjWU/+Nb0D+ONRjzhlnQP5w9ECzIOtM/EGSgpUaj3j8YIs5Ue0LQvyQ4DhcSEca/4GzFZ+2Uyj8cXw5BeMTRPyiBrPc4d8G/mItWES15vL/keorF4PfCP3xmOtUSoss/0H3sA9v80L8AR6iTlH6rv3iMhnX/1Me/0DxZSZX30b+wo12CPo2wP2jTI6TOUsM/ECWmcw6K0j+Gnh6uGlzcP2poUYO9wtw/EG66GuB6r78Yns5AmbnJv96nJTCjeNe/OouDqbJk1D82PJq/3NbcP+5OYqbQ8N6/7j5XUM/X1r/wzdG2Fzjfv2Cu+bLtQ5c/LgUJ8EEF3T/wyby1QWC8v8Dx6ELvDM+/ULDaOBaHxr9Q+84q20LWv3A/2kT3sa2/MBaqe90nuz+wKTfxq3TDP0B2m8+V38u/3Pm0jj6Sxz/a/k8D8r3Vvw==\",\"dtype\":\"float64\",\"order\":\"little\",\"shape\":[50]}},\"selected\":{\"id\":\"56215\"},\"selection_policy\":{\"id\":\"56214\"}},\"id\":\"55615\",\"type\":\"ColumnDataSource\"},{\"attributes\":{},\"id\":\"56210\",\"type\":\"BasicTickFormatter\"},{\"attributes\":{\"source\":{\"id\":\"55613\"}},\"id\":\"55632\",\"type\":\"CDSView\"},{\"attributes\":{},\"id\":\"56219\",\"type\":\"Selection\"},{\"attributes\":{},\"id\":\"55592\",\"type\":\"BasicTicker\"},{\"attributes\":{\"source\":{\"id\":\"55614\"}},\"id\":\"55626\",\"type\":\"CDSView\"},{\"attributes\":{},\"id\":\"55587\",\"type\":\"LinearScale\"},{\"attributes\":{\"text\":\"Reduced Convex Hull with \\u03bc=0.038461538461538464\"},\"id\":\"55581\",\"type\":\"Title\"},{\"attributes\":{\"args\":{\"data\":{\"id\":\"55613\"},\"info\":[[[-0.0034326735691532634,0.24433184751002865],[12,39,34,29,28,1,33,11,27,16,2,9,10,3,20,15,48,4,46,26,19,45,6,25,38,8]],[[0.022093903157320783,0.2382098880077615],[39,28,29,1,34,12,15,10,48,3,16,11,33,27,46,6,20,4,8,9,2,19,26,45,17,25]],[[0.05290664212194144,0.22799328276731842],[39,28,29,1,34,12,15,10,48,3,16,11,33,27,46,6,20,8,4,19,9,2,26,17,45,31]],[[0.06847287498854837,0.22168268887447434],[39,28,1,29,34,12,15,10,48,3,16,6,46,11,8,33,27,4,20,19,9,2,26,17,31,44]],[[0.08191600249673327,0.21578113049991884],[39,28,1,29,15,34,10,48,12,3,16,8,6,46,11,27,33,4,20,19,17,9,31,26,2,0]],[[0.10756507818577625,0.19906233214789226],[39,28,1,29,15,10,48,34,12,3,8,6,46,16,11,4,17,27,31,20,33,19,0,26,9,42]],[[0.12392689493747937,0.18700052617543883],[39,28,1,29,15,48,10,34,8,3,12,6,46,16,17,31,4,11,20,27,33,19,0,42,26,44]],[[0.14449238691534944,0.16812810618059662],[39,1,28,15,48,29,10,8,6,34,3,46,31,17,12,16,0,4,20,11,42,19,27,49,33,44]],[[0.1618230403639882,0.14610103553510112],[39,1,28,15,48,8,29,10,6,31,17,3,34,46,0,12,16,4,42,49,20,19,11,44,27,13]],[[0.17006313264038794,0.13289425077458722],[39,1,28,15,48,8,10,29,6,31,17,3,46,0,34,16,49,42,12,4,13,19,20,44,11,22]],[[0.1770565166673526,0.12085432696017792],[39,1,28,15,48,8,10,29,31,6,17,3,0,46,34,49,42,16,12,4,13,19,44,20,32,11]],[[0.1843373357876436,0.10723267809633856],[39,1,28,15,48,8,10,29,31,6,17,0,3,46,34,49,42,16,12,4,13,19,44,20,32,22]],[[0.19319549209134085,0.09053658132722067],[39,1,28,15,48,8,10,29,31,6,17,0,3,46,34,49,42,16,12,4,13,19,44,20,32,37]],[[0.1992077532298285,0.07593046316034176],[39,1,15,28,8,48,31,10,17,6,29,0,46,3,49,34,42,16,13,4,37,32,12,44,19,5]],[[0.20550853590126666,0.05545293698090957],[39,1,15,8,28,48,31,17,10,6,0,29,46,49,3,42,34,13,37,32,16,4,44,5,22,19]],[[0.20914580974278388,0.04259227096847299],[39,15,8,1,31,48,17,28,0,6,10,49,29,42,46,3,37,13,32,34,44,5,16,23,4,22]],[[0.20769850149560803,0.008436007705450372],[31,8,15,39,17,1,0,48,49,6,28,10,37,42,32,13,46,29,3,5,23,44,22,7,4,16]],[[0.20335693065332097,-0.01157163823908091],[31,8,17,0,15,49,39,1,48,37,6,32,42,28,10,13,46,5,23,3,29,7,44,22,4,41]],[[0.1976054643228812,-0.031757286523624154],[31,8,17,0,49,15,37,39,48,1,6,32,42,13,10,28,46,5,23,7,44,3,29,22,43,41]],[[0.1853969176699268,-0.05925032807829756],[31,17,49,0,8,37,32,15,42,48,13,6,1,39,7,10,5,23,28,46,44,22,43,3,21,41]],[[0.16943105242995557,-0.08275595197388333],[31,37,49,0,17,8,32,13,42,15,7,6,48,1,23,5,39,10,43,44,46,21,41,22,28,36]],[[0.14069728040605242,-0.11839325116393033],[37,31,49,0,17,32,8,13,7,42,15,6,23,5,43,48,21,35,41,36,44,1,22,10,46,39]],[[0.10727171811760436,-0.1466310270413285],[37,49,31,0,32,17,13,8,7,42,43,23,5,6,15,35,48,21,41,36,44,22,1,46,10,24]],[[0.08852287164117924,-0.16071979872445416],[37,49,31,32,0,17,7,13,8,42,43,23,5,35,6,21,36,41,15,48,44,22,24,1,46,40]],[[0.058406947915181154,-0.1822707812712679],[37,49,31,32,0,17,7,13,42,8,43,35,23,5,36,21,41,6,15,48,44,22,24,47,40,46]],[[0.036891961162075576,-0.19474747325231154],[37,49,31,32,0,7,17,13,42,35,8,43,36,23,5,21,41,6,24,44,22,15,47,48,40,14]],[[0.008169289287369106,-0.20610803185068496],[37,49,32,7,31,0,35,13,17,43,36,42,21,23,41,5,8,24,47,44,22,40,14,6,18,15]],[[0.005574563080455284,-0.2070126233372639],[37,49,32,7,31,35,0,13,43,17,36,42,21,41,23,5,24,8,47,44,22,40,14,6,18,48]],[[-0.023876172235678762,-0.21646011809879862],[37,49,7,32,35,31,0,13,43,36,17,42,21,41,23,5,24,8,47,44,14,40,22,6,18,30]],[[-0.045602741755325284,-0.2189603334244731],[37,35,7,32,36,43,49,24,21,13,41,47,0,31,23,42,14,5,17,18,40,30,44,22,8,38]],[[-0.07634176517062696,-0.2167566498935776],[35,7,36,37,43,24,47,32,21,14,41,49,18,13,23,30,40,5,42,0,22,31,44,38,25,17]],[[-0.10729492400958657,-0.20742865269965424],[35,36,7,24,43,37,47,21,14,41,32,18,49,30,13,40,23,5,42,38,25,0,22,44,45,31]],[[-0.14337849280032852,-0.18974912361583868],[35,36,24,7,43,47,37,14,21,41,18,32,30,40,49,23,13,5,38,25,45,42,22,44,0,2]],[[-0.17318343706021652,-0.17178575926882975],[35,36,24,7,43,47,14,21,37,18,41,30,32,40,23,13,45,25,5,38,49,22,44,2,42,9]],[[-0.1897623360715453,-0.15921029399653802],[35,36,24,47,43,7,14,21,18,41,30,37,40,32,45,25,23,38,5,13,2,49,22,9,44,26]],[[-0.2130823581309815,-0.133888584115133],[35,24,36,47,14,43,7,18,30,21,41,40,45,25,2,38,37,9,32,23,5,26,22,13,44,33]],[[-0.22290386452917563,-0.12051648049396818],[35,24,36,14,47,18,43,30,7,21,41,45,40,25,2,38,9,37,23,26,32,5,33,22,27,13]],[[-0.22814014704151217,-0.11297573711867652],[35,24,36,14,47,18,43,30,7,21,41,45,2,25,40,9,38,37,26,23,32,5,33,22,27,44]],[[-0.23700238028359763,-0.09918876939418624],[35,24,36,14,47,18,30,43,45,7,21,2,41,25,40,9,38,26,33,23,27,37,5,22,32,11]],[[-0.24818828118397948,-0.07678024175824723],[35,24,14,36,47,18,30,43,2,45,21,25,9,7,41,40,38,26,33,27,23,11,5,22,20,37]],[[-0.2594117052662088,-0.05231915486185519],[35,24,14,47,36,30,18,2,45,9,43,25,21,38,40,41,7,33,26,27,11,20,23,22,19,5]],[[-0.2675322322027174,-0.027604114337073778],[35,24,14,47,30,2,36,18,45,9,25,43,38,21,40,41,33,7,26,27,11,20,12,19,23,22]],[[-0.26940623343295733,-0.013635500444508147],[35,2,24,14,30,47,9,45,18,36,25,33,38,43,40,26,27,21,41,11,12,7,20,19,22,4]],[[-0.27019059797710254,-0.0008925516719323926],[2,35,24,14,9,45,30,18,47,25,36,33,38,27,26,40,11,43,21,12,41,20,7,19,16,4]],[[-0.270176386385316,0.009631212651927625],[2,9,35,14,24,45,30,18,47,25,33,36,38,27,26,11,40,12,43,21,41,20,19,7,16,34]],[[-0.2687432897299267,0.03326371159109023],[2,9,45,14,30,35,24,18,47,25,33,36,27,38,11,26,12,40,43,20,21,41,19,34,16,4]],[[-0.2557581995145687,0.06392588765159928],[2,9,33,45,12,27,11,25,30,14,18,26,24,38,47,34,20,35,16,19,40,36,4,29,21,41]],[[-0.2448157430214305,0.08391270734085085],[2,9,33,12,45,27,11,25,30,26,14,18,34,38,20,24,47,16,19,35,40,4,29,36,3,41]],[[-0.2396898076349983,0.09117740451280643],[2,9,12,33,45,27,11,25,34,30,26,20,18,14,38,16,47,24,19,29,4,40,3,35,36,22]],[[-0.22590315023590526,0.1102859315152604],[2,9,12,33,45,27,11,25,34,26,30,20,18,14,38,16,47,19,24,29,4,40,3,35,36,28]],[[-0.21095603561109516,0.12681470370285342],[2,9,12,33,27,11,45,34,25,26,20,30,16,38,18,29,14,19,4,47,24,3,40,28,36,22]],[[-0.19316467550084052,0.1463885507120285],[2,9,12,33,27,11,45,34,25,26,20,30,16,29,38,18,14,19,4,47,24,3,40,28,46,22]],[[-0.17396733404213346,0.16589416621908049],[2,12,9,33,27,11,34,45,25,26,20,16,30,29,38,18,19,14,4,3,47,28,24,40,46,39]],[[-0.1692489848924863,0.16987363803521835],[12,2,9,33,34,27,11,45,29,26,25,20,16,30,38,19,4,28,18,3,14,39,47,40,24,10]],[[-0.14782973063461474,0.18651726543710112],[12,2,9,33,34,27,11,45,29,26,20,16,25,30,19,4,38,28,3,18,14,39,47,10,40,46]],[[-0.13770569012745212,0.19384675510097588],[12,2,9,33,34,27,11,45,29,26,20,16,25,30,19,4,28,38,3,18,14,39,10,47,40,1]],[[-0.12367519280067414,0.2039560549679637],[12,2,9,33,34,27,11,45,29,26,20,16,25,30,19,4,28,38,3,18,39,14,10,1,47,46]],[[-0.11771380690861664,0.2080682479839148],[12,2,9,33,34,27,11,45,29,16,20,26,25,28,19,4,30,38,3,39,18,14,10,1,46,40]],[[-0.09510292234154692,0.21941418199165544],[12,34,2,33,9,27,11,29,16,28,45,20,26,39,25,3,4,19,1,38,10,30,46,18,48,14]],[[-0.062412822141235766,0.23403209960003094],[12,34,2,33,9,29,11,27,28,16,39,20,45,26,3,4,25,1,19,10,38,46,30,48,15,18]],[[-0.03629323804763203,0.2416840096923264],[12,34,29,33,2,9,11,27,28,39,16,20,1,3,26,45,4,10,19,25,46,38,15,48,30,6]],[[-0.0034326735691532634,0.24433184751002865],[12,39,34,29,28,1,33,11,27,16,2,9,10,3,20,15,48,4,46,26,19,45,6,25,38,8]]],\"pts\":{\"id\":\"55615\"}},\"code\":\"\\n    var selected = data.selected.indices[0];\\n    var support = info[selected][1] ; \\n    var special = info[selected][1][info[selected][1].length-1] ; \\n    for(let i=0; i<pts.data['color'].length;i++){\\n        pts.data['color'][i]=support.includes(i)?'green':'blue'; \\n        pts.data['size'][i]=support.includes(i)?10:4 ; \\n    }\\n    pts.data['color'][special]='#33ee00' ;\\n    pts.change.emit() ;\\n\"},\"id\":\"55616\",\"type\":\"CustomJS\"},{\"attributes\":{},\"id\":\"55585\",\"type\":\"DataRange1d\"},{\"attributes\":{\"line_color\":\"red\",\"x\":{\"field\":\"x\"},\"y\":{\"field\":\"y\"}},\"id\":\"55623\",\"type\":\"Line\"},{\"attributes\":{\"data\":{\"x\":{\"__ndarray__\":\"YJb0ltYebL9tuQG+yJ+WP/VQT1OUFqs/UCm9NnCHsT8JFr53cvi0P0Pl/4xiibs/6+7ZSKy5vz+KRCn+uX7CP5AiDQ2etsQ/Mw959KDExT95olC2yanGP67hUaZdmMc/8ioiQKG6yD8Lqp3Ao3/JPwZVX4waTso/sWh4NkrFyj82Ca1P3ZXKPwEVSZOZB8o/rYpjxyJLyT8H9RURFrvHP9eHjq7qr8U/H3X9VF4Cwj++0BnJKHa7P1GZpVZvqbY/OkxP9oPnrT9MU1rNgOOiP6UGkXIPu4A/vrPrYVrVdj8qpZ/L/nKYv33k5Bg+Wae/mAy6SCKLs7/84aUdrne7v7d6w/g5WsK/5/Uw998qxr/yTLjZIUrIv9d4w19IRsu/dwQnJB2IzL+jVTlDsjPNv9czMhAYVs6/L8N3M6LEz79sWZSNM5rQv2zw+4I/H9G/zrd7pPM90b/K5H+BzUrRvwFK6+WRStG/DTUaDhcz0b+iVKajV17Qv4xX6UwfVs+/Ygl91ieuzr+hzSn5ZOrMv6r263ybAMu/QWACvp65yL83QiTFj0TGv2BJf2PzqcW/XuA5qRXswr+zBskNV6DBv6XHZ2wtqb+/h8319n0ivr8/AjZFqli4v0415cuS9K+/Cgf2/AaVor8=\",\"dtype\":\"float64\",\"order\":\"little\",\"shape\":[61]},\"y\":{\"__ndarray__\":\"b6I2F0RGzz9S4ElfqX3OP3u+mEbiLs0/IhFnLRlgzD/Xp0tRt57LP2xoON/fesk/CBAhHKLvxz8Rw8rGOIXFP6h6xFBws8I/gp5zxq0CwT8Wwt8lT/C+Pyt8fM2Zc7s/2l3kx2cttz+FNgvILXCzP/6tmc1TZKw/xXG+dafOpT93NKHJ5UaBP3xLYv7esoe/eq0Otn1CoL8RQ78aD1auv/r0Rnt+L7W/I/LQJQVPvr/BVtw0zsTCv4etq2N3ksS/mslJIqZUx7+/dEw2fO3Iv1ntHny/Ycq/FN6Lv2N/yr+Ysg8U97TLv4X1lmfkBsy/SeE9ka6+y7/3lsynBY3Kv8r1LwSzSci/GzT9ZBP9xb8eavO+AGHEv+KGCtlCI8G/7MFZBivavr+rjCpY+uu8vzOzrWhvZLm/LaVUs96ns7/KCyyGk8mqv4JIQMFARJy/kEDK4+3si78YHdceRD9Nv6EF43qHuYM/M8ja8vAHoT/r1dRscl2wPxZuv51Ne7U/QESEAmdXtz/sIhHlsju8P7Qgh9Z2O8A/dJPoKty8wj+wCkEhBTzFP78q6FtrvsU/pImYOczfxz+2Fcxw+M/IP25M9GQ7G8o/taU2+Pqhyj9tZPePwxXMP1GI/4rD9M0/xB7MaoDvzj8=\",\"dtype\":\"float64\",\"order\":\"little\",\"shape\":[61]}},\"selected\":{\"id\":\"56219\"},\"selection_policy\":{\"id\":\"56218\"}},\"id\":\"55613\",\"type\":\"ColumnDataSource\"},{\"attributes\":{},\"id\":\"55589\",\"type\":\"LinearScale\"},{\"attributes\":{\"callback\":{\"id\":\"55616\"},\"renderers\":[{\"id\":\"55631\"}]},\"id\":\"55633\",\"type\":\"TapTool\"},{\"attributes\":{\"axis\":{\"id\":\"55591\"},\"ticker\":null},\"id\":\"55594\",\"type\":\"Grid\"},{\"attributes\":{\"data_source\":{\"id\":\"55613\"},\"glyph\":{\"id\":\"55628\"},\"hover_glyph\":null,\"muted_glyph\":null,\"nonselection_glyph\":{\"id\":\"55629\"},\"selection_glyph\":{\"id\":\"55630\"},\"view\":{\"id\":\"55632\"}},\"id\":\"55631\",\"type\":\"GlyphRenderer\"},{\"attributes\":{},\"id\":\"55603\",\"type\":\"ResetTool\"},{\"attributes\":{},\"id\":\"55602\",\"type\":\"SaveTool\"},{\"attributes\":{\"formatter\":{\"id\":\"56212\"},\"ticker\":{\"id\":\"55596\"}},\"id\":\"55595\",\"type\":\"LinearAxis\"},{\"attributes\":{\"axis\":{\"id\":\"55595\"},\"dimension\":1,\"ticker\":null},\"id\":\"55598\",\"type\":\"Grid\"},{\"attributes\":{\"bottom_units\":\"screen\",\"fill_alpha\":0.5,\"fill_color\":\"lightgrey\",\"left_units\":\"screen\",\"level\":\"overlay\",\"line_alpha\":1.0,\"line_color\":\"black\",\"line_dash\":[4,4],\"line_width\":2,\"right_units\":\"screen\",\"top_units\":\"screen\"},\"id\":\"55605\",\"type\":\"BoxAnnotation\"},{\"attributes\":{},\"id\":\"56216\",\"type\":\"UnionRenderers\"},{\"attributes\":{},\"id\":\"55604\",\"type\":\"HelpTool\"},{\"attributes\":{\"line_alpha\":0.1,\"line_color\":\"red\",\"x\":{\"field\":\"x\"},\"y\":{\"field\":\"y\"}},\"id\":\"55624\",\"type\":\"Line\"}],\"root_ids\":[\"55580\"]},\"title\":\"Bokeh Application\",\"version\":\"2.1.1\"}};\n",
       "  var render_items = [{\"docid\":\"64a25726-9a41-4f43-9489-5390aa6a2e05\",\"root_ids\":[\"55580\"],\"roots\":{\"55580\":\"38dde719-1b7c-4a43-ada8-76ef5c9d445e\"}}];\n",
       "  root.Bokeh.embed.embed_items_notebook(docs_json, render_items);\n",
       "\n",
       "  }\n",
       "  if (root.Bokeh !== undefined) {\n",
       "    embed_document(root);\n",
       "  } else {\n",
       "    var attempts = 0;\n",
       "    var timer = setInterval(function(root) {\n",
       "      if (root.Bokeh !== undefined) {\n",
       "        clearInterval(timer);\n",
       "        embed_document(root);\n",
       "      } else {\n",
       "        attempts++;\n",
       "        if (attempts > 100) {\n",
       "          clearInterval(timer);\n",
       "          console.log(\"Bokeh: ERROR: Unable to run BokehJS code because BokehJS library is missing\");\n",
       "        }\n",
       "      }\n",
       "    }, 10, root)\n",
       "  }\n",
       "})(window);"
      ],
      "application/vnd.bokehjs_exec.v0+json": ""
     },
     "metadata": {
      "application/vnd.bokehjs_exec.v0+json": {
       "id": "55580"
      }
     },
     "output_type": "display_data"
    }
   ],
   "source": [
    "show(L.fig)"
   ]
  },
  {
   "cell_type": "code",
   "execution_count": 119,
   "metadata": {},
   "outputs": [],
   "source": [
    "for i in np.arange(1,20):\n",
    "    mu = 1/i\n",
    "    S = RCH(points,mu)\n",
    "    f.line(x=S.vertices[:,0],y=S.vertices[:,1],color='red')"
   ]
  },
  {
   "cell_type": "code",
   "execution_count": 120,
   "metadata": {},
   "outputs": [
    {
     "data": {
      "text/html": [
       "\n",
       "\n",
       "\n",
       "\n",
       "\n",
       "\n",
       "  <div class=\"bk-root\" id=\"4651a560-9496-47fd-928a-ccaa87b37683\" data-root-id=\"6749\"></div>\n"
      ]
     },
     "metadata": {},
     "output_type": "display_data"
    },
    {
     "data": {
      "application/javascript": [
       "(function(root) {\n",
       "  function embed_document(root) {\n",
       "    \n",
       "  var docs_json = {\"e9843104-60d5-4859-8c79-72e49da80f40\":{\"roots\":{\"references\":[{\"attributes\":{\"aspect_ratio\":1.0,\"below\":[{\"id\":\"6760\"}],\"center\":[{\"id\":\"6763\"},{\"id\":\"6767\"}],\"left\":[{\"id\":\"6764\"}],\"renderers\":[{\"id\":\"6789\"},{\"id\":\"6794\"},{\"id\":\"6800\"},{\"id\":\"7171\"},{\"id\":\"7556\"},{\"id\":\"7857\"},{\"id\":\"8160\"},{\"id\":\"8465\"},{\"id\":\"8772\"},{\"id\":\"9081\"},{\"id\":\"9392\"},{\"id\":\"9705\"},{\"id\":\"10020\"},{\"id\":\"10529\"},{\"id\":\"10848\"},{\"id\":\"11169\"},{\"id\":\"11492\"},{\"id\":\"11817\"},{\"id\":\"12144\"},{\"id\":\"12473\"},{\"id\":\"12804\"},{\"id\":\"13137\"},{\"id\":\"13472\"},{\"id\":\"13809\"},{\"id\":\"14148\"},{\"id\":\"14489\"},{\"id\":\"14832\"},{\"id\":\"15177\"},{\"id\":\"15524\"},{\"id\":\"15873\"},{\"id\":\"16224\"},{\"id\":\"16577\"}],\"title\":{\"id\":\"6750\"},\"toolbar\":{\"id\":\"6775\"},\"x_range\":{\"id\":\"6752\"},\"x_scale\":{\"id\":\"6756\"},\"y_range\":{\"id\":\"6754\"},\"y_scale\":{\"id\":\"6758\"}},\"id\":\"6749\",\"subtype\":\"Figure\",\"type\":\"Plot\"},{\"attributes\":{},\"id\":\"7411\",\"type\":\"Selection\"},{\"attributes\":{\"line_alpha\":0.1,\"line_color\":\"red\",\"x\":{\"field\":\"x\"},\"y\":{\"field\":\"y\"}},\"id\":\"7856\",\"type\":\"Line\"},{\"attributes\":{},\"id\":\"9961\",\"type\":\"Selection\"},{\"attributes\":{\"data_source\":{\"id\":\"9389\"},\"glyph\":{\"id\":\"9390\"},\"hover_glyph\":null,\"muted_glyph\":null,\"nonselection_glyph\":{\"id\":\"9391\"},\"selection_glyph\":null,\"view\":{\"id\":\"9393\"}},\"id\":\"9392\",\"type\":\"GlyphRenderer\"},{\"attributes\":{\"source\":{\"id\":\"7854\"}},\"id\":\"7858\",\"type\":\"CDSView\"},{\"attributes\":{},\"id\":\"7035\",\"type\":\"UnionRenderers\"},{\"attributes\":{\"data\":{\"x\":{\"__ndarray__\":\"jTfNt7NBsL9Fpevy24e2P6DV3epOIdE/tgTeJFiA1z9MSuLXBc/WP64cTBbzhtM/enAooOs10T/YT+RnMgjLP0v0hWNec78/iK7LGLtqeb+xxB5ygeGmv6gp8yJTZLq/ggECyEXDx78+1Wax3m/OvzZAEljcb9O/rgi35kkT17+2HpM0pU7Zv4Bi+hf1p9m/kb9cWgaL1L+2Br0vf6HKv403zbezQbC/\",\"dtype\":\"float64\",\"order\":\"little\",\"shape\":[21]},\"y\":{\"__ndarray__\":\"dkwEYw1X1z+kuKUsFXnVP6RDWKWWGs8/9HlxaDbYsj8fhbMVMsCRv/um6/jHoMO/eWaItGRRzb88J6yqsUPSvwjbKioqjda/U7RZ3hB227/GH+CQUSjcv+hUz4EzXNy/Jr+NH9QZ279KiJ7f7LjZvy4MUHmxDNS/HRAMOJSZxb8jCUf2Atqhv91p8Z2+HL4/oChAoTAC0j8SozdUVADXP3ZMBGMNV9c/\",\"dtype\":\"float64\",\"order\":\"little\",\"shape\":[21]}},\"selected\":{\"id\":\"9022\"},\"selection_policy\":{\"id\":\"9021\"}},\"id\":\"8769\",\"type\":\"ColumnDataSource\"},{\"attributes\":{},\"id\":\"9960\",\"type\":\"UnionRenderers\"},{\"attributes\":{\"line_color\":\"red\",\"x\":{\"field\":\"x\"},\"y\":{\"field\":\"y\"}},\"id\":\"7855\",\"type\":\"Line\"},{\"attributes\":{\"line_color\":\"red\",\"x\":{\"field\":\"x\"},\"y\":{\"field\":\"y\"}},\"id\":\"8770\",\"type\":\"Line\"},{\"attributes\":{\"bottom_units\":\"screen\",\"fill_alpha\":0.5,\"fill_color\":\"lightgrey\",\"left_units\":\"screen\",\"level\":\"overlay\",\"line_alpha\":1.0,\"line_color\":\"black\",\"line_dash\":[4,4],\"line_width\":2,\"right_units\":\"screen\",\"top_units\":\"screen\"},\"id\":\"6774\",\"type\":\"BoxAnnotation\"},{\"attributes\":{\"source\":{\"id\":\"8769\"}},\"id\":\"8773\",\"type\":\"CDSView\"},{\"attributes\":{\"line_alpha\":0.1,\"line_color\":\"red\",\"x\":{\"field\":\"x\"},\"y\":{\"field\":\"y\"}},\"id\":\"8771\",\"type\":\"Line\"},{\"attributes\":{\"data\":{\"x\":{\"__ndarray__\":\"hn3u8Spvsb9vworQJLKSvwCZa2Oh7G6/7KsuKRangD9wvn3uXjJ9P8JfnnEVDFI/1Bgupd7LjL+alwRqiKCcv5A9W4azZau/oFelSrCNsr/8EZH7k+O1v7gfsH5nRLe/c40ZmAAduL/aNumrIHS3v4Z97vEqb7G/\",\"dtype\":\"float64\",\"order\":\"little\",\"shape\":[15]},\"y\":{\"__ndarray__\":\"5Nl/ErX/eb/AjP+avTOAv5Ch/ItjKYW/S62obMCNrr9/h2brMpK5v2DKjk4KTLq/d62fvf3rur9892/eCa+6v1xaTjpUhbm/7EWjP+WLuL89HyDl0RW2vyBiEOfApLG/wdGP7E0Hpr/2539uXJigv+TZfxK1/3m/\",\"dtype\":\"float64\",\"order\":\"little\",\"shape\":[15]}},\"selected\":{\"id\":\"16518\"},\"selection_policy\":{\"id\":\"16517\"}},\"id\":\"16221\",\"type\":\"ColumnDataSource\"},{\"attributes\":{\"data\":{\"x\":{\"__ndarray__\":\"E4X//qdSv7/qvfq/bIOWP4Lcg+du/ME/7DbkJAD6xT+rxFai8vrPPyhwQ41zNdM/kokrrKtM1T/DTg48wInTPwuO6ZKmDtA/aIYHb9aIwD9tfPGL2b6vP05fLiet3rO//o+Hg21NyL8IarrzsGnQvzSr2YIxpNS/m86w7sF61b/u/GIkYqzXvyWwFl1LYNi/MDvGenfB1b9I/RGmZ6fNvxOF//6nUr+/\",\"dtype\":\"float64\",\"order\":\"little\",\"shape\":[21]},\"y\":{\"__ndarray__\":\"oCXeKppt1j+e3ELdrGrVP8RpA3bD0tE/mImdp4R70D+A25puF9jHPzvvHi8fq78/Jq1XQcIapz9cn8m2/auzv+xcoLHkgcq/9WQQhqvU07+2G3zohvTWv6l/aBN9oNu/0H/qNsJt2b+0XdtAiMjVv3lI0G60dcu/zCNIvXOwx7+G2KmmZRa4v27HFZGum5o/63AvA3OHxD8Zcay/2NHSP6Al3iqabdY/\",\"dtype\":\"float64\",\"order\":\"little\",\"shape\":[21]}},\"selected\":{\"id\":\"9333\"},\"selection_policy\":{\"id\":\"9332\"}},\"id\":\"9078\",\"type\":\"ColumnDataSource\"},{\"attributes\":{\"data_source\":{\"id\":\"10526\"},\"glyph\":{\"id\":\"10527\"},\"hover_glyph\":null,\"muted_glyph\":null,\"nonselection_glyph\":{\"id\":\"10528\"},\"selection_glyph\":null,\"view\":{\"id\":\"10530\"}},\"id\":\"10529\",\"type\":\"GlyphRenderer\"},{\"attributes\":{},\"id\":\"7037\",\"type\":\"UnionRenderers\"},{\"attributes\":{\"line_color\":\"red\",\"x\":{\"field\":\"x\"},\"y\":{\"field\":\"y\"}},\"id\":\"16222\",\"type\":\"Line\"},{\"attributes\":{},\"id\":\"7038\",\"type\":\"Selection\"},{\"attributes\":{\"line_color\":\"red\",\"x\":{\"field\":\"x\"},\"y\":{\"field\":\"y\"}},\"id\":\"9079\",\"type\":\"Line\"},{\"attributes\":{\"source\":{\"id\":\"9078\"}},\"id\":\"9082\",\"type\":\"CDSView\"},{\"attributes\":{\"line_alpha\":0.1,\"line_color\":\"red\",\"x\":{\"field\":\"x\"},\"y\":{\"field\":\"y\"}},\"id\":\"9080\",\"type\":\"Line\"},{\"attributes\":{\"line_color\":\"red\",\"x\":{\"field\":\"x\"},\"y\":{\"field\":\"y\"}},\"id\":\"10846\",\"type\":\"Line\"},{\"attributes\":{},\"id\":\"9021\",\"type\":\"UnionRenderers\"},{\"attributes\":{\"data_source\":{\"id\":\"14486\"},\"glyph\":{\"id\":\"14487\"},\"hover_glyph\":null,\"muted_glyph\":null,\"nonselection_glyph\":{\"id\":\"14488\"},\"selection_glyph\":null,\"view\":{\"id\":\"14490\"}},\"id\":\"14489\",\"type\":\"GlyphRenderer\"},{\"attributes\":{},\"id\":\"9022\",\"type\":\"Selection\"},{\"attributes\":{\"text\":\"Reduced Convex Hull with \\u03bc=0.3\"},\"id\":\"6750\",\"type\":\"Title\"},{\"attributes\":{\"data\":{\"x\":{\"__ndarray__\":\"foxupfDSpL8cCBQtb5CzP1VdY6TxxsU/QvebhEnv0T9Oruyf9ArTPzg7Ir8zttI/NIR5ofOP0D8lGx85ThnNPxwJhn76Y8Y/Qm2CRUB8sz/EtpTIv1SCv4qPn3fsvri/m46oWp/xx78rKyEm7jnLvxkSvYveP8+/Mpvfb5Lg0b/4FUXZVzjWv2p+kZLVG9e/u/iVd43S1r+AzJwVQTfVvwqq6EtQNNS/dBbdb9eu0L+3x0N444fMv1cNP0fY0cO/foxupfDSpL8=\",\"dtype\":\"float64\",\"order\":\"little\",\"shape\":[25]},\"y\":{\"__ndarray__\":\"vab0Lero1D+5SqFw40vSP9nAU5r5eco/BHfK+f2Vtz/iC72qrXOaP1hZ8AqhUY6/PkGl66Ehwb+yLunwd13Iv2Ay1K7Hn86/HmR+98OQ1L/xKBY5rr3Xv7rk4ZZVHtq/1k+8vXMj178XgYHrKBjWv757+DOLA9S/iB3c62ce0L9ku2nMSWa+v9A7MFRhI6G/AMoEw6I0kL+yIE7YvWKzP0jvOqa00r0/7nqr0tkhyD8ptK4G2ZPNPwCfc7EB7dI/vab0Lero1D8=\",\"dtype\":\"float64\",\"order\":\"little\",\"shape\":[25]}},\"selected\":{\"id\":\"9646\"},\"selection_policy\":{\"id\":\"9645\"}},\"id\":\"9389\",\"type\":\"ColumnDataSource\"},{\"attributes\":{\"source\":{\"id\":\"16574\"}},\"id\":\"16578\",\"type\":\"CDSView\"},{\"attributes\":{},\"id\":\"16518\",\"type\":\"Selection\"},{\"attributes\":{\"line_alpha\":0.1,\"line_color\":\"red\",\"x\":{\"field\":\"x\"},\"y\":{\"field\":\"y\"}},\"id\":\"11816\",\"type\":\"Line\"},{\"attributes\":{\"line_alpha\":0.1,\"line_color\":\"red\",\"x\":{\"field\":\"x\"},\"y\":{\"field\":\"y\"}},\"id\":\"16576\",\"type\":\"Line\"},{\"attributes\":{\"line_color\":\"red\",\"x\":{\"field\":\"x\"},\"y\":{\"field\":\"y\"}},\"id\":\"9390\",\"type\":\"Line\"},{\"attributes\":{},\"id\":\"7039\",\"type\":\"UnionRenderers\"},{\"attributes\":{\"source\":{\"id\":\"9389\"}},\"id\":\"9393\",\"type\":\"CDSView\"},{\"attributes\":{\"source\":{\"id\":\"13806\"}},\"id\":\"13810\",\"type\":\"CDSView\"},{\"attributes\":{\"source\":{\"id\":\"16221\"}},\"id\":\"16225\",\"type\":\"CDSView\"},{\"attributes\":{},\"id\":\"7040\",\"type\":\"Selection\"},{\"attributes\":{\"data\":{\"color\":[\"blue\",\"blue\",\"blue\",\"blue\",\"blue\",\"blue\",\"blue\",\"blue\",\"blue\",\"blue\",\"blue\",\"blue\",\"blue\",\"blue\",\"blue\",\"blue\",\"blue\",\"blue\",\"blue\",\"blue\"],\"size\":[4,4,4,4,4,4,4,4,4,4,4,4,4,4,4,4,4,4,4,4],\"x\":{\"__ndarray__\":\"ELULRhsIor8aZ936eGLWvxCo5KYlAs+/QLIz4H+tlL/gKFOHIXupPyzCvljbqdq/UqXVHK3R279Ihm5lysrFv6iMvm1pw9w/WIeoJ4q4079gNKS2+vnRv/CMf+F0mag/eFgjLTQAy7/MdD+5KprdP/AqzlmpArY/LEnZ+MGX0z/AQ16hmpTEP5SWyd89sd+/+AblxnnL2T/oizOj0YHLPw==\",\"dtype\":\"float64\",\"order\":\"little\",\"shape\":[20]},\"y\":{\"__ndarray__\":\"bo4gxGry1z8gRlw4ibSgvxpfEqBW+di/TvWTJrpz3r9sVWbr7PXXv3hjHxJa3tE/VniyHJp03L8AYE7NOcvCv9Ra94CUmcc/epBUUKMi1T+QmQXPjKnbv9D4DW1Pq76/JEO6q2gR0b86Qq7WyUHev6gyPNnWBbe/bLIeXPeP0z9QWjBGyei4v37RtyYcLt0/gCgIykY1e79428lXIeDWPw==\",\"dtype\":\"float64\",\"order\":\"little\",\"shape\":[20]}},\"selected\":{\"id\":\"7036\"},\"selection_policy\":{\"id\":\"7035\"}},\"id\":\"6784\",\"type\":\"ColumnDataSource\"},{\"attributes\":{\"line_alpha\":0.1,\"line_color\":\"red\",\"x\":{\"field\":\"x\"},\"y\":{\"field\":\"y\"}},\"id\":\"9391\",\"type\":\"Line\"},{\"attributes\":{\"data\":{\"x\":{\"__ndarray__\":\"m4ZFpCD50L+g0C8OVfDBv6SesNHK/7Y/kIc5ZVWs0D/q6kuzlS3YP9DJUZpxR9s/ugB/E8ou3T/iPRJA0rLbP6g5PLtST8w/duDYGoUczb/Z7Lzp0+XWv/OdT351wd2/YCxEnIwt3b/2DrkD5LTZv5uGRaQg+dC/\",\"dtype\":\"float64\",\"order\":\"little\",\"shape\":[15]},\"y\":{\"__ndarray__\":\"9i9sdUOQ2j971kC/HgfaP/M09Q1Gadc/8kb0WQw41T/WX5qcwVzPP5AZp0rqv7Y/0JQylv90wr/cYtbxnq7Ov8Qbof7BWt6/0jajISp03b/zCNx1Ew/cvwAlq0BBMHc/e5prHDuG1z/8MIa7XyjZP/YvbHVDkNo/\",\"dtype\":\"float64\",\"order\":\"little\",\"shape\":[15]}},\"selected\":{\"id\":\"11110\"},\"selection_policy\":{\"id\":\"11109\"}},\"id\":\"10845\",\"type\":\"ColumnDataSource\"},{\"attributes\":{\"data\":{\"x\":{\"__ndarray__\":\"2PT1fbfaVj+7HuKG8jqjP+CEvDbsQrM/R8bk7EwTvj8SS02/CWHFP2MqsQzNusg/wDNtuYwoxz8iApEQEFLGP4h3boMsjcA/o9v76asRtT9EvJeJeLmvP1DRw4h5l18//qKIAHKyqb9Og9R49bq4v4vyoVCqNsK/EMZdD6Zbzb/wkMIwWMDQv7rquj7tPtG/fCxZvEnZ0L+iSVnjiMHPv8cVetXtX8m/K6f88drsyL+CmrDdFIzFv00KjaQVG8W/l5U5Q2fgwL8/SEFF3aK1v2sGDTe0N6+/KGL7L1hjnb/Y9PV9t9pWPw==\",\"dtype\":\"float64\",\"order\":\"little\",\"shape\":[29]},\"y\":{\"__ndarray__\":\"XiMGLRD6xz+nmYcjYfbGP6cBupju2sI/gMg4OLVsvD91XURjkjOiPw6+ZK0OUaO/cl5vIIrItb9itQoen3K7v/lvn8Sd6ca/z1aY9JeSzb+QvdzxoKTPvzKjZ44mctK/rgG55vJC078/xn5unuLSv2owRlzRvNC/+kVL0Burxr+rt4yCem7Bv9eQojkycbG/cj+WmUhQor/gsJtz2TF/P+SSS2cLJbI/tNbppk0fsz+q4nruZWq5PyPG055ZHLo/Q3l3tk8/wD+p0qD34V/EP45TWWNxFcY/BDYBb4hmxz9eIwYtEPrHPw==\",\"dtype\":\"float64\",\"order\":\"little\",\"shape\":[29]}},\"selected\":{\"id\":\"14089\"},\"selection_policy\":{\"id\":\"14088\"}},\"id\":\"13806\",\"type\":\"ColumnDataSource\"},{\"attributes\":{},\"id\":\"9332\",\"type\":\"UnionRenderers\"},{\"attributes\":{},\"id\":\"9333\",\"type\":\"Selection\"},{\"attributes\":{\"line_color\":\"red\",\"x\":{\"field\":\"x\"},\"y\":{\"field\":\"y\"}},\"id\":\"13807\",\"type\":\"Line\"},{\"attributes\":{\"data_source\":{\"id\":\"7553\"},\"glyph\":{\"id\":\"7554\"},\"hover_glyph\":null,\"muted_glyph\":null,\"nonselection_glyph\":{\"id\":\"7555\"},\"selection_glyph\":null,\"view\":{\"id\":\"7557\"}},\"id\":\"7556\",\"type\":\"GlyphRenderer\"},{\"attributes\":{\"args\":{\"data\":{\"id\":\"6782\"},\"info\":[[[-0.12546738502437213,0.389285948149067],[17,0,19,9]],[[-0.06403978876571241,0.3868282351662467],[19,17,0,15]],[[0.09622631718346336,0.3567727698781346],[19,15,0,17]],[[0.19068831380694484,0.3296162762297205],[19,15,0,8]],[[0.2876173317270012,0.29165696215832265],[15,8,19,0]],[[0.33144355858452507,0.25357560534196366],[8,15,19,18]],[[0.36907254104166376,0.18076111936265007],[8,15,18,19]],[[0.3938360752268796,0.09774159618263434],[8,18,15,13]],[[0.4251154842329504,-0.05794388576811953],[8,13,18,15]],[[0.41058023221275325,-0.0982402896145557],[13,18,8,16]],[[0.3994784826949376,-0.12594859595063465],[13,18,8,4]],[[0.3924824189066813,-0.13609142849603253],[13,18,8,3]],[[0.2985584009563561,-0.2681289919431422],[13,18,3,8]],[[0.2585924557694497,-0.32400494112129924],[13,18,3,4]],[[0.1879371296006458,-0.39755343991629316],[13,3,4,18]],[[0.11954445967554633,-0.44011153066503605],[13,3,4,10]],[[0.05341444599415148,-0.4516792133675277],[13,3,10,4]],[[0.004970429925894131,-0.45870238556887505],[13,3,10,6]],[[-0.025787588529225594,-0.46118104726907805],[3,13,6,10]],[[-0.17447101429271708,-0.4530726683858459],[3,6,10,13]],[[-0.24494977667111834,-0.44481796836133286],[6,10,3,2]],[[-0.28936176176931144,-0.4276989648072349],[6,10,2,3]],[[-0.30843682394705274,-0.4067863776441614],[6,10,2,12]],[[-0.3223184808746514,-0.3833803603814371],[6,10,2,1]],[[-0.34381993398713806,-0.31186215508393944],[6,10,1,2]],[[-0.36911392908636026,-0.22724638148901943],[6,10,1,17]],[[-0.3982004661723181,-0.12953303959667717],[6,10,17,1]],[[-0.40488616102705216,-0.09835067362341438],[6,17,10,5]],[[-0.4320331028423177,0.04393328478640268],[6,17,5,10]],[[-0.43892087889521647,0.0838928980180485],[6,17,5,1]],[[-0.4347586907222671,0.12017954930298397],[17,5,6,9]],[[-0.40945184802704604,0.27515074003634926],[17,5,9,6]],[[-0.4009606148523849,0.31634968411809655],[17,5,9,1]],[[-0.3695063957319105,0.3570295184515526],[17,5,9,0]],[[-0.29322656778149375,0.37602445517193916],[17,0,9,5]],[[-0.2300749181773308,0.3838478097054302],[17,0,9,19]],[[-0.12546738502437213,0.389285948149067],[17,0,19,9]]],\"pts\":{\"id\":\"6784\"}},\"code\":\"\\n    var selected = data.selected.indices[0];\\n    var support = info[selected][1] ; \\n    var special = info[selected][1][info[selected][1].length-1] ; \\n    for(let i=0; i<pts.data['color'].length;i++){\\n        pts.data['color'][i]=support.includes(i)?'green':'blue'; \\n        pts.data['size'][i]=support.includes(i)?10:4 ; \\n    }\\n    pts.data['color'][special]='#33ee00' ;\\n    pts.change.emit() ;\\n\"},\"id\":\"6785\",\"type\":\"CustomJS\"},{\"attributes\":{\"source\":{\"id\":\"6784\"}},\"id\":\"6790\",\"type\":\"CDSView\"},{\"attributes\":{\"line_alpha\":0.1,\"line_color\":\"red\",\"x\":{\"field\":\"x\"},\"y\":{\"field\":\"y\"}},\"id\":\"13808\",\"type\":\"Line\"},{\"attributes\":{\"line_color\":\"red\",\"x\":{\"field\":\"x\"},\"y\":{\"field\":\"y\"}},\"id\":\"16575\",\"type\":\"Line\"},{\"attributes\":{\"fill_color\":{\"value\":\"red\"},\"line_color\":{\"value\":\"red\"},\"size\":{\"units\":\"screen\",\"value\":10},\"x\":{\"field\":\"x\"},\"y\":{\"field\":\"y\"}},\"id\":\"6797\",\"type\":\"Circle\"},{\"attributes\":{\"source\":{\"id\":\"11166\"}},\"id\":\"11170\",\"type\":\"CDSView\"},{\"attributes\":{\"fill_alpha\":{\"value\":0.1},\"fill_color\":{\"field\":\"color\"},\"line_alpha\":{\"value\":0.1},\"line_color\":{\"field\":\"color\"},\"size\":{\"field\":\"size\",\"units\":\"screen\"},\"x\":{\"field\":\"x\"},\"y\":{\"field\":\"y\"}},\"id\":\"6788\",\"type\":\"Scatter\"},{\"attributes\":{\"line_color\":\"red\",\"x\":{\"field\":\"x\"},\"y\":{\"field\":\"y\"}},\"id\":\"11815\",\"type\":\"Line\"},{\"attributes\":{\"fill_color\":{\"field\":\"color\"},\"line_color\":{\"field\":\"color\"},\"size\":{\"field\":\"size\",\"units\":\"screen\"},\"x\":{\"field\":\"x\"},\"y\":{\"field\":\"y\"}},\"id\":\"6787\",\"type\":\"Scatter\"},{\"attributes\":{},\"id\":\"9645\",\"type\":\"UnionRenderers\"},{\"attributes\":{},\"id\":\"9646\",\"type\":\"Selection\"},{\"attributes\":{\"data\":{\"x\":{\"__ndarray__\":\"B3mytVAPwL87OGRe6WSwv4xHUbVJorg/CN7Dg3loyD+s72GGUmjSPwnJJQtfNtU/PAlob+Ke1z+GZ8U5nDTZPz5wc5MXNds/HTlvT/JG2j9wWagyDpHZPwNjXZRuHtk/Qm4DspQb0z9NaiFfx4zQP6hgq+hSDsg/XHa5OHeavj/DkFtlI1mrP/gPqZ/fW3Q/BL+AxQ9omr+JWz7yEFXGv7aD+6eDWs+/1cbgMeeE0r9YBe/Nbb3Tv6IxkLHdoNS/PgIMUyUB1r9/InsHkJ/Xv2aS3c4dfNm/G7UNpafp2b910d8rbqbbv+68GJlHF9y/W3OTHRbT27/2BiSGdTTav1aa8bVWqdm/fTVVJ/6l179jJrxdOcTSvyPLmUwYc82/\",\"dtype\":\"float64\",\"order\":\"little\",\"shape\":[36]},\"y\":{\"__ndarray__\":\"Ee0FnA/q2D/dVs02y8HYPwu3rnRd1dY/b7Oo3W4Y1T+juYf2garSP+50AC2VOtA/BYUGLC4jxz9YMRDflwW5P7YkwSzSqq2/K0kLj0Ymub9b5EpmFR/Av1UEVKVxa8G/6FXggAYp0b/L73Y4f7zUv/OTtvuDcdm/DCCzjckq3L8SlGzuT+jcv11kJ0BhW92/7JDjgv2D3b8wb1uBJP/cv98+ssjld9y/CFSYemtf27+dKBy7yQjav/oVccdNidi/toQ8r4z1079MmVDQaBbNv5jbaOSJlMC/5IvAfoItub+gFrpqbH6mP6SrWkUBerU/jILnQRbEvj/LSHvZEZzRPyfH2L4SP9Q/4C9dVpLZ1j+sa13gyBDYPxLeVGf2kNg/\",\"dtype\":\"float64\",\"order\":\"little\",\"shape\":[36]}},\"selected\":{\"id\":\"7040\"},\"selection_policy\":{\"id\":\"7039\"}},\"id\":\"6782\",\"type\":\"ColumnDataSource\"},{\"attributes\":{\"data_source\":{\"id\":\"6783\"},\"glyph\":{\"id\":\"6792\"},\"hover_glyph\":null,\"muted_glyph\":null,\"nonselection_glyph\":{\"id\":\"6793\"},\"selection_glyph\":null,\"view\":{\"id\":\"6795\"}},\"id\":\"6794\",\"type\":\"GlyphRenderer\"},{\"attributes\":{\"data\":{\"x\":{\"__ndarray__\":\"TedMT/H0w7/Awv/CzzJjv5MSuGeI7c0/sKjFf+P51T9mFK/5M/DZP5OKpM/WnNc/YluzhxzW1T9S8/d7jbfUP97ShVkYpcw/yNQEa3gJqz8KoD0YVXyxv2+0d1LJS8+/fnZfLzWz0r81ZXLozOvUv9g1iKvX99i/nIwAQ7AJ2r9K2Q7UzyPbv1qhQR9Uedq/zJHDFocd2b+ulTyyKRXUv03nTE/x9MO/\",\"dtype\":\"float64\",\"order\":\"little\",\"shape\":[21]},\"y\":{\"__ndarray__\":\"+LK95NJI2D90O7DnJ+TXP28yIW7Ti9M/Vg2e7Aboyj9An39YVcRlPwbM5gIHHLm/b4VgzuBrxb9gVfdrx6rIv2Yr9IARRtW/oYnrbT8V3L9ckj666jTdv5SZl+zN4tu/CS3hjTmK2L9xfrWsg8vUvyzJC+ybBr2/4LnBZWEjor/cMxn1SoGwP42mPLY/3cM/Kw+IGCKG0D/4FFMTYQjXP/iyveTSSNg/\",\"dtype\":\"float64\",\"order\":\"little\",\"shape\":[21]}},\"selected\":{\"id\":\"11758\"},\"selection_policy\":{\"id\":\"11757\"}},\"id\":\"11489\",\"type\":\"ColumnDataSource\"},{\"attributes\":{\"data_source\":{\"id\":\"6784\"},\"glyph\":{\"id\":\"6787\"},\"hover_glyph\":null,\"muted_glyph\":null,\"nonselection_glyph\":{\"id\":\"6788\"},\"selection_glyph\":null,\"view\":{\"id\":\"6790\"}},\"id\":\"6789\",\"type\":\"GlyphRenderer\"},{\"attributes\":{},\"id\":\"16872\",\"type\":\"UnionRenderers\"},{\"attributes\":{\"line_alpha\":0.1,\"line_color\":\"red\",\"x\":{\"field\":\"x\"},\"y\":{\"field\":\"y\"}},\"id\":\"11168\",\"type\":\"Line\"},{\"attributes\":{\"line_alpha\":0.1,\"line_color\":\"red\",\"x\":{\"field\":\"x\"},\"y\":{\"field\":\"y\"}},\"id\":\"6793\",\"type\":\"Line\"},{\"attributes\":{\"data\":{\"x\":{\"__ndarray__\":\"m4ZFpCD50L+g0C8OVfDBv6SesNHK/7Y/kIc5ZVWs0D/q6kuzlS3YP9DJUZpxR9s/ugB/E8ou3T/iPRJA0rLbP6g5PLtST8w/duDYGoUczb/Z7Lzp0+XWv/OdT351wd2/YCxEnIwt3b/2DrkD5LTZv5uGRaQg+dC/\",\"dtype\":\"float64\",\"order\":\"little\",\"shape\":[15]},\"y\":{\"__ndarray__\":\"9i9sdUOQ2j971kC/HgfaP/M09Q1Gadc/8kb0WQw41T/WX5qcwVzPP5AZp0rqv7Y/0JQylv90wr/cYtbxnq7Ov8Qbof7BWt6/0jajISp03b/zCNx1Ew/cvwAlq0BBMHc/e5prHDuG1z/8MIa7XyjZP/YvbHVDkNo/\",\"dtype\":\"float64\",\"order\":\"little\",\"shape\":[15]}},\"selected\":{\"id\":\"8101\"},\"selection_policy\":{\"id\":\"8100\"}},\"id\":\"7854\",\"type\":\"ColumnDataSource\"},{\"attributes\":{\"line_color\":\"red\",\"x\":{\"field\":\"x\"},\"y\":{\"field\":\"y\"}},\"id\":\"6792\",\"type\":\"Line\"},{\"attributes\":{\"source\":{\"id\":\"6783\"}},\"id\":\"6795\",\"type\":\"CDSView\"},{\"attributes\":{\"data\":{\"x\":{\"__ndarray__\":\"Al/s83Xsur+pZXaWb7rEP5jeZb0GtNQ/RPR+ZIy32D96rUtPrw3cP4oVC9buCNI/ghRvnST/xD8SDkAMQI6rP0Bjw7vv8GQ/OmNTNlVkz7/puU7i6G7Uv+9qcu8Kuta/wnoWkUzU2b9c/8lxl7ncv131usqLBtq/2oZmJZnj0b8CX+zzdey6vw==\",\"dtype\":\"float64\",\"order\":\"little\",\"shape\":[17]},\"y\":{\"__ndarray__\":\"IWmLa41V2T/GXlh91iDWP8UTzKZLFNI/ztT2APOfxD+YnCOXGy25vw7IeF3IYNS/p9nioiU53L+zRW2ZBXXdv/WPUbO0uN2/vFcZBkvb3L+qJe6D1Afbv44zQQboZtO/RIBVg1z1wb+B+zDQesq4P3vsY9hdutY/d6W5Ew7B2D8haYtrjVXZPw==\",\"dtype\":\"float64\",\"order\":\"little\",\"shape\":[17]}},\"selected\":{\"id\":\"11433\"},\"selection_policy\":{\"id\":\"11432\"}},\"id\":\"11166\",\"type\":\"ColumnDataSource\"},{\"attributes\":{\"source\":{\"id\":\"6782\"}},\"id\":\"6801\",\"type\":\"CDSView\"},{\"attributes\":{},\"id\":\"8405\",\"type\":\"UnionRenderers\"},{\"attributes\":{\"fill_alpha\":{\"value\":0.5},\"fill_color\":{\"value\":\"red\"},\"line_alpha\":{\"value\":0.1},\"line_color\":{\"value\":\"red\"},\"size\":{\"units\":\"screen\",\"value\":10},\"x\":{\"field\":\"x\"},\"y\":{\"field\":\"y\"}},\"id\":\"6798\",\"type\":\"Circle\"},{\"attributes\":{\"data\":{\"x\":{\"__ndarray__\":\"09q6XZFUmr/opul9JMKfP5U2rcJSPLY/fEgDLiS9yD8/nMHn983NP01by0JkA88/W1EVBPEKzj+6BYxNcqvLP+iplzzR3sM/Rgap7StSwz9CmLSpc2K+P8U3Qaw8Tr0/P4zK2q73sj/kMG8srqGQP2zPQwbfq4m/g7GjrgGdqr+KPrgRCbm2v21PbariBMG/lWwbP/7pxr/EIvuRx4XNv1it2Mr1otK/QNJcCCav1L9r9F0OVLnTv8SAnsNANtO/Hlj2aGtfz79ck966yATIv64Gs0c21sS/MruXVMDjtr/T2rpdkVSavw==\",\"dtype\":\"float64\",\"order\":\"little\",\"shape\":[29]},\"y\":{\"__ndarray__\":\"DjM4Vcf3zz9ShVQvTgzPP2ZsWOZYzMk/7ghnsRIuuT/vy39Y9MGoP5n+MO6u06G/AiZ10T0Ks7+aUS+7qk7Av2SOj0hKNMq/e2I34TnNyr8gP563yKXOv890DU6IEs+/hevHl6B80b9999JNTwLUv14NGSy1DdW/3t6NCLXb1b/OqAJS3TXWvxhx/D0rl9W/+wUNIp4U07+vXleyQz7Qv53t4O5orcS/ixE+/lJtsr8YIJzLQ9yMv0CHxI5Qhoo/lm/flN7GuT+1Q/W9SwfFPzD6D9cdj8c/3r2NC2L5zT8OMzhVx/fPPw==\",\"dtype\":\"float64\",\"order\":\"little\",\"shape\":[29]}},\"selected\":{\"id\":\"13413\"},\"selection_policy\":{\"id\":\"13412\"}},\"id\":\"13134\",\"type\":\"ColumnDataSource\"},{\"attributes\":{\"fill_color\":{\"value\":\"red\"},\"line_color\":{\"value\":\"red\"},\"size\":{\"units\":\"screen\",\"value\":10},\"x\":{\"field\":\"x\"},\"y\":{\"field\":\"y\"}},\"id\":\"6799\",\"type\":\"Circle\"},{\"attributes\":{\"data_source\":{\"id\":\"6782\"},\"glyph\":{\"id\":\"6797\"},\"hover_glyph\":null,\"muted_glyph\":null,\"nonselection_glyph\":{\"id\":\"6798\"},\"selection_glyph\":{\"id\":\"6799\"},\"view\":{\"id\":\"6801\"}},\"id\":\"6800\",\"type\":\"GlyphRenderer\"},{\"attributes\":{\"line_alpha\":0.1,\"line_color\":\"red\",\"x\":{\"field\":\"x\"},\"y\":{\"field\":\"y\"}},\"id\":\"15872\",\"type\":\"Line\"},{\"attributes\":{\"callback\":{\"id\":\"6785\"},\"renderers\":[{\"id\":\"6800\"}]},\"id\":\"6802\",\"type\":\"TapTool\"},{\"attributes\":{\"line_color\":\"red\",\"x\":{\"field\":\"x\"},\"y\":{\"field\":\"y\"}},\"id\":\"13135\",\"type\":\"Line\"},{\"attributes\":{},\"id\":\"8100\",\"type\":\"UnionRenderers\"},{\"attributes\":{\"line_color\":\"red\",\"x\":{\"field\":\"x\"},\"y\":{\"field\":\"y\"}},\"id\":\"11167\",\"type\":\"Line\"},{\"attributes\":{\"source\":{\"id\":\"13134\"}},\"id\":\"13138\",\"type\":\"CDSView\"},{\"attributes\":{},\"id\":\"8101\",\"type\":\"Selection\"},{\"attributes\":{},\"id\":\"8406\",\"type\":\"Selection\"},{\"attributes\":{\"data_source\":{\"id\":\"16574\"},\"glyph\":{\"id\":\"16575\"},\"hover_glyph\":null,\"muted_glyph\":null,\"nonselection_glyph\":{\"id\":\"16576\"},\"selection_glyph\":null,\"view\":{\"id\":\"16578\"}},\"id\":\"16577\",\"type\":\"GlyphRenderer\"},{\"attributes\":{\"line_alpha\":0.1,\"line_color\":\"red\",\"x\":{\"field\":\"x\"},\"y\":{\"field\":\"y\"}},\"id\":\"13136\",\"type\":\"Line\"},{\"attributes\":{\"source\":{\"id\":\"9702\"}},\"id\":\"9706\",\"type\":\"CDSView\"},{\"attributes\":{\"data_source\":{\"id\":\"12141\"},\"glyph\":{\"id\":\"12142\"},\"hover_glyph\":null,\"muted_glyph\":null,\"nonselection_glyph\":{\"id\":\"12143\"},\"selection_glyph\":null,\"view\":{\"id\":\"12145\"}},\"id\":\"12144\",\"type\":\"GlyphRenderer\"},{\"attributes\":{\"line_alpha\":0.1,\"line_color\":\"red\",\"x\":{\"field\":\"x\"},\"y\":{\"field\":\"y\"}},\"id\":\"9704\",\"type\":\"Line\"},{\"attributes\":{},\"id\":\"16873\",\"type\":\"Selection\"},{\"attributes\":{},\"id\":\"7031\",\"type\":\"BasicTickFormatter\"},{\"attributes\":{\"data\":{\"x\":{\"__ndarray__\":\"lJbJ3z2x37/oizOj0YHLPyxJ2fjBl9M/qIy+bWnD3D/MdD+5KprdP0CyM+B/rZS/UqXVHK3R27+UlsnfPbHfvw==\",\"dtype\":\"float64\",\"order\":\"little\",\"shape\":[8]},\"y\":{\"__ndarray__\":\"ftG3Jhwu3T9428lXIeDWP2yyHlz3j9M/1Fr3gJSZxz86Qq7WyUHev071kya6c96/VniyHJp03L9+0bcmHC7dPw==\",\"dtype\":\"float64\",\"order\":\"little\",\"shape\":[8]}},\"selected\":{\"id\":\"10789\"},\"selection_policy\":{\"id\":\"10788\"}},\"id\":\"10526\",\"type\":\"ColumnDataSource\"},{\"attributes\":{\"line_color\":\"red\",\"x\":{\"field\":\"x\"},\"y\":{\"field\":\"y\"}},\"id\":\"9703\",\"type\":\"Line\"},{\"attributes\":{\"line_color\":\"red\",\"x\":{\"field\":\"x\"},\"y\":{\"field\":\"y\"}},\"id\":\"15871\",\"type\":\"Line\"},{\"attributes\":{\"data\":{\"x\":{\"__ndarray__\":\"Al/s83Xsur+pZXaWb7rEP5jeZb0GtNQ/RPR+ZIy32D96rUtPrw3cP4oVC9buCNI/ghRvnST/xD8SDkAMQI6rP0Bjw7vv8GQ/OmNTNlVkz7/puU7i6G7Uv+9qcu8Kuta/wnoWkUzU2b9c/8lxl7ncv131usqLBtq/2oZmJZnj0b8CX+zzdey6vw==\",\"dtype\":\"float64\",\"order\":\"little\",\"shape\":[17]},\"y\":{\"__ndarray__\":\"IWmLa41V2T/GXlh91iDWP8UTzKZLFNI/ztT2APOfxD+YnCOXGy25vw7IeF3IYNS/p9nioiU53L+zRW2ZBXXdv/WPUbO0uN2/vFcZBkvb3L+qJe6D1Afbv44zQQboZtO/RIBVg1z1wb+B+zDQesq4P3vsY9hdutY/d6W5Ew7B2D8haYtrjVXZPw==\",\"dtype\":\"float64\",\"order\":\"little\",\"shape\":[17]}},\"selected\":{\"id\":\"8406\"},\"selection_policy\":{\"id\":\"8405\"}},\"id\":\"8157\",\"type\":\"ColumnDataSource\"},{\"attributes\":{},\"id\":\"10788\",\"type\":\"UnionRenderers\"},{\"attributes\":{\"data\":{\"x\":{\"__ndarray__\":\"fDRJegnUp784ikqHQQNnv2ObHF2e/4Q/dTIRvZj5kD80buDuM7yZP9V5QMuh9KA/c9ewoBNKmj+oc/Vff4ZqPwBP1jqNMJy/R6qfclAds78nyb1Kpmm6v84yhJP1Pr2/h7UUDOGZv79OShRNd4e4v4Nv91aQNbO/3qWN18Z1rL98NEl6CdSnvw==\",\"dtype\":\"float64\",\"order\":\"little\",\"shape\":[17]},\"y\":{\"__ndarray__\":\"h6gNh0rmkz/B+n0lIHWRP0xiYuR1mog/1OUTpdB5gr/vI91NXFWjv2OvYNQ+YbS/FbO4Ky4GwL8kuJoxP73Av7eEqF+o8cC/2Lbhy/yfv79O67p/T8S8v0j7gTfKSLe/sb/fGtAfp7+YXP9Sf+15v8Zp9VaaVo8/ODGn8i4nkz+HqA2HSuaTPw==\",\"dtype\":\"float64\",\"order\":\"little\",\"shape\":[17]}},\"selected\":{\"id\":\"16165\"},\"selection_policy\":{\"id\":\"16164\"}},\"id\":\"15870\",\"type\":\"ColumnDataSource\"},{\"attributes\":{},\"id\":\"13412\",\"type\":\"UnionRenderers\"},{\"attributes\":{},\"id\":\"13413\",\"type\":\"Selection\"},{\"attributes\":{},\"id\":\"16517\",\"type\":\"UnionRenderers\"},{\"attributes\":{\"data_source\":{\"id\":\"9702\"},\"glyph\":{\"id\":\"9703\"},\"hover_glyph\":null,\"muted_glyph\":null,\"nonselection_glyph\":{\"id\":\"9704\"},\"selection_glyph\":null,\"view\":{\"id\":\"9706\"}},\"id\":\"9705\",\"type\":\"GlyphRenderer\"},{\"attributes\":{},\"id\":\"10278\",\"type\":\"Selection\"},{\"attributes\":{\"data\":{\"x\":{\"__ndarray__\":\"GDCR2JxLjj8KGMnvh0O2P1nUcwU+bsQ/3c4mHp50yj+x6daedWHQP7kWdd/7C9E/KGUMkoIP0T9sjH1HEjbQPwuKMfAUXM4/KDQHGfA6yj+oKlLEpffEP+5lsfNsbr8/aRjqik+Wsj+IZzpzDR+JPzo0cgqkgqG/qQxUQOiBsL/KpJOadx20vys/B4LBGbu/kNYKrgmMyr8wkDrILAHRv57a3N2nmtO/nltzhPnN1L8khBEjXujVv3houzVcQNS/VBtAmQXt079Qyj2FyV3TvxW4cFBS68+/dfwEi/YQxL8FEc/FhU20vxgwkdicS44/\",\"dtype\":\"float64\",\"order\":\"little\",\"shape\":[30]},\"y\":{\"__ndarray__\":\"0Q3RRDI+0j8ePbdwQXbOP5aFdflcusU/YnC74o80vz/QoWlfg8KxPwC4eftAPn8/cEBn4aHGmL9uRHywyoqyv0BcxBvLbcC/aeic6X08x78+b40mLDzMv+4hfzAShdC/YAf38wX00r+m5iS8Po3Vvzisaocl6Na/9io3LtGh17/oF25f5c/XvyKO2oA+B9i/9DbmateB1L+w/2oWnY7Ov1A/E9Ou6cS/+RswBk9Mv7+8O7LqLgiwvxB2zo5j26A/NInhUy+HqD/Pb5a7qY+xP5A/rF43xMI/QIrgvFvFzj/MoFTD+gjSP9EN0UQyPtI/\",\"dtype\":\"float64\",\"order\":\"little\",\"shape\":[30]}},\"selected\":{\"id\":\"9961\"},\"selection_policy\":{\"id\":\"9960\"}},\"id\":\"9702\",\"type\":\"ColumnDataSource\"},{\"attributes\":{\"data_source\":{\"id\":\"9078\"},\"glyph\":{\"id\":\"9079\"},\"hover_glyph\":null,\"muted_glyph\":null,\"nonselection_glyph\":{\"id\":\"9080\"},\"selection_glyph\":null,\"view\":{\"id\":\"9082\"}},\"id\":\"9081\",\"type\":\"GlyphRenderer\"},{\"attributes\":{\"line_color\":\"red\",\"x\":{\"field\":\"x\"},\"y\":{\"field\":\"y\"}},\"id\":\"8158\",\"type\":\"Line\"},{\"attributes\":{\"source\":{\"id\":\"8157\"}},\"id\":\"8161\",\"type\":\"CDSView\"},{\"attributes\":{\"line_alpha\":0.1,\"line_color\":\"red\",\"x\":{\"field\":\"x\"},\"y\":{\"field\":\"y\"}},\"id\":\"8464\",\"type\":\"Line\"},{\"attributes\":{},\"id\":\"14430\",\"type\":\"Selection\"},{\"attributes\":{\"line_alpha\":0.1,\"line_color\":\"red\",\"x\":{\"field\":\"x\"},\"y\":{\"field\":\"y\"}},\"id\":\"8159\",\"type\":\"Line\"},{\"attributes\":{},\"id\":\"14429\",\"type\":\"UnionRenderers\"},{\"attributes\":{\"data\":{\"x\":{\"__ndarray__\":\"09q6XZFUmr/opul9JMKfP5U2rcJSPLY/fEgDLiS9yD8/nMHn983NP01by0JkA88/W1EVBPEKzj+6BYxNcqvLP+iplzzR3sM/Rgap7StSwz9CmLSpc2K+P8U3Qaw8Tr0/P4zK2q73sj/kMG8srqGQP2zPQwbfq4m/g7GjrgGdqr+KPrgRCbm2v21PbariBMG/lWwbP/7pxr/EIvuRx4XNv1it2Mr1otK/QNJcCCav1L9r9F0OVLnTv8SAnsNANtO/Hlj2aGtfz79ck966yATIv64Gs0c21sS/MruXVMDjtr/T2rpdkVSavw==\",\"dtype\":\"float64\",\"order\":\"little\",\"shape\":[29]},\"y\":{\"__ndarray__\":\"DjM4Vcf3zz9ShVQvTgzPP2ZsWOZYzMk/7ghnsRIuuT/vy39Y9MGoP5n+MO6u06G/AiZ10T0Ks7+aUS+7qk7Av2SOj0hKNMq/e2I34TnNyr8gP563yKXOv890DU6IEs+/hevHl6B80b9999JNTwLUv14NGSy1DdW/3t6NCLXb1b/OqAJS3TXWvxhx/D0rl9W/+wUNIp4U07+vXleyQz7Qv53t4O5orcS/ixE+/lJtsr8YIJzLQ9yMv0CHxI5Qhoo/lm/flN7GuT+1Q/W9SwfFPzD6D9cdj8c/3r2NC2L5zT8OMzhVx/fPPw==\",\"dtype\":\"float64\",\"order\":\"little\",\"shape\":[29]}},\"selected\":{\"id\":\"10278\"},\"selection_policy\":{\"id\":\"10277\"}},\"id\":\"10017\",\"type\":\"ColumnDataSource\"},{\"attributes\":{\"data\":{\"x\":{\"__ndarray__\":\"TedMT/H0w7/Awv/CzzJjv5MSuGeI7c0/sKjFf+P51T9mFK/5M/DZP5OKpM/WnNc/YluzhxzW1T9S8/d7jbfUP97ShVkYpcw/yNQEa3gJqz8KoD0YVXyxv2+0d1LJS8+/fnZfLzWz0r81ZXLozOvUv9g1iKvX99i/nIwAQ7AJ2r9K2Q7UzyPbv1qhQR9Uedq/zJHDFocd2b+ulTyyKRXUv03nTE/x9MO/\",\"dtype\":\"float64\",\"order\":\"little\",\"shape\":[21]},\"y\":{\"__ndarray__\":\"+LK95NJI2D90O7DnJ+TXP28yIW7Ti9M/Vg2e7Aboyj9An39YVcRlPwbM5gIHHLm/b4VgzuBrxb9gVfdrx6rIv2Yr9IARRtW/oYnrbT8V3L9ckj666jTdv5SZl+zN4tu/CS3hjTmK2L9xfrWsg8vUvyzJC+ybBr2/4LnBZWEjor/cMxn1SoGwP42mPLY/3cM/Kw+IGCKG0D/4FFMTYQjXP/iyveTSSNg/\",\"dtype\":\"float64\",\"order\":\"little\",\"shape\":[21]}},\"selected\":{\"id\":\"8713\"},\"selection_policy\":{\"id\":\"8712\"}},\"id\":\"8462\",\"type\":\"ColumnDataSource\"},{\"attributes\":{},\"id\":\"7033\",\"type\":\"BasicTickFormatter\"},{\"attributes\":{\"line_alpha\":0.1,\"line_color\":\"red\",\"x\":{\"field\":\"x\"},\"y\":{\"field\":\"y\"}},\"id\":\"16223\",\"type\":\"Line\"},{\"attributes\":{\"line_color\":\"red\",\"x\":{\"field\":\"x\"},\"y\":{\"field\":\"y\"}},\"id\":\"8463\",\"type\":\"Line\"},{\"attributes\":{\"source\":{\"id\":\"8462\"}},\"id\":\"8466\",\"type\":\"CDSView\"},{\"attributes\":{},\"id\":\"10277\",\"type\":\"UnionRenderers\"},{\"attributes\":{\"data_source\":{\"id\":\"8769\"},\"glyph\":{\"id\":\"8770\"},\"hover_glyph\":null,\"muted_glyph\":null,\"nonselection_glyph\":{\"id\":\"8771\"},\"selection_glyph\":null,\"view\":{\"id\":\"8773\"}},\"id\":\"8772\",\"type\":\"GlyphRenderer\"},{\"attributes\":{\"line_color\":\"red\",\"x\":{\"field\":\"x\"},\"y\":{\"field\":\"y\"}},\"id\":\"15522\",\"type\":\"Line\"},{\"attributes\":{},\"id\":\"15464\",\"type\":\"UnionRenderers\"},{\"attributes\":{\"data_source\":{\"id\":\"11166\"},\"glyph\":{\"id\":\"11167\"},\"hover_glyph\":null,\"muted_glyph\":null,\"nonselection_glyph\":{\"id\":\"11168\"},\"selection_glyph\":null,\"view\":{\"id\":\"11170\"}},\"id\":\"11169\",\"type\":\"GlyphRenderer\"},{\"attributes\":{\"data\":{\"x\":{\"__ndarray__\":\"k62btkxUoL9c2/Q+SOWIP8reCDjmp5g/0kwqjiLFoD8a7lUUON2oP6ObRkPpAKs/ADVjZSg1rT8fxcj7MOCrPwOmzOqWKKk/jFt9Q7gvnj8sWbbNF3aEv4x+rgOsxai/Fkg51f9/u7+8c5GQj0HBv5Yphs23PMO/rOSAOAkTwr8UTYgUrC/BvwyZqo5koMC/Oiggzsfbur/Isntd1dSvv5Otm7ZMVKC/\",\"dtype\":\"float64\",\"order\":\"little\",\"shape\":[21]},\"y\":{\"__ndarray__\":\"UQ5C/x1nqD/EHPRj5MKlP16HDk13I54/AJq/kD9Rjj/MMTV/aX+jv+qnyhvfea2/KNjjd64htb933ruV+++6vy/Nkum+w8C/FlD4Zt4ExL8Sn61PF6XEv1HjJtHBcsS/z15flJdGwr/ckewwX3W+v3GKTmXkLLG/X7DH87N0pb/oIbVNrS2ZvwiChxLgr5K/0oBaGdcSkT/f/JtmxyemP1EOQv8dZ6g/\",\"dtype\":\"float64\",\"order\":\"little\",\"shape\":[21]}},\"selected\":{\"id\":\"15814\"},\"selection_policy\":{\"id\":\"15813\"}},\"id\":\"15521\",\"type\":\"ColumnDataSource\"},{\"attributes\":{},\"id\":\"14088\",\"type\":\"UnionRenderers\"},{\"attributes\":{\"line_alpha\":0.1,\"line_color\":\"red\",\"x\":{\"field\":\"x\"},\"y\":{\"field\":\"y\"}},\"id\":\"10847\",\"type\":\"Line\"},{\"attributes\":{},\"id\":\"14089\",\"type\":\"Selection\"},{\"attributes\":{},\"id\":\"14772\",\"type\":\"UnionRenderers\"},{\"attributes\":{},\"id\":\"6754\",\"type\":\"DataRange1d\"},{\"attributes\":{\"line_color\":\"red\",\"x\":{\"field\":\"x\"},\"y\":{\"field\":\"y\"}},\"id\":\"10527\",\"type\":\"Line\"},{\"attributes\":{\"source\":{\"id\":\"15521\"}},\"id\":\"15525\",\"type\":\"CDSView\"},{\"attributes\":{},\"id\":\"14773\",\"type\":\"Selection\"},{\"attributes\":{},\"id\":\"12084\",\"type\":\"UnionRenderers\"},{\"attributes\":{},\"id\":\"15118\",\"type\":\"Selection\"},{\"attributes\":{\"line_color\":\"red\",\"x\":{\"field\":\"x\"},\"y\":{\"field\":\"y\"}},\"id\":\"15175\",\"type\":\"Line\"},{\"attributes\":{},\"id\":\"16165\",\"type\":\"Selection\"},{\"attributes\":{\"data\":{\"x\":{\"__ndarray__\":\"mAewTktMkr+8iXeFqsKDP4T5HbGXrZs/qYs2LJkWqT/M+/b+M2WxP9bDcREDX7Q/Oh6mQBjWtD+cNP3cswmsP2x9rqxDh5E/EfU3iMrPn78znEswzeG0v/nA5zYhG8K/WeDnsnxaxr9puerUReTFv1bw21M5tMO/in0ZBd8owr9Xmup5pWS/v4u2Kav42re/9qLx8j+vqb+qiJqY3B2jv5gHsE5LTJK/\",\"dtype\":\"float64\",\"order\":\"little\",\"shape\":[21]},\"y\":{\"__ndarray__\":\"mbrBoa+ssz+Wnb8e2/6xP3JUK3RRKLA/nggwggQwoT/sXlXakemNv3+/jcTTU66/OS+j6iktvL+4y35GQBPFvwLIIxNYZ8i/7jisxyihyL9m1hdOg2LHvy7Hxrz8b8O/lzQjLqdruL+Cay405qiwvyYdgZXpNpS/E4aD0DaAdj8qTEu2tNqYP4yFdwTx26c/Ko/Px9Z5sj8VyYJggmezP5m6waGvrLM/\",\"dtype\":\"float64\",\"order\":\"little\",\"shape\":[21]}},\"selected\":{\"id\":\"15465\"},\"selection_policy\":{\"id\":\"15464\"}},\"id\":\"15174\",\"type\":\"ColumnDataSource\"},{\"attributes\":{},\"id\":\"12085\",\"type\":\"Selection\"},{\"attributes\":{\"data\":{\"x\":{\"__ndarray__\":\"gJ1w9rLVgL9Y56wOnbakP3/9nNiByKs/6NlYMms5sj9fKFsqaBO3P956c9X+NsA/bSbtYfwrwT+bDC0xEd3AP6XNaMpCRL4/RQ2W8IoWvD+ggKQW6YC0P2BicU7Nl64/w2bOBEOplz8+O1vlJKWjv6ZRzKOs9rm/Wrv4Mc5ww785HTAtYAfLvwv2S17dOMy/pBfof5fdy7/dPryuA43Jvxq/Ir0TYse/71LQzlzFw7+7YOB1zuu5vwu9gh7vY6y/gJ1w9rLVgL8=\",\"dtype\":\"float64\",\"order\":\"little\",\"shape\":[25]},\"y\":{\"__ndarray__\":\"giockq2pwT9F2UmfOei8P6Yvy8aEqLo/Nl+Qdlgttj/mFEQFVJOrP4reI/IQPpK/mMI+AMNQsL80yx5fgr+yv+u8OpU5Xr+/xqn6xnx+wr8phG5ahnXHv4RAcHYjZMq/gNkEbbDYzr9MmNtl1X3Qv9S5SWItK86/0KlmKKu4yL/c63ldmtDAv5qA0TKNfbi/X+Bn54/jsr8RAR3J7NeDvzYIW2MtPZU/+FCAmbgZqD+4U070g123PwgjWtBoNL4/giockq2pwT8=\",\"dtype\":\"float64\",\"order\":\"little\",\"shape\":[25]}},\"selected\":{\"id\":\"14773\"},\"selection_policy\":{\"id\":\"14772\"}},\"id\":\"14486\",\"type\":\"ColumnDataSource\"},{\"attributes\":{},\"id\":\"8712\",\"type\":\"UnionRenderers\"},{\"attributes\":{},\"id\":\"8713\",\"type\":\"Selection\"},{\"attributes\":{\"line_alpha\":0.1,\"line_color\":\"red\",\"x\":{\"field\":\"x\"},\"y\":{\"field\":\"y\"}},\"id\":\"15176\",\"type\":\"Line\"},{\"attributes\":{\"data_source\":{\"id\":\"8462\"},\"glyph\":{\"id\":\"8463\"},\"hover_glyph\":null,\"muted_glyph\":null,\"nonselection_glyph\":{\"id\":\"8464\"},\"selection_glyph\":null,\"view\":{\"id\":\"8466\"}},\"id\":\"8465\",\"type\":\"GlyphRenderer\"},{\"attributes\":{\"data_source\":{\"id\":\"15521\"},\"glyph\":{\"id\":\"15522\"},\"hover_glyph\":null,\"muted_glyph\":null,\"nonselection_glyph\":{\"id\":\"15523\"},\"selection_glyph\":null,\"view\":{\"id\":\"15525\"}},\"id\":\"15524\",\"type\":\"GlyphRenderer\"},{\"attributes\":{\"source\":{\"id\":\"15174\"}},\"id\":\"15178\",\"type\":\"CDSView\"},{\"attributes\":{},\"id\":\"15465\",\"type\":\"Selection\"},{\"attributes\":{},\"id\":\"11109\",\"type\":\"UnionRenderers\"},{\"attributes\":{\"data_source\":{\"id\":\"10017\"},\"glyph\":{\"id\":\"10018\"},\"hover_glyph\":null,\"muted_glyph\":null,\"nonselection_glyph\":{\"id\":\"10019\"},\"selection_glyph\":null,\"view\":{\"id\":\"10021\"}},\"id\":\"10020\",\"type\":\"GlyphRenderer\"},{\"attributes\":{\"data\":{\"x\":{\"__ndarray__\":\"E4X//qdSv7/qvfq/bIOWP4Lcg+du/ME/7DbkJAD6xT+rxFai8vrPPyhwQ41zNdM/kokrrKtM1T/DTg48wInTPwuO6ZKmDtA/aIYHb9aIwD9tfPGL2b6vP05fLiet3rO//o+Hg21NyL8IarrzsGnQvzSr2YIxpNS/m86w7sF61b/u/GIkYqzXvyWwFl1LYNi/MDvGenfB1b9I/RGmZ6fNvxOF//6nUr+/\",\"dtype\":\"float64\",\"order\":\"little\",\"shape\":[21]},\"y\":{\"__ndarray__\":\"oCXeKppt1j+e3ELdrGrVP8RpA3bD0tE/mImdp4R70D+A25puF9jHPzvvHi8fq78/Jq1XQcIapz9cn8m2/auzv+xcoLHkgcq/9WQQhqvU07+2G3zohvTWv6l/aBN9oNu/0H/qNsJt2b+0XdtAiMjVv3lI0G60dcu/zCNIvXOwx7+G2KmmZRa4v27HFZGum5o/63AvA3OHxD8Zcay/2NHSP6Al3iqabdY/\",\"dtype\":\"float64\",\"order\":\"little\",\"shape\":[21]}},\"selected\":{\"id\":\"12414\"},\"selection_policy\":{\"id\":\"12413\"}},\"id\":\"12141\",\"type\":\"ColumnDataSource\"},{\"attributes\":{\"active_drag\":\"auto\",\"active_inspect\":\"auto\",\"active_multi\":null,\"active_scroll\":\"auto\",\"active_tap\":\"auto\",\"tools\":[{\"id\":\"6768\"},{\"id\":\"6769\"},{\"id\":\"6770\"},{\"id\":\"6771\"},{\"id\":\"6772\"},{\"id\":\"6773\"},{\"id\":\"6802\"}]},\"id\":\"6775\",\"type\":\"Toolbar\"},{\"attributes\":{},\"id\":\"6752\",\"type\":\"DataRange1d\"},{\"attributes\":{\"line_alpha\":0.1,\"line_color\":\"red\",\"x\":{\"field\":\"x\"},\"y\":{\"field\":\"y\"}},\"id\":\"14831\",\"type\":\"Line\"},{\"attributes\":{},\"id\":\"11757\",\"type\":\"UnionRenderers\"},{\"attributes\":{\"data_source\":{\"id\":\"14829\"},\"glyph\":{\"id\":\"14830\"},\"hover_glyph\":null,\"muted_glyph\":null,\"nonselection_glyph\":{\"id\":\"14831\"},\"selection_glyph\":null,\"view\":{\"id\":\"14833\"}},\"id\":\"14832\",\"type\":\"GlyphRenderer\"},{\"attributes\":{\"line_color\":\"red\",\"x\":{\"field\":\"x\"},\"y\":{\"field\":\"y\"}},\"id\":\"12142\",\"type\":\"Line\"},{\"attributes\":{},\"id\":\"11110\",\"type\":\"Selection\"},{\"attributes\":{\"line_alpha\":0.1,\"line_color\":\"red\",\"x\":{\"field\":\"x\"},\"y\":{\"field\":\"y\"}},\"id\":\"7555\",\"type\":\"Line\"},{\"attributes\":{\"source\":{\"id\":\"12141\"}},\"id\":\"12145\",\"type\":\"CDSView\"},{\"attributes\":{},\"id\":\"16164\",\"type\":\"UnionRenderers\"},{\"attributes\":{\"formatter\":{\"id\":\"7031\"},\"ticker\":{\"id\":\"6761\"}},\"id\":\"6760\",\"type\":\"LinearAxis\"},{\"attributes\":{\"data_source\":{\"id\":\"13134\"},\"glyph\":{\"id\":\"13135\"},\"hover_glyph\":null,\"muted_glyph\":null,\"nonselection_glyph\":{\"id\":\"13136\"},\"selection_glyph\":null,\"view\":{\"id\":\"13138\"}},\"id\":\"13137\",\"type\":\"GlyphRenderer\"},{\"attributes\":{\"line_color\":\"red\",\"x\":{\"field\":\"x\"},\"y\":{\"field\":\"y\"}},\"id\":\"7554\",\"type\":\"Line\"},{\"attributes\":{\"line_alpha\":0.1,\"line_color\":\"red\",\"x\":{\"field\":\"x\"},\"y\":{\"field\":\"y\"}},\"id\":\"12143\",\"type\":\"Line\"},{\"attributes\":{\"data\":{\"x\":{\"__ndarray__\":\"foxupfDSpL8cCBQtb5CzP1VdY6TxxsU/QvebhEnv0T9Oruyf9ArTPzg7Ir8zttI/NIR5ofOP0D8lGx85ThnNPxwJhn76Y8Y/Qm2CRUB8sz/EtpTIv1SCv4qPn3fsvri/m46oWp/xx78rKyEm7jnLvxkSvYveP8+/Mpvfb5Lg0b/4FUXZVzjWv2p+kZLVG9e/u/iVd43S1r+AzJwVQTfVvwqq6EtQNNS/dBbdb9eu0L+3x0N444fMv1cNP0fY0cO/foxupfDSpL8=\",\"dtype\":\"float64\",\"order\":\"little\",\"shape\":[25]},\"y\":{\"__ndarray__\":\"vab0Lero1D+5SqFw40vSP9nAU5r5eco/BHfK+f2Vtz/iC72qrXOaP1hZ8AqhUY6/PkGl66Ehwb+yLunwd13Iv2Ay1K7Hn86/HmR+98OQ1L/xKBY5rr3Xv7rk4ZZVHtq/1k+8vXMj178XgYHrKBjWv757+DOLA9S/iB3c62ce0L9ku2nMSWa+v9A7MFRhI6G/AMoEw6I0kL+yIE7YvWKzP0jvOqa00r0/7nqr0tkhyD8ptK4G2ZPNPwCfc7EB7dI/vab0Lero1D8=\",\"dtype\":\"float64\",\"order\":\"little\",\"shape\":[25]}},\"selected\":{\"id\":\"12745\"},\"selection_policy\":{\"id\":\"12744\"}},\"id\":\"12470\",\"type\":\"ColumnDataSource\"},{\"attributes\":{\"source\":{\"id\":\"11814\"}},\"id\":\"11818\",\"type\":\"CDSView\"},{\"attributes\":{\"data_source\":{\"id\":\"8157\"},\"glyph\":{\"id\":\"8158\"},\"hover_glyph\":null,\"muted_glyph\":null,\"nonselection_glyph\":{\"id\":\"8159\"},\"selection_glyph\":null,\"view\":{\"id\":\"8161\"}},\"id\":\"8160\",\"type\":\"GlyphRenderer\"},{\"attributes\":{\"source\":{\"id\":\"11489\"}},\"id\":\"11493\",\"type\":\"CDSView\"},{\"attributes\":{},\"id\":\"6765\",\"type\":\"BasicTicker\"},{\"attributes\":{\"line_color\":\"red\",\"x\":{\"field\":\"x\"},\"y\":{\"field\":\"y\"}},\"id\":\"12471\",\"type\":\"Line\"},{\"attributes\":{\"source\":{\"id\":\"14486\"}},\"id\":\"14490\",\"type\":\"CDSView\"},{\"attributes\":{\"source\":{\"id\":\"7553\"}},\"id\":\"7557\",\"type\":\"CDSView\"},{\"attributes\":{\"source\":{\"id\":\"12470\"}},\"id\":\"12474\",\"type\":\"CDSView\"},{\"attributes\":{\"axis\":{\"id\":\"6764\"},\"dimension\":1,\"ticker\":null},\"id\":\"6767\",\"type\":\"Grid\"},{\"attributes\":{\"data_source\":{\"id\":\"13469\"},\"glyph\":{\"id\":\"13470\"},\"hover_glyph\":null,\"muted_glyph\":null,\"nonselection_glyph\":{\"id\":\"13471\"},\"selection_glyph\":null,\"view\":{\"id\":\"13473\"}},\"id\":\"13472\",\"type\":\"GlyphRenderer\"},{\"attributes\":{\"line_alpha\":0.1,\"line_color\":\"red\",\"x\":{\"field\":\"x\"},\"y\":{\"field\":\"y\"}},\"id\":\"10019\",\"type\":\"Line\"},{\"attributes\":{\"line_alpha\":0.1,\"line_color\":\"red\",\"x\":{\"field\":\"x\"},\"y\":{\"field\":\"y\"}},\"id\":\"12472\",\"type\":\"Line\"},{\"attributes\":{\"line_color\":\"red\",\"x\":{\"field\":\"x\"},\"y\":{\"field\":\"y\"}},\"id\":\"14146\",\"type\":\"Line\"},{\"attributes\":{\"data\":{\"x\":{\"__ndarray__\":\"B3mytVAPwL87OGRe6WSwv4xHUbVJorg/CN7Dg3loyD+s72GGUmjSPwnJJQtfNtU/PAlob+Ke1z+GZ8U5nDTZPz5wc5MXNds/HTlvT/JG2j9wWagyDpHZPwNjXZRuHtk/Qm4DspQb0z9NaiFfx4zQP6hgq+hSDsg/XHa5OHeavj/DkFtlI1mrP/gPqZ/fW3Q/BL+AxQ9omr+JWz7yEFXGv7aD+6eDWs+/1cbgMeeE0r9YBe/Nbb3Tv6IxkLHdoNS/PgIMUyUB1r9/InsHkJ/Xv2aS3c4dfNm/G7UNpafp2b910d8rbqbbv+68GJlHF9y/W3OTHRbT27/2BiSGdTTav1aa8bVWqdm/fTVVJ/6l179jJrxdOcTSvyPLmUwYc82/B3mytVAPwL8=\",\"dtype\":\"float64\",\"order\":\"little\",\"shape\":[37]},\"y\":{\"__ndarray__\":\"Ee0FnA/q2D/dVs02y8HYPwu3rnRd1dY/b7Oo3W4Y1T+juYf2garSP+50AC2VOtA/BYUGLC4jxz9YMRDflwW5P7YkwSzSqq2/K0kLj0Ymub9b5EpmFR/Av1UEVKVxa8G/6FXggAYp0b/L73Y4f7zUv/OTtvuDcdm/DCCzjckq3L8SlGzuT+jcv11kJ0BhW92/7JDjgv2D3b8wb1uBJP/cv98+ssjld9y/CFSYemtf27+dKBy7yQjav/oVccdNidi/toQ8r4z1079MmVDQaBbNv5jbaOSJlMC/5IvAfoItub+gFrpqbH6mP6SrWkUBerU/jILnQRbEvj/LSHvZEZzRPyfH2L4SP9Q/4C9dVpLZ1j+sa13gyBDYPxLeVGf2kNg/Ee0FnA/q2D8=\",\"dtype\":\"float64\",\"order\":\"little\",\"shape\":[37]}},\"selected\":{\"id\":\"7038\"},\"selection_policy\":{\"id\":\"7037\"}},\"id\":\"6783\",\"type\":\"ColumnDataSource\"},{\"attributes\":{\"source\":{\"id\":\"14145\"}},\"id\":\"14149\",\"type\":\"CDSView\"},{\"attributes\":{},\"id\":\"12413\",\"type\":\"UnionRenderers\"},{\"attributes\":{\"data_source\":{\"id\":\"11489\"},\"glyph\":{\"id\":\"11490\"},\"hover_glyph\":null,\"muted_glyph\":null,\"nonselection_glyph\":{\"id\":\"11491\"},\"selection_glyph\":null,\"view\":{\"id\":\"11493\"}},\"id\":\"11492\",\"type\":\"GlyphRenderer\"},{\"attributes\":{\"data\":{\"x\":{\"__ndarray__\":\"GDCR2JxLjj8KGMnvh0O2P1nUcwU+bsQ/3c4mHp50yj+x6daedWHQP7kWdd/7C9E/KGUMkoIP0T9sjH1HEjbQPwuKMfAUXM4/KDQHGfA6yj+oKlLEpffEP+5lsfNsbr8/aRjqik+Wsj+IZzpzDR+JPzo0cgqkgqG/qQxUQOiBsL/KpJOadx20vys/B4LBGbu/kNYKrgmMyr8wkDrILAHRv57a3N2nmtO/nltzhPnN1L8khBEjXujVv3houzVcQNS/VBtAmQXt079Qyj2FyV3TvxW4cFBS68+/dfwEi/YQxL8FEc/FhU20vxgwkdicS44/\",\"dtype\":\"float64\",\"order\":\"little\",\"shape\":[30]},\"y\":{\"__ndarray__\":\"0Q3RRDI+0j8ePbdwQXbOP5aFdflcusU/YnC74o80vz/QoWlfg8KxPwC4eftAPn8/cEBn4aHGmL9uRHywyoqyv0BcxBvLbcC/aeic6X08x78+b40mLDzMv+4hfzAShdC/YAf38wX00r+m5iS8Po3Vvzisaocl6Na/9io3LtGh17/oF25f5c/XvyKO2oA+B9i/9DbmateB1L+w/2oWnY7Ov1A/E9Ou6cS/+RswBk9Mv7+8O7LqLgiwvxB2zo5j26A/NInhUy+HqD/Pb5a7qY+xP5A/rF43xMI/QIrgvFvFzj/MoFTD+gjSP9EN0UQyPtI/\",\"dtype\":\"float64\",\"order\":\"little\",\"shape\":[30]}},\"selected\":{\"id\":\"13078\"},\"selection_policy\":{\"id\":\"13077\"}},\"id\":\"12801\",\"type\":\"ColumnDataSource\"},{\"attributes\":{},\"id\":\"12414\",\"type\":\"Selection\"},{\"attributes\":{\"data_source\":{\"id\":\"12801\"},\"glyph\":{\"id\":\"12802\"},\"hover_glyph\":null,\"muted_glyph\":null,\"nonselection_glyph\":{\"id\":\"12803\"},\"selection_glyph\":null,\"view\":{\"id\":\"12805\"}},\"id\":\"12804\",\"type\":\"GlyphRenderer\"},{\"attributes\":{\"axis\":{\"id\":\"6760\"},\"ticker\":null},\"id\":\"6763\",\"type\":\"Grid\"},{\"attributes\":{\"data\":{\"x\":{\"__ndarray__\":\"zBCI+BejdT8EdecQaK6yPxyCyj59obw/9U7oZg3IwT+gpVuaz2HDP1SGLsNV2sQ/GAwR3P2kwj/pTxe23zXCP+PjvvDkdsE/t6HEPh7YuT8aT78ZnRSkP7ntPJqyb4m/E22IPkc9s79nDq0hqo6/v2u34BlR+sW/GQlYKpH+yb8eDLKUxDLOv3udL0AiFs+/ZVv52NUaz7/Dj+XK6vjNvzjbCWHgmMy/9qHtJh3Yyb+imx+Z61XGv9ZLeWeh1cK/qQ7DMy8bvb8Ghxb25c6yv6CErPyGwaW/Hi0RsdLWlr+e2Xkr/m+Kv8wQiPgXo3U/\",\"dtype\":\"float64\",\"order\":\"little\",\"shape\":[30]},\"y\":{\"__ndarray__\":\"t2C6hGuzxD967Mm8jAHAP/5FZ3qsEbI/osBzghDXlD/QGXWgBO98vzPOCw62+Ke/8uAW0/BKvL9U58cUitm+v2bXRRDLMMG/LIeGuwzZx7/3uP6kz9nPv0JEwhUbsdG/mjcVbJXU0b+KhThyE6XPv4RgtyJ70sm/ltf8xxe9xb+6kuFGvkHBv5h2TAO9+be/hNlAU1+Lsr/wF6lb5p+kvwzTh3kamGi/O6NTfbCdoD93tX/KK/KtPzn2gIgLYbU/F1prPEDeuz+81nJ+FmbBP9OIeo2fNMM/0TGLFi8sxD8VwylYn2nEP7dguoRrs8Q/\",\"dtype\":\"float64\",\"order\":\"little\",\"shape\":[30]}},\"selected\":{\"id\":\"14430\"},\"selection_policy\":{\"id\":\"14429\"}},\"id\":\"14145\",\"type\":\"ColumnDataSource\"},{\"attributes\":{\"line_alpha\":0.1,\"line_color\":\"red\",\"x\":{\"field\":\"x\"},\"y\":{\"field\":\"y\"}},\"id\":\"11491\",\"type\":\"Line\"},{\"attributes\":{\"line_alpha\":0.1,\"line_color\":\"red\",\"x\":{\"field\":\"x\"},\"y\":{\"field\":\"y\"}},\"id\":\"14147\",\"type\":\"Line\"},{\"attributes\":{\"line_color\":\"red\",\"x\":{\"field\":\"x\"},\"y\":{\"field\":\"y\"}},\"id\":\"14487\",\"type\":\"Line\"},{\"attributes\":{\"line_color\":\"red\",\"x\":{\"field\":\"x\"},\"y\":{\"field\":\"y\"}},\"id\":\"11490\",\"type\":\"Line\"},{\"attributes\":{\"line_color\":\"red\",\"x\":{\"field\":\"x\"},\"y\":{\"field\":\"y\"}},\"id\":\"12802\",\"type\":\"Line\"},{\"attributes\":{},\"id\":\"15814\",\"type\":\"Selection\"},{\"attributes\":{\"data_source\":{\"id\":\"14145\"},\"glyph\":{\"id\":\"14146\"},\"hover_glyph\":null,\"muted_glyph\":null,\"nonselection_glyph\":{\"id\":\"14147\"},\"selection_glyph\":null,\"view\":{\"id\":\"14149\"}},\"id\":\"14148\",\"type\":\"GlyphRenderer\"},{\"attributes\":{\"source\":{\"id\":\"12801\"}},\"id\":\"12805\",\"type\":\"CDSView\"},{\"attributes\":{\"line_alpha\":0.1,\"line_color\":\"red\",\"x\":{\"field\":\"x\"},\"y\":{\"field\":\"y\"}},\"id\":\"15523\",\"type\":\"Line\"},{\"attributes\":{\"formatter\":{\"id\":\"7033\"},\"ticker\":{\"id\":\"6765\"}},\"id\":\"6764\",\"type\":\"LinearAxis\"},{\"attributes\":{},\"id\":\"7797\",\"type\":\"UnionRenderers\"},{\"attributes\":{\"line_alpha\":0.1,\"line_color\":\"red\",\"x\":{\"field\":\"x\"},\"y\":{\"field\":\"y\"}},\"id\":\"12803\",\"type\":\"Line\"},{\"attributes\":{},\"id\":\"7798\",\"type\":\"Selection\"},{\"attributes\":{},\"id\":\"12744\",\"type\":\"UnionRenderers\"},{\"attributes\":{},\"id\":\"6772\",\"type\":\"ResetTool\"},{\"attributes\":{},\"id\":\"12745\",\"type\":\"Selection\"},{\"attributes\":{},\"id\":\"15813\",\"type\":\"UnionRenderers\"},{\"attributes\":{},\"id\":\"6769\",\"type\":\"WheelZoomTool\"},{\"attributes\":{\"source\":{\"id\":\"13469\"}},\"id\":\"13473\",\"type\":\"CDSView\"},{\"attributes\":{},\"id\":\"6771\",\"type\":\"SaveTool\"},{\"attributes\":{},\"id\":\"7410\",\"type\":\"UnionRenderers\"},{\"attributes\":{},\"id\":\"11758\",\"type\":\"Selection\"},{\"attributes\":{\"line_color\":\"red\",\"x\":{\"field\":\"x\"},\"y\":{\"field\":\"y\"}},\"id\":\"14830\",\"type\":\"Line\"},{\"attributes\":{},\"id\":\"6773\",\"type\":\"HelpTool\"},{\"attributes\":{},\"id\":\"11432\",\"type\":\"UnionRenderers\"},{\"attributes\":{},\"id\":\"6761\",\"type\":\"BasicTicker\"},{\"attributes\":{\"line_alpha\":0.1,\"line_color\":\"red\",\"x\":{\"field\":\"x\"},\"y\":{\"field\":\"y\"}},\"id\":\"14488\",\"type\":\"Line\"},{\"attributes\":{\"data_source\":{\"id\":\"15174\"},\"glyph\":{\"id\":\"15175\"},\"hover_glyph\":null,\"muted_glyph\":null,\"nonselection_glyph\":{\"id\":\"15176\"},\"selection_glyph\":null,\"view\":{\"id\":\"15178\"}},\"id\":\"15177\",\"type\":\"GlyphRenderer\"},{\"attributes\":{\"overlay\":{\"id\":\"6774\"}},\"id\":\"6770\",\"type\":\"BoxZoomTool\"},{\"attributes\":{},\"id\":\"13077\",\"type\":\"UnionRenderers\"},{\"attributes\":{\"data\":{\"x\":{\"__ndarray__\":\"jTfNt7NBsL9Fpevy24e2P6DV3epOIdE/tgTeJFiA1z9MSuLXBc/WP64cTBbzhtM/enAooOs10T/YT+RnMgjLP0v0hWNec78/iK7LGLtqeb+xxB5ygeGmv6gp8yJTZLq/ggECyEXDx78+1Wax3m/OvzZAEljcb9O/rgi35kkT17+2HpM0pU7Zv4Bi+hf1p9m/kb9cWgaL1L+2Br0vf6HKv403zbezQbC/\",\"dtype\":\"float64\",\"order\":\"little\",\"shape\":[21]},\"y\":{\"__ndarray__\":\"dkwEYw1X1z+kuKUsFXnVP6RDWKWWGs8/9HlxaDbYsj8fhbMVMsCRv/um6/jHoMO/eWaItGRRzb88J6yqsUPSvwjbKioqjda/U7RZ3hB227/GH+CQUSjcv+hUz4EzXNy/Jr+NH9QZ279KiJ7f7LjZvy4MUHmxDNS/HRAMOJSZxb8jCUf2Atqhv91p8Z2+HL4/oChAoTAC0j8SozdUVADXP3ZMBGMNV9c/\",\"dtype\":\"float64\",\"order\":\"little\",\"shape\":[21]}},\"selected\":{\"id\":\"12085\"},\"selection_policy\":{\"id\":\"12084\"}},\"id\":\"11814\",\"type\":\"ColumnDataSource\"},{\"attributes\":{},\"id\":\"13078\",\"type\":\"Selection\"},{\"attributes\":{\"line_color\":\"red\",\"x\":{\"field\":\"x\"},\"y\":{\"field\":\"y\"}},\"id\":\"7169\",\"type\":\"Line\"},{\"attributes\":{\"data\":{\"x\":{\"__ndarray__\":\"TzR4+krJjb/cOqbmgu58vx36axd/saI/cnnoklvavz/3V9l7Q+HGP0GHw8AMdss/JpPpokinyz+OJ+eBSc3FP+McnL16k7w/zFaD5cbFlz9Pnq0jZ4d6v/rjNgvGjKO/JJGsb5xVsL//M5Gg3T+yv7uUsVqFZ72/jgjysJD0yb/nkasxU3TQv4ypINS3vtK/fa8zxVXX0r9i82RprNTPv0faS0YgUci/Xm1ciDcAur/IvcBcT2ayv15LwJLFkKS/TzR4+krJjb8=\",\"dtype\":\"float64\",\"order\":\"little\",\"shape\":[25]},\"y\":{\"__ndarray__\":\"bCsJdbWeyz+jXGO8j4bLPw4PiWzIyso/h4f5PcEqwT+OVVuuVZizP4BmPDQm6Hg/sNRqx/IztL8PduEu3qvDv0GFtWrFHc2/zSysvmyV0r+nGGoKBbfTv3NjVIB7P9S/L5rDnrKc1L/LsnDCn5DUvwGMgxq8MtS/eZB3BnHFzr+8s6uf2mbHv0/YP/Thw7y/4PREJrMFnL9rtI2ZuUSoP5v4bkQrBr8/qFDatCmQxz9aKFZMWtPJP/S9KjhH5Mo/bCsJdbWeyz8=\",\"dtype\":\"float64\",\"order\":\"little\",\"shape\":[25]}},\"selected\":{\"id\":\"13750\"},\"selection_policy\":{\"id\":\"13749\"}},\"id\":\"13469\",\"type\":\"ColumnDataSource\"},{\"attributes\":{\"source\":{\"id\":\"10845\"}},\"id\":\"10849\",\"type\":\"CDSView\"},{\"attributes\":{\"source\":{\"id\":\"10017\"}},\"id\":\"10021\",\"type\":\"CDSView\"},{\"attributes\":{},\"id\":\"15117\",\"type\":\"UnionRenderers\"},{\"attributes\":{\"line_color\":\"red\",\"x\":{\"field\":\"x\"},\"y\":{\"field\":\"y\"}},\"id\":\"13470\",\"type\":\"Line\"},{\"attributes\":{},\"id\":\"10789\",\"type\":\"Selection\"},{\"attributes\":{},\"id\":\"6758\",\"type\":\"LinearScale\"},{\"attributes\":{},\"id\":\"6768\",\"type\":\"PanTool\"},{\"attributes\":{\"data\":{\"x\":{\"__ndarray__\":\"N5TRpLiRpL88fuTD2MySvwiBcT+wE4+/KKIuF4Pnqr8kYEn/61ytvwBFMzO0nLC/FAoLXurJsL83lNGkuJGkvw==\",\"dtype\":\"float64\",\"order\":\"little\",\"shape\":[8]},\"y\":{\"__ndarray__\":\"3vjL9R6jn7/ggRxkxaigv6rknQOkdrS/GUV5ANsis7+p0CxtS3CyvyPCgxbxzbC/JoJXsizNn7/e+Mv1HqOfvw==\",\"dtype\":\"float64\",\"order\":\"little\",\"shape\":[8]}},\"selected\":{\"id\":\"16873\"},\"selection_policy\":{\"id\":\"16872\"}},\"id\":\"16574\",\"type\":\"ColumnDataSource\"},{\"attributes\":{\"line_alpha\":0.1,\"line_color\":\"red\",\"x\":{\"field\":\"x\"},\"y\":{\"field\":\"y\"}},\"id\":\"13471\",\"type\":\"Line\"},{\"attributes\":{},\"id\":\"11433\",\"type\":\"Selection\"},{\"attributes\":{},\"id\":\"7036\",\"type\":\"Selection\"},{\"attributes\":{\"data_source\":{\"id\":\"13806\"},\"glyph\":{\"id\":\"13807\"},\"hover_glyph\":null,\"muted_glyph\":null,\"nonselection_glyph\":{\"id\":\"13808\"},\"selection_glyph\":null,\"view\":{\"id\":\"13810\"}},\"id\":\"13809\",\"type\":\"GlyphRenderer\"},{\"attributes\":{\"data_source\":{\"id\":\"12470\"},\"glyph\":{\"id\":\"12471\"},\"hover_glyph\":null,\"muted_glyph\":null,\"nonselection_glyph\":{\"id\":\"12472\"},\"selection_glyph\":null,\"view\":{\"id\":\"12474\"}},\"id\":\"12473\",\"type\":\"GlyphRenderer\"},{\"attributes\":{\"line_alpha\":0.1,\"line_color\":\"red\",\"x\":{\"field\":\"x\"},\"y\":{\"field\":\"y\"}},\"id\":\"7170\",\"type\":\"Line\"},{\"attributes\":{\"data_source\":{\"id\":\"16221\"},\"glyph\":{\"id\":\"16222\"},\"hover_glyph\":null,\"muted_glyph\":null,\"nonselection_glyph\":{\"id\":\"16223\"},\"selection_glyph\":null,\"view\":{\"id\":\"16225\"}},\"id\":\"16224\",\"type\":\"GlyphRenderer\"},{\"attributes\":{\"data\":{\"x\":{\"__ndarray__\":\"tXvIMMM+l7+IhSaY1AOaP7hJPK5onqs/SQLmJ+wOtT9nGukpv362P0BFiKqIQbo/xQoq5/N1uz/aZjJj9ve2P/y0SYdyLqY/MI4PGxfkbL9pbkVfNL2wv6S7JBFavr2/2xaXkP2UwL90Cn8Pit7Ev29fAUPOoMe/W76jppBryb8+Hmb9D+nHv6GdRiND7cS/sii6YNd/vL8BB4yfKSG1v7V7yDDDPpe/\",\"dtype\":\"float64\",\"order\":\"little\",\"shape\":[21]},\"y\":{\"__ndarray__\":\"wTtI3v/suz8ohQLSUSi4P/vcer6A6LE/z6BnS8dokD/Y8++eudprP/5fjdIMOaK/c/Qa9xZJtr8TyUn+94PCv1JnElg32cm/ft3zswHxzL/HVZO6ERPMvy+qys+S/si/d8VO+lzYx7/mP1MsrO/Dv8+Cl6vfgMC/nR/ZB7diuL9NI3Iy+AGmv42EPfO0SYo/rImrRTEfrT8k/rKUx+qzP8E7SN7/7Ls/\",\"dtype\":\"float64\",\"order\":\"little\",\"shape\":[21]}},\"selected\":{\"id\":\"15118\"},\"selection_policy\":{\"id\":\"15117\"}},\"id\":\"14829\",\"type\":\"ColumnDataSource\"},{\"attributes\":{\"data_source\":{\"id\":\"7168\"},\"glyph\":{\"id\":\"7169\"},\"hover_glyph\":null,\"muted_glyph\":null,\"nonselection_glyph\":{\"id\":\"7170\"},\"selection_glyph\":null,\"view\":{\"id\":\"7172\"}},\"id\":\"7171\",\"type\":\"GlyphRenderer\"},{\"attributes\":{\"data_source\":{\"id\":\"11814\"},\"glyph\":{\"id\":\"11815\"},\"hover_glyph\":null,\"muted_glyph\":null,\"nonselection_glyph\":{\"id\":\"11816\"},\"selection_glyph\":null,\"view\":{\"id\":\"11818\"}},\"id\":\"11817\",\"type\":\"GlyphRenderer\"},{\"attributes\":{\"line_color\":\"red\",\"x\":{\"field\":\"x\"},\"y\":{\"field\":\"y\"}},\"id\":\"10018\",\"type\":\"Line\"},{\"attributes\":{\"data_source\":{\"id\":\"10845\"},\"glyph\":{\"id\":\"10846\"},\"hover_glyph\":null,\"muted_glyph\":null,\"nonselection_glyph\":{\"id\":\"10847\"},\"selection_glyph\":null,\"view\":{\"id\":\"10849\"}},\"id\":\"10848\",\"type\":\"GlyphRenderer\"},{\"attributes\":{\"data\":{\"x\":{\"__ndarray__\":\"jTfNt7NBsL9Fpevy24e2P6DV3epOIdE/tgTeJFiA1z9MSuLXBc/WP64cTBbzhtM/enAooOs10T/YT+RnMgjLP0v0hWNec78/iK7LGLtqeb+xxB5ygeGmv6gp8yJTZLq/ggECyEXDx78+1Wax3m/OvzZAEljcb9O/rgi35kkT17+2HpM0pU7Zv4Bi+hf1p9m/kb9cWgaL1L+2Br0vf6HKv403zbezQbC/\",\"dtype\":\"float64\",\"order\":\"little\",\"shape\":[21]},\"y\":{\"__ndarray__\":\"dkwEYw1X1z+kuKUsFXnVP6RDWKWWGs8/9HlxaDbYsj8fhbMVMsCRv/um6/jHoMO/eWaItGRRzb88J6yqsUPSvwjbKioqjda/U7RZ3hB227/GH+CQUSjcv+hUz4EzXNy/Jr+NH9QZ279KiJ7f7LjZvy4MUHmxDNS/HRAMOJSZxb8jCUf2Atqhv91p8Z2+HL4/oChAoTAC0j8SozdUVADXP3ZMBGMNV9c/\",\"dtype\":\"float64\",\"order\":\"little\",\"shape\":[21]}},\"selected\":{\"id\":\"7411\"},\"selection_policy\":{\"id\":\"7410\"}},\"id\":\"7168\",\"type\":\"ColumnDataSource\"},{\"attributes\":{\"source\":{\"id\":\"15870\"}},\"id\":\"15874\",\"type\":\"CDSView\"},{\"attributes\":{\"source\":{\"id\":\"10526\"}},\"id\":\"10530\",\"type\":\"CDSView\"},{\"attributes\":{\"line_alpha\":0.1,\"line_color\":\"red\",\"x\":{\"field\":\"x\"},\"y\":{\"field\":\"y\"}},\"id\":\"10528\",\"type\":\"Line\"},{\"attributes\":{},\"id\":\"13749\",\"type\":\"UnionRenderers\"},{\"attributes\":{},\"id\":\"6756\",\"type\":\"LinearScale\"},{\"attributes\":{\"source\":{\"id\":\"7168\"}},\"id\":\"7172\",\"type\":\"CDSView\"},{\"attributes\":{\"source\":{\"id\":\"14829\"}},\"id\":\"14833\",\"type\":\"CDSView\"},{\"attributes\":{\"data_source\":{\"id\":\"7854\"},\"glyph\":{\"id\":\"7855\"},\"hover_glyph\":null,\"muted_glyph\":null,\"nonselection_glyph\":{\"id\":\"7856\"},\"selection_glyph\":null,\"view\":{\"id\":\"7858\"}},\"id\":\"7857\",\"type\":\"GlyphRenderer\"},{\"attributes\":{},\"id\":\"13750\",\"type\":\"Selection\"},{\"attributes\":{\"data_source\":{\"id\":\"15870\"},\"glyph\":{\"id\":\"15871\"},\"hover_glyph\":null,\"muted_glyph\":null,\"nonselection_glyph\":{\"id\":\"15872\"},\"selection_glyph\":null,\"view\":{\"id\":\"15874\"}},\"id\":\"15873\",\"type\":\"GlyphRenderer\"},{\"attributes\":{\"data\":{\"x\":{\"__ndarray__\":\"lJbJ3z2x37/oizOj0YHLPyxJ2fjBl9M/qIy+bWnD3D/MdD+5KprdP0CyM+B/rZS/UqXVHK3R27+UlsnfPbHfvw==\",\"dtype\":\"float64\",\"order\":\"little\",\"shape\":[8]},\"y\":{\"__ndarray__\":\"ftG3Jhwu3T9428lXIeDWP2yyHlz3j9M/1Fr3gJSZxz86Qq7WyUHev071kya6c96/VniyHJp03L9+0bcmHC7dPw==\",\"dtype\":\"float64\",\"order\":\"little\",\"shape\":[8]}},\"selected\":{\"id\":\"7798\"},\"selection_policy\":{\"id\":\"7797\"}},\"id\":\"7553\",\"type\":\"ColumnDataSource\"}],\"root_ids\":[\"6749\"]},\"title\":\"Bokeh Application\",\"version\":\"2.1.1\"}};\n",
       "  var render_items = [{\"docid\":\"e9843104-60d5-4859-8c79-72e49da80f40\",\"root_ids\":[\"6749\"],\"roots\":{\"6749\":\"4651a560-9496-47fd-928a-ccaa87b37683\"}}];\n",
       "  root.Bokeh.embed.embed_items_notebook(docs_json, render_items);\n",
       "\n",
       "  }\n",
       "  if (root.Bokeh !== undefined) {\n",
       "    embed_document(root);\n",
       "  } else {\n",
       "    var attempts = 0;\n",
       "    var timer = setInterval(function(root) {\n",
       "      if (root.Bokeh !== undefined) {\n",
       "        clearInterval(timer);\n",
       "        embed_document(root);\n",
       "      } else {\n",
       "        attempts++;\n",
       "        if (attempts > 100) {\n",
       "          clearInterval(timer);\n",
       "          console.log(\"Bokeh: ERROR: Unable to run BokehJS code because BokehJS library is missing\");\n",
       "        }\n",
       "      }\n",
       "    }, 10, root)\n",
       "  }\n",
       "})(window);"
      ],
      "application/vnd.bokehjs_exec.v0+json": ""
     },
     "metadata": {
      "application/vnd.bokehjs_exec.v0+json": {
       "id": "6749"
      }
     },
     "output_type": "display_data"
    }
   ],
   "source": [
    "show(f)"
   ]
  },
  {
   "cell_type": "code",
   "execution_count": 195,
   "metadata": {},
   "outputs": [],
   "source": [
    "from tqdm.notebook import tqdm"
   ]
  },
  {
   "cell_type": "code",
   "execution_count": 239,
   "metadata": {},
   "outputs": [
    {
     "data": {
      "application/vnd.jupyter.widget-view+json": {
       "model_id": "9e63c98b008b460fb9a78e15bd119f41",
       "version_major": 2,
       "version_minor": 0
      },
      "text/plain": [
       "HBox(children=(FloatProgress(value=0.0, max=40.0), HTML(value='')))"
      ]
     },
     "metadata": {},
     "output_type": "display_data"
    },
    {
     "name": "stdout",
     "output_type": "stream",
     "text": [
      "\n"
     ]
    }
   ],
   "source": [
    "n=figure()\n",
    "v=np.zeros((40,100))\n",
    "\n",
    "for j in tqdm(range(40)):\n",
    "    points = np.random.uniform(-.5,.5,size=(100,2))\n",
    "    #points = np.random.normal(0,1,size=(100,2))\n",
    "    for i in np.arange(1,100):\n",
    "        v[j,i]=RCH(points,1/i).vertices.shape[0]\n",
    "\n",
    " "
   ]
  },
  {
   "cell_type": "code",
   "execution_count": 240,
   "metadata": {},
   "outputs": [],
   "source": [
    "m=v.mean(axis=0)"
   ]
  },
  {
   "cell_type": "code",
   "execution_count": 241,
   "metadata": {},
   "outputs": [
    {
     "data": {
      "text/html": [
       "<div style=\"display: table;\"><div style=\"display: table-row;\"><div style=\"display: table-cell;\"><b title=\"bokeh.models.renderers.GlyphRenderer\">GlyphRenderer</b>(</div><div style=\"display: table-cell;\">id&nbsp;=&nbsp;'899377', <span id=\"899380\" style=\"cursor: pointer;\">&hellip;)</span></div></div><div class=\"899379\" style=\"display: none;\"><div style=\"display: table-cell;\"></div><div style=\"display: table-cell;\">data_source&nbsp;=&nbsp;ColumnDataSource(id='899374', ...),</div></div><div class=\"899379\" style=\"display: none;\"><div style=\"display: table-cell;\"></div><div style=\"display: table-cell;\">glyph&nbsp;=&nbsp;Line(id='899375', ...),</div></div><div class=\"899379\" style=\"display: none;\"><div style=\"display: table-cell;\"></div><div style=\"display: table-cell;\">hover_glyph&nbsp;=&nbsp;None,</div></div><div class=\"899379\" style=\"display: none;\"><div style=\"display: table-cell;\"></div><div style=\"display: table-cell;\">js_event_callbacks&nbsp;=&nbsp;{},</div></div><div class=\"899379\" style=\"display: none;\"><div style=\"display: table-cell;\"></div><div style=\"display: table-cell;\">js_property_callbacks&nbsp;=&nbsp;{},</div></div><div class=\"899379\" style=\"display: none;\"><div style=\"display: table-cell;\"></div><div style=\"display: table-cell;\">level&nbsp;=&nbsp;'glyph',</div></div><div class=\"899379\" style=\"display: none;\"><div style=\"display: table-cell;\"></div><div style=\"display: table-cell;\">muted&nbsp;=&nbsp;False,</div></div><div class=\"899379\" style=\"display: none;\"><div style=\"display: table-cell;\"></div><div style=\"display: table-cell;\">muted_glyph&nbsp;=&nbsp;None,</div></div><div class=\"899379\" style=\"display: none;\"><div style=\"display: table-cell;\"></div><div style=\"display: table-cell;\">name&nbsp;=&nbsp;None,</div></div><div class=\"899379\" style=\"display: none;\"><div style=\"display: table-cell;\"></div><div style=\"display: table-cell;\">nonselection_glyph&nbsp;=&nbsp;Line(id='899376', ...),</div></div><div class=\"899379\" style=\"display: none;\"><div style=\"display: table-cell;\"></div><div style=\"display: table-cell;\">selection_glyph&nbsp;=&nbsp;None,</div></div><div class=\"899379\" style=\"display: none;\"><div style=\"display: table-cell;\"></div><div style=\"display: table-cell;\">subscribed_events&nbsp;=&nbsp;[],</div></div><div class=\"899379\" style=\"display: none;\"><div style=\"display: table-cell;\"></div><div style=\"display: table-cell;\">tags&nbsp;=&nbsp;[],</div></div><div class=\"899379\" style=\"display: none;\"><div style=\"display: table-cell;\"></div><div style=\"display: table-cell;\">view&nbsp;=&nbsp;CDSView(id='899378', ...),</div></div><div class=\"899379\" style=\"display: none;\"><div style=\"display: table-cell;\"></div><div style=\"display: table-cell;\">visible&nbsp;=&nbsp;True,</div></div><div class=\"899379\" style=\"display: none;\"><div style=\"display: table-cell;\"></div><div style=\"display: table-cell;\">x_range_name&nbsp;=&nbsp;'default',</div></div><div class=\"899379\" style=\"display: none;\"><div style=\"display: table-cell;\"></div><div style=\"display: table-cell;\">y_range_name&nbsp;=&nbsp;'default')</div></div></div>\n",
       "<script>\n",
       "(function() {\n",
       "  var expanded = false;\n",
       "  var ellipsis = document.getElementById(\"899380\");\n",
       "  ellipsis.addEventListener(\"click\", function() {\n",
       "    var rows = document.getElementsByClassName(\"899379\");\n",
       "    for (var i = 0; i < rows.length; i++) {\n",
       "      var el = rows[i];\n",
       "      el.style.display = expanded ? \"none\" : \"table-row\";\n",
       "    }\n",
       "    ellipsis.innerHTML = expanded ? \"&hellip;)\" : \"&lsaquo;&lsaquo;&lsaquo;\";\n",
       "    expanded = !expanded;\n",
       "  });\n",
       "})();\n",
       "</script>\n"
      ],
      "text/plain": [
       "GlyphRenderer(id='899377', ...)"
      ]
     },
     "execution_count": 241,
     "metadata": {},
     "output_type": "execute_result"
    }
   ],
   "source": [
    "n.line(x=range(100),y=m)"
   ]
  },
  {
   "cell_type": "code",
   "execution_count": 242,
   "metadata": {},
   "outputs": [
    {
     "data": {
      "text/html": [
       "\n",
       "\n",
       "\n",
       "\n",
       "\n",
       "\n",
       "  <div class=\"bk-root\" id=\"b21794e7-dcda-4b09-a654-321a8a462a67\" data-root-id=\"681543\"></div>\n"
      ]
     },
     "metadata": {},
     "output_type": "display_data"
    },
    {
     "data": {
      "application/javascript": [
       "(function(root) {\n",
       "  function embed_document(root) {\n",
       "    \n",
       "  var docs_json = {\"b9997976-e57d-44a1-8b05-b5393ec80575\":{\"roots\":{\"references\":[{\"attributes\":{\"below\":[{\"id\":\"681552\"}],\"center\":[{\"id\":\"681555\"},{\"id\":\"681559\"}],\"left\":[{\"id\":\"681556\"}],\"renderers\":[{\"id\":\"899377\"}],\"title\":{\"id\":\"900020\"},\"toolbar\":{\"id\":\"681567\"},\"x_range\":{\"id\":\"681544\"},\"x_scale\":{\"id\":\"681548\"},\"y_range\":{\"id\":\"681546\"},\"y_scale\":{\"id\":\"681550\"}},\"id\":\"681543\",\"subtype\":\"Figure\",\"type\":\"Plot\"},{\"attributes\":{\"formatter\":{\"id\":\"900024\"},\"ticker\":{\"id\":\"681557\"}},\"id\":\"681556\",\"type\":\"LinearAxis\"},{\"attributes\":{},\"id\":\"681553\",\"type\":\"BasicTicker\"},{\"attributes\":{},\"id\":\"681564\",\"type\":\"ResetTool\"},{\"attributes\":{},\"id\":\"900027\",\"type\":\"Selection\"},{\"attributes\":{\"overlay\":{\"id\":\"681566\"}},\"id\":\"681562\",\"type\":\"BoxZoomTool\"},{\"attributes\":{},\"id\":\"681557\",\"type\":\"BasicTicker\"},{\"attributes\":{},\"id\":\"681560\",\"type\":\"PanTool\"},{\"attributes\":{\"axis\":{\"id\":\"681556\"},\"dimension\":1,\"ticker\":null},\"id\":\"681559\",\"type\":\"Grid\"},{\"attributes\":{},\"id\":\"681563\",\"type\":\"SaveTool\"},{\"attributes\":{},\"id\":\"900024\",\"type\":\"BasicTickFormatter\"},{\"attributes\":{\"formatter\":{\"id\":\"900022\"},\"ticker\":{\"id\":\"681553\"}},\"id\":\"681552\",\"type\":\"LinearAxis\"},{\"attributes\":{},\"id\":\"681565\",\"type\":\"HelpTool\"},{\"attributes\":{},\"id\":\"900026\",\"type\":\"UnionRenderers\"},{\"attributes\":{},\"id\":\"900022\",\"type\":\"BasicTickFormatter\"},{\"attributes\":{},\"id\":\"681544\",\"type\":\"DataRange1d\"},{\"attributes\":{\"data\":{\"x\":[0,1,2,3,4,5,6,7,8,9,10,11,12,13,14,15,16,17,18,19,20,21,22,23,24,25,26,27,28,29,30,31,32,33,34,35,36,37,38,39,40,41,42,43,44,45,46,47,48,49,50,51,52,53,54,55,56,57,58,59,60,61,62,63,64,65,66,67,68,69,70,71,72,73,74,75,76,77,78,79,80,81,82,83,84,85,86,87,88,89,90,91,92,93,94,95,96,97,98,99],\"y\":{\"__ndarray__\":\"AAAAAAAAAABmZmZmZiYqQDMzMzMzczZAZmZmZmZmPkBmZmZmZgZDQAAAAAAAkEVAAAAAAACQSEAzMzMzMwNMQGZmZmZmdk5AZmZmZmaOUECamZmZmWFRQJqZmZmZiVJAZmZmZmZ+U0DNzMzMzCxUQM3MzMzMBFVAmpmZmZnJVUAAAAAAAIBWQDMzMzMzc1dAMzMzMzM7WECamZmZmbFYQJqZmZmZeVlAAAAAAACQWUAAAAAAACBaQM3MzMzMTFtAZmZmZmauW0AAAAAAALBcQDMzMzMzq1xAAAAAAABYXUAzMzMzM7tdQGZmZmZmtl1AMzMzMzPbXUBmZmZmZmZeQM3MzMzMlF5AMzMzMzMTX0BmZmZmZi5fQJqZmZmZwV9AzczMzMy8X0BmZmZmZq5fQGZmZmZmBmBAMzMzMzMfYEAzMzMzMzNgQGZmZmZmkmBAmpmZmZmNYEAzMzMzM7tgQAAAAAAAsGBAZmZmZmauYEAzMzMzM79gQAAAAAAABGFAZmZmZmbaYEBmZmZmZv5gQGZmZmZm1mBAZmZmZmb+YEBmZmZmZtpgQAAAAAAABGFAMzMzMzO/YEBmZmZmZq5gQAAAAAAAsGBAMzMzMzO7YECamZmZmY1gQGZmZmZmkmBAMzMzMzMzYEAzMzMzMx9gQGZmZmZmBmBAZmZmZmauX0DNzMzMzLxfQJqZmZmZwV9AZmZmZmYuX0AzMzMzMxNfQM3MzMzMlF5AZmZmZmZmXkAzMzMzM9tdQGZmZmZmtl1AMzMzMzO7XUAAAAAAAFhdQDMzMzMzq1xAAAAAAACwXEBmZmZmZq5bQM3MzMzMTFtAAAAAAAAgWkAAAAAAAJBZQJqZmZmZeVlAmpmZmZmxWEAzMzMzMztYQDMzMzMzc1dAAAAAAACAVkCamZmZmclVQM3MzMzMBFVAzczMzMwsVEBmZmZmZn5TQJqZmZmZiVJAmpmZmZlhUUBmZmZmZo5QQGZmZmZmdk5AMzMzMzMDTEAAAAAAAJBIQAAAAAAAkEVAZmZmZmYGQ0BmZmZmZmY+QDMzMzMzczZAZmZmZmYmKkA=\",\"dtype\":\"float64\",\"order\":\"little\",\"shape\":[100]}},\"selected\":{\"id\":\"900027\"},\"selection_policy\":{\"id\":\"900026\"}},\"id\":\"899374\",\"type\":\"ColumnDataSource\"},{\"attributes\":{\"data_source\":{\"id\":\"899374\"},\"glyph\":{\"id\":\"899375\"},\"hover_glyph\":null,\"muted_glyph\":null,\"nonselection_glyph\":{\"id\":\"899376\"},\"selection_glyph\":null,\"view\":{\"id\":\"899378\"}},\"id\":\"899377\",\"type\":\"GlyphRenderer\"},{\"attributes\":{\"axis\":{\"id\":\"681552\"},\"ticker\":null},\"id\":\"681555\",\"type\":\"Grid\"},{\"attributes\":{},\"id\":\"681550\",\"type\":\"LinearScale\"},{\"attributes\":{\"line_color\":\"#1f77b4\",\"x\":{\"field\":\"x\"},\"y\":{\"field\":\"y\"}},\"id\":\"899375\",\"type\":\"Line\"},{\"attributes\":{\"active_drag\":\"auto\",\"active_inspect\":\"auto\",\"active_multi\":null,\"active_scroll\":\"auto\",\"active_tap\":\"auto\",\"tools\":[{\"id\":\"681560\"},{\"id\":\"681561\"},{\"id\":\"681562\"},{\"id\":\"681563\"},{\"id\":\"681564\"},{\"id\":\"681565\"}]},\"id\":\"681567\",\"type\":\"Toolbar\"},{\"attributes\":{},\"id\":\"681546\",\"type\":\"DataRange1d\"},{\"attributes\":{\"text\":\"\"},\"id\":\"900020\",\"type\":\"Title\"},{\"attributes\":{},\"id\":\"681561\",\"type\":\"WheelZoomTool\"},{\"attributes\":{\"source\":{\"id\":\"899374\"}},\"id\":\"899378\",\"type\":\"CDSView\"},{\"attributes\":{\"line_alpha\":0.1,\"line_color\":\"#1f77b4\",\"x\":{\"field\":\"x\"},\"y\":{\"field\":\"y\"}},\"id\":\"899376\",\"type\":\"Line\"},{\"attributes\":{},\"id\":\"681548\",\"type\":\"LinearScale\"},{\"attributes\":{\"bottom_units\":\"screen\",\"fill_alpha\":0.5,\"fill_color\":\"lightgrey\",\"left_units\":\"screen\",\"level\":\"overlay\",\"line_alpha\":1.0,\"line_color\":\"black\",\"line_dash\":[4,4],\"line_width\":2,\"right_units\":\"screen\",\"top_units\":\"screen\"},\"id\":\"681566\",\"type\":\"BoxAnnotation\"}],\"root_ids\":[\"681543\"]},\"title\":\"Bokeh Application\",\"version\":\"2.1.1\"}};\n",
       "  var render_items = [{\"docid\":\"b9997976-e57d-44a1-8b05-b5393ec80575\",\"root_ids\":[\"681543\"],\"roots\":{\"681543\":\"b21794e7-dcda-4b09-a654-321a8a462a67\"}}];\n",
       "  root.Bokeh.embed.embed_items_notebook(docs_json, render_items);\n",
       "\n",
       "  }\n",
       "  if (root.Bokeh !== undefined) {\n",
       "    embed_document(root);\n",
       "  } else {\n",
       "    var attempts = 0;\n",
       "    var timer = setInterval(function(root) {\n",
       "      if (root.Bokeh !== undefined) {\n",
       "        clearInterval(timer);\n",
       "        embed_document(root);\n",
       "      } else {\n",
       "        attempts++;\n",
       "        if (attempts > 100) {\n",
       "          clearInterval(timer);\n",
       "          console.log(\"Bokeh: ERROR: Unable to run BokehJS code because BokehJS library is missing\");\n",
       "        }\n",
       "      }\n",
       "    }, 10, root)\n",
       "  }\n",
       "})(window);"
      ],
      "application/vnd.bokehjs_exec.v0+json": ""
     },
     "metadata": {
      "application/vnd.bokehjs_exec.v0+json": {
       "id": "681543"
      }
     },
     "output_type": "display_data"
    }
   ],
   "source": [
    "show(n)"
   ]
  },
  {
   "cell_type": "code",
   "execution_count": 243,
   "metadata": {},
   "outputs": [],
   "source": [
    "z=np.poly1d(np.polyfit(np.arange(100),m,2))"
   ]
  },
  {
   "cell_type": "code",
   "execution_count": 244,
   "metadata": {},
   "outputs": [
    {
     "data": {
      "text/html": [
       "<div style=\"display: table;\"><div style=\"display: table-row;\"><div style=\"display: table-cell;\"><b title=\"bokeh.models.renderers.GlyphRenderer\">GlyphRenderer</b>(</div><div style=\"display: table-cell;\">id&nbsp;=&nbsp;'900085', <span id=\"900737\" style=\"cursor: pointer;\">&hellip;)</span></div></div><div class=\"900736\" style=\"display: none;\"><div style=\"display: table-cell;\"></div><div style=\"display: table-cell;\">data_source&nbsp;=&nbsp;ColumnDataSource(id='900082', ...),</div></div><div class=\"900736\" style=\"display: none;\"><div style=\"display: table-cell;\"></div><div style=\"display: table-cell;\">glyph&nbsp;=&nbsp;Line(id='900083', ...),</div></div><div class=\"900736\" style=\"display: none;\"><div style=\"display: table-cell;\"></div><div style=\"display: table-cell;\">hover_glyph&nbsp;=&nbsp;None,</div></div><div class=\"900736\" style=\"display: none;\"><div style=\"display: table-cell;\"></div><div style=\"display: table-cell;\">js_event_callbacks&nbsp;=&nbsp;{},</div></div><div class=\"900736\" style=\"display: none;\"><div style=\"display: table-cell;\"></div><div style=\"display: table-cell;\">js_property_callbacks&nbsp;=&nbsp;{},</div></div><div class=\"900736\" style=\"display: none;\"><div style=\"display: table-cell;\"></div><div style=\"display: table-cell;\">level&nbsp;=&nbsp;'glyph',</div></div><div class=\"900736\" style=\"display: none;\"><div style=\"display: table-cell;\"></div><div style=\"display: table-cell;\">muted&nbsp;=&nbsp;False,</div></div><div class=\"900736\" style=\"display: none;\"><div style=\"display: table-cell;\"></div><div style=\"display: table-cell;\">muted_glyph&nbsp;=&nbsp;None,</div></div><div class=\"900736\" style=\"display: none;\"><div style=\"display: table-cell;\"></div><div style=\"display: table-cell;\">name&nbsp;=&nbsp;None,</div></div><div class=\"900736\" style=\"display: none;\"><div style=\"display: table-cell;\"></div><div style=\"display: table-cell;\">nonselection_glyph&nbsp;=&nbsp;Line(id='900084', ...),</div></div><div class=\"900736\" style=\"display: none;\"><div style=\"display: table-cell;\"></div><div style=\"display: table-cell;\">selection_glyph&nbsp;=&nbsp;None,</div></div><div class=\"900736\" style=\"display: none;\"><div style=\"display: table-cell;\"></div><div style=\"display: table-cell;\">subscribed_events&nbsp;=&nbsp;[],</div></div><div class=\"900736\" style=\"display: none;\"><div style=\"display: table-cell;\"></div><div style=\"display: table-cell;\">tags&nbsp;=&nbsp;[],</div></div><div class=\"900736\" style=\"display: none;\"><div style=\"display: table-cell;\"></div><div style=\"display: table-cell;\">view&nbsp;=&nbsp;CDSView(id='900086', ...),</div></div><div class=\"900736\" style=\"display: none;\"><div style=\"display: table-cell;\"></div><div style=\"display: table-cell;\">visible&nbsp;=&nbsp;True,</div></div><div class=\"900736\" style=\"display: none;\"><div style=\"display: table-cell;\"></div><div style=\"display: table-cell;\">x_range_name&nbsp;=&nbsp;'default',</div></div><div class=\"900736\" style=\"display: none;\"><div style=\"display: table-cell;\"></div><div style=\"display: table-cell;\">y_range_name&nbsp;=&nbsp;'default')</div></div></div>\n",
       "<script>\n",
       "(function() {\n",
       "  var expanded = false;\n",
       "  var ellipsis = document.getElementById(\"900737\");\n",
       "  ellipsis.addEventListener(\"click\", function() {\n",
       "    var rows = document.getElementsByClassName(\"900736\");\n",
       "    for (var i = 0; i < rows.length; i++) {\n",
       "      var el = rows[i];\n",
       "      el.style.display = expanded ? \"none\" : \"table-row\";\n",
       "    }\n",
       "    ellipsis.innerHTML = expanded ? \"&hellip;)\" : \"&lsaquo;&lsaquo;&lsaquo;\";\n",
       "    expanded = !expanded;\n",
       "  });\n",
       "})();\n",
       "</script>\n"
      ],
      "text/plain": [
       "GlyphRenderer(id='900085', ...)"
      ]
     },
     "execution_count": 244,
     "metadata": {},
     "output_type": "execute_result"
    }
   ],
   "source": [
    "n.line(x=range(100),y=[z(x) for x in range(100)])"
   ]
  },
  {
   "cell_type": "code",
   "execution_count": 245,
   "metadata": {},
   "outputs": [
    {
     "data": {
      "text/html": [
       "\n",
       "\n",
       "\n",
       "\n",
       "\n",
       "\n",
       "  <div class=\"bk-root\" id=\"25589bbd-6644-41aa-a708-d60e855f0cc7\" data-root-id=\"681543\"></div>\n"
      ]
     },
     "metadata": {},
     "output_type": "display_data"
    },
    {
     "data": {
      "application/javascript": [
       "(function(root) {\n",
       "  function embed_document(root) {\n",
       "    \n",
       "  var docs_json = {\"56485507-f35a-4c9a-aca1-9240e1977654\":{\"roots\":{\"references\":[{\"attributes\":{\"below\":[{\"id\":\"681552\"}],\"center\":[{\"id\":\"681555\"},{\"id\":\"681559\"}],\"left\":[{\"id\":\"681556\"}],\"renderers\":[{\"id\":\"899377\"},{\"id\":\"900085\"}],\"title\":{\"id\":\"900020\"},\"toolbar\":{\"id\":\"681567\"},\"x_range\":{\"id\":\"681544\"},\"x_scale\":{\"id\":\"681548\"},\"y_range\":{\"id\":\"681546\"},\"y_scale\":{\"id\":\"681550\"}},\"id\":\"681543\",\"subtype\":\"Figure\",\"type\":\"Plot\"},{\"attributes\":{\"formatter\":{\"id\":\"900024\"},\"ticker\":{\"id\":\"681557\"}},\"id\":\"681556\",\"type\":\"LinearAxis\"},{\"attributes\":{\"data_source\":{\"id\":\"900082\"},\"glyph\":{\"id\":\"900083\"},\"hover_glyph\":null,\"muted_glyph\":null,\"nonselection_glyph\":{\"id\":\"900084\"},\"selection_glyph\":null,\"view\":{\"id\":\"900086\"}},\"id\":\"900085\",\"type\":\"GlyphRenderer\"},{\"attributes\":{},\"id\":\"681553\",\"type\":\"BasicTicker\"},{\"attributes\":{},\"id\":\"681564\",\"type\":\"ResetTool\"},{\"attributes\":{},\"id\":\"900027\",\"type\":\"Selection\"},{\"attributes\":{\"overlay\":{\"id\":\"681566\"}},\"id\":\"681562\",\"type\":\"BoxZoomTool\"},{\"attributes\":{},\"id\":\"681557\",\"type\":\"BasicTicker\"},{\"attributes\":{\"line_color\":\"#1f77b4\",\"x\":{\"field\":\"x\"},\"y\":{\"field\":\"y\"}},\"id\":\"900083\",\"type\":\"Line\"},{\"attributes\":{},\"id\":\"681560\",\"type\":\"PanTool\"},{\"attributes\":{\"axis\":{\"id\":\"681556\"},\"dimension\":1,\"ticker\":null},\"id\":\"681559\",\"type\":\"Grid\"},{\"attributes\":{},\"id\":\"681563\",\"type\":\"SaveTool\"},{\"attributes\":{},\"id\":\"900024\",\"type\":\"BasicTickFormatter\"},{\"attributes\":{\"formatter\":{\"id\":\"900022\"},\"ticker\":{\"id\":\"681553\"}},\"id\":\"681552\",\"type\":\"LinearAxis\"},{\"attributes\":{},\"id\":\"900735\",\"type\":\"Selection\"},{\"attributes\":{},\"id\":\"681565\",\"type\":\"HelpTool\"},{\"attributes\":{},\"id\":\"900026\",\"type\":\"UnionRenderers\"},{\"attributes\":{},\"id\":\"900022\",\"type\":\"BasicTickFormatter\"},{\"attributes\":{},\"id\":\"681544\",\"type\":\"DataRange1d\"},{\"attributes\":{\"data\":{\"x\":[0,1,2,3,4,5,6,7,8,9,10,11,12,13,14,15,16,17,18,19,20,21,22,23,24,25,26,27,28,29,30,31,32,33,34,35,36,37,38,39,40,41,42,43,44,45,46,47,48,49,50,51,52,53,54,55,56,57,58,59,60,61,62,63,64,65,66,67,68,69,70,71,72,73,74,75,76,77,78,79,80,81,82,83,84,85,86,87,88,89,90,91,92,93,94,95,96,97,98,99],\"y\":{\"__ndarray__\":\"AAAAAAAAAABmZmZmZiYqQDMzMzMzczZAZmZmZmZmPkBmZmZmZgZDQAAAAAAAkEVAAAAAAACQSEAzMzMzMwNMQGZmZmZmdk5AZmZmZmaOUECamZmZmWFRQJqZmZmZiVJAZmZmZmZ+U0DNzMzMzCxUQM3MzMzMBFVAmpmZmZnJVUAAAAAAAIBWQDMzMzMzc1dAMzMzMzM7WECamZmZmbFYQJqZmZmZeVlAAAAAAACQWUAAAAAAACBaQM3MzMzMTFtAZmZmZmauW0AAAAAAALBcQDMzMzMzq1xAAAAAAABYXUAzMzMzM7tdQGZmZmZmtl1AMzMzMzPbXUBmZmZmZmZeQM3MzMzMlF5AMzMzMzMTX0BmZmZmZi5fQJqZmZmZwV9AzczMzMy8X0BmZmZmZq5fQGZmZmZmBmBAMzMzMzMfYEAzMzMzMzNgQGZmZmZmkmBAmpmZmZmNYEAzMzMzM7tgQAAAAAAAsGBAZmZmZmauYEAzMzMzM79gQAAAAAAABGFAZmZmZmbaYEBmZmZmZv5gQGZmZmZm1mBAZmZmZmb+YEBmZmZmZtpgQAAAAAAABGFAMzMzMzO/YEBmZmZmZq5gQAAAAAAAsGBAMzMzMzO7YECamZmZmY1gQGZmZmZmkmBAMzMzMzMzYEAzMzMzMx9gQGZmZmZmBmBAZmZmZmauX0DNzMzMzLxfQJqZmZmZwV9AZmZmZmYuX0AzMzMzMxNfQM3MzMzMlF5AZmZmZmZmXkAzMzMzM9tdQGZmZmZmtl1AMzMzMzO7XUAAAAAAAFhdQDMzMzMzq1xAAAAAAACwXEBmZmZmZq5bQM3MzMzMTFtAAAAAAAAgWkAAAAAAAJBZQJqZmZmZeVlAmpmZmZmxWEAzMzMzMztYQDMzMzMzc1dAAAAAAACAVkCamZmZmclVQM3MzMzMBFVAzczMzMwsVEBmZmZmZn5TQJqZmZmZiVJAmpmZmZlhUUBmZmZmZo5QQGZmZmZmdk5AMzMzMzMDTEAAAAAAAJBIQAAAAAAAkEVAZmZmZmYGQ0BmZmZmZmY+QDMzMzMzczZAZmZmZmYmKkA=\",\"dtype\":\"float64\",\"order\":\"little\",\"shape\":[100]}},\"selected\":{\"id\":\"900027\"},\"selection_policy\":{\"id\":\"900026\"}},\"id\":\"899374\",\"type\":\"ColumnDataSource\"},{\"attributes\":{\"data_source\":{\"id\":\"899374\"},\"glyph\":{\"id\":\"899375\"},\"hover_glyph\":null,\"muted_glyph\":null,\"nonselection_glyph\":{\"id\":\"899376\"},\"selection_glyph\":null,\"view\":{\"id\":\"899378\"}},\"id\":\"899377\",\"type\":\"GlyphRenderer\"},{\"attributes\":{\"axis\":{\"id\":\"681552\"},\"ticker\":null},\"id\":\"681555\",\"type\":\"Grid\"},{\"attributes\":{},\"id\":\"681550\",\"type\":\"LinearScale\"},{\"attributes\":{\"line_color\":\"#1f77b4\",\"x\":{\"field\":\"x\"},\"y\":{\"field\":\"y\"}},\"id\":\"899375\",\"type\":\"Line\"},{\"attributes\":{\"active_drag\":\"auto\",\"active_inspect\":\"auto\",\"active_multi\":null,\"active_scroll\":\"auto\",\"active_tap\":\"auto\",\"tools\":[{\"id\":\"681560\"},{\"id\":\"681561\"},{\"id\":\"681562\"},{\"id\":\"681563\"},{\"id\":\"681564\"},{\"id\":\"681565\"}]},\"id\":\"681567\",\"type\":\"Toolbar\"},{\"attributes\":{},\"id\":\"681546\",\"type\":\"DataRange1d\"},{\"attributes\":{\"line_alpha\":0.1,\"line_color\":\"#1f77b4\",\"x\":{\"field\":\"x\"},\"y\":{\"field\":\"y\"}},\"id\":\"900084\",\"type\":\"Line\"},{\"attributes\":{\"text\":\"\"},\"id\":\"900020\",\"type\":\"Title\"},{\"attributes\":{\"data\":{\"x\":[0,1,2,3,4,5,6,7,8,9,10,11,12,13,14,15,16,17,18,19,20,21,22,23,24,25,26,27,28,29,30,31,32,33,34,35,36,37,38,39,40,41,42,43,44,45,46,47,48,49,50,51,52,53,54,55,56,57,58,59,60,61,62,63,64,65,66,67,68,69,70,71,72,73,74,75,76,77,78,79,80,81,82,83,84,85,86,87,88,89,90,91,92,93,94,95,96,97,98,99],\"y\":[22.304864589400093,26.893054614284935,31.388832597845596,35.792198540082076,40.10315244099438,44.32169430058249,48.44782411884644,52.481541895786194,56.422847631401766,60.27174132569317,64.0282229786604,67.69229259030342,71.26395016062227,74.74319568961695,78.13002917728745,81.42445062363376,84.6264600286559,87.73605739235386,90.75324271472763,93.67801599577723,96.51037723550265,99.25032643390388,101.89786359098092,104.45298870673379,106.91570178116248,109.28600281426701,111.56389180604732,113.74936875650349,115.84243366563545,117.84308653344324,119.75132735992685,121.56715614508627,123.29057288892153,124.9215775914326,126.46017025261946,127.90635087248218,129.2601194510207,130.52147598823504,131.6904204841252,132.76695293869122,133.751073351933,134.64278172385062,135.44207805444407,136.14896234371335,136.7634345916584,137.28549479827933,137.71514296357606,138.0523790875486,138.29720317019695,138.44961521152115,138.50961521152112,138.47720317019696,138.35237908754857,138.13514296357604,137.82549479827935,137.42343459165843,136.92896234371335,136.34207805444407,135.66278172385066,134.89107335193302,134.0269529386912,133.0704204841252,132.02147598823507,130.8801194510207,129.6463508724822,128.3201702526195,126.90157759143261,125.39057288892155,123.78715614508629,122.09132735992688,120.30308653344325,118.42243366563548,116.44936875650349,114.38389180604736,112.226002814267,109.97570178116251,107.63298870673384,105.19786359098094,102.67032643390391,100.05037723550267,97.33801599577727,94.53324271472766,91.6360573923539,88.64646002865592,85.5644506236338,82.39002917728747,79.12319568961699,75.76395016062234,72.31229259030346,68.7682229786604,65.13174132569324,61.402847631401826,57.58154189578623,53.66782411884645,49.66169430058257,45.56315244099443,41.37219854008211,37.08883259784569,32.71305461428501,28.244864589400144]},\"selected\":{\"id\":\"900735\"},\"selection_policy\":{\"id\":\"900734\"}},\"id\":\"900082\",\"type\":\"ColumnDataSource\"},{\"attributes\":{\"source\":{\"id\":\"900082\"}},\"id\":\"900086\",\"type\":\"CDSView\"},{\"attributes\":{},\"id\":\"681561\",\"type\":\"WheelZoomTool\"},{\"attributes\":{\"source\":{\"id\":\"899374\"}},\"id\":\"899378\",\"type\":\"CDSView\"},{\"attributes\":{\"line_alpha\":0.1,\"line_color\":\"#1f77b4\",\"x\":{\"field\":\"x\"},\"y\":{\"field\":\"y\"}},\"id\":\"899376\",\"type\":\"Line\"},{\"attributes\":{},\"id\":\"681548\",\"type\":\"LinearScale\"},{\"attributes\":{},\"id\":\"900734\",\"type\":\"UnionRenderers\"},{\"attributes\":{\"bottom_units\":\"screen\",\"fill_alpha\":0.5,\"fill_color\":\"lightgrey\",\"left_units\":\"screen\",\"level\":\"overlay\",\"line_alpha\":1.0,\"line_color\":\"black\",\"line_dash\":[4,4],\"line_width\":2,\"right_units\":\"screen\",\"top_units\":\"screen\"},\"id\":\"681566\",\"type\":\"BoxAnnotation\"}],\"root_ids\":[\"681543\"]},\"title\":\"Bokeh Application\",\"version\":\"2.1.1\"}};\n",
       "  var render_items = [{\"docid\":\"56485507-f35a-4c9a-aca1-9240e1977654\",\"root_ids\":[\"681543\"],\"roots\":{\"681543\":\"25589bbd-6644-41aa-a708-d60e855f0cc7\"}}];\n",
       "  root.Bokeh.embed.embed_items_notebook(docs_json, render_items);\n",
       "\n",
       "  }\n",
       "  if (root.Bokeh !== undefined) {\n",
       "    embed_document(root);\n",
       "  } else {\n",
       "    var attempts = 0;\n",
       "    var timer = setInterval(function(root) {\n",
       "      if (root.Bokeh !== undefined) {\n",
       "        clearInterval(timer);\n",
       "        embed_document(root);\n",
       "      } else {\n",
       "        attempts++;\n",
       "        if (attempts > 100) {\n",
       "          clearInterval(timer);\n",
       "          console.log(\"Bokeh: ERROR: Unable to run BokehJS code because BokehJS library is missing\");\n",
       "        }\n",
       "      }\n",
       "    }, 10, root)\n",
       "  }\n",
       "})(window);"
      ],
      "application/vnd.bokehjs_exec.v0+json": ""
     },
     "metadata": {
      "application/vnd.bokehjs_exec.v0+json": {
       "id": "681543"
      }
     },
     "output_type": "display_data"
    }
   ],
   "source": [
    "show(n)"
   ]
  },
  {
   "cell_type": "code",
   "execution_count": 246,
   "metadata": {},
   "outputs": [
    {
     "data": {
      "text/plain": [
       "array([-0.04620602,  4.63439605, 22.30486459])"
      ]
     },
     "execution_count": 246,
     "metadata": {},
     "output_type": "execute_result"
    }
   ],
   "source": [
    "np.polyfit(np.arange(100),m,2)"
   ]
  },
  {
   "cell_type": "code",
   "execution_count": null,
   "metadata": {},
   "outputs": [],
   "source": []
  }
 ],
 "metadata": {
  "kernelspec": {
   "display_name": "Python 3",
   "language": "python",
   "name": "python3"
  },
  "language_info": {
   "codemirror_mode": {
    "name": "ipython",
    "version": 3
   },
   "file_extension": ".py",
   "mimetype": "text/x-python",
   "name": "python",
   "nbconvert_exporter": "python",
   "pygments_lexer": "ipython3",
   "version": "3.8.3"
  }
 },
 "nbformat": 4,
 "nbformat_minor": 4
}
