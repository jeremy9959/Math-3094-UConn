{
 "cells": [
  {
   "cell_type": "code",
   "execution_count": 1,
   "metadata": {},
   "outputs": [
    {
     "data": {
      "text/plain": [
       "600"
      ]
     },
     "execution_count": 1,
     "metadata": {},
     "output_type": "execute_result"
    }
   ],
   "source": [
    "30*20"
   ]
  },
  {
   "cell_type": "markdown",
   "metadata": {},
   "source": [
    "This is a markdown cell, and it can be used to record documentation or otherwise explain what's going on.\n",
    "\n",
    "You can create headings:\n",
    "\n",
    "# This is a big heading\n",
    "\n",
    "## This is a subheading\n",
    "\n",
    "### This is a sub-sub-heading.\n",
    "\n",
    "You can create lists:\n",
    "\n",
    "- First Item\n",
    "- Second Item\n",
    "- Third Item\n",
    "\n",
    "This is *italics* and this is **bold**."
   ]
  },
  {
   "cell_type": "markdown",
   "metadata": {},
   "source": [
    "This is an example of using LaTeX:\n",
    "\n",
    "Let $f(x)=\\exp(-x^2)$ and consider all polyomials $p(x)\\in\\mathbf{R}$.\n",
    "\n",
    "For instance, I could include an integral:\n",
    "\n",
    "$$\n",
    "\\int_{x=0}^{\\infty} f(x)dx\n",
    "$$"
   ]
  },
  {
   "cell_type": "code",
   "execution_count": null,
   "metadata": {},
   "outputs": [],
   "source": []
  }
 ],
 "metadata": {
  "kernelspec": {
   "display_name": "Python 3",
   "language": "python",
   "name": "python3"
  },
  "language_info": {
   "codemirror_mode": {
    "name": "ipython",
    "version": 3
   },
   "file_extension": ".py",
   "mimetype": "text/x-python",
   "name": "python",
   "nbconvert_exporter": "python",
   "pygments_lexer": "ipython3",
   "version": "3.7.9"
  }
 },
 "nbformat": 4,
 "nbformat_minor": 4
}
