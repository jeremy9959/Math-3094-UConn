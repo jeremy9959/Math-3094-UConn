{
 "cells": [
  {
   "cell_type": "markdown",
   "metadata": {},
   "source": [
    "### Beginning\n",
    "\n",
    "Following the tradition, we start with a test message."
   ]
  },
  {
   "cell_type": "code",
   "execution_count": 1,
   "metadata": {
    "scrolled": true
   },
   "outputs": [
    {
     "name": "stdout",
     "output_type": "stream",
     "text": [
      "Hello, World!\n"
     ]
    }
   ],
   "source": [
    "print(\"Hello, World!\")"
   ]
  },
  {
   "cell_type": "markdown",
   "metadata": {},
   "source": [
    "Here `print()` is a built-in function. \"Hello, World!\" is a string. (Explained later)"
   ]
  },
  {
   "cell_type": "markdown",
   "metadata": {},
   "source": [
    "### Variables\n",
    "\n",
    "A variable is a named location used to store data in the memory."
   ]
  },
  {
   "cell_type": "code",
   "execution_count": 5,
   "metadata": {},
   "outputs": [
    {
     "name": "stdout",
     "output_type": "stream",
     "text": [
      "2 0.3 2.3 Hello World! HelloWorld!\n"
     ]
    }
   ],
   "source": [
    "a=2\n",
    "b=0.3\n",
    "g1=\"Hello\"\n",
    "g2=\"World!\"\n",
    "print(a, b, a+b, g1, g2, g1+g2)"
   ]
  },
  {
   "cell_type": "markdown",
   "metadata": {},
   "source": [
    "Every object in Python has a type."
   ]
  },
  {
   "cell_type": "code",
   "execution_count": 9,
   "metadata": {},
   "outputs": [
    {
     "name": "stdout",
     "output_type": "stream",
     "text": [
      "<class 'int'> <class 'float'> <class 'float'> <class 'str'>\n"
     ]
    }
   ],
   "source": [
    "print(type(a), type(b), type(a+b), type(g1))"
   ]
  },
  {
   "cell_type": "markdown",
   "metadata": {},
   "source": [
    "### Operators\n",
    "\n",
    "Operators are used to perform operations on variables and values.\n",
    "\n",
    "- Arithmetic operators: **`+`** (addition), **`-`** (subtraction), **`*`** (multiplication), **`/`** (division), __`**`__ (exponent), **`//`** (floor division), **`%`** (remainder)\n",
    "- Comparison operators: **`==`** (equal to), **`!=`** (not equal to), **`<`** (less than), **`<=`** (less than or equal to), **`>`** (greater than), **`>=`** (greater than or equal to)\n",
    "     - They return either `True` or `False`.\n",
    "- Assignment operators: **`=`** (assign a value), **`+=`** (add and assign), **`-=`** (subtract and assign), **`*=`** (multiply and assign), **`/=`** (division and assign)\n",
    "    - similarly, **`//=`**,**`%=`**,__`**=`__"
   ]
  },
  {
   "cell_type": "code",
   "execution_count": 11,
   "metadata": {},
   "outputs": [
    {
     "name": "stdout",
     "output_type": "stream",
     "text": [
      "177 123 4050 5.555555555555555\n"
     ]
    }
   ],
   "source": [
    "a=150; b=27\n",
    "print(a+b, a-b, a*b, a/b)"
   ]
  },
  {
   "cell_type": "code",
   "execution_count": 14,
   "metadata": {},
   "outputs": [
    {
     "name": "stdout",
     "output_type": "stream",
     "text": [
      "1419857 3 2\n"
     ]
    }
   ],
   "source": [
    "a=17; b=5\n",
    "print(a**b, a//b, a%b)"
   ]
  },
  {
   "cell_type": "code",
   "execution_count": 99,
   "metadata": {},
   "outputs": [
    {
     "name": "stdout",
     "output_type": "stream",
     "text": [
      "good day  good good good  day day \n"
     ]
    }
   ],
   "source": [
    "g=\"good \"; d=\"day \"\n",
    "print(g+d, g*3, d*2)"
   ]
  },
  {
   "cell_type": "code",
   "execution_count": 21,
   "metadata": {},
   "outputs": [
    {
     "name": "stdout",
     "output_type": "stream",
     "text": [
      "10\n",
      "7\n",
      "42\n",
      "14.0\n"
     ]
    }
   ],
   "source": [
    "x=5\n",
    "x+=5; print(x)\n",
    "x-=3; print(x)\n",
    "x*=6; print(x)\n",
    "x/=3; print(x)"
   ]
  },
  {
   "cell_type": "code",
   "execution_count": 24,
   "metadata": {},
   "outputs": [
    {
     "name": "stdout",
     "output_type": "stream",
     "text": [
      "3\n",
      "9\n",
      "1\n"
     ]
    }
   ],
   "source": [
    "y=10\n",
    "y//=3; print(y)\n",
    "y**=2; print(y)\n",
    "y%=4; print(y)"
   ]
  },
  {
   "cell_type": "code",
   "execution_count": 37,
   "metadata": {},
   "outputs": [
    {
     "name": "stdout",
     "output_type": "stream",
     "text": [
      "good day \n",
      "good day good day good day \n"
     ]
    }
   ],
   "source": [
    "g='good '\n",
    "g+='day '; print(g)\n",
    "g*=3; print(g)"
   ]
  },
  {
   "cell_type": "code",
   "execution_count": 44,
   "metadata": {},
   "outputs": [
    {
     "name": "stdout",
     "output_type": "stream",
     "text": [
      "False True True True False\n"
     ]
    }
   ],
   "source": [
    "print(5==7, 4<7, 4<5<6, 3+2==5, 'good'=='bad')"
   ]
  },
  {
   "cell_type": "markdown",
   "metadata": {},
   "source": [
    "### Data types\n",
    "\n",
    "\n",
    "- List( **`list`** ): [item1, item2, ... ]\n",
    "- Tuple( **`tuple`** ): (item1, item2, ... )\n",
    "- Dictionary( **`dict`**): { key1:value1, key2:value2, ... }"
   ]
  },
  {
   "cell_type": "code",
   "execution_count": 2,
   "metadata": {},
   "outputs": [],
   "source": [
    "li = [1, 3, 5, 7, 9, 'dog', 'cat'] # list\n",
    "tu = (2, 4, 6, 8, 10) # tupule\n",
    "di = {'name':'Alice', 'age':21,\\\n",
    "      'favorite_fruit':['apple','banana','cherry']} # dictionary \n",
    "# \\ is used to seprate lines."
   ]
  },
  {
   "cell_type": "code",
   "execution_count": 3,
   "metadata": {},
   "outputs": [
    {
     "data": {
      "text/plain": [
       "[1, 3, 5, 7, 9, 'dog', 'cat', 1, 3, 5, 7, 9, 'dog', 'cat']"
      ]
     },
     "execution_count": 3,
     "metadata": {},
     "output_type": "execute_result"
    }
   ],
   "source": [
    "li*2"
   ]
  },
  {
   "cell_type": "code",
   "execution_count": 4,
   "metadata": {},
   "outputs": [
    {
     "name": "stdout",
     "output_type": "stream",
     "text": [
      "[1, 3, 5, 7, 9, 'dog', 'cat', 11, 'hamster']\n"
     ]
    }
   ],
   "source": [
    "li += [11, 'hamster']; print(li)"
   ]
  },
  {
   "cell_type": "code",
   "execution_count": 5,
   "metadata": {},
   "outputs": [
    {
     "name": "stdout",
     "output_type": "stream",
     "text": [
      "(2, 4, 6, 8, 10, 2, 4, 6, 8, 10, 2, 4, 6, 8, 10)\n"
     ]
    }
   ],
   "source": [
    "tu *=3; print(tu)"
   ]
  },
  {
   "cell_type": "code",
   "execution_count": 7,
   "metadata": {
    "scrolled": true
   },
   "outputs": [
    {
     "name": "stdout",
     "output_type": "stream",
     "text": [
      "{'name': 'Betty', 'age': 21, 'favorite_fruit': ['apple', 'banana', 'cherry']}\n"
     ]
    }
   ],
   "source": [
    "di.update({'name':'Betty'}); print(di)"
   ]
  },
  {
   "cell_type": "markdown",
   "metadata": {},
   "source": [
    "Here `.update()` is a method. (Explained later)"
   ]
  },
  {
   "cell_type": "markdown",
   "metadata": {},
   "source": [
    "### Accessing data\n",
    "\n",
    "- Lists and tuples are indexed by integers, *starting at 0* for the first item.\n",
    "  - To access a range of items, one can use **slicing**.\n",
    "      - `list[start:stop]`  items start through stop-1\n",
    "      - `list[start:]`      items start through the rest of the list\n",
    "      - `list[:stop]`       items from the beginning through stop-1\n",
    "      - `list[:]`           a copy of the whole list\n",
    "  - Negative indexing starts at the back of a sequence.\n",
    "- A string can be accessed in the same way.\n",
    "- Dictionaries are indexed by their keys."
   ]
  },
  {
   "cell_type": "code",
   "execution_count": 23,
   "metadata": {},
   "outputs": [],
   "source": [
    "li_odd=[1,3,5,7,9,11,13,15]"
   ]
  },
  {
   "cell_type": "code",
   "execution_count": 54,
   "metadata": {},
   "outputs": [
    {
     "data": {
      "text/plain": [
       "(1, 7, 15)"
      ]
     },
     "execution_count": 54,
     "metadata": {},
     "output_type": "execute_result"
    }
   ],
   "source": [
    "li_odd[0], li_odd[3], li_odd[-1]"
   ]
  },
  {
   "cell_type": "code",
   "execution_count": 28,
   "metadata": {},
   "outputs": [
    {
     "name": "stdout",
     "output_type": "stream",
     "text": [
      "[1, 3, 5, 7, 9, 11, 13, 15]\n",
      "[5, 7, 9]\n",
      "[7, 9, 11, 13, 15]\n",
      "[1, 3]\n",
      "[13, 15]\n",
      "[1, 3, 5, 7, 9, 11, 13]\n"
     ]
    }
   ],
   "source": [
    "print(li_odd[:])\n",
    "print(li_odd[2:5])\n",
    "print(li_odd[3:])\n",
    "print(li_odd[:2])\n",
    "print(li_odd[-2:])\n",
    "print(li_odd[:-1])"
   ]
  },
  {
   "cell_type": "code",
   "execution_count": 53,
   "metadata": {},
   "outputs": [
    {
     "data": {
      "text/plain": [
       "('H', 'a', '?', 'ow are you')"
      ]
     },
     "execution_count": 53,
     "metadata": {},
     "output_type": "execute_result"
    }
   ],
   "source": [
    "hi='How are you?'\n",
    "hi[0],hi[4],hi[-1], hi[1:-1]"
   ]
  },
  {
   "cell_type": "code",
   "execution_count": 8,
   "metadata": {},
   "outputs": [],
   "source": [
    "di = {'name':'Alice', 'age':21,\\\n",
    "      'favorite_fruit':['apple','banana','cherry']}"
   ]
  },
  {
   "cell_type": "code",
   "execution_count": 9,
   "metadata": {},
   "outputs": [
    {
     "data": {
      "text/plain": [
       "'Alice'"
      ]
     },
     "execution_count": 9,
     "metadata": {},
     "output_type": "execute_result"
    }
   ],
   "source": [
    "di['name']"
   ]
  },
  {
   "cell_type": "code",
   "execution_count": 11,
   "metadata": {},
   "outputs": [
    {
     "data": {
      "text/plain": [
       "'cherry'"
      ]
     },
     "execution_count": 11,
     "metadata": {},
     "output_type": "execute_result"
    }
   ],
   "source": [
    "di['favorite_fruit'][2]"
   ]
  },
  {
   "cell_type": "markdown",
   "metadata": {},
   "source": [
    "### Built-in functions\n",
    "\n",
    "A **function** performs an action and/or return a value.\n",
    "\n",
    "Examples of built-in functions: \n",
    "- **`print()`**, **`type()`** \n",
    "- functions for lists or tuples: **`len()`** (length), **`sum()`**, **`min()`**, **`max()`**\n",
    "- functions for numbers: **`abs()`** (absolute value), **`round()`**\n",
    "- type conversion: **`int()`**, **`str()`**, **`float()`**, **`list()`**\n",
    "- **`input()`** (taking an input string from the user)\n",
    "\n",
    "You can define your own functions. (Explained later)"
   ]
  },
  {
   "cell_type": "code",
   "execution_count": 45,
   "metadata": {},
   "outputs": [],
   "source": [
    "li_odd=[1,3,5,7,9,11,13,15]"
   ]
  },
  {
   "cell_type": "code",
   "execution_count": 52,
   "metadata": {},
   "outputs": [
    {
     "data": {
      "text/plain": [
       "(8, 64, 15, 7)"
      ]
     },
     "execution_count": 52,
     "metadata": {},
     "output_type": "execute_result"
    }
   ],
   "source": [
    "len(li_odd), sum(li_odd), max(li_odd), abs(-7)"
   ]
  },
  {
   "cell_type": "code",
   "execution_count": 23,
   "metadata": {},
   "outputs": [
    {
     "data": {
      "text/plain": [
       "(3, -3.14159, 3.14159, -3)"
      ]
     },
     "execution_count": 23,
     "metadata": {},
     "output_type": "execute_result"
    }
   ],
   "source": [
    "a=3.14159; b=-a\n",
    "round(a), b, abs(b), round(b)"
   ]
  },
  {
   "cell_type": "code",
   "execution_count": 24,
   "metadata": {},
   "outputs": [
    {
     "data": {
      "text/plain": [
       "(int, float, str)"
      ]
     },
     "execution_count": 24,
     "metadata": {},
     "output_type": "execute_result"
    }
   ],
   "source": [
    "a=3; b=float(a); c=str(a)\n",
    "type(a), type(b), type (c)"
   ]
  },
  {
   "cell_type": "code",
   "execution_count": 27,
   "metadata": {},
   "outputs": [
    {
     "name": "stdout",
     "output_type": "stream",
     "text": [
      "Enter your name: Tom\n",
      "Hi, Tom!\n"
     ]
    }
   ],
   "source": [
    "name=input(\"Enter your name: \")\n",
    "print(\"Hi, \"+name+\"!\")"
   ]
  },
  {
   "cell_type": "markdown",
   "metadata": {},
   "source": [
    "### Methods\n",
    "\n",
    "An object has its **methods** which are functions available for the object. These are accessed by the format `object.method()`."
   ]
  },
  {
   "cell_type": "markdown",
   "metadata": {},
   "source": [
    "### Some methods on string objects\n",
    "\n",
    "**`.capitalize()`**, **`.upper()`** (upper case), **`.lower()`** (lower case),  **`.count(substring)`**, **`.replace(old, new)`**"
   ]
  },
  {
   "cell_type": "code",
   "execution_count": 46,
   "metadata": {},
   "outputs": [],
   "source": [
    "sentence = 'aMyloidoSis Is a disEase.'"
   ]
  },
  {
   "cell_type": "code",
   "execution_count": 47,
   "metadata": {},
   "outputs": [
    {
     "data": {
      "text/plain": [
       "('Amyloidosis is a disease.',\n",
       " 'AMYLOIDOSIS IS A DISEASE.',\n",
       " 'amyloidosis is a disease.')"
      ]
     },
     "execution_count": 47,
     "metadata": {},
     "output_type": "execute_result"
    }
   ],
   "source": [
    "sentence.capitalize(), sentence.upper(), sentence.lower()"
   ]
  },
  {
   "cell_type": "code",
   "execution_count": 48,
   "metadata": {},
   "outputs": [
    {
     "data": {
      "text/plain": [
       "(4, 2)"
      ]
     },
     "execution_count": 48,
     "metadata": {},
     "output_type": "execute_result"
    }
   ],
   "source": [
    "sentence.count('s'), sentence.count('is')"
   ]
  },
  {
   "cell_type": "code",
   "execution_count": 51,
   "metadata": {},
   "outputs": [
    {
     "data": {
      "text/plain": [
       "'aMyloidoS!$ Is a d!$Ease.'"
      ]
     },
     "execution_count": 51,
     "metadata": {},
     "output_type": "execute_result"
    }
   ],
   "source": [
    "sentence.replace('is', '!$')"
   ]
  },
  {
   "cell_type": "markdown",
   "metadata": {
    "collapsed": true
   },
   "source": [
    "### Some methods on list objects\n",
    "\n",
    "**`.append(item)`**, **`.extend([item1, item2, ...])`**, **`.remove(item)`**"
   ]
  },
  {
   "cell_type": "code",
   "execution_count": 66,
   "metadata": {},
   "outputs": [
    {
     "data": {
      "text/plain": [
       "[1, 3, 5, 7, 9, 17]"
      ]
     },
     "execution_count": 66,
     "metadata": {},
     "output_type": "execute_result"
    }
   ],
   "source": [
    "li=[1,3,5,7,9]\n",
    "li.append(17)\n",
    "li"
   ]
  },
  {
   "cell_type": "code",
   "execution_count": 67,
   "metadata": {},
   "outputs": [
    {
     "data": {
      "text/plain": [
       "[1, 3, 5, 7, 9, 17, 19, 23]"
      ]
     },
     "execution_count": 67,
     "metadata": {},
     "output_type": "execute_result"
    }
   ],
   "source": [
    "li.extend([19,23])\n",
    "li"
   ]
  },
  {
   "cell_type": "code",
   "execution_count": 68,
   "metadata": {},
   "outputs": [
    {
     "data": {
      "text/plain": [
       "[1, 3, 7, 9, 17, 19, 23]"
      ]
     },
     "execution_count": 68,
     "metadata": {},
     "output_type": "execute_result"
    }
   ],
   "source": [
    "li.remove(5)\n",
    "li"
   ]
  },
  {
   "cell_type": "markdown",
   "metadata": {},
   "source": [
    "### Some methods on dict objects\n",
    "\n",
    "**`.update(dict1)`** (to update with dict1), **`.keys()`** (list of keys), **`.values()`** (list of values)"
   ]
  },
  {
   "cell_type": "code",
   "execution_count": 12,
   "metadata": {},
   "outputs": [],
   "source": [
    "di = {'name':'Alice', 'age':21,\\\n",
    "      'favorite_fruit':['apple','banana','cherry']}"
   ]
  },
  {
   "cell_type": "code",
   "execution_count": 14,
   "metadata": {},
   "outputs": [],
   "source": [
    "di.update({'name':'Betty', 'major': 'math' })"
   ]
  },
  {
   "cell_type": "code",
   "execution_count": 15,
   "metadata": {},
   "outputs": [
    {
     "data": {
      "text/plain": [
       "{'name': 'Betty',\n",
       " 'age': 21,\n",
       " 'favorite_fruit': ['apple', 'banana', 'cherry'],\n",
       " 'major': 'math'}"
      ]
     },
     "execution_count": 15,
     "metadata": {},
     "output_type": "execute_result"
    }
   ],
   "source": [
    "di"
   ]
  },
  {
   "cell_type": "code",
   "execution_count": 16,
   "metadata": {},
   "outputs": [
    {
     "data": {
      "text/plain": [
       "dict_keys(['name', 'age', 'favorite_fruit', 'major'])"
      ]
     },
     "execution_count": 16,
     "metadata": {},
     "output_type": "execute_result"
    }
   ],
   "source": [
    "di.keys()"
   ]
  },
  {
   "cell_type": "code",
   "execution_count": 17,
   "metadata": {},
   "outputs": [
    {
     "data": {
      "text/plain": [
       "dict_values(['Betty', 21, ['apple', 'banana', 'cherry'], 'math'])"
      ]
     },
     "execution_count": 17,
     "metadata": {},
     "output_type": "execute_result"
    }
   ],
   "source": [
    "di.values()"
   ]
  },
  {
   "cell_type": "markdown",
   "metadata": {},
   "source": [
    "### `if` statements and `while` loops\n",
    "\n",
    "An **`if` statement** tests a condition and performs some actions if the condition evaluates to `True`. If the condition evaluates to `False`, alternative actions can be taken by **`elif`** and/or **`else`**.\n",
    "\n",
    ">Warning: Indentation is extremely important!\n",
    "\n",
    "A **`while` loop** will keep performing some actions as long as its condition evaluates to `True`."
   ]
  },
  {
   "cell_type": "code",
   "execution_count": 115,
   "metadata": {},
   "outputs": [
    {
     "name": "stdout",
     "output_type": "stream",
     "text": [
      "Enter an integer greater than 10: 7\n"
     ]
    }
   ],
   "source": [
    "num = int(input(\"Enter an integer greater than 10: \"))\n",
    "\n",
    "if num > 10:\n",
    "    print(\"Great job!\")"
   ]
  },
  {
   "cell_type": "markdown",
   "metadata": {},
   "source": [
    "Here `int()` and `input()` are built-in functions."
   ]
  },
  {
   "cell_type": "code",
   "execution_count": 113,
   "metadata": {},
   "outputs": [
    {
     "name": "stdout",
     "output_type": "stream",
     "text": [
      "Enter an integer: -17\n",
      "Odd number\n"
     ]
    }
   ],
   "source": [
    "num = int(input(\"Enter an integer: \"))\n",
    "\n",
    "if num%2 == 0:\n",
    "    print(\"Even number\")\n",
    "else:\n",
    "    print(\"Odd number\")"
   ]
  },
  {
   "cell_type": "code",
   "execution_count": 112,
   "metadata": {},
   "outputs": [
    {
     "name": "stdout",
     "output_type": "stream",
     "text": [
      "Enter an integer: -23\n",
      "Negative number\n"
     ]
    }
   ],
   "source": [
    "num = int(input(\"Enter an integer: \"))\n",
    "\n",
    "if num > 0:\n",
    "    print(\"Positive number\")\n",
    "elif num == 0:\n",
    "    print(\"Zero\")\n",
    "else:\n",
    "    print(\"Negative number\")"
   ]
  },
  {
   "cell_type": "code",
   "execution_count": 120,
   "metadata": {},
   "outputs": [
    {
     "name": "stdout",
     "output_type": "stream",
     "text": [
      "Enter a positive integer: 99\n",
      "The sum from 1 to 99 is 4950.\n"
     ]
    }
   ],
   "source": [
    "num = int(input(\"Enter a positive integer: \"))\n",
    "\n",
    "sum = 0\n",
    "i = 1\n",
    "\n",
    "while i <= num:\n",
    "    sum = sum + i\n",
    "    i = i+1 \n",
    "\n",
    "print(\"The sum from 1 to %d is \" % num + str(sum) + \".\")"
   ]
  },
  {
   "cell_type": "markdown",
   "metadata": {},
   "source": [
    "**%d** is used to refer to a variable of type **int** which follows after %. Similarly, one can use **%s** and **%f**."
   ]
  },
  {
   "cell_type": "markdown",
   "metadata": {},
   "source": [
    "### `for` loops\n",
    "\n",
    "Actions can be iterated over a collection of items using a **`for` loop**. The strings, lists, tuples and dictionaries are all **iterable** containers. It is also common to use **`range()`**. \n",
    "- A `for` loop will go through the specified container, one item at a time.\n",
    "- **`break`** can be used to terminate a loop."
   ]
  },
  {
   "cell_type": "code",
   "execution_count": 121,
   "metadata": {},
   "outputs": [
    {
     "name": "stdout",
     "output_type": "stream",
     "text": [
      "The sum is 64.\n"
     ]
    }
   ],
   "source": [
    "li_odd = [1,3,5,7,9,11,13,15]\n",
    "\n",
    "sum = 0\n",
    "\n",
    "for n in li_odd:\n",
    "    sum += n\n",
    "\n",
    "print(\"The sum is \"+str(sum)+\".\")"
   ]
  },
  {
   "cell_type": "code",
   "execution_count": 129,
   "metadata": {},
   "outputs": [
    {
     "name": "stdout",
     "output_type": "stream",
     "text": [
      "[0, 1, 2, 3, 4, 5, 6, 7, 8, 9]\n",
      "[3, 4, 5, 6, 7, 8, 9]\n",
      "[1, 3, 5, 7, 9]\n",
      "[]\n"
     ]
    }
   ],
   "source": [
    "print(list(range(10)))\n",
    "print(list(range(3,10)))\n",
    "print(list(range(1,10,2)))\n",
    "print(list(range(10,2)))"
   ]
  },
  {
   "cell_type": "markdown",
   "metadata": {},
   "source": [
    "Here **list( )** converts the type from **range** to **list**."
   ]
  },
  {
   "cell_type": "code",
   "execution_count": 130,
   "metadata": {
    "scrolled": true
   },
   "outputs": [
    {
     "name": "stdout",
     "output_type": "stream",
     "text": [
      "Enter a positive integer: 21\n",
      "The sum from 1 to 21 is 231.\n"
     ]
    }
   ],
   "source": [
    "num = int(input(\"Enter a positive integer: \"))\n",
    "sum =0\n",
    "for i in range(1,num+1):\n",
    "    sum += i\n",
    "\n",
    "print(\"The sum from 1 to %d is \" % num + str(sum) + \".\")"
   ]
  },
  {
   "cell_type": "code",
   "execution_count": 56,
   "metadata": {},
   "outputs": [
    {
     "name": "stdout",
     "output_type": "stream",
     "text": [
      "H\n",
      "o\n",
      "w\n",
      " \n",
      "a\n",
      "r\n",
      "e\n",
      " \n",
      "y\n",
      "o\n",
      "u\n",
      "?\n"
     ]
    }
   ],
   "source": [
    "for char in \"How are you?\":\n",
    "    print(char)"
   ]
  },
  {
   "cell_type": "code",
   "execution_count": 61,
   "metadata": {},
   "outputs": [
    {
     "name": "stdout",
     "output_type": "stream",
     "text": [
      "How are "
     ]
    }
   ],
   "source": [
    "for char in \"How are you?\":\n",
    "    if char == \"y\":\n",
    "        break\n",
    "    print(char, end=\"\") # This prints on the same line."
   ]
  },
  {
   "cell_type": "markdown",
   "metadata": {},
   "source": [
    "### List comprehensions\n",
    "\n",
    "There is a simple way to generate a list with a single line of code using **list comprehensions**."
   ]
  },
  {
   "cell_type": "code",
   "execution_count": 140,
   "metadata": {},
   "outputs": [
    {
     "data": {
      "text/plain": [
       "[1, 4, 9, 16, 25, 36, 49, 64, 81]"
      ]
     },
     "execution_count": 140,
     "metadata": {},
     "output_type": "execute_result"
    }
   ],
   "source": [
    "[a**2 for a in range (1,10)]"
   ]
  },
  {
   "cell_type": "code",
   "execution_count": 145,
   "metadata": {},
   "outputs": [
    {
     "data": {
      "text/plain": [
       "[9, 36, 81, 144, 225, 324]"
      ]
     },
     "execution_count": 145,
     "metadata": {},
     "output_type": "execute_result"
    }
   ],
   "source": [
    "[a**2 for a in range (1,20) if a %3 ==0]"
   ]
  },
  {
   "cell_type": "code",
   "execution_count": 146,
   "metadata": {},
   "outputs": [
    {
     "data": {
      "text/plain": [
       "[1, 2, 9, 4, 5, 36, 7, 8, 81, 10, 11, 144, 13, 14, 225, 16, 17, 324, 19]"
      ]
     },
     "execution_count": 146,
     "metadata": {},
     "output_type": "execute_result"
    }
   ],
   "source": [
    "[a**2 if a %3 ==0 else a for a in range (1,20)]"
   ]
  },
  {
   "cell_type": "markdown",
   "metadata": {},
   "source": [
    "### Copying a list\n",
    "\n",
    "This brings about a common mistake."
   ]
  },
  {
   "cell_type": "code",
   "execution_count": 150,
   "metadata": {},
   "outputs": [
    {
     "data": {
      "text/plain": [
       "([1, 2, 3, 4], [1, 2, 3, 4])"
      ]
     },
     "execution_count": 150,
     "metadata": {},
     "output_type": "execute_result"
    }
   ],
   "source": [
    "li_a=[1,2,3]\n",
    "li_b=li_a  # The location of memory is copied.\n",
    "li_b.append(4)\n",
    "li_a, li_b"
   ]
  },
  {
   "cell_type": "code",
   "execution_count": 151,
   "metadata": {},
   "outputs": [
    {
     "data": {
      "text/plain": [
       "([1, 2, 3], [1, 2, 3, 4])"
      ]
     },
     "execution_count": 151,
     "metadata": {},
     "output_type": "execute_result"
    }
   ],
   "source": [
    "li_a=[1,2,3]\n",
    "li_b=li_a[:]  # Only the values are copied.\n",
    "li_b.append(4)\n",
    "li_a, li_b"
   ]
  },
  {
   "cell_type": "code",
   "execution_count": 57,
   "metadata": {},
   "outputs": [
    {
     "data": {
      "text/plain": [
       "([1, 2, 3], [1, 2, 3, 4])"
      ]
     },
     "execution_count": 57,
     "metadata": {},
     "output_type": "execute_result"
    }
   ],
   "source": [
    "li_a=[1,2,3]\n",
    "li_b=li_a.copy()  # Only the values are copied.\n",
    "li_b.append(4)\n",
    "li_a, li_b"
   ]
  },
  {
   "cell_type": "markdown",
   "metadata": {},
   "source": [
    "### How to define a function\n",
    "\n",
    "A **function** is a group of statements that perform a specific task. You use **`def`** to create a function. A result can be returned from a function using a **`return`** statement."
   ]
  },
  {
   "cell_type": "code",
   "execution_count": 62,
   "metadata": {},
   "outputs": [
    {
     "name": "stdout",
     "output_type": "stream",
     "text": [
      "Hi! I am John.\n",
      "Hi! I am Cynthia.\n"
     ]
    }
   ],
   "source": [
    "def print_name(name):\n",
    "    print(\"Hi! I am \"+name+\".\")\n",
    "\n",
    "print_name('John')\n",
    "print_name('Cynthia')"
   ]
  },
  {
   "cell_type": "code",
   "execution_count": 2,
   "metadata": {},
   "outputs": [
    {
     "data": {
      "text/plain": [
       "([1, 2, 3, 6], [1, 23], [1, 2, 617, 1234], [1, 43, 47, 2021])"
      ]
     },
     "execution_count": 2,
     "metadata": {},
     "output_type": "execute_result"
    }
   ],
   "source": [
    "def divisors(num):\n",
    "    dv=[]\n",
    "    for i in range(1,num+1):\n",
    "        if num%i ==0:\n",
    "            dv.append(i)\n",
    "    return dv\n",
    "\n",
    "divisors(6), divisors(23), divisors(1234), divisors(2021)"
   ]
  },
  {
   "cell_type": "code",
   "execution_count": 5,
   "metadata": {},
   "outputs": [
    {
     "data": {
      "text/plain": [
       "(True, False, True)"
      ]
     },
     "execution_count": 5,
     "metadata": {},
     "output_type": "execute_result"
    }
   ],
   "source": [
    "def is_prime(num):\n",
    "    dv=divisors(num)\n",
    "    if len(dv) == 2:\n",
    "        return True\n",
    "    else:\n",
    "        return False\n",
    "\n",
    "is_prime(5), is_prime(12), is_prime(2311)\n"
   ]
  },
  {
   "cell_type": "markdown",
   "metadata": {},
   "source": [
    "### Recursive functions\n",
    "\n",
    "A function that calls itself is a **recursive function**. Every recursive function must have a condition that stops the recursion in order to avoid an infinite loop."
   ]
  },
  {
   "cell_type": "code",
   "execution_count": 3,
   "metadata": {},
   "outputs": [
    {
     "data": {
      "text/plain": [
       "(120, 479001600)"
      ]
     },
     "execution_count": 3,
     "metadata": {},
     "output_type": "execute_result"
    }
   ],
   "source": [
    "def factorial(num):\n",
    "    if num == 1:\n",
    "        return 1\n",
    "    else:\n",
    "        return num*factorial(num-1)\n",
    "\n",
    "factorial(5), factorial(12)"
   ]
  },
  {
   "cell_type": "code",
   "execution_count": 7,
   "metadata": {},
   "outputs": [
    {
     "data": {
      "text/plain": [
       "[0, 1, 1, 2, 3, 5, 8, 13, 21, 34, 55, 89, 144, 233, 377]"
      ]
     },
     "execution_count": 7,
     "metadata": {},
     "output_type": "execute_result"
    }
   ],
   "source": [
    "def fibonacci(num):\n",
    "    if num == 0:\n",
    "        return 0\n",
    "    elif num == 1:\n",
    "        return 1\n",
    "    else:\n",
    "        return fibonacci(num-1)+fibonacci(num-2)\n",
    "    \n",
    "[fibonacci(i) for i in range(15)]"
   ]
  },
  {
   "cell_type": "markdown",
   "metadata": {},
   "source": [
    "### Modules\n",
    "\n",
    "A module is a file containing Python statements and definitions. One can **import** a module."
   ]
  },
  {
   "cell_type": "code",
   "execution_count": 8,
   "metadata": {},
   "outputs": [
    {
     "ename": "NameError",
     "evalue": "name 'pi' is not defined",
     "output_type": "error",
     "traceback": [
      "\u001b[0;31m---------------------------------------------------------------------------\u001b[0m",
      "\u001b[0;31mNameError\u001b[0m                                 Traceback (most recent call last)",
      "\u001b[0;32m<ipython-input-8-f84ab820532c>\u001b[0m in \u001b[0;36m<module>\u001b[0;34m\u001b[0m\n\u001b[0;32m----> 1\u001b[0;31m \u001b[0mpi\u001b[0m\u001b[0;34m\u001b[0m\u001b[0;34m\u001b[0m\u001b[0m\n\u001b[0m",
      "\u001b[0;31mNameError\u001b[0m: name 'pi' is not defined"
     ]
    }
   ],
   "source": [
    "pi"
   ]
  },
  {
   "cell_type": "code",
   "execution_count": 12,
   "metadata": {},
   "outputs": [
    {
     "data": {
      "text/plain": [
       "(3.141592653589793, 2.718281828459045)"
      ]
     },
     "execution_count": 12,
     "metadata": {},
     "output_type": "execute_result"
    }
   ],
   "source": [
    "import math\n",
    "\n",
    "math.pi, math.e"
   ]
  },
  {
   "cell_type": "code",
   "execution_count": 13,
   "metadata": {},
   "outputs": [
    {
     "data": {
      "text/plain": [
       "(3.141592653589793, 2.718281828459045)"
      ]
     },
     "execution_count": 13,
     "metadata": {},
     "output_type": "execute_result"
    }
   ],
   "source": [
    "import math as m\n",
    "\n",
    "m.pi, m.e"
   ]
  },
  {
   "cell_type": "markdown",
   "metadata": {},
   "source": [
    "One can import specific names from a module. In such a case, a dot after the moudle name is not needed."
   ]
  },
  {
   "cell_type": "code",
   "execution_count": 15,
   "metadata": {},
   "outputs": [
    {
     "data": {
      "text/plain": [
       "(3.141592653589793, 2.718281828459045)"
      ]
     },
     "execution_count": 15,
     "metadata": {},
     "output_type": "execute_result"
    }
   ],
   "source": [
    "from math import pi,e\n",
    "\n",
    "pi, e"
   ]
  },
  {
   "cell_type": "markdown",
   "metadata": {},
   "source": [
    "We can import all names from a module."
   ]
  },
  {
   "cell_type": "code",
   "execution_count": 59,
   "metadata": {},
   "outputs": [],
   "source": [
    "from math import *"
   ]
  },
  {
   "cell_type": "code",
   "execution_count": 60,
   "metadata": {},
   "outputs": [
    {
     "data": {
      "text/plain": [
       "True"
      ]
     },
     "execution_count": 60,
     "metadata": {},
     "output_type": "execute_result"
    }
   ],
   "source": [
    "gamma(1/2) == sqrt(pi)"
   ]
  },
  {
   "cell_type": "markdown",
   "metadata": {},
   "source": [
    "It is true that $\\Gamma \\left (\\frac 1 2 \\right ) = \\sqrt{\\pi}$ where $\\Gamma(x) = \\int_0^\\infty  t^{x-1} e^t  dt$ is the *gamma* function."
   ]
  }
 ],
 "metadata": {
  "kernelspec": {
   "display_name": "Python 3",
   "language": "python",
   "name": "python3"
  },
  "language_info": {
   "codemirror_mode": {
    "name": "ipython",
    "version": 3
   },
   "file_extension": ".py",
   "mimetype": "text/x-python",
   "name": "python",
   "nbconvert_exporter": "python",
   "pygments_lexer": "ipython3",
   "version": "3.7.4"
  }
 },
 "nbformat": 4,
 "nbformat_minor": 2
}
