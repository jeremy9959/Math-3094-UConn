{
 "cells": [
  {
   "cell_type": "markdown",
   "metadata": {},
   "source": [
    "# One feature (Exam score)"
   ]
  },
  {
   "cell_type": "code",
   "execution_count": 9,
   "metadata": {},
   "outputs": [],
   "source": [
    "import numpy as np"
   ]
  },
  {
   "cell_type": "markdown",
   "metadata": {},
   "source": [
    "### Sigmoid function\n",
    "\n",
    "$ g(z) = \\frac{1}{(1+e^{-z})}$"
   ]
  },
  {
   "cell_type": "code",
   "execution_count": 10,
   "metadata": {},
   "outputs": [
    {
     "data": {
      "text/plain": [
       "0.5"
      ]
     },
     "execution_count": 10,
     "metadata": {},
     "output_type": "execute_result"
    }
   ],
   "source": [
    "def sigmoid(z):\n",
    "    \"\"\"\n",
    "    return the sigmoid of z\n",
    "    \"\"\"\n",
    "    \n",
    "    return 1/ (1 + np.exp(-z))\n",
    "\n",
    "# testing the sigmoid function\n",
    "sigmoid(0)"
   ]
  },
  {
   "cell_type": "code",
   "execution_count": 11,
   "metadata": {},
   "outputs": [
    {
     "name": "stdout",
     "output_type": "stream",
     "text": [
      "[[-23.28319321]\n",
      " [  0.07789626]] \n",
      "\n",
      "[[-38.43122697]\n",
      " [  0.12827731]] \n",
      "\n",
      "[[-50.83886733]\n",
      " [  0.16949876]] \n",
      "\n",
      "[[-56.49375121]\n",
      " [  0.18832434]] \n",
      "\n",
      "[[-57.28091649]\n",
      " [  0.19095149]] \n",
      "\n",
      "[[-57.293701  ]\n",
      " [  0.19099424]] \n",
      "\n",
      "[[-57.29370435]\n",
      " [  0.19099426]] \n",
      "\n",
      "[[-57.29370435]\n",
      " [  0.19099426]] \n",
      "\n",
      "[[-57.29370435]\n",
      " [  0.19099426]] \n",
      "\n",
      "[[-57.29370435]\n",
      " [  0.19099426]] \n",
      "\n"
     ]
    }
   ],
   "source": [
    "X=np.array([[1,1,1,1,1,1,1,1,1,1],\n",
    "\t[272,331,295,287,315,266,303,294,317,309]])\n",
    "t=np.array([[0],[1],[1],[0],[1],[0],[0],[0],[1],[1]])\n",
    "w=np.array([[0],[0]])\n",
    "\n",
    "for i in range (0,10):\n",
    "\tT=np.matmul(w.transpose(),X)\n",
    "\ty=np.array([[sigmoid(T[0][0])],[sigmoid(T[0][1])],\n",
    "\t\t[sigmoid(T[0][2])],[sigmoid(T[0][3])],[sigmoid(T[0][4])],\n",
    "\t\t[sigmoid(T[0][5])],[sigmoid(T[0][6])],[sigmoid(T[0][7])],\n",
    "\t\t[sigmoid(T[0][8])],[sigmoid(T[0][9])]])\n",
    "\n",
    "\tR=np.array([[y[0][0]*(1-y[0][0]) ,0, 0, 0, 0, 0, 0, 0, 0, 0],\n",
    "\t[0, y[1][0]*(1-y[1][0]), 0, 0, 0, 0, 0, 0 ,0 ,0],\n",
    "\t[0, 0, y[2][0]*(1-y[2][0]), 0, 0, 0, 0, 0, 0, 0],\n",
    "\t[0, 0, 0, y[3][0]*(1-y[3][0]), 0, 0, 0, 0, 0, 0],\n",
    "\t[0, 0, 0, 0, y[4][0]*(1-y[4][0]), 0, 0, 0, 0, 0],\n",
    "\t[0, 0, 0, 0, 0, y[5][0]*(1-y[5][0]), 0, 0, 0, 0],\n",
    "\t[0, 0, 0, 0, 0, 0, y[6][0]*(1-y[6][0]), 0, 0, 0],\n",
    "\t[0, 0, 0, 0, 0, 0, 0, y[7][0]*(1-y[7][0]), 0, 0],\n",
    "\t[0, 0, 0, 0, 0, 0, 0, 0, y[8][0]*(1-y[8][0]), 0],\n",
    "\t[0, 0, 0, 0, 0, 0, 0, 0, 0, y[9][0]*(1-y[9][0])]\n",
    "\t])\n",
    "\tw1=np.matmul(np.matmul(X,R),X.transpose())\n",
    "\tw2=np.linalg.inv(w1)\n",
    "\tw3=np.matmul(X,np.subtract(y,t))\n",
    "\tw=np.subtract(w,np.matmul(w2,w3))\t\n",
    "\t# print 'det', det(X*R*X.transpose())\n",
    "\tprint(w, \"\\n\")\n",
    "\n",
    "def y(x):\n",
    "\treturn sigmoid(w[0][0]+w[1][0]*x)"
   ]
  },
  {
   "cell_type": "code",
   "execution_count": 14,
   "metadata": {},
   "outputs": [
    {
     "name": "stdout",
     "output_type": "stream",
     "text": [
      "0.9786361045459097\n",
      "0.4535290392668772\n",
      "3.629301582117451e-13\n"
     ]
    }
   ],
   "source": [
    "print(y(320))\n",
    "print(y(299))\n",
    "print(y(150))\n"
   ]
  },
  {
   "cell_type": "markdown",
   "metadata": {},
   "source": [
    "## Two features (Exam 1, 2  scores)"
   ]
  },
  {
   "cell_type": "markdown",
   "metadata": {},
   "source": [
    "### Loading of Data"
   ]
  },
  {
   "cell_type": "code",
   "execution_count": 16,
   "metadata": {},
   "outputs": [],
   "source": [
    "import numpy as np\n",
    "import matplotlib.pyplot as plt\n",
    "import pandas as pd\n",
    "from sklearn.linear_model import LogisticRegression"
   ]
  },
  {
   "cell_type": "code",
   "execution_count": 17,
   "metadata": {},
   "outputs": [],
   "source": [
    "df=pd.read_csv(\"../data/ex2data1.txt\",header=None)\n",
    "X=df.iloc[:,:-1].values\n",
    "t=df.iloc[:,-1].values"
   ]
  },
  {
   "cell_type": "code",
   "execution_count": 7,
   "metadata": {},
   "outputs": [
    {
     "data": {
      "text/html": [
       "<div>\n",
       "<style scoped>\n",
       "    .dataframe tbody tr th:only-of-type {\n",
       "        vertical-align: middle;\n",
       "    }\n",
       "\n",
       "    .dataframe tbody tr th {\n",
       "        vertical-align: top;\n",
       "    }\n",
       "\n",
       "    .dataframe thead th {\n",
       "        text-align: right;\n",
       "    }\n",
       "</style>\n",
       "<table border=\"1\" class=\"dataframe\">\n",
       "  <thead>\n",
       "    <tr style=\"text-align: right;\">\n",
       "      <th></th>\n",
       "      <th>0</th>\n",
       "      <th>1</th>\n",
       "      <th>2</th>\n",
       "    </tr>\n",
       "  </thead>\n",
       "  <tbody>\n",
       "    <tr>\n",
       "      <td>0</td>\n",
       "      <td>34.623660</td>\n",
       "      <td>78.024693</td>\n",
       "      <td>0</td>\n",
       "    </tr>\n",
       "    <tr>\n",
       "      <td>1</td>\n",
       "      <td>30.286711</td>\n",
       "      <td>43.894998</td>\n",
       "      <td>0</td>\n",
       "    </tr>\n",
       "    <tr>\n",
       "      <td>2</td>\n",
       "      <td>35.847409</td>\n",
       "      <td>72.902198</td>\n",
       "      <td>0</td>\n",
       "    </tr>\n",
       "    <tr>\n",
       "      <td>3</td>\n",
       "      <td>60.182599</td>\n",
       "      <td>86.308552</td>\n",
       "      <td>1</td>\n",
       "    </tr>\n",
       "    <tr>\n",
       "      <td>4</td>\n",
       "      <td>79.032736</td>\n",
       "      <td>75.344376</td>\n",
       "      <td>1</td>\n",
       "    </tr>\n",
       "  </tbody>\n",
       "</table>\n",
       "</div>"
      ],
      "text/plain": [
       "           0          1  2\n",
       "0  34.623660  78.024693  0\n",
       "1  30.286711  43.894998  0\n",
       "2  35.847409  72.902198  0\n",
       "3  60.182599  86.308552  1\n",
       "4  79.032736  75.344376  1"
      ]
     },
     "execution_count": 7,
     "metadata": {},
     "output_type": "execute_result"
    }
   ],
   "source": [
    "df.head()"
   ]
  },
  {
   "cell_type": "code",
   "execution_count": 8,
   "metadata": {},
   "outputs": [
    {
     "data": {
      "text/html": [
       "<div>\n",
       "<style scoped>\n",
       "    .dataframe tbody tr th:only-of-type {\n",
       "        vertical-align: middle;\n",
       "    }\n",
       "\n",
       "    .dataframe tbody tr th {\n",
       "        vertical-align: top;\n",
       "    }\n",
       "\n",
       "    .dataframe thead th {\n",
       "        text-align: right;\n",
       "    }\n",
       "</style>\n",
       "<table border=\"1\" class=\"dataframe\">\n",
       "  <thead>\n",
       "    <tr style=\"text-align: right;\">\n",
       "      <th></th>\n",
       "      <th>0</th>\n",
       "      <th>1</th>\n",
       "      <th>2</th>\n",
       "    </tr>\n",
       "  </thead>\n",
       "  <tbody>\n",
       "    <tr>\n",
       "      <td>count</td>\n",
       "      <td>100.000000</td>\n",
       "      <td>100.000000</td>\n",
       "      <td>100.000000</td>\n",
       "    </tr>\n",
       "    <tr>\n",
       "      <td>mean</td>\n",
       "      <td>65.644274</td>\n",
       "      <td>66.221998</td>\n",
       "      <td>0.600000</td>\n",
       "    </tr>\n",
       "    <tr>\n",
       "      <td>std</td>\n",
       "      <td>19.458222</td>\n",
       "      <td>18.582783</td>\n",
       "      <td>0.492366</td>\n",
       "    </tr>\n",
       "    <tr>\n",
       "      <td>min</td>\n",
       "      <td>30.058822</td>\n",
       "      <td>30.603263</td>\n",
       "      <td>0.000000</td>\n",
       "    </tr>\n",
       "    <tr>\n",
       "      <td>25%</td>\n",
       "      <td>50.919511</td>\n",
       "      <td>48.179205</td>\n",
       "      <td>0.000000</td>\n",
       "    </tr>\n",
       "    <tr>\n",
       "      <td>50%</td>\n",
       "      <td>67.032988</td>\n",
       "      <td>67.682381</td>\n",
       "      <td>1.000000</td>\n",
       "    </tr>\n",
       "    <tr>\n",
       "      <td>75%</td>\n",
       "      <td>80.212529</td>\n",
       "      <td>79.360605</td>\n",
       "      <td>1.000000</td>\n",
       "    </tr>\n",
       "    <tr>\n",
       "      <td>max</td>\n",
       "      <td>99.827858</td>\n",
       "      <td>98.869436</td>\n",
       "      <td>1.000000</td>\n",
       "    </tr>\n",
       "  </tbody>\n",
       "</table>\n",
       "</div>"
      ],
      "text/plain": [
       "                0           1           2\n",
       "count  100.000000  100.000000  100.000000\n",
       "mean    65.644274   66.221998    0.600000\n",
       "std     19.458222   18.582783    0.492366\n",
       "min     30.058822   30.603263    0.000000\n",
       "25%     50.919511   48.179205    0.000000\n",
       "50%     67.032988   67.682381    1.000000\n",
       "75%     80.212529   79.360605    1.000000\n",
       "max     99.827858   98.869436    1.000000"
      ]
     },
     "execution_count": 8,
     "metadata": {},
     "output_type": "execute_result"
    }
   ],
   "source": [
    "df.describe()"
   ]
  },
  {
   "cell_type": "markdown",
   "metadata": {},
   "source": [
    "### Built-in Classifier"
   ]
  },
  {
   "cell_type": "code",
   "execution_count": 4,
   "metadata": {},
   "outputs": [
    {
     "data": {
      "text/plain": [
       "0.89"
      ]
     },
     "execution_count": 4,
     "metadata": {},
     "output_type": "execute_result"
    }
   ],
   "source": [
    "clf = LogisticRegression(random_state=1,solver='lbfgs').fit(X, t)\n",
    "clf.score(X,t)"
   ]
  },
  {
   "cell_type": "markdown",
   "metadata": {},
   "source": [
    "### Plotting of Data"
   ]
  },
  {
   "cell_type": "code",
   "execution_count": 18,
   "metadata": {},
   "outputs": [
    {
     "data": {
      "text/plain": [
       "<matplotlib.legend.Legend at 0x7f90bd6c7810>"
      ]
     },
     "execution_count": 18,
     "metadata": {},
     "output_type": "execute_result"
    },
    {
     "data": {
      "image/png": "[encoded data removed]",
      "text/plain": [
       "<Figure size 432x288 with 1 Axes>"
      ]
     },
     "metadata": {
      "needs_background": "light"
     },
     "output_type": "display_data"
    }
   ],
   "source": [
    "pos , neg = (t==1).reshape(100,1) , (t==0).reshape(100,1)\n",
    "plt.scatter(X[pos[:,0],0],X[pos[:,0],1],c=\"r\",marker=\"+\")\n",
    "plt.scatter(X[neg[:,0],0],X[neg[:,0],1],marker=\"o\",s=10)\n",
    "plt.xlabel(\"Exam 1 score\")\n",
    "plt.ylabel(\"Exam 2 score\")\n",
    "plt.legend([\"Admitted\",\"Not admitted\"],loc=0)"
   ]
  },
  {
   "cell_type": "markdown",
   "metadata": {},
   "source": [
    "### Applying Newton's Method"
   ]
  },
  {
   "cell_type": "code",
   "execution_count": 19,
   "metadata": {},
   "outputs": [],
   "source": [
    "n=len(t)\n",
    "new_col=np.ones((n,1))\n",
    "X=np.append(X,new_col,1)"
   ]
  },
  {
   "cell_type": "code",
   "execution_count": 22,
   "metadata": {},
   "outputs": [],
   "source": [
    "nf=2 # number of features\n",
    "w=np.zeros((nf+1,1)) # initial weights\n",
    "iter_num=10 "
   ]
  },
  {
   "cell_type": "code",
   "execution_count": 23,
   "metadata": {},
   "outputs": [
    {
     "name": "stdout",
     "output_type": "stream",
     "text": [
      "[[ 0.0593635 ]\n",
      " [ 0.05576869]\n",
      " [-7.18998774]] \n",
      "\n",
      "[[  0.10290119]\n",
      " [  0.0973441 ]\n",
      " [-12.43910138]] \n",
      "\n",
      "[[  0.14857532]\n",
      " [  0.14284277]\n",
      " [-18.02668016]] \n",
      "\n",
      "[[  0.18678317]\n",
      " [  0.18161703]\n",
      " [-22.74581774]] \n",
      "\n",
      "[[  0.20388015]\n",
      " [  0.19906984]\n",
      " [-24.86866327]] \n",
      "\n",
      "[[  0.20619633]\n",
      " [  0.20143552]\n",
      " [-25.15692673]] \n",
      "\n",
      "[[  0.20623171]\n",
      " [  0.20147159]\n",
      " [-25.16133257]] \n",
      "\n",
      "[[  0.20623171]\n",
      " [  0.2014716 ]\n",
      " [-25.16133357]] \n",
      "\n",
      "[[  0.20623171]\n",
      " [  0.2014716 ]\n",
      " [-25.16133357]] \n",
      "\n",
      "[[  0.20623171]\n",
      " [  0.2014716 ]\n",
      " [-25.16133357]] \n",
      "\n"
     ]
    }
   ],
   "source": [
    "for i in range (0,iter_num):\n",
    "    y=sigmoid(np.matmul(X,w))\n",
    "    y_y=y*(1-y)\n",
    "\n",
    "    R=np.diag(y_y.reshape(n))\n",
    "    w1=np.matmul(np.matmul(X.transpose(),R),X)\n",
    "    w2=np.linalg.inv(w1)\n",
    "    w3=np.matmul(X.transpose(),np.subtract(y,t.reshape(n,1)))\n",
    "    w=np.subtract(w,np.matmul(w2,w3))\n",
    "    print(w, \"\\n\")"
   ]
  },
  {
   "cell_type": "code",
   "execution_count": 24,
   "metadata": {},
   "outputs": [],
   "source": [
    "def y(x1,x2):\n",
    "\treturn sigmoid(w[0]*x1+w[1]*x2+w[2])"
   ]
  },
  {
   "cell_type": "code",
   "execution_count": 31,
   "metadata": {},
   "outputs": [
    {
     "name": "stdout",
     "output_type": "stream",
     "text": [
      "[0.28116559]\n"
     ]
    }
   ],
   "source": [
    "print(y(52,67))"
   ]
  },
  {
   "cell_type": "markdown",
   "metadata": {},
   "source": [
    "### Plotting the decision boundary"
   ]
  },
  {
   "cell_type": "code",
   "execution_count": 33,
   "metadata": {},
   "outputs": [
    {
     "data": {
      "text/plain": [
       "Text(0, 0.5, 'Exam 2 score')"
      ]
     },
     "execution_count": 33,
     "metadata": {},
     "output_type": "execute_result"
    },
    {
     "data": {
      "image/png": "[encoded data removed]",
      "text/plain": [
       "<Figure size 432x288 with 1 Axes>"
      ]
     },
     "metadata": {
      "needs_background": "light"
     },
     "output_type": "display_data"
    }
   ],
   "source": [
    "pos , neg = (t==1).reshape(100,1) , (t==0).reshape(100,1)\n",
    "plt.scatter(X[pos[:,0],0],X[pos[:,0],1],c=\"r\",marker=\"+\")\n",
    "plt.scatter(X[neg[:,0],0],X[neg[:,0],1],marker=\"o\",s=10)\n",
    "x_value= np.array([np.min(X[:,1]),np.max(X[:,1])])\n",
    "y_value=-(w[0]*x_value+w[2])/w[1]\n",
    "plt.plot(x_value,y_value, \"g\")\n",
    "plt.xlabel(\"Exam 1 score\")\n",
    "plt.ylabel(\"Exam 2 score\")\n",
    "#plt.legend([\"Admitted\",\"Not admitted\"],loc=0)"
   ]
  },
  {
   "cell_type": "markdown",
   "metadata": {},
   "source": [
    "### Predictions and Accuracy"
   ]
  },
  {
   "cell_type": "code",
   "execution_count": 44,
   "metadata": {},
   "outputs": [],
   "source": [
    "y_pred=(sigmoid(X.dot(w)).round()).reshape([1,100])"
   ]
  },
  {
   "cell_type": "code",
   "execution_count": 45,
   "metadata": {},
   "outputs": [
    {
     "data": {
      "text/plain": [
       "array([[0., 0., 0., 1., 1., 0., 1., 0., 1., 1., 1., 0., 1., 1., 0., 1.,\n",
       "        0., 0., 1., 1., 0., 1., 0., 0., 1., 1., 1., 1., 0., 0., 1., 1.,\n",
       "        0., 0., 0., 0., 1., 1., 0., 0., 1., 0., 1., 1., 0., 0., 1., 1.,\n",
       "        1., 1., 1., 1., 1., 0., 0., 0., 1., 1., 1., 1., 1., 0., 0., 0.,\n",
       "        0., 0., 1., 0., 1., 1., 0., 1., 1., 1., 1., 1., 1., 1., 0., 1.,\n",
       "        1., 1., 1., 0., 1., 1., 0., 1., 1., 0., 1., 1., 0., 1., 1., 1.,\n",
       "        1., 1., 0., 1.]])"
      ]
     },
     "execution_count": 45,
     "metadata": {},
     "output_type": "execute_result"
    }
   ],
   "source": [
    "y_pred"
   ]
  },
  {
   "cell_type": "code",
   "execution_count": 37,
   "metadata": {},
   "outputs": [
    {
     "data": {
      "text/plain": [
       "array([0, 0, 0, 1, 1, 0, 1, 1, 1, 1, 0, 0, 1, 1, 0, 1, 1, 0, 1, 1, 0, 1,\n",
       "       0, 0, 1, 1, 1, 0, 0, 0, 1, 1, 0, 1, 0, 0, 0, 1, 0, 0, 1, 0, 1, 0,\n",
       "       0, 0, 1, 1, 1, 1, 1, 1, 1, 0, 0, 0, 1, 0, 1, 1, 1, 0, 0, 0, 0, 0,\n",
       "       1, 0, 1, 1, 0, 1, 1, 1, 1, 1, 1, 1, 0, 0, 1, 1, 1, 1, 1, 1, 0, 1,\n",
       "       1, 0, 1, 1, 0, 1, 1, 1, 1, 1, 1, 1])"
      ]
     },
     "execution_count": 37,
     "metadata": {},
     "output_type": "execute_result"
    }
   ],
   "source": [
    "t"
   ]
  },
  {
   "cell_type": "code",
   "execution_count": 49,
   "metadata": {},
   "outputs": [
    {
     "name": "stdout",
     "output_type": "stream",
     "text": [
      "Train Accuracy: 89 %\n"
     ]
    }
   ],
   "source": [
    "print(\"Train Accuracy:\", sum(t==y_pred[0]),\"%\")"
   ]
  },
  {
   "cell_type": "markdown",
   "metadata": {},
   "source": [
    "### Exercise: Write a code for Gradient Descent"
   ]
  },
  {
   "cell_type": "code",
   "execution_count": null,
   "metadata": {},
   "outputs": [],
   "source": []
  }
 ],
 "metadata": {
  "kernelspec": {
   "display_name": "Python 3",
   "language": "python",
   "name": "python3"
  },
  "language_info": {
   "codemirror_mode": {
    "name": "ipython",
    "version": 3
   },
   "file_extension": ".py",
   "mimetype": "text/x-python",
   "name": "python",
   "nbconvert_exporter": "python",
   "pygments_lexer": "ipython3",
   "version": "3.7.4"
  }
 },
 "nbformat": 4,
 "nbformat_minor": 2
}
