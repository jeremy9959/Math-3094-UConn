{
 "cells": [
  {
   "cell_type": "code",
   "execution_count": null,
   "metadata": {},
   "outputs": [],
   "source": [
    "from sklearn.linear_model import LogisticRegression\n",
    "from sklearn.model_selection import train_test_split\n",
    "from bokeh.plotting import figure, output_notebook, show\n",
    "from bokeh.transform import linear_cmap\n",
    "from bokeh.models import CategoricalColorMapper, ColumnDataSource\n",
    "from bokeh.io import export_png\n",
    "output_notebook()\n",
    "import numpy as np\n",
    "import pandas as pd\n"
   ]
  },
  {
   "cell_type": "code",
   "execution_count": null,
   "metadata": {},
   "outputs": [],
   "source": [
    "df=pd.read_csv(\"Default.csv\",index_col=0)"
   ]
  },
  {
   "cell_type": "code",
   "execution_count": null,
   "metadata": {},
   "outputs": [],
   "source": [
    "df['student']=df['student'].apply(lambda x: int(x=='Yes'))\n",
    "df['default']=df['default'].apply(lambda x: int(x=='Yes'))\n",
    "df['income']=df['income'].apply(lambda x: x/1000)\n",
    "df['balance']=df['balance'].apply(lambda x: x/10)"
   ]
  },
  {
   "cell_type": "code",
   "execution_count": null,
   "metadata": {},
   "outputs": [],
   "source": [
    "source = ColumnDataSource(df[df['student']==1])\n",
    "mapper = linear_cmap(field_name='default',palette=['red','black'],low=0,high=1)"
   ]
  },
  {
   "cell_type": "code",
   "execution_count": null,
   "metadata": {},
   "outputs": [],
   "source": [
    "fig=figure(title='Loan Balances and Income (black=default)',x_axis_label='Balance (10$)', y_axis_label='Income (1000$)',y_range=[0,35])\n",
    "fig.scatter(x='balance',y='income',source=source,color=mapper)\n",
    "show(fig)"
   ]
  },
  {
   "cell_type": "code",
   "execution_count": null,
   "metadata": {},
   "outputs": [],
   "source": [
    "X=df[df['student']==1][['balance','income']].values\n",
    "Y=df[df['student']==1]['default'].values"
   ]
  },
  {
   "cell_type": "code",
   "execution_count": null,
   "metadata": {},
   "outputs": [],
   "source": [
    "X_train,X_test,Y_train,Y_test = train_test_split(X,Y)\n",
    "L=LogisticRegression()\n",
    "L.fit(X,Y)"
   ]
  },
  {
   "cell_type": "code",
   "execution_count": null,
   "metadata": {},
   "outputs": [],
   "source": [
    "print(f\"intercept={L.intercept_}, weights={L.coef_}\")"
   ]
  },
  {
   "cell_type": "code",
   "execution_count": null,
   "metadata": {},
   "outputs": [],
   "source": [
    "x=np.linspace(0,250,40)\n",
    "y=-L.intercept_[0]\n",
    "y=(-L.intercept_[0]-L.coef_[0,0]*x)/L.coef_[0,1]\n",
    "y2=(np.log(2)-L.intercept_[0]-L.coef_[0,0]*x)/L.coef_[0,1]\n",
    "y3=(-np.log(2)-L.intercept_[0]-L.coef_[0,0]*x)/L.coef_[0,1]\n",
    "fig2=figure(title='Loan Balances and Income (black=default)',x_axis_label='Balance (10$)', y_axis_label='Income (1000$)',y_range=[0,35])\n",
    "fig2.scatter(x='balance',y='income',source=source,color=mapper)\n",
    "fig2.line(x=x,y=y,color='blue',line_width=2)\n",
    "fig2.line(x=x,y=y2,color='green',line_dash='dashed')\n",
    "fig2.line(x=x,y=y3,color='green',line_dash='dashed')\n",
    "show(fig2)\n",
    "export_png(fig,filename='scatter_default.png')\n",
    "export_png(fig2,filename='scatter_default_with_line.png')"
   ]
  },
  {
   "cell_type": "code",
   "execution_count": null,
   "metadata": {},
   "outputs": [],
   "source": []
  }
 ],
 "metadata": {
  "kernelspec": {
   "display_name": "python310",
   "language": "python",
   "name": "python3"
  },
  "language_info": {
   "codemirror_mode": {
    "name": "ipython",
    "version": 3
   },
   "file_extension": ".py",
   "mimetype": "text/x-python",
   "name": "python",
   "nbconvert_exporter": "python",
   "pygments_lexer": "ipython3",
   "version": "3.9.15"
  },
  "orig_nbformat": 4
 },
 "nbformat": 4,
 "nbformat_minor": 2
}
